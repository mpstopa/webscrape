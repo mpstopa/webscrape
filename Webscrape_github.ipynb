{
 "cells": [
  {
   "cell_type": "markdown",
   "metadata": {},
   "source": [
    "###### Webscrape_github\n",
    "This is a cleaned up version of my webscrape code that takes a set\n",
    "or urls of startup companies typically downloaded from Crunchbase \n",
    "with a given search pattern and scrapes the text from the front page:\n",
    ">sitep=response.xpath('//p/text()').getall()\n",
    "\n",
    "The spider MySpider first modifies the input url list (which is\n",
    "accompanied by other data from Crunchbase including\n",
    ">'Organization Name','Headquarters Location','Full Description','Website')\n",
    "\n",
    "and removes non-US companies and cleans up for nan records.\n",
    "\n",
    "The parse function takes the response and pulls off the text\n",
    "and the urls and also replaces unreadable characters (possibly\n",
    "this would not be necessary with proper specification of \n",
    "file code as utf-8).\n",
    "\n",
    "The principal output is a file that includes, for each record, the\n",
    "scraped url, the company name and the text. The current name is\n",
    "Ptotal_v2.cor.\n",
    "\n",
    "Currently, searches (such as \"inkjet\") when successful go to basic pipeline\n",
    "and get stuff printed out in a separate file."
   ]
  },
  {
   "cell_type": "code",
   "execution_count": 1,
   "metadata": {},
   "outputs": [],
   "source": [
    "import scrapy\n",
    "import logging\n",
    "import json\n",
    "from scrapy.crawler import CrawlerProcess\n",
    "import pandas as pd\n",
    "from pandas import read_csv\n",
    "import csv\n",
    "from scrapy.shell import inspect_response\n",
    "import numpy as np\n",
    "from scrapy.pipelines.images import ImagesPipeline\n",
    "from scrapy.selector import Selector\n",
    "import difflib"
   ]
  },
  {
   "cell_type": "code",
   "execution_count": 2,
   "metadata": {},
   "outputs": [],
   "source": [
    "class BasicPipeline(object):\n",
    "    \n",
    "    def open_spider(self,spider):\n",
    "        self.file = open('Ptotal_v2.txt','w')\n",
    "        \n",
    "    def close_spider(self,spider):\n",
    "        self.file.close()\n",
    "        \n",
    "    def process_item(self,item,spider):\n",
    "        line=str(item)\n",
    "        self.file.write(line + \"\\n\")\n",
    "        return item"
   ]
  },
  {
   "cell_type": "code",
   "execution_count": 3,
   "metadata": {},
   "outputs": [],
   "source": [
    "class MyNewPipeline(object):\n",
    "    \n",
    "    def open_spider(self,spider):\n",
    "        self.file = open('items2.jl', 'wb')\n",
    "        \n",
    "    def close_spider(self, spider):\n",
    "        self.file.close()\n",
    "        \n",
    "    def process_item(self,item,spider):\n",
    "        print('processing',dict(item))\n",
    "        line = json.dumps(dict(item)) + \" new \" + \"\\n\"\n",
    "        self.file.write(line)\n",
    "        return item"
   ]
  },
  {
   "cell_type": "code",
   "execution_count": 4,
   "metadata": {},
   "outputs": [],
   "source": [
    "class ItemCollectorPipeline(object):\n",
    "    def __init__(self):\n",
    "        self.ids_seen = set()\n",
    "        \n",
    "    def process_item(self,item,spider):\n",
    "        print(\"ItemCollector\")\n",
    "        items.append(item)"
   ]
  },
  {
   "cell_type": "code",
   "execution_count": 5,
   "metadata": {},
   "outputs": [],
   "source": [
    "class ImageItem(scrapy.Item):\n",
    "    images = scrapy.Field()\n",
    "    image_urls = scrapy.Field()"
   ]
  },
  {
   "cell_type": "code",
   "execution_count": 6,
   "metadata": {},
   "outputs": [],
   "source": [
    "class ItemTest(scrapy.Item):\n",
    "    Organization = scrapy.Field()\n",
    "    url = scrapy.Field()\n",
    "    robot = scrapy.Field()\n",
    "    machine = scrapy.Field()\n",
    "    tinyML = scrapy.Field()\n",
    "    brain = scrapy.Field()\n",
    "    food = scrapy.Field()\n",
    "    textout = scrapy.Field()"
   ]
  },
  {
   "cell_type": "code",
   "execution_count": 7,
   "metadata": {},
   "outputs": [],
   "source": [
    "class Print_Item(scrapy.Item):\n",
    "    Organization = scrapy.Field()\n",
    "    url = scrapy.Field()\n",
    "    ThreeDP = scrapy.Field()\n",
    "    inkjet = scrapy.Field()\n",
    "    digitalP = scrapy.Field()\n",
    "    biomaterials = scrapy.Field()\n",
    "    food = scrapy.Field()\n",
    "    ScreenPrinting = scrapy.Field()\n",
    "    textout = scrapy.Field()\n",
    "    searchterm = scrapy.Field()\n",
    "    fulltext = scrapy.Field()"
   ]
  },
  {
   "cell_type": "code",
   "execution_count": 8,
   "metadata": {},
   "outputs": [],
   "source": [
    "class Scrapy2Item(scrapy.Item):\n",
    "    title = scrapy.Field()\n",
    "    image_urls = scrapy.Field()\n",
    "    sku = scrapy.Field()\n",
    "\n",
    "class Scrapy2Pipeline(ImagesPipeline):\n",
    "    def get_media_requests(self, item, info):\n",
    "        return [scrapy.Request(x, meta={'image_name': item['sku']})\n",
    "                for x in item.get('image_urls', [])]\n",
    "\n",
    "    def file_path(self, request, response=None, info=None):\n",
    "        return '%s.jpg' % request.meta['image_name']"
   ]
  },
  {
   "cell_type": "code",
   "execution_count": 9,
   "metadata": {},
   "outputs": [
    {
     "name": "stdout",
     "output_type": "stream",
     "text": [
      "df.shape (14486, 3) Beijing, Beijing, China\n",
      "dfT.shape (14486, 2)\n",
      "df2n.shape (4854, 3) dfT2n.shape (4854, 2)\n"
     ]
    }
   ],
   "source": [
    "class MySpider(scrapy.Spider):\n",
    "    name = \"startups\"\n",
    "    \n",
    "# read crunchbase file and pick off websites\n",
    "    dataset1=read_csv('C:/Users/MStopa/WebScraping&Crunchbase/WebScraping&Crunchbase/Crunchbase/Printing/Printingtot_v4.csv')\n",
    "    df=dataset1[['Organization Name','Headquarters Location','Website']]\n",
    "    dfT=dataset1[['Full Description','Website']]\n",
    "    dfn=df.to_numpy()\n",
    "    dfTn=dfT.to_numpy()\n",
    "    dfnl=dfn.tolist()\n",
    "    dfTnl=dfTn.tolist()\n",
    "    print('df.shape',df.shape,dfnl[3][1])\n",
    "    print('dfT.shape',dfT.shape)\n",
    "    ii1=-1\n",
    "    ii2=-1\n",
    "    ii3=-1\n",
    "    df2=[]\n",
    "    dfT2=[]\n",
    "    for kk in range(dfn.shape[0]): # eliminate nans, specify U.S.\n",
    "        if str(dfn[kk,2]) != 'nan' and str(dfn[kk,1]) != 'nan': # use numpy for tests\n",
    "            if 'United States' in dfn[kk,1]:\n",
    "                ii1+=1\n",
    "                df2.append(dfnl[kk][:]) # use lists for appending (not easy with numpy)\n",
    "                dfT2.append(dfTnl[kk][:])\n",
    "            else:\n",
    "                ii2+=1\n",
    "        else:\n",
    "            ii3+=1\n",
    "\n",
    "\n",
    "#    print('ii1',ii1,'ii2',ii2,'ii3',ii3)\n",
    "    df2n=np.array(df2) # convert list to numpy - easier to slice\n",
    "    dfT2n=np.array(dfT2)\n",
    "    print('df2n.shape',df2n.shape,'dfT2n.shape',dfT2n.shape)\n",
    "    minc=0\n",
    "    maxc=df2n.shape[0]\n",
    "    fulltextCB=dfT2n[minc:maxc,0]\n",
    "    companies=df2n[minc:maxc,0].tolist() # slice numpy array, change it to a list\n",
    "    start_urlsB=df2n[minc:maxc,2] # numpy - this is an intermediate step, start_urlsB no longer used\n",
    "    start_urls=start_urlsB.tolist() # basic starting urls for scrapy - limited to U.S., nans eliminated\n",
    "    iout1=-1\n",
    "    iout2=-1\n",
    "\n",
    "    custom_settings = {\n",
    "        'LOG_LEVEL': logging.DEBUG,\n",
    "        'ITEM_PIPELINES':{'__main__.ItemCollectorPipeline':10},\n",
    "        'ITEM_PIPELINES':{'scrapy.pipelines.images.ImagesPipeline':100},\n",
    "        'ITEM_PIPELINES':{'MyNewPipeline':6},\n",
    "        'ITEM_PIPELINES':{'__main__.BasicPipeline':4},\n",
    "    }\n",
    "    \n",
    "    count=0\n",
    "    url_list=[]\n",
    "    def parse(self, response):\n",
    "        search1='/technology'\n",
    "        search2='careers'\n",
    "        search_list1=['inkjet head','digital printing','ink materials','additive manufacturing',\\\n",
    "                     'direct digital printing','biomaterials','printing for food','screen printing',\\\n",
    "                    'robotic arm','digital manufacturing','inkjet','dimatix']\n",
    "        search_list2=['webscraping']\n",
    "        search_list=search_list1\n",
    "        sitep=response.xpath('//p/text()').getall()\n",
    "        siteHref=response.xpath('//a/@href').getall()\n",
    "        badchars = [\"\\U0001f48c\",\"\\U0001f4f1\",\"\\u2011\",\"\\u301d\",\"\\ufb01\",\"\\u2023\",\"\\u011f\",\"\\u1ea3\",\"\\U0001f973\",\\\n",
    "                    \"\\U0001f973\",\"\\U0001f4da\",\"\\U0001f33f\",\"\\u2192\",\"\\u200d\",\"\\u2028\",\"\\u24d2\",\"\\u2011\",\\\n",
    "                   \"\\u010d\",\"\\U0001f64c\",\"\\u200b\",\"\\ufb02\",\"\\ufeff\",\"\\u202f\",\"u2070\",\"\\u2009\",\\\n",
    "                    \"\\u03bc\",\"\\u27a1\",\"\\u2033\",\"\\U0001f600\",\"\\n\",\"\\t\",\"\\r\"]\n",
    "        bcnum=len(badchars)\n",
    "\n",
    "        for idx,string1 in enumerate(sitep):\n",
    "            for jj in range(bcnum):\n",
    "                string1 = string1.replace(badchars[jj],'')\n",
    "\n",
    "            string1 = string1.replace(u'xa0',u' ')\n",
    "\n",
    "            if string1:\n",
    "                if string1[-1] != '.':\n",
    "                    string1 += '.'\n",
    "                    \n",
    "            sitep[idx]=string1\n",
    "            \n",
    "        for idy, string2 in enumerate(siteHref):\n",
    "            first_hit=False\n",
    "            if search1 == string2 and not(first_hit): # is 'technology' in any of the scraped links?\n",
    "                first_hit=True\n",
    "                technology_page=response.urljoin(string2) # cf https://docs.scrapy.org/en/latest/intro/tutorial.html\n",
    "                yield scrapy.Request(technology_page, callback=self.parse)\n",
    "                \n",
    "                    \n",
    "        out1=' '.join(sitep)\n",
    "\n",
    "        site_url=response.url\n",
    "        site_url_close=difflib.get_close_matches(site_url,self.start_urls,cutoff=0.2) # http -> https e.g.\n",
    "        print('site_url',site_url,'site_url_close',site_url_close)\n",
    "\n",
    "        if site_url_close:\n",
    "            print('site_url_close[0]',site_url_close[0])\n",
    "            site_urlB=site_url_close[0]\n",
    "        else:\n",
    "             site_urlB=site_url\n",
    "\n",
    "        if site_urlB in self.start_urls:\n",
    "            ii = self.start_urls.index(site_urlB)\n",
    "        else:\n",
    "            ii=-1\n",
    "\n",
    "        print('ii',ii,'self.companies[ii]',self.companies[ii])\n",
    "            \n",
    "        items=Print_Item()\n",
    "        \n",
    "        for idz,search_term in enumerate(search_list):\n",
    "            result1 = [elem for elem in sitep if search_term in elem]\n",
    "            if result1:\n",
    "                self.url_list.append(response.url)\n",
    "                items['searchterm']=search_term\n",
    "                items['Organization']=self.companies[ii]\n",
    "                items['fulltext']=self.fulltextCB[ii]\n",
    "                items['url']=response.url\n",
    "                print('yielding item',search_term)\n",
    "                yield items\n",
    "                \n",
    "        if out1:\n",
    "            self.iout1+=1\n",
    "            print('out1 true iout1',self.iout1,'url',site_url)\n",
    "            file1=open(\"Ptotal_v2.cor\",'a')\n",
    "            out1=out1.lstrip(' ')\n",
    "            if ii != -1: # is there a close match to this url in start_urls?\n",
    "                out2=site_url + ' ' + self.companies[ii] + ' ' + out1\n",
    "            else:\n",
    "                out2=site_url + out1 # the url for this presumably sub-page cannot be identified \n",
    "\n",
    "            file1.write(out2 + '\\n')\n",
    "        else:\n",
    "            self.iout2+=1\n",
    "            print('out1 false iout2',self.iout2,'url',site_url)\n",
    "\n",
    "        print('companies[0]',self.companies[self.count],'this url',response.url)\n",
    "        self.count+=1\n"
   ]
  },
  {
   "cell_type": "code",
   "execution_count": null,
   "metadata": {
    "scrolled": true
   },
   "outputs": [
    {
     "name": "stderr",
     "output_type": "stream",
     "text": [
      "2021-11-30 16:35:13 [scrapy.utils.log] INFO: Scrapy 2.2.0 started (bot: scrapybot)\n",
      "2021-11-30 16:35:13 [scrapy.utils.log] INFO: Versions: lxml 4.5.2.0, libxml2 2.9.10, cssselect 1.1.0, parsel 1.6.0, w3lib 1.22.0, Twisted 20.3.0, Python 3.6.10 |Anaconda, Inc.| (default, May  7 2020, 19:46:08) [MSC v.1916 64 bit (AMD64)], pyOpenSSL 19.1.0 (OpenSSL 1.1.1l  24 Aug 2021), cryptography 2.9.2, Platform Windows-10-10.0.19041-SP0\n",
      "2021-11-30 16:35:13 [scrapy.utils.log] DEBUG: Using reactor: twisted.internet.selectreactor.SelectReactor\n",
      "2021-11-30 16:35:13 [scrapy.crawler] INFO: Overridden settings:\n",
      "{'DOWNLOAD_DELAY': 8, 'DOWNLOAD_MAXSIZE': 0, 'LOG_LEVEL': 10}\n",
      "2021-11-30 16:35:14 [scrapy.extensions.telnet] INFO: Telnet Password: 9e55cfd9e8fb09e1\n",
      "2021-11-30 16:35:14 [scrapy.middleware] INFO: Enabled extensions:\n",
      "['scrapy.extensions.corestats.CoreStats',\n",
      " 'scrapy.extensions.telnet.TelnetConsole',\n",
      " 'scrapy.extensions.logstats.LogStats']\n",
      "2021-11-30 16:35:16 [scrapy.middleware] INFO: Enabled downloader middlewares:\n",
      "['scrapy.downloadermiddlewares.httpauth.HttpAuthMiddleware',\n",
      " 'scrapy.downloadermiddlewares.downloadtimeout.DownloadTimeoutMiddleware',\n",
      " 'scrapy.downloadermiddlewares.defaultheaders.DefaultHeadersMiddleware',\n",
      " 'scrapy.downloadermiddlewares.useragent.UserAgentMiddleware',\n",
      " 'scrapy.downloadermiddlewares.retry.RetryMiddleware',\n",
      " 'scrapy.downloadermiddlewares.redirect.MetaRefreshMiddleware',\n",
      " 'scrapy.downloadermiddlewares.httpcompression.HttpCompressionMiddleware',\n",
      " 'scrapy.downloadermiddlewares.redirect.RedirectMiddleware',\n",
      " 'scrapy.downloadermiddlewares.cookies.CookiesMiddleware',\n",
      " 'scrapy.downloadermiddlewares.httpproxy.HttpProxyMiddleware',\n",
      " 'scrapy.downloadermiddlewares.stats.DownloaderStats']\n",
      "2021-11-30 16:35:16 [scrapy.middleware] INFO: Enabled spider middlewares:\n",
      "['scrapy.spidermiddlewares.httperror.HttpErrorMiddleware',\n",
      " 'scrapy.spidermiddlewares.offsite.OffsiteMiddleware',\n",
      " 'scrapy.spidermiddlewares.referer.RefererMiddleware',\n",
      " 'scrapy.spidermiddlewares.urllength.UrlLengthMiddleware',\n",
      " 'scrapy.spidermiddlewares.depth.DepthMiddleware']\n",
      "2021-11-30 16:35:16 [scrapy.middleware] INFO: Enabled item pipelines:\n",
      "['__main__.BasicPipeline']\n",
      "2021-11-30 16:35:16 [scrapy.core.engine] INFO: Spider opened\n",
      "2021-11-30 16:35:16 [scrapy.extensions.logstats] INFO: Crawled 0 pages (at 0 pages/min), scraped 0 items (at 0 items/min)\n",
      "2021-11-30 16:35:16 [scrapy.extensions.telnet] INFO: Telnet console listening on 127.0.0.1:6023\n",
      "2021-11-30 16:35:16 [scrapy.downloadermiddlewares.redirect] DEBUG: Redirecting (301) to <GET https://www.vitrolabsinc.com/> from <GET http://www.vitrolabsinc.com/>\n",
      "2021-11-30 16:35:17 [scrapy.core.engine] DEBUG: Crawled (200) <GET http://www.evolveadditive.com/> (referer: None)\n",
      "2021-11-30 16:35:17 [scrapy.core.engine] DEBUG: Crawled (200) <GET https://www.printforia.com> (referer: None)\n",
      "2021-11-30 16:35:17 [scrapy.core.engine] DEBUG: Crawled (200) <GET https://inkbit3d.com/> (referer: None)\n",
      "2021-11-30 16:35:17 [scrapy.core.downloader.tls] WARNING: Remote certificate is not valid for hostname \"www.digitalalloys.com\"; VerificationError(errors=[DNSMismatch(mismatched_id=DNS_ID(hostname=b'www.digitalalloys.com'))])\n",
      "2021-11-30 16:35:17 [scrapy.downloadermiddlewares.redirect] DEBUG: Redirecting (301) to <GET https://3dfortify.com/> from <GET https://www.3dfortify.com>\n"
     ]
    },
    {
     "name": "stdout",
     "output_type": "stream",
     "text": [
      "site_url http://www.evolveadditive.com/ site_url_close ['http://www.evolveadditive.com/', 'http://www.cosineadditive.com/', 'https://www.lvadhesive.com/']\n",
      "site_url_close[0] http://www.evolveadditive.com/\n",
      "ii 3 self.companies[ii] Evolve Additive Solutions\n",
      "out1 true iout1 0 url http://www.evolveadditive.com/\n",
      "companies[0] VitroLabs this url http://www.evolveadditive.com/\n"
     ]
    },
    {
     "name": "stderr",
     "output_type": "stream",
     "text": [
      "2021-11-30 16:35:18 [scrapy.core.engine] DEBUG: Crawled (200) <GET https://www.azul3d.com/> (referer: None)\n",
      "2021-11-30 16:35:18 [scrapy.core.engine] DEBUG: Crawled (404) <GET https://www.digitalalloys.com/> (referer: None)\n",
      "2021-11-30 16:35:18 [scrapy.downloadermiddlewares.redirect] DEBUG: Redirecting (301) to <GET https://www.sterblue.com/> from <GET http://www.sterblue.com/>\n",
      "2021-11-30 16:35:18 [scrapy.dupefilters] DEBUG: Filtered duplicate request: <GET https://inkbit3d.com/technology> - no more duplicates will be shown (see DUPEFILTER_DEBUG to show all duplicates)\n"
     ]
    },
    {
     "name": "stdout",
     "output_type": "stream",
     "text": [
      "site_url https://www.printforia.com site_url_close ['https://www.printforia.com', 'https://www.printfp.com', 'https://www.printful.com']\n",
      "site_url_close[0] https://www.printforia.com\n",
      "ii 4 self.companies[ii] Printforia\n",
      "out1 true iout1 1 url https://www.printforia.com\n",
      "companies[0] Essentium this url https://www.printforia.com\n"
     ]
    },
    {
     "name": "stderr",
     "output_type": "stream",
     "text": [
      "2021-11-30 16:35:18 [scrapy.downloadermiddlewares.redirect] DEBUG: Redirecting (301) to <GET https://digifabster.com:443/> from <GET http://digifabster.com>\n",
      "2021-11-30 16:35:18 [scrapy.core.engine] DEBUG: Crawled (200) <GET https://www.pacificlightandhologram.com/> (referer: None)\n",
      "2021-11-30 16:35:18 [scrapy.spidermiddlewares.httperror] INFO: Ignoring response <404 https://www.digitalalloys.com/>: HTTP status code is not handled or not allowed\n"
     ]
    },
    {
     "name": "stdout",
     "output_type": "stream",
     "text": [
      "site_url https://inkbit3d.com/ site_url_close ['https://inkbit3d.com/', 'http://inkbig.com', 'http://inkd.com']\n",
      "site_url_close[0] https://inkbit3d.com/\n",
      "ii 2 self.companies[ii] Inkbit\n",
      "out1 true iout1 2 url https://inkbit3d.com/\n",
      "companies[0] Inkbit this url https://inkbit3d.com/\n"
     ]
    },
    {
     "name": "stderr",
     "output_type": "stream",
     "text": [
      "2021-11-30 16:35:19 [scrapy.downloadermiddlewares.redirect] DEBUG: Redirecting (301) to <GET https://polyspectra.com/> from <GET https://www.polyspectra.com>\n",
      "2021-11-30 16:35:19 [scrapy.core.engine] DEBUG: Crawled (200) <GET https://www.essentium.com> (referer: None)\n",
      "2021-11-30 16:35:19 [scrapy.core.engine] DEBUG: Crawled (200) <GET https://www.printerprezz.com/> (referer: None)\n",
      "2021-11-30 16:35:19 [scrapy.core.engine] DEBUG: Crawled (200) <GET https://bmf3d.com> (referer: None)\n"
     ]
    },
    {
     "name": "stdout",
     "output_type": "stream",
     "text": [
      "site_url https://www.azul3d.com/ site_url_close ['https://www.azul3d.com/', 'https://www.laz3d.com', 'https://www.nwa3d.com/']\n",
      "site_url_close[0] https://www.azul3d.com/\n",
      "ii 8 self.companies[ii] Azul 3D\n",
      "out1 true iout1 3 url https://www.azul3d.com/\n",
      "companies[0] Evolve Additive Solutions this url https://www.azul3d.com/\n"
     ]
    },
    {
     "name": "stderr",
     "output_type": "stream",
     "text": [
      "2021-11-30 16:35:19 [scrapy.downloadermiddlewares.redirect] DEBUG: Redirecting (301) to <GET https://www.womp.xyz/> from <GET https://womp.xyz/>\n",
      "2021-11-30 16:35:19 [scrapy.core.engine] DEBUG: Crawled (200) <GET https://www.wazer.com> (referer: None)\n",
      "2021-11-30 16:35:19 [scrapy.downloadermiddlewares.redirect] DEBUG: Redirecting (301) to <GET https://riven.ai/> from <GET https://www.riven.ai/>\n"
     ]
    },
    {
     "name": "stdout",
     "output_type": "stream",
     "text": [
      "site_url https://www.pacificlightandhologram.com/ site_url_close ['https://www.pacificlightandhologram.com/', 'https://www.phoenixlighting.com/', 'https://www.mailing.com/']\n",
      "site_url_close[0] https://www.pacificlightandhologram.com/\n",
      "ii 9 self.companies[ii] Pacific Light & Hologram\n",
      "out1 true iout1 4 url https://www.pacificlightandhologram.com/\n",
      "companies[0] Printforia this url https://www.pacificlightandhologram.com/\n"
     ]
    },
    {
     "name": "stderr",
     "output_type": "stream",
     "text": [
      "2021-11-30 16:35:20 [scrapy.core.scraper] DEBUG: Scraped from <200 https://www.essentium.com>\r\n",
      "{'Organization': 'Essentium',\n",
      " 'fulltext': 'Essentium is an innovator in both engineering filament materials and industrial additive manufacturing platforms. Its new generation of automated high-speed industrial production system combines performance, accuracy, reliability, and economics. BASF and Essentium partner to establish a consistent global materials supply chain supportive of Essentium’s High Speed Extrusion (HSE) and FlashfuseTM plasma technologies to enable additive manufacturing scalability. The company was founded in 2018 and is based in College Station, Texas.',\n",
      " 'searchterm': 'additive manufacturing',\n",
      " 'url': 'https://www.essentium.com'}\n"
     ]
    },
    {
     "name": "stdout",
     "output_type": "stream",
     "text": [
      "site_url https://www.essentium.com site_url_close ['https://www.essentium.com', 'https://www.scsuntimes.com', 'https://www.sos-nm.com']\n",
      "site_url_close[0] https://www.essentium.com\n",
      "ii 1 self.companies[ii] Essentium\n",
      "yielding item additive manufacturing\n",
      "site_url https://www.printerprezz.com/ site_url_close ['https://www.printerprezz.com/', 'https://www.printergy.com/', 'http://www.printerpresence.com/']\n",
      "site_url_close[0] https://www.printerprezz.com/\n",
      "ii 6 self.companies[ii] PrinterPrezz\n",
      "out1 true iout1 5 url https://www.printerprezz.com/\n",
      "companies[0] Fortify this url https://www.printerprezz.com/\n"
     ]
    },
    {
     "name": "stderr",
     "output_type": "stream",
     "text": [
      "2021-11-30 16:35:20 [scrapy.core.engine] DEBUG: Crawled (530) <GET https://www.inklocker.com> (referer: None)\n",
      "2021-11-30 16:35:20 [scrapy.downloadermiddlewares.retry] DEBUG: Retrying <GET http://adambiorpinting.com> (failed 1 times): DNS lookup failed: no results for hostname lookup: adambiorpinting.com.\n"
     ]
    },
    {
     "name": "stdout",
     "output_type": "stream",
     "text": [
      "site_url https://bmf3d.com site_url_close ['https://bmf3d.com', 'http://morf3d.com/', 'https://wbf.com/']\n",
      "site_url_close[0] https://bmf3d.com\n",
      "ii 14 self.companies[ii] BMF Precision\n",
      "out1 true iout1 6 url https://bmf3d.com\n",
      "companies[0] PrinterPrezz this url https://bmf3d.com\n",
      "out1 true iout1 7 url https://www.essentium.com\n",
      "companies[0] Digital Alloys this url https://www.essentium.com\n"
     ]
    },
    {
     "name": "stderr",
     "output_type": "stream",
     "text": [
      "2021-11-30 16:35:21 [scrapy.core.engine] DEBUG: Crawled (200) <GET https://r3printing.com/> (referer: None)\n",
      "2021-11-30 16:35:21 [scrapy.spidermiddlewares.httperror] INFO: Ignoring response <530 https://www.inklocker.com>: HTTP status code is not handled or not allowed\n",
      "2021-11-30 16:35:21 [scrapy.core.engine] DEBUG: Crawled (200) <GET https://www.fortiusmetals.com/> (referer: None)\n"
     ]
    },
    {
     "name": "stdout",
     "output_type": "stream",
     "text": [
      "site_url https://www.wazer.com site_url_close ['https://www.wazer.com', 'https://www.ewizer.com/', 'https://www.whcamera.com']\n",
      "site_url_close[0] https://www.wazer.com\n",
      "ii 17 self.companies[ii] Wazer\n",
      "out1 true iout1 8 url https://www.wazer.com\n",
      "companies[0] Azul 3D this url https://www.wazer.com\n"
     ]
    },
    {
     "name": "stderr",
     "output_type": "stream",
     "text": [
      "2021-11-30 16:35:21 [scrapy.core.scraper] DEBUG: Scraped from <200 https://r3printing.com/>\n",
      "{'Organization': 'R3 Printing',\n",
      " 'fulltext': \"R3 Printing is a California-based tech startup that's automating the 3D printing process from digital file to finished part. We’re bringing you a world where custom, 3D-printed products are available at prices that can compete with mass production. We design for ultimate reliability, uptime, and output to serve on-demand manufacturing businesses, the defense industry, and to build an affordable, 3D-printed future for everyone. Connecting mind and matter.™\",\n",
      " 'searchterm': 'additive manufacturing',\n",
      " 'url': 'https://r3printing.com/'}\n",
      "2021-11-30 16:35:21 [scrapy.core.engine] DEBUG: Crawled (200) <GET https://makeros.com/> (referer: None)\n",
      "2021-11-30 16:35:21 [scrapy.core.engine] DEBUG: Crawled (200) <GET http://intrepidautomation.com/> (referer: None)\n",
      "2021-11-30 16:35:21 [scrapy.core.scraper] ERROR: Spider error processing <GET https://r3printing.com/> (referer: None)\n",
      "Traceback (most recent call last):\n",
      "  File \"C:\\Users\\MStopa\\AppData\\Local\\Continuum\\anaconda3\\envs\\webscrape\\lib\\site-packages\\scrapy\\utils\\defer.py\", line 120, in iter_errback\n",
      "    yield next(it)\n",
      "  File \"C:\\Users\\MStopa\\AppData\\Local\\Continuum\\anaconda3\\envs\\webscrape\\lib\\site-packages\\scrapy\\utils\\python.py\", line 346, in __next__\n",
      "    return next(self.data)\n",
      "  File \"C:\\Users\\MStopa\\AppData\\Local\\Continuum\\anaconda3\\envs\\webscrape\\lib\\site-packages\\scrapy\\utils\\python.py\", line 346, in __next__\n",
      "    return next(self.data)\n",
      "  File \"C:\\Users\\MStopa\\AppData\\Local\\Continuum\\anaconda3\\envs\\webscrape\\lib\\site-packages\\scrapy\\core\\spidermw.py\", line 64, in _evaluate_iterable\n",
      "    for r in iterable:\n",
      "  File \"C:\\Users\\MStopa\\AppData\\Local\\Continuum\\anaconda3\\envs\\webscrape\\lib\\site-packages\\scrapy\\spidermiddlewares\\offsite.py\", line 29, in process_spider_output\n",
      "    for x in result:\n",
      "  File \"C:\\Users\\MStopa\\AppData\\Local\\Continuum\\anaconda3\\envs\\webscrape\\lib\\site-packages\\scrapy\\core\\spidermw.py\", line 64, in _evaluate_iterable\n",
      "    for r in iterable:\n",
      "  File \"C:\\Users\\MStopa\\AppData\\Local\\Continuum\\anaconda3\\envs\\webscrape\\lib\\site-packages\\scrapy\\spidermiddlewares\\referer.py\", line 340, in <genexpr>\n",
      "    return (_set_referer(r) for r in result or ())\n",
      "  File \"C:\\Users\\MStopa\\AppData\\Local\\Continuum\\anaconda3\\envs\\webscrape\\lib\\site-packages\\scrapy\\core\\spidermw.py\", line 64, in _evaluate_iterable\n",
      "    for r in iterable:\n",
      "  File \"C:\\Users\\MStopa\\AppData\\Local\\Continuum\\anaconda3\\envs\\webscrape\\lib\\site-packages\\scrapy\\spidermiddlewares\\urllength.py\", line 37, in <genexpr>\n",
      "    return (r for r in result or () if _filter(r))\n",
      "  File \"C:\\Users\\MStopa\\AppData\\Local\\Continuum\\anaconda3\\envs\\webscrape\\lib\\site-packages\\scrapy\\core\\spidermw.py\", line 64, in _evaluate_iterable\n",
      "    for r in iterable:\n",
      "  File \"C:\\Users\\MStopa\\AppData\\Local\\Continuum\\anaconda3\\envs\\webscrape\\lib\\site-packages\\scrapy\\spidermiddlewares\\depth.py\", line 58, in <genexpr>\n",
      "    return (r for r in result or () if _filter(r))\n",
      "  File \"C:\\Users\\MStopa\\AppData\\Local\\Continuum\\anaconda3\\envs\\webscrape\\lib\\site-packages\\scrapy\\core\\spidermw.py\", line 64, in _evaluate_iterable\n",
      "    for r in iterable:\n",
      "  File \"<ipython-input-9-10a30e00531c>\", line 132, in parse\n",
      "    file1.write(out2 + '\\n')\n",
      "  File \"C:\\Users\\MStopa\\AppData\\Local\\Continuum\\anaconda3\\envs\\webscrape\\lib\\encodings\\cp1252.py\", line 19, in encode\n",
      "    return codecs.charmap_encode(input,self.errors,encoding_table)[0]\n",
      "UnicodeEncodeError: 'charmap' codec can't encode characters in position 2002-2004: character maps to <undefined>\n"
     ]
    },
    {
     "name": "stdout",
     "output_type": "stream",
     "text": [
      "site_url https://r3printing.com/ site_url_close ['https://r3printing.com/', 'http://gprinting.com/', 'https://raffprinting.com']\n",
      "site_url_close[0] https://r3printing.com/\n",
      "ii 19 self.companies[ii] R3 Printing\n",
      "yielding item additive manufacturing\n",
      "out1 true iout1 9 url https://r3printing.com/\n",
      "site_url https://www.fortiusmetals.com/ site_url_close ['https://www.fortiusmetals.com/', 'https://www.omnimetal.com', 'https://www.mforia.com/']\n",
      "site_url_close[0] https://www.fortiusmetals.com/\n",
      "ii 15 self.companies[ii] Fortius Metals\n",
      "out1 true iout1 10 url https://www.fortiusmetals.com/\n",
      "companies[0] Pacific Light & Hologram this url https://www.fortiusmetals.com/\n",
      "site_url https://makeros.com/ site_url_close ['https://makeros.com/', 'https://pbaker.com/', 'http://tumaker.com/']\n",
      "site_url_close[0] https://makeros.com/\n",
      "ii 20 self.companies[ii] MakerOS\n",
      "out1 true iout1 11 url https://makeros.com/\n",
      "companies[0] Sterblue this url https://makeros.com/\n"
     ]
    },
    {
     "name": "stderr",
     "output_type": "stream",
     "text": [
      "2021-11-30 16:35:23 [scrapy.core.scraper] DEBUG: Scraped from <200 http://intrepidautomation.com/>\r\n",
      "{'Organization': 'Intrepid Automation',\n",
      " 'fulltext': 'nan',\n",
      " 'searchterm': 'additive manufacturing',\n",
      " 'url': 'http://intrepidautomation.com/'}\n"
     ]
    },
    {
     "name": "stdout",
     "output_type": "stream",
     "text": [
      "site_url http://intrepidautomation.com/ site_url_close ['http://intrepidautomation.com/', 'http://sunautomation.com', 'http://martinautomatic.com/']\n",
      "site_url_close[0] http://intrepidautomation.com/\n",
      "ii 22 self.companies[ii] Intrepid Automation\n",
      "yielding item additive manufacturing\n",
      "out1 true iout1 12 url http://intrepidautomation.com/\n",
      "companies[0] DigiFabster this url http://intrepidautomation.com/\n"
     ]
    },
    {
     "name": "stderr",
     "output_type": "stream",
     "text": [
      "2021-11-30 16:35:23 [scrapy.downloadermiddlewares.redirect] DEBUG: Redirecting (301) to <GET https://themostcurls.co/> from <GET https://www.themostcurls.com/>\n",
      "2021-11-30 16:35:23 [scrapy.core.engine] DEBUG: Crawled (200) <GET https://brickandmotorcompany.com> (referer: None)\n",
      "2021-11-30 16:35:24 [scrapy.core.engine] DEBUG: Crawled (200) <GET https://amplifyadditive.com/> (referer: None)\n",
      "2021-11-30 16:35:24 [scrapy.core.engine] DEBUG: Crawled (200) <GET https://3dusher.com/> (referer: None)\n"
     ]
    },
    {
     "name": "stdout",
     "output_type": "stream",
     "text": [
      "site_url https://brickandmotorcompany.com site_url_close ['https://brickandmotorcompany.com', 'http://brickandmaker.com', 'https://phmurphyandcompany.com/']\n",
      "site_url_close[0] https://brickandmotorcompany.com\n",
      "ii 23 self.companies[ii] UNITED ROBOTIC SYSTEMS by BRICK + MORTAR Company\n",
      "out1 true iout1 13 url https://brickandmotorcompany.com\n",
      "companies[0] polySpectra this url https://brickandmotorcompany.com\n"
     ]
    },
    {
     "name": "stderr",
     "output_type": "stream",
     "text": [
      "2021-11-30 16:35:24 [scrapy.downloadermiddlewares.retry] DEBUG: Retrying <GET https://www.opnplatform.com/> (failed 1 times): 503 Service Unavailable\n"
     ]
    },
    {
     "name": "stdout",
     "output_type": "stream",
     "text": [
      "site_url https://amplifyadditive.com/ site_url_close ['https://amplifyadditive.com/', 'http://amplifii.com', 'https://platinumvue.com/']\n",
      "site_url_close[0] https://amplifyadditive.com/\n",
      "ii 27 self.companies[ii] Amplify Additive\n",
      "out1 true iout1 14 url https://amplifyadditive.com/\n",
      "companies[0] womp this url https://amplifyadditive.com/\n"
     ]
    },
    {
     "name": "stderr",
     "output_type": "stream",
     "text": [
      "2021-11-30 16:35:25 [scrapy.core.engine] DEBUG: Crawled (200) <GET https://www.swagup.com/> (referer: None)\n",
      "2021-11-30 16:35:25 [scrapy.downloadermiddlewares.redirect] DEBUG: Redirecting (301) to <GET https://www.origami.app/> from <GET http://www.origami.app>\n"
     ]
    },
    {
     "name": "stdout",
     "output_type": "stream",
     "text": [
      "site_url https://3dusher.com/ site_url_close ['https://3dusher.com/', 'https://docuserve.com/', 'https://andishere.com/']\n",
      "site_url_close[0] https://3dusher.com/\n",
      "ii 25 self.companies[ii] 3D Usher\n",
      "out1 false iout2 0 url https://3dusher.com/\n",
      "companies[0] BMF Precision this url https://3dusher.com/\n",
      "site_url https://www.swagup.com/ site_url_close ['https://www.swagup.com/', 'https://www.wpm.com/', 'http://www.ag-p.com']\n",
      "site_url_close[0] https://www.swagup.com/\n",
      "ii 28 self.companies[ii] SwagUp\n",
      "out1 true iout1 15 url https://www.swagup.com/\n",
      "companies[0] Fortius Metals this url https://www.swagup.com/\n"
     ]
    },
    {
     "name": "stderr",
     "output_type": "stream",
     "text": [
      "2021-11-30 16:35:25 [scrapy.core.engine] DEBUG: Crawled (200) <GET https://prinsta.io/> (referer: None)\n",
      "2021-11-30 16:35:25 [scrapy.core.engine] DEBUG: Crawled (200) <GET https://www.sterblue.com/> (referer: None)\n"
     ]
    },
    {
     "name": "stdout",
     "output_type": "stream",
     "text": [
      "site_url https://prinsta.io/ site_url_close ['https://prinsta.io/', 'https://printarts.com/', 'https://4dprint.com/']\n",
      "site_url_close[0] https://prinsta.io/\n",
      "ii 30 self.companies[ii] prinsta\n",
      "out1 true iout1 16 url https://prinsta.io/\n",
      "companies[0] Riven this url https://prinsta.io/\n"
     ]
    },
    {
     "name": "stderr",
     "output_type": "stream",
     "text": [
      "2021-11-30 16:35:26 [scrapy.core.engine] DEBUG: Crawled (200) <GET https://holoam.com/> (referer: None)\n"
     ]
    },
    {
     "name": "stdout",
     "output_type": "stream",
     "text": [
      "site_url https://www.sterblue.com/ site_url_close ['http://www.sterblue.com/', 'https://www.berber.com/', 'https://www.seblueprint.com/']\n",
      "site_url_close[0] http://www.sterblue.com/\n",
      "ii 10 self.companies[ii] Sterblue\n",
      "out1 true iout1 17 url https://www.sterblue.com/\n",
      "companies[0] Wazer this url https://www.sterblue.com/\n"
     ]
    },
    {
     "name": "stderr",
     "output_type": "stream",
     "text": [
      "2021-11-30 16:35:27 [scrapy.downloadermiddlewares.redirect] DEBUG: Redirecting (301) to <GET http://azul3d.com> from <GET http://www.cdjtechnologies.com/>\n",
      "2021-11-30 16:35:27 [scrapy.core.engine] DEBUG: Crawled (200) <GET https://www.rosotics.com/> (referer: None)\n"
     ]
    },
    {
     "name": "stdout",
     "output_type": "stream",
     "text": [
      "site_url https://holoam.com/ site_url_close ['https://holoam.com/', 'https://ocdm.com/', 'https://clov.com/']\n",
      "site_url_close[0] https://holoam.com/\n",
      "ii 33 self.companies[ii] Holo\n",
      "out1 false iout2 1 url https://holoam.com/\n",
      "companies[0] Inklocker this url https://holoam.com/\n"
     ]
    },
    {
     "name": "stderr",
     "output_type": "stream",
     "text": [
      "2021-11-30 16:35:27 [scrapy.core.engine] DEBUG: Crawled (200) <GET https://www.materialexchange.com/> (referer: None)\n",
      "2021-11-30 16:35:27 [scrapy.core.engine] DEBUG: Crawled (200) <GET https://digifabster.com:443/> (referer: None)\n",
      "2021-11-30 16:35:27 [scrapy.downloadermiddlewares.redirect] DEBUG: Redirecting (302) to <GET http://www.securemarking.com/> from <GET http://www.securemarking.com>\n"
     ]
    },
    {
     "name": "stdout",
     "output_type": "stream",
     "text": [
      "site_url https://www.rosotics.com/ site_url_close ['https://www.rosotics.com/', 'https://www.romoinc.com', 'https://www.carstickers.com/']\n",
      "site_url_close[0] https://www.rosotics.com/\n",
      "ii 32 self.companies[ii] Rosotics\n",
      "out1 true iout1 18 url https://www.rosotics.com/\n",
      "companies[0] R3 Printing this url https://www.rosotics.com/\n"
     ]
    },
    {
     "name": "stderr",
     "output_type": "stream",
     "text": [
      "2021-11-30 16:35:28 [scrapy.core.engine] DEBUG: Crawled (200) <GET https://inkbit3d.com/technology> (referer: https://inkbit3d.com/)\n",
      "2021-11-30 16:35:28 [scrapy.core.engine] DEBUG: Crawled (200) <GET https://c3dmaterials.com/> (referer: None)\n"
     ]
    },
    {
     "name": "stdout",
     "output_type": "stream",
     "text": [
      "site_url https://www.materialexchange.com/ site_url_close ['https://www.materialexchange.com/', 'https://www.xchangeus.com/', 'https://www.emeraldcg.com/']\n",
      "site_url_close[0] https://www.materialexchange.com/\n",
      "ii 34 self.companies[ii] Material Exchange\n",
      "out1 false iout2 2 url https://www.materialexchange.com/\n",
      "companies[0] MakerOS this url https://www.materialexchange.com/\n"
     ]
    },
    {
     "name": "stderr",
     "output_type": "stream",
     "text": [
      "2021-11-30 16:35:28 [scrapy.core.engine] DEBUG: Crawled (200) <GET https://www.womp.xyz/> (referer: None)\n",
      "2021-11-30 16:35:28 [scrapy.downloadermiddlewares.retry] DEBUG: Retrying <GET http://adambiorpinting.com> (failed 2 times): DNS lookup failed: no results for hostname lookup: adambiorpinting.com.\n"
     ]
    },
    {
     "name": "stdout",
     "output_type": "stream",
     "text": [
      "site_url https://digifabster.com:443/ site_url_close ['http://digifabster.com', 'https://go-foster.com/', 'https://iglabel.com/']\n",
      "site_url_close[0] http://digifabster.com\n",
      "ii 11 self.companies[ii] DigiFabster\n",
      "out1 true iout1 19 url https://digifabster.com:443/\n",
      "companies[0] A.D.A.M. this url https://digifabster.com:443/\n",
      "site_url https://c3dmaterials.com/ site_url_close ['https://c3dmaterials.com/', 'https://arternal.com/', 'https://redmatmedia.com/']\n",
      "site_url_close[0] https://c3dmaterials.com/\n",
      "ii 29 self.companies[ii] Chromatic 3D Materials\n",
      "out1 true iout1 20 url https://c3dmaterials.com/\n",
      "companies[0] Intrepid Automation this url https://c3dmaterials.com/\n"
     ]
    },
    {
     "name": "stderr",
     "output_type": "stream",
     "text": [
      "2021-11-30 16:35:29 [scrapy.downloadermiddlewares.redirect] DEBUG: Redirecting (301) to <GET https://madebymodica.com/> from <GET https://www.mmicroindustries.com/>\n",
      "2021-11-30 16:35:29 [scrapy.core.engine] DEBUG: Crawled (200) <GET https://riven.ai/> (referer: None)\n"
     ]
    },
    {
     "name": "stdout",
     "output_type": "stream",
     "text": [
      "site_url https://inkbit3d.com/technology site_url_close ['https://inkbit3d.com/', 'http://inkbig.com', 'https://nextepisodetechnology.com']\n",
      "site_url_close[0] https://inkbit3d.com/\n",
      "ii 2 self.companies[ii] Inkbit\n",
      "out1 true iout1 21 url https://inkbit3d.com/technology\n",
      "companies[0] UNITED ROBOTIC SYSTEMS by BRICK + MORTAR Company this url https://inkbit3d.com/technology\n"
     ]
    },
    {
     "name": "stderr",
     "output_type": "stream",
     "text": [
      "2021-11-30 16:35:30 [scrapy.core.engine] DEBUG: Crawled (200) <GET https://metalmaker3d.com/> (referer: None)\n",
      "2021-11-30 16:35:30 [scrapy.core.engine] DEBUG: Crawled (200) <GET https://www.vitrolabsinc.com/> (referer: None)\n"
     ]
    },
    {
     "name": "stdout",
     "output_type": "stream",
     "text": [
      "site_url https://www.womp.xyz/ site_url_close ['https://womp.xyz/', 'https://www.wpm.com/', 'https://www.ntwo.com/']\n",
      "site_url_close[0] https://womp.xyz/\n",
      "ii 13 self.companies[ii] womp\n",
      "out1 false iout2 3 url https://www.womp.xyz/\n",
      "companies[0] Open Packaging Network this url https://www.womp.xyz/\n"
     ]
    },
    {
     "name": "stderr",
     "output_type": "stream",
     "text": [
      "2021-11-30 16:35:31 [scrapy.core.engine] DEBUG: Crawled (403) <GET https://polyspectra.com/> (referer: None)\n",
      "2021-11-30 16:35:31 [scrapy.downloadermiddlewares.redirect] DEBUG: Redirecting (301) to <GET https://www.lsccom.com/> from <GET http://www.lsccom.com/>\n",
      "2021-11-30 16:35:31 [scrapy.downloadermiddlewares.redirect] DEBUG: Redirecting (301) to <GET https://www.samedaycustom.com/> from <GET http://www.samedaycustom.com>\n",
      "2021-11-30 16:35:31 [scrapy.core.engine] DEBUG: Crawled (200) <GET https://3dfortify.com/> (referer: None)\n"
     ]
    },
    {
     "name": "stdout",
     "output_type": "stream",
     "text": [
      "site_url https://riven.ai/ site_url_close ['https://www.riven.ai/', 'https://prinsta.io/', 'https://redhen.org/']\n",
      "site_url_close[0] https://www.riven.ai/\n",
      "ii 16 self.companies[ii] Riven\n",
      "out1 true iout1 22 url https://riven.ai/\n",
      "companies[0] 3D Usher this url https://riven.ai/\n",
      "site_url https://metalmaker3d.com/ site_url_close ['https://metalmaker3d.com/', 'http://tumaker.com/', 'https://nationalmarker.com/']\n",
      "site_url_close[0] https://metalmaker3d.com/\n",
      "ii 39 self.companies[ii] MetalMaker 3D\n",
      "out1 true iout1 23 url https://metalmaker3d.com/\n",
      "companies[0] THE MOST this url https://metalmaker3d.com/\n"
     ]
    },
    {
     "name": "stderr",
     "output_type": "stream",
     "text": [
      "2021-11-30 16:35:33 [scrapy.spidermiddlewares.httperror] INFO: Ignoring response <403 https://polyspectra.com/>: HTTP status code is not handled or not allowed\n",
      "2021-11-30 16:35:33 [scrapy.downloadermiddlewares.retry] DEBUG: Retrying <GET https://bumblebeast.co> (failed 1 times): [<twisted.python.failure.Failure twisted.internet.error.ConnectionLost: Connection to the other side was lost in a non-clean fashion: Connection lost.>]\n",
      "2021-11-30 16:35:33 [scrapy.downloadermiddlewares.retry] DEBUG: Retrying <GET https://www.opnplatform.com/> (failed 2 times): 503 Service Unavailable\n"
     ]
    },
    {
     "name": "stdout",
     "output_type": "stream",
     "text": [
      "site_url https://www.vitrolabsinc.com/ site_url_close ['http://www.vitrolabsinc.com/', 'https://www.trio-labs.com/', 'https://www.iksinc.com/']\n",
      "site_url_close[0] http://www.vitrolabsinc.com/\n",
      "ii 0 self.companies[ii] VitroLabs\n",
      "out1 true iout1 24 url https://www.vitrolabsinc.com/\n",
      "companies[0] Amplify Additive this url https://www.vitrolabsinc.com/\n"
     ]
    },
    {
     "name": "stderr",
     "output_type": "stream",
     "text": [
      "2021-11-30 16:35:34 [scrapy.core.scraper] DEBUG: Scraped from <200 https://3dfortify.com/>\n",
      "{'Organization': 'Fortify',\n",
      " 'fulltext': '3DFortify is an advanced manufacturing startup that aims to disrupt additive manufacturing, ushering in a new generation of custom, high performance products. We have developed a patented process that combines 3D printing and magnetics to create aligned reinforced carbon fiber composites.',\n",
      " 'searchterm': 'additive manufacturing',\n",
      " 'url': 'https://3dfortify.com/'}\n",
      "2021-11-30 16:35:34 [scrapy.downloadermiddlewares.retry] ERROR: Gave up retrying <GET http://adambiorpinting.com> (failed 3 times): DNS lookup failed: no results for hostname lookup: adambiorpinting.com.\n",
      "2021-11-30 16:35:34 [scrapy.core.scraper] DEBUG: Scraped from <200 https://3dfortify.com/>\n",
      "{'Organization': 'Fortify',\n",
      " 'fulltext': '3DFortify is an advanced manufacturing startup that aims to disrupt additive manufacturing, ushering in a new generation of custom, high performance products. We have developed a patented process that combines 3D printing and magnetics to create aligned reinforced carbon fiber composites.',\n",
      " 'searchterm': 'digital manufacturing',\n",
      " 'url': 'https://3dfortify.com/'}\n"
     ]
    },
    {
     "name": "stdout",
     "output_type": "stream",
     "text": [
      "site_url https://3dfortify.com/ site_url_close ['https://www.3dfortify.com', 'https://printify.com', 'https://authorify.com']\n",
      "site_url_close[0] https://www.3dfortify.com\n",
      "ii 5 self.companies[ii] Fortify\n",
      "yielding item additive manufacturing\n",
      "yielding item digital manufacturing\n",
      "out1 true iout1 25 url https://3dfortify.com/\n",
      "companies[0] SwagUp this url https://3dfortify.com/\n"
     ]
    },
    {
     "name": "stderr",
     "output_type": "stream",
     "text": [
      "2021-11-30 16:35:34 [scrapy.core.scraper] ERROR: Error downloading <GET http://adambiorpinting.com>\n",
      "Traceback (most recent call last):\n",
      "  File \"C:\\Users\\MStopa\\AppData\\Local\\Continuum\\anaconda3\\envs\\webscrape\\lib\\site-packages\\twisted\\internet\\defer.py\", line 1416, in _inlineCallbacks\n",
      "    result = result.throwExceptionIntoGenerator(g)\n",
      "  File \"C:\\Users\\MStopa\\AppData\\Local\\Continuum\\anaconda3\\envs\\webscrape\\lib\\site-packages\\twisted\\python\\failure.py\", line 512, in throwExceptionIntoGenerator\n",
      "    return g.throw(self.type, self.value, self.tb)\n",
      "  File \"C:\\Users\\MStopa\\AppData\\Local\\Continuum\\anaconda3\\envs\\webscrape\\lib\\site-packages\\scrapy\\core\\downloader\\middleware.py\", line 44, in process_request\n",
      "    return (yield download_func(request=request, spider=spider))\n",
      "  File \"C:\\Users\\MStopa\\AppData\\Local\\Continuum\\anaconda3\\envs\\webscrape\\lib\\site-packages\\twisted\\internet\\defer.py\", line 654, in _runCallbacks\n",
      "    current.result = callback(current.result, *args, **kw)\n",
      "  File \"C:\\Users\\MStopa\\AppData\\Local\\Continuum\\anaconda3\\envs\\webscrape\\lib\\site-packages\\twisted\\internet\\endpoints.py\", line 982, in startConnectionAttempts\n",
      "    \"no results for hostname lookup: {}\".format(self._hostStr)\n",
      "twisted.internet.error.DNSLookupError: DNS lookup failed: no results for hostname lookup: adambiorpinting.com.\n",
      "2021-11-30 16:35:34 [scrapy.downloadermiddlewares.redirect] DEBUG: Redirecting (302) to <GET http://www.azul3d.com> from <GET http://azul3d.com>\n",
      "2021-11-30 16:35:34 [scrapy.core.engine] DEBUG: Crawled (200) <GET https://arfonaprinting.com/> (referer: None)\n",
      "2021-11-30 16:35:34 [scrapy.downloadermiddlewares.retry] DEBUG: Retrying <GET https://love-toons.com> (failed 1 times): [<twisted.python.failure.Failure OpenSSL.SSL.Error: [('SSL routines', 'ssl3_get_record', 'wrong version number')]>]\n",
      "2021-11-30 16:35:34 [scrapy.downloadermiddlewares.redirect] DEBUG: Redirecting (301) to <GET https://www.creative3dtechnologies.com/> from <GET http://www.creative3dtechnologies.com>\n",
      "2021-11-30 16:35:35 [scrapy.downloadermiddlewares.redirect] DEBUG: Redirecting (302) to <GET https://www.millebot.com/home37599678> from <GET http://www.millebot.com>\n",
      "2021-11-30 16:35:35 [scrapy.core.engine] DEBUG: Crawled (200) <GET https://themostcurls.co/> (referer: None)\n",
      "2021-11-30 16:35:35 [scrapy.downloadermiddlewares.redirect] DEBUG: Redirecting (301) to <GET https://shop.sparkedinnovations.com/> from <GET https://sparkedinnovations.com>\n"
     ]
    },
    {
     "name": "stdout",
     "output_type": "stream",
     "text": [
      "site_url https://arfonaprinting.com/ site_url_close ['https://arfonaprinting.com/', 'https://r3printing.com/', 'https://balloonprinting.com/']\n",
      "site_url_close[0] https://arfonaprinting.com/\n",
      "ii 44 self.companies[ii] Arfona\n",
      "out1 true iout1 26 url https://arfonaprinting.com/\n",
      "companies[0] Chromatic 3D Materials this url https://arfonaprinting.com/\n"
     ]
    },
    {
     "name": "stderr",
     "output_type": "stream",
     "text": [
      "2021-11-30 16:35:35 [scrapy.core.engine] DEBUG: Crawled (200) <GET http://www.securemarking.com/> (referer: None)\n"
     ]
    },
    {
     "name": "stdout",
     "output_type": "stream",
     "text": [
      "site_url https://themostcurls.co/ site_url_close ['https://www.themostcurls.com/', 'https://hotcards.com', 'https://syrlsp.com/']\n",
      "site_url_close[0] https://www.themostcurls.com/\n",
      "ii 26 self.companies[ii] THE MOST\n",
      "out1 true iout1 27 url https://themostcurls.co/\n",
      "companies[0] prinsta this url https://themostcurls.co/\n"
     ]
    },
    {
     "name": "stderr",
     "output_type": "stream",
     "text": [
      "2021-11-30 16:35:36 [scrapy.downloadermiddlewares.redirect] DEBUG: Redirecting (301) to <GET https://www.makerstage.com/> from <GET http://www.makerstage.com>\n",
      "2021-11-30 16:35:36 [scrapy.downloadermiddlewares.retry] DEBUG: Retrying <GET https://bumblebeast.co> (failed 2 times): [<twisted.python.failure.Failure twisted.internet.error.ConnectionLost: Connection to the other side was lost in a non-clean fashion: Connection lost.>]\n"
     ]
    },
    {
     "name": "stdout",
     "output_type": "stream",
     "text": [
      "site_url http://www.securemarking.com/ site_url_close ['http://www.securemarking.com', 'http://www.tmcmarketing.com/', 'https://www.1sourceimaging.com/']\n",
      "site_url_close[0] http://www.securemarking.com\n",
      "ii 36 self.companies[ii] SecureMarking\n",
      "out1 true iout1 28 url http://www.securemarking.com/\n",
      "companies[0] Origami this url http://www.securemarking.com/\n"
     ]
    },
    {
     "name": "stderr",
     "output_type": "stream",
     "text": [
      "2021-11-30 16:35:36 [scrapy.downloadermiddlewares.redirect] DEBUG: Redirecting (301) to <GET https://app.optamarkgraphics.com/> from <GET https://anythingwithink.com>\n",
      "2021-11-30 16:35:36 [scrapy.core.engine] DEBUG: Crawled (200) <GET https://www.origami.app/> (referer: None)\n"
     ]
    },
    {
     "name": "stdout",
     "output_type": "stream",
     "text": [
      "site_url https://www.origami.app/ site_url_close ['http://www.origami.app', 'http://www.origin.io/', 'https://www.mforia.com/']\n",
      "site_url_close[0] http://www.origami.app\n",
      "ii 31 self.companies[ii] Origami\n",
      "out1 true iout1 29 url https://www.origami.app/\n",
      "companies[0] Rosotics this url https://www.origami.app/\n"
     ]
    },
    {
     "name": "stderr",
     "output_type": "stream",
     "text": [
      "2021-11-30 16:35:37 [scrapy.core.engine] DEBUG: Crawled (200) <GET https://www.softformlighting.com> (referer: None)\n",
      "2021-11-30 16:35:37 [scrapy.core.engine] DEBUG: Crawled (200) <GET https://epacflexibles.com/> (referer: None)\n"
     ]
    },
    {
     "name": "stdout",
     "output_type": "stream",
     "text": [
      "site_url https://www.softformlighting.com site_url_close ['https://www.softformlighting.com', 'https://www.soliprinting.com', 'https://www.tycoprinting.com/']\n",
      "site_url_close[0] https://www.softformlighting.com\n",
      "ii 49 self.companies[ii] SoftForm Lighting\n",
      "out1 true iout1 30 url https://www.softformlighting.com\n",
      "companies[0] Holo this url https://www.softformlighting.com\n"
     ]
    },
    {
     "name": "stderr",
     "output_type": "stream",
     "text": [
      "2021-11-30 16:35:38 [scrapy.core.engine] DEBUG: Crawled (200) <GET https://www.lsccom.com/> (referer: None)\n"
     ]
    },
    {
     "name": "stdout",
     "output_type": "stream",
     "text": [
      "site_url https://epacflexibles.com/ site_url_close ['https://epacflexibles.com/', 'https://pageflex.com/', 'https://pakible.com']\n",
      "site_url_close[0] https://epacflexibles.com/\n",
      "ii 52 self.companies[ii] ePac Flexible Packaging\n",
      "out1 true iout1 31 url https://epacflexibles.com/\n",
      "companies[0] Material Exchange this url https://epacflexibles.com/\n",
      "site_url https://www.lsccom.com/ site_url_close ['http://www.lsccom.com/', 'https://www.spcoc.com/', 'https://www.schwabco.com/']\n",
      "site_url_close[0] http://www.lsccom.com/\n",
      "ii 41 self.companies[ii] LSC Communications\n",
      "out1 true iout1 32 url https://www.lsccom.com/\n",
      "companies[0] CDJ Technologies this url https://www.lsccom.com/\n"
     ]
    },
    {
     "name": "stderr",
     "output_type": "stream",
     "text": [
      "2021-11-30 16:35:39 [scrapy.core.engine] DEBUG: Crawled (200) <GET https://www.sliceengineering.com> (referer: None)\n",
      "2021-11-30 16:35:39 [scrapy.core.engine] DEBUG: Crawled (200) <GET https://www.fluidform3d.com> (referer: None)\n",
      "2021-11-30 16:35:40 [scrapy.core.engine] DEBUG: Crawled (200) <GET https://madebymodica.com/> (referer: None)\n"
     ]
    },
    {
     "name": "stdout",
     "output_type": "stream",
     "text": [
      "site_url https://www.sliceengineering.com site_url_close ['https://www.sliceengineering.com', 'https://www.teraengineering.com', 'http://www.hicraftengineering.com']\n",
      "site_url_close[0] https://www.sliceengineering.com\n",
      "ii 54 self.companies[ii] Slice Engineering\n",
      "out1 false iout2 4 url https://www.sliceengineering.com\n",
      "companies[0] SecureMarking this url https://www.sliceengineering.com\n"
     ]
    },
    {
     "name": "stderr",
     "output_type": "stream",
     "text": [
      "2021-11-30 16:35:40 [scrapy.core.engine] DEBUG: Crawled (200) <GET https://www.samedaycustom.com/> (referer: None)\n"
     ]
    },
    {
     "name": "stdout",
     "output_type": "stream",
     "text": [
      "site_url https://www.fluidform3d.com site_url_close ['https://www.fluidform3d.com', 'https://www.caluniforms.com', 'http://www.solidiform.com/']\n",
      "site_url_close[0] https://www.fluidform3d.com\n",
      "ii 53 self.companies[ii] FluidForm\n",
      "out1 true iout1 33 url https://www.fluidform3d.com\n",
      "companies[0] MODICA Microindustries this url https://www.fluidform3d.com\n",
      "site_url https://madebymodica.com/ site_url_close ['https://madesolid.com', 'https://redmatmedia.com/', 'http://4webmedical.com']\n",
      "site_url_close[0] https://madesolid.com\n",
      "ii 3547 self.companies[ii] MadeSolid\n",
      "out1 true iout1 34 url https://madebymodica.com/\n",
      "companies[0] Custom Print Box this url https://madebymodica.com/\n"
     ]
    },
    {
     "name": "stderr",
     "output_type": "stream",
     "text": [
      "2021-11-30 16:35:41 [scrapy.core.engine] DEBUG: Crawled (200) <GET https://www.accelerate3d.com> (referer: None)\n"
     ]
    },
    {
     "name": "stdout",
     "output_type": "stream",
     "text": [
      "site_url https://www.samedaycustom.com/ site_url_close ['http://www.samedaycustom.com', 'https://www.adeast.com/', 'https://www.customink.com/']\n",
      "site_url_close[0] http://www.samedaycustom.com\n",
      "ii 40 self.companies[ii] SameDayCustom\n",
      "out1 true iout1 35 url https://www.samedaycustom.com/\n",
      "companies[0] MetalMaker 3D this url https://www.samedaycustom.com/\n"
     ]
    },
    {
     "name": "stderr",
     "output_type": "stream",
     "text": [
      "2021-11-30 16:35:42 [scrapy.downloadermiddlewares.redirect] DEBUG: Redirecting (301) to <GET https://www.azul3d.com/> from <GET http://www.azul3d.com>\n"
     ]
    },
    {
     "name": "stdout",
     "output_type": "stream",
     "text": [
      "site_url https://www.accelerate3d.com site_url_close ['https://www.accelerate3d.com', 'https://www.raise3d.com', 'https://www.laz3d.com']\n",
      "site_url_close[0] https://www.accelerate3d.com\n",
      "ii 55 self.companies[ii] Accelerate3D\n",
      "out1 true iout1 36 url https://www.accelerate3d.com\n",
      "companies[0] SameDayCustom this url https://www.accelerate3d.com\n"
     ]
    },
    {
     "name": "stderr",
     "output_type": "stream",
     "text": [
      "2021-11-30 16:35:42 [scrapy.core.engine] DEBUG: Crawled (200) <GET https://www.millebot.com/home37599678> (referer: None)\n",
      "2021-11-30 16:35:43 [scrapy.downloadermiddlewares.redirect] DEBUG: Redirecting (301) to <GET https://creative3dtechnologies.com/> from <GET https://www.creative3dtechnologies.com/>\n",
      "2021-11-30 16:35:43 [scrapy.downloadermiddlewares.retry] DEBUG: Retrying <GET https://love-toons.com> (failed 2 times): [<twisted.python.failure.Failure OpenSSL.SSL.Error: [('SSL routines', 'ssl3_get_record', 'wrong version number')]>]\n"
     ]
    },
    {
     "name": "stdout",
     "output_type": "stream",
     "text": [
      "site_url https://www.millebot.com/home37599678 site_url_close ['http://www.millebot.com', 'https://www.milweb1.com', 'https://www.lulzbot.com']\n",
      "site_url_close[0] http://www.millebot.com\n",
      "ii 48 self.companies[ii] MILLEBOT INC.\n",
      "out1 false iout2 5 url https://www.millebot.com/home37599678\n",
      "companies[0] LSC Communications this url https://www.millebot.com/home37599678\n"
     ]
    },
    {
     "name": "stderr",
     "output_type": "stream",
     "text": [
      "2021-11-30 16:35:44 [scrapy.downloadermiddlewares.retry] ERROR: Gave up retrying <GET https://www.opnplatform.com/> (failed 3 times): 503 Service Unavailable\n",
      "2021-11-30 16:35:44 [scrapy.core.engine] DEBUG: Crawled (503) <GET https://www.opnplatform.com/> (referer: None)\n",
      "2021-11-30 16:35:44 [scrapy.spidermiddlewares.httperror] INFO: Ignoring response <503 https://www.opnplatform.com/>: HTTP status code is not handled or not allowed\n",
      "2021-11-30 16:35:45 [scrapy.core.engine] DEBUG: Crawled (200) <GET https://www.makerstage.com/> (referer: None)\n",
      "2021-11-30 16:35:46 [scrapy.core.scraper] DEBUG: Scraped from <200 https://www.makerstage.com/>\n",
      "{'Organization': 'Make',\n",
      " 'fulltext': 'Make provides rapid prototyping and manufacturing services through a distributed network of industrial 3D printers, CNC machines and Injection Molders, helping teams save more 60% on cost/part and reduce time to part from weeks and months to days.  Product: www.makerstage.com  Contact: hello@makerstage.com Instagram: @makerstage',\n",
      " 'searchterm': 'additive manufacturing',\n",
      " 'url': 'https://www.makerstage.com/'}\n"
     ]
    },
    {
     "name": "stdout",
     "output_type": "stream",
     "text": [
      "site_url https://www.makerstage.com/ site_url_close ['http://www.makerstage.com', 'http://www.makergear.com/', 'https://www.argen.com/']\n",
      "site_url_close[0] http://www.makerstage.com\n",
      "ii 50 self.companies[ii] Make\n",
      "yielding item additive manufacturing\n",
      "out1 true iout1 37 url https://www.makerstage.com/\n",
      "companies[0] FN-X Inc. this url https://www.makerstage.com/\n"
     ]
    },
    {
     "name": "stderr",
     "output_type": "stream",
     "text": [
      "2021-11-30 16:35:47 [scrapy.downloadermiddlewares.retry] ERROR: Gave up retrying <GET https://bumblebeast.co> (failed 3 times): [<twisted.python.failure.Failure twisted.internet.error.ConnectionLost: Connection to the other side was lost in a non-clean fashion: Connection lost.>]\n",
      "2021-11-30 16:35:47 [scrapy.core.scraper] ERROR: Error downloading <GET https://bumblebeast.co>\n",
      "Traceback (most recent call last):\n",
      "  File \"C:\\Users\\MStopa\\AppData\\Local\\Continuum\\anaconda3\\envs\\webscrape\\lib\\site-packages\\scrapy\\core\\downloader\\middleware.py\", line 44, in process_request\n",
      "    return (yield download_func(request=request, spider=spider))\n",
      "twisted.web._newclient.ResponseNeverReceived: [<twisted.python.failure.Failure twisted.internet.error.ConnectionLost: Connection to the other side was lost in a non-clean fashion: Connection lost.>]\n",
      "2021-11-30 16:35:48 [scrapy.core.engine] DEBUG: Crawled (200) <GET https://www.fluidform3d.com/technology> (referer: https://www.fluidform3d.com)\n"
     ]
    },
    {
     "name": "stdout",
     "output_type": "stream",
     "text": [
      "site_url https://www.fluidform3d.com/technology site_url_close ['https://www.fluidform3d.com', 'http://www.solidiform.com/', 'https://www.caluniforms.com']\n",
      "site_url_close[0] https://www.fluidform3d.com\n",
      "ii 53 self.companies[ii] FluidForm\n",
      "out1 true iout1 38 url https://www.fluidform3d.com/technology\n",
      "companies[0] Ulela Technology this url https://www.fluidform3d.com/technology\n"
     ]
    },
    {
     "name": "stderr",
     "output_type": "stream",
     "text": [
      "2021-11-30 16:35:49 [scrapy.downloadermiddlewares.retry] DEBUG: Retrying <GET https://customprintbox.com/> (failed 1 times): TCP connection timed out: 10060: A connection attempt failed because the connected party did not properly respond after a period of time, or established connection failed because connected host has failed to respond..\n",
      "2021-11-30 16:35:50 [scrapy.downloadermiddlewares.retry] DEBUG: Retrying <GET http://www.gopapr.com> (failed 1 times): DNS lookup failed: no results for hostname lookup: www.gopapr.com.\n",
      "2021-11-30 16:35:51 [scrapy.downloadermiddlewares.redirect] DEBUG: Redirecting (301) to <GET https://web.aop.plus> from <GET https://aop.plus>\n",
      "2021-11-30 16:35:51 [scrapy.core.engine] DEBUG: Crawled (200) <GET https://wrapmate.com/> (referer: None)\n",
      "2021-11-30 16:35:51 [scrapy.downloadermiddlewares.redirect] DEBUG: Redirecting (301) to <GET https://www.cjkgroup.com/> from <GET http://www.cjkgroup.com/>\n",
      "2021-11-30 16:35:51 [scrapy.core.engine] DEBUG: Crawled (200) <GET https://shop.sparkedinnovations.com/> (referer: None)\n",
      "2021-11-30 16:35:51 [scrapy.core.scraper] ERROR: Spider error processing <GET https://wrapmate.com/> (referer: None)\n",
      "Traceback (most recent call last):\n",
      "  File \"C:\\Users\\MStopa\\AppData\\Local\\Continuum\\anaconda3\\envs\\webscrape\\lib\\site-packages\\scrapy\\utils\\defer.py\", line 120, in iter_errback\n",
      "    yield next(it)\n",
      "  File \"C:\\Users\\MStopa\\AppData\\Local\\Continuum\\anaconda3\\envs\\webscrape\\lib\\site-packages\\scrapy\\utils\\python.py\", line 346, in __next__\n",
      "    return next(self.data)\n",
      "  File \"C:\\Users\\MStopa\\AppData\\Local\\Continuum\\anaconda3\\envs\\webscrape\\lib\\site-packages\\scrapy\\utils\\python.py\", line 346, in __next__\n",
      "    return next(self.data)\n",
      "  File \"C:\\Users\\MStopa\\AppData\\Local\\Continuum\\anaconda3\\envs\\webscrape\\lib\\site-packages\\scrapy\\core\\spidermw.py\", line 64, in _evaluate_iterable\n",
      "    for r in iterable:\n",
      "  File \"C:\\Users\\MStopa\\AppData\\Local\\Continuum\\anaconda3\\envs\\webscrape\\lib\\site-packages\\scrapy\\spidermiddlewares\\offsite.py\", line 29, in process_spider_output\n",
      "    for x in result:\n",
      "  File \"C:\\Users\\MStopa\\AppData\\Local\\Continuum\\anaconda3\\envs\\webscrape\\lib\\site-packages\\scrapy\\core\\spidermw.py\", line 64, in _evaluate_iterable\n",
      "    for r in iterable:\n",
      "  File \"C:\\Users\\MStopa\\AppData\\Local\\Continuum\\anaconda3\\envs\\webscrape\\lib\\site-packages\\scrapy\\spidermiddlewares\\referer.py\", line 340, in <genexpr>\n",
      "    return (_set_referer(r) for r in result or ())\n",
      "  File \"C:\\Users\\MStopa\\AppData\\Local\\Continuum\\anaconda3\\envs\\webscrape\\lib\\site-packages\\scrapy\\core\\spidermw.py\", line 64, in _evaluate_iterable\n",
      "    for r in iterable:\n",
      "  File \"C:\\Users\\MStopa\\AppData\\Local\\Continuum\\anaconda3\\envs\\webscrape\\lib\\site-packages\\scrapy\\spidermiddlewares\\urllength.py\", line 37, in <genexpr>\n",
      "    return (r for r in result or () if _filter(r))\n",
      "  File \"C:\\Users\\MStopa\\AppData\\Local\\Continuum\\anaconda3\\envs\\webscrape\\lib\\site-packages\\scrapy\\core\\spidermw.py\", line 64, in _evaluate_iterable\n",
      "    for r in iterable:\n",
      "  File \"C:\\Users\\MStopa\\AppData\\Local\\Continuum\\anaconda3\\envs\\webscrape\\lib\\site-packages\\scrapy\\spidermiddlewares\\depth.py\", line 58, in <genexpr>\n",
      "    return (r for r in result or () if _filter(r))\n",
      "  File \"C:\\Users\\MStopa\\AppData\\Local\\Continuum\\anaconda3\\envs\\webscrape\\lib\\site-packages\\scrapy\\core\\spidermw.py\", line 64, in _evaluate_iterable\n",
      "    for r in iterable:\n",
      "  File \"<ipython-input-9-10a30e00531c>\", line 132, in parse\n",
      "    file1.write(out2 + '\\n')\n",
      "  File \"C:\\Users\\MStopa\\AppData\\Local\\Continuum\\anaconda3\\envs\\webscrape\\lib\\encodings\\cp1252.py\", line 19, in encode\n",
      "    return codecs.charmap_encode(input,self.errors,encoding_table)[0]\n",
      "UnicodeEncodeError: 'charmap' codec can't encode character '\\U0001f499' in position 3874: character maps to <undefined>\n"
     ]
    },
    {
     "name": "stdout",
     "output_type": "stream",
     "text": [
      "site_url https://wrapmate.com/ site_url_close ['https://wrapmate.com/', 'https://www.rapidmade.com/', 'https://whmap.com/']\n",
      "site_url_close[0] https://wrapmate.com/\n",
      "ii 58 self.companies[ii] Wrapmate\n",
      "out1 true iout1 39 url https://wrapmate.com/\n"
     ]
    },
    {
     "name": "stderr",
     "output_type": "stream",
     "text": [
      "2021-11-30 16:35:52 [scrapy.downloadermiddlewares.redirect] DEBUG: Redirecting (301) to <GET https://xactmetal.com/> from <GET http://www.xactmetal.com>\n",
      "2021-11-30 16:35:52 [scrapy.core.engine] DEBUG: Crawled (200) <GET https://printreach.com/> (referer: None)\n"
     ]
    },
    {
     "name": "stdout",
     "output_type": "stream",
     "text": [
      "site_url https://shop.sparkedinnovations.com/ site_url_close ['https://sparkedinnovations.com', 'https://www.seminarinnovations.com/', 'https://www.mgainnovation.com']\n",
      "site_url_close[0] https://sparkedinnovations.com\n",
      "ii 45 self.companies[ii] Sparked Innovations\n",
      "out1 true iout1 40 url https://shop.sparkedinnovations.com/\n",
      "companies[0] Arfona this url https://shop.sparkedinnovations.com/\n"
     ]
    },
    {
     "name": "stderr",
     "output_type": "stream",
     "text": [
      "2021-11-30 16:35:52 [scrapy.core.engine] DEBUG: Crawled (200) <GET https://app.optamarkgraphics.com/> (referer: None)\n",
      "2021-11-30 16:35:52 [scrapy.core.engine] DEBUG: Crawled (200) <GET https://packwire.com> (referer: None)\n"
     ]
    },
    {
     "name": "stdout",
     "output_type": "stream",
     "text": [
      "site_url https://printreach.com/ site_url_close ['https://printreach.com/', 'http://sprintray.com/', 'https://printresource.com/']\n",
      "site_url_close[0] https://printreach.com/\n",
      "ii 60 self.companies[ii] Print Reach\n",
      "out1 true iout1 41 url https://printreach.com/\n",
      "companies[0] Sparked Innovations this url https://printreach.com/\n"
     ]
    },
    {
     "name": "stderr",
     "output_type": "stream",
     "text": [
      "2021-11-30 16:35:53 [scrapy.core.engine] DEBUG: Crawled (200) <GET https://www.cjkgroup.com/> (referer: None)\n",
      "2021-11-30 16:35:53 [scrapy.downloadermiddlewares.retry] DEBUG: Retrying <GET https://ulela.cyou> (failed 1 times): TCP connection timed out: 10060: A connection attempt failed because the connected party did not properly respond after a period of time, or established connection failed because connected host has failed to respond..\n"
     ]
    },
    {
     "name": "stdout",
     "output_type": "stream",
     "text": [
      "site_url https://app.optamarkgraphics.com/ site_url_close ['http://www.optamarkgraphics.com', 'https://tm-graphics.com/', 'https://atigraphics.com/']\n",
      "site_url_close[0] http://www.optamarkgraphics.com\n",
      "ii 3734 self.companies[ii] Optamark\n",
      "out1 false iout2 6 url https://app.optamarkgraphics.com/\n",
      "companies[0] Creative 3D Technologies Inc. this url https://app.optamarkgraphics.com/\n",
      "site_url https://packwire.com site_url_close ['https://packwire.com', 'https://pakible.com', 'https://packlane.com']\n",
      "site_url_close[0] https://packwire.com\n",
      "ii 62 self.companies[ii] Packwire\n",
      "out1 true iout1 42 url https://packwire.com\n",
      "companies[0] Lovetoons this url https://packwire.com\n"
     ]
    },
    {
     "name": "stderr",
     "output_type": "stream",
     "text": [
      "2021-11-30 16:35:54 [scrapy.core.engine] DEBUG: Crawled (200) <GET https://www.azul3d.com/> (referer: None)\n"
     ]
    },
    {
     "name": "stdout",
     "output_type": "stream",
     "text": [
      "site_url https://www.cjkgroup.com/ site_url_close ['http://www.cjkgroup.com/', 'https://www.fitchgroup.com/', 'https://www.caskeygroup.com']\n",
      "site_url_close[0] http://www.cjkgroup.com/\n",
      "ii 59 self.companies[ii] CJK Group\n",
      "out1 true iout1 43 url https://www.cjkgroup.com/\n",
      "companies[0] MILLEBOT INC. this url https://www.cjkgroup.com/\n"
     ]
    },
    {
     "name": "stderr",
     "output_type": "stream",
     "text": [
      "2021-11-30 16:35:54 [scrapy.downloadermiddlewares.retry] ERROR: Gave up retrying <GET https://love-toons.com> (failed 3 times): [<twisted.python.failure.Failure OpenSSL.SSL.Error: [('SSL routines', 'ssl3_get_record', 'wrong version number')]>]\n"
     ]
    },
    {
     "name": "stdout",
     "output_type": "stream",
     "text": [
      "site_url https://www.azul3d.com/ site_url_close ['https://www.azul3d.com/', 'https://www.laz3d.com', 'https://www.nwa3d.com/']\n",
      "site_url_close[0] https://www.azul3d.com/\n",
      "ii 8 self.companies[ii] Azul 3D\n",
      "out1 true iout1 44 url https://www.azul3d.com/\n",
      "companies[0] SoftForm Lighting this url https://www.azul3d.com/\n"
     ]
    },
    {
     "name": "stderr",
     "output_type": "stream",
     "text": [
      "2021-11-30 16:35:54 [scrapy.core.scraper] ERROR: Error downloading <GET https://love-toons.com>\n",
      "Traceback (most recent call last):\n",
      "  File \"C:\\Users\\MStopa\\AppData\\Local\\Continuum\\anaconda3\\envs\\webscrape\\lib\\site-packages\\scrapy\\core\\downloader\\middleware.py\", line 44, in process_request\n",
      "    return (yield download_func(request=request, spider=spider))\n",
      "twisted.web._newclient.ResponseNeverReceived: [<twisted.python.failure.Failure OpenSSL.SSL.Error: [('SSL routines', 'ssl3_get_record', 'wrong version number')]>]\n",
      "2021-11-30 16:35:57 [scrapy.downloadermiddlewares.redirect] DEBUG: Redirecting (301) to <GET https://leafshave.com/> from <GET http://www.leafshave.com>\n",
      "2021-11-30 16:35:57 [scrapy.core.engine] DEBUG: Crawled (200) <GET https://creative3dtechnologies.com/> (referer: None)\n"
     ]
    },
    {
     "name": "stdout",
     "output_type": "stream",
     "text": [
      "site_url https://creative3dtechnologies.com/ site_url_close ['http://www.creative3dtechnologies.com', 'https://www.suncrafttechnologies.com/', 'http://www.cdjtechnologies.com/']\n",
      "site_url_close[0] http://www.creative3dtechnologies.com\n",
      "ii 46 self.companies[ii] Creative 3D Technologies Inc.\n",
      "out1 true iout1 45 url https://creative3dtechnologies.com/\n",
      "companies[0] Make this url https://creative3dtechnologies.com/\n"
     ]
    },
    {
     "name": "stderr",
     "output_type": "stream",
     "text": [
      "2021-11-30 16:36:08 [scrapy.downloadermiddlewares.retry] DEBUG: Retrying <GET http://www.gopapr.com> (failed 2 times): DNS lookup failed: no results for hostname lookup: www.gopapr.com.\n",
      "2021-11-30 16:36:08 [scrapy.downloadermiddlewares.redirect] DEBUG: Redirecting (301) to <GET https://nobelus.com/> from <GET http://nobelus.com>\n",
      "2021-11-30 16:36:08 [scrapy.core.engine] DEBUG: Crawled (200) <GET http://www.redworks3d.com> (referer: None)\n"
     ]
    },
    {
     "name": "stdout",
     "output_type": "stream",
     "text": [
      "site_url http://www.redworks3d.com site_url_close ['http://www.redworks3d.com', 'http://www.northworks3d.com', 'http://www.dotworks.com']\n",
      "site_url_close[0] http://www.redworks3d.com\n",
      "ii 66 self.companies[ii] RedWorks Construction Technologies Inc.\n",
      "out1 false iout2 7 url http://www.redworks3d.com\n",
      "companies[0] AnythingWithInk this url http://www.redworks3d.com\n"
     ]
    },
    {
     "name": "stderr",
     "output_type": "stream",
     "text": [
      "2021-11-30 16:36:09 [scrapy.downloadermiddlewares.redirect] DEBUG: Redirecting (301) to <GET https://directmail2.com/> from <GET http://directmail2.com/>\n",
      "2021-11-30 16:36:09 [scrapy.downloadermiddlewares.redirect] DEBUG: Redirecting (301) to <GET https://ambots.net:443/> from <GET http://ambots.net>\n",
      "2021-11-30 16:36:09 [scrapy.core.engine] DEBUG: Crawled (200) <GET https://nobelus.com/> (referer: None)\n",
      "2021-11-30 16:36:09 [scrapy.downloadermiddlewares.redirect] DEBUG: Redirecting (301) to <GET https://www.printerdao.com/> from <GET http://www.printerdao.com>\n",
      "2021-11-30 16:36:09 [scrapy.core.engine] DEBUG: Crawled (200) <GET https://socialindoor.com/> (referer: None)\n",
      "2021-11-30 16:36:09 [scrapy.core.engine] DEBUG: Crawled (200) <GET https://goproto.com/> (referer: None)\n",
      "2021-11-30 16:36:10 [scrapy.downloadermiddlewares.redirect] DEBUG: Redirecting (301) to <GET https://www.sheridan.com/> from <GET http://www.sheridan.com/>\n"
     ]
    },
    {
     "name": "stdout",
     "output_type": "stream",
     "text": [
      "site_url https://nobelus.com/ site_url_close ['http://nobelus.com', 'https://noobean.com/', 'https://instocklabels.com/']\n",
      "site_url_close[0] http://nobelus.com\n",
      "ii 65 self.companies[ii] Nobelus\n",
      "out1 true iout1 46 url https://nobelus.com/\n",
      "companies[0] ePac Flexible Packaging this url https://nobelus.com/\n"
     ]
    },
    {
     "name": "stderr",
     "output_type": "stream",
     "text": [
      "2021-11-30 16:36:10 [scrapy.core.engine] DEBUG: Crawled (200) <GET https://xactmetal.com/> (referer: None)\n",
      "2021-11-30 16:36:10 [scrapy.core.engine] DEBUG: Crawled (200) <GET https://leafshave.com/> (referer: None)\n",
      "2021-11-30 16:36:10 [scrapy.core.engine] DEBUG: Crawled (200) <GET https://web.aop.plus> (referer: None)\n",
      "2021-11-30 16:36:10 [scrapy.downloadermiddlewares.retry] DEBUG: Retrying <GET https://customprintbox.com/> (failed 2 times): TCP connection timed out: 10060: A connection attempt failed because the connected party did not properly respond after a period of time, or established connection failed because connected host has failed to respond..\n"
     ]
    },
    {
     "name": "stdout",
     "output_type": "stream",
     "text": [
      "site_url https://socialindoor.com/ site_url_close ['https://socialindoor.com/', 'http://socialprintstudio.com', 'http://sociable-now.com']\n",
      "site_url_close[0] https://socialindoor.com/\n",
      "ii 67 self.companies[ii] Social Indoor\n",
      "out1 true iout1 47 url https://socialindoor.com/\n",
      "companies[0] FluidForm this url https://socialindoor.com/\n"
     ]
    },
    {
     "name": "stderr",
     "output_type": "stream",
     "text": [
      "2021-11-30 16:36:10 [scrapy.core.engine] DEBUG: Crawled (200) <GET https://directmail2.com/> (referer: None)\n",
      "2021-11-30 16:36:10 [scrapy.core.engine] DEBUG: Crawled (200) <GET https://www.printerdao.com/> (referer: None)\n",
      "2021-11-30 16:36:10 [scrapy.core.engine] DEBUG: Crawled (200) <GET https://ambots.net:443/> (referer: None)\n"
     ]
    },
    {
     "name": "stdout",
     "output_type": "stream",
     "text": [
      "site_url https://goproto.com/ site_url_close ['https://goproto.com/', 'https://egpromo.com', 'https://robo3d.com/']\n",
      "site_url_close[0] https://goproto.com/\n",
      "ii 69 self.companies[ii] GoProto\n",
      "out1 true iout1 48 url https://goproto.com/\n",
      "companies[0] Slice Engineering this url https://goproto.com/\n"
     ]
    },
    {
     "name": "stderr",
     "output_type": "stream",
     "text": [
      "2021-11-30 16:36:11 [scrapy.core.scraper] DEBUG: Scraped from <200 https://xactmetal.com/>\r\n",
      "{'Organization': 'Xact Metal, Inc.',\n",
      " 'fulltext': 'At Xact Metal™, we’re taking the essential specs that direct laser, powder bed fusion systems require and combining them with breakthrough technology to establish a new level of price and performance for additive manufacturing. We’re dedicated to supporting the next generation of innovative manufacturing solutions powered by metal 3D printing.',\n",
      " 'searchterm': 'additive manufacturing',\n",
      " 'url': 'https://xactmetal.com/'}\n"
     ]
    },
    {
     "name": "stdout",
     "output_type": "stream",
     "text": [
      "site_url https://xactmetal.com/ site_url_close ['http://www.xactmetal.com', 'https://x-central.com/', 'https://arternal.com/']\n",
      "site_url_close[0] http://www.xactmetal.com\n",
      "ii 61 self.companies[ii] Xact Metal, Inc.\n",
      "yielding item additive manufacturing\n",
      "site_url https://leafshave.com/ site_url_close ['http://www.leafshave.com', 'https://eleven19.com/', 'https://ylfresh.com']\n",
      "site_url_close[0] http://www.leafshave.com\n",
      "ii 64 self.companies[ii] Leaf Shave Co.\n",
      "out1 true iout1 49 url https://leafshave.com/\n",
      "companies[0] Accelerate3D this url https://leafshave.com/\n",
      "site_url https://web.aop.plus site_url_close ['https://aop.plus', 'http://bpsg.us/', 'https://www.art-worx.us/']\n",
      "site_url_close[0] https://aop.plus\n",
      "ii 57 self.companies[ii] AOP+\n",
      "out1 true iout1 50 url https://web.aop.plus\n",
      "companies[0] Pāpr this url https://web.aop.plus\n",
      "out1 true iout1 51 url https://xactmetal.com/\n",
      "companies[0] AOP+ this url https://xactmetal.com/\n",
      "site_url https://directmail2.com/ site_url_close ['http://directmail2.com/', 'https://pmcdirectmail.com/', 'https://directmailers.com']\n",
      "site_url_close[0] http://directmail2.com/\n",
      "ii 70 self.companies[ii] DirectMail2.0\n",
      "out1 false iout2 8 url https://directmail2.com/\n",
      "companies[0] Wrapmate this url https://directmail2.com/\n",
      "site_url https://www.printerdao.com/ site_url_close ['http://www.printerdao.com', 'http://www.printegra.com/', 'https://www.printergy.com/']\n",
      "site_url_close[0] http://www.printerdao.com\n",
      "ii 71 self.companies[ii] PrinterDAO\n",
      "out1 true iout1 52 url https://www.printerdao.com/\n",
      "companies[0] CJK Group this url https://www.printerdao.com/\n"
     ]
    },
    {
     "name": "stderr",
     "output_type": "stream",
     "text": [
      "2021-11-30 16:36:13 [scrapy.core.engine] DEBUG: Crawled (200) <GET https://www.sheridan.com/> (referer: None)\n",
      "2021-11-30 16:36:13 [scrapy.core.engine] DEBUG: Crawled (200) <GET https://printparts.com> (referer: None)\n"
     ]
    },
    {
     "name": "stdout",
     "output_type": "stream",
     "text": [
      "site_url https://ambots.net:443/ site_url_close ['http://ambots.net', 'https://campromotions.net/', 'https://nano-ops.net/']\n",
      "site_url_close[0] http://ambots.net\n",
      "ii 72 self.companies[ii] AMBOTS Inc.\n",
      "out1 true iout1 53 url https://ambots.net:443/\n",
      "companies[0] Print Reach this url https://ambots.net:443/\n",
      "site_url https://www.sheridan.com/ site_url_close ['http://www.sheridan.com/', 'https://www.hederman.com/', 'https://www.psprint.com/']\n",
      "site_url_close[0] http://www.sheridan.com/\n",
      "ii 73 self.companies[ii] The Sheridan Group\n",
      "out1 true iout1 54 url https://www.sheridan.com/\n",
      "companies[0] Xact Metal, Inc. this url https://www.sheridan.com/\n",
      "site_url https://printparts.com site_url_close ['https://printparts.com', 'https://printarts.com/', 'https://printerstop.com']\n",
      "site_url_close[0] https://printparts.com\n",
      "ii 68 self.companies[ii] Print Parts Inc.\n",
      "out1 true iout1 55 url https://printparts.com\n",
      "companies[0] Packwire this url https://printparts.com\n"
     ]
    },
    {
     "name": "stderr",
     "output_type": "stream",
     "text": [
      "2021-11-30 16:36:14 [scrapy.downloadermiddlewares.retry] DEBUG: Retrying <GET https://ulela.cyou> (failed 2 times): TCP connection timed out: 10060: A connection attempt failed because the connected party did not properly respond after a period of time, or established connection failed because connected host has failed to respond..\n",
      "2021-11-30 16:36:16 [scrapy.extensions.logstats] INFO: Crawled 69 pages (at 69 pages/min), scraped 7 items (at 7 items/min)\n",
      "2021-11-30 16:36:17 [scrapy.downloadermiddlewares.retry] DEBUG: Retrying <GET https://voyagerspacetech.com> (failed 1 times): TCP connection timed out: 10060: A connection attempt failed because the connected party did not properly respond after a period of time, or established connection failed because connected host has failed to respond..\n",
      "2021-11-30 16:36:19 [scrapy.core.engine] DEBUG: Crawled (200) <GET https://ambots.net:443/technology> (referer: https://ambots.net/)\n",
      "2021-11-30 16:36:19 [scrapy.core.scraper] DEBUG: Scraped from <200 https://ambots.net:443/technology>\n",
      "{'Organization': 'AMBOTS Inc.',\n",
      " 'fulltext': 'AMBOTS Inc. is commercializing the patent-pending swarm 3D printing and assembly technologies. This technology aims to automate manufacturing with a swarm of smart and autonomous mobile robots, from everyday products to houses and infrastructures. Just like how a swarm of bees or wasps would work together to build their nests, the swarm of smart mobile robots can work together to print and assemble products based on digital models on demand. AMBOTS stands for Autonomous Mobile ROBOTS and Advanced Manufacturing ROBOTS.',\n",
      " 'searchterm': 'digital manufacturing',\n",
      " 'url': 'https://ambots.net:443/technology'}\n",
      "2021-11-30 16:36:19 [scrapy.core.engine] DEBUG: Crawled (200) <GET https://voyagerspacetech.com> (referer: None)\n",
      "2021-11-30 16:36:19 [scrapy.core.scraper] DEBUG: Scraped from <200 https://ambots.net:443/technology>\n",
      "{'Organization': 'AMBOTS Inc.',\n",
      " 'fulltext': 'AMBOTS Inc. is commercializing the patent-pending swarm 3D printing and assembly technologies. This technology aims to automate manufacturing with a swarm of smart and autonomous mobile robots, from everyday products to houses and infrastructures. Just like how a swarm of bees or wasps would work together to build their nests, the swarm of smart mobile robots can work together to print and assemble products based on digital models on demand. AMBOTS stands for Autonomous Mobile ROBOTS and Advanced Manufacturing ROBOTS.',\n",
      " 'searchterm': 'inkjet',\n",
      " 'url': 'https://ambots.net:443/technology'}\n"
     ]
    },
    {
     "name": "stdout",
     "output_type": "stream",
     "text": [
      "site_url https://ambots.net:443/technology site_url_close ['http://ambots.net', 'https://nextepisodetechnology.com', 'https://www.monstertechnology.net/']\n",
      "site_url_close[0] http://ambots.net\n",
      "ii 72 self.companies[ii] AMBOTS Inc.\n",
      "yielding item digital manufacturing\n",
      "yielding item inkjet\n",
      "out1 true iout1 56 url https://ambots.net:443/technology\n",
      "companies[0] Voyager Space Technologies this url https://ambots.net:443/technology\n",
      "site_url https://voyagerspacetech.com site_url_close ['https://voyagerspacetech.com', 'https://onesourcetec.com', 'https://wp.valerian-tech.com']\n",
      "site_url_close[0] https://voyagerspacetech.com\n",
      "ii 63 self.companies[ii] Voyager Space Technologies\n",
      "out1 true iout1 57 url https://voyagerspacetech.com\n",
      "companies[0] Leaf Shave Co. this url https://voyagerspacetech.com\n"
     ]
    },
    {
     "name": "stderr",
     "output_type": "stream",
     "text": [
      "2021-11-30 16:36:20 [scrapy.downloadermiddlewares.retry] ERROR: Gave up retrying <GET http://www.gopapr.com> (failed 3 times): DNS lookup failed: no results for hostname lookup: www.gopapr.com.\n",
      "2021-11-30 16:36:20 [scrapy.core.scraper] ERROR: Error downloading <GET http://www.gopapr.com>\n",
      "Traceback (most recent call last):\n",
      "  File \"C:\\Users\\MStopa\\AppData\\Local\\Continuum\\anaconda3\\envs\\webscrape\\lib\\site-packages\\twisted\\internet\\defer.py\", line 1416, in _inlineCallbacks\n",
      "    result = result.throwExceptionIntoGenerator(g)\n",
      "  File \"C:\\Users\\MStopa\\AppData\\Local\\Continuum\\anaconda3\\envs\\webscrape\\lib\\site-packages\\twisted\\python\\failure.py\", line 512, in throwExceptionIntoGenerator\n",
      "    return g.throw(self.type, self.value, self.tb)\n",
      "  File \"C:\\Users\\MStopa\\AppData\\Local\\Continuum\\anaconda3\\envs\\webscrape\\lib\\site-packages\\scrapy\\core\\downloader\\middleware.py\", line 44, in process_request\n",
      "    return (yield download_func(request=request, spider=spider))\n",
      "  File \"C:\\Users\\MStopa\\AppData\\Local\\Continuum\\anaconda3\\envs\\webscrape\\lib\\site-packages\\twisted\\internet\\defer.py\", line 654, in _runCallbacks\n",
      "    current.result = callback(current.result, *args, **kw)\n",
      "  File \"C:\\Users\\MStopa\\AppData\\Local\\Continuum\\anaconda3\\envs\\webscrape\\lib\\site-packages\\twisted\\internet\\endpoints.py\", line 982, in startConnectionAttempts\n",
      "    \"no results for hostname lookup: {}\".format(self._hostStr)\n",
      "twisted.internet.error.DNSLookupError: DNS lookup failed: no results for hostname lookup: www.gopapr.com.\n",
      "2021-11-30 16:36:20 [scrapy.downloadermiddlewares.redirect] DEBUG: Redirecting (301) to <GET https://www.rapidliquidprint.co/> from <GET http://rapidliquidprint.co>\n",
      "2021-11-30 16:36:21 [scrapy.core.engine] DEBUG: Crawled (200) <GET https://www.obsidianam.net/> (referer: None)\n",
      "2021-11-30 16:36:21 [scrapy.core.engine] DEBUG: Crawled (200) <GET https://www.intellicor.com/> (referer: None)\n"
     ]
    },
    {
     "name": "stdout",
     "output_type": "stream",
     "text": [
      "site_url https://www.obsidianam.net/ site_url_close ['https://www.obsidianam.net/', 'https://www.vividink.net', 'http://www.bcdesign.net/']\n",
      "site_url_close[0] https://www.obsidianam.net/\n",
      "ii 74 self.companies[ii] Obsidian\n",
      "out1 true iout1 58 url https://www.obsidianam.net/\n",
      "companies[0] Nobelus this url https://www.obsidianam.net/\n"
     ]
    },
    {
     "name": "stderr",
     "output_type": "stream",
     "text": [
      "2021-11-30 16:36:21 [scrapy.core.engine] DEBUG: Crawled (200) <GET https://steinmancommunications.com/> (referer: None)\n"
     ]
    },
    {
     "name": "stdout",
     "output_type": "stream",
     "text": [
      "site_url https://www.intellicor.com/ site_url_close ['https://www.intellicor.com/', 'http://www.intelicoat.com', 'https://www.printwell.com/']\n",
      "site_url_close[0] https://www.intellicor.com/\n",
      "ii 76 self.companies[ii] Intellicor Communications\n",
      "out1 true iout1 59 url https://www.intellicor.com/\n",
      "companies[0] RedWorks Construction Technologies Inc. this url https://www.intellicor.com/\n"
     ]
    },
    {
     "name": "stderr",
     "output_type": "stream",
     "text": [
      "2021-11-30 16:36:22 [scrapy.core.engine] DEBUG: Crawled (200) <GET https://www.maava.co> (referer: None)\n"
     ]
    },
    {
     "name": "stdout",
     "output_type": "stream",
     "text": [
      "site_url https://steinmancommunications.com/ site_url_close ['https://steinmancommunications.com/', 'https://brehmcommunications.com/', 'https://onthemarkcommunications.com']\n",
      "site_url_close[0] https://steinmancommunications.com/\n",
      "ii 77 self.companies[ii] Steinman Communications\n",
      "out1 true iout1 60 url https://steinmancommunications.com/\n",
      "companies[0] Social Indoor this url https://steinmancommunications.com/\n"
     ]
    },
    {
     "name": "stderr",
     "output_type": "stream",
     "text": [
      "2021-11-30 16:36:22 [scrapy.core.engine] DEBUG: Crawled (200) <GET https://www.tetonsim.com> (referer: None)\n",
      "2021-11-30 16:36:22 [scrapy.downloadermiddlewares.redirect] DEBUG: Redirecting (301) to <GET https://mengervalve.com/> from <GET http://mengervalve.com/>\n",
      "2021-11-30 16:36:22 [scrapy.core.engine] DEBUG: Crawled (200) <GET https://noobean.com/> (referer: None)\n"
     ]
    },
    {
     "name": "stdout",
     "output_type": "stream",
     "text": [
      "site_url https://www.maava.co site_url_close ['https://www.maava.co', 'https://www.makr.co', 'https://www.magna4.com/']\n",
      "site_url_close[0] https://www.maava.co\n",
      "ii 78 self.companies[ii] MAA'VA\n",
      "out1 true iout1 61 url https://www.maava.co\n",
      "companies[0] Print Parts Inc. this url https://www.maava.co\n"
     ]
    },
    {
     "name": "stderr",
     "output_type": "stream",
     "text": [
      "2021-11-30 16:36:23 [scrapy.core.engine] DEBUG: Crawled (200) <GET https://3dprintz.co.uk/> (referer: None)\n",
      "2021-11-30 16:36:23 [scrapy.downloadermiddlewares.redirect] DEBUG: Redirecting (301) to <GET http://artepit.com/> from <GET https://artepit.com>\n",
      "2021-11-30 16:36:23 [scrapy.core.engine] DEBUG: Crawled (200) <GET https://printsoflove.com/> (referer: None)\n"
     ]
    },
    {
     "name": "stdout",
     "output_type": "stream",
     "text": [
      "site_url https://www.tetonsim.com site_url_close ['https://www.tetonsim.com', 'https://www.tdtnews.com', 'https://www.tapecon.com']\n",
      "site_url_close[0] https://www.tetonsim.com\n",
      "ii 84 self.companies[ii] Teton Simulation\n",
      "out1 true iout1 62 url https://www.tetonsim.com\n",
      "companies[0] GoProto this url https://www.tetonsim.com\n"
     ]
    },
    {
     "name": "stderr",
     "output_type": "stream",
     "text": [
      "2021-11-30 16:36:23 [scrapy.core.engine] DEBUG: Crawled (200) <GET https://www.rapidliquidprint.co/> (referer: None)\n",
      "2021-11-30 16:36:23 [scrapy.downloadermiddlewares.redirect] DEBUG: Redirecting (301) to <GET https://www.thecosmeticboxes.com/> from <GET http://www.thecosmeticboxes.com/>\n",
      "2021-11-30 16:36:23 [scrapy.core.engine] DEBUG: Crawled (200) <GET https://mypingtag.com> (referer: None)\n"
     ]
    },
    {
     "name": "stdout",
     "output_type": "stream",
     "text": [
      "site_url https://noobean.com/ site_url_close ['https://noobean.com/', 'http://moolean.com/', 'https://diocesan.com/']\n",
      "site_url_close[0] https://noobean.com/\n",
      "ii 79 self.companies[ii] noobean\n",
      "out1 true iout1 63 url https://noobean.com/\n",
      "companies[0] DirectMail2.0 this url https://noobean.com/\n",
      "site_url https://3dprintz.co.uk/ site_url_close ['https://3dprintz.co.uk/', 'http://3dprint.com/', 'https://4dprint.com/']\n",
      "site_url_close[0] https://3dprintz.co.uk/\n",
      "ii 88 self.companies[ii] 3D Printz\n",
      "out1 true iout1 64 url https://3dprintz.co.uk/\n",
      "companies[0] PrinterDAO this url https://3dprintz.co.uk/\n"
     ]
    },
    {
     "name": "stderr",
     "output_type": "stream",
     "text": [
      "2021-11-30 16:36:24 [scrapy.core.engine] DEBUG: Crawled (200) <GET https://www.quantumaigroupeofcompanies.com/> (referer: None)\n",
      "2021-11-30 16:36:24 [scrapy.downloadermiddlewares.redirect] DEBUG: Redirecting (301) to <GET https://www.templi.com/> from <GET http://www.templi.com>\n",
      "2021-11-30 16:36:24 [scrapy.downloadermiddlewares.redirect] DEBUG: Redirecting (301) to <GET https://www.beam-machines.com/> from <GET http://www.beam-machines.com/>\n",
      "2021-11-30 16:36:24 [scrapy.downloadermiddlewares.redirect] DEBUG: Redirecting (301) to <GET https://rapidaxis.com/> from <GET https://www.rapidaxis.com>\n"
     ]
    },
    {
     "name": "stdout",
     "output_type": "stream",
     "text": [
      "site_url https://printsoflove.com/ site_url_close ['https://printsoflove.com/', 'http://printsf.com/', 'https://printresource.com/']\n",
      "site_url_close[0] https://printsoflove.com/\n",
      "ii 80 self.companies[ii] Prints of Love\n",
      "out1 true iout1 65 url https://printsoflove.com/\n",
      "companies[0] AMBOTS Inc. this url https://printsoflove.com/\n",
      "site_url https://www.rapidliquidprint.co/ site_url_close ['http://rapidliquidprint.co', 'https://www.rldprint.com/', 'http://www.liquidprinter.com']\n",
      "site_url_close[0] http://rapidliquidprint.co\n",
      "ii 75 self.companies[ii] Rapid Liquid Print\n",
      "out1 false iout2 9 url https://www.rapidliquidprint.co/\n",
      "companies[0] The Sheridan Group this url https://www.rapidliquidprint.co/\n"
     ]
    },
    {
     "name": "stderr",
     "output_type": "stream",
     "text": [
      "2021-11-30 16:36:25 [scrapy.core.engine] DEBUG: Crawled (200) <GET https://www.microndental.com> (referer: None)\n",
      "2021-11-30 16:36:25 [scrapy.core.engine] DEBUG: Crawled (200) <GET https://nano-ops.net/> (referer: None)\n",
      "2021-11-30 16:36:25 [scrapy.core.engine] DEBUG: Crawled (200) <GET https://www.closedloopplastics.com/> (referer: None)\n"
     ]
    },
    {
     "name": "stdout",
     "output_type": "stream",
     "text": [
      "site_url https://mypingtag.com site_url_close ['https://mypingtag.com', 'http://mrprint.com', 'https://printbangor.com/']\n",
      "site_url_close[0] https://mypingtag.com\n",
      "ii 86 self.companies[ii] PingTag\n",
      "out1 false iout2 10 url https://mypingtag.com\n",
      "companies[0] Obsidian this url https://mypingtag.com\n",
      "site_url https://www.quantumaigroupeofcompanies.com/ site_url_close ['https://www.quantumaigroupeofcompanies.com/', 'https://www.quantumgroup.com/', 'https://www.quantumco.com/']\n",
      "site_url_close[0] https://www.quantumaigroupeofcompanies.com/\n",
      "ii 89 self.companies[ii] Quantum_AI Group Of Companies\n",
      "out1 true iout1 66 url https://www.quantumaigroupeofcompanies.com/\n",
      "companies[0] Rapid Liquid Print this url https://www.quantumaigroupeofcompanies.com/\n",
      "site_url https://www.microndental.com site_url_close ['https://www.microndental.com', 'http://www.micropen.com', 'https://www.vispronet.com']\n",
      "site_url_close[0] https://www.microndental.com\n",
      "ii 87 self.companies[ii] Micron Inc\n",
      "out1 true iout1 67 url https://www.microndental.com\n",
      "companies[0] Intellicor Communications this url https://www.microndental.com\n",
      "site_url https://nano-ops.net/ site_url_close ['https://nano-ops.net/', 'https://psi2go.net/', 'http://ambots.net']\n",
      "site_url_close[0] https://nano-ops.net/\n",
      "ii 91 self.companies[ii] Nano OPS\n",
      "out1 true iout1 68 url https://nano-ops.net/\n",
      "companies[0] Steinman Communications this url https://nano-ops.net/\n"
     ]
    },
    {
     "name": "stderr",
     "output_type": "stream",
     "text": [
      "2021-11-30 16:36:27 [scrapy.downloadermiddlewares.redirect] DEBUG: Redirecting (301) to <GET https://mforia.com/> from <GET https://www.mforia.com/>\n",
      "2021-11-30 16:36:27 [scrapy.core.engine] DEBUG: Crawled (200) <GET http://artepit.com/> (referer: None)\n",
      "2021-11-30 16:36:27 [scrapy.core.engine] DEBUG: Crawled (200) <GET https://www.thecosmeticboxes.com/> (referer: None)\n"
     ]
    },
    {
     "name": "stdout",
     "output_type": "stream",
     "text": [
      "site_url https://www.closedloopplastics.com/ site_url_close ['https://www.closedloopplastics.com/', 'https://www.rosotics.com/', 'https://www.commandplastic.com']\n",
      "site_url_close[0] https://www.closedloopplastics.com/\n",
      "ii 90 self.companies[ii] Closed Loop Plastics\n",
      "out1 true iout1 69 url https://www.closedloopplastics.com/\n",
      "companies[0] MAA'VA this url https://www.closedloopplastics.com/\n"
     ]
    },
    {
     "name": "stderr",
     "output_type": "stream",
     "text": [
      "2021-11-30 16:36:27 [scrapy.core.engine] DEBUG: Crawled (200) <GET http://www.digitalevolution.com/> (referer: None)\n",
      "2021-11-30 16:36:27 [scrapy.core.engine] DEBUG: Crawled (200) <GET https://www.teraengineering.com> (referer: None)\n"
     ]
    },
    {
     "name": "stdout",
     "output_type": "stream",
     "text": [
      "site_url http://artepit.com/ site_url_close ['https://artepit.com', 'http://amrep.com', 'https://santeeprint.com/']\n",
      "site_url_close[0] https://artepit.com\n",
      "ii 83 self.companies[ii] Artepit.com\n",
      "out1 true iout1 70 url http://artepit.com/\n",
      "companies[0] noobean this url http://artepit.com/\n"
     ]
    },
    {
     "name": "stderr",
     "output_type": "stream",
     "text": [
      "2021-11-30 16:36:27 [scrapy.core.engine] DEBUG: Crawled (200) <GET https://www.rocketnotes.com/> (referer: None)\n"
     ]
    },
    {
     "name": "stdout",
     "output_type": "stream",
     "text": [
      "site_url https://www.thecosmeticboxes.com/ site_url_close ['http://www.thecosmeticboxes.com/', 'https://www.thecustomboxes.com/', 'https://www.tomedes.com/']\n",
      "site_url_close[0] http://www.thecosmeticboxes.com/\n",
      "ii 81 self.companies[ii] TheCosmeticBoxes\n",
      "out1 true iout1 71 url https://www.thecosmeticboxes.com/\n",
      "companies[0] Prints of Love this url https://www.thecosmeticboxes.com/\n",
      "site_url http://www.digitalevolution.com/ site_url_close ['http://www.digitalevolution.com/', 'http://www.digitallabelsolutions.com/', 'http://www.digitalartsolutions.com']\n",
      "site_url_close[0] http://www.digitalevolution.com/\n",
      "ii 100 self.companies[ii] Digital Evolution\n",
      "out1 false iout2 11 url http://www.digitalevolution.com/\n",
      "companies[0] TheCosmeticBoxes this url http://www.digitalevolution.com/\n"
     ]
    },
    {
     "name": "stderr",
     "output_type": "stream",
     "text": [
      "2021-11-30 16:36:28 [scrapy.core.engine] DEBUG: Crawled (200) <GET https://mengervalve.com/> (referer: None)\n",
      "2021-11-30 16:36:28 [scrapy.core.engine] DEBUG: Crawled (200) <GET http://canocreative.com/> (referer: None)\n",
      "2021-11-30 16:36:28 [scrapy.core.engine] DEBUG: Crawled (200) <GET https://www.paperbirdpackaging.com> (referer: None)\n",
      "2021-11-30 16:36:28 [scrapy.downloadermiddlewares.redirect] DEBUG: Redirecting (301) to <GET https://jawstec.com/> from <GET http://jawstec.com/>\n",
      "2021-11-30 16:36:28 [scrapy.downloadermiddlewares.redirect] DEBUG: Redirecting (301) to <GET https://beamakerclub.com/> from <GET https://www.beamakerclub.com/>\n",
      "2021-11-30 16:36:28 [scrapy.downloadermiddlewares.redirect] DEBUG: Redirecting (301) to <GET http://www.slant3d.com/> from <GET http://slant3d.com>\n"
     ]
    },
    {
     "name": "stdout",
     "output_type": "stream",
     "text": [
      "site_url https://www.teraengineering.com site_url_close ['https://www.teraengineering.com', 'https://www.sliceengineering.com', 'http://www.hicraftengineering.com']\n",
      "site_url_close[0] https://www.teraengineering.com\n",
      "ii 96 self.companies[ii] Tera Engineering Co.\n",
      "out1 true iout1 72 url https://www.teraengineering.com\n",
      "companies[0] Menger Valve, Inc. this url https://www.teraengineering.com\n"
     ]
    },
    {
     "name": "stderr",
     "output_type": "stream",
     "text": [
      "2021-11-30 16:36:29 [scrapy.core.engine] DEBUG: Crawled (200) <GET https://www.writersrepublic.com/> (referer: None)\n"
     ]
    },
    {
     "name": "stdout",
     "output_type": "stream",
     "text": [
      "site_url https://www.rocketnotes.com/ site_url_close ['https://www.rocketnotes.com/', 'https://www.kennytees.com/', 'https://www.crockerandco.com/']\n",
      "site_url_close[0] https://www.rocketnotes.com/\n",
      "ii 97 self.companies[ii] Rocket Notes\n",
      "out1 true iout1 73 url https://www.rocketnotes.com/\n",
      "companies[0] Artepit.com this url https://www.rocketnotes.com/\n",
      "site_url https://mengervalve.com/ site_url_close ['http://mengervalve.com/', 'https://metzgers.com/', 'https://x-central.com/']\n",
      "site_url_close[0] http://mengervalve.com/\n",
      "ii 82 self.companies[ii] Menger Valve, Inc.\n",
      "out1 true iout1 74 url https://mengervalve.com/\n",
      "companies[0] Teton Simulation this url https://mengervalve.com/\n",
      "site_url http://canocreative.com/ site_url_close ['http://canocreative.com/', 'http://moscreative.com/', 'https://ninecreative.com/']\n",
      "site_url_close[0] http://canocreative.com/\n",
      "ii 101 self.companies[ii] Cano Creative\n",
      "out1 true iout1 75 url http://canocreative.com/\n",
      "companies[0] RAPID AXIS this url http://canocreative.com/\n"
     ]
    },
    {
     "name": "stderr",
     "output_type": "stream",
     "text": [
      "2021-11-30 16:36:30 [scrapy.downloadermiddlewares.redirect] DEBUG: Redirecting (301) to <GET https://www.divmfgtech.com/> from <GET http://www.divmfgtech.com>\n",
      "2021-11-30 16:36:30 [scrapy.downloadermiddlewares.retry] DEBUG: Retrying <GET http://www.bpc.eco/> (failed 1 times): DNS lookup failed: no results for hostname lookup: www.bpc.eco.\n"
     ]
    },
    {
     "name": "stdout",
     "output_type": "stream",
     "text": [
      "site_url https://www.paperbirdpackaging.com site_url_close ['https://www.paperbirdpackaging.com', 'https://www.bluebirdpackaging.com/', 'https://www.yespackaging.com/']\n",
      "site_url_close[0] https://www.paperbirdpackaging.com\n",
      "ii 99 self.companies[ii] Paper Bird Packaging\n",
      "out1 true iout1 76 url https://www.paperbirdpackaging.com\n",
      "companies[0] PingTag this url https://www.paperbirdpackaging.com\n"
     ]
    },
    {
     "name": "stderr",
     "output_type": "stream",
     "text": [
      "2021-11-30 16:36:31 [scrapy.core.engine] DEBUG: Crawled (200) <GET https://urgentboxes.com/> (referer: None)\n"
     ]
    },
    {
     "name": "stdout",
     "output_type": "stream",
     "text": [
      "site_url https://www.writersrepublic.com/ site_url_close ['https://www.writersrepublic.com/', 'https://www.waterlogic.com/', 'https://www.printersrepairparts.com/']\n",
      "site_url_close[0] https://www.writersrepublic.com/\n",
      "ii 98 self.companies[ii] Writers Republic, LLC\n",
      "out1 true iout1 77 url https://www.writersrepublic.com/\n",
      "companies[0] Micron Inc this url https://www.writersrepublic.com/\n"
     ]
    },
    {
     "name": "stderr",
     "output_type": "stream",
     "text": [
      "2021-11-30 16:36:31 [scrapy.core.engine] DEBUG: Crawled (200) <GET https://twinkleintime.com> (referer: None)\n",
      "2021-11-30 16:36:31 [scrapy.core.engine] DEBUG: Crawled (200) <GET https://www.goodprints.com/> (referer: None)\n",
      "2021-11-30 16:36:31 [scrapy.downloadermiddlewares.retry] ERROR: Gave up retrying <GET https://customprintbox.com/> (failed 3 times): TCP connection timed out: 10060: A connection attempt failed because the connected party did not properly respond after a period of time, or established connection failed because connected host has failed to respond..\n"
     ]
    },
    {
     "name": "stdout",
     "output_type": "stream",
     "text": [
      "site_url https://urgentboxes.com/ site_url_close ['https://urgentboxes.com/', 'https://rednews.com/', 'https://getbandposters.com/']\n",
      "site_url_close[0] https://urgentboxes.com/\n",
      "ii 104 self.companies[ii] urgentboxes\n",
      "out1 true iout1 78 url https://urgentboxes.com/\n",
      "companies[0] 3D Printz this url https://urgentboxes.com/\n"
     ]
    },
    {
     "name": "stderr",
     "output_type": "stream",
     "text": [
      "2021-11-30 16:36:32 [scrapy.core.scraper] ERROR: Error downloading <GET https://customprintbox.com/>\n",
      "Traceback (most recent call last):\n",
      "  File \"C:\\Users\\MStopa\\AppData\\Local\\Continuum\\anaconda3\\envs\\webscrape\\lib\\site-packages\\scrapy\\core\\downloader\\middleware.py\", line 44, in process_request\n",
      "    return (yield download_func(request=request, spider=spider))\n",
      "twisted.internet.error.TCPTimedOutError: TCP connection timed out: 10060: A connection attempt failed because the connected party did not properly respond after a period of time, or established connection failed because connected host has failed to respond..\n"
     ]
    },
    {
     "name": "stdout",
     "output_type": "stream",
     "text": [
      "site_url https://twinkleintime.com site_url_close ['https://twinkleintime.com', 'https://printtime.com', 'http://thinkpatented.com']\n",
      "site_url_close[0] https://twinkleintime.com\n",
      "ii 106 self.companies[ii] AndAlways\n",
      "out1 true iout1 79 url https://twinkleintime.com\n",
      "companies[0] Quantum_AI Group Of Companies this url https://twinkleintime.com\n"
     ]
    },
    {
     "name": "stderr",
     "output_type": "stream",
     "text": [
      "2021-11-30 16:36:32 [scrapy.core.engine] DEBUG: Crawled (200) <GET https://www.sharecredentials.com/> (referer: None)\n"
     ]
    },
    {
     "name": "stdout",
     "output_type": "stream",
     "text": [
      "site_url https://www.goodprints.com/ site_url_close ['https://www.goodprints.com/', 'http://www.goodprinters.com', 'https://www.thegoodprinter.com/']\n",
      "site_url_close[0] https://www.goodprints.com/\n",
      "ii 107 self.companies[ii] GoodPrints.com\n",
      "out1 true iout1 80 url https://www.goodprints.com/\n",
      "companies[0] Closed Loop Plastics this url https://www.goodprints.com/\n"
     ]
    },
    {
     "name": "stderr",
     "output_type": "stream",
     "text": [
      "2021-11-30 16:36:33 [scrapy.downloadermiddlewares.redirect] DEBUG: Redirecting (301) to <GET https://www.3dhybridsolutions.com/> from <GET http://www.3dhybridsolutions.com>\n",
      "2021-11-30 16:36:33 [scrapy.core.engine] DEBUG: Crawled (200) <GET https://www.beam-machines.com/> (referer: None)\n",
      "2021-11-30 16:36:33 [scrapy.core.engine] DEBUG: Crawled (200) <GET https://rapidaxis.com/> (referer: None)\n",
      "2021-11-30 16:36:33 [scrapy.core.engine] DEBUG: Crawled (200) <GET https://www.customboxesfor.com> (referer: None)\n",
      "2021-11-30 16:36:33 [scrapy.core.engine] DEBUG: Crawled (200) <GET https://www.thelegacyprinting.com/> (referer: None)\n"
     ]
    },
    {
     "name": "stdout",
     "output_type": "stream",
     "text": [
      "site_url https://www.sharecredentials.com/ site_url_close ['https://www.sharecredentials.com/', 'https://www.sharpercards.com/', 'https://www.barcodestalk.com/']\n",
      "site_url_close[0] https://www.sharecredentials.com/\n",
      "ii 110 self.companies[ii] ShareCredentials\n",
      "out1 true iout1 81 url https://www.sharecredentials.com/\n",
      "companies[0] Nano OPS this url https://www.sharecredentials.com/\n"
     ]
    },
    {
     "name": "stderr",
     "output_type": "stream",
     "text": [
      "2021-11-30 16:36:33 [scrapy.core.scraper] DEBUG: Scraped from <200 https://www.beam-machines.com/>\n",
      "{'Organization': 'BeAM Machines',\n",
      " 'fulltext': 'BeAM is a French based company manufacturing industrial metal 3D printers/additive manufacturing machines using Directed Energy Deposition technology. Our Machines allow a layer-by-layer metal deposition in order to manufacture and repair parts, as well as add functions and shapes on already existing parts directly from a CAD file.',\n",
      " 'searchterm': 'additive manufacturing',\n",
      " 'url': 'https://www.beam-machines.com/'}\n",
      "2021-11-30 16:36:33 [scrapy.core.engine] DEBUG: Crawled (200) <GET https://beamakerclub.com/> (referer: None)\n",
      "2021-11-30 16:36:33 [scrapy.core.engine] DEBUG: Crawled (200) <GET https://www.allprintheads.com/> (referer: None)\n"
     ]
    },
    {
     "name": "stdout",
     "output_type": "stream",
     "text": [
      "site_url https://www.beam-machines.com/ site_url_close ['http://www.beam-machines.com/', 'http://www.typeamachines.com/', 'https://www.vandammachine.com/']\n",
      "site_url_close[0] http://www.beam-machines.com/\n",
      "ii 92 self.companies[ii] BeAM Machines\n",
      "yielding item additive manufacturing\n",
      "out1 true iout1 82 url https://www.beam-machines.com/\n",
      "companies[0] BeAM Machines this url https://www.beam-machines.com/\n",
      "site_url https://rapidaxis.com/ site_url_close ['https://www.rapidaxis.com', 'https://fadaniels.com/', 'https://priapps.com/']\n",
      "site_url_close[0] https://www.rapidaxis.com\n",
      "ii 85 self.companies[ii] RAPID AXIS\n",
      "out1 true iout1 83 url https://rapidaxis.com/\n",
      "companies[0] Templi this url https://rapidaxis.com/\n",
      "site_url https://www.customboxesfor.com site_url_close ['https://www.customboxesfor.com', 'https://www.thecustomboxes.com/', 'https://www.customcolor.com/']\n",
      "site_url_close[0] https://www.customboxesfor.com\n",
      "ii 111 self.companies[ii] Custom Boxes For\n",
      "out1 true iout1 84 url https://www.customboxesfor.com\n",
      "companies[0] mforia.com - Full Service Print Shop • Printing • Signs • Banners • Shirts and more! this url https://www.customboxesfor.com\n"
     ]
    },
    {
     "name": "stderr",
     "output_type": "stream",
     "text": [
      "2021-11-30 16:36:35 [scrapy.core.engine] DEBUG: Crawled (200) <GET https://www.divmfgtech.com/> (referer: None)\n"
     ]
    },
    {
     "name": "stdout",
     "output_type": "stream",
     "text": [
      "site_url https://www.thelegacyprinting.com/ site_url_close ['https://www.thelegacyprinting.com/', 'https://www.eganprinting.com/', 'https://www.feyprinting.com/']\n",
      "site_url_close[0] https://www.thelegacyprinting.com/\n",
      "ii 109 self.companies[ii] The Legacy Printing\n",
      "out1 true iout1 85 url https://www.thelegacyprinting.com/\n",
      "companies[0] Be A Maker Club this url https://www.thelegacyprinting.com/\n",
      "site_url https://beamakerclub.com/ site_url_close ['https://www.beamakerclub.com/', 'https://pbaker.com/', 'https://adclub.com/']\n",
      "site_url_close[0] https://www.beamakerclub.com/\n",
      "ii 95 self.companies[ii] Be A Maker Club\n",
      "out1 true iout1 86 url https://beamakerclub.com/\n",
      "companies[0] Tera Engineering Co. this url https://beamakerclub.com/\n"
     ]
    },
    {
     "name": "stderr",
     "output_type": "stream",
     "text": [
      "2021-11-30 16:36:36 [scrapy.downloadermiddlewares.redirect] DEBUG: Redirecting (301) to <GET https://blueringstencils.com/> from <GET https://www.blueringstencils.com>\n",
      "2021-11-30 16:36:36 [scrapy.downloadermiddlewares.redirect] DEBUG: Redirecting (301) to <GET https://www.lifoti.com/> from <GET http://www.lifoti.com>\n",
      "2021-11-30 16:36:36 [scrapy.core.engine] DEBUG: Crawled (200) <GET http://www.platinumprintingnyc.com> (referer: None)\n",
      "2021-11-30 16:36:36 [scrapy.downloadermiddlewares.retry] ERROR: Gave up retrying <GET https://ulela.cyou> (failed 3 times): TCP connection timed out: 10060: A connection attempt failed because the connected party did not properly respond after a period of time, or established connection failed because connected host has failed to respond..\n",
      "2021-11-30 16:36:36 [scrapy.core.engine] DEBUG: Crawled (200) <GET https://mforia.com/> (referer: None)\n"
     ]
    },
    {
     "name": "stdout",
     "output_type": "stream",
     "text": [
      "site_url https://www.allprintheads.com/ site_url_close ['https://www.allprintheads.com/', 'https://www.valprint.com', 'https://www.fastprinters.com/']\n",
      "site_url_close[0] https://www.allprintheads.com/\n",
      "ii 113 self.companies[ii] Allprintheads\n",
      "out1 true iout1 87 url https://www.allprintheads.com/\n",
      "companies[0] Rocket Notes this url https://www.allprintheads.com/\n"
     ]
    },
    {
     "name": "stderr",
     "output_type": "stream",
     "text": [
      "2021-11-30 16:36:36 [scrapy.downloadermiddlewares.redirect] DEBUG: Redirecting (301) to <GET https://emblahome.com/> from <GET http://emblahome.com>\n",
      "2021-11-30 16:36:36 [scrapy.downloadermiddlewares.redirect] DEBUG: Redirecting (301) to <GET https://www.zerobarrierlabs.com/> from <GET http://www.zerobarrierlabs.com>\n",
      "2021-11-30 16:36:36 [scrapy.core.engine] DEBUG: Crawled (200) <GET https://www.promosuns.com> (referer: None)\n",
      "2021-11-30 16:36:36 [scrapy.core.scraper] ERROR: Error downloading <GET https://ulela.cyou>\n",
      "Traceback (most recent call last):\n",
      "  File \"C:\\Users\\MStopa\\AppData\\Local\\Continuum\\anaconda3\\envs\\webscrape\\lib\\site-packages\\scrapy\\core\\downloader\\middleware.py\", line 44, in process_request\n",
      "    return (yield download_func(request=request, spider=spider))\n",
      "twisted.internet.error.TCPTimedOutError: TCP connection timed out: 10060: A connection attempt failed because the connected party did not properly respond after a period of time, or established connection failed because connected host has failed to respond..\n"
     ]
    },
    {
     "name": "stdout",
     "output_type": "stream",
     "text": [
      "site_url https://www.divmfgtech.com/ site_url_close ['http://www.divmfgtech.com', 'https://www.drgtech.com/', 'https://www.mmeftech.com/']\n",
      "site_url_close[0] http://www.divmfgtech.com\n",
      "ii 105 self.companies[ii] Diversified Manufacturing Technologies LLC\n",
      "out1 true iout1 88 url https://www.divmfgtech.com/\n",
      "companies[0] Writers Republic, LLC this url https://www.divmfgtech.com/\n",
      "site_url http://www.platinumprintingnyc.com site_url_close ['http://www.platinumprintingnyc.com', 'https://www.lawtonprinting.com/', 'https://www.actionprinting.com/']\n",
      "site_url_close[0] http://www.platinumprintingnyc.com\n",
      "ii 117 self.companies[ii] Platinum Printing\n",
      "out1 false iout2 12 url http://www.platinumprintingnyc.com\n",
      "companies[0] Paper Bird Packaging this url http://www.platinumprintingnyc.com\n"
     ]
    },
    {
     "name": "stderr",
     "output_type": "stream",
     "text": [
      "2021-11-30 16:36:37 [scrapy.core.engine] DEBUG: Crawled (200) <GET https://www.templi.com/> (referer: None)\n",
      "2021-11-30 16:36:37 [scrapy.downloadermiddlewares.retry] DEBUG: Retrying <GET https://www.repli.com> (failed 1 times): DNS lookup failed: no results for hostname lookup: www.repli.com.\n"
     ]
    },
    {
     "name": "stdout",
     "output_type": "stream",
     "text": [
      "site_url https://mforia.com/ site_url_close ['https://www.mforia.com/', 'https://ocip.com/', 'https://priapps.com/']\n",
      "site_url_close[0] https://www.mforia.com/\n",
      "ii 94 self.companies[ii] mforia.com - Full Service Print Shop • Printing • Signs • Banners • Shirts and more!\n",
      "out1 true iout1 89 url https://mforia.com/\n",
      "companies[0] Digital Evolution this url https://mforia.com/\n"
     ]
    },
    {
     "name": "stderr",
     "output_type": "stream",
     "text": [
      "2021-11-30 16:36:37 [scrapy.downloadermiddlewares.redirect] DEBUG: Redirecting (301) to <GET https://www.auxetic.co/> from <GET http://www.auxetic.co/>\n",
      "2021-11-30 16:36:37 [scrapy.core.engine] DEBUG: Crawled (200) <GET https://www.skymailint.com> (referer: None)\n"
     ]
    },
    {
     "name": "stdout",
     "output_type": "stream",
     "text": [
      "site_url https://www.promosuns.com site_url_close ['https://www.promosuns.com', 'https://www.popmount.com', 'https://www.crpromos.com/']\n",
      "site_url_close[0] https://www.promosuns.com\n",
      "ii 112 self.companies[ii] Promosuns\n",
      "out1 true iout1 90 url https://www.promosuns.com\n",
      "companies[0] Cano Creative this url https://www.promosuns.com\n"
     ]
    },
    {
     "name": "stderr",
     "output_type": "stream",
     "text": [
      "2021-11-30 16:36:38 [scrapy.core.engine] DEBUG: Crawled (200) <GET https://www.designnbuy.com> (referer: None)\n",
      "2021-11-30 16:36:38 [scrapy.downloadermiddlewares.redirect] DEBUG: Redirecting (301) to <GET https://www.slant3d.com/> from <GET http://www.slant3d.com/>\n"
     ]
    },
    {
     "name": "stdout",
     "output_type": "stream",
     "text": [
      "site_url https://www.templi.com/ site_url_close ['http://www.templi.com', 'https://www.repli.com', 'https://www.polid.com/']\n",
      "site_url_close[0] http://www.templi.com\n",
      "ii 93 self.companies[ii] Templi\n",
      "out1 true iout1 91 url https://www.templi.com/\n",
      "companies[0] JawsTec LLC. this url https://www.templi.com/\n"
     ]
    },
    {
     "name": "stderr",
     "output_type": "stream",
     "text": [
      "2021-11-30 16:36:38 [scrapy.downloadermiddlewares.redirect] DEBUG: Redirecting (301) to <GET https://www.jawstec.com/> from <GET https://jawstec.com/>\n",
      "2021-11-30 16:36:38 [scrapy.core.downloader.tls] WARNING: Remote certificate is not valid for hostname \"www.freenters.com\"; VerificationError(errors=[DNSMismatch(mismatched_id=DNS_ID(hostname=b'www.freenters.com'))])\n"
     ]
    },
    {
     "name": "stdout",
     "output_type": "stream",
     "text": [
      "site_url https://www.skymailint.com site_url_close ['https://www.skymailint.com', 'https://www.mailing.com/', 'https://www.dmmailing.com']\n",
      "site_url_close[0] https://www.skymailint.com\n",
      "ii 120 self.companies[ii] Skymail International\n",
      "out1 true iout1 92 url https://www.skymailint.com\n",
      "companies[0] Slant 3D this url https://www.skymailint.com\n"
     ]
    },
    {
     "name": "stderr",
     "output_type": "stream",
     "text": [
      "2021-11-30 16:36:38 [scrapy.core.engine] DEBUG: Crawled (200) <GET https://www.freenters.com> (referer: None)\n",
      "2021-11-30 16:36:38 [scrapy.downloadermiddlewares.redirect] DEBUG: Redirecting (301) to <GET https://www.skyphos.tech/> from <GET https://skyphos.tech>\n"
     ]
    },
    {
     "name": "stdout",
     "output_type": "stream",
     "text": [
      "site_url https://www.designnbuy.com site_url_close ['https://www.designnbuy.com', 'http://www.designnbuy.com', 'https://www.deesign.com/']\n",
      "site_url_close[0] https://www.designnbuy.com\n",
      "ii 121 self.companies[ii] DESIGNNBUY, INC.\n",
      "out1 true iout1 93 url https://www.designnbuy.com\n",
      "companies[0] urgentboxes this url https://www.designnbuy.com\n"
     ]
    },
    {
     "name": "stderr",
     "output_type": "stream",
     "text": [
      "2021-11-30 16:36:39 [scrapy.downloadermiddlewares.redirect] DEBUG: Redirecting (301) to <GET https://www.tronix3d.com/> from <GET https://tronix3d.com/>\n",
      "2021-11-30 16:36:39 [scrapy.core.engine] DEBUG: Crawled (200) <GET https://www.wheresmyjob.com> (referer: None)\n"
     ]
    },
    {
     "name": "stdout",
     "output_type": "stream",
     "text": [
      "site_url https://www.freenters.com site_url_close ['https://www.freenters.com', 'https://www.bfsprinters.com/', 'http://www.freedomprinters.com/']\n",
      "site_url_close[0] https://www.freenters.com\n",
      "ii 124 self.companies[ii] Freenters\n",
      "out1 false iout2 13 url https://www.freenters.com\n",
      "companies[0] Diversified Manufacturing Technologies LLC this url https://www.freenters.com\n"
     ]
    },
    {
     "name": "stderr",
     "output_type": "stream",
     "text": [
      "2021-11-30 16:36:39 [scrapy.core.scraper] DEBUG: Scraped from <200 https://www.wheresmyjob.com>\n",
      "{'Organization': 'WhereMyJob',\n",
      " 'fulltext': 'nan',\n",
      " 'searchterm': 'screen printing',\n",
      " 'url': 'https://www.wheresmyjob.com'}\n",
      "2021-11-30 16:36:39 [scrapy.core.engine] DEBUG: Crawled (200) <GET https://www.royalos.com/> (referer: None)\n",
      "2021-11-30 16:36:39 [scrapy.core.engine] DEBUG: Crawled (200) <GET https://syrreo.com> (referer: None)\n",
      "2021-11-30 16:36:39 [scrapy.downloadermiddlewares.retry] DEBUG: Retrying <GET https://campaignelves.com> (failed 1 times): DNS lookup failed: no results for hostname lookup: campaignelves.com.\n"
     ]
    },
    {
     "name": "stdout",
     "output_type": "stream",
     "text": [
      "site_url https://www.wheresmyjob.com site_url_close ['https://www.wheresmyjob.com', 'http://www.herley.com', 'https://www.versoco.com']\n",
      "site_url_close[0] https://www.wheresmyjob.com\n",
      "ii 125 self.companies[ii] WhereMyJob\n",
      "yielding item screen printing\n",
      "out1 true iout1 94 url https://www.wheresmyjob.com\n",
      "companies[0] AndAlways this url https://www.wheresmyjob.com\n"
     ]
    },
    {
     "name": "stderr",
     "output_type": "stream",
     "text": [
      "2021-11-30 16:36:40 [scrapy.core.engine] DEBUG: Crawled (200) <GET http://zappackaging.com> (referer: None)\n",
      "2021-11-30 16:36:40 [scrapy.core.engine] DEBUG: Crawled (200) <GET https://www.lifoti.com/> (referer: None)\n"
     ]
    },
    {
     "name": "stdout",
     "output_type": "stream",
     "text": [
      "site_url https://www.royalos.com/ site_url_close ['https://www.royalos.com/', 'https://www.royalenv.com', 'https://www.kozas.com/']\n",
      "site_url_close[0] https://www.royalos.com/\n",
      "ii 128 self.companies[ii] Royal OS\n",
      "out1 true iout1 95 url https://www.royalos.com/\n",
      "companies[0] GoodPrints.com this url https://www.royalos.com/\n",
      "site_url https://syrreo.com site_url_close ['https://syrreo.com', 'https://mcspro.com', 'https://arevo.com/']\n",
      "site_url_close[0] https://syrreo.com\n",
      "ii 129 self.companies[ii] Syrreo\n",
      "out1 true iout1 96 url https://syrreo.com\n",
      "companies[0] Biomass Plastics Inc this url https://syrreo.com\n",
      "site_url http://zappackaging.com site_url_close ['http://zappackaging.com', 'http://3cpackaging.com/', 'http://3cpackaging.com/']\n",
      "site_url_close[0] http://zappackaging.com\n",
      "ii 130 self.companies[ii] Zapp Packaging\n",
      "out1 true iout1 97 url http://zappackaging.com\n",
      "companies[0] The Legacy Printing this url http://zappackaging.com\n"
     ]
    },
    {
     "name": "stderr",
     "output_type": "stream",
     "text": [
      "2021-11-30 16:36:41 [scrapy.downloadermiddlewares.retry] DEBUG: Retrying <GET http://www.bpc.eco/> (failed 2 times): DNS lookup failed: no results for hostname lookup: www.bpc.eco.\n"
     ]
    },
    {
     "name": "stdout",
     "output_type": "stream",
     "text": [
      "site_url https://www.lifoti.com/ site_url_close ['http://www.lifoti.com', 'https://www.lichtfoto.com/', 'https://www.lifterp.com/']\n",
      "site_url_close[0] http://www.lifoti.com\n",
      "ii 116 self.companies[ii] Lifoti Magazine\n",
      "out1 true iout1 98 url https://www.lifoti.com/\n",
      "companies[0] ShareCredentials this url https://www.lifoti.com/\n"
     ]
    },
    {
     "name": "stderr",
     "output_type": "stream",
     "text": [
      "2021-11-30 16:36:41 [scrapy.core.engine] DEBUG: Crawled (200) <GET https://www.zerobarrierlabs.com/> (referer: None)\n",
      "2021-11-30 16:36:41 [scrapy.core.engine] DEBUG: Crawled (200) <GET https://www.doubleissuemag.org/> (referer: None)\n",
      "2021-11-30 16:36:42 [scrapy.core.engine] DEBUG: Crawled (200) <GET https://www.colorhubprint.com> (referer: None)\n"
     ]
    },
    {
     "name": "stdout",
     "output_type": "stream",
     "text": [
      "site_url https://www.zerobarrierlabs.com/ site_url_close ['http://www.zerobarrierlabs.com', 'https://www.weilerls.com/', 'https://www.frontierlabel.com/']\n",
      "site_url_close[0] http://www.zerobarrierlabs.com\n",
      "ii 118 self.companies[ii] Zero Barrier\n",
      "out1 true iout1 99 url https://www.zerobarrierlabs.com/\n",
      "companies[0] Custom Boxes For this url https://www.zerobarrierlabs.com/\n"
     ]
    },
    {
     "name": "stderr",
     "output_type": "stream",
     "text": [
      "2021-11-30 16:36:42 [scrapy.core.engine] DEBUG: Crawled (200) <GET https://www.customsticker.com/> (referer: None)\n"
     ]
    },
    {
     "name": "stdout",
     "output_type": "stream",
     "text": [
      "site_url https://www.doubleissuemag.org/ site_url_close ['https://www.doubleissuemag.org/', 'https://www.honblue.com/', 'https://www.omnisystem.com/']\n",
      "site_url_close[0] https://www.doubleissuemag.org/\n",
      "ii 132 self.companies[ii] Double Issue\n",
      "out1 false iout2 14 url https://www.doubleissuemag.org/\n",
      "companies[0] Promosuns this url https://www.doubleissuemag.org/\n"
     ]
    },
    {
     "name": "stderr",
     "output_type": "stream",
     "text": [
      "2021-11-30 16:36:43 [scrapy.core.engine] DEBUG: Crawled (200) <GET https://www.titanic.design/> (referer: None)\n"
     ]
    },
    {
     "name": "stdout",
     "output_type": "stream",
     "text": [
      "site_url https://www.colorhubprint.com site_url_close ['https://www.colorhubprint.com', 'https://www.colorproprint.com', 'https://www.colorgraphicprint.com/']\n",
      "site_url_close[0] https://www.colorhubprint.com\n",
      "ii 135 self.companies[ii] ColorHub\n",
      "out1 true iout1 100 url https://www.colorhubprint.com\n",
      "companies[0] Allprintheads this url https://www.colorhubprint.com\n"
     ]
    },
    {
     "name": "stderr",
     "output_type": "stream",
     "text": [
      "2021-11-30 16:36:43 [scrapy.core.engine] DEBUG: Crawled (200) <GET https://www.bagzdepot.com/> (referer: None)\n",
      "2021-11-30 16:36:43 [scrapy.downloadermiddlewares.retry] DEBUG: Retrying <GET https://www.radiance4d.com/> (failed 1 times): DNS lookup failed: no results for hostname lookup: www.radiance4d.com.\n"
     ]
    },
    {
     "name": "stdout",
     "output_type": "stream",
     "text": [
      "site_url https://www.customsticker.com/ site_url_close ['https://www.customsticker.com/', 'https://www.customink.com/', 'https://www.customcolor.com/']\n",
      "site_url_close[0] https://www.customsticker.com/\n",
      "ii 134 self.companies[ii] Custom Sticker\n",
      "out1 true iout1 101 url https://www.customsticker.com/\n",
      "companies[0] 3D Hybrid Solutions this url https://www.customsticker.com/\n"
     ]
    },
    {
     "name": "stderr",
     "output_type": "stream",
     "text": [
      "2021-11-30 16:36:43 [scrapy.core.engine] DEBUG: Crawled (200) <GET https://emblahome.com/> (referer: None)\n"
     ]
    },
    {
     "name": "stdout",
     "output_type": "stream",
     "text": [
      "site_url https://www.titanic.design/ site_url_close ['https://www.titanic.design/', 'https://www.ardesign.us/', 'https://www.trendesign.com/']\n",
      "site_url_close[0] https://www.titanic.design/\n",
      "ii 133 self.companies[ii] Titanic Design\n",
      "out1 true iout1 102 url https://www.titanic.design/\n",
      "companies[0] BlueRing Stencils this url https://www.titanic.design/\n"
     ]
    },
    {
     "name": "stderr",
     "output_type": "stream",
     "text": [
      "2021-11-30 16:36:44 [scrapy.core.scraper] DEBUG: Scraped from <200 https://www.bagzdepot.com/>\n",
      "{'Organization': 'BagzDepot',\n",
      " 'fulltext': 'Looking for reusable bags to showcase your amazing business or organization? But you’re not sure which bag manufacturer can offer you the best quality bags for the most affordable price? BagzDepot is your one-stop shop for bags of all kinds! We produce our bags with the utmost care and highest quality materials so you can showcase your brand, message, or artwork in the most vibrant and appealing way.  From canvas tote bags, burlap bags, drawstring bags, backpacks and duffle bags, we’re the depot of all sorts of bags! Based in the USA, we have distribution centers strategically located to deliver orders of any size within 1-2 business days.  We at BagzDepot offer all our bags at the most competitive wholesale rates on the market. We’ve served over 200,000 happy customers and counting. With our 24/7 customer support team and 30-day money back guarantee, you can be sure you are getting the highest quality bags at the most affordable prices, and most importantly, with the best customer care, before, during, and after the delivery of your order. Visit our website and order now! Either get them as blanks or have us personalize your bags for you with our in-house customization services.',\n",
      " 'searchterm': 'screen printing',\n",
      " 'url': 'https://www.bagzdepot.com/'}\n",
      "2021-11-30 16:36:44 [scrapy.downloadermiddlewares.redirect] DEBUG: Redirecting (302) to <GET https://www.creatorslabel.com/password> from <GET https://www.creatorslabel.com>\n",
      "2021-11-30 16:36:44 [scrapy.core.engine] DEBUG: Crawled (200) <GET https://www.paxis.com> (referer: None)\n",
      "2021-11-30 16:36:44 [scrapy.downloadermiddlewares.retry] DEBUG: Retrying <GET http://www.grasp3d.co> (failed 1 times): DNS lookup failed: no results for hostname lookup: www.grasp3d.co.\n"
     ]
    },
    {
     "name": "stdout",
     "output_type": "stream",
     "text": [
      "site_url https://www.bagzdepot.com/ site_url_close ['https://www.bagzdepot.com/', 'https://www.adeast.com/', 'https://www.gagepub.com/']\n",
      "site_url_close[0] https://www.bagzdepot.com/\n",
      "ii 136 self.companies[ii] BagzDepot\n",
      "yielding item screen printing\n",
      "out1 true iout1 103 url https://www.bagzdepot.com/\n",
      "companies[0] Lifoti Magazine this url https://www.bagzdepot.com/\n"
     ]
    },
    {
     "name": "stderr",
     "output_type": "stream",
     "text": [
      "2021-11-30 16:36:44 [scrapy.core.scraper] ERROR: Spider error processing <GET https://emblahome.com/> (referer: None)\n",
      "Traceback (most recent call last):\n",
      "  File \"C:\\Users\\MStopa\\AppData\\Local\\Continuum\\anaconda3\\envs\\webscrape\\lib\\site-packages\\scrapy\\utils\\defer.py\", line 120, in iter_errback\n",
      "    yield next(it)\n",
      "  File \"C:\\Users\\MStopa\\AppData\\Local\\Continuum\\anaconda3\\envs\\webscrape\\lib\\site-packages\\scrapy\\utils\\python.py\", line 346, in __next__\n",
      "    return next(self.data)\n",
      "  File \"C:\\Users\\MStopa\\AppData\\Local\\Continuum\\anaconda3\\envs\\webscrape\\lib\\site-packages\\scrapy\\utils\\python.py\", line 346, in __next__\n",
      "    return next(self.data)\n",
      "  File \"C:\\Users\\MStopa\\AppData\\Local\\Continuum\\anaconda3\\envs\\webscrape\\lib\\site-packages\\scrapy\\core\\spidermw.py\", line 64, in _evaluate_iterable\n",
      "    for r in iterable:\n",
      "  File \"C:\\Users\\MStopa\\AppData\\Local\\Continuum\\anaconda3\\envs\\webscrape\\lib\\site-packages\\scrapy\\spidermiddlewares\\offsite.py\", line 29, in process_spider_output\n",
      "    for x in result:\n",
      "  File \"C:\\Users\\MStopa\\AppData\\Local\\Continuum\\anaconda3\\envs\\webscrape\\lib\\site-packages\\scrapy\\core\\spidermw.py\", line 64, in _evaluate_iterable\n",
      "    for r in iterable:\n",
      "  File \"C:\\Users\\MStopa\\AppData\\Local\\Continuum\\anaconda3\\envs\\webscrape\\lib\\site-packages\\scrapy\\spidermiddlewares\\referer.py\", line 340, in <genexpr>\n",
      "    return (_set_referer(r) for r in result or ())\n",
      "  File \"C:\\Users\\MStopa\\AppData\\Local\\Continuum\\anaconda3\\envs\\webscrape\\lib\\site-packages\\scrapy\\core\\spidermw.py\", line 64, in _evaluate_iterable\n",
      "    for r in iterable:\n",
      "  File \"C:\\Users\\MStopa\\AppData\\Local\\Continuum\\anaconda3\\envs\\webscrape\\lib\\site-packages\\scrapy\\spidermiddlewares\\urllength.py\", line 37, in <genexpr>\n",
      "    return (r for r in result or () if _filter(r))\n",
      "  File \"C:\\Users\\MStopa\\AppData\\Local\\Continuum\\anaconda3\\envs\\webscrape\\lib\\site-packages\\scrapy\\core\\spidermw.py\", line 64, in _evaluate_iterable\n",
      "    for r in iterable:\n",
      "  File \"C:\\Users\\MStopa\\AppData\\Local\\Continuum\\anaconda3\\envs\\webscrape\\lib\\site-packages\\scrapy\\spidermiddlewares\\depth.py\", line 58, in <genexpr>\n",
      "    return (r for r in result or () if _filter(r))\n",
      "  File \"C:\\Users\\MStopa\\AppData\\Local\\Continuum\\anaconda3\\envs\\webscrape\\lib\\site-packages\\scrapy\\core\\spidermw.py\", line 64, in _evaluate_iterable\n",
      "    for r in iterable:\n",
      "  File \"<ipython-input-9-10a30e00531c>\", line 132, in parse\n",
      "    file1.write(out2 + '\\n')\n",
      "  File \"C:\\Users\\MStopa\\AppData\\Local\\Continuum\\anaconda3\\envs\\webscrape\\lib\\encodings\\cp1252.py\", line 19, in encode\n",
      "    return codecs.charmap_encode(input,self.errors,encoding_table)[0]\n",
      "UnicodeEncodeError: 'charmap' codec can't encode character '\\U0001f389' in position 82: character maps to <undefined>\n",
      "2021-11-30 16:36:44 [scrapy.core.engine] DEBUG: Crawled (200) <GET https://blueringstencils.com/> (referer: None)\n"
     ]
    },
    {
     "name": "stdout",
     "output_type": "stream",
     "text": [
      "site_url https://emblahome.com/ site_url_close ['http://emblahome.com', 'https://rambohouse.com/', 'https://ecmpublishers.com/']\n",
      "site_url_close[0] http://emblahome.com\n",
      "ii 119 self.companies[ii] Embla Co.\n",
      "out1 true iout1 104 url https://emblahome.com/\n"
     ]
    },
    {
     "name": "stderr",
     "output_type": "stream",
     "text": [
      "2021-11-30 16:36:45 [scrapy.core.scraper] DEBUG: Scraped from <200 https://www.paxis.com>\r\n",
      "{'Organization': 'Paxis',\n",
      " 'fulltext': 'The WAV™ (Wave Applied Voxel) process was created with the requirements of the commercial manufacturer in mind, in an effort to solve trapped volume issues within current liquid resin-based technologies. The success in solving one problem opened the doors to solving many, which include: Scalability in size and speed, significant reduction in post processing requirement, multiple material production, exotic material management, lower cost of operation, the elimination and need for a large vat during large-part production, as well as the ability for embedded components and many more. Founded in 2016, Paxis LLC, headquartered in Crystal Lake, IL, announced the development of the WAV™ (Wave Applied Voxel) process, with commercialization timing to be announced at a later date. Designed to meet advanced manufacturing needs within the Additive Manufacturing (AM) and 3D Printing industry, while expandable to non-AM industries WAV™ is a completely new, ground-up AM process. Designed without constraints, the new, patent-pending WAV™ technology is fully scalable in the X, Y, and Z axis, and deploys material in a unique way that allows for the production of extremely large part(s) or larger quantities of smaller parts, with as little as 1 liter of material loaded in the machine at any given time. The technology is designed to embrace the use of multiple materials of different viscosities within the same part build. For more information on the WAV™ additive manufacturing process and technology, please visit: www.paxis.com.',\n",
      " 'searchterm': 'additive manufacturing',\n",
      " 'url': 'https://www.paxis.com'}\n"
     ]
    },
    {
     "name": "stdout",
     "output_type": "stream",
     "text": [
      "site_url https://www.paxis.com site_url_close ['https://www.paxis.com', 'https://www.rapidaxis.com', 'https://www.praxismfg.com/']\n",
      "site_url_close[0] https://www.paxis.com\n",
      "ii 137 self.companies[ii] Paxis\n",
      "yielding item additive manufacturing\n",
      "out1 true iout1 105 url https://www.paxis.com\n",
      "companies[0] Platinum Printing this url https://www.paxis.com\n"
     ]
    },
    {
     "name": "stderr",
     "output_type": "stream",
     "text": [
      "2021-11-30 16:36:45 [scrapy.downloadermiddlewares.redirect] DEBUG: Redirecting (301) to <GET https://besjet.com/> from <GET http://www.besjet.com/>\n"
     ]
    },
    {
     "name": "stdout",
     "output_type": "stream",
     "text": [
      "site_url https://blueringstencils.com/ site_url_close ['https://www.blueringstencils.com', 'https://llprinters.com/', 'https://buchertech.com/']\n",
      "site_url_close[0] https://www.blueringstencils.com\n",
      "ii 115 self.companies[ii] BlueRing Stencils\n",
      "out1 true iout1 106 url https://blueringstencils.com/\n",
      "companies[0] Zero Barrier this url https://blueringstencils.com/\n"
     ]
    },
    {
     "name": "stderr",
     "output_type": "stream",
     "text": [
      "2021-11-30 16:36:45 [scrapy.core.engine] DEBUG: Crawled (200) <GET https://www.3dhybridsolutions.com/> (referer: None)\n",
      "2021-11-30 16:36:46 [scrapy.core.engine] DEBUG: Crawled (200) <GET https://www.tronix3d.com/> (referer: None)\n",
      "2021-11-30 16:36:46 [scrapy.downloadermiddlewares.retry] DEBUG: Retrying <GET https://www.repli.com> (failed 2 times): DNS lookup failed: no results for hostname lookup: www.repli.com.\n"
     ]
    },
    {
     "name": "stdout",
     "output_type": "stream",
     "text": [
      "site_url https://www.3dhybridsolutions.com/ site_url_close ['http://www.3dhybridsolutions.com', 'https://www.bridgecomsolutions.com/', 'https://www.tryadsolutions.com/']\n",
      "site_url_close[0] http://www.3dhybridsolutions.com\n",
      "ii 114 self.companies[ii] 3D Hybrid Solutions\n",
      "out1 false iout2 15 url https://www.3dhybridsolutions.com/\n",
      "companies[0] Embla Co. this url https://www.3dhybridsolutions.com/\n"
     ]
    },
    {
     "name": "stderr",
     "output_type": "stream",
     "text": [
      "2021-11-30 16:36:46 [scrapy.core.scraper] DEBUG: Scraped from <200 https://www.tronix3d.com/>\n",
      "{'Organization': 'Citronix',\n",
      " 'fulltext': 'nan',\n",
      " 'searchterm': 'additive manufacturing',\n",
      " 'url': 'https://www.tronix3d.com/'}\n",
      "2021-11-30 16:36:46 [scrapy.downloadermiddlewares.redirect] DEBUG: Redirecting (301) to <GET http://farfetchedcreations.com/> from <GET http://www.farfetchedcreations.com>\n",
      "2021-11-30 16:36:46 [scrapy.core.engine] DEBUG: Crawled (200) <GET https://inkpop.com> (referer: None)\n"
     ]
    },
    {
     "name": "stdout",
     "output_type": "stream",
     "text": [
      "site_url https://www.tronix3d.com/ site_url_close ['https://www.citronix.com/', 'https://tronix3d.com/', 'https://www.omniadv.com/']\n",
      "site_url_close[0] https://www.citronix.com/\n",
      "ii 4836 self.companies[ii] Citronix\n",
      "yielding item additive manufacturing\n",
      "out1 true iout1 107 url https://www.tronix3d.com/\n",
      "companies[0] Skymail International this url https://www.tronix3d.com/\n"
     ]
    },
    {
     "name": "stderr",
     "output_type": "stream",
     "text": [
      "2021-11-30 16:36:47 [scrapy.core.engine] DEBUG: Crawled (200) <GET http://www.landiindustries.com> (referer: None)\n"
     ]
    },
    {
     "name": "stdout",
     "output_type": "stream",
     "text": [
      "site_url https://inkpop.com site_url_close ['https://inkpop.com', 'http://inkd.com', 'https://qnp.com/']\n",
      "site_url_close[0] https://inkpop.com\n",
      "ii 143 self.companies[ii] Inkpop\n",
      "out1 true iout1 108 url https://inkpop.com\n",
      "companies[0] DESIGNNBUY, INC. this url https://inkpop.com\n"
     ]
    },
    {
     "name": "stderr",
     "output_type": "stream",
     "text": [
      "2021-11-30 16:36:47 [scrapy.core.engine] DEBUG: Crawled (200) <GET https://www.jawstec.com/> (referer: None)\n"
     ]
    },
    {
     "name": "stdout",
     "output_type": "stream",
     "text": [
      "site_url http://www.landiindustries.com site_url_close ['http://www.landiindustries.com', 'http://www.landiindustries.com', 'http://www.afeindustries.com/']\n",
      "site_url_close[0] http://www.landiindustries.com\n",
      "ii 144 self.companies[ii] Landi Industries\n",
      "out1 true iout1 109 url http://www.landiindustries.com\n",
      "companies[0] Auxetic this url http://www.landiindustries.com\n"
     ]
    },
    {
     "name": "stderr",
     "output_type": "stream",
     "text": [
      "2021-11-30 16:36:48 [scrapy.core.engine] DEBUG: Crawled (200) <GET https://www.lakeshoredesign.com/> (referer: None)\n",
      "2021-11-30 16:36:48 [scrapy.core.engine] DEBUG: Crawled (200) <GET https://www.slant3d.com/> (referer: None)\n",
      "2021-11-30 16:36:48 [scrapy.downloadermiddlewares.retry] DEBUG: Retrying <GET https://omnidragondevelopment.com> (failed 1 times): DNS lookup failed: no results for hostname lookup: omnidragondevelopment.com.\n",
      "2021-11-30 16:36:48 [scrapy.core.engine] DEBUG: Crawled (200) <GET https://imprintnetwork.com/> (referer: None)\n"
     ]
    },
    {
     "name": "stdout",
     "output_type": "stream",
     "text": [
      "site_url https://www.jawstec.com/ site_url_close ['https://www.vastex.com/', 'http://jawstec.com/', 'https://www.sfntc.com/']\n",
      "site_url_close[0] https://www.vastex.com/\n",
      "ii 2518 self.companies[ii] Vastex\n",
      "out1 true iout1 110 url https://www.jawstec.com/\n",
      "companies[0] Repli this url https://www.jawstec.com/\n",
      "site_url https://www.lakeshoredesign.com/ site_url_close ['https://www.lakeshoredesign.com/', 'https://www.lachancedesign.com/', 'https://www.trendesign.com/']\n",
      "site_url_close[0] https://www.lakeshoredesign.com/\n",
      "ii 146 self.companies[ii] Lakeshore Design\n",
      "out1 true iout1 111 url https://www.lakeshoredesign.com/\n",
      "companies[0] Freenters this url https://www.lakeshoredesign.com/\n",
      "site_url https://www.slant3d.com/ site_url_close ['https://www.mantle3d.com/', 'https://www.appntd.com/', 'https://www.laz3d.com']\n",
      "site_url_close[0] https://www.mantle3d.com/\n",
      "ii 2903 self.companies[ii] Mantle\n",
      "out1 false iout2 16 url https://www.slant3d.com/\n",
      "companies[0] WhereMyJob this url https://www.slant3d.com/\n"
     ]
    },
    {
     "name": "stderr",
     "output_type": "stream",
     "text": [
      "2021-11-30 16:36:49 [scrapy.core.engine] DEBUG: Crawled (200) <GET https://www.auxetic.co/> (referer: None)\n",
      "2021-11-30 16:36:49 [scrapy.downloadermiddlewares.redirect] DEBUG: Redirecting (301) to <GET https://money-merch.com/> from <GET https://www.money-merch.com>\n"
     ]
    },
    {
     "name": "stdout",
     "output_type": "stream",
     "text": [
      "site_url https://imprintnetwork.com/ site_url_close ['https://imprintnetwork.com/', 'https://rsnetwork.com/', 'https://printbangor.com/']\n",
      "site_url_close[0] https://imprintnetwork.com/\n",
      "ii 145 self.companies[ii] ImprintNetwork\n",
      "out1 true iout1 112 url https://imprintnetwork.com/\n",
      "companies[0] elliot mcallister this url https://imprintnetwork.com/\n"
     ]
    },
    {
     "name": "stderr",
     "output_type": "stream",
     "text": [
      "2021-11-30 16:36:50 [scrapy.downloadermiddlewares.redirect] DEBUG: Redirecting (301) to <GET https://www.expresseventprinting.com:443/> from <GET http://www.ExpressEventPrinting.com>\n",
      "2021-11-30 16:36:50 [scrapy.downloadermiddlewares.retry] DEBUG: Retrying <GET http://www.grasp3d.co> (failed 2 times): DNS lookup failed: no results for hostname lookup: www.grasp3d.co.\n",
      "2021-11-30 16:36:50 [scrapy.downloadermiddlewares.redirect] DEBUG: Redirecting (301) to <GET https://praxismfg.com/> from <GET https://www.praxismfg.com/>\n"
     ]
    },
    {
     "name": "stdout",
     "output_type": "stream",
     "text": [
      "site_url https://www.auxetic.co/ site_url_close ['http://www.auxetic.co/', 'https://www.tginc.com/', 'https://www.lazerinc.com/']\n",
      "site_url_close[0] http://www.auxetic.co/\n",
      "ii 122 self.companies[ii] Auxetic\n",
      "out1 true iout1 113 url https://www.auxetic.co/\n",
      "companies[0] Tronix3D this url https://www.auxetic.co/\n"
     ]
    },
    {
     "name": "stderr",
     "output_type": "stream",
     "text": [
      "2021-11-30 16:36:50 [scrapy.core.engine] DEBUG: Crawled (200) <GET https://www.skyphos.tech/> (referer: None)\n",
      "2021-11-30 16:36:50 [scrapy.core.engine] DEBUG: Crawled (200) <GET https://singularitydesign.co/> (referer: None)\n",
      "2021-11-30 16:36:50 [scrapy.downloadermiddlewares.retry] DEBUG: Retrying <GET https://campaignelves.com> (failed 2 times): DNS lookup failed: no results for hostname lookup: campaignelves.com.\n"
     ]
    },
    {
     "name": "stdout",
     "output_type": "stream",
     "text": [
      "site_url https://www.skyphos.tech/ site_url_close ['https://skyphos.tech', 'https://www.skyou.com/', 'https://www.kozas.com/']\n",
      "site_url_close[0] https://skyphos.tech\n",
      "ii 126 self.companies[ii] elliot mcallister\n",
      "out1 true iout1 114 url https://www.skyphos.tech/\n",
      "companies[0] Royal OS this url https://www.skyphos.tech/\n"
     ]
    },
    {
     "name": "stderr",
     "output_type": "stream",
     "text": [
      "2021-11-30 16:36:51 [scrapy.core.engine] DEBUG: Crawled (200) <GET https://bridgewayprinting.com/> (referer: None)\n",
      "2021-11-30 16:36:51 [scrapy.downloadermiddlewares.retry] ERROR: Gave up retrying <GET http://www.bpc.eco/> (failed 3 times): DNS lookup failed: no results for hostname lookup: www.bpc.eco.\n"
     ]
    },
    {
     "name": "stdout",
     "output_type": "stream",
     "text": [
      "site_url https://singularitydesign.co/ site_url_close ['https://singularitydesign.co/', 'https://blineburydesign.com/', 'https://siouxlandsigns.com']\n",
      "site_url_close[0] https://singularitydesign.co/\n",
      "ii 153 self.companies[ii] Singularity Design\n",
      "out1 true iout1 115 url https://singularitydesign.co/\n",
      "companies[0] Syrreo this url https://singularitydesign.co/\n"
     ]
    },
    {
     "name": "stderr",
     "output_type": "stream",
     "text": [
      "2021-11-30 16:36:52 [scrapy.core.scraper] ERROR: Error downloading <GET http://www.bpc.eco/>\n",
      "Traceback (most recent call last):\n",
      "  File \"C:\\Users\\MStopa\\AppData\\Local\\Continuum\\anaconda3\\envs\\webscrape\\lib\\site-packages\\twisted\\internet\\defer.py\", line 1416, in _inlineCallbacks\n",
      "    result = result.throwExceptionIntoGenerator(g)\n",
      "  File \"C:\\Users\\MStopa\\AppData\\Local\\Continuum\\anaconda3\\envs\\webscrape\\lib\\site-packages\\twisted\\python\\failure.py\", line 512, in throwExceptionIntoGenerator\n",
      "    return g.throw(self.type, self.value, self.tb)\n",
      "  File \"C:\\Users\\MStopa\\AppData\\Local\\Continuum\\anaconda3\\envs\\webscrape\\lib\\site-packages\\scrapy\\core\\downloader\\middleware.py\", line 44, in process_request\n",
      "    return (yield download_func(request=request, spider=spider))\n",
      "  File \"C:\\Users\\MStopa\\AppData\\Local\\Continuum\\anaconda3\\envs\\webscrape\\lib\\site-packages\\twisted\\internet\\defer.py\", line 654, in _runCallbacks\n",
      "    current.result = callback(current.result, *args, **kw)\n",
      "  File \"C:\\Users\\MStopa\\AppData\\Local\\Continuum\\anaconda3\\envs\\webscrape\\lib\\site-packages\\twisted\\internet\\endpoints.py\", line 982, in startConnectionAttempts\n",
      "    \"no results for hostname lookup: {}\".format(self._hostStr)\n",
      "twisted.internet.error.DNSLookupError: DNS lookup failed: no results for hostname lookup: www.bpc.eco.\n",
      "2021-11-30 16:36:52 [scrapy.core.engine] DEBUG: Crawled (200) <GET https://matthewsdesigngroup.com> (referer: None)\n"
     ]
    },
    {
     "name": "stdout",
     "output_type": "stream",
     "text": [
      "site_url https://bridgewayprinting.com/ site_url_close ['https://bridgewayprinting.com/', 'https://bridgewaterprint.com/', 'https://heritageprinting.com/']\n",
      "site_url_close[0] https://bridgewayprinting.com/\n",
      "ii 150 self.companies[ii] Bridgeway Printing & Graphics\n",
      "out1 true iout1 116 url https://bridgewayprinting.com/\n",
      "companies[0] Zapp Packaging this url https://bridgewayprinting.com/\n"
     ]
    },
    {
     "name": "stderr",
     "output_type": "stream",
     "text": [
      "2021-11-30 16:36:52 [scrapy.downloadermiddlewares.redirect] DEBUG: Redirecting (301) to <GET https://quarterdecktech.com/> from <GET https://www.quarterdecktech.com>\n",
      "2021-11-30 16:36:52 [scrapy.core.engine] DEBUG: Crawled (200) <GET https://flyleafprint.com/> (referer: None)\n",
      "2021-11-30 16:36:53 [scrapy.downloadermiddlewares.retry] DEBUG: Retrying <GET https://www.radiance4d.com/> (failed 2 times): DNS lookup failed: no results for hostname lookup: www.radiance4d.com.\n"
     ]
    },
    {
     "name": "stdout",
     "output_type": "stream",
     "text": [
      "site_url https://matthewsdesigngroup.com site_url_close ['https://matthewsdesigngroup.com', 'https://fatheaddesign.com', 'https://matthewsmarking.com/']\n",
      "site_url_close[0] https://matthewsdesigngroup.com\n",
      "ii 154 self.companies[ii] Matthews Design Group\n",
      "out1 true iout1 117 url https://matthewsdesigngroup.com\n",
      "companies[0] CampaignElves this url https://matthewsdesigngroup.com\n"
     ]
    },
    {
     "name": "stderr",
     "output_type": "stream",
     "text": [
      "2021-11-30 16:36:53 [scrapy.downloadermiddlewares.redirect] DEBUG: Redirecting (302) to <GET https://sedo.com/search/details/?partnerid=324561&language=us&domain=brysk.com&origin=sales_lander_10&utm_medium=Parking&utm_campaign=offerpage> from <GET https://www.brysk.com>\n"
     ]
    },
    {
     "name": "stdout",
     "output_type": "stream",
     "text": [
      "site_url https://flyleafprint.com/ site_url_close ['https://flyleafprint.com/', 'https://fasprint.com/', 'https://llprinters.com/']\n",
      "site_url_close[0] https://flyleafprint.com/\n",
      "ii 157 self.companies[ii] Flyleaf\n",
      "out1 true iout1 118 url https://flyleafprint.com/\n",
      "companies[0] Double Issue this url https://flyleafprint.com/\n"
     ]
    },
    {
     "name": "stderr",
     "output_type": "stream",
     "text": [
      "2021-11-30 16:36:53 [scrapy.core.engine] DEBUG: Crawled (200) <GET https://besjet.com/> (referer: None)\n",
      "2021-11-30 16:36:53 [scrapy.core.engine] DEBUG: Crawled (200) <GET https://altiusgraphics.com/> (referer: None)\n",
      "2021-11-30 16:36:54 [scrapy.core.engine] DEBUG: Crawled (200) <GET https://diamondcubepromo.com/> (referer: None)\n",
      "2021-11-30 16:36:54 [scrapy.core.engine] DEBUG: Crawled (200) <GET https://broadstrokeinc.com/> (referer: None)\n"
     ]
    },
    {
     "name": "stdout",
     "output_type": "stream",
     "text": [
      "site_url https://besjet.com/ site_url_close ['http://www.besjet.com/', 'https://absit.com/', 'https://edt.com/']\n",
      "site_url_close[0] http://www.besjet.com/\n",
      "ii 142 self.companies[ii] BesJet Inc\n",
      "out1 true iout1 119 url https://besjet.com/\n",
      "companies[0] Titanic Design this url https://besjet.com/\n",
      "site_url https://altiusgraphics.com/ site_url_close ['https://altiusgraphics.com/', 'https://atigraphics.com/', 'https://marlingraphics.com/']\n",
      "site_url_close[0] https://altiusgraphics.com/\n",
      "ii 155 self.companies[ii] ALTIUS Graphics\n",
      "out1 true iout1 120 url https://altiusgraphics.com/\n",
      "companies[0] Custom Sticker this url https://altiusgraphics.com/\n",
      "site_url https://diamondcubepromo.com/ site_url_close ['https://diamondcubepromo.com/', 'https://moonlightpromo.com/', 'https://interpromodels.com/']\n",
      "site_url_close[0] https://diamondcubepromo.com/\n",
      "ii 158 self.companies[ii] Diamond Cube Promo\n",
      "out1 true iout1 121 url https://diamondcubepromo.com/\n",
      "companies[0] ColorHub this url https://diamondcubepromo.com/\n"
     ]
    },
    {
     "name": "stderr",
     "output_type": "stream",
     "text": [
      "2021-11-30 16:36:55 [scrapy.core.engine] DEBUG: Crawled (200) <GET https://www.creatorslabel.com/password> (referer: None)\n",
      "2021-11-30 16:36:55 [scrapy.downloadermiddlewares.redirect] DEBUG: Redirecting (302) to <GET https://www.hugedomains.com/domain_profile.cfm?d=packagingspot&e=com> from <GET http://www.packagingspot.com>\n"
     ]
    },
    {
     "name": "stdout",
     "output_type": "stream",
     "text": [
      "site_url https://broadstrokeinc.com/ site_url_close ['https://broadstrokeinc.com/', 'https://britteninc.com/', 'https://airtrolinc.com/']\n",
      "site_url_close[0] https://broadstrokeinc.com/\n",
      "ii 159 self.companies[ii] Broadstroke\n",
      "out1 true iout1 122 url https://broadstrokeinc.com/\n",
      "companies[0] BagzDepot this url https://broadstrokeinc.com/\n"
     ]
    },
    {
     "name": "stderr",
     "output_type": "stream",
     "text": [
      "2021-11-30 16:36:56 [scrapy.core.downloader.tls] WARNING: Remote certificate is not valid for hostname \"www.breavery.com\"; VerificationError(errors=[DNSMismatch(mismatched_id=DNS_ID(hostname=b'www.breavery.com'))])\n",
      "2021-11-30 16:36:56 [scrapy.core.engine] DEBUG: Crawled (200) <GET https://stokestudio.com> (referer: None)\n",
      "2021-11-30 16:36:56 [scrapy.core.engine] DEBUG: Crawled (403) <GET https://www.breavery.com/> (referer: None)\n"
     ]
    },
    {
     "name": "stdout",
     "output_type": "stream",
     "text": [
      "site_url https://www.creatorslabel.com/password site_url_close ['https://www.creatorslabel.com', 'https://www.centurylabel.com/', 'https://www.creativelabels.com']\n",
      "site_url_close[0] https://www.creatorslabel.com\n",
      "ii 138 self.companies[ii] Creators Label\n",
      "out1 true iout1 123 url https://www.creatorslabel.com/password\n",
      "companies[0] Paxis this url https://www.creatorslabel.com/password\n"
     ]
    },
    {
     "name": "stderr",
     "output_type": "stream",
     "text": [
      "2021-11-30 16:36:56 [scrapy.downloadermiddlewares.redirect] DEBUG: Redirecting (301) to <GET https://mezzoprint.com/> from <GET http://mezzoprint.com>\n",
      "2021-11-30 16:36:56 [scrapy.spidermiddlewares.httperror] INFO: Ignoring response <403 https://www.breavery.com/>: HTTP status code is not handled or not allowed\n"
     ]
    },
    {
     "name": "stdout",
     "output_type": "stream",
     "text": [
      "site_url https://stokestudio.com site_url_close ['https://stokestudio.com', 'https://pistolstudios.com', 'https://www.hockstudio.com']\n",
      "site_url_close[0] https://stokestudio.com\n",
      "ii 161 self.companies[ii] Stoke Studio\n",
      "out1 true iout1 124 url https://stokestudio.com\n",
      "companies[0] Creators Label this url https://stokestudio.com\n"
     ]
    },
    {
     "name": "stderr",
     "output_type": "stream",
     "text": [
      "2021-11-30 16:36:57 [scrapy.core.engine] DEBUG: Crawled (200) <GET http://farfetchedcreations.com/> (referer: None)\n",
      "2021-11-30 16:36:57 [scrapy.core.engine] DEBUG: Crawled (200) <GET https://www.itwthermalfilms.com/> (referer: None)\n",
      "2021-11-30 16:36:57 [scrapy.core.engine] DEBUG: Crawled (200) <GET https://www.expresseventprinting.com:443/> (referer: None)\n"
     ]
    },
    {
     "name": "stdout",
     "output_type": "stream",
     "text": [
      "site_url http://farfetchedcreations.com/ site_url_close ['http://www.farfetchedcreations.com', 'http://kovatchcastings.com', 'https://acedesigns.com']\n",
      "site_url_close[0] http://www.farfetchedcreations.com\n",
      "ii 140 self.companies[ii] Far Fetched Creations\n",
      "out1 true iout1 125 url http://farfetchedcreations.com/\n",
      "companies[0] Radiance 4D this url http://farfetchedcreations.com/\n"
     ]
    },
    {
     "name": "stderr",
     "output_type": "stream",
     "text": [
      "2021-11-30 16:36:58 [scrapy.downloadermiddlewares.retry] DEBUG: Retrying <GET https://omnidragondevelopment.com> (failed 2 times): DNS lookup failed: no results for hostname lookup: omnidragondevelopment.com.\n"
     ]
    },
    {
     "name": "stdout",
     "output_type": "stream",
     "text": [
      "site_url https://www.itwthermalfilms.com/ site_url_close ['https://www.itwthermalfilms.com/', 'https://www.lettermans.com/', 'https://www.townemailer.com/']\n",
      "site_url_close[0] https://www.itwthermalfilms.com/\n",
      "ii 164 self.companies[ii] ITW Thermal Films\n",
      "out1 true iout1 126 url https://www.itwthermalfilms.com/\n",
      "companies[0] Far Fetched Creations this url https://www.itwthermalfilms.com/\n"
     ]
    },
    {
     "name": "stderr",
     "output_type": "stream",
     "text": [
      "2021-11-30 16:36:58 [scrapy.core.engine] DEBUG: Crawled (200) <GET https://quarterdecktech.com/> (referer: None)\n",
      "2021-11-30 16:36:58 [scrapy.core.engine] DEBUG: Crawled (200) <GET https://money-merch.com/> (referer: None)\n",
      "2021-11-30 16:36:58 [scrapy.core.engine] DEBUG: Crawled (200) <GET https://taffet.org> (referer: None)\n",
      "2021-11-30 16:36:58 [scrapy.downloadermiddlewares.retry] ERROR: Gave up retrying <GET http://www.grasp3d.co> (failed 3 times): DNS lookup failed: no results for hostname lookup: www.grasp3d.co.\n",
      "2021-11-30 16:36:58 [scrapy.downloadermiddlewares.retry] ERROR: Gave up retrying <GET https://www.repli.com> (failed 3 times): DNS lookup failed: no results for hostname lookup: www.repli.com.\n"
     ]
    },
    {
     "name": "stdout",
     "output_type": "stream",
     "text": [
      "site_url https://www.expresseventprinting.com:443/ site_url_close ['http://www.ExpressEventPrinting.com', 'https://www.screenprinting.com/', 'https://www.roseprinting.com/']\n",
      "site_url_close[0] http://www.ExpressEventPrinting.com\n",
      "ii 152 self.companies[ii] Express Event Printing\n",
      "out1 true iout1 127 url https://www.expresseventprinting.com:443/\n",
      "companies[0] Grasp this url https://www.expresseventprinting.com:443/\n"
     ]
    },
    {
     "name": "stderr",
     "output_type": "stream",
     "text": [
      "2021-11-30 16:36:59 [scrapy.core.scraper] ERROR: Error downloading <GET http://www.grasp3d.co>\n",
      "Traceback (most recent call last):\n",
      "  File \"C:\\Users\\MStopa\\AppData\\Local\\Continuum\\anaconda3\\envs\\webscrape\\lib\\site-packages\\twisted\\internet\\defer.py\", line 1416, in _inlineCallbacks\n",
      "    result = result.throwExceptionIntoGenerator(g)\n",
      "  File \"C:\\Users\\MStopa\\AppData\\Local\\Continuum\\anaconda3\\envs\\webscrape\\lib\\site-packages\\twisted\\python\\failure.py\", line 512, in throwExceptionIntoGenerator\n",
      "    return g.throw(self.type, self.value, self.tb)\n",
      "  File \"C:\\Users\\MStopa\\AppData\\Local\\Continuum\\anaconda3\\envs\\webscrape\\lib\\site-packages\\scrapy\\core\\downloader\\middleware.py\", line 44, in process_request\n",
      "    return (yield download_func(request=request, spider=spider))\n",
      "  File \"C:\\Users\\MStopa\\AppData\\Local\\Continuum\\anaconda3\\envs\\webscrape\\lib\\site-packages\\twisted\\internet\\defer.py\", line 654, in _runCallbacks\n",
      "    current.result = callback(current.result, *args, **kw)\n",
      "  File \"C:\\Users\\MStopa\\AppData\\Local\\Continuum\\anaconda3\\envs\\webscrape\\lib\\site-packages\\twisted\\internet\\endpoints.py\", line 982, in startConnectionAttempts\n",
      "    \"no results for hostname lookup: {}\".format(self._hostStr)\n",
      "twisted.internet.error.DNSLookupError: DNS lookup failed: no results for hostname lookup: www.grasp3d.co.\n",
      "2021-11-30 16:36:59 [scrapy.core.scraper] ERROR: Error downloading <GET https://www.repli.com>\n",
      "Traceback (most recent call last):\n",
      "  File \"C:\\Users\\MStopa\\AppData\\Local\\Continuum\\anaconda3\\envs\\webscrape\\lib\\site-packages\\twisted\\internet\\defer.py\", line 1416, in _inlineCallbacks\n",
      "    result = result.throwExceptionIntoGenerator(g)\n",
      "  File \"C:\\Users\\MStopa\\AppData\\Local\\Continuum\\anaconda3\\envs\\webscrape\\lib\\site-packages\\twisted\\python\\failure.py\", line 512, in throwExceptionIntoGenerator\n",
      "    return g.throw(self.type, self.value, self.tb)\n",
      "  File \"C:\\Users\\MStopa\\AppData\\Local\\Continuum\\anaconda3\\envs\\webscrape\\lib\\site-packages\\scrapy\\core\\downloader\\middleware.py\", line 44, in process_request\n",
      "    return (yield download_func(request=request, spider=spider))\n",
      "  File \"C:\\Users\\MStopa\\AppData\\Local\\Continuum\\anaconda3\\envs\\webscrape\\lib\\site-packages\\twisted\\internet\\defer.py\", line 654, in _runCallbacks\n",
      "    current.result = callback(current.result, *args, **kw)\n",
      "  File \"C:\\Users\\MStopa\\AppData\\Local\\Continuum\\anaconda3\\envs\\webscrape\\lib\\site-packages\\twisted\\internet\\endpoints.py\", line 982, in startConnectionAttempts\n",
      "    \"no results for hostname lookup: {}\".format(self._hostStr)\n",
      "twisted.internet.error.DNSLookupError: DNS lookup failed: no results for hostname lookup: www.repli.com.\n"
     ]
    },
    {
     "name": "stdout",
     "output_type": "stream",
     "text": [
      "site_url https://quarterdecktech.com/ site_url_close ['https://www.quarterdecktech.com', 'https://perfectetch.com', 'https://buchertech.com/']\n",
      "site_url_close[0] https://www.quarterdecktech.com\n",
      "ii 148 self.companies[ii] Quarterdeck Technologies\n",
      "out1 true iout1 128 url https://quarterdecktech.com/\n",
      "companies[0] BesJet Inc this url https://quarterdecktech.com/\n"
     ]
    },
    {
     "name": "stderr",
     "output_type": "stream",
     "text": [
      "2021-11-30 16:36:59 [scrapy.core.scraper] DEBUG: Scraped from <200 https://money-merch.com/>\r\n",
      "{'Organization': 'Money Merch',\n",
      " 'fulltext': 'Money Merch is a customer-oriented print and design company based in Orange, CA. They specialize in screen printing, embroidery, DTG printing, and fulfillment services for businesses, non-profit organizations, schools, bands, and sports leagues.',\n",
      " 'searchterm': 'screen printing',\n",
      " 'url': 'https://money-merch.com/'}\n"
     ]
    },
    {
     "name": "stdout",
     "output_type": "stream",
     "text": [
      "site_url https://money-merch.com/ site_url_close ['https://www.money-merch.com', 'https://rchq.com/', 'http://meyers.com']\n",
      "site_url_close[0] https://www.money-merch.com\n",
      "ii 147 self.companies[ii] Money Merch\n",
      "yielding item screen printing\n"
     ]
    },
    {
     "name": "stderr",
     "output_type": "stream",
     "text": [
      "2021-11-30 16:37:00 [scrapy.downloadermiddlewares.retry] DEBUG: Retrying <GET https://www.boxfavors.com> (failed 1 times): [<twisted.python.failure.Failure twisted.internet.error.ConnectionLost: Connection to the other side was lost in a non-clean fashion: Connection lost.>]\n"
     ]
    },
    {
     "name": "stdout",
     "output_type": "stream",
     "text": [
      "site_url https://taffet.org site_url_close ['https://taffet.org', 'http://aditiv.org', 'http://efi.org/']\n",
      "site_url_close[0] https://taffet.org\n",
      "ii 165 self.companies[ii] Taffet Associates\n",
      "out1 true iout1 129 url https://taffet.org\n",
      "companies[0] Inkpop this url https://taffet.org\n",
      "out1 true iout1 130 url https://money-merch.com/\n",
      "companies[0] Landi Industries this url https://money-merch.com/\n"
     ]
    },
    {
     "name": "stderr",
     "output_type": "stream",
     "text": [
      "2021-11-30 16:37:00 [scrapy.core.engine] DEBUG: Crawled (200) <GET https://www.mimeophotos.com> (referer: None)\n",
      "2021-11-30 16:37:00 [scrapy.downloadermiddlewares.redirect] DEBUG: Redirecting (302) to <GET http://www.customartdirect.com/> from <GET http://www.customartdirect.com>\n",
      "2021-11-30 16:37:00 [scrapy.core.engine] DEBUG: Crawled (200) <GET https://praxismfg.com/> (referer: None)\n",
      "2021-11-30 16:37:00 [scrapy.core.engine] DEBUG: Crawled (200) <GET https://nexus6.io/> (referer: None)\n",
      "2021-11-30 16:37:00 [scrapy.downloadermiddlewares.retry] ERROR: Gave up retrying <GET https://campaignelves.com> (failed 3 times): DNS lookup failed: no results for hostname lookup: campaignelves.com.\n"
     ]
    },
    {
     "name": "stdout",
     "output_type": "stream",
     "text": [
      "site_url https://www.mimeophotos.com site_url_close ['https://www.mimeophotos.com', 'https://www.lifephoto.com', 'http://www.mimeo.com']\n",
      "site_url_close[0] https://www.mimeophotos.com\n",
      "ii 170 self.companies[ii] Mimeo Photos\n",
      "out1 true iout1 131 url https://www.mimeophotos.com\n",
      "companies[0] ImprintNetwork this url https://www.mimeophotos.com\n"
     ]
    },
    {
     "name": "stderr",
     "output_type": "stream",
     "text": [
      "2021-11-30 16:37:01 [scrapy.core.engine] DEBUG: Crawled (200) <GET https://jpc-chicago.com/> (referer: None)\n",
      "2021-11-30 16:37:01 [scrapy.core.engine] DEBUG: Crawled (200) <GET http://americanplasmaenergy.com> (referer: None)\n",
      "2021-11-30 16:37:01 [scrapy.core.scraper] ERROR: Error downloading <GET https://campaignelves.com>\n",
      "Traceback (most recent call last):\n",
      "  File \"C:\\Users\\MStopa\\AppData\\Local\\Continuum\\anaconda3\\envs\\webscrape\\lib\\site-packages\\twisted\\internet\\defer.py\", line 1416, in _inlineCallbacks\n",
      "    result = result.throwExceptionIntoGenerator(g)\n",
      "  File \"C:\\Users\\MStopa\\AppData\\Local\\Continuum\\anaconda3\\envs\\webscrape\\lib\\site-packages\\twisted\\python\\failure.py\", line 512, in throwExceptionIntoGenerator\n",
      "    return g.throw(self.type, self.value, self.tb)\n",
      "  File \"C:\\Users\\MStopa\\AppData\\Local\\Continuum\\anaconda3\\envs\\webscrape\\lib\\site-packages\\scrapy\\core\\downloader\\middleware.py\", line 44, in process_request\n",
      "    return (yield download_func(request=request, spider=spider))\n",
      "  File \"C:\\Users\\MStopa\\AppData\\Local\\Continuum\\anaconda3\\envs\\webscrape\\lib\\site-packages\\twisted\\internet\\defer.py\", line 654, in _runCallbacks\n",
      "    current.result = callback(current.result, *args, **kw)\n",
      "  File \"C:\\Users\\MStopa\\AppData\\Local\\Continuum\\anaconda3\\envs\\webscrape\\lib\\site-packages\\twisted\\internet\\endpoints.py\", line 982, in startConnectionAttempts\n",
      "    \"no results for hostname lookup: {}\".format(self._hostStr)\n",
      "twisted.internet.error.DNSLookupError: DNS lookup failed: no results for hostname lookup: campaignelves.com.\n"
     ]
    },
    {
     "name": "stdout",
     "output_type": "stream",
     "text": [
      "site_url https://praxismfg.com/ site_url_close ['https://www.praxismfg.com/', 'https://crispimg.com/', 'http://printsf.com/']\n",
      "site_url_close[0] https://www.praxismfg.com/\n",
      "ii 151 self.companies[ii] Praxis Manufacturing Inc.\n",
      "out1 false iout2 17 url https://praxismfg.com/\n",
      "companies[0] Lakeshore Design this url https://praxismfg.com/\n"
     ]
    },
    {
     "name": "stderr",
     "output_type": "stream",
     "text": [
      "2021-11-30 16:37:01 [scrapy.core.engine] DEBUG: Crawled (200) <GET https://303signcompany.com/> (referer: None)\n"
     ]
    },
    {
     "name": "stdout",
     "output_type": "stream",
     "text": [
      "site_url https://nexus6.io/ site_url_close ['https://nexus6.io/', 'https://prinsta.io/', 'https://rednews.com/']\n",
      "site_url_close[0] https://nexus6.io/\n",
      "ii 168 self.companies[ii] Nexus 6\n",
      "out1 true iout1 132 url https://nexus6.io/\n",
      "companies[0] Money Merch this url https://nexus6.io/\n",
      "site_url https://jpc-chicago.com/ site_url_close ['https://jpc-chicago.com/', 'https://chickabug.com/', 'https://www.chicagotag.com/']\n",
      "site_url_close[0] https://jpc-chicago.com/\n",
      "ii 172 self.companies[ii] J Print Center Chicago\n",
      "out1 true iout1 133 url https://jpc-chicago.com/\n",
      "companies[0] Quarterdeck Technologies this url https://jpc-chicago.com/\n"
     ]
    },
    {
     "name": "stderr",
     "output_type": "stream",
     "text": [
      "2021-11-30 16:37:02 [scrapy.downloadermiddlewares.redirect] DEBUG: Redirecting (301) to <GET http://www.vivianhansen.com/> from <GET https://www.tworiverscreative.com>\n",
      "2021-11-30 16:37:02 [scrapy.downloadermiddlewares.retry] DEBUG: Retrying <GET http://www.kaiser3d.com> (failed 1 times): DNS lookup failed: no results for hostname lookup: www.kaiser3d.com.\n"
     ]
    },
    {
     "name": "stdout",
     "output_type": "stream",
     "text": [
      "site_url http://americanplasmaenergy.com site_url_close ['http://americanplasmaenergy.com', 'http://americanlabelguy.com/', 'https://www.americanstationery.com/']\n",
      "site_url_close[0] http://americanplasmaenergy.com\n",
      "ii 169 self.companies[ii] American Plasma Energy Group\n",
      "out1 true iout1 134 url http://americanplasmaenergy.com\n",
      "companies[0] Omni Dragon Development this url http://americanplasmaenergy.com\n"
     ]
    },
    {
     "name": "stderr",
     "output_type": "stream",
     "text": [
      "2021-11-30 16:37:02 [scrapy.core.engine] DEBUG: Crawled (200) <GET https://www.manufacturingtomorrow.com> (referer: None)\n",
      "2021-11-30 16:37:03 [scrapy.downloadermiddlewares.retry] DEBUG: Retrying <GET http://skwarts.com/en/> (failed 1 times): DNS lookup failed: no results for hostname lookup: skwarts.com.\n"
     ]
    },
    {
     "name": "stdout",
     "output_type": "stream",
     "text": [
      "site_url https://303signcompany.com/ site_url_close ['https://303signcompany.com/', 'https://310inc.com/', 'https://snco.com/']\n",
      "site_url_close[0] https://303signcompany.com/\n",
      "ii 174 self.companies[ii] 303 Sign Company\n",
      "out1 true iout1 135 url https://303signcompany.com/\n",
      "companies[0] Bridgeway Printing & Graphics this url https://303signcompany.com/\n"
     ]
    },
    {
     "name": "stderr",
     "output_type": "stream",
     "text": [
      "2021-11-30 16:37:03 [scrapy.core.engine] DEBUG: Crawled (200) <GET http://www.vantedsolutions.com/> (referer: None)\n",
      "2021-11-30 16:37:03 [scrapy.downloadermiddlewares.redirect] DEBUG: Redirecting (301) to <GET https://displaymakersny.com/> from <GET https://www.displaymakersny.com>\n"
     ]
    },
    {
     "name": "stdout",
     "output_type": "stream",
     "text": [
      "site_url https://www.manufacturingtomorrow.com site_url_close ['https://www.manufacturingtomorrow.com', 'http://www.acmanufacturing.com', 'https://www.escomanufacturing.com/']\n",
      "site_url_close[0] https://www.manufacturingtomorrow.com\n",
      "ii 176 self.companies[ii] Manufacturing Tomorrow\n",
      "out1 true iout1 136 url https://www.manufacturingtomorrow.com\n",
      "companies[0] Praxis Manufacturing Inc. this url https://www.manufacturingtomorrow.com\n"
     ]
    },
    {
     "name": "stderr",
     "output_type": "stream",
     "text": [
      "2021-11-30 16:37:04 [scrapy.core.scraper] ERROR: Spider error processing <GET http://www.vantedsolutions.com/> (referer: None)\n",
      "Traceback (most recent call last):\n",
      "  File \"C:\\Users\\MStopa\\AppData\\Local\\Continuum\\anaconda3\\envs\\webscrape\\lib\\site-packages\\scrapy\\utils\\defer.py\", line 120, in iter_errback\n",
      "    yield next(it)\n",
      "  File \"C:\\Users\\MStopa\\AppData\\Local\\Continuum\\anaconda3\\envs\\webscrape\\lib\\site-packages\\scrapy\\utils\\python.py\", line 346, in __next__\n",
      "    return next(self.data)\n",
      "  File \"C:\\Users\\MStopa\\AppData\\Local\\Continuum\\anaconda3\\envs\\webscrape\\lib\\site-packages\\scrapy\\utils\\python.py\", line 346, in __next__\n",
      "    return next(self.data)\n",
      "  File \"C:\\Users\\MStopa\\AppData\\Local\\Continuum\\anaconda3\\envs\\webscrape\\lib\\site-packages\\scrapy\\core\\spidermw.py\", line 64, in _evaluate_iterable\n",
      "    for r in iterable:\n",
      "  File \"C:\\Users\\MStopa\\AppData\\Local\\Continuum\\anaconda3\\envs\\webscrape\\lib\\site-packages\\scrapy\\spidermiddlewares\\offsite.py\", line 29, in process_spider_output\n",
      "    for x in result:\n",
      "  File \"C:\\Users\\MStopa\\AppData\\Local\\Continuum\\anaconda3\\envs\\webscrape\\lib\\site-packages\\scrapy\\core\\spidermw.py\", line 64, in _evaluate_iterable\n",
      "    for r in iterable:\n",
      "  File \"C:\\Users\\MStopa\\AppData\\Local\\Continuum\\anaconda3\\envs\\webscrape\\lib\\site-packages\\scrapy\\spidermiddlewares\\referer.py\", line 340, in <genexpr>\n",
      "    return (_set_referer(r) for r in result or ())\n",
      "  File \"C:\\Users\\MStopa\\AppData\\Local\\Continuum\\anaconda3\\envs\\webscrape\\lib\\site-packages\\scrapy\\core\\spidermw.py\", line 64, in _evaluate_iterable\n",
      "    for r in iterable:\n",
      "  File \"C:\\Users\\MStopa\\AppData\\Local\\Continuum\\anaconda3\\envs\\webscrape\\lib\\site-packages\\scrapy\\spidermiddlewares\\urllength.py\", line 37, in <genexpr>\n",
      "    return (r for r in result or () if _filter(r))\n",
      "  File \"C:\\Users\\MStopa\\AppData\\Local\\Continuum\\anaconda3\\envs\\webscrape\\lib\\site-packages\\scrapy\\core\\spidermw.py\", line 64, in _evaluate_iterable\n",
      "    for r in iterable:\n",
      "  File \"C:\\Users\\MStopa\\AppData\\Local\\Continuum\\anaconda3\\envs\\webscrape\\lib\\site-packages\\scrapy\\spidermiddlewares\\depth.py\", line 58, in <genexpr>\n",
      "    return (r for r in result or () if _filter(r))\n",
      "  File \"C:\\Users\\MStopa\\AppData\\Local\\Continuum\\anaconda3\\envs\\webscrape\\lib\\site-packages\\scrapy\\core\\spidermw.py\", line 64, in _evaluate_iterable\n",
      "    for r in iterable:\n",
      "  File \"<ipython-input-9-10a30e00531c>\", line 132, in parse\n",
      "    file1.write(out2 + '\\n')\n",
      "  File \"C:\\Users\\MStopa\\AppData\\Local\\Continuum\\anaconda3\\envs\\webscrape\\lib\\encodings\\cp1252.py\", line 19, in encode\n",
      "    return codecs.charmap_encode(input,self.errors,encoding_table)[0]\n",
      "UnicodeEncodeError: 'charmap' codec can't encode character '\\u200b' in position 32: character maps to <undefined>\n",
      "2021-11-30 16:37:04 [scrapy.core.engine] DEBUG: Crawled (200) <GET https://3dcgstore.com> (referer: None)\n",
      "2021-11-30 16:37:04 [scrapy.core.engine] DEBUG: Crawled (200) <GET https://printersusa.com/> (referer: None)\n",
      "2021-11-30 16:37:04 [scrapy.downloadermiddlewares.retry] ERROR: Gave up retrying <GET https://www.radiance4d.com/> (failed 3 times): DNS lookup failed: no results for hostname lookup: www.radiance4d.com.\n"
     ]
    },
    {
     "name": "stdout",
     "output_type": "stream",
     "text": [
      "site_url http://www.vantedsolutions.com/ site_url_close ['http://www.vantedsolutions.com/', 'http://www.vupointsolutions.com/', 'https://www.tryadsolutions.com/']\n",
      "site_url_close[0] http://www.vantedsolutions.com/\n",
      "ii 178 self.companies[ii] ​Vanted Solutions\n",
      "out1 true iout1 137 url http://www.vantedsolutions.com/\n"
     ]
    },
    {
     "name": "stderr",
     "output_type": "stream",
     "text": [
      "2021-11-30 16:37:04 [scrapy.core.engine] DEBUG: Crawled (200) <GET https://www.michaelschupbach.com> (referer: None)\n",
      "2021-11-30 16:37:04 [scrapy.core.engine] DEBUG: Crawled (200) <GET https://sedo.com/search/details/?partnerid=324561&language=us&domain=brysk.com&origin=sales_lander_10&utm_medium=Parking&utm_campaign=offerpage> (referer: None)\n",
      "2021-11-30 16:37:04 [scrapy.core.scraper] ERROR: Error downloading <GET https://www.radiance4d.com/>\n",
      "Traceback (most recent call last):\n",
      "  File \"C:\\Users\\MStopa\\AppData\\Local\\Continuum\\anaconda3\\envs\\webscrape\\lib\\site-packages\\twisted\\internet\\defer.py\", line 1416, in _inlineCallbacks\n",
      "    result = result.throwExceptionIntoGenerator(g)\n",
      "  File \"C:\\Users\\MStopa\\AppData\\Local\\Continuum\\anaconda3\\envs\\webscrape\\lib\\site-packages\\twisted\\python\\failure.py\", line 512, in throwExceptionIntoGenerator\n",
      "    return g.throw(self.type, self.value, self.tb)\n",
      "  File \"C:\\Users\\MStopa\\AppData\\Local\\Continuum\\anaconda3\\envs\\webscrape\\lib\\site-packages\\scrapy\\core\\downloader\\middleware.py\", line 44, in process_request\n",
      "    return (yield download_func(request=request, spider=spider))\n",
      "  File \"C:\\Users\\MStopa\\AppData\\Local\\Continuum\\anaconda3\\envs\\webscrape\\lib\\site-packages\\twisted\\internet\\defer.py\", line 654, in _runCallbacks\n",
      "    current.result = callback(current.result, *args, **kw)\n",
      "  File \"C:\\Users\\MStopa\\AppData\\Local\\Continuum\\anaconda3\\envs\\webscrape\\lib\\site-packages\\twisted\\internet\\endpoints.py\", line 982, in startConnectionAttempts\n",
      "    \"no results for hostname lookup: {}\".format(self._hostStr)\n",
      "twisted.internet.error.DNSLookupError: DNS lookup failed: no results for hostname lookup: www.radiance4d.com.\n"
     ]
    }
   ],
   "source": [
    "outVar='outside_class'\n",
    "IMAGES_STORE='C://MStopa/WebScraping/images'\n",
    "items=[]\n",
    "process = CrawlerProcess({\n",
    "    'ITEM_PIPELINES':{'MyNewPipeline':2},\n",
    "    \"DOWNLOAD_DELAY\":8,\n",
    "    \"DOWNLOAD_MAXSIZE\":0\n",
    "})\n",
    "\n",
    "\n",
    "process.crawl(MySpider)\n",
    "# process.crawl(ImgSpider)\n",
    "process.start() # the script will block here until the crawling is finished\n",
    "\n",
    "for item in items:\n",
    "    print('item',item)"
   ]
  },
  {
   "cell_type": "code",
   "execution_count": null,
   "metadata": {},
   "outputs": [],
   "source": []
  },
  {
   "cell_type": "code",
   "execution_count": null,
   "metadata": {},
   "outputs": [],
   "source": []
  }
 ],
 "metadata": {
  "kernelspec": {
   "display_name": "Python 3",
   "language": "python",
   "name": "python3"
  },
  "language_info": {
   "codemirror_mode": {
    "name": "ipython",
    "version": 3
   },
   "file_extension": ".py",
   "mimetype": "text/x-python",
   "name": "python",
   "nbconvert_exporter": "python",
   "pygments_lexer": "ipython3",
   "version": "3.6.10"
  }
 },
 "nbformat": 4,
 "nbformat_minor": 4
}
