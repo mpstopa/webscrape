{
 "cells": [
  {
   "cell_type": "markdown",
   "metadata": {},
   "source": [
    "###### Webscrape_github\n",
    "This is a cleaned up version of my webscrape code that begins with a set\n",
    "or urls of startup companies typically downloaded from Crunchbase\n",
    "with a given search pattern. The\n",
    "current input file (included in this repo) is Printingtot_v4.csv.\n",
    "\n",
    "The code then scrapes the text from the front page\n",
    "(the Scrapy package is used):\n",
    ">sitep=response.xpath('//p/text()').getall()\n",
    "\n",
    "The spider MySpider first modifies the input url list (which is\n",
    "accompanied by other data from Crunchbase including\n",
    ">'Organization Name','Headquarters Location','Full Description','Website')\n",
    "\n",
    "and removes non-US companies and cleans up for nan records.\n",
    "\n",
    "The parse function takes the response and pulls off the text\n",
    "and the urls and also replaces unreadable characters (possibly\n",
    "this would not be necessary with proper specification of \n",
    "file code as utf-8).\n",
    "\n",
    "The principal output is a file that includes, for each record, the\n",
    "scraped url, the company name and the text. The current name is\n",
    "Ptotal_v2.cor.\n",
    "\n",
    "Currently, searches (such as \"inkjet\") when successful go to basic pipeline\n",
    "and get stuff printed out in a separate file."
   ]
  },
  {
   "cell_type": "code",
   "execution_count": 1,
   "metadata": {},
   "outputs": [],
   "source": [
    "import scrapy\n",
    "import logging\n",
    "import json\n",
    "from scrapy.crawler import CrawlerProcess\n",
    "import pandas as pd\n",
    "from pandas import read_csv\n",
    "import csv\n",
    "from scrapy.shell import inspect_response\n",
    "import numpy as np\n",
    "from scrapy.pipelines.images import ImagesPipeline\n",
    "from scrapy.selector import Selector\n",
    "import difflib"
   ]
  },
  {
   "cell_type": "code",
   "execution_count": 2,
   "metadata": {},
   "outputs": [],
   "source": [
    "class BasicPipeline(object):\n",
    "    \n",
    "    def open_spider(self,spider):\n",
    "        self.file = open('Ptotal_v2.txt','w')\n",
    "        \n",
    "    def close_spider(self,spider):\n",
    "        self.file.close()\n",
    "        \n",
    "    def process_item(self,item,spider):\n",
    "        line=str(item)\n",
    "        self.file.write(line + \"\\n\")\n",
    "        return item"
   ]
  },
  {
   "cell_type": "code",
   "execution_count": 3,
   "metadata": {},
   "outputs": [],
   "source": [
    "class MyNewPipeline(object):\n",
    "    \n",
    "    def open_spider(self,spider):\n",
    "        self.file = open('items2.jl', 'wb')\n",
    "        \n",
    "    def close_spider(self, spider):\n",
    "        self.file.close()\n",
    "        \n",
    "    def process_item(self,item,spider):\n",
    "        print('processing',dict(item))\n",
    "        line = json.dumps(dict(item)) + \" new \" + \"\\n\"\n",
    "        self.file.write(line)\n",
    "        return item"
   ]
  },
  {
   "cell_type": "code",
   "execution_count": 4,
   "metadata": {},
   "outputs": [],
   "source": [
    "class ItemCollectorPipeline(object):\n",
    "    def __init__(self):\n",
    "        self.ids_seen = set()\n",
    "        \n",
    "    def process_item(self,item,spider):\n",
    "        print(\"ItemCollector\")\n",
    "        items.append(item)"
   ]
  },
  {
   "cell_type": "code",
   "execution_count": 5,
   "metadata": {},
   "outputs": [],
   "source": [
    "class ImageItem(scrapy.Item):\n",
    "    images = scrapy.Field()\n",
    "    image_urls = scrapy.Field()"
   ]
  },
  {
   "cell_type": "code",
   "execution_count": 6,
   "metadata": {},
   "outputs": [],
   "source": [
    "class ItemTest(scrapy.Item):\n",
    "    Organization = scrapy.Field()\n",
    "    url = scrapy.Field()\n",
    "    robot = scrapy.Field()\n",
    "    machine = scrapy.Field()\n",
    "    tinyML = scrapy.Field()\n",
    "    brain = scrapy.Field()\n",
    "    food = scrapy.Field()\n",
    "    textout = scrapy.Field()"
   ]
  },
  {
   "cell_type": "code",
   "execution_count": 7,
   "metadata": {},
   "outputs": [],
   "source": [
    "class Print_Item(scrapy.Item):\n",
    "    Organization = scrapy.Field()\n",
    "    url = scrapy.Field()\n",
    "    ThreeDP = scrapy.Field()\n",
    "    inkjet = scrapy.Field()\n",
    "    digitalP = scrapy.Field()\n",
    "    biomaterials = scrapy.Field()\n",
    "    food = scrapy.Field()\n",
    "    ScreenPrinting = scrapy.Field()\n",
    "    textout = scrapy.Field()\n",
    "    searchterm = scrapy.Field()\n",
    "    fulltext = scrapy.Field()"
   ]
  },
  {
   "cell_type": "code",
   "execution_count": 8,
   "metadata": {},
   "outputs": [],
   "source": [
    "class Scrapy2Item(scrapy.Item):\n",
    "    title = scrapy.Field()\n",
    "    image_urls = scrapy.Field()\n",
    "    sku = scrapy.Field()\n",
    "\n",
    "class Scrapy2Pipeline(ImagesPipeline):\n",
    "    def get_media_requests(self, item, info):\n",
    "        return [scrapy.Request(x, meta={'image_name': item['sku']})\n",
    "                for x in item.get('image_urls', [])]\n",
    "\n",
    "    def file_path(self, request, response=None, info=None):\n",
    "        return '%s.jpg' % request.meta['image_name']"
   ]
  },
  {
   "cell_type": "code",
   "execution_count": 9,
   "metadata": {},
   "outputs": [
    {
     "name": "stdout",
     "output_type": "stream",
     "text": [
      "df.shape (14486, 3) Beijing, Beijing, China\n",
      "dfT.shape (14486, 2)\n",
      "df2n.shape (4854, 3) dfT2n.shape (4854, 2)\n"
     ]
    }
   ],
   "source": [
    "class MySpider(scrapy.Spider):\n",
    "    name = \"startups\"\n",
    "    \n",
    "# read crunchbase file and pick off websites\n",
    "    dataset1=read_csv('Printingtot_v4.csv')\n",
    "    df=dataset1[['Organization Name','Headquarters Location','Website']]\n",
    "    dfT=dataset1[['Full Description','Website']]\n",
    "    dfn=df.to_numpy()\n",
    "    dfTn=dfT.to_numpy()\n",
    "    dfnl=dfn.tolist()\n",
    "    dfTnl=dfTn.tolist()\n",
    "    print('df.shape',df.shape,dfnl[3][1])\n",
    "    print('dfT.shape',dfT.shape)\n",
    "    ii1=-1\n",
    "    ii2=-1\n",
    "    ii3=-1\n",
    "    df2=[]\n",
    "    dfT2=[]\n",
    "    for kk in range(dfn.shape[0]): # eliminate nans, specify U.S.\n",
    "        if str(dfn[kk,2]) != 'nan' and str(dfn[kk,1]) != 'nan': # use numpy for tests\n",
    "            if 'United States' in dfn[kk,1]:\n",
    "                ii1+=1\n",
    "                df2.append(dfnl[kk][:]) # use lists for appending (not easy with numpy)\n",
    "                dfT2.append(dfTnl[kk][:])\n",
    "            else:\n",
    "                ii2+=1\n",
    "        else:\n",
    "            ii3+=1\n",
    "\n",
    "\n",
    "#    print('ii1',ii1,'ii2',ii2,'ii3',ii3)\n",
    "    df2n=np.array(df2) # convert list to numpy - easier to slice\n",
    "    dfT2n=np.array(dfT2)\n",
    "    print('df2n.shape',df2n.shape,'dfT2n.shape',dfT2n.shape)\n",
    "    minc=0\n",
    "    maxc=df2n.shape[0]\n",
    "    fulltextCB=dfT2n[minc:maxc,0]\n",
    "    companies=df2n[minc:maxc,0].tolist() # slice numpy array, change it to a list\n",
    "    start_urlsB=df2n[minc:maxc,2] # numpy - this is an intermediate step, start_urlsB no longer used\n",
    "    start_urls=start_urlsB.tolist() # basic starting urls for scrapy - limited to U.S., nans eliminated\n",
    "    iout1=-1\n",
    "    iout2=-1\n",
    "\n",
    "    custom_settings = {\n",
    "        'LOG_LEVEL': logging.DEBUG,\n",
    "        'ITEM_PIPELINES':{'__main__.ItemCollectorPipeline':10},\n",
    "        'ITEM_PIPELINES':{'scrapy.pipelines.images.ImagesPipeline':100},\n",
    "        'ITEM_PIPELINES':{'MyNewPipeline':6},\n",
    "        'ITEM_PIPELINES':{'__main__.BasicPipeline':4},\n",
    "    }\n",
    "    \n",
    "    count=0\n",
    "    url_list=[]\n",
    "    def parse(self, response):\n",
    "        search1='/technology'\n",
    "        search2='careers'\n",
    "        search_list1=['inkjet head','digital printing','ink materials','additive manufacturing',\\\n",
    "                     'direct digital printing','biomaterials','printing for food','screen printing',\\\n",
    "                    'robotic arm','digital manufacturing','inkjet','dimatix']\n",
    "        search_list2=['webscraping']\n",
    "        search_list=search_list1\n",
    "        sitep=response.xpath('//p/text()').getall()\n",
    "        siteHref=response.xpath('//a/@href').getall()\n",
    "        badchars = [\"\\U0001f48c\",\"\\U0001f4f1\",\"\\u2011\",\"\\u301d\",\"\\ufb01\",\"\\u2023\",\"\\u011f\",\"\\u1ea3\",\"\\U0001f973\",\\\n",
    "                    \"\\U0001f973\",\"\\U0001f4da\",\"\\U0001f33f\",\"\\u2192\",\"\\u200d\",\"\\u2028\",\"\\u24d2\",\"\\u2011\",\\\n",
    "                   \"\\u010d\",\"\\U0001f64c\",\"\\u200b\",\"\\ufb02\",\"\\ufeff\",\"\\u202f\",\"u2070\",\"\\u2009\",\\\n",
    "                    \"\\u03bc\",\"\\u27a1\",\"\\u2033\",\"\\U0001f600\",\"\\n\",\"\\t\",\"\\r\"]\n",
    "        bcnum=len(badchars)\n",
    "\n",
    "        for idx,string1 in enumerate(sitep):\n",
    "            for jj in range(bcnum):\n",
    "                string1 = string1.replace(badchars[jj],'')\n",
    "\n",
    "            string1 = string1.replace(u'xa0',u' ')\n",
    "\n",
    "            if string1:\n",
    "                if string1[-1] != '.':\n",
    "                    string1 += '.'\n",
    "                    \n",
    "            sitep[idx]=string1\n",
    "            \n",
    "        for idy, string2 in enumerate(siteHref):\n",
    "            first_hit=False\n",
    "            if search1 == string2 and not(first_hit): # is 'technology' in any of the scraped links?\n",
    "                first_hit=True\n",
    "                technology_page=response.urljoin(string2) # cf https://docs.scrapy.org/en/latest/intro/tutorial.html\n",
    "                yield scrapy.Request(technology_page, callback=self.parse)\n",
    "                \n",
    "                    \n",
    "        out1=' '.join(sitep)\n",
    "\n",
    "        site_url=response.url\n",
    "        site_url_close=difflib.get_close_matches(site_url,self.start_urls,cutoff=0.2) # http -> https e.g.\n",
    "        print('site_url',site_url,'site_url_close',site_url_close)\n",
    "\n",
    "        if site_url_close:\n",
    "            print('site_url_close[0]',site_url_close[0])\n",
    "            site_urlB=site_url_close[0]\n",
    "        else:\n",
    "             site_urlB=site_url\n",
    "\n",
    "        if site_urlB in self.start_urls:\n",
    "            ii = self.start_urls.index(site_urlB)\n",
    "        else:\n",
    "            ii=-1\n",
    "\n",
    "        print('ii',ii,'self.companies[ii]',self.companies[ii])\n",
    "            \n",
    "        items=Print_Item()\n",
    "        \n",
    "        for idz,search_term in enumerate(search_list):\n",
    "            result1 = [elem for elem in sitep if search_term in elem]\n",
    "            if result1:\n",
    "                self.url_list.append(response.url)\n",
    "                items['searchterm']=search_term\n",
    "                items['Organization']=self.companies[ii]\n",
    "                items['fulltext']=self.fulltextCB[ii]\n",
    "                items['url']=response.url\n",
    "                print('yielding item',search_term)\n",
    "                yield items\n",
    "                \n",
    "        if out1:\n",
    "            self.iout1+=1\n",
    "            print('out1 true iout1',self.iout1,'url',site_url)\n",
    "            file1=open(\"Ptotal_v2.cor\",'a')\n",
    "            out1=out1.lstrip(' ')\n",
    "            if ii != -1: # is there a close match to this url in start_urls?\n",
    "                out2=site_url + ' ' + self.companies[ii] + ' ' + out1\n",
    "            else:\n",
    "                out2=site_url + out1 # the url for this presumably sub-page cannot be identified \n",
    "\n",
    "            file1.write(out2 + '\\n')\n",
    "        else:\n",
    "            self.iout2+=1\n",
    "            print('out1 false iout2',self.iout2,'url',site_url)\n",
    "\n",
    "        print('companies[0]',self.companies[self.count],'this url',response.url)\n",
    "        self.count+=1\n"
   ]
  },
  {
   "cell_type": "code",
   "execution_count": null,
   "metadata": {
    "scrolled": true
   },
   "outputs": [
    {
     "name": "stderr",
     "output_type": "stream",
     "text": [
      "2021-11-30 16:35:13 [scrapy.utils.log] INFO: Scrapy 2.2.0 started (bot: scrapybot)\n",
      "2021-11-30 16:35:13 [scrapy.utils.log] INFO: Versions: lxml 4.5.2.0, libxml2 2.9.10, cssselect 1.1.0, parsel 1.6.0, w3lib 1.22.0, Twisted 20.3.0, Python 3.6.10 |Anaconda, Inc.| (default, May  7 2020, 19:46:08) [MSC v.1916 64 bit (AMD64)], pyOpenSSL 19.1.0 (OpenSSL 1.1.1l  24 Aug 2021), cryptography 2.9.2, Platform Windows-10-10.0.19041-SP0\n",
      "2021-11-30 16:35:13 [scrapy.utils.log] DEBUG: Using reactor: twisted.internet.selectreactor.SelectReactor\n",
      "2021-11-30 16:35:13 [scrapy.crawler] INFO: Overridden settings:\n",
      "{'DOWNLOAD_DELAY': 8, 'DOWNLOAD_MAXSIZE': 0, 'LOG_LEVEL': 10}\n",
      "2021-11-30 16:35:14 [scrapy.extensions.telnet] INFO: Telnet Password: 9e55cfd9e8fb09e1\n",
      "2021-11-30 16:35:14 [scrapy.middleware] INFO: Enabled extensions:\n",
      "['scrapy.extensions.corestats.CoreStats',\n",
      " 'scrapy.extensions.telnet.TelnetConsole',\n",
      " 'scrapy.extensions.logstats.LogStats']\n",
      "2021-11-30 16:35:16 [scrapy.middleware] INFO: Enabled downloader middlewares:\n",
      "['scrapy.downloadermiddlewares.httpauth.HttpAuthMiddleware',\n",
      " 'scrapy.downloadermiddlewares.downloadtimeout.DownloadTimeoutMiddleware',\n",
      " 'scrapy.downloadermiddlewares.defaultheaders.DefaultHeadersMiddleware',\n",
      " 'scrapy.downloadermiddlewares.useragent.UserAgentMiddleware',\n",
      " 'scrapy.downloadermiddlewares.retry.RetryMiddleware',\n",
      " 'scrapy.downloadermiddlewares.redirect.MetaRefreshMiddleware',\n",
      " 'scrapy.downloadermiddlewares.httpcompression.HttpCompressionMiddleware',\n",
      " 'scrapy.downloadermiddlewares.redirect.RedirectMiddleware',\n",
      " 'scrapy.downloadermiddlewares.cookies.CookiesMiddleware',\n",
      " 'scrapy.downloadermiddlewares.httpproxy.HttpProxyMiddleware',\n",
      " 'scrapy.downloadermiddlewares.stats.DownloaderStats']\n",
      "2021-11-30 16:35:16 [scrapy.middleware] INFO: Enabled spider middlewares:\n",
      "['scrapy.spidermiddlewares.httperror.HttpErrorMiddleware',\n",
      " 'scrapy.spidermiddlewares.offsite.OffsiteMiddleware',\n",
      " 'scrapy.spidermiddlewares.referer.RefererMiddleware',\n",
      " 'scrapy.spidermiddlewares.urllength.UrlLengthMiddleware',\n",
      " 'scrapy.spidermiddlewares.depth.DepthMiddleware']\n",
      "2021-11-30 16:35:16 [scrapy.middleware] INFO: Enabled item pipelines:\n",
      "['__main__.BasicPipeline']\n",
      "2021-11-30 16:35:16 [scrapy.core.engine] INFO: Spider opened\n",
      "2021-11-30 16:35:16 [scrapy.extensions.logstats] INFO: Crawled 0 pages (at 0 pages/min), scraped 0 items (at 0 items/min)\n",
      "2021-11-30 16:35:16 [scrapy.extensions.telnet] INFO: Telnet console listening on 127.0.0.1:6023\n",
      "2021-11-30 16:35:16 [scrapy.downloadermiddlewares.redirect] DEBUG: Redirecting (301) to <GET https://www.vitrolabsinc.com/> from <GET http://www.vitrolabsinc.com/>\n",
      "2021-11-30 16:35:17 [scrapy.core.engine] DEBUG: Crawled (200) <GET http://www.evolveadditive.com/> (referer: None)\n",
      "2021-11-30 16:35:17 [scrapy.core.engine] DEBUG: Crawled (200) <GET https://www.printforia.com> (referer: None)\n",
      "2021-11-30 16:35:17 [scrapy.core.engine] DEBUG: Crawled (200) <GET https://inkbit3d.com/> (referer: None)\n",
      "2021-11-30 16:35:17 [scrapy.core.downloader.tls] WARNING: Remote certificate is not valid for hostname \"www.digitalalloys.com\"; VerificationError(errors=[DNSMismatch(mismatched_id=DNS_ID(hostname=b'www.digitalalloys.com'))])\n",
      "2021-11-30 16:35:17 [scrapy.downloadermiddlewares.redirect] DEBUG: Redirecting (301) to <GET https://3dfortify.com/> from <GET https://www.3dfortify.com>\n"
     ]
    },
    {
     "name": "stdout",
     "output_type": "stream",
     "text": [
      "site_url http://www.evolveadditive.com/ site_url_close ['http://www.evolveadditive.com/', 'http://www.cosineadditive.com/', 'https://www.lvadhesive.com/']\n",
      "site_url_close[0] http://www.evolveadditive.com/\n",
      "ii 3 self.companies[ii] Evolve Additive Solutions\n",
      "out1 true iout1 0 url http://www.evolveadditive.com/\n",
      "companies[0] VitroLabs this url http://www.evolveadditive.com/\n"
     ]
    },
    {
     "name": "stderr",
     "output_type": "stream",
     "text": [
      "2021-11-30 16:35:18 [scrapy.core.engine] DEBUG: Crawled (200) <GET https://www.azul3d.com/> (referer: None)\n",
      "2021-11-30 16:35:18 [scrapy.core.engine] DEBUG: Crawled (404) <GET https://www.digitalalloys.com/> (referer: None)\n",
      "2021-11-30 16:35:18 [scrapy.downloadermiddlewares.redirect] DEBUG: Redirecting (301) to <GET https://www.sterblue.com/> from <GET http://www.sterblue.com/>\n",
      "2021-11-30 16:35:18 [scrapy.dupefilters] DEBUG: Filtered duplicate request: <GET https://inkbit3d.com/technology> - no more duplicates will be shown (see DUPEFILTER_DEBUG to show all duplicates)\n"
     ]
    },
    {
     "name": "stdout",
     "output_type": "stream",
     "text": [
      "site_url https://www.printforia.com site_url_close ['https://www.printforia.com', 'https://www.printfp.com', 'https://www.printful.com']\n",
      "site_url_close[0] https://www.printforia.com\n",
      "ii 4 self.companies[ii] Printforia\n",
      "out1 true iout1 1 url https://www.printforia.com\n",
      "companies[0] Essentium this url https://www.printforia.com\n"
     ]
    },
    {
     "name": "stderr",
     "output_type": "stream",
     "text": [
      "2021-11-30 16:35:18 [scrapy.downloadermiddlewares.redirect] DEBUG: Redirecting (301) to <GET https://digifabster.com:443/> from <GET http://digifabster.com>\n",
      "2021-11-30 16:35:18 [scrapy.core.engine] DEBUG: Crawled (200) <GET https://www.pacificlightandhologram.com/> (referer: None)\n",
      "2021-11-30 16:35:18 [scrapy.spidermiddlewares.httperror] INFO: Ignoring response <404 https://www.digitalalloys.com/>: HTTP status code is not handled or not allowed\n"
     ]
    },
    {
     "name": "stdout",
     "output_type": "stream",
     "text": [
      "site_url https://inkbit3d.com/ site_url_close ['https://inkbit3d.com/', 'http://inkbig.com', 'http://inkd.com']\n",
      "site_url_close[0] https://inkbit3d.com/\n",
      "ii 2 self.companies[ii] Inkbit\n",
      "out1 true iout1 2 url https://inkbit3d.com/\n",
      "companies[0] Inkbit this url https://inkbit3d.com/\n"
     ]
    },
    {
     "name": "stderr",
     "output_type": "stream",
     "text": [
      "2021-11-30 16:35:19 [scrapy.downloadermiddlewares.redirect] DEBUG: Redirecting (301) to <GET https://polyspectra.com/> from <GET https://www.polyspectra.com>\n",
      "2021-11-30 16:35:19 [scrapy.core.engine] DEBUG: Crawled (200) <GET https://www.essentium.com> (referer: None)\n",
      "2021-11-30 16:35:19 [scrapy.core.engine] DEBUG: Crawled (200) <GET https://www.printerprezz.com/> (referer: None)\n",
      "2021-11-30 16:35:19 [scrapy.core.engine] DEBUG: Crawled (200) <GET https://bmf3d.com> (referer: None)\n"
     ]
    },
    {
     "name": "stdout",
     "output_type": "stream",
     "text": [
      "site_url https://www.azul3d.com/ site_url_close ['https://www.azul3d.com/', 'https://www.laz3d.com', 'https://www.nwa3d.com/']\n",
      "site_url_close[0] https://www.azul3d.com/\n",
      "ii 8 self.companies[ii] Azul 3D\n",
      "out1 true iout1 3 url https://www.azul3d.com/\n",
      "companies[0] Evolve Additive Solutions this url https://www.azul3d.com/\n"
     ]
    },
    {
     "name": "stderr",
     "output_type": "stream",
     "text": [
      "2021-11-30 16:35:19 [scrapy.downloadermiddlewares.redirect] DEBUG: Redirecting (301) to <GET https://www.womp.xyz/> from <GET https://womp.xyz/>\n",
      "2021-11-30 16:35:19 [scrapy.core.engine] DEBUG: Crawled (200) <GET https://www.wazer.com> (referer: None)\n",
      "2021-11-30 16:35:19 [scrapy.downloadermiddlewares.redirect] DEBUG: Redirecting (301) to <GET https://riven.ai/> from <GET https://www.riven.ai/>\n"
     ]
    },
    {
     "name": "stdout",
     "output_type": "stream",
     "text": [
      "site_url https://www.pacificlightandhologram.com/ site_url_close ['https://www.pacificlightandhologram.com/', 'https://www.phoenixlighting.com/', 'https://www.mailing.com/']\n",
      "site_url_close[0] https://www.pacificlightandhologram.com/\n",
      "ii 9 self.companies[ii] Pacific Light & Hologram\n",
      "out1 true iout1 4 url https://www.pacificlightandhologram.com/\n",
      "companies[0] Printforia this url https://www.pacificlightandhologram.com/\n"
     ]
    },
    {
     "name": "stderr",
     "output_type": "stream",
     "text": [
      "2021-11-30 16:35:20 [scrapy.core.scraper] DEBUG: Scraped from <200 https://www.essentium.com>\r\n",
      "{'Organization': 'Essentium',\n",
      " 'fulltext': 'Essentium is an innovator in both engineering filament materials and industrial additive manufacturing platforms. Its new generation of automated high-speed industrial production system combines performance, accuracy, reliability, and economics. BASF and Essentium partner to establish a consistent global materials supply chain supportive of Essentium’s High Speed Extrusion (HSE) and FlashfuseTM plasma technologies to enable additive manufacturing scalability. The company was founded in 2018 and is based in College Station, Texas.',\n",
      " 'searchterm': 'additive manufacturing',\n",
      " 'url': 'https://www.essentium.com'}\n"
     ]
    },
    {
     "name": "stdout",
     "output_type": "stream",
     "text": [
      "site_url https://www.essentium.com site_url_close ['https://www.essentium.com', 'https://www.scsuntimes.com', 'https://www.sos-nm.com']\n",
      "site_url_close[0] https://www.essentium.com\n",
      "ii 1 self.companies[ii] Essentium\n",
      "yielding item additive manufacturing\n",
      "site_url https://www.printerprezz.com/ site_url_close ['https://www.printerprezz.com/', 'https://www.printergy.com/', 'http://www.printerpresence.com/']\n",
      "site_url_close[0] https://www.printerprezz.com/\n",
      "ii 6 self.companies[ii] PrinterPrezz\n",
      "out1 true iout1 5 url https://www.printerprezz.com/\n",
      "companies[0] Fortify this url https://www.printerprezz.com/\n"
     ]
    },
    {
     "name": "stderr",
     "output_type": "stream",
     "text": [
      "2021-11-30 16:35:20 [scrapy.core.engine] DEBUG: Crawled (530) <GET https://www.inklocker.com> (referer: None)\n",
      "2021-11-30 16:35:20 [scrapy.downloadermiddlewares.retry] DEBUG: Retrying <GET http://adambiorpinting.com> (failed 1 times): DNS lookup failed: no results for hostname lookup: adambiorpinting.com.\n"
     ]
    },
    {
     "name": "stdout",
     "output_type": "stream",
     "text": [
      "site_url https://bmf3d.com site_url_close ['https://bmf3d.com', 'http://morf3d.com/', 'https://wbf.com/']\n",
      "site_url_close[0] https://bmf3d.com\n",
      "ii 14 self.companies[ii] BMF Precision\n",
      "out1 true iout1 6 url https://bmf3d.com\n",
      "companies[0] PrinterPrezz this url https://bmf3d.com\n",
      "out1 true iout1 7 url https://www.essentium.com\n",
      "companies[0] Digital Alloys this url https://www.essentium.com\n"
     ]
    },
    {
     "name": "stderr",
     "output_type": "stream",
     "text": [
      "2021-11-30 16:35:21 [scrapy.core.engine] DEBUG: Crawled (200) <GET https://r3printing.com/> (referer: None)\n",
      "2021-11-30 16:35:21 [scrapy.spidermiddlewares.httperror] INFO: Ignoring response <530 https://www.inklocker.com>: HTTP status code is not handled or not allowed\n",
      "2021-11-30 16:35:21 [scrapy.core.engine] DEBUG: Crawled (200) <GET https://www.fortiusmetals.com/> (referer: None)\n"
     ]
    },
    {
     "name": "stdout",
     "output_type": "stream",
     "text": [
      "site_url https://www.wazer.com site_url_close ['https://www.wazer.com', 'https://www.ewizer.com/', 'https://www.whcamera.com']\n",
      "site_url_close[0] https://www.wazer.com\n",
      "ii 17 self.companies[ii] Wazer\n",
      "out1 true iout1 8 url https://www.wazer.com\n",
      "companies[0] Azul 3D this url https://www.wazer.com\n"
     ]
    },
    {
     "name": "stderr",
     "output_type": "stream",
     "text": [
      "2021-11-30 16:35:21 [scrapy.core.scraper] DEBUG: Scraped from <200 https://r3printing.com/>\n",
      "{'Organization': 'R3 Printing',\n",
      " 'fulltext': \"R3 Printing is a California-based tech startup that's automating the 3D printing process from digital file to finished part. We’re bringing you a world where custom, 3D-printed products are available at prices that can compete with mass production. We design for ultimate reliability, uptime, and output to serve on-demand manufacturing businesses, the defense industry, and to build an affordable, 3D-printed future for everyone. Connecting mind and matter.™\",\n",
      " 'searchterm': 'additive manufacturing',\n",
      " 'url': 'https://r3printing.com/'}\n",
      "2021-11-30 16:35:21 [scrapy.core.engine] DEBUG: Crawled (200) <GET https://makeros.com/> (referer: None)\n",
      "2021-11-30 16:35:21 [scrapy.core.engine] DEBUG: Crawled (200) <GET http://intrepidautomation.com/> (referer: None)\n",
      "2021-11-30 16:35:21 [scrapy.core.scraper] ERROR: Spider error processing <GET https://r3printing.com/> (referer: None)\n",
      "Traceback (most recent call last):\n",
      "  File \"C:\\Users\\MStopa\\AppData\\Local\\Continuum\\anaconda3\\envs\\webscrape\\lib\\site-packages\\scrapy\\utils\\defer.py\", line 120, in iter_errback\n",
      "    yield next(it)\n",
      "  File \"C:\\Users\\MStopa\\AppData\\Local\\Continuum\\anaconda3\\envs\\webscrape\\lib\\site-packages\\scrapy\\utils\\python.py\", line 346, in __next__\n",
      "    return next(self.data)\n",
      "  File \"C:\\Users\\MStopa\\AppData\\Local\\Continuum\\anaconda3\\envs\\webscrape\\lib\\site-packages\\scrapy\\utils\\python.py\", line 346, in __next__\n",
      "    return next(self.data)\n",
      "  File \"C:\\Users\\MStopa\\AppData\\Local\\Continuum\\anaconda3\\envs\\webscrape\\lib\\site-packages\\scrapy\\core\\spidermw.py\", line 64, in _evaluate_iterable\n",
      "    for r in iterable:\n",
      "  File \"C:\\Users\\MStopa\\AppData\\Local\\Continuum\\anaconda3\\envs\\webscrape\\lib\\site-packages\\scrapy\\spidermiddlewares\\offsite.py\", line 29, in process_spider_output\n",
      "    for x in result:\n",
      "  File \"C:\\Users\\MStopa\\AppData\\Local\\Continuum\\anaconda3\\envs\\webscrape\\lib\\site-packages\\scrapy\\core\\spidermw.py\", line 64, in _evaluate_iterable\n",
      "    for r in iterable:\n",
      "  File \"C:\\Users\\MStopa\\AppData\\Local\\Continuum\\anaconda3\\envs\\webscrape\\lib\\site-packages\\scrapy\\spidermiddlewares\\referer.py\", line 340, in <genexpr>\n",
      "    return (_set_referer(r) for r in result or ())\n",
      "  File \"C:\\Users\\MStopa\\AppData\\Local\\Continuum\\anaconda3\\envs\\webscrape\\lib\\site-packages\\scrapy\\core\\spidermw.py\", line 64, in _evaluate_iterable\n",
      "    for r in iterable:\n",
      "  File \"C:\\Users\\MStopa\\AppData\\Local\\Continuum\\anaconda3\\envs\\webscrape\\lib\\site-packages\\scrapy\\spidermiddlewares\\urllength.py\", line 37, in <genexpr>\n",
      "    return (r for r in result or () if _filter(r))\n",
      "  File \"C:\\Users\\MStopa\\AppData\\Local\\Continuum\\anaconda3\\envs\\webscrape\\lib\\site-packages\\scrapy\\core\\spidermw.py\", line 64, in _evaluate_iterable\n",
      "    for r in iterable:\n",
      "  File \"C:\\Users\\MStopa\\AppData\\Local\\Continuum\\anaconda3\\envs\\webscrape\\lib\\site-packages\\scrapy\\spidermiddlewares\\depth.py\", line 58, in <genexpr>\n",
      "    return (r for r in result or () if _filter(r))\n",
      "  File \"C:\\Users\\MStopa\\AppData\\Local\\Continuum\\anaconda3\\envs\\webscrape\\lib\\site-packages\\scrapy\\core\\spidermw.py\", line 64, in _evaluate_iterable\n",
      "    for r in iterable:\n",
      "  File \"<ipython-input-9-10a30e00531c>\", line 132, in parse\n",
      "    file1.write(out2 + '\\n')\n",
      "  File \"C:\\Users\\MStopa\\AppData\\Local\\Continuum\\anaconda3\\envs\\webscrape\\lib\\encodings\\cp1252.py\", line 19, in encode\n",
      "    return codecs.charmap_encode(input,self.errors,encoding_table)[0]\n",
      "UnicodeEncodeError: 'charmap' codec can't encode characters in position 2002-2004: character maps to <undefined>\n"
     ]
    },
    {
     "name": "stdout",
     "output_type": "stream",
     "text": [
      "site_url https://r3printing.com/ site_url_close ['https://r3printing.com/', 'http://gprinting.com/', 'https://raffprinting.com']\n",
      "site_url_close[0] https://r3printing.com/\n",
      "ii 19 self.companies[ii] R3 Printing\n",
      "yielding item additive manufacturing\n",
      "out1 true iout1 9 url https://r3printing.com/\n",
      "site_url https://www.fortiusmetals.com/ site_url_close ['https://www.fortiusmetals.com/', 'https://www.omnimetal.com', 'https://www.mforia.com/']\n",
      "site_url_close[0] https://www.fortiusmetals.com/\n",
      "ii 15 self.companies[ii] Fortius Metals\n",
      "out1 true iout1 10 url https://www.fortiusmetals.com/\n",
      "companies[0] Pacific Light & Hologram this url https://www.fortiusmetals.com/\n",
      "site_url https://makeros.com/ site_url_close ['https://makeros.com/', 'https://pbaker.com/', 'http://tumaker.com/']\n",
      "site_url_close[0] https://makeros.com/\n",
      "ii 20 self.companies[ii] MakerOS\n",
      "out1 true iout1 11 url https://makeros.com/\n",
      "companies[0] Sterblue this url https://makeros.com/\n"
     ]
    },
    {
     "name": "stderr",
     "output_type": "stream",
     "text": [
      "2021-11-30 16:35:23 [scrapy.core.scraper] DEBUG: Scraped from <200 http://intrepidautomation.com/>\r\n",
      "{'Organization': 'Intrepid Automation',\n",
      " 'fulltext': 'nan',\n",
      " 'searchterm': 'additive manufacturing',\n",
      " 'url': 'http://intrepidautomation.com/'}\n"
     ]
    },
    {
     "name": "stdout",
     "output_type": "stream",
     "text": [
      "site_url http://intrepidautomation.com/ site_url_close ['http://intrepidautomation.com/', 'http://sunautomation.com', 'http://martinautomatic.com/']\n",
      "site_url_close[0] http://intrepidautomation.com/\n",
      "ii 22 self.companies[ii] Intrepid Automation\n",
      "yielding item additive manufacturing\n",
      "out1 true iout1 12 url http://intrepidautomation.com/\n",
      "companies[0] DigiFabster this url http://intrepidautomation.com/\n"
     ]
    },
    {
     "name": "stderr",
     "output_type": "stream",
     "text": [
      "2021-11-30 16:35:23 [scrapy.downloadermiddlewares.redirect] DEBUG: Redirecting (301) to <GET https://themostcurls.co/> from <GET https://www.themostcurls.com/>\n",
      "2021-11-30 16:35:23 [scrapy.core.engine] DEBUG: Crawled (200) <GET https://brickandmotorcompany.com> (referer: None)\n",
      "2021-11-30 16:35:24 [scrapy.core.engine] DEBUG: Crawled (200) <GET https://amplifyadditive.com/> (referer: None)\n",
      "2021-11-30 16:35:24 [scrapy.core.engine] DEBUG: Crawled (200) <GET https://3dusher.com/> (referer: None)\n"
     ]
    },
    {
     "name": "stdout",
     "output_type": "stream",
     "text": [
      "site_url https://brickandmotorcompany.com site_url_close ['https://brickandmotorcompany.com', 'http://brickandmaker.com', 'https://phmurphyandcompany.com/']\n",
      "site_url_close[0] https://brickandmotorcompany.com\n",
      "ii 23 self.companies[ii] UNITED ROBOTIC SYSTEMS by BRICK + MORTAR Company\n",
      "out1 true iout1 13 url https://brickandmotorcompany.com\n",
      "companies[0] polySpectra this url https://brickandmotorcompany.com\n"
     ]
    },
    {
     "name": "stderr",
     "output_type": "stream",
     "text": [
      "2021-11-30 16:35:24 [scrapy.downloadermiddlewares.retry] DEBUG: Retrying <GET https://www.opnplatform.com/> (failed 1 times): 503 Service Unavailable\n"
     ]
    },
    {
     "name": "stdout",
     "output_type": "stream",
     "text": [
      "site_url https://amplifyadditive.com/ site_url_close ['https://amplifyadditive.com/', 'http://amplifii.com', 'https://platinumvue.com/']\n",
      "site_url_close[0] https://amplifyadditive.com/\n",
      "ii 27 self.companies[ii] Amplify Additive\n",
      "out1 true iout1 14 url https://amplifyadditive.com/\n",
      "companies[0] womp this url https://amplifyadditive.com/\n"
     ]
    },
    {
     "name": "stderr",
     "output_type": "stream",
     "text": [
      "2021-11-30 16:35:25 [scrapy.core.engine] DEBUG: Crawled (200) <GET https://www.swagup.com/> (referer: None)\n",
      "2021-11-30 16:35:25 [scrapy.downloadermiddlewares.redirect] DEBUG: Redirecting (301) to <GET https://www.origami.app/> from <GET http://www.origami.app>\n"
     ]
    },
    {
     "name": "stdout",
     "output_type": "stream",
     "text": [
      "site_url https://3dusher.com/ site_url_close ['https://3dusher.com/', 'https://docuserve.com/', 'https://andishere.com/']\n",
      "site_url_close[0] https://3dusher.com/\n",
      "ii 25 self.companies[ii] 3D Usher\n",
      "out1 false iout2 0 url https://3dusher.com/\n",
      "companies[0] BMF Precision this url https://3dusher.com/\n",
      "site_url https://www.swagup.com/ site_url_close ['https://www.swagup.com/', 'https://www.wpm.com/', 'http://www.ag-p.com']\n",
      "site_url_close[0] https://www.swagup.com/\n",
      "ii 28 self.companies[ii] SwagUp\n",
      "out1 true iout1 15 url https://www.swagup.com/\n",
      "companies[0] Fortius Metals this url https://www.swagup.com/\n"
     ]
    },
    {
     "name": "stderr",
     "output_type": "stream",
     "text": [
      "2021-11-30 16:35:25 [scrapy.core.engine] DEBUG: Crawled (200) <GET https://prinsta.io/> (referer: None)\n",
      "2021-11-30 16:35:25 [scrapy.core.engine] DEBUG: Crawled (200) <GET https://www.sterblue.com/> (referer: None)\n"
     ]
    },
    {
     "name": "stdout",
     "output_type": "stream",
     "text": [
      "site_url https://prinsta.io/ site_url_close ['https://prinsta.io/', 'https://printarts.com/', 'https://4dprint.com/']\n",
      "site_url_close[0] https://prinsta.io/\n",
      "ii 30 self.companies[ii] prinsta\n",
      "out1 true iout1 16 url https://prinsta.io/\n",
      "companies[0] Riven this url https://prinsta.io/\n"
     ]
    },
    {
     "name": "stderr",
     "output_type": "stream",
     "text": [
      "2021-11-30 16:35:26 [scrapy.core.engine] DEBUG: Crawled (200) <GET https://holoam.com/> (referer: None)\n"
     ]
    },
    {
     "name": "stdout",
     "output_type": "stream",
     "text": [
      "site_url https://www.sterblue.com/ site_url_close ['http://www.sterblue.com/', 'https://www.berber.com/', 'https://www.seblueprint.com/']\n",
      "site_url_close[0] http://www.sterblue.com/\n",
      "ii 10 self.companies[ii] Sterblue\n",
      "out1 true iout1 17 url https://www.sterblue.com/\n",
      "companies[0] Wazer this url https://www.sterblue.com/\n"
     ]
    },
    {
     "name": "stderr",
     "output_type": "stream",
     "text": [
      "2021-11-30 16:35:27 [scrapy.downloadermiddlewares.redirect] DEBUG: Redirecting (301) to <GET http://azul3d.com> from <GET http://www.cdjtechnologies.com/>\n",
      "2021-11-30 16:35:27 [scrapy.core.engine] DEBUG: Crawled (200) <GET https://www.rosotics.com/> (referer: None)\n"
     ]
    },
    {
     "name": "stdout",
     "output_type": "stream",
     "text": [
      "site_url https://holoam.com/ site_url_close ['https://holoam.com/', 'https://ocdm.com/', 'https://clov.com/']\n",
      "site_url_close[0] https://holoam.com/\n",
      "ii 33 self.companies[ii] Holo\n",
      "out1 false iout2 1 url https://holoam.com/\n",
      "companies[0] Inklocker this url https://holoam.com/\n"
     ]
    },
    {
     "name": "stderr",
     "output_type": "stream",
     "text": [
      "2021-11-30 16:35:27 [scrapy.core.engine] DEBUG: Crawled (200) <GET https://www.materialexchange.com/> (referer: None)\n",
      "2021-11-30 16:35:27 [scrapy.core.engine] DEBUG: Crawled (200) <GET https://digifabster.com:443/> (referer: None)\n",
      "2021-11-30 16:35:27 [scrapy.downloadermiddlewares.redirect] DEBUG: Redirecting (302) to <GET http://www.securemarking.com/> from <GET http://www.securemarking.com>\n"
     ]
    },
    {
     "name": "stdout",
     "output_type": "stream",
     "text": [
      "site_url https://www.rosotics.com/ site_url_close ['https://www.rosotics.com/', 'https://www.romoinc.com', 'https://www.carstickers.com/']\n",
      "site_url_close[0] https://www.rosotics.com/\n",
      "ii 32 self.companies[ii] Rosotics\n",
      "out1 true iout1 18 url https://www.rosotics.com/\n",
      "companies[0] R3 Printing this url https://www.rosotics.com/\n"
     ]
    },
    {
     "name": "stderr",
     "output_type": "stream",
     "text": [
      "2021-11-30 16:35:28 [scrapy.core.engine] DEBUG: Crawled (200) <GET https://inkbit3d.com/technology> (referer: https://inkbit3d.com/)\n",
      "2021-11-30 16:35:28 [scrapy.core.engine] DEBUG: Crawled (200) <GET https://c3dmaterials.com/> (referer: None)\n"
     ]
    },
    {
     "name": "stdout",
     "output_type": "stream",
     "text": [
      "site_url https://www.materialexchange.com/ site_url_close ['https://www.materialexchange.com/', 'https://www.xchangeus.com/', 'https://www.emeraldcg.com/']\n",
      "site_url_close[0] https://www.materialexchange.com/\n",
      "ii 34 self.companies[ii] Material Exchange\n",
      "out1 false iout2 2 url https://www.materialexchange.com/\n",
      "companies[0] MakerOS this url https://www.materialexchange.com/\n"
     ]
    },
    {
     "name": "stderr",
     "output_type": "stream",
     "text": [
      "2021-11-30 16:35:28 [scrapy.core.engine] DEBUG: Crawled (200) <GET https://www.womp.xyz/> (referer: None)\n",
      "2021-11-30 16:35:28 [scrapy.downloadermiddlewares.retry] DEBUG: Retrying <GET http://adambiorpinting.com> (failed 2 times): DNS lookup failed: no results for hostname lookup: adambiorpinting.com.\n"
     ]
    },
    {
     "name": "stdout",
     "output_type": "stream",
     "text": [
      "site_url https://digifabster.com:443/ site_url_close ['http://digifabster.com', 'https://go-foster.com/', 'https://iglabel.com/']\n",
      "site_url_close[0] http://digifabster.com\n",
      "ii 11 self.companies[ii] DigiFabster\n",
      "out1 true iout1 19 url https://digifabster.com:443/\n",
      "companies[0] A.D.A.M. this url https://digifabster.com:443/\n",
      "site_url https://c3dmaterials.com/ site_url_close ['https://c3dmaterials.com/', 'https://arternal.com/', 'https://redmatmedia.com/']\n",
      "site_url_close[0] https://c3dmaterials.com/\n",
      "ii 29 self.companies[ii] Chromatic 3D Materials\n",
      "out1 true iout1 20 url https://c3dmaterials.com/\n",
      "companies[0] Intrepid Automation this url https://c3dmaterials.com/\n"
     ]
    },
    {
     "name": "stderr",
     "output_type": "stream",
     "text": [
      "2021-11-30 16:35:29 [scrapy.downloadermiddlewares.redirect] DEBUG: Redirecting (301) to <GET https://madebymodica.com/> from <GET https://www.mmicroindustries.com/>\n",
      "2021-11-30 16:35:29 [scrapy.core.engine] DEBUG: Crawled (200) <GET https://riven.ai/> (referer: None)\n"
     ]
    },
    {
     "name": "stdout",
     "output_type": "stream",
     "text": [
      "site_url https://inkbit3d.com/technology site_url_close ['https://inkbit3d.com/', 'http://inkbig.com', 'https://nextepisodetechnology.com']\n",
      "site_url_close[0] https://inkbit3d.com/\n",
      "ii 2 self.companies[ii] Inkbit\n",
      "out1 true iout1 21 url https://inkbit3d.com/technology\n",
      "companies[0] UNITED ROBOTIC SYSTEMS by BRICK + MORTAR Company this url https://inkbit3d.com/technology\n"
     ]
    },
    {
     "name": "stderr",
     "output_type": "stream",
     "text": [
      "2021-11-30 16:35:30 [scrapy.core.engine] DEBUG: Crawled (200) <GET https://metalmaker3d.com/> (referer: None)\n",
      "2021-11-30 16:35:30 [scrapy.core.engine] DEBUG: Crawled (200) <GET https://www.vitrolabsinc.com/> (referer: None)\n"
     ]
    },
    {
     "name": "stdout",
     "output_type": "stream",
     "text": [
      "site_url https://www.womp.xyz/ site_url_close ['https://womp.xyz/', 'https://www.wpm.com/', 'https://www.ntwo.com/']\n",
      "site_url_close[0] https://womp.xyz/\n",
      "ii 13 self.companies[ii] womp\n",
      "out1 false iout2 3 url https://www.womp.xyz/\n",
      "companies[0] Open Packaging Network this url https://www.womp.xyz/\n"
     ]
    },
    {
     "name": "stderr",
     "output_type": "stream",
     "text": [
      "2021-11-30 16:35:31 [scrapy.core.engine] DEBUG: Crawled (403) <GET https://polyspectra.com/> (referer: None)\n",
      "2021-11-30 16:35:31 [scrapy.downloadermiddlewares.redirect] DEBUG: Redirecting (301) to <GET https://www.lsccom.com/> from <GET http://www.lsccom.com/>\n",
      "2021-11-30 16:35:31 [scrapy.downloadermiddlewares.redirect] DEBUG: Redirecting (301) to <GET https://www.samedaycustom.com/> from <GET http://www.samedaycustom.com>\n",
      "2021-11-30 16:35:31 [scrapy.core.engine] DEBUG: Crawled (200) <GET https://3dfortify.com/> (referer: None)\n"
     ]
    },
    {
     "name": "stdout",
     "output_type": "stream",
     "text": [
      "site_url https://riven.ai/ site_url_close ['https://www.riven.ai/', 'https://prinsta.io/', 'https://redhen.org/']\n",
      "site_url_close[0] https://www.riven.ai/\n",
      "ii 16 self.companies[ii] Riven\n",
      "out1 true iout1 22 url https://riven.ai/\n",
      "companies[0] 3D Usher this url https://riven.ai/\n",
      "site_url https://metalmaker3d.com/ site_url_close ['https://metalmaker3d.com/', 'http://tumaker.com/', 'https://nationalmarker.com/']\n",
      "site_url_close[0] https://metalmaker3d.com/\n",
      "ii 39 self.companies[ii] MetalMaker 3D\n",
      "out1 true iout1 23 url https://metalmaker3d.com/\n",
      "companies[0] THE MOST this url https://metalmaker3d.com/\n"
     ]
    },
    {
     "name": "stderr",
     "output_type": "stream",
     "text": [
      "2021-11-30 16:35:33 [scrapy.spidermiddlewares.httperror] INFO: Ignoring response <403 https://polyspectra.com/>: HTTP status code is not handled or not allowed\n",
      "2021-11-30 16:35:33 [scrapy.downloadermiddlewares.retry] DEBUG: Retrying <GET https://bumblebeast.co> (failed 1 times): [<twisted.python.failure.Failure twisted.internet.error.ConnectionLost: Connection to the other side was lost in a non-clean fashion: Connection lost.>]\n",
      "2021-11-30 16:35:33 [scrapy.downloadermiddlewares.retry] DEBUG: Retrying <GET https://www.opnplatform.com/> (failed 2 times): 503 Service Unavailable\n"
     ]
    },
    {
     "name": "stdout",
     "output_type": "stream",
     "text": [
      "site_url https://www.vitrolabsinc.com/ site_url_close ['http://www.vitrolabsinc.com/', 'https://www.trio-labs.com/', 'https://www.iksinc.com/']\n",
      "site_url_close[0] http://www.vitrolabsinc.com/\n",
      "ii 0 self.companies[ii] VitroLabs\n",
      "out1 true iout1 24 url https://www.vitrolabsinc.com/\n",
      "companies[0] Amplify Additive this url https://www.vitrolabsinc.com/\n"
     ]
    },
    {
     "name": "stderr",
     "output_type": "stream",
     "text": [
      "2021-11-30 16:35:34 [scrapy.core.scraper] DEBUG: Scraped from <200 https://3dfortify.com/>\n",
      "{'Organization': 'Fortify',\n",
      " 'fulltext': '3DFortify is an advanced manufacturing startup that aims to disrupt additive manufacturing, ushering in a new generation of custom, high performance products. We have developed a patented process that combines 3D printing and magnetics to create aligned reinforced carbon fiber composites.',\n",
      " 'searchterm': 'additive manufacturing',\n",
      " 'url': 'https://3dfortify.com/'}\n",
      "2021-11-30 16:35:34 [scrapy.downloadermiddlewares.retry] ERROR: Gave up retrying <GET http://adambiorpinting.com> (failed 3 times): DNS lookup failed: no results for hostname lookup: adambiorpinting.com.\n",
      "2021-11-30 16:35:34 [scrapy.core.scraper] DEBUG: Scraped from <200 https://3dfortify.com/>\n",
      "{'Organization': 'Fortify',\n",
      " 'fulltext': '3DFortify is an advanced manufacturing startup that aims to disrupt additive manufacturing, ushering in a new generation of custom, high performance products. We have developed a patented process that combines 3D printing and magnetics to create aligned reinforced carbon fiber composites.',\n",
      " 'searchterm': 'digital manufacturing',\n",
      " 'url': 'https://3dfortify.com/'}\n"
     ]
    },
    {
     "name": "stdout",
     "output_type": "stream",
     "text": [
      "site_url https://3dfortify.com/ site_url_close ['https://www.3dfortify.com', 'https://printify.com', 'https://authorify.com']\n",
      "site_url_close[0] https://www.3dfortify.com\n",
      "ii 5 self.companies[ii] Fortify\n",
      "yielding item additive manufacturing\n",
      "yielding item digital manufacturing\n",
      "out1 true iout1 25 url https://3dfortify.com/\n",
      "companies[0] SwagUp this url https://3dfortify.com/\n"
     ]
    },
    {
     "name": "stderr",
     "output_type": "stream",
     "text": [
      "2021-11-30 16:35:34 [scrapy.core.scraper] ERROR: Error downloading <GET http://adambiorpinting.com>\n",
      "Traceback (most recent call last):\n",
      "  File \"C:\\Users\\MStopa\\AppData\\Local\\Continuum\\anaconda3\\envs\\webscrape\\lib\\site-packages\\twisted\\internet\\defer.py\", line 1416, in _inlineCallbacks\n",
      "    result = result.throwExceptionIntoGenerator(g)\n",
      "  File \"C:\\Users\\MStopa\\AppData\\Local\\Continuum\\anaconda3\\envs\\webscrape\\lib\\site-packages\\twisted\\python\\failure.py\", line 512, in throwExceptionIntoGenerator\n",
      "    return g.throw(self.type, self.value, self.tb)\n",
      "  File \"C:\\Users\\MStopa\\AppData\\Local\\Continuum\\anaconda3\\envs\\webscrape\\lib\\site-packages\\scrapy\\core\\downloader\\middleware.py\", line 44, in process_request\n",
      "    return (yield download_func(request=request, spider=spider))\n",
      "  File \"C:\\Users\\MStopa\\AppData\\Local\\Continuum\\anaconda3\\envs\\webscrape\\lib\\site-packages\\twisted\\internet\\defer.py\", line 654, in _runCallbacks\n",
      "    current.result = callback(current.result, *args, **kw)\n",
      "  File \"C:\\Users\\MStopa\\AppData\\Local\\Continuum\\anaconda3\\envs\\webscrape\\lib\\site-packages\\twisted\\internet\\endpoints.py\", line 982, in startConnectionAttempts\n",
      "    \"no results for hostname lookup: {}\".format(self._hostStr)\n",
      "twisted.internet.error.DNSLookupError: DNS lookup failed: no results for hostname lookup: adambiorpinting.com.\n",
      "2021-11-30 16:35:34 [scrapy.downloadermiddlewares.redirect] DEBUG: Redirecting (302) to <GET http://www.azul3d.com> from <GET http://azul3d.com>\n",
      "2021-11-30 16:35:34 [scrapy.core.engine] DEBUG: Crawled (200) <GET https://arfonaprinting.com/> (referer: None)\n",
      "2021-11-30 16:35:34 [scrapy.downloadermiddlewares.retry] DEBUG: Retrying <GET https://love-toons.com> (failed 1 times): [<twisted.python.failure.Failure OpenSSL.SSL.Error: [('SSL routines', 'ssl3_get_record', 'wrong version number')]>]\n",
      "2021-11-30 16:35:34 [scrapy.downloadermiddlewares.redirect] DEBUG: Redirecting (301) to <GET https://www.creative3dtechnologies.com/> from <GET http://www.creative3dtechnologies.com>\n",
      "2021-11-30 16:35:35 [scrapy.downloadermiddlewares.redirect] DEBUG: Redirecting (302) to <GET https://www.millebot.com/home37599678> from <GET http://www.millebot.com>\n",
      "2021-11-30 16:35:35 [scrapy.core.engine] DEBUG: Crawled (200) <GET https://themostcurls.co/> (referer: None)\n",
      "2021-11-30 16:35:35 [scrapy.downloadermiddlewares.redirect] DEBUG: Redirecting (301) to <GET https://shop.sparkedinnovations.com/> from <GET https://sparkedinnovations.com>\n"
     ]
    },
    {
     "name": "stdout",
     "output_type": "stream",
     "text": [
      "site_url https://arfonaprinting.com/ site_url_close ['https://arfonaprinting.com/', 'https://r3printing.com/', 'https://balloonprinting.com/']\n",
      "site_url_close[0] https://arfonaprinting.com/\n",
      "ii 44 self.companies[ii] Arfona\n",
      "out1 true iout1 26 url https://arfonaprinting.com/\n",
      "companies[0] Chromatic 3D Materials this url https://arfonaprinting.com/\n"
     ]
    },
    {
     "name": "stderr",
     "output_type": "stream",
     "text": [
      "2021-11-30 16:35:35 [scrapy.core.engine] DEBUG: Crawled (200) <GET http://www.securemarking.com/> (referer: None)\n"
     ]
    },
    {
     "name": "stdout",
     "output_type": "stream",
     "text": [
      "site_url https://themostcurls.co/ site_url_close ['https://www.themostcurls.com/', 'https://hotcards.com', 'https://syrlsp.com/']\n",
      "site_url_close[0] https://www.themostcurls.com/\n",
      "ii 26 self.companies[ii] THE MOST\n",
      "out1 true iout1 27 url https://themostcurls.co/\n",
      "companies[0] prinsta this url https://themostcurls.co/\n"
     ]
    },
    {
     "name": "stderr",
     "output_type": "stream",
     "text": [
      "2021-11-30 16:35:36 [scrapy.downloadermiddlewares.redirect] DEBUG: Redirecting (301) to <GET https://www.makerstage.com/> from <GET http://www.makerstage.com>\n",
      "2021-11-30 16:35:36 [scrapy.downloadermiddlewares.retry] DEBUG: Retrying <GET https://bumblebeast.co> (failed 2 times): [<twisted.python.failure.Failure twisted.internet.error.ConnectionLost: Connection to the other side was lost in a non-clean fashion: Connection lost.>]\n"
     ]
    },
    {
     "name": "stdout",
     "output_type": "stream",
     "text": [
      "site_url http://www.securemarking.com/ site_url_close ['http://www.securemarking.com', 'http://www.tmcmarketing.com/', 'https://www.1sourceimaging.com/']\n",
      "site_url_close[0] http://www.securemarking.com\n",
      "ii 36 self.companies[ii] SecureMarking\n",
      "out1 true iout1 28 url http://www.securemarking.com/\n",
      "companies[0] Origami this url http://www.securemarking.com/\n"
     ]
    },
    {
     "name": "stderr",
     "output_type": "stream",
     "text": [
      "2021-11-30 16:35:36 [scrapy.downloadermiddlewares.redirect] DEBUG: Redirecting (301) to <GET https://app.optamarkgraphics.com/> from <GET https://anythingwithink.com>\n",
      "2021-11-30 16:35:36 [scrapy.core.engine] DEBUG: Crawled (200) <GET https://www.origami.app/> (referer: None)\n"
     ]
    },
    {
     "name": "stdout",
     "output_type": "stream",
     "text": [
      "site_url https://www.origami.app/ site_url_close ['http://www.origami.app', 'http://www.origin.io/', 'https://www.mforia.com/']\n",
      "site_url_close[0] http://www.origami.app\n",
      "ii 31 self.companies[ii] Origami\n",
      "out1 true iout1 29 url https://www.origami.app/\n",
      "companies[0] Rosotics this url https://www.origami.app/\n"
     ]
    },
    {
     "name": "stderr",
     "output_type": "stream",
     "text": [
      "2021-11-30 16:35:37 [scrapy.core.engine] DEBUG: Crawled (200) <GET https://www.softformlighting.com> (referer: None)\n",
      "2021-11-30 16:35:37 [scrapy.core.engine] DEBUG: Crawled (200) <GET https://epacflexibles.com/> (referer: None)\n"
     ]
    },
    {
     "name": "stdout",
     "output_type": "stream",
     "text": [
      "site_url https://www.softformlighting.com site_url_close ['https://www.softformlighting.com', 'https://www.soliprinting.com', 'https://www.tycoprinting.com/']\n",
      "site_url_close[0] https://www.softformlighting.com\n",
      "ii 49 self.companies[ii] SoftForm Lighting\n",
      "out1 true iout1 30 url https://www.softformlighting.com\n",
      "companies[0] Holo this url https://www.softformlighting.com\n"
     ]
    },
    {
     "name": "stderr",
     "output_type": "stream",
     "text": [
      "2021-11-30 16:35:38 [scrapy.core.engine] DEBUG: Crawled (200) <GET https://www.lsccom.com/> (referer: None)\n"
     ]
    },
    {
     "name": "stdout",
     "output_type": "stream",
     "text": [
      "site_url https://epacflexibles.com/ site_url_close ['https://epacflexibles.com/', 'https://pageflex.com/', 'https://pakible.com']\n",
      "site_url_close[0] https://epacflexibles.com/\n",
      "ii 52 self.companies[ii] ePac Flexible Packaging\n",
      "out1 true iout1 31 url https://epacflexibles.com/\n",
      "companies[0] Material Exchange this url https://epacflexibles.com/\n",
      "site_url https://www.lsccom.com/ site_url_close ['http://www.lsccom.com/', 'https://www.spcoc.com/', 'https://www.schwabco.com/']\n",
      "site_url_close[0] http://www.lsccom.com/\n",
      "ii 41 self.companies[ii] LSC Communications\n",
      "out1 true iout1 32 url https://www.lsccom.com/\n",
      "companies[0] CDJ Technologies this url https://www.lsccom.com/\n"
     ]
    },
    {
     "name": "stderr",
     "output_type": "stream",
     "text": [
      "2021-11-30 16:35:39 [scrapy.core.engine] DEBUG: Crawled (200) <GET https://www.sliceengineering.com> (referer: None)\n",
      "2021-11-30 16:35:39 [scrapy.core.engine] DEBUG: Crawled (200) <GET https://www.fluidform3d.com> (referer: None)\n",
      "2021-11-30 16:35:40 [scrapy.core.engine] DEBUG: Crawled (200) <GET https://madebymodica.com/> (referer: None)\n"
     ]
    },
    {
     "name": "stdout",
     "output_type": "stream",
     "text": [
      "site_url https://www.sliceengineering.com site_url_close ['https://www.sliceengineering.com', 'https://www.teraengineering.com', 'http://www.hicraftengineering.com']\n",
      "site_url_close[0] https://www.sliceengineering.com\n",
      "ii 54 self.companies[ii] Slice Engineering\n",
      "out1 false iout2 4 url https://www.sliceengineering.com\n",
      "companies[0] SecureMarking this url https://www.sliceengineering.com\n"
     ]
    },
    {
     "name": "stderr",
     "output_type": "stream",
     "text": [
      "2021-11-30 16:35:40 [scrapy.core.engine] DEBUG: Crawled (200) <GET https://www.samedaycustom.com/> (referer: None)\n"
     ]
    },
    {
     "name": "stdout",
     "output_type": "stream",
     "text": [
      "site_url https://www.fluidform3d.com site_url_close ['https://www.fluidform3d.com', 'https://www.caluniforms.com', 'http://www.solidiform.com/']\n",
      "site_url_close[0] https://www.fluidform3d.com\n",
      "ii 53 self.companies[ii] FluidForm\n",
      "out1 true iout1 33 url https://www.fluidform3d.com\n",
      "companies[0] MODICA Microindustries this url https://www.fluidform3d.com\n",
      "site_url https://madebymodica.com/ site_url_close ['https://madesolid.com', 'https://redmatmedia.com/', 'http://4webmedical.com']\n",
      "site_url_close[0] https://madesolid.com\n",
      "ii 3547 self.companies[ii] MadeSolid\n",
      "out1 true iout1 34 url https://madebymodica.com/\n",
      "companies[0] Custom Print Box this url https://madebymodica.com/\n"
     ]
    },
    {
     "name": "stderr",
     "output_type": "stream",
     "text": [
      "2021-11-30 16:35:41 [scrapy.core.engine] DEBUG: Crawled (200) <GET https://www.accelerate3d.com> (referer: None)\n"
     ]
    },
    {
     "name": "stdout",
     "output_type": "stream",
     "text": [
      "site_url https://www.samedaycustom.com/ site_url_close ['http://www.samedaycustom.com', 'https://www.adeast.com/', 'https://www.customink.com/']\n",
      "site_url_close[0] http://www.samedaycustom.com\n",
      "ii 40 self.companies[ii] SameDayCustom\n",
      "out1 true iout1 35 url https://www.samedaycustom.com/\n",
      "companies[0] MetalMaker 3D this url https://www.samedaycustom.com/\n"
     ]
    },
    {
     "name": "stderr",
     "output_type": "stream",
     "text": [
      "2021-11-30 16:35:42 [scrapy.downloadermiddlewares.redirect] DEBUG: Redirecting (301) to <GET https://www.azul3d.com/> from <GET http://www.azul3d.com>\n"
     ]
    },
    {
     "name": "stdout",
     "output_type": "stream",
     "text": [
      "site_url https://www.accelerate3d.com site_url_close ['https://www.accelerate3d.com', 'https://www.raise3d.com', 'https://www.laz3d.com']\n",
      "site_url_close[0] https://www.accelerate3d.com\n",
      "ii 55 self.companies[ii] Accelerate3D\n",
      "out1 true iout1 36 url https://www.accelerate3d.com\n",
      "companies[0] SameDayCustom this url https://www.accelerate3d.com\n"
     ]
    },
    {
     "name": "stderr",
     "output_type": "stream",
     "text": [
      "2021-11-30 16:35:42 [scrapy.core.engine] DEBUG: Crawled (200) <GET https://www.millebot.com/home37599678> (referer: None)\n",
      "2021-11-30 16:35:43 [scrapy.downloadermiddlewares.redirect] DEBUG: Redirecting (301) to <GET https://creative3dtechnologies.com/> from <GET https://www.creative3dtechnologies.com/>\n",
      "2021-11-30 16:35:43 [scrapy.downloadermiddlewares.retry] DEBUG: Retrying <GET https://love-toons.com> (failed 2 times): [<twisted.python.failure.Failure OpenSSL.SSL.Error: [('SSL routines', 'ssl3_get_record', 'wrong version number')]>]\n"
     ]
    },
    {
     "name": "stdout",
     "output_type": "stream",
     "text": [
      "site_url https://www.millebot.com/home37599678 site_url_close ['http://www.millebot.com', 'https://www.milweb1.com', 'https://www.lulzbot.com']\n",
      "site_url_close[0] http://www.millebot.com\n",
      "ii 48 self.companies[ii] MILLEBOT INC.\n",
      "out1 false iout2 5 url https://www.millebot.com/home37599678\n",
      "companies[0] LSC Communications this url https://www.millebot.com/home37599678\n"
     ]
    },
    {
     "name": "stderr",
     "output_type": "stream",
     "text": [
      "2021-11-30 16:35:44 [scrapy.downloadermiddlewares.retry] ERROR: Gave up retrying <GET https://www.opnplatform.com/> (failed 3 times): 503 Service Unavailable\n",
      "2021-11-30 16:35:44 [scrapy.core.engine] DEBUG: Crawled (503) <GET https://www.opnplatform.com/> (referer: None)\n",
      "2021-11-30 16:35:44 [scrapy.spidermiddlewares.httperror] INFO: Ignoring response <503 https://www.opnplatform.com/>: HTTP status code is not handled or not allowed\n",
      "2021-11-30 16:35:45 [scrapy.core.engine] DEBUG: Crawled (200) <GET https://www.makerstage.com/> (referer: None)\n",
      "2021-11-30 16:35:46 [scrapy.core.scraper] DEBUG: Scraped from <200 https://www.makerstage.com/>\n",
      "{'Organization': 'Make',\n",
      " 'fulltext': 'Make provides rapid prototyping and manufacturing services through a distributed network of industrial 3D printers, CNC machines and Injection Molders, helping teams save more 60% on cost/part and reduce time to part from weeks and months to days.  Product: www.makerstage.com  Contact: hello@makerstage.com Instagram: @makerstage',\n",
      " 'searchterm': 'additive manufacturing',\n",
      " 'url': 'https://www.makerstage.com/'}\n"
     ]
    },
    {
     "name": "stdout",
     "output_type": "stream",
     "text": [
      "site_url https://www.makerstage.com/ site_url_close ['http://www.makerstage.com', 'http://www.makergear.com/', 'https://www.argen.com/']\n",
      "site_url_close[0] http://www.makerstage.com\n",
      "ii 50 self.companies[ii] Make\n",
      "yielding item additive manufacturing\n",
      "out1 true iout1 37 url https://www.makerstage.com/\n",
      "companies[0] FN-X Inc. this url https://www.makerstage.com/\n"
     ]
    },
    {
     "name": "stderr",
     "output_type": "stream",
     "text": [
      "2021-11-30 16:35:47 [scrapy.downloadermiddlewares.retry] ERROR: Gave up retrying <GET https://bumblebeast.co> (failed 3 times): [<twisted.python.failure.Failure twisted.internet.error.ConnectionLost: Connection to the other side was lost in a non-clean fashion: Connection lost.>]\n",
      "2021-11-30 16:35:47 [scrapy.core.scraper] ERROR: Error downloading <GET https://bumblebeast.co>\n",
      "Traceback (most recent call last):\n",
      "  File \"C:\\Users\\MStopa\\AppData\\Local\\Continuum\\anaconda3\\envs\\webscrape\\lib\\site-packages\\scrapy\\core\\downloader\\middleware.py\", line 44, in process_request\n",
      "    return (yield download_func(request=request, spider=spider))\n",
      "twisted.web._newclient.ResponseNeverReceived: [<twisted.python.failure.Failure twisted.internet.error.ConnectionLost: Connection to the other side was lost in a non-clean fashion: Connection lost.>]\n",
      "2021-11-30 16:35:48 [scrapy.core.engine] DEBUG: Crawled (200) <GET https://www.fluidform3d.com/technology> (referer: https://www.fluidform3d.com)\n"
     ]
    },
    {
     "name": "stdout",
     "output_type": "stream",
     "text": [
      "site_url https://www.fluidform3d.com/technology site_url_close ['https://www.fluidform3d.com', 'http://www.solidiform.com/', 'https://www.caluniforms.com']\n",
      "site_url_close[0] https://www.fluidform3d.com\n",
      "ii 53 self.companies[ii] FluidForm\n",
      "out1 true iout1 38 url https://www.fluidform3d.com/technology\n",
      "companies[0] Ulela Technology this url https://www.fluidform3d.com/technology\n"
     ]
    },
    {
     "name": "stderr",
     "output_type": "stream",
     "text": [
      "2021-11-30 16:35:49 [scrapy.downloadermiddlewares.retry] DEBUG: Retrying <GET https://customprintbox.com/> (failed 1 times): TCP connection timed out: 10060: A connection attempt failed because the connected party did not properly respond after a period of time, or established connection failed because connected host has failed to respond..\n",
      "2021-11-30 16:35:50 [scrapy.downloadermiddlewares.retry] DEBUG: Retrying <GET http://www.gopapr.com> (failed 1 times): DNS lookup failed: no results for hostname lookup: www.gopapr.com.\n",
      "2021-11-30 16:35:51 [scrapy.downloadermiddlewares.redirect] DEBUG: Redirecting (301) to <GET https://web.aop.plus> from <GET https://aop.plus>\n",
      "2021-11-30 16:35:51 [scrapy.core.engine] DEBUG: Crawled (200) <GET https://wrapmate.com/> (referer: None)\n",
      "2021-11-30 16:35:51 [scrapy.downloadermiddlewares.redirect] DEBUG: Redirecting (301) to <GET https://www.cjkgroup.com/> from <GET http://www.cjkgroup.com/>\n",
      "2021-11-30 16:35:51 [scrapy.core.engine] DEBUG: Crawled (200) <GET https://shop.sparkedinnovations.com/> (referer: None)\n",
      "2021-11-30 16:35:51 [scrapy.core.scraper] ERROR: Spider error processing <GET https://wrapmate.com/> (referer: None)\n",
      "Traceback (most recent call last):\n",
      "  File \"C:\\Users\\MStopa\\AppData\\Local\\Continuum\\anaconda3\\envs\\webscrape\\lib\\site-packages\\scrapy\\utils\\defer.py\", line 120, in iter_errback\n",
      "    yield next(it)\n",
      "  File \"C:\\Users\\MStopa\\AppData\\Local\\Continuum\\anaconda3\\envs\\webscrape\\lib\\site-packages\\scrapy\\utils\\python.py\", line 346, in __next__\n",
      "    return next(self.data)\n",
      "  File \"C:\\Users\\MStopa\\AppData\\Local\\Continuum\\anaconda3\\envs\\webscrape\\lib\\site-packages\\scrapy\\utils\\python.py\", line 346, in __next__\n",
      "    return next(self.data)\n",
      "  File \"C:\\Users\\MStopa\\AppData\\Local\\Continuum\\anaconda3\\envs\\webscrape\\lib\\site-packages\\scrapy\\core\\spidermw.py\", line 64, in _evaluate_iterable\n",
      "    for r in iterable:\n",
      "  File \"C:\\Users\\MStopa\\AppData\\Local\\Continuum\\anaconda3\\envs\\webscrape\\lib\\site-packages\\scrapy\\spidermiddlewares\\offsite.py\", line 29, in process_spider_output\n",
      "    for x in result:\n",
      "  File \"C:\\Users\\MStopa\\AppData\\Local\\Continuum\\anaconda3\\envs\\webscrape\\lib\\site-packages\\scrapy\\core\\spidermw.py\", line 64, in _evaluate_iterable\n",
      "    for r in iterable:\n",
      "  File \"C:\\Users\\MStopa\\AppData\\Local\\Continuum\\anaconda3\\envs\\webscrape\\lib\\site-packages\\scrapy\\spidermiddlewares\\referer.py\", line 340, in <genexpr>\n",
      "    return (_set_referer(r) for r in result or ())\n",
      "  File \"C:\\Users\\MStopa\\AppData\\Local\\Continuum\\anaconda3\\envs\\webscrape\\lib\\site-packages\\scrapy\\core\\spidermw.py\", line 64, in _evaluate_iterable\n",
      "    for r in iterable:\n",
      "  File \"C:\\Users\\MStopa\\AppData\\Local\\Continuum\\anaconda3\\envs\\webscrape\\lib\\site-packages\\scrapy\\spidermiddlewares\\urllength.py\", line 37, in <genexpr>\n",
      "    return (r for r in result or () if _filter(r))\n",
      "  File \"C:\\Users\\MStopa\\AppData\\Local\\Continuum\\anaconda3\\envs\\webscrape\\lib\\site-packages\\scrapy\\core\\spidermw.py\", line 64, in _evaluate_iterable\n",
      "    for r in iterable:\n",
      "  File \"C:\\Users\\MStopa\\AppData\\Local\\Continuum\\anaconda3\\envs\\webscrape\\lib\\site-packages\\scrapy\\spidermiddlewares\\depth.py\", line 58, in <genexpr>\n",
      "    return (r for r in result or () if _filter(r))\n",
      "  File \"C:\\Users\\MStopa\\AppData\\Local\\Continuum\\anaconda3\\envs\\webscrape\\lib\\site-packages\\scrapy\\core\\spidermw.py\", line 64, in _evaluate_iterable\n",
      "    for r in iterable:\n",
      "  File \"<ipython-input-9-10a30e00531c>\", line 132, in parse\n",
      "    file1.write(out2 + '\\n')\n",
      "  File \"C:\\Users\\MStopa\\AppData\\Local\\Continuum\\anaconda3\\envs\\webscrape\\lib\\encodings\\cp1252.py\", line 19, in encode\n",
      "    return codecs.charmap_encode(input,self.errors,encoding_table)[0]\n",
      "UnicodeEncodeError: 'charmap' codec can't encode character '\\U0001f499' in position 3874: character maps to <undefined>\n"
     ]
    },
    {
     "name": "stdout",
     "output_type": "stream",
     "text": [
      "site_url https://wrapmate.com/ site_url_close ['https://wrapmate.com/', 'https://www.rapidmade.com/', 'https://whmap.com/']\n",
      "site_url_close[0] https://wrapmate.com/\n",
      "ii 58 self.companies[ii] Wrapmate\n",
      "out1 true iout1 39 url https://wrapmate.com/\n"
     ]
    },
    {
     "name": "stderr",
     "output_type": "stream",
     "text": [
      "2021-11-30 16:35:52 [scrapy.downloadermiddlewares.redirect] DEBUG: Redirecting (301) to <GET https://xactmetal.com/> from <GET http://www.xactmetal.com>\n",
      "2021-11-30 16:35:52 [scrapy.core.engine] DEBUG: Crawled (200) <GET https://printreach.com/> (referer: None)\n"
     ]
    },
    {
     "name": "stdout",
     "output_type": "stream",
     "text": [
      "site_url https://shop.sparkedinnovations.com/ site_url_close ['https://sparkedinnovations.com', 'https://www.seminarinnovations.com/', 'https://www.mgainnovation.com']\n",
      "site_url_close[0] https://sparkedinnovations.com\n",
      "ii 45 self.companies[ii] Sparked Innovations\n",
      "out1 true iout1 40 url https://shop.sparkedinnovations.com/\n",
      "companies[0] Arfona this url https://shop.sparkedinnovations.com/\n"
     ]
    },
    {
     "name": "stderr",
     "output_type": "stream",
     "text": [
      "2021-11-30 16:35:52 [scrapy.core.engine] DEBUG: Crawled (200) <GET https://app.optamarkgraphics.com/> (referer: None)\n",
      "2021-11-30 16:35:52 [scrapy.core.engine] DEBUG: Crawled (200) <GET https://packwire.com> (referer: None)\n"
     ]
    },
    {
     "name": "stdout",
     "output_type": "stream",
     "text": [
      "site_url https://printreach.com/ site_url_close ['https://printreach.com/', 'http://sprintray.com/', 'https://printresource.com/']\n",
      "site_url_close[0] https://printreach.com/\n",
      "ii 60 self.companies[ii] Print Reach\n",
      "out1 true iout1 41 url https://printreach.com/\n",
      "companies[0] Sparked Innovations this url https://printreach.com/\n"
     ]
    },
    {
     "name": "stderr",
     "output_type": "stream",
     "text": [
      "2021-11-30 16:35:53 [scrapy.core.engine] DEBUG: Crawled (200) <GET https://www.cjkgroup.com/> (referer: None)\n",
      "2021-11-30 16:35:53 [scrapy.downloadermiddlewares.retry] DEBUG: Retrying <GET https://ulela.cyou> (failed 1 times): TCP connection timed out: 10060: A connection attempt failed because the connected party did not properly respond after a period of time, or established connection failed because connected host has failed to respond..\n"
     ]
    },
    {
     "name": "stdout",
     "output_type": "stream",
     "text": [
      "site_url https://app.optamarkgraphics.com/ site_url_close ['http://www.optamarkgraphics.com', 'https://tm-graphics.com/', 'https://atigraphics.com/']\n",
      "site_url_close[0] http://www.optamarkgraphics.com\n",
      "ii 3734 self.companies[ii] Optamark\n",
      "out1 false iout2 6 url https://app.optamarkgraphics.com/\n",
      "companies[0] Creative 3D Technologies Inc. this url https://app.optamarkgraphics.com/\n",
      "site_url https://packwire.com site_url_close ['https://packwire.com', 'https://pakible.com', 'https://packlane.com']\n",
      "site_url_close[0] https://packwire.com\n",
      "ii 62 self.companies[ii] Packwire\n",
      "out1 true iout1 42 url https://packwire.com\n",
      "companies[0] Lovetoons this url https://packwire.com\n"
     ]
    },
    {
     "name": "stderr",
     "output_type": "stream",
     "text": [
      "2021-11-30 16:35:54 [scrapy.core.engine] DEBUG: Crawled (200) <GET https://www.azul3d.com/> (referer: None)\n"
     ]
    },
    {
     "name": "stdout",
     "output_type": "stream",
     "text": [
      "site_url https://www.cjkgroup.com/ site_url_close ['http://www.cjkgroup.com/', 'https://www.fitchgroup.com/', 'https://www.caskeygroup.com']\n",
      "site_url_close[0] http://www.cjkgroup.com/\n",
      "ii 59 self.companies[ii] CJK Group\n",
      "out1 true iout1 43 url https://www.cjkgroup.com/\n",
      "companies[0] MILLEBOT INC. this url https://www.cjkgroup.com/\n"
     ]
    },
    {
     "name": "stderr",
     "output_type": "stream",
     "text": [
      "2021-11-30 16:35:54 [scrapy.downloadermiddlewares.retry] ERROR: Gave up retrying <GET https://love-toons.com> (failed 3 times): [<twisted.python.failure.Failure OpenSSL.SSL.Error: [('SSL routines', 'ssl3_get_record', 'wrong version number')]>]\n"
     ]
    },
    {
     "name": "stdout",
     "output_type": "stream",
     "text": [
      "site_url https://www.azul3d.com/ site_url_close ['https://www.azul3d.com/', 'https://www.laz3d.com', 'https://www.nwa3d.com/']\n",
      "site_url_close[0] https://www.azul3d.com/\n",
      "ii 8 self.companies[ii] Azul 3D\n",
      "out1 true iout1 44 url https://www.azul3d.com/\n",
      "companies[0] SoftForm Lighting this url https://www.azul3d.com/\n"
     ]
    },
    {
     "name": "stderr",
     "output_type": "stream",
     "text": [
      "2021-11-30 16:35:54 [scrapy.core.scraper] ERROR: Error downloading <GET https://love-toons.com>\n",
      "Traceback (most recent call last):\n",
      "  File \"C:\\Users\\MStopa\\AppData\\Local\\Continuum\\anaconda3\\envs\\webscrape\\lib\\site-packages\\scrapy\\core\\downloader\\middleware.py\", line 44, in process_request\n",
      "    return (yield download_func(request=request, spider=spider))\n",
      "twisted.web._newclient.ResponseNeverReceived: [<twisted.python.failure.Failure OpenSSL.SSL.Error: [('SSL routines', 'ssl3_get_record', 'wrong version number')]>]\n",
      "2021-11-30 16:35:57 [scrapy.downloadermiddlewares.redirect] DEBUG: Redirecting (301) to <GET https://leafshave.com/> from <GET http://www.leafshave.com>\n",
      "2021-11-30 16:35:57 [scrapy.core.engine] DEBUG: Crawled (200) <GET https://creative3dtechnologies.com/> (referer: None)\n"
     ]
    },
    {
     "name": "stdout",
     "output_type": "stream",
     "text": [
      "site_url https://creative3dtechnologies.com/ site_url_close ['http://www.creative3dtechnologies.com', 'https://www.suncrafttechnologies.com/', 'http://www.cdjtechnologies.com/']\n",
      "site_url_close[0] http://www.creative3dtechnologies.com\n",
      "ii 46 self.companies[ii] Creative 3D Technologies Inc.\n",
      "out1 true iout1 45 url https://creative3dtechnologies.com/\n",
      "companies[0] Make this url https://creative3dtechnologies.com/\n"
     ]
    },
    {
     "name": "stderr",
     "output_type": "stream",
     "text": [
      "2021-11-30 16:36:08 [scrapy.downloadermiddlewares.retry] DEBUG: Retrying <GET http://www.gopapr.com> (failed 2 times): DNS lookup failed: no results for hostname lookup: www.gopapr.com.\n",
      "2021-11-30 16:36:08 [scrapy.downloadermiddlewares.redirect] DEBUG: Redirecting (301) to <GET https://nobelus.com/> from <GET http://nobelus.com>\n",
      "2021-11-30 16:36:08 [scrapy.core.engine] DEBUG: Crawled (200) <GET http://www.redworks3d.com> (referer: None)\n"
     ]
    },
    {
     "name": "stdout",
     "output_type": "stream",
     "text": [
      "site_url http://www.redworks3d.com site_url_close ['http://www.redworks3d.com', 'http://www.northworks3d.com', 'http://www.dotworks.com']\n",
      "site_url_close[0] http://www.redworks3d.com\n",
      "ii 66 self.companies[ii] RedWorks Construction Technologies Inc.\n",
      "out1 false iout2 7 url http://www.redworks3d.com\n",
      "companies[0] AnythingWithInk this url http://www.redworks3d.com\n"
     ]
    },
    {
     "name": "stderr",
     "output_type": "stream",
     "text": [
      "2021-11-30 16:36:09 [scrapy.downloadermiddlewares.redirect] DEBUG: Redirecting (301) to <GET https://directmail2.com/> from <GET http://directmail2.com/>\n",
      "2021-11-30 16:36:09 [scrapy.downloadermiddlewares.redirect] DEBUG: Redirecting (301) to <GET https://ambots.net:443/> from <GET http://ambots.net>\n",
      "2021-11-30 16:36:09 [scrapy.core.engine] DEBUG: Crawled (200) <GET https://nobelus.com/> (referer: None)\n",
      "2021-11-30 16:36:09 [scrapy.downloadermiddlewares.redirect] DEBUG: Redirecting (301) to <GET https://www.printerdao.com/> from <GET http://www.printerdao.com>\n",
      "2021-11-30 16:36:09 [scrapy.core.engine] DEBUG: Crawled (200) <GET https://socialindoor.com/> (referer: None)\n",
      "2021-11-30 16:36:09 [scrapy.core.engine] DEBUG: Crawled (200) <GET https://goproto.com/> (referer: None)\n",
      "2021-11-30 16:36:10 [scrapy.downloadermiddlewares.redirect] DEBUG: Redirecting (301) to <GET https://www.sheridan.com/> from <GET http://www.sheridan.com/>\n"
     ]
    },
    {
     "name": "stdout",
     "output_type": "stream",
     "text": [
      "site_url https://nobelus.com/ site_url_close ['http://nobelus.com', 'https://noobean.com/', 'https://instocklabels.com/']\n",
      "site_url_close[0] http://nobelus.com\n",
      "ii 65 self.companies[ii] Nobelus\n",
      "out1 true iout1 46 url https://nobelus.com/\n",
      "companies[0] ePac Flexible Packaging this url https://nobelus.com/\n"
     ]
    },
    {
     "name": "stderr",
     "output_type": "stream",
     "text": [
      "2021-11-30 16:36:10 [scrapy.core.engine] DEBUG: Crawled (200) <GET https://xactmetal.com/> (referer: None)\n",
      "2021-11-30 16:36:10 [scrapy.core.engine] DEBUG: Crawled (200) <GET https://leafshave.com/> (referer: None)\n",
      "2021-11-30 16:36:10 [scrapy.core.engine] DEBUG: Crawled (200) <GET https://web.aop.plus> (referer: None)\n",
      "2021-11-30 16:36:10 [scrapy.downloadermiddlewares.retry] DEBUG: Retrying <GET https://customprintbox.com/> (failed 2 times): TCP connection timed out: 10060: A connection attempt failed because the connected party did not properly respond after a period of time, or established connection failed because connected host has failed to respond..\n"
     ]
    },
    {
     "name": "stdout",
     "output_type": "stream",
     "text": [
      "site_url https://socialindoor.com/ site_url_close ['https://socialindoor.com/', 'http://socialprintstudio.com', 'http://sociable-now.com']\n",
      "site_url_close[0] https://socialindoor.com/\n",
      "ii 67 self.companies[ii] Social Indoor\n",
      "out1 true iout1 47 url https://socialindoor.com/\n",
      "companies[0] FluidForm this url https://socialindoor.com/\n"
     ]
    },
    {
     "name": "stderr",
     "output_type": "stream",
     "text": [
      "2021-11-30 16:36:10 [scrapy.core.engine] DEBUG: Crawled (200) <GET https://directmail2.com/> (referer: None)\n",
      "2021-11-30 16:36:10 [scrapy.core.engine] DEBUG: Crawled (200) <GET https://www.printerdao.com/> (referer: None)\n",
      "2021-11-30 16:36:10 [scrapy.core.engine] DEBUG: Crawled (200) <GET https://ambots.net:443/> (referer: None)\n"
     ]
    },
    {
     "name": "stdout",
     "output_type": "stream",
     "text": [
      "site_url https://goproto.com/ site_url_close ['https://goproto.com/', 'https://egpromo.com', 'https://robo3d.com/']\n",
      "site_url_close[0] https://goproto.com/\n",
      "ii 69 self.companies[ii] GoProto\n",
      "out1 true iout1 48 url https://goproto.com/\n",
      "companies[0] Slice Engineering this url https://goproto.com/\n"
     ]
    },
    {
     "name": "stderr",
     "output_type": "stream",
     "text": [
      "2021-11-30 16:36:11 [scrapy.core.scraper] DEBUG: Scraped from <200 https://xactmetal.com/>\r\n",
      "{'Organization': 'Xact Metal, Inc.',\n",
      " 'fulltext': 'At Xact Metal™, we’re taking the essential specs that direct laser, powder bed fusion systems require and combining them with breakthrough technology to establish a new level of price and performance for additive manufacturing. We’re dedicated to supporting the next generation of innovative manufacturing solutions powered by metal 3D printing.',\n",
      " 'searchterm': 'additive manufacturing',\n",
      " 'url': 'https://xactmetal.com/'}\n"
     ]
    },
    {
     "name": "stdout",
     "output_type": "stream",
     "text": [
      "site_url https://xactmetal.com/ site_url_close ['http://www.xactmetal.com', 'https://x-central.com/', 'https://arternal.com/']\n",
      "site_url_close[0] http://www.xactmetal.com\n",
      "ii 61 self.companies[ii] Xact Metal, Inc.\n",
      "yielding item additive manufacturing\n",
      "site_url https://leafshave.com/ site_url_close ['http://www.leafshave.com', 'https://eleven19.com/', 'https://ylfresh.com']\n",
      "site_url_close[0] http://www.leafshave.com\n",
      "ii 64 self.companies[ii] Leaf Shave Co.\n",
      "out1 true iout1 49 url https://leafshave.com/\n",
      "companies[0] Accelerate3D this url https://leafshave.com/\n",
      "site_url https://web.aop.plus site_url_close ['https://aop.plus', 'http://bpsg.us/', 'https://www.art-worx.us/']\n",
      "site_url_close[0] https://aop.plus\n",
      "ii 57 self.companies[ii] AOP+\n",
      "out1 true iout1 50 url https://web.aop.plus\n",
      "companies[0] Pāpr this url https://web.aop.plus\n",
      "out1 true iout1 51 url https://xactmetal.com/\n",
      "companies[0] AOP+ this url https://xactmetal.com/\n",
      "site_url https://directmail2.com/ site_url_close ['http://directmail2.com/', 'https://pmcdirectmail.com/', 'https://directmailers.com']\n",
      "site_url_close[0] http://directmail2.com/\n",
      "ii 70 self.companies[ii] DirectMail2.0\n",
      "out1 false iout2 8 url https://directmail2.com/\n",
      "companies[0] Wrapmate this url https://directmail2.com/\n",
      "site_url https://www.printerdao.com/ site_url_close ['http://www.printerdao.com', 'http://www.printegra.com/', 'https://www.printergy.com/']\n",
      "site_url_close[0] http://www.printerdao.com\n",
      "ii 71 self.companies[ii] PrinterDAO\n",
      "out1 true iout1 52 url https://www.printerdao.com/\n",
      "companies[0] CJK Group this url https://www.printerdao.com/\n"
     ]
    },
    {
     "name": "stderr",
     "output_type": "stream",
     "text": [
      "2021-11-30 16:36:13 [scrapy.core.engine] DEBUG: Crawled (200) <GET https://www.sheridan.com/> (referer: None)\n",
      "2021-11-30 16:36:13 [scrapy.core.engine] DEBUG: Crawled (200) <GET https://printparts.com> (referer: None)\n"
     ]
    },
    {
     "name": "stdout",
     "output_type": "stream",
     "text": [
      "site_url https://ambots.net:443/ site_url_close ['http://ambots.net', 'https://campromotions.net/', 'https://nano-ops.net/']\n",
      "site_url_close[0] http://ambots.net\n",
      "ii 72 self.companies[ii] AMBOTS Inc.\n",
      "out1 true iout1 53 url https://ambots.net:443/\n",
      "companies[0] Print Reach this url https://ambots.net:443/\n",
      "site_url https://www.sheridan.com/ site_url_close ['http://www.sheridan.com/', 'https://www.hederman.com/', 'https://www.psprint.com/']\n",
      "site_url_close[0] http://www.sheridan.com/\n",
      "ii 73 self.companies[ii] The Sheridan Group\n",
      "out1 true iout1 54 url https://www.sheridan.com/\n",
      "companies[0] Xact Metal, Inc. this url https://www.sheridan.com/\n",
      "site_url https://printparts.com site_url_close ['https://printparts.com', 'https://printarts.com/', 'https://printerstop.com']\n",
      "site_url_close[0] https://printparts.com\n",
      "ii 68 self.companies[ii] Print Parts Inc.\n",
      "out1 true iout1 55 url https://printparts.com\n",
      "companies[0] Packwire this url https://printparts.com\n"
     ]
    },
    {
     "name": "stderr",
     "output_type": "stream",
     "text": [
      "2021-11-30 16:36:14 [scrapy.downloadermiddlewares.retry] DEBUG: Retrying <GET https://ulela.cyou> (failed 2 times): TCP connection timed out: 10060: A connection attempt failed because the connected party did not properly respond after a period of time, or established connection failed because connected host has failed to respond..\n",
      "2021-11-30 16:36:16 [scrapy.extensions.logstats] INFO: Crawled 69 pages (at 69 pages/min), scraped 7 items (at 7 items/min)\n",
      "2021-11-30 16:36:17 [scrapy.downloadermiddlewares.retry] DEBUG: Retrying <GET https://voyagerspacetech.com> (failed 1 times): TCP connection timed out: 10060: A connection attempt failed because the connected party did not properly respond after a period of time, or established connection failed because connected host has failed to respond..\n",
      "2021-11-30 16:36:19 [scrapy.core.engine] DEBUG: Crawled (200) <GET https://ambots.net:443/technology> (referer: https://ambots.net/)\n",
      "2021-11-30 16:36:19 [scrapy.core.scraper] DEBUG: Scraped from <200 https://ambots.net:443/technology>\n",
      "{'Organization': 'AMBOTS Inc.',\n",
      " 'fulltext': 'AMBOTS Inc. is commercializing the patent-pending swarm 3D printing and assembly technologies. This technology aims to automate manufacturing with a swarm of smart and autonomous mobile robots, from everyday products to houses and infrastructures. Just like how a swarm of bees or wasps would work together to build their nests, the swarm of smart mobile robots can work together to print and assemble products based on digital models on demand. AMBOTS stands for Autonomous Mobile ROBOTS and Advanced Manufacturing ROBOTS.',\n",
      " 'searchterm': 'digital manufacturing',\n",
      " 'url': 'https://ambots.net:443/technology'}\n",
      "2021-11-30 16:36:19 [scrapy.core.engine] DEBUG: Crawled (200) <GET https://voyagerspacetech.com> (referer: None)\n",
      "2021-11-30 16:36:19 [scrapy.core.scraper] DEBUG: Scraped from <200 https://ambots.net:443/technology>\n",
      "{'Organization': 'AMBOTS Inc.',\n",
      " 'fulltext': 'AMBOTS Inc. is commercializing the patent-pending swarm 3D printing and assembly technologies. This technology aims to automate manufacturing with a swarm of smart and autonomous mobile robots, from everyday products to houses and infrastructures. Just like how a swarm of bees or wasps would work together to build their nests, the swarm of smart mobile robots can work together to print and assemble products based on digital models on demand. AMBOTS stands for Autonomous Mobile ROBOTS and Advanced Manufacturing ROBOTS.',\n",
      " 'searchterm': 'inkjet',\n",
      " 'url': 'https://ambots.net:443/technology'}\n"
     ]
    },
    {
     "name": "stdout",
     "output_type": "stream",
     "text": [
      "site_url https://ambots.net:443/technology site_url_close ['http://ambots.net', 'https://nextepisodetechnology.com', 'https://www.monstertechnology.net/']\n",
      "site_url_close[0] http://ambots.net\n",
      "ii 72 self.companies[ii] AMBOTS Inc.\n",
      "yielding item digital manufacturing\n",
      "yielding item inkjet\n",
      "out1 true iout1 56 url https://ambots.net:443/technology\n",
      "companies[0] Voyager Space Technologies this url https://ambots.net:443/technology\n",
      "site_url https://voyagerspacetech.com site_url_close ['https://voyagerspacetech.com', 'https://onesourcetec.com', 'https://wp.valerian-tech.com']\n",
      "site_url_close[0] https://voyagerspacetech.com\n",
      "ii 63 self.companies[ii] Voyager Space Technologies\n",
      "out1 true iout1 57 url https://voyagerspacetech.com\n",
      "companies[0] Leaf Shave Co. this url https://voyagerspacetech.com\n"
     ]
    },
    {
     "name": "stderr",
     "output_type": "stream",
     "text": [
      "2021-11-30 16:36:20 [scrapy.downloadermiddlewares.retry] ERROR: Gave up retrying <GET http://www.gopapr.com> (failed 3 times): DNS lookup failed: no results for hostname lookup: www.gopapr.com.\n",
      "2021-11-30 16:36:20 [scrapy.core.scraper] ERROR: Error downloading <GET http://www.gopapr.com>\n",
      "Traceback (most recent call last):\n",
      "  File \"C:\\Users\\MStopa\\AppData\\Local\\Continuum\\anaconda3\\envs\\webscrape\\lib\\site-packages\\twisted\\internet\\defer.py\", line 1416, in _inlineCallbacks\n",
      "    result = result.throwExceptionIntoGenerator(g)\n",
      "  File \"C:\\Users\\MStopa\\AppData\\Local\\Continuum\\anaconda3\\envs\\webscrape\\lib\\site-packages\\twisted\\python\\failure.py\", line 512, in throwExceptionIntoGenerator\n",
      "    return g.throw(self.type, self.value, self.tb)\n",
      "  File \"C:\\Users\\MStopa\\AppData\\Local\\Continuum\\anaconda3\\envs\\webscrape\\lib\\site-packages\\scrapy\\core\\downloader\\middleware.py\", line 44, in process_request\n",
      "    return (yield download_func(request=request, spider=spider))\n",
      "  File \"C:\\Users\\MStopa\\AppData\\Local\\Continuum\\anaconda3\\envs\\webscrape\\lib\\site-packages\\twisted\\internet\\defer.py\", line 654, in _runCallbacks\n",
      "    current.result = callback(current.result, *args, **kw)\n",
      "  File \"C:\\Users\\MStopa\\AppData\\Local\\Continuum\\anaconda3\\envs\\webscrape\\lib\\site-packages\\twisted\\internet\\endpoints.py\", line 982, in startConnectionAttempts\n",
      "    \"no results for hostname lookup: {}\".format(self._hostStr)\n",
      "twisted.internet.error.DNSLookupError: DNS lookup failed: no results for hostname lookup: www.gopapr.com.\n",
      "2021-11-30 16:36:20 [scrapy.downloadermiddlewares.redirect] DEBUG: Redirecting (301) to <GET https://www.rapidliquidprint.co/> from <GET http://rapidliquidprint.co>\n",
      "2021-11-30 16:36:21 [scrapy.core.engine] DEBUG: Crawled (200) <GET https://www.obsidianam.net/> (referer: None)\n",
      "2021-11-30 16:36:21 [scrapy.core.engine] DEBUG: Crawled (200) <GET https://www.intellicor.com/> (referer: None)\n"
     ]
    },
    {
     "name": "stdout",
     "output_type": "stream",
     "text": [
      "site_url https://www.obsidianam.net/ site_url_close ['https://www.obsidianam.net/', 'https://www.vividink.net', 'http://www.bcdesign.net/']\n",
      "site_url_close[0] https://www.obsidianam.net/\n",
      "ii 74 self.companies[ii] Obsidian\n",
      "out1 true iout1 58 url https://www.obsidianam.net/\n",
      "companies[0] Nobelus this url https://www.obsidianam.net/\n"
     ]
    },
    {
     "name": "stderr",
     "output_type": "stream",
     "text": [
      "2021-11-30 16:36:21 [scrapy.core.engine] DEBUG: Crawled (200) <GET https://steinmancommunications.com/> (referer: None)\n"
     ]
    },
    {
     "name": "stdout",
     "output_type": "stream",
     "text": [
      "site_url https://www.intellicor.com/ site_url_close ['https://www.intellicor.com/', 'http://www.intelicoat.com', 'https://www.printwell.com/']\n",
      "site_url_close[0] https://www.intellicor.com/\n",
      "ii 76 self.companies[ii] Intellicor Communications\n",
      "out1 true iout1 59 url https://www.intellicor.com/\n",
      "companies[0] RedWorks Construction Technologies Inc. this url https://www.intellicor.com/\n"
     ]
    },
    {
     "name": "stderr",
     "output_type": "stream",
     "text": [
      "2021-11-30 16:36:22 [scrapy.core.engine] DEBUG: Crawled (200) <GET https://www.maava.co> (referer: None)\n"
     ]
    },
    {
     "name": "stdout",
     "output_type": "stream",
     "text": [
      "site_url https://steinmancommunications.com/ site_url_close ['https://steinmancommunications.com/', 'https://brehmcommunications.com/', 'https://onthemarkcommunications.com']\n",
      "site_url_close[0] https://steinmancommunications.com/\n",
      "ii 77 self.companies[ii] Steinman Communications\n",
      "out1 true iout1 60 url https://steinmancommunications.com/\n",
      "companies[0] Social Indoor this url https://steinmancommunications.com/\n"
     ]
    },
    {
     "name": "stderr",
     "output_type": "stream",
     "text": [
      "2021-11-30 16:36:22 [scrapy.core.engine] DEBUG: Crawled (200) <GET https://www.tetonsim.com> (referer: None)\n",
      "2021-11-30 16:36:22 [scrapy.downloadermiddlewares.redirect] DEBUG: Redirecting (301) to <GET https://mengervalve.com/> from <GET http://mengervalve.com/>\n",
      "2021-11-30 16:36:22 [scrapy.core.engine] DEBUG: Crawled (200) <GET https://noobean.com/> (referer: None)\n"
     ]
    },
    {
     "name": "stdout",
     "output_type": "stream",
     "text": [
      "site_url https://www.maava.co site_url_close ['https://www.maava.co', 'https://www.makr.co', 'https://www.magna4.com/']\n",
      "site_url_close[0] https://www.maava.co\n",
      "ii 78 self.companies[ii] MAA'VA\n",
      "out1 true iout1 61 url https://www.maava.co\n",
      "companies[0] Print Parts Inc. this url https://www.maava.co\n"
     ]
    },
    {
     "name": "stderr",
     "output_type": "stream",
     "text": [
      "2021-11-30 16:36:23 [scrapy.core.engine] DEBUG: Crawled (200) <GET https://3dprintz.co.uk/> (referer: None)\n",
      "2021-11-30 16:36:23 [scrapy.downloadermiddlewares.redirect] DEBUG: Redirecting (301) to <GET http://artepit.com/> from <GET https://artepit.com>\n",
      "2021-11-30 16:36:23 [scrapy.core.engine] DEBUG: Crawled (200) <GET https://printsoflove.com/> (referer: None)\n"
     ]
    },
    {
     "name": "stdout",
     "output_type": "stream",
     "text": [
      "site_url https://www.tetonsim.com site_url_close ['https://www.tetonsim.com', 'https://www.tdtnews.com', 'https://www.tapecon.com']\n",
      "site_url_close[0] https://www.tetonsim.com\n",
      "ii 84 self.companies[ii] Teton Simulation\n",
      "out1 true iout1 62 url https://www.tetonsim.com\n",
      "companies[0] GoProto this url https://www.tetonsim.com\n"
     ]
    },
    {
     "name": "stderr",
     "output_type": "stream",
     "text": [
      "2021-11-30 16:36:23 [scrapy.core.engine] DEBUG: Crawled (200) <GET https://www.rapidliquidprint.co/> (referer: None)\n",
      "2021-11-30 16:36:23 [scrapy.downloadermiddlewares.redirect] DEBUG: Redirecting (301) to <GET https://www.thecosmeticboxes.com/> from <GET http://www.thecosmeticboxes.com/>\n",
      "2021-11-30 16:36:23 [scrapy.core.engine] DEBUG: Crawled (200) <GET https://mypingtag.com> (referer: None)\n"
     ]
    },
    {
     "name": "stdout",
     "output_type": "stream",
     "text": [
      "site_url https://noobean.com/ site_url_close ['https://noobean.com/', 'http://moolean.com/', 'https://diocesan.com/']\n",
      "site_url_close[0] https://noobean.com/\n",
      "ii 79 self.companies[ii] noobean\n",
      "out1 true iout1 63 url https://noobean.com/\n",
      "companies[0] DirectMail2.0 this url https://noobean.com/\n",
      "site_url https://3dprintz.co.uk/ site_url_close ['https://3dprintz.co.uk/', 'http://3dprint.com/', 'https://4dprint.com/']\n",
      "site_url_close[0] https://3dprintz.co.uk/\n",
      "ii 88 self.companies[ii] 3D Printz\n",
      "out1 true iout1 64 url https://3dprintz.co.uk/\n",
      "companies[0] PrinterDAO this url https://3dprintz.co.uk/\n"
     ]
    },
    {
     "name": "stderr",
     "output_type": "stream",
     "text": [
      "2021-11-30 16:36:24 [scrapy.core.engine] DEBUG: Crawled (200) <GET https://www.quantumaigroupeofcompanies.com/> (referer: None)\n",
      "2021-11-30 16:36:24 [scrapy.downloadermiddlewares.redirect] DEBUG: Redirecting (301) to <GET https://www.templi.com/> from <GET http://www.templi.com>\n",
      "2021-11-30 16:36:24 [scrapy.downloadermiddlewares.redirect] DEBUG: Redirecting (301) to <GET https://www.beam-machines.com/> from <GET http://www.beam-machines.com/>\n",
      "2021-11-30 16:36:24 [scrapy.downloadermiddlewares.redirect] DEBUG: Redirecting (301) to <GET https://rapidaxis.com/> from <GET https://www.rapidaxis.com>\n"
     ]
    },
    {
     "name": "stdout",
     "output_type": "stream",
     "text": [
      "site_url https://printsoflove.com/ site_url_close ['https://printsoflove.com/', 'http://printsf.com/', 'https://printresource.com/']\n",
      "site_url_close[0] https://printsoflove.com/\n",
      "ii 80 self.companies[ii] Prints of Love\n",
      "out1 true iout1 65 url https://printsoflove.com/\n",
      "companies[0] AMBOTS Inc. this url https://printsoflove.com/\n",
      "site_url https://www.rapidliquidprint.co/ site_url_close ['http://rapidliquidprint.co', 'https://www.rldprint.com/', 'http://www.liquidprinter.com']\n",
      "site_url_close[0] http://rapidliquidprint.co\n",
      "ii 75 self.companies[ii] Rapid Liquid Print\n",
      "out1 false iout2 9 url https://www.rapidliquidprint.co/\n",
      "companies[0] The Sheridan Group this url https://www.rapidliquidprint.co/\n"
     ]
    },
    {
     "name": "stderr",
     "output_type": "stream",
     "text": [
      "2021-11-30 16:36:25 [scrapy.core.engine] DEBUG: Crawled (200) <GET https://www.microndental.com> (referer: None)\n",
      "2021-11-30 16:36:25 [scrapy.core.engine] DEBUG: Crawled (200) <GET https://nano-ops.net/> (referer: None)\n",
      "2021-11-30 16:36:25 [scrapy.core.engine] DEBUG: Crawled (200) <GET https://www.closedloopplastics.com/> (referer: None)\n"
     ]
    },
    {
     "name": "stdout",
     "output_type": "stream",
     "text": [
      "site_url https://mypingtag.com site_url_close ['https://mypingtag.com', 'http://mrprint.com', 'https://printbangor.com/']\n",
      "site_url_close[0] https://mypingtag.com\n",
      "ii 86 self.companies[ii] PingTag\n",
      "out1 false iout2 10 url https://mypingtag.com\n",
      "companies[0] Obsidian this url https://mypingtag.com\n",
      "site_url https://www.quantumaigroupeofcompanies.com/ site_url_close ['https://www.quantumaigroupeofcompanies.com/', 'https://www.quantumgroup.com/', 'https://www.quantumco.com/']\n",
      "site_url_close[0] https://www.quantumaigroupeofcompanies.com/\n",
      "ii 89 self.companies[ii] Quantum_AI Group Of Companies\n",
      "out1 true iout1 66 url https://www.quantumaigroupeofcompanies.com/\n",
      "companies[0] Rapid Liquid Print this url https://www.quantumaigroupeofcompanies.com/\n",
      "site_url https://www.microndental.com site_url_close ['https://www.microndental.com', 'http://www.micropen.com', 'https://www.vispronet.com']\n",
      "site_url_close[0] https://www.microndental.com\n",
      "ii 87 self.companies[ii] Micron Inc\n",
      "out1 true iout1 67 url https://www.microndental.com\n",
      "companies[0] Intellicor Communications this url https://www.microndental.com\n",
      "site_url https://nano-ops.net/ site_url_close ['https://nano-ops.net/', 'https://psi2go.net/', 'http://ambots.net']\n",
      "site_url_close[0] https://nano-ops.net/\n",
      "ii 91 self.companies[ii] Nano OPS\n",
      "out1 true iout1 68 url https://nano-ops.net/\n",
      "companies[0] Steinman Communications this url https://nano-ops.net/\n"
     ]
    },
    {
     "name": "stderr",
     "output_type": "stream",
     "text": [
      "2021-11-30 16:36:27 [scrapy.downloadermiddlewares.redirect] DEBUG: Redirecting (301) to <GET https://mforia.com/> from <GET https://www.mforia.com/>\n",
      "2021-11-30 16:36:27 [scrapy.core.engine] DEBUG: Crawled (200) <GET http://artepit.com/> (referer: None)\n",
      "2021-11-30 16:36:27 [scrapy.core.engine] DEBUG: Crawled (200) <GET https://www.thecosmeticboxes.com/> (referer: None)\n"
     ]
    },
    {
     "name": "stdout",
     "output_type": "stream",
     "text": [
      "site_url https://www.closedloopplastics.com/ site_url_close ['https://www.closedloopplastics.com/', 'https://www.rosotics.com/', 'https://www.commandplastic.com']\n",
      "site_url_close[0] https://www.closedloopplastics.com/\n",
      "ii 90 self.companies[ii] Closed Loop Plastics\n",
      "out1 true iout1 69 url https://www.closedloopplastics.com/\n",
      "companies[0] MAA'VA this url https://www.closedloopplastics.com/\n"
     ]
    },
    {
     "name": "stderr",
     "output_type": "stream",
     "text": [
      "2021-11-30 16:36:27 [scrapy.core.engine] DEBUG: Crawled (200) <GET http://www.digitalevolution.com/> (referer: None)\n",
      "2021-11-30 16:36:27 [scrapy.core.engine] DEBUG: Crawled (200) <GET https://www.teraengineering.com> (referer: None)\n"
     ]
    },
    {
     "name": "stdout",
     "output_type": "stream",
     "text": [
      "site_url http://artepit.com/ site_url_close ['https://artepit.com', 'http://amrep.com', 'https://santeeprint.com/']\n",
      "site_url_close[0] https://artepit.com\n",
      "ii 83 self.companies[ii] Artepit.com\n",
      "out1 true iout1 70 url http://artepit.com/\n",
      "companies[0] noobean this url http://artepit.com/\n"
     ]
    },
    {
     "name": "stderr",
     "output_type": "stream",
     "text": [
      "2021-11-30 16:36:27 [scrapy.core.engine] DEBUG: Crawled (200) <GET https://www.rocketnotes.com/> (referer: None)\n"
     ]
    },
    {
     "name": "stdout",
     "output_type": "stream",
     "text": [
      "site_url https://www.thecosmeticboxes.com/ site_url_close ['http://www.thecosmeticboxes.com/', 'https://www.thecustomboxes.com/', 'https://www.tomedes.com/']\n",
      "site_url_close[0] http://www.thecosmeticboxes.com/\n",
      "ii 81 self.companies[ii] TheCosmeticBoxes\n",
      "out1 true iout1 71 url https://www.thecosmeticboxes.com/\n",
      "companies[0] Prints of Love this url https://www.thecosmeticboxes.com/\n",
      "site_url http://www.digitalevolution.com/ site_url_close ['http://www.digitalevolution.com/', 'http://www.digitallabelsolutions.com/', 'http://www.digitalartsolutions.com']\n",
      "site_url_close[0] http://www.digitalevolution.com/\n",
      "ii 100 self.companies[ii] Digital Evolution\n",
      "out1 false iout2 11 url http://www.digitalevolution.com/\n",
      "companies[0] TheCosmeticBoxes this url http://www.digitalevolution.com/\n"
     ]
    },
    {
     "name": "stderr",
     "output_type": "stream",
     "text": [
      "2021-11-30 16:36:28 [scrapy.core.engine] DEBUG: Crawled (200) <GET https://mengervalve.com/> (referer: None)\n",
      "2021-11-30 16:36:28 [scrapy.core.engine] DEBUG: Crawled (200) <GET http://canocreative.com/> (referer: None)\n",
      "2021-11-30 16:36:28 [scrapy.core.engine] DEBUG: Crawled (200) <GET https://www.paperbirdpackaging.com> (referer: None)\n",
      "2021-11-30 16:36:28 [scrapy.downloadermiddlewares.redirect] DEBUG: Redirecting (301) to <GET https://jawstec.com/> from <GET http://jawstec.com/>\n",
      "2021-11-30 16:36:28 [scrapy.downloadermiddlewares.redirect] DEBUG: Redirecting (301) to <GET https://beamakerclub.com/> from <GET https://www.beamakerclub.com/>\n",
      "2021-11-30 16:36:28 [scrapy.downloadermiddlewares.redirect] DEBUG: Redirecting (301) to <GET http://www.slant3d.com/> from <GET http://slant3d.com>\n"
     ]
    },
    {
     "name": "stdout",
     "output_type": "stream",
     "text": [
      "site_url https://www.teraengineering.com site_url_close ['https://www.teraengineering.com', 'https://www.sliceengineering.com', 'http://www.hicraftengineering.com']\n",
      "site_url_close[0] https://www.teraengineering.com\n",
      "ii 96 self.companies[ii] Tera Engineering Co.\n",
      "out1 true iout1 72 url https://www.teraengineering.com\n",
      "companies[0] Menger Valve, Inc. this url https://www.teraengineering.com\n"
     ]
    },
    {
     "name": "stderr",
     "output_type": "stream",
     "text": [
      "2021-11-30 16:36:29 [scrapy.core.engine] DEBUG: Crawled (200) <GET https://www.writersrepublic.com/> (referer: None)\n"
     ]
    },
    {
     "name": "stdout",
     "output_type": "stream",
     "text": [
      "site_url https://www.rocketnotes.com/ site_url_close ['https://www.rocketnotes.com/', 'https://www.kennytees.com/', 'https://www.crockerandco.com/']\n",
      "site_url_close[0] https://www.rocketnotes.com/\n",
      "ii 97 self.companies[ii] Rocket Notes\n",
      "out1 true iout1 73 url https://www.rocketnotes.com/\n",
      "companies[0] Artepit.com this url https://www.rocketnotes.com/\n",
      "site_url https://mengervalve.com/ site_url_close ['http://mengervalve.com/', 'https://metzgers.com/', 'https://x-central.com/']\n",
      "site_url_close[0] http://mengervalve.com/\n",
      "ii 82 self.companies[ii] Menger Valve, Inc.\n",
      "out1 true iout1 74 url https://mengervalve.com/\n",
      "companies[0] Teton Simulation this url https://mengervalve.com/\n",
      "site_url http://canocreative.com/ site_url_close ['http://canocreative.com/', 'http://moscreative.com/', 'https://ninecreative.com/']\n",
      "site_url_close[0] http://canocreative.com/\n",
      "ii 101 self.companies[ii] Cano Creative\n",
      "out1 true iout1 75 url http://canocreative.com/\n",
      "companies[0] RAPID AXIS this url http://canocreative.com/\n"
     ]
    },
    {
     "name": "stderr",
     "output_type": "stream",
     "text": [
      "2021-11-30 16:36:30 [scrapy.downloadermiddlewares.redirect] DEBUG: Redirecting (301) to <GET https://www.divmfgtech.com/> from <GET http://www.divmfgtech.com>\n",
      "2021-11-30 16:36:30 [scrapy.downloadermiddlewares.retry] DEBUG: Retrying <GET http://www.bpc.eco/> (failed 1 times): DNS lookup failed: no results for hostname lookup: www.bpc.eco.\n"
     ]
    },
    {
     "name": "stdout",
     "output_type": "stream",
     "text": [
      "site_url https://www.paperbirdpackaging.com site_url_close ['https://www.paperbirdpackaging.com', 'https://www.bluebirdpackaging.com/', 'https://www.yespackaging.com/']\n",
      "site_url_close[0] https://www.paperbirdpackaging.com\n",
      "ii 99 self.companies[ii] Paper Bird Packaging\n",
      "out1 true iout1 76 url https://www.paperbirdpackaging.com\n",
      "companies[0] PingTag this url https://www.paperbirdpackaging.com\n"
     ]
    },
    {
     "name": "stderr",
     "output_type": "stream",
     "text": [
      "2021-11-30 16:36:31 [scrapy.core.engine] DEBUG: Crawled (200) <GET https://urgentboxes.com/> (referer: None)\n"
     ]
    },
    {
     "name": "stdout",
     "output_type": "stream",
     "text": [
      "site_url https://www.writersrepublic.com/ site_url_close ['https://www.writersrepublic.com/', 'https://www.waterlogic.com/', 'https://www.printersrepairparts.com/']\n",
      "site_url_close[0] https://www.writersrepublic.com/\n",
      "ii 98 self.companies[ii] Writers Republic, LLC\n",
      "out1 true iout1 77 url https://www.writersrepublic.com/\n",
      "companies[0] Micron Inc this url https://www.writersrepublic.com/\n"
     ]
    },
    {
     "name": "stderr",
     "output_type": "stream",
     "text": [
      "2021-11-30 16:36:31 [scrapy.core.engine] DEBUG: Crawled (200) <GET https://twinkleintime.com> (referer: None)\n",
      "2021-11-30 16:36:31 [scrapy.core.engine] DEBUG: Crawled (200) <GET https://www.goodprints.com/> (referer: None)\n",
      "2021-11-30 16:36:31 [scrapy.downloadermiddlewares.retry] ERROR: Gave up retrying <GET https://customprintbox.com/> (failed 3 times): TCP connection timed out: 10060: A connection attempt failed because the connected party did not properly respond after a period of time, or established connection failed because connected host has failed to respond..\n"
     ]
    },
    {
     "name": "stdout",
     "output_type": "stream",
     "text": [
      "site_url https://urgentboxes.com/ site_url_close ['https://urgentboxes.com/', 'https://rednews.com/', 'https://getbandposters.com/']\n",
      "site_url_close[0] https://urgentboxes.com/\n",
      "ii 104 self.companies[ii] urgentboxes\n",
      "out1 true iout1 78 url https://urgentboxes.com/\n",
      "companies[0] 3D Printz this url https://urgentboxes.com/\n"
     ]
    },
    {
     "name": "stderr",
     "output_type": "stream",
     "text": [
      "2021-11-30 16:36:32 [scrapy.core.scraper] ERROR: Error downloading <GET https://customprintbox.com/>\n",
      "Traceback (most recent call last):\n",
      "  File \"C:\\Users\\MStopa\\AppData\\Local\\Continuum\\anaconda3\\envs\\webscrape\\lib\\site-packages\\scrapy\\core\\downloader\\middleware.py\", line 44, in process_request\n",
      "    return (yield download_func(request=request, spider=spider))\n",
      "twisted.internet.error.TCPTimedOutError: TCP connection timed out: 10060: A connection attempt failed because the connected party did not properly respond after a period of time, or established connection failed because connected host has failed to respond..\n"
     ]
    },
    {
     "name": "stdout",
     "output_type": "stream",
     "text": [
      "site_url https://twinkleintime.com site_url_close ['https://twinkleintime.com', 'https://printtime.com', 'http://thinkpatented.com']\n",
      "site_url_close[0] https://twinkleintime.com\n",
      "ii 106 self.companies[ii] AndAlways\n",
      "out1 true iout1 79 url https://twinkleintime.com\n",
      "companies[0] Quantum_AI Group Of Companies this url https://twinkleintime.com\n"
     ]
    },
    {
     "name": "stderr",
     "output_type": "stream",
     "text": [
      "2021-11-30 16:36:32 [scrapy.core.engine] DEBUG: Crawled (200) <GET https://www.sharecredentials.com/> (referer: None)\n"
     ]
    },
    {
     "name": "stdout",
     "output_type": "stream",
     "text": [
      "site_url https://www.goodprints.com/ site_url_close ['https://www.goodprints.com/', 'http://www.goodprinters.com', 'https://www.thegoodprinter.com/']\n",
      "site_url_close[0] https://www.goodprints.com/\n",
      "ii 107 self.companies[ii] GoodPrints.com\n",
      "out1 true iout1 80 url https://www.goodprints.com/\n",
      "companies[0] Closed Loop Plastics this url https://www.goodprints.com/\n"
     ]
    },
    {
     "name": "stderr",
     "output_type": "stream",
     "text": [
      "2021-11-30 16:36:33 [scrapy.downloadermiddlewares.redirect] DEBUG: Redirecting (301) to <GET https://www.3dhybridsolutions.com/> from <GET http://www.3dhybridsolutions.com>\n",
      "2021-11-30 16:36:33 [scrapy.core.engine] DEBUG: Crawled (200) <GET https://www.beam-machines.com/> (referer: None)\n",
      "2021-11-30 16:36:33 [scrapy.core.engine] DEBUG: Crawled (200) <GET https://rapidaxis.com/> (referer: None)\n",
      "2021-11-30 16:36:33 [scrapy.core.engine] DEBUG: Crawled (200) <GET https://www.customboxesfor.com> (referer: None)\n",
      "2021-11-30 16:36:33 [scrapy.core.engine] DEBUG: Crawled (200) <GET https://www.thelegacyprinting.com/> (referer: None)\n"
     ]
    },
    {
     "name": "stdout",
     "output_type": "stream",
     "text": [
      "site_url https://www.sharecredentials.com/ site_url_close ['https://www.sharecredentials.com/', 'https://www.sharpercards.com/', 'https://www.barcodestalk.com/']\n",
      "site_url_close[0] https://www.sharecredentials.com/\n",
      "ii 110 self.companies[ii] ShareCredentials\n",
      "out1 true iout1 81 url https://www.sharecredentials.com/\n",
      "companies[0] Nano OPS this url https://www.sharecredentials.com/\n"
     ]
    },
    {
     "name": "stderr",
     "output_type": "stream",
     "text": [
      "2021-11-30 16:36:33 [scrapy.core.scraper] DEBUG: Scraped from <200 https://www.beam-machines.com/>\n",
      "{'Organization': 'BeAM Machines',\n",
      " 'fulltext': 'BeAM is a French based company manufacturing industrial metal 3D printers/additive manufacturing machines using Directed Energy Deposition technology. Our Machines allow a layer-by-layer metal deposition in order to manufacture and repair parts, as well as add functions and shapes on already existing parts directly from a CAD file.',\n",
      " 'searchterm': 'additive manufacturing',\n",
      " 'url': 'https://www.beam-machines.com/'}\n",
      "2021-11-30 16:36:33 [scrapy.core.engine] DEBUG: Crawled (200) <GET https://beamakerclub.com/> (referer: None)\n",
      "2021-11-30 16:36:33 [scrapy.core.engine] DEBUG: Crawled (200) <GET https://www.allprintheads.com/> (referer: None)\n"
     ]
    },
    {
     "name": "stdout",
     "output_type": "stream",
     "text": [
      "site_url https://www.beam-machines.com/ site_url_close ['http://www.beam-machines.com/', 'http://www.typeamachines.com/', 'https://www.vandammachine.com/']\n",
      "site_url_close[0] http://www.beam-machines.com/\n",
      "ii 92 self.companies[ii] BeAM Machines\n",
      "yielding item additive manufacturing\n",
      "out1 true iout1 82 url https://www.beam-machines.com/\n",
      "companies[0] BeAM Machines this url https://www.beam-machines.com/\n",
      "site_url https://rapidaxis.com/ site_url_close ['https://www.rapidaxis.com', 'https://fadaniels.com/', 'https://priapps.com/']\n",
      "site_url_close[0] https://www.rapidaxis.com\n",
      "ii 85 self.companies[ii] RAPID AXIS\n",
      "out1 true iout1 83 url https://rapidaxis.com/\n",
      "companies[0] Templi this url https://rapidaxis.com/\n",
      "site_url https://www.customboxesfor.com site_url_close ['https://www.customboxesfor.com', 'https://www.thecustomboxes.com/', 'https://www.customcolor.com/']\n",
      "site_url_close[0] https://www.customboxesfor.com\n",
      "ii 111 self.companies[ii] Custom Boxes For\n",
      "out1 true iout1 84 url https://www.customboxesfor.com\n",
      "companies[0] mforia.com - Full Service Print Shop • Printing • Signs • Banners • Shirts and more! this url https://www.customboxesfor.com\n"
     ]
    },
    {
     "name": "stderr",
     "output_type": "stream",
     "text": [
      "2021-11-30 16:36:35 [scrapy.core.engine] DEBUG: Crawled (200) <GET https://www.divmfgtech.com/> (referer: None)\n"
     ]
    },
    {
     "name": "stdout",
     "output_type": "stream",
     "text": [
      "site_url https://www.thelegacyprinting.com/ site_url_close ['https://www.thelegacyprinting.com/', 'https://www.eganprinting.com/', 'https://www.feyprinting.com/']\n",
      "site_url_close[0] https://www.thelegacyprinting.com/\n",
      "ii 109 self.companies[ii] The Legacy Printing\n",
      "out1 true iout1 85 url https://www.thelegacyprinting.com/\n",
      "companies[0] Be A Maker Club this url https://www.thelegacyprinting.com/\n",
      "site_url https://beamakerclub.com/ site_url_close ['https://www.beamakerclub.com/', 'https://pbaker.com/', 'https://adclub.com/']\n",
      "site_url_close[0] https://www.beamakerclub.com/\n",
      "ii 95 self.companies[ii] Be A Maker Club\n",
      "out1 true iout1 86 url https://beamakerclub.com/\n",
      "companies[0] Tera Engineering Co. this url https://beamakerclub.com/\n"
     ]
    },
    {
     "name": "stderr",
     "output_type": "stream",
     "text": [
      "2021-11-30 16:36:36 [scrapy.downloadermiddlewares.redirect] DEBUG: Redirecting (301) to <GET https://blueringstencils.com/> from <GET https://www.blueringstencils.com>\n",
      "2021-11-30 16:36:36 [scrapy.downloadermiddlewares.redirect] DEBUG: Redirecting (301) to <GET https://www.lifoti.com/> from <GET http://www.lifoti.com>\n",
      "2021-11-30 16:36:36 [scrapy.core.engine] DEBUG: Crawled (200) <GET http://www.platinumprintingnyc.com> (referer: None)\n",
      "2021-11-30 16:36:36 [scrapy.downloadermiddlewares.retry] ERROR: Gave up retrying <GET https://ulela.cyou> (failed 3 times): TCP connection timed out: 10060: A connection attempt failed because the connected party did not properly respond after a period of time, or established connection failed because connected host has failed to respond..\n",
      "2021-11-30 16:36:36 [scrapy.core.engine] DEBUG: Crawled (200) <GET https://mforia.com/> (referer: None)\n"
     ]
    },
    {
     "name": "stdout",
     "output_type": "stream",
     "text": [
      "site_url https://www.allprintheads.com/ site_url_close ['https://www.allprintheads.com/', 'https://www.valprint.com', 'https://www.fastprinters.com/']\n",
      "site_url_close[0] https://www.allprintheads.com/\n",
      "ii 113 self.companies[ii] Allprintheads\n",
      "out1 true iout1 87 url https://www.allprintheads.com/\n",
      "companies[0] Rocket Notes this url https://www.allprintheads.com/\n"
     ]
    },
    {
     "name": "stderr",
     "output_type": "stream",
     "text": [
      "2021-11-30 16:36:36 [scrapy.downloadermiddlewares.redirect] DEBUG: Redirecting (301) to <GET https://emblahome.com/> from <GET http://emblahome.com>\n",
      "2021-11-30 16:36:36 [scrapy.downloadermiddlewares.redirect] DEBUG: Redirecting (301) to <GET https://www.zerobarrierlabs.com/> from <GET http://www.zerobarrierlabs.com>\n",
      "2021-11-30 16:36:36 [scrapy.core.engine] DEBUG: Crawled (200) <GET https://www.promosuns.com> (referer: None)\n",
      "2021-11-30 16:36:36 [scrapy.core.scraper] ERROR: Error downloading <GET https://ulela.cyou>\n",
      "Traceback (most recent call last):\n",
      "  File \"C:\\Users\\MStopa\\AppData\\Local\\Continuum\\anaconda3\\envs\\webscrape\\lib\\site-packages\\scrapy\\core\\downloader\\middleware.py\", line 44, in process_request\n",
      "    return (yield download_func(request=request, spider=spider))\n",
      "twisted.internet.error.TCPTimedOutError: TCP connection timed out: 10060: A connection attempt failed because the connected party did not properly respond after a period of time, or established connection failed because connected host has failed to respond..\n"
     ]
    },
    {
     "name": "stdout",
     "output_type": "stream",
     "text": [
      "site_url https://www.divmfgtech.com/ site_url_close ['http://www.divmfgtech.com', 'https://www.drgtech.com/', 'https://www.mmeftech.com/']\n",
      "site_url_close[0] http://www.divmfgtech.com\n",
      "ii 105 self.companies[ii] Diversified Manufacturing Technologies LLC\n",
      "out1 true iout1 88 url https://www.divmfgtech.com/\n",
      "companies[0] Writers Republic, LLC this url https://www.divmfgtech.com/\n",
      "site_url http://www.platinumprintingnyc.com site_url_close ['http://www.platinumprintingnyc.com', 'https://www.lawtonprinting.com/', 'https://www.actionprinting.com/']\n",
      "site_url_close[0] http://www.platinumprintingnyc.com\n",
      "ii 117 self.companies[ii] Platinum Printing\n",
      "out1 false iout2 12 url http://www.platinumprintingnyc.com\n",
      "companies[0] Paper Bird Packaging this url http://www.platinumprintingnyc.com\n"
     ]
    },
    {
     "name": "stderr",
     "output_type": "stream",
     "text": [
      "2021-11-30 16:36:37 [scrapy.core.engine] DEBUG: Crawled (200) <GET https://www.templi.com/> (referer: None)\n",
      "2021-11-30 16:36:37 [scrapy.downloadermiddlewares.retry] DEBUG: Retrying <GET https://www.repli.com> (failed 1 times): DNS lookup failed: no results for hostname lookup: www.repli.com.\n"
     ]
    },
    {
     "name": "stdout",
     "output_type": "stream",
     "text": [
      "site_url https://mforia.com/ site_url_close ['https://www.mforia.com/', 'https://ocip.com/', 'https://priapps.com/']\n",
      "site_url_close[0] https://www.mforia.com/\n",
      "ii 94 self.companies[ii] mforia.com - Full Service Print Shop • Printing • Signs • Banners • Shirts and more!\n",
      "out1 true iout1 89 url https://mforia.com/\n",
      "companies[0] Digital Evolution this url https://mforia.com/\n"
     ]
    },
    {
     "name": "stderr",
     "output_type": "stream",
     "text": [
      "2021-11-30 16:36:37 [scrapy.downloadermiddlewares.redirect] DEBUG: Redirecting (301) to <GET https://www.auxetic.co/> from <GET http://www.auxetic.co/>\n",
      "2021-11-30 16:36:37 [scrapy.core.engine] DEBUG: Crawled (200) <GET https://www.skymailint.com> (referer: None)\n"
     ]
    },
    {
     "name": "stdout",
     "output_type": "stream",
     "text": [
      "site_url https://www.promosuns.com site_url_close ['https://www.promosuns.com', 'https://www.popmount.com', 'https://www.crpromos.com/']\n",
      "site_url_close[0] https://www.promosuns.com\n",
      "ii 112 self.companies[ii] Promosuns\n",
      "out1 true iout1 90 url https://www.promosuns.com\n",
      "companies[0] Cano Creative this url https://www.promosuns.com\n"
     ]
    },
    {
     "name": "stderr",
     "output_type": "stream",
     "text": [
      "2021-11-30 16:36:38 [scrapy.core.engine] DEBUG: Crawled (200) <GET https://www.designnbuy.com> (referer: None)\n",
      "2021-11-30 16:36:38 [scrapy.downloadermiddlewares.redirect] DEBUG: Redirecting (301) to <GET https://www.slant3d.com/> from <GET http://www.slant3d.com/>\n"
     ]
    },
    {
     "name": "stdout",
     "output_type": "stream",
     "text": [
      "site_url https://www.templi.com/ site_url_close ['http://www.templi.com', 'https://www.repli.com', 'https://www.polid.com/']\n",
      "site_url_close[0] http://www.templi.com\n",
      "ii 93 self.companies[ii] Templi\n",
      "out1 true iout1 91 url https://www.templi.com/\n",
      "companies[0] JawsTec LLC. this url https://www.templi.com/\n"
     ]
    },
    {
     "name": "stderr",
     "output_type": "stream",
     "text": [
      "2021-11-30 16:36:38 [scrapy.downloadermiddlewares.redirect] DEBUG: Redirecting (301) to <GET https://www.jawstec.com/> from <GET https://jawstec.com/>\n",
      "2021-11-30 16:36:38 [scrapy.core.downloader.tls] WARNING: Remote certificate is not valid for hostname \"www.freenters.com\"; VerificationError(errors=[DNSMismatch(mismatched_id=DNS_ID(hostname=b'www.freenters.com'))])\n"
     ]
    },
    {
     "name": "stdout",
     "output_type": "stream",
     "text": [
      "site_url https://www.skymailint.com site_url_close ['https://www.skymailint.com', 'https://www.mailing.com/', 'https://www.dmmailing.com']\n",
      "site_url_close[0] https://www.skymailint.com\n",
      "ii 120 self.companies[ii] Skymail International\n",
      "out1 true iout1 92 url https://www.skymailint.com\n",
      "companies[0] Slant 3D this url https://www.skymailint.com\n"
     ]
    },
    {
     "name": "stderr",
     "output_type": "stream",
     "text": [
      "2021-11-30 16:36:38 [scrapy.core.engine] DEBUG: Crawled (200) <GET https://www.freenters.com> (referer: None)\n",
      "2021-11-30 16:36:38 [scrapy.downloadermiddlewares.redirect] DEBUG: Redirecting (301) to <GET https://www.skyphos.tech/> from <GET https://skyphos.tech>\n"
     ]
    },
    {
     "name": "stdout",
     "output_type": "stream",
     "text": [
      "site_url https://www.designnbuy.com site_url_close ['https://www.designnbuy.com', 'http://www.designnbuy.com', 'https://www.deesign.com/']\n",
      "site_url_close[0] https://www.designnbuy.com\n",
      "ii 121 self.companies[ii] DESIGNNBUY, INC.\n",
      "out1 true iout1 93 url https://www.designnbuy.com\n",
      "companies[0] urgentboxes this url https://www.designnbuy.com\n"
     ]
    },
    {
     "name": "stderr",
     "output_type": "stream",
     "text": [
      "2021-11-30 16:36:39 [scrapy.downloadermiddlewares.redirect] DEBUG: Redirecting (301) to <GET https://www.tronix3d.com/> from <GET https://tronix3d.com/>\n",
      "2021-11-30 16:36:39 [scrapy.core.engine] DEBUG: Crawled (200) <GET https://www.wheresmyjob.com> (referer: None)\n"
     ]
    },
    {
     "name": "stdout",
     "output_type": "stream",
     "text": [
      "site_url https://www.freenters.com site_url_close ['https://www.freenters.com', 'https://www.bfsprinters.com/', 'http://www.freedomprinters.com/']\n",
      "site_url_close[0] https://www.freenters.com\n",
      "ii 124 self.companies[ii] Freenters\n",
      "out1 false iout2 13 url https://www.freenters.com\n",
      "companies[0] Diversified Manufacturing Technologies LLC this url https://www.freenters.com\n"
     ]
    },
    {
     "name": "stderr",
     "output_type": "stream",
     "text": [
      "2021-11-30 16:36:39 [scrapy.core.scraper] DEBUG: Scraped from <200 https://www.wheresmyjob.com>\n",
      "{'Organization': 'WhereMyJob',\n",
      " 'fulltext': 'nan',\n",
      " 'searchterm': 'screen printing',\n",
      " 'url': 'https://www.wheresmyjob.com'}\n",
      "2021-11-30 16:36:39 [scrapy.core.engine] DEBUG: Crawled (200) <GET https://www.royalos.com/> (referer: None)\n",
      "2021-11-30 16:36:39 [scrapy.core.engine] DEBUG: Crawled (200) <GET https://syrreo.com> (referer: None)\n",
      "2021-11-30 16:36:39 [scrapy.downloadermiddlewares.retry] DEBUG: Retrying <GET https://campaignelves.com> (failed 1 times): DNS lookup failed: no results for hostname lookup: campaignelves.com.\n"
     ]
    },
    {
     "name": "stdout",
     "output_type": "stream",
     "text": [
      "site_url https://www.wheresmyjob.com site_url_close ['https://www.wheresmyjob.com', 'http://www.herley.com', 'https://www.versoco.com']\n",
      "site_url_close[0] https://www.wheresmyjob.com\n",
      "ii 125 self.companies[ii] WhereMyJob\n",
      "yielding item screen printing\n",
      "out1 true iout1 94 url https://www.wheresmyjob.com\n",
      "companies[0] AndAlways this url https://www.wheresmyjob.com\n"
     ]
    },
    {
     "name": "stderr",
     "output_type": "stream",
     "text": [
      "2021-11-30 16:36:40 [scrapy.core.engine] DEBUG: Crawled (200) <GET http://zappackaging.com> (referer: None)\n",
      "2021-11-30 16:36:40 [scrapy.core.engine] DEBUG: Crawled (200) <GET https://www.lifoti.com/> (referer: None)\n"
     ]
    },
    {
     "name": "stdout",
     "output_type": "stream",
     "text": [
      "site_url https://www.royalos.com/ site_url_close ['https://www.royalos.com/', 'https://www.royalenv.com', 'https://www.kozas.com/']\n",
      "site_url_close[0] https://www.royalos.com/\n",
      "ii 128 self.companies[ii] Royal OS\n",
      "out1 true iout1 95 url https://www.royalos.com/\n",
      "companies[0] GoodPrints.com this url https://www.royalos.com/\n",
      "site_url https://syrreo.com site_url_close ['https://syrreo.com', 'https://mcspro.com', 'https://arevo.com/']\n",
      "site_url_close[0] https://syrreo.com\n",
      "ii 129 self.companies[ii] Syrreo\n",
      "out1 true iout1 96 url https://syrreo.com\n",
      "companies[0] Biomass Plastics Inc this url https://syrreo.com\n",
      "site_url http://zappackaging.com site_url_close ['http://zappackaging.com', 'http://3cpackaging.com/', 'http://3cpackaging.com/']\n",
      "site_url_close[0] http://zappackaging.com\n",
      "ii 130 self.companies[ii] Zapp Packaging\n",
      "out1 true iout1 97 url http://zappackaging.com\n",
      "companies[0] The Legacy Printing this url http://zappackaging.com\n"
     ]
    },
    {
     "name": "stderr",
     "output_type": "stream",
     "text": [
      "2021-11-30 16:36:41 [scrapy.downloadermiddlewares.retry] DEBUG: Retrying <GET http://www.bpc.eco/> (failed 2 times): DNS lookup failed: no results for hostname lookup: www.bpc.eco.\n"
     ]
    },
    {
     "name": "stdout",
     "output_type": "stream",
     "text": [
      "site_url https://www.lifoti.com/ site_url_close ['http://www.lifoti.com', 'https://www.lichtfoto.com/', 'https://www.lifterp.com/']\n",
      "site_url_close[0] http://www.lifoti.com\n",
      "ii 116 self.companies[ii] Lifoti Magazine\n",
      "out1 true iout1 98 url https://www.lifoti.com/\n",
      "companies[0] ShareCredentials this url https://www.lifoti.com/\n"
     ]
    },
    {
     "name": "stderr",
     "output_type": "stream",
     "text": [
      "2021-11-30 16:36:41 [scrapy.core.engine] DEBUG: Crawled (200) <GET https://www.zerobarrierlabs.com/> (referer: None)\n",
      "2021-11-30 16:36:41 [scrapy.core.engine] DEBUG: Crawled (200) <GET https://www.doubleissuemag.org/> (referer: None)\n",
      "2021-11-30 16:36:42 [scrapy.core.engine] DEBUG: Crawled (200) <GET https://www.colorhubprint.com> (referer: None)\n"
     ]
    },
    {
     "name": "stdout",
     "output_type": "stream",
     "text": [
      "site_url https://www.zerobarrierlabs.com/ site_url_close ['http://www.zerobarrierlabs.com', 'https://www.weilerls.com/', 'https://www.frontierlabel.com/']\n",
      "site_url_close[0] http://www.zerobarrierlabs.com\n",
      "ii 118 self.companies[ii] Zero Barrier\n",
      "out1 true iout1 99 url https://www.zerobarrierlabs.com/\n",
      "companies[0] Custom Boxes For this url https://www.zerobarrierlabs.com/\n"
     ]
    },
    {
     "name": "stderr",
     "output_type": "stream",
     "text": [
      "2021-11-30 16:36:42 [scrapy.core.engine] DEBUG: Crawled (200) <GET https://www.customsticker.com/> (referer: None)\n"
     ]
    },
    {
     "name": "stdout",
     "output_type": "stream",
     "text": [
      "site_url https://www.doubleissuemag.org/ site_url_close ['https://www.doubleissuemag.org/', 'https://www.honblue.com/', 'https://www.omnisystem.com/']\n",
      "site_url_close[0] https://www.doubleissuemag.org/\n",
      "ii 132 self.companies[ii] Double Issue\n",
      "out1 false iout2 14 url https://www.doubleissuemag.org/\n",
      "companies[0] Promosuns this url https://www.doubleissuemag.org/\n"
     ]
    },
    {
     "name": "stderr",
     "output_type": "stream",
     "text": [
      "2021-11-30 16:36:43 [scrapy.core.engine] DEBUG: Crawled (200) <GET https://www.titanic.design/> (referer: None)\n"
     ]
    },
    {
     "name": "stdout",
     "output_type": "stream",
     "text": [
      "site_url https://www.colorhubprint.com site_url_close ['https://www.colorhubprint.com', 'https://www.colorproprint.com', 'https://www.colorgraphicprint.com/']\n",
      "site_url_close[0] https://www.colorhubprint.com\n",
      "ii 135 self.companies[ii] ColorHub\n",
      "out1 true iout1 100 url https://www.colorhubprint.com\n",
      "companies[0] Allprintheads this url https://www.colorhubprint.com\n"
     ]
    },
    {
     "name": "stderr",
     "output_type": "stream",
     "text": [
      "2021-11-30 16:36:43 [scrapy.core.engine] DEBUG: Crawled (200) <GET https://www.bagzdepot.com/> (referer: None)\n",
      "2021-11-30 16:36:43 [scrapy.downloadermiddlewares.retry] DEBUG: Retrying <GET https://www.radiance4d.com/> (failed 1 times): DNS lookup failed: no results for hostname lookup: www.radiance4d.com.\n"
     ]
    },
    {
     "name": "stdout",
     "output_type": "stream",
     "text": [
      "site_url https://www.customsticker.com/ site_url_close ['https://www.customsticker.com/', 'https://www.customink.com/', 'https://www.customcolor.com/']\n",
      "site_url_close[0] https://www.customsticker.com/\n",
      "ii 134 self.companies[ii] Custom Sticker\n",
      "out1 true iout1 101 url https://www.customsticker.com/\n",
      "companies[0] 3D Hybrid Solutions this url https://www.customsticker.com/\n"
     ]
    },
    {
     "name": "stderr",
     "output_type": "stream",
     "text": [
      "2021-11-30 16:36:43 [scrapy.core.engine] DEBUG: Crawled (200) <GET https://emblahome.com/> (referer: None)\n"
     ]
    },
    {
     "name": "stdout",
     "output_type": "stream",
     "text": [
      "site_url https://www.titanic.design/ site_url_close ['https://www.titanic.design/', 'https://www.ardesign.us/', 'https://www.trendesign.com/']\n",
      "site_url_close[0] https://www.titanic.design/\n",
      "ii 133 self.companies[ii] Titanic Design\n",
      "out1 true iout1 102 url https://www.titanic.design/\n",
      "companies[0] BlueRing Stencils this url https://www.titanic.design/\n"
     ]
    },
    {
     "name": "stderr",
     "output_type": "stream",
     "text": [
      "2021-11-30 16:36:44 [scrapy.core.scraper] DEBUG: Scraped from <200 https://www.bagzdepot.com/>\n",
      "{'Organization': 'BagzDepot',\n",
      " 'fulltext': 'Looking for reusable bags to showcase your amazing business or organization? But you’re not sure which bag manufacturer can offer you the best quality bags for the most affordable price? BagzDepot is your one-stop shop for bags of all kinds! We produce our bags with the utmost care and highest quality materials so you can showcase your brand, message, or artwork in the most vibrant and appealing way.  From canvas tote bags, burlap bags, drawstring bags, backpacks and duffle bags, we’re the depot of all sorts of bags! Based in the USA, we have distribution centers strategically located to deliver orders of any size within 1-2 business days.  We at BagzDepot offer all our bags at the most competitive wholesale rates on the market. We’ve served over 200,000 happy customers and counting. With our 24/7 customer support team and 30-day money back guarantee, you can be sure you are getting the highest quality bags at the most affordable prices, and most importantly, with the best customer care, before, during, and after the delivery of your order. Visit our website and order now! Either get them as blanks or have us personalize your bags for you with our in-house customization services.',\n",
      " 'searchterm': 'screen printing',\n",
      " 'url': 'https://www.bagzdepot.com/'}\n",
      "2021-11-30 16:36:44 [scrapy.downloadermiddlewares.redirect] DEBUG: Redirecting (302) to <GET https://www.creatorslabel.com/password> from <GET https://www.creatorslabel.com>\n",
      "2021-11-30 16:36:44 [scrapy.core.engine] DEBUG: Crawled (200) <GET https://www.paxis.com> (referer: None)\n",
      "2021-11-30 16:36:44 [scrapy.downloadermiddlewares.retry] DEBUG: Retrying <GET http://www.grasp3d.co> (failed 1 times): DNS lookup failed: no results for hostname lookup: www.grasp3d.co.\n"
     ]
    },
    {
     "name": "stdout",
     "output_type": "stream",
     "text": [
      "site_url https://www.bagzdepot.com/ site_url_close ['https://www.bagzdepot.com/', 'https://www.adeast.com/', 'https://www.gagepub.com/']\n",
      "site_url_close[0] https://www.bagzdepot.com/\n",
      "ii 136 self.companies[ii] BagzDepot\n",
      "yielding item screen printing\n",
      "out1 true iout1 103 url https://www.bagzdepot.com/\n",
      "companies[0] Lifoti Magazine this url https://www.bagzdepot.com/\n"
     ]
    },
    {
     "name": "stderr",
     "output_type": "stream",
     "text": [
      "2021-11-30 16:36:44 [scrapy.core.scraper] ERROR: Spider error processing <GET https://emblahome.com/> (referer: None)\n",
      "Traceback (most recent call last):\n",
      "  File \"C:\\Users\\MStopa\\AppData\\Local\\Continuum\\anaconda3\\envs\\webscrape\\lib\\site-packages\\scrapy\\utils\\defer.py\", line 120, in iter_errback\n",
      "    yield next(it)\n",
      "  File \"C:\\Users\\MStopa\\AppData\\Local\\Continuum\\anaconda3\\envs\\webscrape\\lib\\site-packages\\scrapy\\utils\\python.py\", line 346, in __next__\n",
      "    return next(self.data)\n",
      "  File \"C:\\Users\\MStopa\\AppData\\Local\\Continuum\\anaconda3\\envs\\webscrape\\lib\\site-packages\\scrapy\\utils\\python.py\", line 346, in __next__\n",
      "    return next(self.data)\n",
      "  File \"C:\\Users\\MStopa\\AppData\\Local\\Continuum\\anaconda3\\envs\\webscrape\\lib\\site-packages\\scrapy\\core\\spidermw.py\", line 64, in _evaluate_iterable\n",
      "    for r in iterable:\n",
      "  File \"C:\\Users\\MStopa\\AppData\\Local\\Continuum\\anaconda3\\envs\\webscrape\\lib\\site-packages\\scrapy\\spidermiddlewares\\offsite.py\", line 29, in process_spider_output\n",
      "    for x in result:\n",
      "  File \"C:\\Users\\MStopa\\AppData\\Local\\Continuum\\anaconda3\\envs\\webscrape\\lib\\site-packages\\scrapy\\core\\spidermw.py\", line 64, in _evaluate_iterable\n",
      "    for r in iterable:\n",
      "  File \"C:\\Users\\MStopa\\AppData\\Local\\Continuum\\anaconda3\\envs\\webscrape\\lib\\site-packages\\scrapy\\spidermiddlewares\\referer.py\", line 340, in <genexpr>\n",
      "    return (_set_referer(r) for r in result or ())\n",
      "  File \"C:\\Users\\MStopa\\AppData\\Local\\Continuum\\anaconda3\\envs\\webscrape\\lib\\site-packages\\scrapy\\core\\spidermw.py\", line 64, in _evaluate_iterable\n",
      "    for r in iterable:\n",
      "  File \"C:\\Users\\MStopa\\AppData\\Local\\Continuum\\anaconda3\\envs\\webscrape\\lib\\site-packages\\scrapy\\spidermiddlewares\\urllength.py\", line 37, in <genexpr>\n",
      "    return (r for r in result or () if _filter(r))\n",
      "  File \"C:\\Users\\MStopa\\AppData\\Local\\Continuum\\anaconda3\\envs\\webscrape\\lib\\site-packages\\scrapy\\core\\spidermw.py\", line 64, in _evaluate_iterable\n",
      "    for r in iterable:\n",
      "  File \"C:\\Users\\MStopa\\AppData\\Local\\Continuum\\anaconda3\\envs\\webscrape\\lib\\site-packages\\scrapy\\spidermiddlewares\\depth.py\", line 58, in <genexpr>\n",
      "    return (r for r in result or () if _filter(r))\n",
      "  File \"C:\\Users\\MStopa\\AppData\\Local\\Continuum\\anaconda3\\envs\\webscrape\\lib\\site-packages\\scrapy\\core\\spidermw.py\", line 64, in _evaluate_iterable\n",
      "    for r in iterable:\n",
      "  File \"<ipython-input-9-10a30e00531c>\", line 132, in parse\n",
      "    file1.write(out2 + '\\n')\n",
      "  File \"C:\\Users\\MStopa\\AppData\\Local\\Continuum\\anaconda3\\envs\\webscrape\\lib\\encodings\\cp1252.py\", line 19, in encode\n",
      "    return codecs.charmap_encode(input,self.errors,encoding_table)[0]\n",
      "UnicodeEncodeError: 'charmap' codec can't encode character '\\U0001f389' in position 82: character maps to <undefined>\n",
      "2021-11-30 16:36:44 [scrapy.core.engine] DEBUG: Crawled (200) <GET https://blueringstencils.com/> (referer: None)\n"
     ]
    },
    {
     "name": "stdout",
     "output_type": "stream",
     "text": [
      "site_url https://emblahome.com/ site_url_close ['http://emblahome.com', 'https://rambohouse.com/', 'https://ecmpublishers.com/']\n",
      "site_url_close[0] http://emblahome.com\n",
      "ii 119 self.companies[ii] Embla Co.\n",
      "out1 true iout1 104 url https://emblahome.com/\n"
     ]
    },
    {
     "name": "stderr",
     "output_type": "stream",
     "text": [
      "2021-11-30 16:36:45 [scrapy.core.scraper] DEBUG: Scraped from <200 https://www.paxis.com>\r\n",
      "{'Organization': 'Paxis',\n",
      " 'fulltext': 'The WAV™ (Wave Applied Voxel) process was created with the requirements of the commercial manufacturer in mind, in an effort to solve trapped volume issues within current liquid resin-based technologies. The success in solving one problem opened the doors to solving many, which include: Scalability in size and speed, significant reduction in post processing requirement, multiple material production, exotic material management, lower cost of operation, the elimination and need for a large vat during large-part production, as well as the ability for embedded components and many more. Founded in 2016, Paxis LLC, headquartered in Crystal Lake, IL, announced the development of the WAV™ (Wave Applied Voxel) process, with commercialization timing to be announced at a later date. Designed to meet advanced manufacturing needs within the Additive Manufacturing (AM) and 3D Printing industry, while expandable to non-AM industries WAV™ is a completely new, ground-up AM process. Designed without constraints, the new, patent-pending WAV™ technology is fully scalable in the X, Y, and Z axis, and deploys material in a unique way that allows for the production of extremely large part(s) or larger quantities of smaller parts, with as little as 1 liter of material loaded in the machine at any given time. The technology is designed to embrace the use of multiple materials of different viscosities within the same part build. For more information on the WAV™ additive manufacturing process and technology, please visit: www.paxis.com.',\n",
      " 'searchterm': 'additive manufacturing',\n",
      " 'url': 'https://www.paxis.com'}\n"
     ]
    },
    {
     "name": "stdout",
     "output_type": "stream",
     "text": [
      "site_url https://www.paxis.com site_url_close ['https://www.paxis.com', 'https://www.rapidaxis.com', 'https://www.praxismfg.com/']\n",
      "site_url_close[0] https://www.paxis.com\n",
      "ii 137 self.companies[ii] Paxis\n",
      "yielding item additive manufacturing\n",
      "out1 true iout1 105 url https://www.paxis.com\n",
      "companies[0] Platinum Printing this url https://www.paxis.com\n"
     ]
    },
    {
     "name": "stderr",
     "output_type": "stream",
     "text": [
      "2021-11-30 16:36:45 [scrapy.downloadermiddlewares.redirect] DEBUG: Redirecting (301) to <GET https://besjet.com/> from <GET http://www.besjet.com/>\n"
     ]
    },
    {
     "name": "stdout",
     "output_type": "stream",
     "text": [
      "site_url https://blueringstencils.com/ site_url_close ['https://www.blueringstencils.com', 'https://llprinters.com/', 'https://buchertech.com/']\n",
      "site_url_close[0] https://www.blueringstencils.com\n",
      "ii 115 self.companies[ii] BlueRing Stencils\n",
      "out1 true iout1 106 url https://blueringstencils.com/\n",
      "companies[0] Zero Barrier this url https://blueringstencils.com/\n"
     ]
    },
    {
     "name": "stderr",
     "output_type": "stream",
     "text": [
      "2021-11-30 16:36:45 [scrapy.core.engine] DEBUG: Crawled (200) <GET https://www.3dhybridsolutions.com/> (referer: None)\n",
      "2021-11-30 16:36:46 [scrapy.core.engine] DEBUG: Crawled (200) <GET https://www.tronix3d.com/> (referer: None)\n",
      "2021-11-30 16:36:46 [scrapy.downloadermiddlewares.retry] DEBUG: Retrying <GET https://www.repli.com> (failed 2 times): DNS lookup failed: no results for hostname lookup: www.repli.com.\n"
     ]
    },
    {
     "name": "stdout",
     "output_type": "stream",
     "text": [
      "site_url https://www.3dhybridsolutions.com/ site_url_close ['http://www.3dhybridsolutions.com', 'https://www.bridgecomsolutions.com/', 'https://www.tryadsolutions.com/']\n",
      "site_url_close[0] http://www.3dhybridsolutions.com\n",
      "ii 114 self.companies[ii] 3D Hybrid Solutions\n",
      "out1 false iout2 15 url https://www.3dhybridsolutions.com/\n",
      "companies[0] Embla Co. this url https://www.3dhybridsolutions.com/\n"
     ]
    },
    {
     "name": "stderr",
     "output_type": "stream",
     "text": [
      "2021-11-30 16:36:46 [scrapy.core.scraper] DEBUG: Scraped from <200 https://www.tronix3d.com/>\n",
      "{'Organization': 'Citronix',\n",
      " 'fulltext': 'nan',\n",
      " 'searchterm': 'additive manufacturing',\n",
      " 'url': 'https://www.tronix3d.com/'}\n",
      "2021-11-30 16:36:46 [scrapy.downloadermiddlewares.redirect] DEBUG: Redirecting (301) to <GET http://farfetchedcreations.com/> from <GET http://www.farfetchedcreations.com>\n",
      "2021-11-30 16:36:46 [scrapy.core.engine] DEBUG: Crawled (200) <GET https://inkpop.com> (referer: None)\n"
     ]
    },
    {
     "name": "stdout",
     "output_type": "stream",
     "text": [
      "site_url https://www.tronix3d.com/ site_url_close ['https://www.citronix.com/', 'https://tronix3d.com/', 'https://www.omniadv.com/']\n",
      "site_url_close[0] https://www.citronix.com/\n",
      "ii 4836 self.companies[ii] Citronix\n",
      "yielding item additive manufacturing\n",
      "out1 true iout1 107 url https://www.tronix3d.com/\n",
      "companies[0] Skymail International this url https://www.tronix3d.com/\n"
     ]
    },
    {
     "name": "stderr",
     "output_type": "stream",
     "text": [
      "2021-11-30 16:36:47 [scrapy.core.engine] DEBUG: Crawled (200) <GET http://www.landiindustries.com> (referer: None)\n"
     ]
    },
    {
     "name": "stdout",
     "output_type": "stream",
     "text": [
      "site_url https://inkpop.com site_url_close ['https://inkpop.com', 'http://inkd.com', 'https://qnp.com/']\n",
      "site_url_close[0] https://inkpop.com\n",
      "ii 143 self.companies[ii] Inkpop\n",
      "out1 true iout1 108 url https://inkpop.com\n",
      "companies[0] DESIGNNBUY, INC. this url https://inkpop.com\n"
     ]
    },
    {
     "name": "stderr",
     "output_type": "stream",
     "text": [
      "2021-11-30 16:36:47 [scrapy.core.engine] DEBUG: Crawled (200) <GET https://www.jawstec.com/> (referer: None)\n"
     ]
    },
    {
     "name": "stdout",
     "output_type": "stream",
     "text": [
      "site_url http://www.landiindustries.com site_url_close ['http://www.landiindustries.com', 'http://www.landiindustries.com', 'http://www.afeindustries.com/']\n",
      "site_url_close[0] http://www.landiindustries.com\n",
      "ii 144 self.companies[ii] Landi Industries\n",
      "out1 true iout1 109 url http://www.landiindustries.com\n",
      "companies[0] Auxetic this url http://www.landiindustries.com\n"
     ]
    },
    {
     "name": "stderr",
     "output_type": "stream",
     "text": [
      "2021-11-30 16:36:48 [scrapy.core.engine] DEBUG: Crawled (200) <GET https://www.lakeshoredesign.com/> (referer: None)\n",
      "2021-11-30 16:36:48 [scrapy.core.engine] DEBUG: Crawled (200) <GET https://www.slant3d.com/> (referer: None)\n",
      "2021-11-30 16:36:48 [scrapy.downloadermiddlewares.retry] DEBUG: Retrying <GET https://omnidragondevelopment.com> (failed 1 times): DNS lookup failed: no results for hostname lookup: omnidragondevelopment.com.\n",
      "2021-11-30 16:36:48 [scrapy.core.engine] DEBUG: Crawled (200) <GET https://imprintnetwork.com/> (referer: None)\n"
     ]
    },
    {
     "name": "stdout",
     "output_type": "stream",
     "text": [
      "site_url https://www.jawstec.com/ site_url_close ['https://www.vastex.com/', 'http://jawstec.com/', 'https://www.sfntc.com/']\n",
      "site_url_close[0] https://www.vastex.com/\n",
      "ii 2518 self.companies[ii] Vastex\n",
      "out1 true iout1 110 url https://www.jawstec.com/\n",
      "companies[0] Repli this url https://www.jawstec.com/\n",
      "site_url https://www.lakeshoredesign.com/ site_url_close ['https://www.lakeshoredesign.com/', 'https://www.lachancedesign.com/', 'https://www.trendesign.com/']\n",
      "site_url_close[0] https://www.lakeshoredesign.com/\n",
      "ii 146 self.companies[ii] Lakeshore Design\n",
      "out1 true iout1 111 url https://www.lakeshoredesign.com/\n",
      "companies[0] Freenters this url https://www.lakeshoredesign.com/\n",
      "site_url https://www.slant3d.com/ site_url_close ['https://www.mantle3d.com/', 'https://www.appntd.com/', 'https://www.laz3d.com']\n",
      "site_url_close[0] https://www.mantle3d.com/\n",
      "ii 2903 self.companies[ii] Mantle\n",
      "out1 false iout2 16 url https://www.slant3d.com/\n",
      "companies[0] WhereMyJob this url https://www.slant3d.com/\n"
     ]
    },
    {
     "name": "stderr",
     "output_type": "stream",
     "text": [
      "2021-11-30 16:36:49 [scrapy.core.engine] DEBUG: Crawled (200) <GET https://www.auxetic.co/> (referer: None)\n",
      "2021-11-30 16:36:49 [scrapy.downloadermiddlewares.redirect] DEBUG: Redirecting (301) to <GET https://money-merch.com/> from <GET https://www.money-merch.com>\n"
     ]
    },
    {
     "name": "stdout",
     "output_type": "stream",
     "text": [
      "site_url https://imprintnetwork.com/ site_url_close ['https://imprintnetwork.com/', 'https://rsnetwork.com/', 'https://printbangor.com/']\n",
      "site_url_close[0] https://imprintnetwork.com/\n",
      "ii 145 self.companies[ii] ImprintNetwork\n",
      "out1 true iout1 112 url https://imprintnetwork.com/\n",
      "companies[0] elliot mcallister this url https://imprintnetwork.com/\n"
     ]
    },
    {
     "name": "stderr",
     "output_type": "stream",
     "text": [
      "2021-11-30 16:36:50 [scrapy.downloadermiddlewares.redirect] DEBUG: Redirecting (301) to <GET https://www.expresseventprinting.com:443/> from <GET http://www.ExpressEventPrinting.com>\n",
      "2021-11-30 16:36:50 [scrapy.downloadermiddlewares.retry] DEBUG: Retrying <GET http://www.grasp3d.co> (failed 2 times): DNS lookup failed: no results for hostname lookup: www.grasp3d.co.\n",
      "2021-11-30 16:36:50 [scrapy.downloadermiddlewares.redirect] DEBUG: Redirecting (301) to <GET https://praxismfg.com/> from <GET https://www.praxismfg.com/>\n"
     ]
    },
    {
     "name": "stdout",
     "output_type": "stream",
     "text": [
      "site_url https://www.auxetic.co/ site_url_close ['http://www.auxetic.co/', 'https://www.tginc.com/', 'https://www.lazerinc.com/']\n",
      "site_url_close[0] http://www.auxetic.co/\n",
      "ii 122 self.companies[ii] Auxetic\n",
      "out1 true iout1 113 url https://www.auxetic.co/\n",
      "companies[0] Tronix3D this url https://www.auxetic.co/\n"
     ]
    },
    {
     "name": "stderr",
     "output_type": "stream",
     "text": [
      "2021-11-30 16:36:50 [scrapy.core.engine] DEBUG: Crawled (200) <GET https://www.skyphos.tech/> (referer: None)\n",
      "2021-11-30 16:36:50 [scrapy.core.engine] DEBUG: Crawled (200) <GET https://singularitydesign.co/> (referer: None)\n",
      "2021-11-30 16:36:50 [scrapy.downloadermiddlewares.retry] DEBUG: Retrying <GET https://campaignelves.com> (failed 2 times): DNS lookup failed: no results for hostname lookup: campaignelves.com.\n"
     ]
    },
    {
     "name": "stdout",
     "output_type": "stream",
     "text": [
      "site_url https://www.skyphos.tech/ site_url_close ['https://skyphos.tech', 'https://www.skyou.com/', 'https://www.kozas.com/']\n",
      "site_url_close[0] https://skyphos.tech\n",
      "ii 126 self.companies[ii] elliot mcallister\n",
      "out1 true iout1 114 url https://www.skyphos.tech/\n",
      "companies[0] Royal OS this url https://www.skyphos.tech/\n"
     ]
    },
    {
     "name": "stderr",
     "output_type": "stream",
     "text": [
      "2021-11-30 16:36:51 [scrapy.core.engine] DEBUG: Crawled (200) <GET https://bridgewayprinting.com/> (referer: None)\n",
      "2021-11-30 16:36:51 [scrapy.downloadermiddlewares.retry] ERROR: Gave up retrying <GET http://www.bpc.eco/> (failed 3 times): DNS lookup failed: no results for hostname lookup: www.bpc.eco.\n"
     ]
    },
    {
     "name": "stdout",
     "output_type": "stream",
     "text": [
      "site_url https://singularitydesign.co/ site_url_close ['https://singularitydesign.co/', 'https://blineburydesign.com/', 'https://siouxlandsigns.com']\n",
      "site_url_close[0] https://singularitydesign.co/\n",
      "ii 153 self.companies[ii] Singularity Design\n",
      "out1 true iout1 115 url https://singularitydesign.co/\n",
      "companies[0] Syrreo this url https://singularitydesign.co/\n"
     ]
    },
    {
     "name": "stderr",
     "output_type": "stream",
     "text": [
      "2021-11-30 16:36:52 [scrapy.core.scraper] ERROR: Error downloading <GET http://www.bpc.eco/>\n",
      "Traceback (most recent call last):\n",
      "  File \"C:\\Users\\MStopa\\AppData\\Local\\Continuum\\anaconda3\\envs\\webscrape\\lib\\site-packages\\twisted\\internet\\defer.py\", line 1416, in _inlineCallbacks\n",
      "    result = result.throwExceptionIntoGenerator(g)\n",
      "  File \"C:\\Users\\MStopa\\AppData\\Local\\Continuum\\anaconda3\\envs\\webscrape\\lib\\site-packages\\twisted\\python\\failure.py\", line 512, in throwExceptionIntoGenerator\n",
      "    return g.throw(self.type, self.value, self.tb)\n",
      "  File \"C:\\Users\\MStopa\\AppData\\Local\\Continuum\\anaconda3\\envs\\webscrape\\lib\\site-packages\\scrapy\\core\\downloader\\middleware.py\", line 44, in process_request\n",
      "    return (yield download_func(request=request, spider=spider))\n",
      "  File \"C:\\Users\\MStopa\\AppData\\Local\\Continuum\\anaconda3\\envs\\webscrape\\lib\\site-packages\\twisted\\internet\\defer.py\", line 654, in _runCallbacks\n",
      "    current.result = callback(current.result, *args, **kw)\n",
      "  File \"C:\\Users\\MStopa\\AppData\\Local\\Continuum\\anaconda3\\envs\\webscrape\\lib\\site-packages\\twisted\\internet\\endpoints.py\", line 982, in startConnectionAttempts\n",
      "    \"no results for hostname lookup: {}\".format(self._hostStr)\n",
      "twisted.internet.error.DNSLookupError: DNS lookup failed: no results for hostname lookup: www.bpc.eco.\n",
      "2021-11-30 16:36:52 [scrapy.core.engine] DEBUG: Crawled (200) <GET https://matthewsdesigngroup.com> (referer: None)\n"
     ]
    },
    {
     "name": "stdout",
     "output_type": "stream",
     "text": [
      "site_url https://bridgewayprinting.com/ site_url_close ['https://bridgewayprinting.com/', 'https://bridgewaterprint.com/', 'https://heritageprinting.com/']\n",
      "site_url_close[0] https://bridgewayprinting.com/\n",
      "ii 150 self.companies[ii] Bridgeway Printing & Graphics\n",
      "out1 true iout1 116 url https://bridgewayprinting.com/\n",
      "companies[0] Zapp Packaging this url https://bridgewayprinting.com/\n"
     ]
    },
    {
     "name": "stderr",
     "output_type": "stream",
     "text": [
      "2021-11-30 16:36:52 [scrapy.downloadermiddlewares.redirect] DEBUG: Redirecting (301) to <GET https://quarterdecktech.com/> from <GET https://www.quarterdecktech.com>\n",
      "2021-11-30 16:36:52 [scrapy.core.engine] DEBUG: Crawled (200) <GET https://flyleafprint.com/> (referer: None)\n",
      "2021-11-30 16:36:53 [scrapy.downloadermiddlewares.retry] DEBUG: Retrying <GET https://www.radiance4d.com/> (failed 2 times): DNS lookup failed: no results for hostname lookup: www.radiance4d.com.\n"
     ]
    },
    {
     "name": "stdout",
     "output_type": "stream",
     "text": [
      "site_url https://matthewsdesigngroup.com site_url_close ['https://matthewsdesigngroup.com', 'https://fatheaddesign.com', 'https://matthewsmarking.com/']\n",
      "site_url_close[0] https://matthewsdesigngroup.com\n",
      "ii 154 self.companies[ii] Matthews Design Group\n",
      "out1 true iout1 117 url https://matthewsdesigngroup.com\n",
      "companies[0] CampaignElves this url https://matthewsdesigngroup.com\n"
     ]
    },
    {
     "name": "stderr",
     "output_type": "stream",
     "text": [
      "2021-11-30 16:36:53 [scrapy.downloadermiddlewares.redirect] DEBUG: Redirecting (302) to <GET https://sedo.com/search/details/?partnerid=324561&language=us&domain=brysk.com&origin=sales_lander_10&utm_medium=Parking&utm_campaign=offerpage> from <GET https://www.brysk.com>\n"
     ]
    },
    {
     "name": "stdout",
     "output_type": "stream",
     "text": [
      "site_url https://flyleafprint.com/ site_url_close ['https://flyleafprint.com/', 'https://fasprint.com/', 'https://llprinters.com/']\n",
      "site_url_close[0] https://flyleafprint.com/\n",
      "ii 157 self.companies[ii] Flyleaf\n",
      "out1 true iout1 118 url https://flyleafprint.com/\n",
      "companies[0] Double Issue this url https://flyleafprint.com/\n"
     ]
    },
    {
     "name": "stderr",
     "output_type": "stream",
     "text": [
      "2021-11-30 16:36:53 [scrapy.core.engine] DEBUG: Crawled (200) <GET https://besjet.com/> (referer: None)\n",
      "2021-11-30 16:36:53 [scrapy.core.engine] DEBUG: Crawled (200) <GET https://altiusgraphics.com/> (referer: None)\n",
      "2021-11-30 16:36:54 [scrapy.core.engine] DEBUG: Crawled (200) <GET https://diamondcubepromo.com/> (referer: None)\n",
      "2021-11-30 16:36:54 [scrapy.core.engine] DEBUG: Crawled (200) <GET https://broadstrokeinc.com/> (referer: None)\n"
     ]
    },
    {
     "name": "stdout",
     "output_type": "stream",
     "text": [
      "site_url https://besjet.com/ site_url_close ['http://www.besjet.com/', 'https://absit.com/', 'https://edt.com/']\n",
      "site_url_close[0] http://www.besjet.com/\n",
      "ii 142 self.companies[ii] BesJet Inc\n",
      "out1 true iout1 119 url https://besjet.com/\n",
      "companies[0] Titanic Design this url https://besjet.com/\n",
      "site_url https://altiusgraphics.com/ site_url_close ['https://altiusgraphics.com/', 'https://atigraphics.com/', 'https://marlingraphics.com/']\n",
      "site_url_close[0] https://altiusgraphics.com/\n",
      "ii 155 self.companies[ii] ALTIUS Graphics\n",
      "out1 true iout1 120 url https://altiusgraphics.com/\n",
      "companies[0] Custom Sticker this url https://altiusgraphics.com/\n",
      "site_url https://diamondcubepromo.com/ site_url_close ['https://diamondcubepromo.com/', 'https://moonlightpromo.com/', 'https://interpromodels.com/']\n",
      "site_url_close[0] https://diamondcubepromo.com/\n",
      "ii 158 self.companies[ii] Diamond Cube Promo\n",
      "out1 true iout1 121 url https://diamondcubepromo.com/\n",
      "companies[0] ColorHub this url https://diamondcubepromo.com/\n"
     ]
    },
    {
     "name": "stderr",
     "output_type": "stream",
     "text": [
      "2021-11-30 16:36:55 [scrapy.core.engine] DEBUG: Crawled (200) <GET https://www.creatorslabel.com/password> (referer: None)\n",
      "2021-11-30 16:36:55 [scrapy.downloadermiddlewares.redirect] DEBUG: Redirecting (302) to <GET https://www.hugedomains.com/domain_profile.cfm?d=packagingspot&e=com> from <GET http://www.packagingspot.com>\n"
     ]
    },
    {
     "name": "stdout",
     "output_type": "stream",
     "text": [
      "site_url https://broadstrokeinc.com/ site_url_close ['https://broadstrokeinc.com/', 'https://britteninc.com/', 'https://airtrolinc.com/']\n",
      "site_url_close[0] https://broadstrokeinc.com/\n",
      "ii 159 self.companies[ii] Broadstroke\n",
      "out1 true iout1 122 url https://broadstrokeinc.com/\n",
      "companies[0] BagzDepot this url https://broadstrokeinc.com/\n"
     ]
    },
    {
     "name": "stderr",
     "output_type": "stream",
     "text": [
      "2021-11-30 16:36:56 [scrapy.core.downloader.tls] WARNING: Remote certificate is not valid for hostname \"www.breavery.com\"; VerificationError(errors=[DNSMismatch(mismatched_id=DNS_ID(hostname=b'www.breavery.com'))])\n",
      "2021-11-30 16:36:56 [scrapy.core.engine] DEBUG: Crawled (200) <GET https://stokestudio.com> (referer: None)\n",
      "2021-11-30 16:36:56 [scrapy.core.engine] DEBUG: Crawled (403) <GET https://www.breavery.com/> (referer: None)\n"
     ]
    },
    {
     "name": "stdout",
     "output_type": "stream",
     "text": [
      "site_url https://www.creatorslabel.com/password site_url_close ['https://www.creatorslabel.com', 'https://www.centurylabel.com/', 'https://www.creativelabels.com']\n",
      "site_url_close[0] https://www.creatorslabel.com\n",
      "ii 138 self.companies[ii] Creators Label\n",
      "out1 true iout1 123 url https://www.creatorslabel.com/password\n",
      "companies[0] Paxis this url https://www.creatorslabel.com/password\n"
     ]
    },
    {
     "name": "stderr",
     "output_type": "stream",
     "text": [
      "2021-11-30 16:36:56 [scrapy.downloadermiddlewares.redirect] DEBUG: Redirecting (301) to <GET https://mezzoprint.com/> from <GET http://mezzoprint.com>\n",
      "2021-11-30 16:36:56 [scrapy.spidermiddlewares.httperror] INFO: Ignoring response <403 https://www.breavery.com/>: HTTP status code is not handled or not allowed\n"
     ]
    },
    {
     "name": "stdout",
     "output_type": "stream",
     "text": [
      "site_url https://stokestudio.com site_url_close ['https://stokestudio.com', 'https://pistolstudios.com', 'https://www.hockstudio.com']\n",
      "site_url_close[0] https://stokestudio.com\n",
      "ii 161 self.companies[ii] Stoke Studio\n",
      "out1 true iout1 124 url https://stokestudio.com\n",
      "companies[0] Creators Label this url https://stokestudio.com\n"
     ]
    },
    {
     "name": "stderr",
     "output_type": "stream",
     "text": [
      "2021-11-30 16:36:57 [scrapy.core.engine] DEBUG: Crawled (200) <GET http://farfetchedcreations.com/> (referer: None)\n",
      "2021-11-30 16:36:57 [scrapy.core.engine] DEBUG: Crawled (200) <GET https://www.itwthermalfilms.com/> (referer: None)\n",
      "2021-11-30 16:36:57 [scrapy.core.engine] DEBUG: Crawled (200) <GET https://www.expresseventprinting.com:443/> (referer: None)\n"
     ]
    },
    {
     "name": "stdout",
     "output_type": "stream",
     "text": [
      "site_url http://farfetchedcreations.com/ site_url_close ['http://www.farfetchedcreations.com', 'http://kovatchcastings.com', 'https://acedesigns.com']\n",
      "site_url_close[0] http://www.farfetchedcreations.com\n",
      "ii 140 self.companies[ii] Far Fetched Creations\n",
      "out1 true iout1 125 url http://farfetchedcreations.com/\n",
      "companies[0] Radiance 4D this url http://farfetchedcreations.com/\n"
     ]
    },
    {
     "name": "stderr",
     "output_type": "stream",
     "text": [
      "2021-11-30 16:36:58 [scrapy.downloadermiddlewares.retry] DEBUG: Retrying <GET https://omnidragondevelopment.com> (failed 2 times): DNS lookup failed: no results for hostname lookup: omnidragondevelopment.com.\n"
     ]
    },
    {
     "name": "stdout",
     "output_type": "stream",
     "text": [
      "site_url https://www.itwthermalfilms.com/ site_url_close ['https://www.itwthermalfilms.com/', 'https://www.lettermans.com/', 'https://www.townemailer.com/']\n",
      "site_url_close[0] https://www.itwthermalfilms.com/\n",
      "ii 164 self.companies[ii] ITW Thermal Films\n",
      "out1 true iout1 126 url https://www.itwthermalfilms.com/\n",
      "companies[0] Far Fetched Creations this url https://www.itwthermalfilms.com/\n"
     ]
    },
    {
     "name": "stderr",
     "output_type": "stream",
     "text": [
      "2021-11-30 16:36:58 [scrapy.core.engine] DEBUG: Crawled (200) <GET https://quarterdecktech.com/> (referer: None)\n",
      "2021-11-30 16:36:58 [scrapy.core.engine] DEBUG: Crawled (200) <GET https://money-merch.com/> (referer: None)\n",
      "2021-11-30 16:36:58 [scrapy.core.engine] DEBUG: Crawled (200) <GET https://taffet.org> (referer: None)\n",
      "2021-11-30 16:36:58 [scrapy.downloadermiddlewares.retry] ERROR: Gave up retrying <GET http://www.grasp3d.co> (failed 3 times): DNS lookup failed: no results for hostname lookup: www.grasp3d.co.\n",
      "2021-11-30 16:36:58 [scrapy.downloadermiddlewares.retry] ERROR: Gave up retrying <GET https://www.repli.com> (failed 3 times): DNS lookup failed: no results for hostname lookup: www.repli.com.\n"
     ]
    },
    {
     "name": "stdout",
     "output_type": "stream",
     "text": [
      "site_url https://www.expresseventprinting.com:443/ site_url_close ['http://www.ExpressEventPrinting.com', 'https://www.screenprinting.com/', 'https://www.roseprinting.com/']\n",
      "site_url_close[0] http://www.ExpressEventPrinting.com\n",
      "ii 152 self.companies[ii] Express Event Printing\n",
      "out1 true iout1 127 url https://www.expresseventprinting.com:443/\n",
      "companies[0] Grasp this url https://www.expresseventprinting.com:443/\n"
     ]
    },
    {
     "name": "stderr",
     "output_type": "stream",
     "text": [
      "2021-11-30 16:36:59 [scrapy.core.scraper] ERROR: Error downloading <GET http://www.grasp3d.co>\n",
      "Traceback (most recent call last):\n",
      "  File \"C:\\Users\\MStopa\\AppData\\Local\\Continuum\\anaconda3\\envs\\webscrape\\lib\\site-packages\\twisted\\internet\\defer.py\", line 1416, in _inlineCallbacks\n",
      "    result = result.throwExceptionIntoGenerator(g)\n",
      "  File \"C:\\Users\\MStopa\\AppData\\Local\\Continuum\\anaconda3\\envs\\webscrape\\lib\\site-packages\\twisted\\python\\failure.py\", line 512, in throwExceptionIntoGenerator\n",
      "    return g.throw(self.type, self.value, self.tb)\n",
      "  File \"C:\\Users\\MStopa\\AppData\\Local\\Continuum\\anaconda3\\envs\\webscrape\\lib\\site-packages\\scrapy\\core\\downloader\\middleware.py\", line 44, in process_request\n",
      "    return (yield download_func(request=request, spider=spider))\n",
      "  File \"C:\\Users\\MStopa\\AppData\\Local\\Continuum\\anaconda3\\envs\\webscrape\\lib\\site-packages\\twisted\\internet\\defer.py\", line 654, in _runCallbacks\n",
      "    current.result = callback(current.result, *args, **kw)\n",
      "  File \"C:\\Users\\MStopa\\AppData\\Local\\Continuum\\anaconda3\\envs\\webscrape\\lib\\site-packages\\twisted\\internet\\endpoints.py\", line 982, in startConnectionAttempts\n",
      "    \"no results for hostname lookup: {}\".format(self._hostStr)\n",
      "twisted.internet.error.DNSLookupError: DNS lookup failed: no results for hostname lookup: www.grasp3d.co.\n",
      "2021-11-30 16:36:59 [scrapy.core.scraper] ERROR: Error downloading <GET https://www.repli.com>\n",
      "Traceback (most recent call last):\n",
      "  File \"C:\\Users\\MStopa\\AppData\\Local\\Continuum\\anaconda3\\envs\\webscrape\\lib\\site-packages\\twisted\\internet\\defer.py\", line 1416, in _inlineCallbacks\n",
      "    result = result.throwExceptionIntoGenerator(g)\n",
      "  File \"C:\\Users\\MStopa\\AppData\\Local\\Continuum\\anaconda3\\envs\\webscrape\\lib\\site-packages\\twisted\\python\\failure.py\", line 512, in throwExceptionIntoGenerator\n",
      "    return g.throw(self.type, self.value, self.tb)\n",
      "  File \"C:\\Users\\MStopa\\AppData\\Local\\Continuum\\anaconda3\\envs\\webscrape\\lib\\site-packages\\scrapy\\core\\downloader\\middleware.py\", line 44, in process_request\n",
      "    return (yield download_func(request=request, spider=spider))\n",
      "  File \"C:\\Users\\MStopa\\AppData\\Local\\Continuum\\anaconda3\\envs\\webscrape\\lib\\site-packages\\twisted\\internet\\defer.py\", line 654, in _runCallbacks\n",
      "    current.result = callback(current.result, *args, **kw)\n",
      "  File \"C:\\Users\\MStopa\\AppData\\Local\\Continuum\\anaconda3\\envs\\webscrape\\lib\\site-packages\\twisted\\internet\\endpoints.py\", line 982, in startConnectionAttempts\n",
      "    \"no results for hostname lookup: {}\".format(self._hostStr)\n",
      "twisted.internet.error.DNSLookupError: DNS lookup failed: no results for hostname lookup: www.repli.com.\n"
     ]
    },
    {
     "name": "stdout",
     "output_type": "stream",
     "text": [
      "site_url https://quarterdecktech.com/ site_url_close ['https://www.quarterdecktech.com', 'https://perfectetch.com', 'https://buchertech.com/']\n",
      "site_url_close[0] https://www.quarterdecktech.com\n",
      "ii 148 self.companies[ii] Quarterdeck Technologies\n",
      "out1 true iout1 128 url https://quarterdecktech.com/\n",
      "companies[0] BesJet Inc this url https://quarterdecktech.com/\n"
     ]
    },
    {
     "name": "stderr",
     "output_type": "stream",
     "text": [
      "2021-11-30 16:36:59 [scrapy.core.scraper] DEBUG: Scraped from <200 https://money-merch.com/>\r\n",
      "{'Organization': 'Money Merch',\n",
      " 'fulltext': 'Money Merch is a customer-oriented print and design company based in Orange, CA. They specialize in screen printing, embroidery, DTG printing, and fulfillment services for businesses, non-profit organizations, schools, bands, and sports leagues.',\n",
      " 'searchterm': 'screen printing',\n",
      " 'url': 'https://money-merch.com/'}\n"
     ]
    },
    {
     "name": "stdout",
     "output_type": "stream",
     "text": [
      "site_url https://money-merch.com/ site_url_close ['https://www.money-merch.com', 'https://rchq.com/', 'http://meyers.com']\n",
      "site_url_close[0] https://www.money-merch.com\n",
      "ii 147 self.companies[ii] Money Merch\n",
      "yielding item screen printing\n"
     ]
    },
    {
     "name": "stderr",
     "output_type": "stream",
     "text": [
      "2021-11-30 16:37:00 [scrapy.downloadermiddlewares.retry] DEBUG: Retrying <GET https://www.boxfavors.com> (failed 1 times): [<twisted.python.failure.Failure twisted.internet.error.ConnectionLost: Connection to the other side was lost in a non-clean fashion: Connection lost.>]\n"
     ]
    },
    {
     "name": "stdout",
     "output_type": "stream",
     "text": [
      "site_url https://taffet.org site_url_close ['https://taffet.org', 'http://aditiv.org', 'http://efi.org/']\n",
      "site_url_close[0] https://taffet.org\n",
      "ii 165 self.companies[ii] Taffet Associates\n",
      "out1 true iout1 129 url https://taffet.org\n",
      "companies[0] Inkpop this url https://taffet.org\n",
      "out1 true iout1 130 url https://money-merch.com/\n",
      "companies[0] Landi Industries this url https://money-merch.com/\n"
     ]
    },
    {
     "name": "stderr",
     "output_type": "stream",
     "text": [
      "2021-11-30 16:37:00 [scrapy.core.engine] DEBUG: Crawled (200) <GET https://www.mimeophotos.com> (referer: None)\n",
      "2021-11-30 16:37:00 [scrapy.downloadermiddlewares.redirect] DEBUG: Redirecting (302) to <GET http://www.customartdirect.com/> from <GET http://www.customartdirect.com>\n",
      "2021-11-30 16:37:00 [scrapy.core.engine] DEBUG: Crawled (200) <GET https://praxismfg.com/> (referer: None)\n",
      "2021-11-30 16:37:00 [scrapy.core.engine] DEBUG: Crawled (200) <GET https://nexus6.io/> (referer: None)\n",
      "2021-11-30 16:37:00 [scrapy.downloadermiddlewares.retry] ERROR: Gave up retrying <GET https://campaignelves.com> (failed 3 times): DNS lookup failed: no results for hostname lookup: campaignelves.com.\n"
     ]
    },
    {
     "name": "stdout",
     "output_type": "stream",
     "text": [
      "site_url https://www.mimeophotos.com site_url_close ['https://www.mimeophotos.com', 'https://www.lifephoto.com', 'http://www.mimeo.com']\n",
      "site_url_close[0] https://www.mimeophotos.com\n",
      "ii 170 self.companies[ii] Mimeo Photos\n",
      "out1 true iout1 131 url https://www.mimeophotos.com\n",
      "companies[0] ImprintNetwork this url https://www.mimeophotos.com\n"
     ]
    },
    {
     "name": "stderr",
     "output_type": "stream",
     "text": [
      "2021-11-30 16:37:01 [scrapy.core.engine] DEBUG: Crawled (200) <GET https://jpc-chicago.com/> (referer: None)\n",
      "2021-11-30 16:37:01 [scrapy.core.engine] DEBUG: Crawled (200) <GET http://americanplasmaenergy.com> (referer: None)\n",
      "2021-11-30 16:37:01 [scrapy.core.scraper] ERROR: Error downloading <GET https://campaignelves.com>\n",
      "Traceback (most recent call last):\n",
      "  File \"C:\\Users\\MStopa\\AppData\\Local\\Continuum\\anaconda3\\envs\\webscrape\\lib\\site-packages\\twisted\\internet\\defer.py\", line 1416, in _inlineCallbacks\n",
      "    result = result.throwExceptionIntoGenerator(g)\n",
      "  File \"C:\\Users\\MStopa\\AppData\\Local\\Continuum\\anaconda3\\envs\\webscrape\\lib\\site-packages\\twisted\\python\\failure.py\", line 512, in throwExceptionIntoGenerator\n",
      "    return g.throw(self.type, self.value, self.tb)\n",
      "  File \"C:\\Users\\MStopa\\AppData\\Local\\Continuum\\anaconda3\\envs\\webscrape\\lib\\site-packages\\scrapy\\core\\downloader\\middleware.py\", line 44, in process_request\n",
      "    return (yield download_func(request=request, spider=spider))\n",
      "  File \"C:\\Users\\MStopa\\AppData\\Local\\Continuum\\anaconda3\\envs\\webscrape\\lib\\site-packages\\twisted\\internet\\defer.py\", line 654, in _runCallbacks\n",
      "    current.result = callback(current.result, *args, **kw)\n",
      "  File \"C:\\Users\\MStopa\\AppData\\Local\\Continuum\\anaconda3\\envs\\webscrape\\lib\\site-packages\\twisted\\internet\\endpoints.py\", line 982, in startConnectionAttempts\n",
      "    \"no results for hostname lookup: {}\".format(self._hostStr)\n",
      "twisted.internet.error.DNSLookupError: DNS lookup failed: no results for hostname lookup: campaignelves.com.\n"
     ]
    },
    {
     "name": "stdout",
     "output_type": "stream",
     "text": [
      "site_url https://praxismfg.com/ site_url_close ['https://www.praxismfg.com/', 'https://crispimg.com/', 'http://printsf.com/']\n",
      "site_url_close[0] https://www.praxismfg.com/\n",
      "ii 151 self.companies[ii] Praxis Manufacturing Inc.\n",
      "out1 false iout2 17 url https://praxismfg.com/\n",
      "companies[0] Lakeshore Design this url https://praxismfg.com/\n"
     ]
    },
    {
     "name": "stderr",
     "output_type": "stream",
     "text": [
      "2021-11-30 16:37:01 [scrapy.core.engine] DEBUG: Crawled (200) <GET https://303signcompany.com/> (referer: None)\n"
     ]
    },
    {
     "name": "stdout",
     "output_type": "stream",
     "text": [
      "site_url https://nexus6.io/ site_url_close ['https://nexus6.io/', 'https://prinsta.io/', 'https://rednews.com/']\n",
      "site_url_close[0] https://nexus6.io/\n",
      "ii 168 self.companies[ii] Nexus 6\n",
      "out1 true iout1 132 url https://nexus6.io/\n",
      "companies[0] Money Merch this url https://nexus6.io/\n",
      "site_url https://jpc-chicago.com/ site_url_close ['https://jpc-chicago.com/', 'https://chickabug.com/', 'https://www.chicagotag.com/']\n",
      "site_url_close[0] https://jpc-chicago.com/\n",
      "ii 172 self.companies[ii] J Print Center Chicago\n",
      "out1 true iout1 133 url https://jpc-chicago.com/\n",
      "companies[0] Quarterdeck Technologies this url https://jpc-chicago.com/\n"
     ]
    },
    {
     "name": "stderr",
     "output_type": "stream",
     "text": [
      "2021-11-30 16:37:02 [scrapy.downloadermiddlewares.redirect] DEBUG: Redirecting (301) to <GET http://www.vivianhansen.com/> from <GET https://www.tworiverscreative.com>\n",
      "2021-11-30 16:37:02 [scrapy.downloadermiddlewares.retry] DEBUG: Retrying <GET http://www.kaiser3d.com> (failed 1 times): DNS lookup failed: no results for hostname lookup: www.kaiser3d.com.\n"
     ]
    },
    {
     "name": "stdout",
     "output_type": "stream",
     "text": [
      "site_url http://americanplasmaenergy.com site_url_close ['http://americanplasmaenergy.com', 'http://americanlabelguy.com/', 'https://www.americanstationery.com/']\n",
      "site_url_close[0] http://americanplasmaenergy.com\n",
      "ii 169 self.companies[ii] American Plasma Energy Group\n",
      "out1 true iout1 134 url http://americanplasmaenergy.com\n",
      "companies[0] Omni Dragon Development this url http://americanplasmaenergy.com\n"
     ]
    },
    {
     "name": "stderr",
     "output_type": "stream",
     "text": [
      "2021-11-30 16:37:02 [scrapy.core.engine] DEBUG: Crawled (200) <GET https://www.manufacturingtomorrow.com> (referer: None)\n",
      "2021-11-30 16:37:03 [scrapy.downloadermiddlewares.retry] DEBUG: Retrying <GET http://skwarts.com/en/> (failed 1 times): DNS lookup failed: no results for hostname lookup: skwarts.com.\n"
     ]
    },
    {
     "name": "stdout",
     "output_type": "stream",
     "text": [
      "site_url https://303signcompany.com/ site_url_close ['https://303signcompany.com/', 'https://310inc.com/', 'https://snco.com/']\n",
      "site_url_close[0] https://303signcompany.com/\n",
      "ii 174 self.companies[ii] 303 Sign Company\n",
      "out1 true iout1 135 url https://303signcompany.com/\n",
      "companies[0] Bridgeway Printing & Graphics this url https://303signcompany.com/\n"
     ]
    },
    {
     "name": "stderr",
     "output_type": "stream",
     "text": [
      "2021-11-30 16:37:03 [scrapy.core.engine] DEBUG: Crawled (200) <GET http://www.vantedsolutions.com/> (referer: None)\n",
      "2021-11-30 16:37:03 [scrapy.downloadermiddlewares.redirect] DEBUG: Redirecting (301) to <GET https://displaymakersny.com/> from <GET https://www.displaymakersny.com>\n"
     ]
    },
    {
     "name": "stdout",
     "output_type": "stream",
     "text": [
      "site_url https://www.manufacturingtomorrow.com site_url_close ['https://www.manufacturingtomorrow.com', 'http://www.acmanufacturing.com', 'https://www.escomanufacturing.com/']\n",
      "site_url_close[0] https://www.manufacturingtomorrow.com\n",
      "ii 176 self.companies[ii] Manufacturing Tomorrow\n",
      "out1 true iout1 136 url https://www.manufacturingtomorrow.com\n",
      "companies[0] Praxis Manufacturing Inc. this url https://www.manufacturingtomorrow.com\n"
     ]
    },
    {
     "name": "stderr",
     "output_type": "stream",
     "text": [
      "2021-11-30 16:37:04 [scrapy.core.scraper] ERROR: Spider error processing <GET http://www.vantedsolutions.com/> (referer: None)\n",
      "Traceback (most recent call last):\n",
      "  File \"C:\\Users\\MStopa\\AppData\\Local\\Continuum\\anaconda3\\envs\\webscrape\\lib\\site-packages\\scrapy\\utils\\defer.py\", line 120, in iter_errback\n",
      "    yield next(it)\n",
      "  File \"C:\\Users\\MStopa\\AppData\\Local\\Continuum\\anaconda3\\envs\\webscrape\\lib\\site-packages\\scrapy\\utils\\python.py\", line 346, in __next__\n",
      "    return next(self.data)\n",
      "  File \"C:\\Users\\MStopa\\AppData\\Local\\Continuum\\anaconda3\\envs\\webscrape\\lib\\site-packages\\scrapy\\utils\\python.py\", line 346, in __next__\n",
      "    return next(self.data)\n",
      "  File \"C:\\Users\\MStopa\\AppData\\Local\\Continuum\\anaconda3\\envs\\webscrape\\lib\\site-packages\\scrapy\\core\\spidermw.py\", line 64, in _evaluate_iterable\n",
      "    for r in iterable:\n",
      "  File \"C:\\Users\\MStopa\\AppData\\Local\\Continuum\\anaconda3\\envs\\webscrape\\lib\\site-packages\\scrapy\\spidermiddlewares\\offsite.py\", line 29, in process_spider_output\n",
      "    for x in result:\n",
      "  File \"C:\\Users\\MStopa\\AppData\\Local\\Continuum\\anaconda3\\envs\\webscrape\\lib\\site-packages\\scrapy\\core\\spidermw.py\", line 64, in _evaluate_iterable\n",
      "    for r in iterable:\n",
      "  File \"C:\\Users\\MStopa\\AppData\\Local\\Continuum\\anaconda3\\envs\\webscrape\\lib\\site-packages\\scrapy\\spidermiddlewares\\referer.py\", line 340, in <genexpr>\n",
      "    return (_set_referer(r) for r in result or ())\n",
      "  File \"C:\\Users\\MStopa\\AppData\\Local\\Continuum\\anaconda3\\envs\\webscrape\\lib\\site-packages\\scrapy\\core\\spidermw.py\", line 64, in _evaluate_iterable\n",
      "    for r in iterable:\n",
      "  File \"C:\\Users\\MStopa\\AppData\\Local\\Continuum\\anaconda3\\envs\\webscrape\\lib\\site-packages\\scrapy\\spidermiddlewares\\urllength.py\", line 37, in <genexpr>\n",
      "    return (r for r in result or () if _filter(r))\n",
      "  File \"C:\\Users\\MStopa\\AppData\\Local\\Continuum\\anaconda3\\envs\\webscrape\\lib\\site-packages\\scrapy\\core\\spidermw.py\", line 64, in _evaluate_iterable\n",
      "    for r in iterable:\n",
      "  File \"C:\\Users\\MStopa\\AppData\\Local\\Continuum\\anaconda3\\envs\\webscrape\\lib\\site-packages\\scrapy\\spidermiddlewares\\depth.py\", line 58, in <genexpr>\n",
      "    return (r for r in result or () if _filter(r))\n",
      "  File \"C:\\Users\\MStopa\\AppData\\Local\\Continuum\\anaconda3\\envs\\webscrape\\lib\\site-packages\\scrapy\\core\\spidermw.py\", line 64, in _evaluate_iterable\n",
      "    for r in iterable:\n",
      "  File \"<ipython-input-9-10a30e00531c>\", line 132, in parse\n",
      "    file1.write(out2 + '\\n')\n",
      "  File \"C:\\Users\\MStopa\\AppData\\Local\\Continuum\\anaconda3\\envs\\webscrape\\lib\\encodings\\cp1252.py\", line 19, in encode\n",
      "    return codecs.charmap_encode(input,self.errors,encoding_table)[0]\n",
      "UnicodeEncodeError: 'charmap' codec can't encode character '\\u200b' in position 32: character maps to <undefined>\n",
      "2021-11-30 16:37:04 [scrapy.core.engine] DEBUG: Crawled (200) <GET https://3dcgstore.com> (referer: None)\n",
      "2021-11-30 16:37:04 [scrapy.core.engine] DEBUG: Crawled (200) <GET https://printersusa.com/> (referer: None)\n",
      "2021-11-30 16:37:04 [scrapy.downloadermiddlewares.retry] ERROR: Gave up retrying <GET https://www.radiance4d.com/> (failed 3 times): DNS lookup failed: no results for hostname lookup: www.radiance4d.com.\n"
     ]
    },
    {
     "name": "stdout",
     "output_type": "stream",
     "text": [
      "site_url http://www.vantedsolutions.com/ site_url_close ['http://www.vantedsolutions.com/', 'http://www.vupointsolutions.com/', 'https://www.tryadsolutions.com/']\n",
      "site_url_close[0] http://www.vantedsolutions.com/\n",
      "ii 178 self.companies[ii] ​Vanted Solutions\n",
      "out1 true iout1 137 url http://www.vantedsolutions.com/\n"
     ]
    },
    {
     "name": "stderr",
     "output_type": "stream",
     "text": [
      "2021-11-30 16:37:04 [scrapy.core.engine] DEBUG: Crawled (200) <GET https://www.michaelschupbach.com> (referer: None)\n",
      "2021-11-30 16:37:04 [scrapy.core.engine] DEBUG: Crawled (200) <GET https://sedo.com/search/details/?partnerid=324561&language=us&domain=brysk.com&origin=sales_lander_10&utm_medium=Parking&utm_campaign=offerpage> (referer: None)\n",
      "2021-11-30 16:37:04 [scrapy.core.scraper] ERROR: Error downloading <GET https://www.radiance4d.com/>\n",
      "Traceback (most recent call last):\n",
      "  File \"C:\\Users\\MStopa\\AppData\\Local\\Continuum\\anaconda3\\envs\\webscrape\\lib\\site-packages\\twisted\\internet\\defer.py\", line 1416, in _inlineCallbacks\n",
      "    result = result.throwExceptionIntoGenerator(g)\n",
      "  File \"C:\\Users\\MStopa\\AppData\\Local\\Continuum\\anaconda3\\envs\\webscrape\\lib\\site-packages\\twisted\\python\\failure.py\", line 512, in throwExceptionIntoGenerator\n",
      "    return g.throw(self.type, self.value, self.tb)\n",
      "  File \"C:\\Users\\MStopa\\AppData\\Local\\Continuum\\anaconda3\\envs\\webscrape\\lib\\site-packages\\scrapy\\core\\downloader\\middleware.py\", line 44, in process_request\n",
      "    return (yield download_func(request=request, spider=spider))\n",
      "  File \"C:\\Users\\MStopa\\AppData\\Local\\Continuum\\anaconda3\\envs\\webscrape\\lib\\site-packages\\twisted\\internet\\defer.py\", line 654, in _runCallbacks\n",
      "    current.result = callback(current.result, *args, **kw)\n",
      "  File \"C:\\Users\\MStopa\\AppData\\Local\\Continuum\\anaconda3\\envs\\webscrape\\lib\\site-packages\\twisted\\internet\\endpoints.py\", line 982, in startConnectionAttempts\n",
      "    \"no results for hostname lookup: {}\".format(self._hostStr)\n",
      "twisted.internet.error.DNSLookupError: DNS lookup failed: no results for hostname lookup: www.radiance4d.com.\n"
     ]
    },
    {
     "name": "stdout",
     "output_type": "stream",
     "text": [
      "site_url https://3dcgstore.com site_url_close ['https://3dcgstore.com', 'https://signstore.com/', 'http://ncore.com']\n",
      "site_url_close[0] https://3dcgstore.com\n",
      "ii 166 self.companies[ii] 3dcgstore\n",
      "out1 true iout1 138 url https://3dcgstore.com\n",
      "companies[0] Express Event Printing this url https://3dcgstore.com\n",
      "site_url https://printersusa.com/ site_url_close ['https://printersusa.com/', 'https://pjprinters.com/', 'https://llprinters.com/']\n",
      "site_url_close[0] https://printersusa.com/\n",
      "ii 180 self.companies[ii] PrintersUSA\n",
      "out1 true iout1 139 url https://printersusa.com/\n",
      "companies[0] Singularity Design this url https://printersusa.com/\n",
      "site_url https://www.michaelschupbach.com site_url_close ['https://www.michaelschupbach.com', 'https://www.americanchurch.com', 'https://www.murach.com/']\n",
      "site_url_close[0] https://www.michaelschupbach.com\n",
      "ii 181 self.companies[ii] MICHAELSCHUPBACH.COM\n",
      "out1 true iout1 140 url https://www.michaelschupbach.com\n",
      "companies[0] Matthews Design Group this url https://www.michaelschupbach.com\n"
     ]
    },
    {
     "name": "stderr",
     "output_type": "stream",
     "text": [
      "2021-11-30 16:37:06 [scrapy.downloadermiddlewares.redirect] DEBUG: Redirecting (301) to <GET https://www.shutterfly.com:443/> from <GET http://www.shutterfly.com/>\n",
      "2021-11-30 16:37:06 [scrapy.downloadermiddlewares.redirect] DEBUG: Redirecting (301) to <GET https://www.complex.com/> from <GET http://www.complex.com/>\n"
     ]
    },
    {
     "name": "stdout",
     "output_type": "stream",
     "text": [
      "site_url https://sedo.com/search/details/?partnerid=324561&language=us&domain=brysk.com&origin=sales_lander_10&utm_medium=Parking&utm_campaign=offerpage site_url_close ['http://www.bannerbuzz.com/?utm_source=gbl&utm_medium=organic&utm_campaign=gbl_organic', 'https://www.pettitnetwork.com/index.html', 'https://www.enterprisenetworkingmag.com/']\n",
      "site_url_close[0] http://www.bannerbuzz.com/?utm_source=gbl&utm_medium=organic&utm_campaign=gbl_organic\n",
      "ii 3703 self.companies[ii] BannerBuzz\n",
      "out1 true iout1 141 url https://sedo.com/search/details/?partnerid=324561&language=us&domain=brysk.com&origin=sales_lander_10&utm_medium=Parking&utm_campaign=offerpage\n",
      "companies[0] ALTIUS Graphics this url https://sedo.com/search/details/?partnerid=324561&language=us&domain=brysk.com&origin=sales_lander_10&utm_medium=Parking&utm_campaign=offerpage\n"
     ]
    },
    {
     "name": "stderr",
     "output_type": "stream",
     "text": [
      "2021-11-30 16:37:07 [scrapy.downloadermiddlewares.redirect] DEBUG: Redirecting (302) to <GET https://designseedco.com/en/> from <GET https://designseedco.com/>\n",
      "2021-11-30 16:37:07 [scrapy.core.engine] DEBUG: Crawled (200) <GET https://www.hugedomains.com/domain_profile.cfm?d=packagingspot&e=com> (referer: None)\n",
      "2021-11-30 16:37:07 [scrapy.downloadermiddlewares.retry] DEBUG: Retrying <GET https://www.boxfavors.com> (failed 2 times): [<twisted.python.failure.Failure twisted.internet.error.ConnectionLost: Connection to the other side was lost in a non-clean fashion: Connection lost.>]\n",
      "2021-11-30 16:37:07 [scrapy.core.engine] DEBUG: Crawled (200) <GET https://www.customink.com/> (referer: None)\n",
      "2021-11-30 16:37:07 [scrapy.core.engine] DEBUG: Crawled (200) <GET https://marylandprinthouse.com> (referer: None)\n",
      "2021-11-30 16:37:07 [scrapy.downloadermiddlewares.redirect] DEBUG: Redirecting (301) to <GET https://www.swagship.com/> from <GET https://mezzoprint.com/>\n"
     ]
    },
    {
     "name": "stdout",
     "output_type": "stream",
     "text": [
      "site_url https://www.hugedomains.com/domain_profile.cfm?d=packagingspot&e=com site_url_close ['https://urgentboxes.com/candle-packaging', 'https://www.emenacpackaging.com', 'http://www.packagingspot.com']\n",
      "site_url_close[0] https://urgentboxes.com/candle-packaging\n",
      "ii 4230 self.companies[ii] candle boxes\n",
      "out1 true iout1 142 url https://www.hugedomains.com/domain_profile.cfm?d=packagingspot&e=com\n",
      "companies[0] Brysk this url https://www.hugedomains.com/domain_profile.cfm?d=packagingspot&e=com\n",
      "site_url https://www.customink.com/ site_url_close ['https://www.customink.com/', 'https://www.customsticker.com/', 'http://www.focusink.com/']\n",
      "site_url_close[0] https://www.customink.com/\n",
      "ii 187 self.companies[ii] Custom Ink\n",
      "out1 true iout1 143 url https://www.customink.com/\n",
      "companies[0] Flyleaf this url https://www.customink.com/\n"
     ]
    },
    {
     "name": "stderr",
     "output_type": "stream",
     "text": [
      "2021-11-30 16:37:08 [scrapy.core.engine] DEBUG: Crawled (200) <GET http://www.customartdirect.com/> (referer: None)\n",
      "2021-11-30 16:37:08 [scrapy.core.engine] DEBUG: Crawled (200) <GET https://vlmpress.com/?fbclid=IwAR2o0fPkyTmUwMPcTW57HoJflF6piOLOXLuSRgkv2R71WrE5frwy2K3jKq4> (referer: None)\n",
      "2021-11-30 16:37:08 [scrapy.downloadermiddlewares.retry] ERROR: Gave up retrying <GET https://omnidragondevelopment.com> (failed 3 times): DNS lookup failed: no results for hostname lookup: omnidragondevelopment.com.\n"
     ]
    },
    {
     "name": "stdout",
     "output_type": "stream",
     "text": [
      "site_url https://marylandprinthouse.com site_url_close ['https://marylandprinthouse.com', 'https://www.printhouse.com/', 'http://murrayprintshop.com']\n",
      "site_url_close[0] https://marylandprinthouse.com\n",
      "ii 185 self.companies[ii] Maryland Print House\n",
      "out1 true iout1 144 url https://marylandprinthouse.com\n",
      "companies[0] Diamond Cube Promo this url https://marylandprinthouse.com\n"
     ]
    },
    {
     "name": "stderr",
     "output_type": "stream",
     "text": [
      "2021-11-30 16:37:09 [scrapy.core.engine] DEBUG: Crawled (200) <GET https://www.empiregroupusa.com> (referer: None)\n",
      "2021-11-30 16:37:09 [scrapy.downloadermiddlewares.redirect] DEBUG: Redirecting (301) to <GET https://www.monotype.com/> from <GET http://www.monotype.com/>\n",
      "2021-11-30 16:37:09 [scrapy.core.scraper] ERROR: Error downloading <GET https://omnidragondevelopment.com>\n",
      "Traceback (most recent call last):\n",
      "  File \"C:\\Users\\MStopa\\AppData\\Local\\Continuum\\anaconda3\\envs\\webscrape\\lib\\site-packages\\twisted\\internet\\defer.py\", line 1416, in _inlineCallbacks\n",
      "    result = result.throwExceptionIntoGenerator(g)\n",
      "  File \"C:\\Users\\MStopa\\AppData\\Local\\Continuum\\anaconda3\\envs\\webscrape\\lib\\site-packages\\twisted\\python\\failure.py\", line 512, in throwExceptionIntoGenerator\n",
      "    return g.throw(self.type, self.value, self.tb)\n",
      "  File \"C:\\Users\\MStopa\\AppData\\Local\\Continuum\\anaconda3\\envs\\webscrape\\lib\\site-packages\\scrapy\\core\\downloader\\middleware.py\", line 44, in process_request\n",
      "    return (yield download_func(request=request, spider=spider))\n",
      "  File \"C:\\Users\\MStopa\\AppData\\Local\\Continuum\\anaconda3\\envs\\webscrape\\lib\\site-packages\\twisted\\internet\\defer.py\", line 654, in _runCallbacks\n",
      "    current.result = callback(current.result, *args, **kw)\n",
      "  File \"C:\\Users\\MStopa\\AppData\\Local\\Continuum\\anaconda3\\envs\\webscrape\\lib\\site-packages\\twisted\\internet\\endpoints.py\", line 982, in startConnectionAttempts\n",
      "    \"no results for hostname lookup: {}\".format(self._hostStr)\n",
      "twisted.internet.error.DNSLookupError: DNS lookup failed: no results for hostname lookup: omnidragondevelopment.com.\n"
     ]
    },
    {
     "name": "stdout",
     "output_type": "stream",
     "text": [
      "site_url http://www.customartdirect.com/ site_url_close ['http://www.customartdirect.com', 'https://www.thomasdirect.com/', 'http://www.cprdirect.com/']\n",
      "site_url_close[0] http://www.customartdirect.com\n",
      "ii 173 self.companies[ii] Custom Art Direct\n",
      "out1 true iout1 145 url http://www.customartdirect.com/\n",
      "companies[0] Broadstroke this url http://www.customartdirect.com/\n"
     ]
    },
    {
     "name": "stderr",
     "output_type": "stream",
     "text": [
      "2021-11-30 16:37:09 [scrapy.downloadermiddlewares.redirect] DEBUG: Redirecting (301) to <GET https://www.mimeo.com/> from <GET http://www.mimeo.com>\n"
     ]
    },
    {
     "name": "stdout",
     "output_type": "stream",
     "text": [
      "site_url https://vlmpress.com/?fbclid=IwAR2o0fPkyTmUwMPcTW57HoJflF6piOLOXLuSRgkv2R71WrE5frwy2K3jKq4 site_url_close ['https://vlmpress.com/?fbclid=IwAR2o0fPkyTmUwMPcTW57HoJflF6piOLOXLuSRgkv2R71WrE5frwy2K3jKq4', 'http://matrix-press.com/index.html', 'https://lanepress.com/']\n",
      "site_url_close[0] https://vlmpress.com/?fbclid=IwAR2o0fPkyTmUwMPcTW57HoJflF6piOLOXLuSRgkv2R71WrE5frwy2K3jKq4\n",
      "ii 183 self.companies[ii] VLM Press\n",
      "out1 true iout1 146 url https://vlmpress.com/?fbclid=IwAR2o0fPkyTmUwMPcTW57HoJflF6piOLOXLuSRgkv2R71WrE5frwy2K3jKq4\n",
      "companies[0] PackagingSpot this url https://vlmpress.com/?fbclid=IwAR2o0fPkyTmUwMPcTW57HoJflF6piOLOXLuSRgkv2R71WrE5frwy2K3jKq4\n"
     ]
    },
    {
     "name": "stderr",
     "output_type": "stream",
     "text": [
      "2021-11-30 16:37:10 [scrapy.core.scraper] DEBUG: Scraped from <200 https://www.empiregroupusa.com>\n",
      "{'Organization': 'Empire Group',\n",
      " 'fulltext': 'Empire Group is a full-service product development company that enhances your ability to move with speed and confidence through ALL stages of development by providing customized solutions in design, engineering, prototyping, graphic design, and manufacturing. For over 20 years, we have been a trusted and dependable partner for our customers. Companies on the East Coast, and across the US, that are in the consumer goods, defense, medical device, aerospace/aviation, juvenile, and toy industries rely on us for our knowledge, experience, and wide range of services. At Empire Group, product development is in our DNA. We eat, sleep, and breathe it every day. From design to manufacturing, and every iteration in between, Empire Group takes on the challenges of product development, so our customers have the freedom to create brilliant products, iterate design to perfection, and accelerate speed to market. **Empire Group is an ITAR Registered & ISO 9001:2015 Certified Company.** We provide solutions for product design & engineering, prototype development, rapid manufacturing, branding & packaging. SERVICES: Industrial Design, CNC Machining, Engineering, Industrial & High Performance 3D Printing, Additive Manufacturing, Prototyping, Graphic Design, RTV Molds & Casting, Thermoforming, Custom Finishing, Event Displays',\n",
      " 'searchterm': 'additive manufacturing',\n",
      " 'url': 'https://www.empiregroupusa.com'}\n",
      "2021-11-30 16:37:10 [scrapy.downloadermiddlewares.redirect] DEBUG: Redirecting (301) to <GET https://www.protolabs.com/> from <GET http://www.protolabs.com/>\n",
      "2021-11-30 16:37:10 [scrapy.downloadermiddlewares.redirect] DEBUG: Redirecting (301) to <GET https://www.theepochtimes.com/> from <GET http://www.theepochtimes.com>\n",
      "2021-11-30 16:37:10 [scrapy.core.engine] DEBUG: Crawled (200) <GET http://telaztec.com> (referer: None)\n"
     ]
    },
    {
     "name": "stdout",
     "output_type": "stream",
     "text": [
      "site_url https://www.empiregroupusa.com site_url_close ['https://www.empiregroupusa.com', 'https://www.ppigroup.com/', 'https://www.metrobusma.com']\n",
      "site_url_close[0] https://www.empiregroupusa.com\n",
      "ii 189 self.companies[ii] Empire Group\n",
      "yielding item additive manufacturing\n",
      "out1 true iout1 147 url https://www.empiregroupusa.com\n",
      "companies[0] Stoke Studio this url https://www.empiregroupusa.com\n"
     ]
    },
    {
     "name": "stderr",
     "output_type": "stream",
     "text": [
      "2021-11-30 16:37:10 [scrapy.downloadermiddlewares.redirect] DEBUG: Redirecting (301) to <GET https://www.printbusinesscards.com/> from <GET http://www.PrintBusinessCards.com>\n"
     ]
    },
    {
     "name": "stdout",
     "output_type": "stream",
     "text": [
      "site_url http://telaztec.com site_url_close ['http://telaztec.com', 'http://falatech.com', 'http://eezitec.com/']\n",
      "site_url_close[0] http://telaztec.com\n",
      "ii 194 self.companies[ii] TelAztec\n",
      "out1 true iout1 148 url http://telaztec.com\n",
      "companies[0] Bre Avery this url http://telaztec.com\n"
     ]
    },
    {
     "name": "stderr",
     "output_type": "stream",
     "text": [
      "2021-11-30 16:37:11 [scrapy.downloadermiddlewares.redirect] DEBUG: Redirecting (301) to <GET https://www.stickergiant.com:443/> from <GET http://www.stickergiant.com/>\n",
      "2021-11-30 16:37:11 [scrapy.core.engine] DEBUG: Crawled (200) <GET http://www.vivianhansen.com/> (referer: None)\n",
      "2021-11-30 16:37:11 [scrapy.core.engine] DEBUG: Crawled (200) <GET https://displaymakersny.com/> (referer: None)\n",
      "2021-11-30 16:37:11 [scrapy.downloadermiddlewares.retry] DEBUG: Retrying <GET http://skwarts.com/en/> (failed 2 times): DNS lookup failed: no results for hostname lookup: skwarts.com.\n"
     ]
    },
    {
     "name": "stdout",
     "output_type": "stream",
     "text": [
      "site_url http://www.vivianhansen.com/ site_url_close ['https://www.hazen.com/', 'http://www.savane.com/', 'http://www.ginsey.com/']\n",
      "site_url_close[0] https://www.hazen.com/\n",
      "ii 3270 self.companies[ii] Hazen Paper Company\n",
      "out1 true iout1 149 url http://www.vivianhansen.com/\n",
      "companies[0] MezzoPrint this url http://www.vivianhansen.com/\n",
      "site_url https://displaymakersny.com/ site_url_close ['https://www.displaymakersny.com', 'https://supplymaster.com/', 'https://makeros.com/']\n",
      "site_url_close[0] https://www.displaymakersny.com\n",
      "ii 177 self.companies[ii] Display Makers\n",
      "out1 false iout2 18 url https://displaymakersny.com/\n",
      "companies[0] ITW Thermal Films this url https://displaymakersny.com/\n"
     ]
    },
    {
     "name": "stderr",
     "output_type": "stream",
     "text": [
      "2021-11-30 16:37:12 [scrapy.downloadermiddlewares.redirect] DEBUG: Redirecting (302) to <GET https://www.circlegraphicsonline.com/> from <GET http://www.circlegraphicsonline.com/>\n",
      "2021-11-30 16:37:12 [scrapy.core.engine] DEBUG: Crawled (200) <GET https://www.123calendars.com> (referer: None)\n",
      "2021-11-30 16:37:13 [scrapy.downloadermiddlewares.retry] DEBUG: Retrying <GET http://www.kaiser3d.com> (failed 2 times): DNS lookup failed: no results for hostname lookup: www.kaiser3d.com.\n",
      "2021-11-30 16:37:13 [scrapy.downloadermiddlewares.redirect] DEBUG: Redirecting (301) to <GET https://hgrinc.com/> from <GET http://hgrinc.com>\n"
     ]
    },
    {
     "name": "stdout",
     "output_type": "stream",
     "text": [
      "site_url https://www.123calendars.com site_url_close ['https://www.123calendars.com', 'http://www.calendarsystems.com', 'https://www.handgards.com/']\n",
      "site_url_close[0] https://www.123calendars.com\n",
      "ii 198 self.companies[ii] Printable Calendars\n",
      "out1 true iout1 150 url https://www.123calendars.com\n",
      "companies[0] Taffet Associates this url https://www.123calendars.com\n"
     ]
    },
    {
     "name": "stderr",
     "output_type": "stream",
     "text": [
      "2021-11-30 16:37:15 [scrapy.core.engine] DEBUG: Crawled (200) <GET https://www.shutterfly.com:443/> (referer: None)\n",
      "2021-11-30 16:37:16 [scrapy.core.engine] DEBUG: Crawled (200) <GET https://designseedco.com/en/> (referer: None)\n"
     ]
    },
    {
     "name": "stdout",
     "output_type": "stream",
     "text": [
      "site_url https://www.shutterfly.com:443/ site_url_close ['http://www.shutterfly.com/', 'http://www.ShutterCal.com', 'http://www.herley.com']\n",
      "site_url_close[0] http://www.shutterfly.com/\n",
      "ii 186 self.companies[ii] Shutterfly\n",
      "out1 false iout2 19 url https://www.shutterfly.com:443/\n",
      "companies[0] 3dcgstore this url https://www.shutterfly.com:443/\n"
     ]
    },
    {
     "name": "stderr",
     "output_type": "stream",
     "text": [
      "2021-11-30 16:37:16 [scrapy.downloadermiddlewares.redirect] DEBUG: Redirecting (301) to <GET https://www.epac.com/> from <GET http://www.epac.com>\n",
      "2021-11-30 16:37:16 [scrapy.extensions.logstats] INFO: Crawled 177 pages (at 108 pages/min), scraped 16 items (at 9 items/min)\n",
      "2021-11-30 16:37:16 [scrapy.downloadermiddlewares.redirect] DEBUG: Redirecting (301) to <GET https://idxcorporation.com/> from <GET http://idxcorporation.com>\n"
     ]
    },
    {
     "name": "stdout",
     "output_type": "stream",
     "text": [
      "site_url https://designseedco.com/en/ site_url_close ['https://designseedco.com/', 'https://hdesign.com/', 'https://designerts.com/']\n",
      "site_url_close[0] https://designseedco.com/\n",
      "ii 184 self.companies[ii] DesignSeed\n",
      "out1 true iout1 151 url https://designseedco.com/en/\n",
      "companies[0] BoxFavors this url https://designseedco.com/en/\n"
     ]
    },
    {
     "name": "stderr",
     "output_type": "stream",
     "text": [
      "2021-11-30 16:37:17 [scrapy.core.engine] DEBUG: Crawled (200) <GET https://www.swagship.com/> (referer: None)\n",
      "2021-11-30 16:37:17 [scrapy.core.engine] DEBUG: Crawled (200) <GET https://www.complex.com/> (referer: None)\n"
     ]
    },
    {
     "name": "stdout",
     "output_type": "stream",
     "text": [
      "site_url https://www.swagship.com/ site_url_close ['https://www.swagup.com/', 'https://www.asiga.com/', 'https://www.agink.com/']\n",
      "site_url_close[0] https://www.swagup.com/\n",
      "ii 28 self.companies[ii] SwagUp\n",
      "out1 true iout1 152 url https://www.swagship.com/\n",
      "companies[0] Nexus 6 this url https://www.swagship.com/\n",
      "site_url https://www.complex.com/ site_url_close ['http://www.complex.com/', 'https://www.docuplex.com/', 'https://www.goex.com/']\n",
      "site_url_close[0] http://www.complex.com/\n",
      "ii 188 self.companies[ii] Complex\n",
      "out1 true iout1 153 url https://www.complex.com/\n",
      "companies[0] American Plasma Energy Group this url https://www.complex.com/\n"
     ]
    },
    {
     "name": "stderr",
     "output_type": "stream",
     "text": [
      "2021-11-30 16:37:18 [scrapy.core.engine] DEBUG: Crawled (200) <GET https://www.ezprints.com/> (referer: None)\n",
      "2021-11-30 16:37:18 [scrapy.downloadermiddlewares.redirect] DEBUG: Redirecting (301) to <GET https://anchorsemi.com/> from <GET http://www.anchorsemi.com>\n",
      "2021-11-30 16:37:18 [scrapy.downloadermiddlewares.retry] ERROR: Gave up retrying <GET https://www.boxfavors.com> (failed 3 times): [<twisted.python.failure.Failure twisted.internet.error.ConnectionLost: Connection to the other side was lost in a non-clean fashion: Connection lost.>]\n"
     ]
    },
    {
     "name": "stdout",
     "output_type": "stream",
     "text": [
      "site_url https://www.ezprints.com/ site_url_close ['https://www.ezprints.com/', 'https://www.acmeprints.com', 'https://www.psprint.com/']\n",
      "site_url_close[0] https://www.ezprints.com/\n",
      "ii 202 self.companies[ii] EZ Prints\n",
      "out1 true iout1 154 url https://www.ezprints.com/\n",
      "companies[0] Mimeo Photos this url https://www.ezprints.com/\n"
     ]
    },
    {
     "name": "stderr",
     "output_type": "stream",
     "text": [
      "2021-11-30 16:37:18 [scrapy.core.scraper] ERROR: Error downloading <GET https://www.boxfavors.com>\n",
      "Traceback (most recent call last):\n",
      "  File \"C:\\Users\\MStopa\\AppData\\Local\\Continuum\\anaconda3\\envs\\webscrape\\lib\\site-packages\\scrapy\\core\\downloader\\middleware.py\", line 44, in process_request\n",
      "    return (yield download_func(request=request, spider=spider))\n",
      "twisted.web._newclient.ResponseNeverReceived: [<twisted.python.failure.Failure twisted.internet.error.ConnectionLost: Connection to the other side was lost in a non-clean fashion: Connection lost.>]\n",
      "2021-11-30 16:37:19 [scrapy.downloadermiddlewares.redirect] DEBUG: Redirecting (301) to <GET https://www.createspace.com/> from <GET http://www.booksurge.com>\n",
      "2021-11-30 16:37:19 [scrapy.downloadermiddlewares.redirect] DEBUG: Redirecting (302) to <GET https://4over.com/> from <GET http://4over.com>\n",
      "2021-11-30 16:37:19 [scrapy.core.engine] DEBUG: Crawled (200) <GET https://www.printbusinesscards.com/> (referer: None)\n",
      "2021-11-30 16:37:19 [scrapy.core.engine] DEBUG: Crawled (200) <GET https://www.circlegraphicsonline.com/> (referer: None)\n",
      "2021-11-30 16:37:19 [scrapy.core.engine] DEBUG: Crawled (200) <GET https://www.monotype.com/> (referer: None)\n"
     ]
    },
    {
     "name": "stdout",
     "output_type": "stream",
     "text": [
      "site_url https://www.printbusinesscards.com/ site_url_close ['http://www.PrintBusinessCards.com', 'https://www.1800businesscards.com', 'https://www.printhouse.com/']\n",
      "site_url_close[0] http://www.PrintBusinessCards.com\n",
      "ii 195 self.companies[ii] Color Card Administrator\n",
      "out1 false iout2 20 url https://www.printbusinesscards.com/\n",
      "companies[0] VoordenBakker Communicatie this url https://www.printbusinesscards.com/\n",
      "site_url https://www.circlegraphicsonline.com/ site_url_close ['http://www.circlegraphicsonline.com/', 'https://www.graphcoline.com/', 'https://www.acegraphics.com/']\n",
      "site_url_close[0] http://www.circlegraphicsonline.com/\n",
      "ii 197 self.companies[ii] Circle Graphics\n",
      "out1 true iout1 155 url https://www.circlegraphicsonline.com/\n",
      "companies[0] J Print Center Chicago this url https://www.circlegraphicsonline.com/\n"
     ]
    },
    {
     "name": "stderr",
     "output_type": "stream",
     "text": [
      "2021-11-30 16:37:20 [scrapy.downloadermiddlewares.redirect] DEBUG: Redirecting (301) to <GET https://liteye.com/> from <GET http://liteye.com/>\n",
      "2021-11-30 16:37:20 [scrapy.downloadermiddlewares.retry] ERROR: Gave up retrying <GET http://skwarts.com/en/> (failed 3 times): DNS lookup failed: no results for hostname lookup: skwarts.com.\n",
      "2021-11-30 16:37:20 [scrapy.core.scraper] ERROR: Error downloading <GET http://skwarts.com/en/>\n",
      "Traceback (most recent call last):\n",
      "  File \"C:\\Users\\MStopa\\AppData\\Local\\Continuum\\anaconda3\\envs\\webscrape\\lib\\site-packages\\twisted\\internet\\defer.py\", line 1416, in _inlineCallbacks\n",
      "    result = result.throwExceptionIntoGenerator(g)\n",
      "  File \"C:\\Users\\MStopa\\AppData\\Local\\Continuum\\anaconda3\\envs\\webscrape\\lib\\site-packages\\twisted\\python\\failure.py\", line 512, in throwExceptionIntoGenerator\n",
      "    return g.throw(self.type, self.value, self.tb)\n",
      "  File \"C:\\Users\\MStopa\\AppData\\Local\\Continuum\\anaconda3\\envs\\webscrape\\lib\\site-packages\\scrapy\\core\\downloader\\middleware.py\", line 44, in process_request\n",
      "    return (yield download_func(request=request, spider=spider))\n",
      "  File \"C:\\Users\\MStopa\\AppData\\Local\\Continuum\\anaconda3\\envs\\webscrape\\lib\\site-packages\\twisted\\internet\\defer.py\", line 654, in _runCallbacks\n",
      "    current.result = callback(current.result, *args, **kw)\n",
      "  File \"C:\\Users\\MStopa\\AppData\\Local\\Continuum\\anaconda3\\envs\\webscrape\\lib\\site-packages\\twisted\\internet\\endpoints.py\", line 982, in startConnectionAttempts\n",
      "    \"no results for hostname lookup: {}\".format(self._hostStr)\n",
      "twisted.internet.error.DNSLookupError: DNS lookup failed: no results for hostname lookup: skwarts.com.\n"
     ]
    },
    {
     "name": "stdout",
     "output_type": "stream",
     "text": [
      "site_url https://www.monotype.com/ site_url_close ['http://www.monotype.com/', 'https://www.tonertype.com', 'https://www.monvera.com/']\n",
      "site_url_close[0] http://www.monotype.com/\n",
      "ii 190 self.companies[ii] Monotype\n",
      "out1 true iout1 156 url https://www.monotype.com/\n",
      "companies[0] Custom Art Direct this url https://www.monotype.com/\n"
     ]
    },
    {
     "name": "stderr",
     "output_type": "stream",
     "text": [
      "2021-11-30 16:37:21 [scrapy.downloadermiddlewares.retry] DEBUG: Retrying <GET https://www.loco-creations.nl> (failed 1 times): TCP connection timed out: 10060: A connection attempt failed because the connected party did not properly respond after a period of time, or established connection failed because connected host has failed to respond..\n",
      "2021-11-30 16:37:21 [scrapy.downloadermiddlewares.redirect] DEBUG: Redirecting (301) to <GET http://www.twobtech.com/index.html> from <GET http://www.twobtech.com/>\n",
      "2021-11-30 16:37:21 [scrapy.core.engine] DEBUG: Crawled (200) <GET https://www.theepochtimes.com/> (referer: None)\n",
      "2021-11-30 16:37:21 [scrapy.core.engine] DEBUG: Crawled (200) <GET http://atheros.com> (referer: None)\n",
      "2021-11-30 16:37:21 [scrapy.core.engine] DEBUG: Crawled (200) <GET https://www.mimeo.com/> (referer: None)\n",
      "2021-11-30 16:37:21 [scrapy.core.engine] DEBUG: Crawled (200) <GET https://www.protolabs.com/> (referer: None)\n"
     ]
    },
    {
     "name": "stdout",
     "output_type": "stream",
     "text": [
      "site_url https://www.theepochtimes.com/ site_url_close ['http://www.theepochtimes.com', 'https://www.newstimes.com/', 'https://www.thecustomboxes.com/']\n",
      "site_url_close[0] http://www.theepochtimes.com\n",
      "ii 193 self.companies[ii] Epoch Times\n",
      "out1 false iout2 21 url https://www.theepochtimes.com/\n",
      "companies[0] 303 Sign Company this url https://www.theepochtimes.com/\n"
     ]
    },
    {
     "name": "stderr",
     "output_type": "stream",
     "text": [
      "2021-11-30 16:37:22 [scrapy.downloadermiddlewares.retry] ERROR: Gave up retrying <GET http://www.kaiser3d.com> (failed 3 times): DNS lookup failed: no results for hostname lookup: www.kaiser3d.com.\n"
     ]
    },
    {
     "name": "stdout",
     "output_type": "stream",
     "text": [
      "site_url http://atheros.com site_url_close ['http://atheros.com', 'http://ahbelo.com', 'https://makeros.com/']\n",
      "site_url_close[0] http://atheros.com\n",
      "ii 207 self.companies[ii] Atheros Communications\n",
      "out1 false iout2 22 url http://atheros.com\n",
      "companies[0] Two Rivers Creative this url http://atheros.com\n"
     ]
    },
    {
     "name": "stderr",
     "output_type": "stream",
     "text": [
      "2021-11-30 16:37:22 [scrapy.core.scraper] DEBUG: Scraped from <200 https://www.mimeo.com/>\r\n",
      "{'Organization': 'Mimeo',\n",
      " 'fulltext': \"Mimeo is the innovator of online managed content distribution and printing. Our global footprint and cloud based platform provide customers the simplest way to create, manage, and distribute content they rely on to do business.  Mimeo's global businesses include:  Mimeo for Business, an on-demand printing service that allows customers to submit their digital documents, proof and print them.  Orders can be placed as late as 10pm and be produced and delivered as early as the next morning anywhere in North America and Europe; MImeoPhotos, an Apple Mac based photo products solution for consumers including PhotoBooks, Calendars and PhotoCards. MimeoPhotos is available in 21 countries; The School Planner Company (aka SPC, SPC Verlag).  The School Planner Company is a publisher of customized / bespoke student planners for schools in Germany, the UK, France and the US.    Mimeo For your documents you can choose color or black & white printing, different bindings, covers, paper stocks and finishing options, including customized tabs, dividers and slip sheets.\",\n",
      " 'searchterm': 'digital printing',\n",
      " 'url': 'https://www.mimeo.com/'}\n"
     ]
    },
    {
     "name": "stdout",
     "output_type": "stream",
     "text": [
      "site_url https://www.mimeo.com/ site_url_close ['http://www.mimeo.com', 'https://www.lumi.com/', 'http://www.timet.com/']\n",
      "site_url_close[0] http://www.mimeo.com\n",
      "ii 191 self.companies[ii] Mimeo\n",
      "yielding item digital printing\n"
     ]
    },
    {
     "name": "stderr",
     "output_type": "stream",
     "text": [
      "2021-11-30 16:37:23 [scrapy.core.scraper] DEBUG: Scraped from <200 https://www.protolabs.com/>\n",
      "{'Organization': 'Proto Labs',\n",
      " 'fulltext': 'Proto Labs is founded in 1999 by Larry Lukis, a successful entrepreneur and computer geek who wanted to radically reduce the time it took to get injection-molded plastic prototype parts. His solution was to automate the traditional manufacturing process by developing complex software that communicated with a network of mills and presses. As a result, plastic and metal parts could be produced in a fraction of the time it had ever taken before. Over the next decade, they would continue to expand their injection molding envelope, introduce quick-turn CNC machining, and open global facilities in Europe and Japan. In 2014, they launched industrial-grade 3D printing services to allow product developers, designers, and engineers an easier path to move from early prototyping to low-volume production. Today, Proto Labs is the world’s fastest manufacturer of custom prototypes and on-demand production parts with manufacturing facilities in five countries.',\n",
      " 'searchterm': 'digital manufacturing',\n",
      " 'url': 'https://www.protolabs.com/'}\n",
      "2021-11-30 16:37:23 [scrapy.downloadermiddlewares.redirect] DEBUG: Redirecting (301) to <GET https://friedmancorp.com/> from <GET https://www.friedmancorp.com>\n",
      "2021-11-30 16:37:23 [scrapy.core.scraper] ERROR: Error downloading <GET http://www.kaiser3d.com>\n",
      "Traceback (most recent call last):\n",
      "  File \"C:\\Users\\MStopa\\AppData\\Local\\Continuum\\anaconda3\\envs\\webscrape\\lib\\site-packages\\twisted\\internet\\defer.py\", line 1416, in _inlineCallbacks\n",
      "    result = result.throwExceptionIntoGenerator(g)\n",
      "  File \"C:\\Users\\MStopa\\AppData\\Local\\Continuum\\anaconda3\\envs\\webscrape\\lib\\site-packages\\twisted\\python\\failure.py\", line 512, in throwExceptionIntoGenerator\n",
      "    return g.throw(self.type, self.value, self.tb)\n",
      "  File \"C:\\Users\\MStopa\\AppData\\Local\\Continuum\\anaconda3\\envs\\webscrape\\lib\\site-packages\\scrapy\\core\\downloader\\middleware.py\", line 44, in process_request\n",
      "    return (yield download_func(request=request, spider=spider))\n",
      "  File \"C:\\Users\\MStopa\\AppData\\Local\\Continuum\\anaconda3\\envs\\webscrape\\lib\\site-packages\\twisted\\internet\\defer.py\", line 654, in _runCallbacks\n",
      "    current.result = callback(current.result, *args, **kw)\n",
      "  File \"C:\\Users\\MStopa\\AppData\\Local\\Continuum\\anaconda3\\envs\\webscrape\\lib\\site-packages\\twisted\\internet\\endpoints.py\", line 982, in startConnectionAttempts\n",
      "    \"no results for hostname lookup: {}\".format(self._hostStr)\n",
      "twisted.internet.error.DNSLookupError: DNS lookup failed: no results for hostname lookup: www.kaiser3d.com.\n"
     ]
    },
    {
     "name": "stdout",
     "output_type": "stream",
     "text": [
      "site_url https://www.protolabs.com/ site_url_close ['http://www.protolabs.com/', 'https://www.trio-labs.com/', 'https://www.protocam.com']\n",
      "site_url_close[0] http://www.protolabs.com/\n",
      "ii 192 self.companies[ii] Proto Labs\n",
      "yielding item digital manufacturing\n",
      "out1 true iout1 157 url https://www.mimeo.com/\n",
      "companies[0] Manufacturing Tomorrow this url https://www.mimeo.com/\n",
      "out1 true iout1 158 url https://www.protolabs.com/\n",
      "companies[0] Display Makers this url https://www.protolabs.com/\n"
     ]
    },
    {
     "name": "stderr",
     "output_type": "stream",
     "text": [
      "2021-11-30 16:37:23 [scrapy.downloadermiddlewares.redirect] DEBUG: Redirecting (301) to <GET http://powerside.com> from <GET http://powerstandards.com/>\n",
      "2021-11-30 16:37:23 [scrapy.downloadermiddlewares.redirect] DEBUG: Redirecting (301) to <GET http://www.completeprototype.com/> from <GET http://completeprototype.com>\n",
      "2021-11-30 16:37:23 [scrapy.core.engine] DEBUG: Crawled (200) <GET https://chromascape.com/> (referer: None)\n",
      "2021-11-30 16:37:23 [scrapy.core.engine] DEBUG: Crawled (200) <GET https://ipromoteu.com> (referer: None)\n",
      "2021-11-30 16:37:24 [scrapy.core.engine] DEBUG: Crawled (200) <GET https://www.stickergiant.com:443/> (referer: None)\n"
     ]
    },
    {
     "name": "stdout",
     "output_type": "stream",
     "text": [
      "site_url https://chromascape.com/ site_url_close ['https://chromascape.com/', 'https://www.chromasource.com/', 'https://www.chromaco.com/']\n",
      "site_url_close[0] https://chromascape.com/\n",
      "ii 210 self.companies[ii] ChromaScape\n",
      "out1 true iout1 159 url https://chromascape.com/\n",
      "companies[0] ​Vanted Solutions this url https://chromascape.com/\n"
     ]
    },
    {
     "name": "stderr",
     "output_type": "stream",
     "text": [
      "2021-11-30 16:37:24 [scrapy.core.engine] DEBUG: Crawled (200) <GET https://www.evercel.com/> (referer: None)\n"
     ]
    },
    {
     "name": "stdout",
     "output_type": "stream",
     "text": [
      "site_url https://ipromoteu.com site_url_close ['https://ipromoteu.com', 'https://egpromo.com', 'https://epromolux.com/']\n",
      "site_url_close[0] https://ipromoteu.com\n",
      "ii 211 self.companies[ii] iPROMOTEu\n",
      "out1 true iout1 160 url https://ipromoteu.com\n",
      "companies[0] Kaiser3D this url https://ipromoteu.com\n"
     ]
    },
    {
     "name": "stderr",
     "output_type": "stream",
     "text": [
      "2021-11-30 16:37:25 [scrapy.downloadermiddlewares.redirect] DEBUG: Redirecting (301) to <GET https://standardfiber.com/> from <GET http://standardfiber.com>\n"
     ]
    },
    {
     "name": "stdout",
     "output_type": "stream",
     "text": [
      "site_url https://www.stickergiant.com:443/ site_url_close ['http://www.stickergiant.com/', 'https://www.stickerkid.com', 'https://www.carstickers.com/']\n",
      "site_url_close[0] http://www.stickergiant.com/\n",
      "ii 196 self.companies[ii] StickerGiant\n",
      "out1 true iout1 161 url https://www.stickergiant.com:443/\n",
      "companies[0] PrintersUSA this url https://www.stickergiant.com:443/\n"
     ]
    },
    {
     "name": "stderr",
     "output_type": "stream",
     "text": [
      "2021-11-30 16:37:25 [scrapy.downloadermiddlewares.redirect] DEBUG: Redirecting (301) to <GET https://www.3dsystems.com/healthcare?utm_source=medicalmodeling.com&utm_medium=301> from <GET http://www.medicalmodeling.com/>\n"
     ]
    },
    {
     "name": "stdout",
     "output_type": "stream",
     "text": [
      "site_url https://www.evercel.com/ site_url_close ['https://www.evercel.com/', 'http://www.levers.com/', 'https://www.weilerls.com/']\n",
      "site_url_close[0] https://www.evercel.com/\n",
      "ii 214 self.companies[ii] Evercel\n",
      "out1 false iout2 23 url https://www.evercel.com/\n",
      "companies[0] MICHAELSCHUPBACH.COM this url https://www.evercel.com/\n"
     ]
    },
    {
     "name": "stderr",
     "output_type": "stream",
     "text": [
      "2021-11-30 16:37:25 [scrapy.downloadermiddlewares.redirect] DEBUG: Redirecting (302) to <GET http://www.loadsystems.com/core/install.php> from <GET http://www.loadsystems.com/>\n",
      "2021-11-30 16:37:25 [scrapy.core.engine] DEBUG: Crawled (200) <GET https://www.epac.com/> (referer: None)\n"
     ]
    },
    {
     "name": "stdout",
     "output_type": "stream",
     "text": [
      "site_url https://www.epac.com/ site_url_close ['https://www.empack.com/', 'http://www.epac.com', 'https://www.qea.com/']\n",
      "site_url_close[0] https://www.empack.com/\n",
      "ii 2636 self.companies[ii] Emerald Packaging\n",
      "out1 false iout2 24 url https://www.epac.com/\n",
      "companies[0] Skwarts this url https://www.epac.com/\n"
     ]
    },
    {
     "name": "stderr",
     "output_type": "stream",
     "text": [
      "2021-11-30 16:37:26 [scrapy.core.engine] DEBUG: Crawled (200) <GET https://www.gfidigital.com/> (referer: None)\n",
      "2021-11-30 16:37:27 [scrapy.downloadermiddlewares.redirect] DEBUG: Redirecting (301) to <GET https://www.idxcorporation.com/> from <GET https://idxcorporation.com/>\n",
      "2021-11-30 16:37:27 [scrapy.core.engine] DEBUG: Crawled (200) <GET https://www.yespackaging.com/> (referer: None)\n"
     ]
    },
    {
     "name": "stdout",
     "output_type": "stream",
     "text": [
      "site_url https://www.gfidigital.com/ site_url_close ['https://www.gfidigital.com/', 'https://www.ibedigital.com/', 'https://www.mfdigital.com']\n",
      "site_url_close[0] https://www.gfidigital.com/\n",
      "ii 215 self.companies[ii] GFI Digital\n",
      "out1 true iout1 162 url https://www.gfidigital.com/\n",
      "companies[0] VLM Press this url https://www.gfidigital.com/\n"
     ]
    },
    {
     "name": "stderr",
     "output_type": "stream",
     "text": [
      "2021-11-30 16:37:27 [scrapy.core.engine] DEBUG: Crawled (200) <GET https://friedmancorp.com/> (referer: None)\n"
     ]
    },
    {
     "name": "stdout",
     "output_type": "stream",
     "text": [
      "site_url https://www.yespackaging.com/ site_url_close ['https://www.yespackaging.com/', 'http://www.wspackaging.com/', 'http://www.vitexpackaging.com/']\n",
      "site_url_close[0] https://www.yespackaging.com/\n",
      "ii 219 self.companies[ii] YES Packaging\n",
      "out1 true iout1 163 url https://www.yespackaging.com/\n",
      "companies[0] DesignSeed this url https://www.yespackaging.com/\n"
     ]
    },
    {
     "name": "stderr",
     "output_type": "stream",
     "text": [
      "2021-11-30 16:37:28 [scrapy.downloadermiddlewares.redirect] DEBUG: Redirecting (301) to <GET https://www.showdowndisplays.com/> from <GET http://www.showdowndisplays.com>\n"
     ]
    },
    {
     "name": "stdout",
     "output_type": "stream",
     "text": [
      "site_url https://friedmancorp.com/ site_url_close ['https://www.friedmancorp.com', 'https://repacorp.com/', 'http://efdcorp.com/']\n",
      "site_url_close[0] https://www.friedmancorp.com\n",
      "ii 208 self.companies[ii] Friedman Corporation\n",
      "out1 true iout1 164 url https://friedmancorp.com/\n",
      "companies[0] Maryland Print House this url https://friedmancorp.com/\n"
     ]
    },
    {
     "name": "stderr",
     "output_type": "stream",
     "text": [
      "2021-11-30 16:37:28 [scrapy.downloadermiddlewares.redirect] DEBUG: Redirecting (301) to <GET https://mimakiusa.com/> from <GET http://mimakiusa.com>\n",
      "2021-11-30 16:37:28 [scrapy.core.engine] DEBUG: Crawled (200) <GET https://www.shopworx.com> (referer: None)\n",
      "2021-11-30 16:37:29 [scrapy.core.scraper] DEBUG: Scraped from <200 https://www.shopworx.com>\n",
      "{'Organization': 'ShopWorks',\n",
      " 'fulltext': 'nan',\n",
      " 'searchterm': 'screen printing',\n",
      " 'url': 'https://www.shopworx.com'}\n",
      "2021-11-30 16:37:29 [scrapy.core.engine] DEBUG: Crawled (200) <GET https://anchorsemi.com/> (referer: None)\n",
      "2021-11-30 16:37:29 [scrapy.downloadermiddlewares.retry] DEBUG: Retrying <GET http://www.aerocastinc.com> (failed 1 times): DNS lookup failed: no results for hostname lookup: www.aerocastinc.com.\n"
     ]
    },
    {
     "name": "stdout",
     "output_type": "stream",
     "text": [
      "site_url https://www.shopworx.com site_url_close ['https://www.shopworx.com', 'https://www.shadows.com', 'https://www.color-x.com']\n",
      "site_url_close[0] https://www.shopworx.com\n",
      "ii 221 self.companies[ii] ShopWorks\n",
      "yielding item screen printing\n",
      "out1 true iout1 165 url https://www.shopworx.com\n",
      "companies[0] Shutterfly this url https://www.shopworx.com\n",
      "site_url https://anchorsemi.com/ site_url_close ['http://www.anchorsemi.com', 'http://ncore.com', 'http://machare.com/']\n",
      "site_url_close[0] http://www.anchorsemi.com\n",
      "ii 203 self.companies[ii] Anchor Semiconductor\n",
      "out1 true iout1 166 url https://anchorsemi.com/\n",
      "companies[0] Custom Ink this url https://anchorsemi.com/\n"
     ]
    },
    {
     "name": "stderr",
     "output_type": "stream",
     "text": [
      "2021-11-30 16:37:30 [scrapy.core.engine] DEBUG: Crawled (200) <GET https://4over.com/> (referer: None)\n",
      "2021-11-30 16:37:30 [scrapy.core.engine] DEBUG: Crawled (200) <GET https://liteye.com/> (referer: None)\n",
      "2021-11-30 16:37:30 [scrapy.core.engine] DEBUG: Crawled (200) <GET https://www.createspace.com/> (referer: None)\n"
     ]
    },
    {
     "name": "stdout",
     "output_type": "stream",
     "text": [
      "site_url https://4over.com/ site_url_close ['http://4over.com', 'https://bolger.com/', 'https://clov.com/']\n",
      "site_url_close[0] http://4over.com\n",
      "ii 205 self.companies[ii] 4over, Inc.\n",
      "out1 false iout2 25 url https://4over.com/\n",
      "companies[0] Complex this url https://4over.com/\n"
     ]
    },
    {
     "name": "stderr",
     "output_type": "stream",
     "text": [
      "2021-11-30 16:37:31 [scrapy.downloadermiddlewares.redirect] DEBUG: Redirecting (302) to <GET https://forward.bhgshop.net/c?pid=11165151-printinccom&c=8b0fff094f2d1861c96be9d5cd6cded0-sf4ewueSUe3%09rEajR0%2Fsesef+%28%2B2vvRN%3A%2F%2FNEajR0etaz%29%09wUFuFw3fkUkUs%09ukf%09Sfw%09Fw%09ajQNI0%092vvRN%3A%2F%2FnnneA2zeEtQ%2FN2tR%2Fzte2vQi%3FR%3DoUU3o44A3kOSosoEjIsUuOsjI3444ojA%26taoIaNaE%3DRjqo%26NtWaEI%3DNIQ%26Q.%3DE%26Ib%3DE%26tz%3Dw%26ILzqLI%3DavA2tWNI%26EQR%3DBtQI%25sfgQRatYIQILv%25sfpNNILvqjiN%25sf%25Fp%25sfBjaonjaI%25sf%26%25sf5WqioqLz%25sfmjvIaqjiN%25sf%25Fp%25sf6ittaqLz%25sf%26%25sflqiIN%25sf%25Fp%25sfCtto%25sf6ittaqLz%26WvQ_QIoqWQ%3DRjqo%26WvQ_NtWaEI%3DavA2tWNI%26WvQ_EjQRjqzL%3DBtQI%25sfgQRatYIQILv%25sfpNNILvqjiN%25sf%25Fp%25sfBjaonjaI%25sf%26%25sf5WqioqLz%25sfmjvIaqjiN%25sf%25Fp%25sf6ittaqLz%25sf%26%25sflqiIN%25sf%25Fp%25sfCtto%25sf6ittaqLz%09%5BLWii%5D%09fefwfU%09fefs%09%5BLWii%5D%09OjiNI%093sf%09RIvEt%2F2tQIqQRatYIQILvINNILvqjiN%2FoUU3o44A3kOSosoEjIsUuOsjI3444ojA%09rphX7B%09%5BLWii%5D%09%5BLWii%5D%09f%09w3sewUuewffews4%09%5BLWii%5D%09%5BLWii%5D%09f%7Ef%09fskw3fO4-owSI-k3II-3SSo-EFAf43kwk44s%09RaqLvqLz+NIaYqEIN%2CqLH1Iv+RaqLvqLz%09%5BLWii%5D%09RaqLvqLz+NIaYqEIN%2CqLH1Iv+RaqLvqLz%09%5BLWii%5D%09%5BLWii%5D%09%5BLWii%5D%09f%09f%09%5BLWii%5D%09f%09f%09%5BLWii%5D%09RIvEt%2F2tQIqQRatYIQILvINNILvqjiN%2FoUU3o44A3kOSosoEjIsUuOsjI3444ojA%09%5BLWii%5D%09%5BLWii%5D%09%5BLWii%5D%09%5BLWii%5D%09%5BLWii%5D%09f4kkU%09RaqLvqLEEtQ%09%5BLWii%5D%09%5BLWii%5D%09%7B%7D%09%5BLWii%5D%09%5BLWii%5D%09f%09wwwUSwSw-RaqLvqLEEtQ%09&r=1&ptt=> from <GET http://www.printinc.com>\n"
     ]
    },
    {
     "name": "stdout",
     "output_type": "stream",
     "text": [
      "site_url https://liteye.com/ site_url_close ['http://liteye.com/', 'https://theyetee.com/', 'https://luminite.com/']\n",
      "site_url_close[0] http://liteye.com/\n",
      "ii 206 self.companies[ii] Liteye Systems\n",
      "out1 true iout1 167 url https://liteye.com/\n",
      "companies[0] Empire Group this url https://liteye.com/\n"
     ]
    },
    {
     "name": "stderr",
     "output_type": "stream",
     "text": [
      "2021-11-30 16:37:31 [scrapy.downloadermiddlewares.redirect] DEBUG: Redirecting (301) to <GET https://www.nextdayflyers.com/about-us> from <GET http://www.nextdayflyers.com/about-us>\n",
      "2021-11-30 16:37:31 [scrapy.downloadermiddlewares.redirect] DEBUG: Redirecting (301) to <GET https://www.massgroup.com/> from <GET http://www.massgroup.com/>\n",
      "2021-11-30 16:37:31 [scrapy.downloadermiddlewares.redirect] DEBUG: Redirecting (301) to <GET https://business.toshiba.com/usa> from <GET http://business.toshiba.com/usa>\n"
     ]
    },
    {
     "name": "stdout",
     "output_type": "stream",
     "text": [
      "site_url https://www.createspace.com/ site_url_close ['https://www.greatampack.com/', 'http://www.adcreate.com/', 'https://www.creatorslabel.com']\n",
      "site_url_close[0] https://www.greatampack.com/\n",
      "ii 2878 self.companies[ii] Great American Packaging\n",
      "out1 true iout1 168 url https://www.createspace.com/\n",
      "companies[0] Monotype this url https://www.createspace.com/\n"
     ]
    },
    {
     "name": "stderr",
     "output_type": "stream",
     "text": [
      "2021-11-30 16:37:31 [scrapy.downloadermiddlewares.redirect] DEBUG: Redirecting (301) to <GET https://www.completeprototype.com/> from <GET http://www.completeprototype.com/>\n",
      "2021-11-30 16:37:32 [scrapy.downloadermiddlewares.redirect] DEBUG: Redirecting (301) to <GET https://www.twobtech.com/index.html> from <GET http://www.twobtech.com/index.html>\n",
      "2021-11-30 16:37:34 [scrapy.core.engine] DEBUG: Crawled (200) <GET https://hgrinc.com/> (referer: None)\n",
      "2021-11-30 16:37:35 [scrapy.downloadermiddlewares.redirect] DEBUG: Redirecting (301) to <GET https://powerside.com/> from <GET http://powerside.com>\n"
     ]
    },
    {
     "name": "stdout",
     "output_type": "stream",
     "text": [
      "site_url https://hgrinc.com/ site_url_close ['http://hgrinc.com', 'https://crt-inc.com/', 'https://hcf.com/']\n",
      "site_url_close[0] http://hgrinc.com\n",
      "ii 199 self.companies[ii] HGR Industrial Surplus\n",
      "out1 true iout1 169 url https://hgrinc.com/\n",
      "companies[0] Mimeo this url https://hgrinc.com/\n"
     ]
    },
    {
     "name": "stderr",
     "output_type": "stream",
     "text": [
      "2021-11-30 16:37:35 [scrapy.downloadermiddlewares.redirect] DEBUG: Redirecting (301) to <GET http://www.allied.tech> from <GET http://www.digitalallied.com/>\n",
      "2021-11-30 16:37:35 [scrapy.downloadermiddlewares.redirect] DEBUG: Redirecting (302) to <GET https://forward.bhgshop.net/redirect?s=11165151&o=0&y=0&x=0&r=https%3A%2F%2Fwww.bhg.com%2Fshop%2Fgo.html%3Fp%3Dd669d77b94f5d2dcae268f2ae9777dab%26ordersrc%3Dpaid%26source%3Dsem%26mz%3Dc%26ex%3Dc%26og%3D1%26engine%3Drtbhouse%26cmp%3DHome%2520Improvement%2520Essentials%2520%253E%2520Hardware%2520%26%2520Building%2520Materials%2520%253E%2520Flooring%2520%26%2520Tiles%2520%253E%2520Wood%2520Flooring%26utm_medium%3Dpaid%26utm_source%3Drtbhouse%26utm_campaign%3DHome%2520Improvement%2520Essentials%2520%253E%2520Hardware%2520%26%2520Building%2520Materials%2520%253E%2520Flooring%2520%26%2520Tiles%2520%253E%2520Wood%2520Flooring&u=16514065629809816854951110698612375794&a=920&t=petco%2Fhomeimprovementessentials%2Fd669d77b94f5d2dcae268f2ae9777dab&g=null&cb=0&faid=petco%2Fhomeimprovementessentials%2Fd669d77b94f5d2dcae268f2ae9777dab&fint=0&b=fefwfU,fefs,LWii&epcCD=1638319052368&cc=840&dma=501&epcRFU=null&tk=&k=&qk=RaqLvqLz+NIaYqEIN%2CqLH1Iv+RaqLvqLz&mqk=RaqLvqLz+NIaYqEIN%2CqLH1Iv+RaqLvqLz&eqk=null&eqke=0&nw=SEARCH&tgt=0&tp=wwwUSwSw-RaqLvqLEEtQ&vu=null&ir=0&tt=null&ck=0~0&rk=1&ptt=&f=https%3A%2F%2Fgoogle.com&sc=null&st=null&id=0&it=0&nbrs=0&nk=petco%2Fhomeimprovementessentials%2Fd669d77b94f5d2dcae268f2ae9777dab&fwc=0&lt=0&spa=&spt=&spc=&dvid=&sid=024190f7-d15e-49ee-955d-c3b079414772> from <GET https://forward.bhgshop.net/c?pid=11165151-printinccom&c=8b0fff094f2d1861c96be9d5cd6cded0-sf4ewueSUe3%09rEajR0%2Fsesef+%28%2B2vvRN%3A%2F%2FNEajR0etaz%29%09wUFuFw3fkUkUs%09ukf%09Sfw%09Fw%09ajQNI0%092vvRN%3A%2F%2FnnneA2zeEtQ%2FN2tR%2Fzte2vQi%3FR%3DoUU3o44A3kOSosoEjIsUuOsjI3444ojA%26taoIaNaE%3DRjqo%26NtWaEI%3DNIQ%26Q.%3DE%26Ib%3DE%26tz%3Dw%26ILzqLI%3DavA2tWNI%26EQR%3DBtQI%25sfgQRatYIQILv%25sfpNNILvqjiN%25sf%25Fp%25sfBjaonjaI%25sf%26%25sf5WqioqLz%25sfmjvIaqjiN%25sf%25Fp%25sf6ittaqLz%25sf%26%25sflqiIN%25sf%25Fp%25sfCtto%25sf6ittaqLz%26WvQ_QIoqWQ%3DRjqo%26WvQ_NtWaEI%3DavA2tWNI%26WvQ_EjQRjqzL%3DBtQI%25sfgQRatYIQILv%25sfpNNILvqjiN%25sf%25Fp%25sfBjaonjaI%25sf%26%25sf5WqioqLz%25sfmjvIaqjiN%25sf%25Fp%25sf6ittaqLz%25sf%26%25sflqiIN%25sf%25Fp%25sfCtto%25sf6ittaqLz%09%5BLWii%5D%09fefwfU%09fefs%09%5BLWii%5D%09OjiNI%093sf%09RIvEt%2F2tQIqQRatYIQILvINNILvqjiN%2FoUU3o44A3kOSosoEjIsUuOsjI3444ojA%09rphX7B%09%5BLWii%5D%09%5BLWii%5D%09f%09w3sewUuewffews4%09%5BLWii%5D%09%5BLWii%5D%09f%7Ef%09fskw3fO4-owSI-k3II-3SSo-EFAf43kwk44s%09RaqLvqLz+NIaYqEIN%2CqLH1Iv+RaqLvqLz%09%5BLWii%5D%09RaqLvqLz+NIaYqEIN%2CqLH1Iv+RaqLvqLz%09%5BLWii%5D%09%5BLWii%5D%09%5BLWii%5D%09f%09f%09%5BLWii%5D%09f%09f%09%5BLWii%5D%09RIvEt%2F2tQIqQRatYIQILvINNILvqjiN%2FoUU3o44A3kOSosoEjIsUuOsjI3444ojA%09%5BLWii%5D%09%5BLWii%5D%09%5BLWii%5D%09%5BLWii%5D%09%5BLWii%5D%09f4kkU%09RaqLvqLEEtQ%09%5BLWii%5D%09%5BLWii%5D%09%7B%7D%09%5BLWii%5D%09%5BLWii%5D%09f%09wwwUSwSw-RaqLvqLEEtQ%09&r=1&ptt=>\n",
      "2021-11-30 16:37:35 [scrapy.core.engine] DEBUG: Crawled (200) <GET https://standardfiber.com/> (referer: None)\n",
      "2021-11-30 16:37:35 [scrapy.core.engine] DEBUG: Crawled (200) <GET https://www.massgroup.com/> (referer: None)\n",
      "2021-11-30 16:37:36 [scrapy.core.engine] DEBUG: Crawled (200) <GET http://www.loadsystems.com/core/install.php> (referer: None)\n"
     ]
    },
    {
     "name": "stdout",
     "output_type": "stream",
     "text": [
      "site_url https://standardfiber.com/ site_url_close ['http://standardfiber.com', 'https://andishere.com/', 'https://indiatribune.com/']\n",
      "site_url_close[0] http://standardfiber.com\n",
      "ii 216 self.companies[ii] Standard Fiber LLC\n",
      "out1 true iout1 170 url https://standardfiber.com/\n",
      "companies[0] Proto Labs this url https://standardfiber.com/\n",
      "site_url https://www.massgroup.com/ site_url_close ['http://www.massgroup.com/', 'https://www.mediagrump.com/', 'https://www.caskeygroup.com']\n",
      "site_url_close[0] http://www.massgroup.com/\n",
      "ii 226 self.companies[ii] Mass Group\n",
      "out1 true iout1 171 url https://www.massgroup.com/\n",
      "companies[0] Epoch Times this url https://www.massgroup.com/\n"
     ]
    },
    {
     "name": "stderr",
     "output_type": "stream",
     "text": [
      "2021-11-30 16:37:37 [scrapy.downloadermiddlewares.redirect] DEBUG: Redirecting (301) to <GET https://www.vupointsolutions.com/> from <GET http://www.vupointsolutions.com/>\n",
      "2021-11-30 16:37:37 [scrapy.downloadermiddlewares.redirect] DEBUG: Redirecting (301) to <GET https://www.advancedmt.com/> from <GET http://advancedmt.com>\n"
     ]
    },
    {
     "name": "stdout",
     "output_type": "stream",
     "text": [
      "site_url http://www.loadsystems.com/core/install.php site_url_close ['http://www.loadsystems.com/', 'http://www.vadersystems.com', 'https://www.coldjet.com/en/index.php']\n",
      "site_url_close[0] http://www.loadsystems.com/\n",
      "ii 218 self.companies[ii] LSI Robway Pty Ltd\n",
      "out1 true iout1 172 url http://www.loadsystems.com/core/install.php\n",
      "companies[0] TelAztec this url http://www.loadsystems.com/core/install.php\n"
     ]
    },
    {
     "name": "stderr",
     "output_type": "stream",
     "text": [
      "2021-11-30 16:37:37 [scrapy.downloadermiddlewares.redirect] DEBUG: Redirecting (301) to <GET https://www.usabox.com/> from <GET http://www.usabox.com>\n",
      "2021-11-30 16:37:37 [scrapy.core.engine] DEBUG: Crawled (200) <GET https://www.3dsystems.com/healthcare?utm_source=medicalmodeling.com&utm_medium=301> (referer: None)\n",
      "2021-11-30 16:37:38 [scrapy.core.scraper] DEBUG: Scraped from <200 https://www.3dsystems.com/healthcare?utm_source=medicalmodeling.com&utm_medium=301>\n",
      "{'Organization': 'Medical Modeling Inc.',\n",
      " 'fulltext': 'nan',\n",
      " 'searchterm': 'additive manufacturing',\n",
      " 'url': 'https://www.3dsystems.com/healthcare?utm_source=medicalmodeling.com&utm_medium=301'}\n"
     ]
    },
    {
     "name": "stdout",
     "output_type": "stream",
     "text": [
      "site_url https://www.3dsystems.com/healthcare?utm_source=medicalmodeling.com&utm_medium=301 site_url_close ['http://www.medicalmodeling.com/', 'http://www.mediaresourcesonline.com/', 'http://www.bannerbuzz.com/?utm_source=gbl&utm_medium=organic&utm_campaign=gbl_organic']\n",
      "site_url_close[0] http://www.medicalmodeling.com/\n",
      "ii 217 self.companies[ii] Medical Modeling Inc.\n",
      "yielding item additive manufacturing\n",
      "out1 true iout1 173 url https://www.3dsystems.com/healthcare?utm_source=medicalmodeling.com&utm_medium=301\n",
      "companies[0] Color Card Administrator this url https://www.3dsystems.com/healthcare?utm_source=medicalmodeling.com&utm_medium=301\n"
     ]
    },
    {
     "name": "stderr",
     "output_type": "stream",
     "text": [
      "2021-11-30 16:37:38 [scrapy.core.engine] DEBUG: Crawled (200) <GET https://www.idxcorporation.com/> (referer: None)\n",
      "2021-11-30 16:37:39 [scrapy.core.engine] DEBUG: Crawled (200) <GET https://www.mediaspacesolutions.com/> (referer: None)\n",
      "2021-11-30 16:37:39 [scrapy.downloadermiddlewares.redirect] DEBUG: Redirecting (301) to <GET https://www.mimakiusa.com/> from <GET https://mimakiusa.com/>\n"
     ]
    },
    {
     "name": "stdout",
     "output_type": "stream",
     "text": [
      "site_url https://www.idxcorporation.com/ site_url_close ['http://idxcorporation.com', 'http://www.emeraldcorporation.com', 'https://www.hixcorp.com/']\n",
      "site_url_close[0] http://idxcorporation.com\n",
      "ii 201 self.companies[ii] idX Corporation\n",
      "out1 true iout1 174 url https://www.idxcorporation.com/\n",
      "companies[0] StickerGiant this url https://www.idxcorporation.com/\n"
     ]
    },
    {
     "name": "stderr",
     "output_type": "stream",
     "text": [
      "2021-11-30 16:37:39 [scrapy.downloadermiddlewares.redirect] DEBUG: Redirecting (301) to <GET https://www.nextdayflyers.com/secure/about-us> from <GET https://www.nextdayflyers.com/about-us>\n"
     ]
    },
    {
     "name": "stdout",
     "output_type": "stream",
     "text": [
      "site_url https://www.mediaspacesolutions.com/ site_url_close ['https://www.mediaspacesolutions.com/', 'https://www.mm4solutions.com/', 'https://www.gap-solutions.com']\n",
      "site_url_close[0] https://www.mediaspacesolutions.com/\n",
      "ii 232 self.companies[ii] Mediaspace Solutions\n",
      "out1 true iout1 175 url https://www.mediaspacesolutions.com/\n",
      "companies[0] Circle Graphics this url https://www.mediaspacesolutions.com/\n"
     ]
    },
    {
     "name": "stderr",
     "output_type": "stream",
     "text": [
      "2021-11-30 16:37:40 [scrapy.core.engine] DEBUG: Crawled (200) <GET https://www.showdowndisplays.com/> (referer: None)\n",
      "2021-11-30 16:37:40 [scrapy.downloadermiddlewares.redirect] DEBUG: Redirecting (302) to <GET https://www.jakprints.com/goto> from <GET http://www.jakprints.com/>\n",
      "2021-11-30 16:37:40 [scrapy.downloadermiddlewares.redirect] DEBUG: Redirecting (301) to <GET https://icscolor.com/remote-director/> from <GET https://www.icscolor.com/remote-director/>\n",
      "2021-11-30 16:37:40 [scrapy.downloadermiddlewares.retry] DEBUG: Retrying <GET http://www.aerocastinc.com> (failed 2 times): DNS lookup failed: no results for hostname lookup: www.aerocastinc.com.\n"
     ]
    },
    {
     "name": "stdout",
     "output_type": "stream",
     "text": [
      "site_url https://www.showdowndisplays.com/ site_url_close ['http://www.showdowndisplays.com', 'https://www.icondisplay.com/', 'https://www.wordplay.com/']\n",
      "site_url_close[0] http://www.showdowndisplays.com\n",
      "ii 220 self.companies[ii] Showdown Displays\n",
      "out1 true iout1 176 url https://www.showdowndisplays.com/\n",
      "companies[0] Printable Calendars this url https://www.showdowndisplays.com/\n"
     ]
    },
    {
     "name": "stderr",
     "output_type": "stream",
     "text": [
      "2021-11-30 16:37:41 [scrapy.downloadermiddlewares.redirect] DEBUG: Redirecting (301) to <GET https://www.directmaildepot.com/> from <GET https://directmaildepot.com>\n",
      "2021-11-30 16:37:42 [scrapy.downloadermiddlewares.retry] DEBUG: Retrying <GET https://www.loco-creations.nl> (failed 2 times): TCP connection timed out: 10060: A connection attempt failed because the connected party did not properly respond after a period of time, or established connection failed because connected host has failed to respond..\n",
      "2021-11-30 16:37:42 [scrapy.downloadermiddlewares.redirect] DEBUG: Redirecting (301) to <GET https://business.toshiba.com/usa/> from <GET https://business.toshiba.com/usa>\n",
      "2021-11-30 16:37:43 [scrapy.core.engine] DEBUG: Crawled (200) <GET https://www.completeprototype.com/> (referer: None)\n",
      "2021-11-30 16:37:43 [scrapy.core.engine] DEBUG: Crawled (200) <GET https://www.twobtech.com/index.html> (referer: None)\n",
      "2021-11-30 16:37:44 [scrapy.core.engine] DEBUG: Crawled (200) <GET https://powerside.com/> (referer: None)\n"
     ]
    },
    {
     "name": "stdout",
     "output_type": "stream",
     "text": [
      "site_url https://www.completeprototype.com/ site_url_close ['http://completeprototype.com', 'https://www.gazelleprototype.com/', 'https://www.completesource.com/']\n",
      "site_url_close[0] http://completeprototype.com\n",
      "ii 213 self.companies[ii] Complete Prototype Services\n",
      "out1 true iout1 177 url https://www.completeprototype.com/\n",
      "companies[0] HGR Industrial Surplus this url https://www.completeprototype.com/\n",
      "site_url https://www.twobtech.com/index.html site_url_close ['https://www.qal.com/index.html', 'http://www.tazpack.com/index.html', 'https://www.packnetwork.com/index.html']\n",
      "site_url_close[0] https://www.qal.com/index.html\n",
      "ii 1439 self.companies[ii] Quality Assured Enterprises\n",
      "out1 false iout2 26 url https://www.twobtech.com/index.html\n",
      "companies[0] ePAC Technologies this url https://www.twobtech.com/index.html\n"
     ]
    },
    {
     "name": "stderr",
     "output_type": "stream",
     "text": [
      "2021-11-30 16:37:45 [scrapy.downloadermiddlewares.redirect] DEBUG: Redirecting (301) to <GET https://www.arcserv.com/> from <GET http://arcserv.com>\n",
      "2021-11-30 16:37:45 [scrapy.downloadermiddlewares.redirect] DEBUG: Redirecting (301) to <GET https://vanguardprotexglobal.com/> from <GET http://vanguardprotexglobal.com>\n"
     ]
    },
    {
     "name": "stdout",
     "output_type": "stream",
     "text": [
      "site_url https://powerside.com/ site_url_close ['https://www.waterside.com/', 'https://opedge.com/', 'https://periodpaper.com']\n",
      "site_url_close[0] https://www.waterside.com/\n",
      "ii 1848 self.companies[ii] Waterside Productions\n",
      "out1 true iout1 178 url https://powerside.com/\n",
      "companies[0] idX Corporation this url https://powerside.com/\n"
     ]
    },
    {
     "name": "stderr",
     "output_type": "stream",
     "text": [
      "2021-11-30 16:37:45 [scrapy.core.engine] DEBUG: Crawled (200) <GET http://postalpronto.com/> (referer: None)\n",
      "2021-11-30 16:37:46 [scrapy.core.engine] DEBUG: Crawled (200) <GET https://www.advancedmt.com/> (referer: None)\n"
     ]
    },
    {
     "name": "stdout",
     "output_type": "stream",
     "text": [
      "site_url http://postalpronto.com/ site_url_close ['http://postalpronto.com/', 'https://goproto.com/', 'http://gotprint.com']\n",
      "site_url_close[0] http://postalpronto.com/\n",
      "ii 238 self.companies[ii] PrintVision\n",
      "out1 true iout1 179 url http://postalpronto.com/\n",
      "companies[0] EZ Prints this url http://postalpronto.com/\n",
      "site_url https://www.advancedmt.com/ site_url_close ['https://www.goadvanced.com/', 'https://www.radiance4d.com/', 'https://www.advancepkg.com/']\n",
      "site_url_close[0] https://www.goadvanced.com/\n",
      "ii 2198 self.companies[ii] Advanced Office\n",
      "out1 true iout1 180 url https://www.advancedmt.com/\n",
      "companies[0] Anchor Semiconductor this url https://www.advancedmt.com/\n"
     ]
    },
    {
     "name": "stderr",
     "output_type": "stream",
     "text": [
      "2021-11-30 16:37:47 [scrapy.core.engine] DEBUG: Crawled (200) <GET https://www.usabox.com/> (referer: None)\n",
      "2021-11-30 16:37:47 [scrapy.core.engine] DEBUG: Crawled (200) <GET https://forward.bhgshop.net/redirect?s=11165151&o=0&y=0&x=0&r=https%3A%2F%2Fwww.bhg.com%2Fshop%2Fgo.html%3Fp%3Dd669d77b94f5d2dcae268f2ae9777dab%26ordersrc%3Dpaid%26source%3Dsem%26mz%3Dc%26ex%3Dc%26og%3D1%26engine%3Drtbhouse%26cmp%3DHome%2520Improvement%2520Essentials%2520%253E%2520Hardware%2520%26%2520Building%2520Materials%2520%253E%2520Flooring%2520%26%2520Tiles%2520%253E%2520Wood%2520Flooring%26utm_medium%3Dpaid%26utm_source%3Drtbhouse%26utm_campaign%3DHome%2520Improvement%2520Essentials%2520%253E%2520Hardware%2520%26%2520Building%2520Materials%2520%253E%2520Flooring%2520%26%2520Tiles%2520%253E%2520Wood%2520Flooring&u=16514065629809816854951110698612375794&a=920&t=petco%2Fhomeimprovementessentials%2Fd669d77b94f5d2dcae268f2ae9777dab&g=null&cb=0&faid=petco%2Fhomeimprovementessentials%2Fd669d77b94f5d2dcae268f2ae9777dab&fint=0&b=fefwfU,fefs,LWii&epcCD=1638319052368&cc=840&dma=501&epcRFU=null&tk=&k=&qk=RaqLvqLz+NIaYqEIN%2CqLH1Iv+RaqLvqLz&mqk=RaqLvqLz+NIaYqEIN%2CqLH1Iv+RaqLvqLz&eqk=null&eqke=0&nw=SEARCH&tgt=0&tp=wwwUSwSw-RaqLvqLEEtQ&vu=null&ir=0&tt=null&ck=0~0&rk=1&ptt=&f=https%3A%2F%2Fgoogle.com&sc=null&st=null&id=0&it=0&nbrs=0&nk=petco%2Fhomeimprovementessentials%2Fd669d77b94f5d2dcae268f2ae9777dab&fwc=0&lt=0&spa=&spt=&spc=&dvid=&sid=024190f7-d15e-49ee-955d-c3b079414772> (referer: None)\n",
      "2021-11-30 16:37:47 [scrapy.core.engine] DEBUG: Crawled (200) <GET https://www.vupointsolutions.com/> (referer: None)\n"
     ]
    },
    {
     "name": "stdout",
     "output_type": "stream",
     "text": [
      "site_url https://www.usabox.com/ site_url_close ['http://www.usabox.com', 'https://www.uaf.com/', 'https://www.schwabco.com/']\n",
      "site_url_close[0] http://www.usabox.com\n",
      "ii 231 self.companies[ii] Box USA\n",
      "out1 true iout1 181 url https://www.usabox.com/\n",
      "companies[0] BookSurge this url https://www.usabox.com/\n",
      "site_url https://forward.bhgshop.net/redirect?s=11165151&o=0&y=0&x=0&r=https%3A%2F%2Fwww.bhg.com%2Fshop%2Fgo.html%3Fp%3Dd669d77b94f5d2dcae268f2ae9777dab%26ordersrc%3Dpaid%26source%3Dsem%26mz%3Dc%26ex%3Dc%26og%3D1%26engine%3Drtbhouse%26cmp%3DHome%2520Improvement%2520Essentials%2520%253E%2520Hardware%2520%26%2520Building%2520Materials%2520%253E%2520Flooring%2520%26%2520Tiles%2520%253E%2520Wood%2520Flooring%26utm_medium%3Dpaid%26utm_source%3Drtbhouse%26utm_campaign%3DHome%2520Improvement%2520Essentials%2520%253E%2520Hardware%2520%26%2520Building%2520Materials%2520%253E%2520Flooring%2520%26%2520Tiles%2520%253E%2520Wood%2520Flooring&u=16514065629809816854951110698612375794&a=920&t=petco%2Fhomeimprovementessentials%2Fd669d77b94f5d2dcae268f2ae9777dab&g=null&cb=0&faid=petco%2Fhomeimprovementessentials%2Fd669d77b94f5d2dcae268f2ae9777dab&fint=0&b=fefwfU,fefs,LWii&epcCD=1638319052368&cc=840&dma=501&epcRFU=null&tk=&k=&qk=RaqLvqLz+NIaYqEIN%2CqLH1Iv+RaqLvqLz&mqk=RaqLvqLz+NIaYqEIN%2CqLH1Iv+RaqLvqLz&eqk=null&eqke=0&nw=SEARCH&tgt=0&tp=wwwUSwSw-RaqLvqLEEtQ&vu=null&ir=0&tt=null&ck=0~0&rk=1&ptt=&f=https%3A%2F%2Fgoogle.com&sc=null&st=null&id=0&it=0&nbrs=0&nk=petco%2Fhomeimprovementessentials%2Fd669d77b94f5d2dcae268f2ae9777dab&fwc=0&lt=0&spa=&spt=&spc=&dvid=&sid=024190f7-d15e-49ee-955d-c3b079414772 site_url_close []\n",
      "ii -1 self.companies[ii] Shanghai Teckwin Technology Development\n",
      "out1 false iout2 27 url https://forward.bhgshop.net/redirect?s=11165151&o=0&y=0&x=0&r=https%3A%2F%2Fwww.bhg.com%2Fshop%2Fgo.html%3Fp%3Dd669d77b94f5d2dcae268f2ae9777dab%26ordersrc%3Dpaid%26source%3Dsem%26mz%3Dc%26ex%3Dc%26og%3D1%26engine%3Drtbhouse%26cmp%3DHome%2520Improvement%2520Essentials%2520%253E%2520Hardware%2520%26%2520Building%2520Materials%2520%253E%2520Flooring%2520%26%2520Tiles%2520%253E%2520Wood%2520Flooring%26utm_medium%3Dpaid%26utm_source%3Drtbhouse%26utm_campaign%3DHome%2520Improvement%2520Essentials%2520%253E%2520Hardware%2520%26%2520Building%2520Materials%2520%253E%2520Flooring%2520%26%2520Tiles%2520%253E%2520Wood%2520Flooring&u=16514065629809816854951110698612375794&a=920&t=petco%2Fhomeimprovementessentials%2Fd669d77b94f5d2dcae268f2ae9777dab&g=null&cb=0&faid=petco%2Fhomeimprovementessentials%2Fd669d77b94f5d2dcae268f2ae9777dab&fint=0&b=fefwfU,fefs,LWii&epcCD=1638319052368&cc=840&dma=501&epcRFU=null&tk=&k=&qk=RaqLvqLz+NIaYqEIN%2CqLH1Iv+RaqLvqLz&mqk=RaqLvqLz+NIaYqEIN%2CqLH1Iv+RaqLvqLz&eqk=null&eqke=0&nw=SEARCH&tgt=0&tp=wwwUSwSw-RaqLvqLEEtQ&vu=null&ir=0&tt=null&ck=0~0&rk=1&ptt=&f=https%3A%2F%2Fgoogle.com&sc=null&st=null&id=0&it=0&nbrs=0&nk=petco%2Fhomeimprovementessentials%2Fd669d77b94f5d2dcae268f2ae9777dab&fwc=0&lt=0&spa=&spt=&spc=&dvid=&sid=024190f7-d15e-49ee-955d-c3b079414772\n",
      "companies[0] 4over, Inc. this url https://forward.bhgshop.net/redirect?s=11165151&o=0&y=0&x=0&r=https%3A%2F%2Fwww.bhg.com%2Fshop%2Fgo.html%3Fp%3Dd669d77b94f5d2dcae268f2ae9777dab%26ordersrc%3Dpaid%26source%3Dsem%26mz%3Dc%26ex%3Dc%26og%3D1%26engine%3Drtbhouse%26cmp%3DHome%2520Improvement%2520Essentials%2520%253E%2520Hardware%2520%26%2520Building%2520Materials%2520%253E%2520Flooring%2520%26%2520Tiles%2520%253E%2520Wood%2520Flooring%26utm_medium%3Dpaid%26utm_source%3Drtbhouse%26utm_campaign%3DHome%2520Improvement%2520Essentials%2520%253E%2520Hardware%2520%26%2520Building%2520Materials%2520%253E%2520Flooring%2520%26%2520Tiles%2520%253E%2520Wood%2520Flooring&u=16514065629809816854951110698612375794&a=920&t=petco%2Fhomeimprovementessentials%2Fd669d77b94f5d2dcae268f2ae9777dab&g=null&cb=0&faid=petco%2Fhomeimprovementessentials%2Fd669d77b94f5d2dcae268f2ae9777dab&fint=0&b=fefwfU,fefs,LWii&epcCD=1638319052368&cc=840&dma=501&epcRFU=null&tk=&k=&qk=RaqLvqLz+NIaYqEIN%2CqLH1Iv+RaqLvqLz&mqk=RaqLvqLz+NIaYqEIN%2CqLH1Iv+RaqLvqLz&eqk=null&eqke=0&nw=SEARCH&tgt=0&tp=wwwUSwSw-RaqLvqLEEtQ&vu=null&ir=0&tt=null&ck=0~0&rk=1&ptt=&f=https%3A%2F%2Fgoogle.com&sc=null&st=null&id=0&it=0&nbrs=0&nk=petco%2Fhomeimprovementessentials%2Fd669d77b94f5d2dcae268f2ae9777dab&fwc=0&lt=0&spa=&spt=&spc=&dvid=&sid=024190f7-d15e-49ee-955d-c3b079414772\n"
     ]
    },
    {
     "name": "stderr",
     "output_type": "stream",
     "text": [
      "2021-11-30 16:37:48 [scrapy.downloadermiddlewares.redirect] DEBUG: Redirecting (301) to <GET https://www.allied.tech/> from <GET http://www.allied.tech>\n",
      "2021-11-30 16:37:48 [scrapy.downloadermiddlewares.retry] ERROR: Gave up retrying <GET http://www.aerocastinc.com> (failed 3 times): DNS lookup failed: no results for hostname lookup: www.aerocastinc.com.\n"
     ]
    },
    {
     "name": "stdout",
     "output_type": "stream",
     "text": [
      "site_url https://www.vupointsolutions.com/ site_url_close ['http://www.vupointsolutions.com/', 'http://www.printsolution.com/', 'https://www.printmailsolutions.com/']\n",
      "site_url_close[0] http://www.vupointsolutions.com/\n",
      "ii 230 self.companies[ii] VuPoint Solutions\n",
      "out1 true iout1 182 url https://www.vupointsolutions.com/\n",
      "companies[0] Liteye Systems this url https://www.vupointsolutions.com/\n"
     ]
    },
    {
     "name": "stderr",
     "output_type": "stream",
     "text": [
      "2021-11-30 16:37:48 [scrapy.core.scraper] ERROR: Error downloading <GET http://www.aerocastinc.com>\n",
      "Traceback (most recent call last):\n",
      "  File \"C:\\Users\\MStopa\\AppData\\Local\\Continuum\\anaconda3\\envs\\webscrape\\lib\\site-packages\\twisted\\internet\\defer.py\", line 1416, in _inlineCallbacks\n",
      "    result = result.throwExceptionIntoGenerator(g)\n",
      "  File \"C:\\Users\\MStopa\\AppData\\Local\\Continuum\\anaconda3\\envs\\webscrape\\lib\\site-packages\\twisted\\python\\failure.py\", line 512, in throwExceptionIntoGenerator\n",
      "    return g.throw(self.type, self.value, self.tb)\n",
      "  File \"C:\\Users\\MStopa\\AppData\\Local\\Continuum\\anaconda3\\envs\\webscrape\\lib\\site-packages\\scrapy\\core\\downloader\\middleware.py\", line 44, in process_request\n",
      "    return (yield download_func(request=request, spider=spider))\n",
      "  File \"C:\\Users\\MStopa\\AppData\\Local\\Continuum\\anaconda3\\envs\\webscrape\\lib\\site-packages\\twisted\\internet\\defer.py\", line 654, in _runCallbacks\n",
      "    current.result = callback(current.result, *args, **kw)\n",
      "  File \"C:\\Users\\MStopa\\AppData\\Local\\Continuum\\anaconda3\\envs\\webscrape\\lib\\site-packages\\twisted\\internet\\endpoints.py\", line 982, in startConnectionAttempts\n",
      "    \"no results for hostname lookup: {}\".format(self._hostStr)\n",
      "twisted.internet.error.DNSLookupError: DNS lookup failed: no results for hostname lookup: www.aerocastinc.com.\n",
      "2021-11-30 16:37:49 [scrapy.core.engine] DEBUG: Crawled (200) <GET https://www.mimakiusa.com/> (referer: None)\n",
      "2021-11-30 16:37:49 [scrapy.core.engine] DEBUG: Crawled (200) <GET http://ddhent.com> (referer: None)\n"
     ]
    },
    {
     "name": "stdout",
     "output_type": "stream",
     "text": [
      "site_url https://www.mimakiusa.com/ site_url_close ['https://www.admarkusa.com/', 'http://mimakiusa.com', 'https://www.ipwusa.com/']\n",
      "site_url_close[0] https://www.admarkusa.com/\n",
      "ii 4849 self.companies[ii] AdMark\n",
      "out1 true iout1 183 url https://www.mimakiusa.com/\n",
      "companies[0] Atheros Communications this url https://www.mimakiusa.com/\n"
     ]
    },
    {
     "name": "stderr",
     "output_type": "stream",
     "text": [
      "2021-11-30 16:37:50 [scrapy.core.engine] DEBUG: Crawled (200) <GET https://www.mavcoatmoldrelease.com/> (referer: None)\n",
      "2021-11-30 16:37:50 [scrapy.core.engine] DEBUG: Crawled (200) <GET https://11thhourbiz.com> (referer: None)\n"
     ]
    },
    {
     "name": "stdout",
     "output_type": "stream",
     "text": [
      "site_url http://ddhent.com site_url_close ['http://ddhent.com', 'http://identco.com', 'http://ddirect.com/']\n",
      "site_url_close[0] http://ddhent.com\n",
      "ii 243 self.companies[ii] Dutek\n",
      "out1 true iout1 184 url http://ddhent.com\n",
      "companies[0] Friedman Corporation this url http://ddhent.com\n"
     ]
    },
    {
     "name": "stderr",
     "output_type": "stream",
     "text": [
      "2021-11-30 16:37:50 [scrapy.core.engine] DEBUG: Crawled (200) <GET https://www.imageoptions.net> (referer: None)\n",
      "2021-11-30 16:37:50 [scrapy.downloadermiddlewares.redirect] DEBUG: Redirecting (301) to <GET https://www.printrunner.com/> from <GET http://www.printrunner.com>\n"
     ]
    },
    {
     "name": "stdout",
     "output_type": "stream",
     "text": [
      "site_url https://www.mavcoatmoldrelease.com/ site_url_close ['https://www.mavcoatmoldrelease.com/', 'https://www.vomela.com/', 'http://www.codeglas.com/']\n",
      "site_url_close[0] https://www.mavcoatmoldrelease.com/\n",
      "ii 242 self.companies[ii] Maverix Solutions\n",
      "out1 true iout1 185 url https://www.mavcoatmoldrelease.com/\n",
      "companies[0] 2B Technology this url https://www.mavcoatmoldrelease.com/\n"
     ]
    },
    {
     "name": "stderr",
     "output_type": "stream",
     "text": [
      "2021-11-30 16:37:51 [scrapy.downloadermiddlewares.redirect] DEBUG: Redirecting (301) to <GET https://www.dcopy.net/> from <GET http://www.dcopy.net>\n",
      "2021-11-30 16:37:51 [scrapy.core.engine] DEBUG: Crawled (200) <GET https://www.nextdayflyers.com/secure/about-us> (referer: None)\n"
     ]
    },
    {
     "name": "stdout",
     "output_type": "stream",
     "text": [
      "site_url https://11thhourbiz.com site_url_close ['https://11thhourbiz.com', 'https://authorify.com', 'http://threez.com']\n",
      "site_url_close[0] https://11thhourbiz.com\n",
      "ii 241 self.companies[ii] 11th Hour\n",
      "out1 true iout1 186 url https://11thhourbiz.com\n",
      "companies[0] ChromaScape this url https://11thhourbiz.com\n"
     ]
    },
    {
     "name": "stderr",
     "output_type": "stream",
     "text": [
      "2021-11-30 16:37:51 [scrapy.core.engine] DEBUG: Crawled (200) <GET http://www.easydisc.net> (referer: None)\n",
      "2021-11-30 16:37:51 [scrapy.core.engine] DEBUG: Crawled (200) <GET https://icscolor.com/remote-director/> (referer: None)\n"
     ]
    },
    {
     "name": "stdout",
     "output_type": "stream",
     "text": [
      "site_url https://www.imageoptions.net site_url_close ['https://www.imageoptions.net', 'https://www.ccimaging.net', 'https://www.lawpublications.net']\n",
      "site_url_close[0] https://www.imageoptions.net\n",
      "ii 244 self.companies[ii] Image Options\n",
      "out1 true iout1 187 url https://www.imageoptions.net\n",
      "companies[0] iPROMOTEu this url https://www.imageoptions.net\n"
     ]
    },
    {
     "name": "stderr",
     "output_type": "stream",
     "text": [
      "2021-11-30 16:37:52 [scrapy.core.engine] DEBUG: Crawled (200) <GET https://www.directmaildepot.com/> (referer: None)\n",
      "2021-11-30 16:37:52 [scrapy.core.engine] DEBUG: Crawled (200) <GET https://www.4over4.com> (referer: None)\n"
     ]
    },
    {
     "name": "stdout",
     "output_type": "stream",
     "text": [
      "site_url https://www.nextdayflyers.com/secure/about-us site_url_close ['http://www.nextdayflyers.com/about-us', 'https://www.primaflyers.com/', 'https://www.nextlevelbsi.com/']\n",
      "site_url_close[0] http://www.nextdayflyers.com/about-us\n",
      "ii 225 self.companies[ii] Next Day Flyers\n",
      "out1 true iout1 188 url https://www.nextdayflyers.com/secure/about-us\n",
      "companies[0] Power Standards Lab this url https://www.nextdayflyers.com/secure/about-us\n",
      "site_url http://www.easydisc.net site_url_close ['http://www.easydisc.net', 'https://www.payneinc.net', 'http://www.decalsbydesign.net']\n",
      "site_url_close[0] http://www.easydisc.net\n",
      "ii 248 self.companies[ii] EasyDisc, Inc.\n",
      "out1 false iout2 28 url http://www.easydisc.net\n",
      "companies[0] Complete Prototype Services this url http://www.easydisc.net\n",
      "site_url https://icscolor.com/remote-director/ site_url_close ['https://www.icscolor.com/remote-director/', 'https://sampco.com/sampco/', 'http://dmscolor.com/']\n",
      "site_url_close[0] https://www.icscolor.com/remote-director/\n",
      "ii 233 self.companies[ii] ICScolor\n",
      "out1 true iout1 189 url https://icscolor.com/remote-director/\n",
      "companies[0] Evercel this url https://icscolor.com/remote-director/\n",
      "site_url https://www.directmaildepot.com/ site_url_close ['https://directmaildepot.com', 'https://www.directmailing.com/', 'http://www.trecmail.com/']\n",
      "site_url_close[0] https://directmaildepot.com\n",
      "ii 235 self.companies[ii] Direct Mail Depot\n",
      "out1 true iout1 190 url https://www.directmaildepot.com/\n",
      "companies[0] GFI Digital this url https://www.directmaildepot.com/\n"
     ]
    },
    {
     "name": "stderr",
     "output_type": "stream",
     "text": [
      "2021-11-30 16:37:54 [scrapy.core.engine] DEBUG: Crawled (200) <GET https://business.toshiba.com/usa/> (referer: None)\n",
      "2021-11-30 16:37:54 [scrapy.core.engine] DEBUG: Crawled (200) <GET https://mmpcfl.com/> (referer: None)\n",
      "2021-11-30 16:37:54 [scrapy.core.engine] DEBUG: Crawled (200) <GET https://worldwideticketcraft.com> (referer: None)\n"
     ]
    },
    {
     "name": "stdout",
     "output_type": "stream",
     "text": [
      "site_url https://www.4over4.com site_url_close ['https://www.4over4.com', 'https://www.monvera.com/', 'https://www.othr.com']\n",
      "site_url_close[0] https://www.4over4.com\n",
      "ii 240 self.companies[ii] 4OVER4\n",
      "out1 true iout1 191 url https://www.4over4.com\n",
      "companies[0] Standard Fiber LLC this url https://www.4over4.com\n"
     ]
    },
    {
     "name": "stderr",
     "output_type": "stream",
     "text": [
      "2021-11-30 16:37:54 [scrapy.downloadermiddlewares.redirect] DEBUG: Redirecting (301) to <GET https://www.amgair.com/> from <GET http://www.amgair.com>\n"
     ]
    },
    {
     "name": "stdout",
     "output_type": "stream",
     "text": [
      "site_url https://business.toshiba.com/usa/ site_url_close ['http://business.toshiba.com/usa', 'https://i95business.com/', 'https://finestar.com/']\n",
      "site_url_close[0] http://business.toshiba.com/usa\n",
      "ii 227 self.companies[ii] Toshiba America Business Solutions\n",
      "out1 false iout2 29 url https://business.toshiba.com/usa/\n",
      "companies[0] Medical Modeling Inc. this url https://business.toshiba.com/usa/\n"
     ]
    },
    {
     "name": "stderr",
     "output_type": "stream",
     "text": [
      "2021-11-30 16:37:55 [scrapy.core.scraper] DEBUG: Scraped from <200 https://mmpcfl.com/>\r\n",
      "{'Organization': 'Minuteman Press Longwood | Design, Printing, Mailing, & '\n",
      "                 'Signs',\n",
      " 'fulltext': 'Minuteman Press Longwood is a One-Stop-Shop for all of your Design, Printing, Signage, and Direct Mail Marketing needs. We offer marketing solutions that will help you grow your business and keep you one step ahead of the competition. We are unique in our space, having the in-house capabilities of Design, Digital Marketing, Direct Mail, Wide Format Signage, Digital & Offset Printing, as well as extensive bindery and finishing capabilities including laminating, UV coating, booklet making, and much more! This wide range of in-house capabilities allows us complete control over quality, turnaround, and price. Our unique emphasis on Personalized Customer Service is what sets us apart from the competition. Contact us today!',\n",
      " 'searchterm': 'screen printing',\n",
      " 'url': 'https://mmpcfl.com/'}\n"
     ]
    },
    {
     "name": "stdout",
     "output_type": "stream",
     "text": [
      "site_url https://mmpcfl.com/ site_url_close ['https://mmpcfl.com/', 'https://hcf.com/', 'https://clov.com/']\n",
      "site_url_close[0] https://mmpcfl.com/\n",
      "ii 247 self.companies[ii] Minuteman Press Longwood | Design, Printing, Mailing, & Signs\n",
      "yielding item screen printing\n"
     ]
    },
    {
     "name": "stderr",
     "output_type": "stream",
     "text": [
      "2021-11-30 16:37:55 [scrapy.downloadermiddlewares.redirect] DEBUG: Redirecting (301) to <GET http://klaser-usa.com/> from <GET http://www.klaser-usa.com>\n",
      "2021-11-30 16:37:55 [scrapy.downloadermiddlewares.redirect] DEBUG: Redirecting (301) to <GET https://www.vanguardprotexglobal.com/> from <GET https://vanguardprotexglobal.com/>\n",
      "2021-11-30 16:37:55 [scrapy.core.engine] DEBUG: Crawled (200) <GET https://www.ntwo.com/> (referer: None)\n"
     ]
    },
    {
     "name": "stdout",
     "output_type": "stream",
     "text": [
      "site_url https://worldwideticketcraft.com site_url_close ['https://worldwideticketcraft.com', 'http://wardkraft.com', 'http://www.rocketcrafters.com']\n",
      "site_url_close[0] https://worldwideticketcraft.com\n",
      "ii 249 self.companies[ii] Worldwide TicketCraft\n",
      "out1 true iout1 192 url https://worldwideticketcraft.com\n",
      "companies[0] LSI Robway Pty Ltd this url https://worldwideticketcraft.com\n",
      "out1 true iout1 193 url https://mmpcfl.com/\n",
      "companies[0] YES Packaging this url https://mmpcfl.com/\n"
     ]
    },
    {
     "name": "stderr",
     "output_type": "stream",
     "text": [
      "2021-11-30 16:37:56 [scrapy.downloadermiddlewares.redirect] DEBUG: Redirecting (301) to <GET https://www.berylmartin.com/> from <GET https://berylmartin.com>\n",
      "2021-11-30 16:37:56 [scrapy.core.engine] DEBUG: Crawled (200) <GET http://www.printingtechnology.net> (referer: None)\n"
     ]
    },
    {
     "name": "stdout",
     "output_type": "stream",
     "text": [
      "site_url https://www.ntwo.com/ site_url_close ['https://www.ntwo.com/', 'https://www.sfntc.com/', 'https://www.nwa3d.com/']\n",
      "site_url_close[0] https://www.ntwo.com/\n",
      "ii 252 self.companies[ii] National Networks\n",
      "out1 true iout1 194 url https://www.ntwo.com/\n",
      "companies[0] Showdown Displays this url https://www.ntwo.com/\n"
     ]
    },
    {
     "name": "stderr",
     "output_type": "stream",
     "text": [
      "2021-11-30 16:37:56 [scrapy.core.scraper] DEBUG: Scraped from <200 http://www.printingtechnology.net>\n",
      "{'Organization': 'PTS',\n",
      " 'fulltext': 'nan',\n",
      " 'searchterm': 'inkjet',\n",
      " 'url': 'http://www.printingtechnology.net'}\n",
      "2021-11-30 16:37:56 [scrapy.core.engine] DEBUG: Crawled (200) <GET https://hotcards.com> (referer: None)\n"
     ]
    },
    {
     "name": "stdout",
     "output_type": "stream",
     "text": [
      "site_url http://www.printingtechnology.net site_url_close ['http://www.printingtechnology.net', 'http://www.4printing.net', 'https://www.monstertechnology.net/']\n",
      "site_url_close[0] http://www.printingtechnology.net\n",
      "ii 255 self.companies[ii] PTS\n",
      "yielding item inkjet\n",
      "out1 true iout1 195 url http://www.printingtechnology.net\n",
      "companies[0] ShopWorks this url http://www.printingtechnology.net\n"
     ]
    },
    {
     "name": "stderr",
     "output_type": "stream",
     "text": [
      "2021-11-30 16:37:57 [scrapy.downloadermiddlewares.redirect] DEBUG: Redirecting (301) to <GET https://sagevfoods.com/> from <GET http://sagevfoods.com/>\n"
     ]
    },
    {
     "name": "stdout",
     "output_type": "stream",
     "text": [
      "site_url https://hotcards.com site_url_close ['https://hotcards.com', 'http://cardsink.com', 'https://ocdm.com/']\n",
      "site_url_close[0] https://hotcards.com\n",
      "ii 256 self.companies[ii] Hotcards\n",
      "out1 true iout1 196 url https://hotcards.com\n",
      "companies[0] Mimaki USA, Inc. this url https://hotcards.com\n"
     ]
    },
    {
     "name": "stderr",
     "output_type": "stream",
     "text": [
      "2021-11-30 16:37:58 [scrapy.core.engine] DEBUG: Crawled (200) <GET https://yearbooklife.com> (referer: None)\n",
      "2021-11-30 16:37:58 [scrapy.core.engine] DEBUG: Crawled (200) <GET https://www.arcserv.com/> (referer: None)\n",
      "2021-11-30 16:37:58 [scrapy.core.engine] DEBUG: Crawled (200) <GET https://www.ccimaging.net> (referer: None)\n"
     ]
    },
    {
     "name": "stdout",
     "output_type": "stream",
     "text": [
      "site_url https://yearbooklife.com site_url_close ['https://yearbooklife.com', 'https://dekkerbook.com', 'https://yearbooks.picaboo.com/']\n",
      "site_url_close[0] https://yearbooklife.com\n",
      "ii 260 self.companies[ii] YearbookLife\n",
      "out1 true iout1 197 url https://yearbooklife.com\n",
      "companies[0] Print Inc this url https://yearbooklife.com\n"
     ]
    },
    {
     "name": "stderr",
     "output_type": "stream",
     "text": [
      "2021-11-30 16:37:59 [scrapy.core.engine] DEBUG: Crawled (200) <GET https://www.rlprinting.net/> (referer: None)\n"
     ]
    },
    {
     "name": "stdout",
     "output_type": "stream",
     "text": [
      "site_url https://www.arcserv.com/ site_url_close ['https://www.argen.com/', 'https://www.rrd.com/', 'https://www.cds.com/']\n",
      "site_url_close[0] https://www.argen.com/\n",
      "ii 1721 self.companies[ii] The Argen Corporation\n",
      "out1 true iout1 198 url https://www.arcserv.com/\n",
      "companies[0] Aerocast this url https://www.arcserv.com/\n",
      "site_url https://www.ccimaging.net site_url_close ['https://www.ccimaging.net', 'https://www.graphicimaging.net', 'http://www.cca.net']\n",
      "site_url_close[0] https://www.ccimaging.net\n",
      "ii 259 self.companies[ii] Crystal Clear Imaging, LLC\n",
      "out1 true iout1 199 url https://www.ccimaging.net\n",
      "companies[0] Next Day Flyers this url https://www.ccimaging.net\n"
     ]
    },
    {
     "name": "stderr",
     "output_type": "stream",
     "text": [
      "2021-11-30 16:38:00 [scrapy.core.engine] DEBUG: Crawled (200) <GET http://midwestsportswear.us/> (referer: None)\n",
      "2021-11-30 16:38:00 [scrapy.downloadermiddlewares.redirect] DEBUG: Redirecting (301) to <GET https://allied.tech/> from <GET https://www.allied.tech/>\n"
     ]
    },
    {
     "name": "stdout",
     "output_type": "stream",
     "text": [
      "site_url https://www.rlprinting.net/ site_url_close ['https://www.rlprinting.net/', 'https://www.rpiprinting.net/', 'https://www.nsprinting.net']\n",
      "site_url_close[0] https://www.rlprinting.net/\n",
      "ii 257 self.companies[ii] R & L Printing Services\n",
      "out1 true iout1 200 url https://www.rlprinting.net/\n",
      "companies[0] Mass Group this url https://www.rlprinting.net/\n"
     ]
    },
    {
     "name": "stderr",
     "output_type": "stream",
     "text": [
      "2021-11-30 16:38:00 [scrapy.core.engine] DEBUG: Crawled (200) <GET http://klaser-usa.com/> (referer: None)\n",
      "2021-11-30 16:38:00 [scrapy.core.engine] DEBUG: Crawled (200) <GET https://www.stockholmdesign.com/> (referer: None)\n",
      "2021-11-30 16:38:00 [scrapy.core.engine] DEBUG: Crawled (200) <GET http://dynascan.com/> (referer: None)\n"
     ]
    },
    {
     "name": "stdout",
     "output_type": "stream",
     "text": [
      "site_url http://midwestsportswear.us/ site_url_close ['http://midwestsportswear.us/', 'https://midwestproto.com/', 'http://campussportswearinc.com/']\n",
      "site_url_close[0] http://midwestsportswear.us/\n",
      "ii 263 self.companies[ii] Midwest Sportswear and Athletic Supply\n",
      "out1 true iout1 201 url http://midwestsportswear.us/\n",
      "companies[0] Toshiba America Business Solutions this url http://midwestsportswear.us/\n",
      "site_url http://klaser-usa.com/ site_url_close ['http://www.klaser-usa.com', 'http://lacerta.com/', 'http://mkusa.com/']\n",
      "site_url_close[0] http://www.klaser-usa.com\n",
      "ii 254 self.companies[ii] K Laser Technology\n",
      "out1 true iout1 202 url http://klaser-usa.com/\n",
      "companies[0] Allied Business Solutions this url http://klaser-usa.com/\n",
      "site_url https://www.stockholmdesign.com/ site_url_close ['https://www.stockholmdesign.com/', 'https://www.instockdesign.com/', 'http://www.oakleysign.com/']\n",
      "site_url_close[0] https://www.stockholmdesign.com/\n",
      "ii 262 self.companies[ii] Stockholm Design\n",
      "out1 true iout1 203 url https://www.stockholmdesign.com/\n",
      "companies[0] Advanced Molding Technologies this url https://www.stockholmdesign.com/\n"
     ]
    },
    {
     "name": "stderr",
     "output_type": "stream",
     "text": [
      "2021-11-30 16:38:02 [scrapy.core.engine] DEBUG: Crawled (200) <GET https://www.berylmartin.com/> (referer: None)\n",
      "2021-11-30 16:38:02 [scrapy.core.engine] DEBUG: Crawled (200) <GET https://highelevation.net/> (referer: None)\n"
     ]
    },
    {
     "name": "stdout",
     "output_type": "stream",
     "text": [
      "site_url http://dynascan.com/ site_url_close ['http://dynascan.com/', 'http://naso.com', 'http://entrescan.com']\n",
      "site_url_close[0] http://dynascan.com/\n",
      "ii 264 self.companies[ii] Dynascan\n",
      "out1 true iout1 204 url http://dynascan.com/\n",
      "companies[0] VuPoint Solutions this url http://dynascan.com/\n"
     ]
    },
    {
     "name": "stderr",
     "output_type": "stream",
     "text": [
      "2021-11-30 16:38:02 [scrapy.downloadermiddlewares.redirect] DEBUG: Redirecting (301) to <GET https://www.imagemaster.com/> from <GET http://www.imagemaster.com>\n"
     ]
    },
    {
     "name": "stdout",
     "output_type": "stream",
     "text": [
      "site_url https://www.berylmartin.com/ site_url_close ['https://berylmartin.com', 'https://www.belmark.com/', 'https://www.bell-mark.com/']\n",
      "site_url_close[0] https://berylmartin.com\n",
      "ii 253 self.companies[ii] BerylMartin\n",
      "out1 true iout1 205 url https://www.berylmartin.com/\n",
      "companies[0] Box USA this url https://www.berylmartin.com/\n"
     ]
    },
    {
     "name": "stderr",
     "output_type": "stream",
     "text": [
      "2021-11-30 16:38:03 [scrapy.core.engine] DEBUG: Crawled (200) <GET https://www.printrunner.com/> (referer: None)\n",
      "2021-11-30 16:38:03 [scrapy.downloadermiddlewares.retry] ERROR: Gave up retrying <GET https://www.loco-creations.nl> (failed 3 times): TCP connection timed out: 10060: A connection attempt failed because the connected party did not properly respond after a period of time, or established connection failed because connected host has failed to respond..\n",
      "2021-11-30 16:38:03 [scrapy.downloadermiddlewares.retry] DEBUG: Retrying <GET https://www.gazelleprototype.com/> (failed 1 times): Connection was refused by other side: 10061: No connection could be made because the target machine actively refused it..\n"
     ]
    },
    {
     "name": "stdout",
     "output_type": "stream",
     "text": [
      "site_url https://highelevation.net/ site_url_close ['https://highelevation.net/', 'https://highresolutions.com/', 'https://sigprint.net/']\n",
      "site_url_close[0] https://highelevation.net/\n",
      "ii 261 self.companies[ii] High Elevation\n",
      "out1 true iout1 206 url https://highelevation.net/\n",
      "companies[0] Mediaspace Solutions this url https://highelevation.net/\n"
     ]
    },
    {
     "name": "stderr",
     "output_type": "stream",
     "text": [
      "2021-11-30 16:38:04 [scrapy.downloadermiddlewares.redirect] DEBUG: Redirecting (301) to <GET https://www.tri-copy.com/> from <GET http://www.tri-copy.com/>\n",
      "2021-11-30 16:38:04 [scrapy.core.scraper] ERROR: Error downloading <GET https://www.loco-creations.nl>\n",
      "Traceback (most recent call last):\n",
      "  File \"C:\\Users\\MStopa\\AppData\\Local\\Continuum\\anaconda3\\envs\\webscrape\\lib\\site-packages\\scrapy\\core\\downloader\\middleware.py\", line 44, in process_request\n",
      "    return (yield download_func(request=request, spider=spider))\n",
      "twisted.internet.error.TCPTimedOutError: TCP connection timed out: 10060: A connection attempt failed because the connected party did not properly respond after a period of time, or established connection failed because connected host has failed to respond..\n",
      "2021-11-30 16:38:04 [scrapy.core.engine] DEBUG: Crawled (200) <GET https://www.dcopy.net/> (referer: None)\n"
     ]
    },
    {
     "name": "stdout",
     "output_type": "stream",
     "text": [
      "site_url https://www.printrunner.com/ site_url_close ['http://www.printrunner.com', 'https://www.printgreener.com/', 'https://www.printergy.com/']\n",
      "site_url_close[0] http://www.printrunner.com\n",
      "ii 245 self.companies[ii] PrintRunner.com\n",
      "out1 true iout1 207 url https://www.printrunner.com/\n",
      "companies[0] ICScolor this url https://www.printrunner.com/\n"
     ]
    },
    {
     "name": "stderr",
     "output_type": "stream",
     "text": [
      "2021-11-30 16:38:04 [scrapy.core.engine] DEBUG: Crawled (200) <GET https://www.wheatmark.com/> (referer: None)\n",
      "2021-11-30 16:38:04 [scrapy.core.engine] DEBUG: Crawled (200) <GET https://www.amgair.com/> (referer: None)\n",
      "2021-11-30 16:38:04 [scrapy.core.engine] DEBUG: Crawled (200) <GET https://www.vanguardprotexglobal.com/> (referer: None)\n",
      "2021-11-30 16:38:04 [scrapy.downloadermiddlewares.redirect] DEBUG: Redirecting (301) to <GET https://adventuresportsjournal.com/> from <GET https://www.adventuresportsjournal.com>\n"
     ]
    },
    {
     "name": "stdout",
     "output_type": "stream",
     "text": [
      "site_url https://www.dcopy.net/ site_url_close ['http://www.dcopy.net', 'https://www.akcopy.net/', 'https://www.aaacopy.net']\n",
      "site_url_close[0] http://www.dcopy.net\n",
      "ii 246 self.companies[ii] Digicopy\n",
      "out1 true iout1 208 url https://www.dcopy.net/\n",
      "companies[0] Jakprints this url https://www.dcopy.net/\n"
     ]
    },
    {
     "name": "stderr",
     "output_type": "stream",
     "text": [
      "2021-11-30 16:38:05 [scrapy.core.engine] DEBUG: Crawled (200) <GET https://pacificbarcode.com/> (referer: None)\n"
     ]
    },
    {
     "name": "stdout",
     "output_type": "stream",
     "text": [
      "site_url https://www.wheatmark.com/ site_url_close ['https://www.wheatmark.com/', 'https://www.westmarklm.com/', 'https://www.belmark.com/']\n",
      "site_url_close[0] https://www.wheatmark.com/\n",
      "ii 269 self.companies[ii] Wheatmark\n",
      "out1 true iout1 209 url https://www.wheatmark.com/\n",
      "companies[0] Direct Mail Depot this url https://www.wheatmark.com/\n",
      "site_url https://www.amgair.com/ site_url_close ['http://www.amgair.com', 'https://www.amgraph.com/', 'https://www.smark.com/']\n",
      "site_url_close[0] http://www.amgair.com\n",
      "ii 251 self.companies[ii] Air Marketing Group\n",
      "out1 true iout1 210 url https://www.amgair.com/\n",
      "companies[0] ARC Technology Solutions, LLC this url https://www.amgair.com/\n"
     ]
    },
    {
     "name": "stderr",
     "output_type": "stream",
     "text": [
      "2021-11-30 16:38:06 [scrapy.core.engine] DEBUG: Crawled (200) <GET https://www.cosmicktechnologies.com/> (referer: None)\n"
     ]
    },
    {
     "name": "stdout",
     "output_type": "stream",
     "text": [
      "site_url https://www.vanguardprotexglobal.com/ site_url_close ['http://vanguardprotexglobal.com', 'https://www.almadenglobal.com/', 'http://www.vaupell.com/']\n",
      "site_url_close[0] http://vanguardprotexglobal.com\n",
      "ii 237 self.companies[ii] Vanguard Protex Global\n",
      "out1 false iout2 30 url https://www.vanguardprotexglobal.com/\n",
      "companies[0] Vanguard Protex Global this url https://www.vanguardprotexglobal.com/\n"
     ]
    },
    {
     "name": "stderr",
     "output_type": "stream",
     "text": [
      "2021-11-30 16:38:07 [scrapy.core.scraper] ERROR: Spider error processing <GET https://pacificbarcode.com/> (referer: None)\n",
      "Traceback (most recent call last):\n",
      "  File \"C:\\Users\\MStopa\\AppData\\Local\\Continuum\\anaconda3\\envs\\webscrape\\lib\\site-packages\\scrapy\\utils\\defer.py\", line 120, in iter_errback\n",
      "    yield next(it)\n",
      "  File \"C:\\Users\\MStopa\\AppData\\Local\\Continuum\\anaconda3\\envs\\webscrape\\lib\\site-packages\\scrapy\\utils\\python.py\", line 346, in __next__\n",
      "    return next(self.data)\n",
      "  File \"C:\\Users\\MStopa\\AppData\\Local\\Continuum\\anaconda3\\envs\\webscrape\\lib\\site-packages\\scrapy\\utils\\python.py\", line 346, in __next__\n",
      "    return next(self.data)\n",
      "  File \"C:\\Users\\MStopa\\AppData\\Local\\Continuum\\anaconda3\\envs\\webscrape\\lib\\site-packages\\scrapy\\core\\spidermw.py\", line 64, in _evaluate_iterable\n",
      "    for r in iterable:\n",
      "  File \"C:\\Users\\MStopa\\AppData\\Local\\Continuum\\anaconda3\\envs\\webscrape\\lib\\site-packages\\scrapy\\spidermiddlewares\\offsite.py\", line 29, in process_spider_output\n",
      "    for x in result:\n",
      "  File \"C:\\Users\\MStopa\\AppData\\Local\\Continuum\\anaconda3\\envs\\webscrape\\lib\\site-packages\\scrapy\\core\\spidermw.py\", line 64, in _evaluate_iterable\n",
      "    for r in iterable:\n",
      "  File \"C:\\Users\\MStopa\\AppData\\Local\\Continuum\\anaconda3\\envs\\webscrape\\lib\\site-packages\\scrapy\\spidermiddlewares\\referer.py\", line 340, in <genexpr>\n",
      "    return (_set_referer(r) for r in result or ())\n",
      "  File \"C:\\Users\\MStopa\\AppData\\Local\\Continuum\\anaconda3\\envs\\webscrape\\lib\\site-packages\\scrapy\\core\\spidermw.py\", line 64, in _evaluate_iterable\n",
      "    for r in iterable:\n",
      "  File \"C:\\Users\\MStopa\\AppData\\Local\\Continuum\\anaconda3\\envs\\webscrape\\lib\\site-packages\\scrapy\\spidermiddlewares\\urllength.py\", line 37, in <genexpr>\n",
      "    return (r for r in result or () if _filter(r))\n",
      "  File \"C:\\Users\\MStopa\\AppData\\Local\\Continuum\\anaconda3\\envs\\webscrape\\lib\\site-packages\\scrapy\\core\\spidermw.py\", line 64, in _evaluate_iterable\n",
      "    for r in iterable:\n",
      "  File \"C:\\Users\\MStopa\\AppData\\Local\\Continuum\\anaconda3\\envs\\webscrape\\lib\\site-packages\\scrapy\\spidermiddlewares\\depth.py\", line 58, in <genexpr>\n",
      "    return (r for r in result or () if _filter(r))\n",
      "  File \"C:\\Users\\MStopa\\AppData\\Local\\Continuum\\anaconda3\\envs\\webscrape\\lib\\site-packages\\scrapy\\core\\spidermw.py\", line 64, in _evaluate_iterable\n",
      "    for r in iterable:\n",
      "  File \"<ipython-input-9-10a30e00531c>\", line 132, in parse\n",
      "    file1.write(out2 + '\\n')\n",
      "  File \"C:\\Users\\MStopa\\AppData\\Local\\Continuum\\anaconda3\\envs\\webscrape\\lib\\encodings\\cp1252.py\", line 19, in encode\n",
      "    return codecs.charmap_encode(input,self.errors,encoding_table)[0]\n",
      "UnicodeEncodeError: 'charmap' codec can't encode character '\\u2713' in position 798: character maps to <undefined>\n",
      "2021-11-30 16:38:07 [scrapy.core.engine] DEBUG: Crawled (200) <GET https://www.teamconceptprinting.com> (referer: None)\n",
      "2021-11-30 16:38:07 [scrapy.core.engine] DEBUG: Crawled (200) <GET https://southbostononline.com> (referer: None)\n",
      "2021-11-30 16:38:07 [scrapy.core.engine] DEBUG: Crawled (200) <GET https://onthemarkcommunications.com> (referer: None)\n"
     ]
    },
    {
     "name": "stdout",
     "output_type": "stream",
     "text": [
      "site_url https://pacificbarcode.com/ site_url_close ['https://pacificbarcode.com/', 'https://pacificcopy.com/', 'https://packwire.com']\n",
      "site_url_close[0] https://pacificbarcode.com/\n",
      "ii 271 self.companies[ii] Pacific Barcode\n",
      "out1 true iout1 211 url https://pacificbarcode.com/\n"
     ]
    },
    {
     "name": "stderr",
     "output_type": "stream",
     "text": [
      "2021-11-30 16:38:07 [scrapy.downloadermiddlewares.redirect] DEBUG: Redirecting (301) to <GET https://supersteel.com/> from <GET http://supersteel.com>\n",
      "2021-11-30 16:38:07 [scrapy.downloadermiddlewares.retry] DEBUG: Retrying <GET http://www.kodadistribution.com/> (failed 1 times): TCP connection timed out: 10060: A connection attempt failed because the connected party did not properly respond after a period of time, or established connection failed because connected host has failed to respond..\n"
     ]
    },
    {
     "name": "stdout",
     "output_type": "stream",
     "text": [
      "site_url https://www.cosmicktechnologies.com/ site_url_close ['https://www.cosmicktechnologies.com/', 'http://www.cubictechnologies.com', 'http://www.cdjtechnologies.com/']\n",
      "site_url_close[0] https://www.cosmicktechnologies.com/\n",
      "ii 268 self.companies[ii] Cosmick Technologies\n",
      "out1 true iout1 212 url https://www.cosmicktechnologies.com/\n",
      "companies[0] PrintVision this url https://www.cosmicktechnologies.com/\n"
     ]
    },
    {
     "name": "stderr",
     "output_type": "stream",
     "text": [
      "2021-11-30 16:38:08 [scrapy.core.scraper] DEBUG: Scraped from <200 https://www.teamconceptprinting.com>\r\n",
      "{'Organization': 'TEAM Concept Printing and Thermography',\n",
      " 'fulltext': 'nan',\n",
      " 'searchterm': 'digital printing',\n",
      " 'url': 'https://www.teamconceptprinting.com'}\n"
     ]
    },
    {
     "name": "stdout",
     "output_type": "stream",
     "text": [
      "site_url https://www.teamconceptprinting.com site_url_close ['https://www.teamconceptprinting.com', 'https://www.accentprinting.com/', 'https://www.mccartyprinting.com']\n",
      "site_url_close[0] https://www.teamconceptprinting.com\n",
      "ii 273 self.companies[ii] TEAM Concept Printing and Thermography\n",
      "yielding item digital printing\n",
      "site_url https://southbostononline.com site_url_close ['https://southbostononline.com', 'https://customoneonline.com', 'https://g2online.com']\n",
      "site_url_close[0] https://southbostononline.com\n",
      "ii 274 self.companies[ii] South Boston Online\n",
      "out1 true iout1 213 url https://southbostononline.com\n",
      "companies[0] KODA Distribution Group, Inc this url https://southbostononline.com\n"
     ]
    },
    {
     "name": "stderr",
     "output_type": "stream",
     "text": [
      "2021-11-30 16:38:09 [scrapy.core.scraper] ERROR: Spider error processing <GET https://onthemarkcommunications.com> (referer: None)\n",
      "Traceback (most recent call last):\n",
      "  File \"C:\\Users\\MStopa\\AppData\\Local\\Continuum\\anaconda3\\envs\\webscrape\\lib\\site-packages\\scrapy\\utils\\defer.py\", line 120, in iter_errback\n",
      "    yield next(it)\n",
      "  File \"C:\\Users\\MStopa\\AppData\\Local\\Continuum\\anaconda3\\envs\\webscrape\\lib\\site-packages\\scrapy\\utils\\python.py\", line 346, in __next__\n",
      "    return next(self.data)\n",
      "  File \"C:\\Users\\MStopa\\AppData\\Local\\Continuum\\anaconda3\\envs\\webscrape\\lib\\site-packages\\scrapy\\utils\\python.py\", line 346, in __next__\n",
      "    return next(self.data)\n",
      "  File \"C:\\Users\\MStopa\\AppData\\Local\\Continuum\\anaconda3\\envs\\webscrape\\lib\\site-packages\\scrapy\\core\\spidermw.py\", line 64, in _evaluate_iterable\n",
      "    for r in iterable:\n",
      "  File \"C:\\Users\\MStopa\\AppData\\Local\\Continuum\\anaconda3\\envs\\webscrape\\lib\\site-packages\\scrapy\\spidermiddlewares\\offsite.py\", line 29, in process_spider_output\n",
      "    for x in result:\n",
      "  File \"C:\\Users\\MStopa\\AppData\\Local\\Continuum\\anaconda3\\envs\\webscrape\\lib\\site-packages\\scrapy\\core\\spidermw.py\", line 64, in _evaluate_iterable\n",
      "    for r in iterable:\n",
      "  File \"C:\\Users\\MStopa\\AppData\\Local\\Continuum\\anaconda3\\envs\\webscrape\\lib\\site-packages\\scrapy\\spidermiddlewares\\referer.py\", line 340, in <genexpr>\n",
      "    return (_set_referer(r) for r in result or ())\n",
      "  File \"C:\\Users\\MStopa\\AppData\\Local\\Continuum\\anaconda3\\envs\\webscrape\\lib\\site-packages\\scrapy\\core\\spidermw.py\", line 64, in _evaluate_iterable\n",
      "    for r in iterable:\n",
      "  File \"C:\\Users\\MStopa\\AppData\\Local\\Continuum\\anaconda3\\envs\\webscrape\\lib\\site-packages\\scrapy\\spidermiddlewares\\urllength.py\", line 37, in <genexpr>\n",
      "    return (r for r in result or () if _filter(r))\n",
      "  File \"C:\\Users\\MStopa\\AppData\\Local\\Continuum\\anaconda3\\envs\\webscrape\\lib\\site-packages\\scrapy\\core\\spidermw.py\", line 64, in _evaluate_iterable\n",
      "    for r in iterable:\n",
      "  File \"C:\\Users\\MStopa\\AppData\\Local\\Continuum\\anaconda3\\envs\\webscrape\\lib\\site-packages\\scrapy\\spidermiddlewares\\depth.py\", line 58, in <genexpr>\n",
      "    return (r for r in result or () if _filter(r))\n",
      "  File \"C:\\Users\\MStopa\\AppData\\Local\\Continuum\\anaconda3\\envs\\webscrape\\lib\\site-packages\\scrapy\\core\\spidermw.py\", line 64, in _evaluate_iterable\n",
      "    for r in iterable:\n",
      "  File \"<ipython-input-9-10a30e00531c>\", line 132, in parse\n",
      "    file1.write(out2 + '\\n')\n",
      "  File \"C:\\Users\\MStopa\\AppData\\Local\\Continuum\\anaconda3\\envs\\webscrape\\lib\\encodings\\cp1252.py\", line 19, in encode\n",
      "    return codecs.charmap_encode(input,self.errors,encoding_table)[0]\n",
      "UnicodeEncodeError: 'charmap' codec can't encode characters in position 1216-1217: character maps to <undefined>\n",
      "2021-11-30 16:38:09 [scrapy.core.engine] DEBUG: Crawled (200) <GET https://sagevfoods.com/> (referer: None)\n",
      "2021-11-30 16:38:09 [scrapy.core.engine] DEBUG: Crawled (200) <GET https://www.carrotink.com/> (referer: None)\n",
      "2021-11-30 16:38:09 [scrapy.downloadermiddlewares.redirect] DEBUG: Redirecting (302) to <GET http://ww1.shadesaver.com> from <GET http://www.shadesaver.com>\n"
     ]
    },
    {
     "name": "stdout",
     "output_type": "stream",
     "text": [
      "site_url https://onthemarkcommunications.com site_url_close ['https://onthemarkcommunications.com', 'https://steinmancommunications.com/', 'http://wickcommunications.com']\n",
      "site_url_close[0] https://onthemarkcommunications.com\n",
      "ii 272 self.companies[ii] On The Mark Communications\n",
      "out1 true iout1 214 url https://onthemarkcommunications.com\n",
      "out1 true iout1 215 url https://www.teamconceptprinting.com\n",
      "companies[0] 4OVER4 this url https://www.teamconceptprinting.com\n"
     ]
    },
    {
     "name": "stderr",
     "output_type": "stream",
     "text": [
      "2021-11-30 16:38:09 [scrapy.core.engine] DEBUG: Crawled (200) <GET http://www.nextengine.com> (referer: None)\n"
     ]
    },
    {
     "name": "stdout",
     "output_type": "stream",
     "text": [
      "site_url https://sagevfoods.com/ site_url_close ['http://sagevfoods.com/', 'https://arevo.com/', 'https://makeros.com/']\n",
      "site_url_close[0] http://sagevfoods.com/\n",
      "ii 258 self.companies[ii] Sage V Foods\n",
      "out1 false iout2 31 url https://sagevfoods.com/\n",
      "companies[0] 11th Hour this url https://sagevfoods.com/\n"
     ]
    },
    {
     "name": "stderr",
     "output_type": "stream",
     "text": [
      "2021-11-30 16:38:10 [scrapy.core.scraper] DEBUG: Scraped from <200 https://www.carrotink.com/>\r\n",
      "{'Organization': 'Carrot Ink',\n",
      " 'fulltext': \"In 1998 John and Amy Howard founded Carrot Ink on the belief that quality inkjet cartridges shouldn't cost more than your printer. Fed up with paying printer manufacturers prices, they challenged themselves to do it better and cheaper than the big guys. They found that they could offer a premium product without a premium price tag. In fact, high-quality Carrot Ink sells for 30-70% less than that of the name brands. BBB Online rates Carrot Ink as “A” communicating its trustworthiness and business health. Apart from it, Carrot Ink is a recipient of the BizRate.com Platinum Circle of Excellence, six times in its relatively short life span.\",\n",
      " 'searchterm': 'inkjet',\n",
      " 'url': 'https://www.carrotink.com/'}\n"
     ]
    },
    {
     "name": "stdout",
     "output_type": "stream",
     "text": [
      "site_url https://www.carrotink.com/ site_url_close ['https://www.carrotink.com/', 'https://www.icink.com/', 'https://www.agink.com/']\n",
      "site_url_close[0] https://www.carrotink.com/\n",
      "ii 275 self.companies[ii] Carrot Ink\n",
      "yielding item inkjet\n",
      "out1 true iout1 216 url https://www.carrotink.com/\n",
      "companies[0] Maverix Solutions this url https://www.carrotink.com/\n"
     ]
    },
    {
     "name": "stderr",
     "output_type": "stream",
     "text": [
      "2021-11-30 16:38:10 [scrapy.core.engine] DEBUG: Crawled (200) <GET http://www.replicocorp.com> (referer: None)\n",
      "2021-11-30 16:38:10 [scrapy.downloadermiddlewares.redirect] DEBUG: Redirecting (301) to <GET https://www.terrapinad.com/> from <GET http://www.terrapinad.com>\n",
      "2021-11-30 16:38:10 [scrapy.core.downloader.tls] WARNING: Remote certificate is not valid for hostname \"www.diversipak.com\"; VerificationError(errors=[DNSMismatch(mismatched_id=DNS_ID(hostname=b'www.diversipak.com'))])\n"
     ]
    },
    {
     "name": "stdout",
     "output_type": "stream",
     "text": [
      "site_url http://www.nextengine.com site_url_close ['http://www.nextengine.com', 'http://www.eteamline.com/', 'http://www.eastendink.com']\n",
      "site_url_close[0] http://www.nextengine.com\n",
      "ii 278 self.companies[ii] NextEngine\n",
      "out1 false iout2 32 url http://www.nextengine.com\n",
      "companies[0] Dutek this url http://www.nextengine.com\n"
     ]
    },
    {
     "name": "stderr",
     "output_type": "stream",
     "text": [
      "2021-11-30 16:38:11 [scrapy.core.engine] DEBUG: Crawled (200) <GET https://www.diversipak.com> (referer: None)\n"
     ]
    },
    {
     "name": "stdout",
     "output_type": "stream",
     "text": [
      "site_url http://www.replicocorp.com site_url_close ['http://www.replicocorp.com', 'https://www.repli.com', 'https://www.wrecolor.com']\n",
      "site_url_close[0] http://www.replicocorp.com\n",
      "ii 283 self.companies[ii] Replico\n",
      "out1 true iout1 217 url http://www.replicocorp.com\n",
      "companies[0] Image Options this url http://www.replicocorp.com\n"
     ]
    },
    {
     "name": "stderr",
     "output_type": "stream",
     "text": [
      "2021-11-30 16:38:12 [scrapy.downloadermiddlewares.retry] DEBUG: Retrying <GET https://www.gazelleprototype.com/> (failed 2 times): Connection was refused by other side: 10061: No connection could be made because the target machine actively refused it..\n"
     ]
    },
    {
     "name": "stdout",
     "output_type": "stream",
     "text": [
      "site_url https://www.diversipak.com site_url_close ['https://www.diversipak.com', 'https://www.versoco.com', 'https://www.nevsink.com']\n",
      "site_url_close[0] https://www.diversipak.com\n",
      "ii 279 self.companies[ii] Diversipak\n",
      "out1 false iout2 33 url https://www.diversipak.com\n",
      "companies[0] PrintRunner.com this url https://www.diversipak.com\n"
     ]
    },
    {
     "name": "stderr",
     "output_type": "stream",
     "text": [
      "2021-11-30 16:38:12 [scrapy.core.engine] DEBUG: Crawled (400) <GET http://www.eidbadges.com> (referer: None)\n",
      "2021-11-30 16:38:12 [scrapy.core.engine] DEBUG: Crawled (200) <GET https://premium-digital.com> (referer: None)\n",
      "2021-11-30 16:38:12 [scrapy.spidermiddlewares.httperror] INFO: Ignoring response <400 http://www.eidbadges.com>: HTTP status code is not handled or not allowed\n",
      "2021-11-30 16:38:12 [scrapy.core.engine] DEBUG: Crawled (200) <GET https://allied.tech/> (referer: None)\n",
      "2021-11-30 16:38:12 [scrapy.core.engine] DEBUG: Crawled (200) <GET https://adventuresportsjournal.com/> (referer: None)\n",
      "2021-11-30 16:38:12 [scrapy.core.engine] DEBUG: Crawled (200) <GET https://www.cascosigns.com> (referer: None)\n"
     ]
    },
    {
     "name": "stdout",
     "output_type": "stream",
     "text": [
      "site_url https://premium-digital.com site_url_close ['https://premium-digital.com', 'https://mimosadigital.com/', 'http://inxdigital.com']\n",
      "site_url_close[0] https://premium-digital.com\n",
      "ii 284 self.companies[ii] Premium Digital Office Solutions\n",
      "out1 true iout1 218 url https://premium-digital.com\n",
      "companies[0] Digicopy this url https://premium-digital.com\n",
      "site_url https://allied.tech/ site_url_close ['https://oasis.tech/', 'https://regalline.com/', 'https://niedo.com/']\n",
      "site_url_close[0] https://oasis.tech/\n",
      "ii 1029 self.companies[ii] Oasis Technologies\n",
      "out1 true iout1 219 url https://allied.tech/\n",
      "companies[0] Minuteman Press Longwood | Design, Printing, Mailing, & Signs this url https://allied.tech/\n",
      "site_url https://adventuresportsjournal.com/ site_url_close ['https://www.adventuresportsjournal.com', 'https://www.adventuresportsjournal.com', 'https://www.manchesterjournal.com/']\n",
      "site_url_close[0] https://www.adventuresportsjournal.com\n",
      "ii 267 self.companies[ii] Adventure Sports Journal\n",
      "out1 true iout1 220 url https://adventuresportsjournal.com/\n",
      "companies[0] EasyDisc, Inc. this url https://adventuresportsjournal.com/\n"
     ]
    },
    {
     "name": "stderr",
     "output_type": "stream",
     "text": [
      "2021-11-30 16:38:14 [scrapy.core.scraper] DEBUG: Scraped from <200 https://www.cascosigns.com>\n",
      "{'Organization': 'Casco Signs Incorporated',\n",
      " 'fulltext': 'nan',\n",
      " 'searchterm': 'digital printing',\n",
      " 'url': 'https://www.cascosigns.com'}\n",
      "2021-11-30 16:38:14 [scrapy.core.engine] DEBUG: Crawled (200) <GET https://envision-3.com> (referer: None)\n",
      "2021-11-30 16:38:14 [scrapy.core.engine] DEBUG: Crawled (200) <GET https://www.tri-copy.com/> (referer: None)\n",
      "2021-11-30 16:38:14 [scrapy.downloadermiddlewares.retry] DEBUG: Retrying <GET http://www.cirqit.com> (failed 1 times): TCP connection timed out: 10060: A connection attempt failed because the connected party did not properly respond after a period of time, or established connection failed because connected host has failed to respond..\n",
      "2021-11-30 16:38:14 [scrapy.core.engine] DEBUG: Crawled (200) <GET https://www.imagemaster.com/> (referer: None)\n",
      "2021-11-30 16:38:14 [scrapy.downloadermiddlewares.redirect] DEBUG: Redirecting (301) to <GET https://tapestryofgrace.com/> from <GET http://www.tapestryofgrace.com/>\n"
     ]
    },
    {
     "name": "stdout",
     "output_type": "stream",
     "text": [
      "site_url https://www.cascosigns.com site_url_close ['https://www.cascosigns.com', 'https://www.aahssigns.com', 'https://www.fastsigns.com/']\n",
      "site_url_close[0] https://www.cascosigns.com\n",
      "ii 285 self.companies[ii] Casco Signs Incorporated\n",
      "yielding item digital printing\n",
      "out1 true iout1 221 url https://www.cascosigns.com\n",
      "companies[0] Worldwide TicketCraft this url https://www.cascosigns.com\n"
     ]
    },
    {
     "name": "stderr",
     "output_type": "stream",
     "text": [
      "2021-11-30 16:38:14 [scrapy.core.engine] DEBUG: Crawled (200) <GET https://www.priceless-inkjet.com/> (referer: None)\n",
      "2021-11-30 16:38:14 [scrapy.core.engine] DEBUG: Crawled (200) <GET https://www.nautilussys.com/> (referer: None)\n",
      "2021-11-30 16:38:14 [scrapy.downloadermiddlewares.retry] DEBUG: Retrying <GET https://www.jakprints.com/goto> (failed 1 times): [<twisted.python.failure.Failure twisted.internet.error.ConnectionLost: Connection to the other side was lost in a non-clean fashion: Connection lost.>]\n"
     ]
    },
    {
     "name": "stdout",
     "output_type": "stream",
     "text": [
      "site_url https://envision-3.com site_url_close ['https://envision-3.com', 'http://envisiontec.com', 'https://canion3d.com']\n",
      "site_url_close[0] https://envision-3.com\n",
      "ii 281 self.companies[ii] Envision3\n",
      "out1 true iout1 222 url https://envision-3.com\n",
      "companies[0] Cirqit this url https://envision-3.com\n",
      "site_url https://www.tri-copy.com/ site_url_close ['http://www.tri-copy.com/', 'https://www.pro-copy.com', 'https://www.tri-win.com/']\n",
      "site_url_close[0] http://www.tri-copy.com/\n",
      "ii 270 self.companies[ii] Tri-Copy Office Equipment\n",
      "out1 true iout1 223 url https://www.tri-copy.com/\n",
      "companies[0] Air Marketing Group this url https://www.tri-copy.com/\n"
     ]
    },
    {
     "name": "stderr",
     "output_type": "stream",
     "text": [
      "2021-11-30 16:38:15 [scrapy.core.engine] DEBUG: Crawled (200) <GET http://infinitegs.net/> (referer: None)\n",
      "2021-11-30 16:38:15 [scrapy.core.engine] DEBUG: Crawled (200) <GET https://retrofitdesign.net/> (referer: None)\n"
     ]
    },
    {
     "name": "stdout",
     "output_type": "stream",
     "text": [
      "site_url https://www.imagemaster.com/ site_url_close ['http://www.imagemaster.com', 'https://www.imagemattersinc.com/', 'https://www.adeast.com/']\n",
      "site_url_close[0] http://www.imagemaster.com\n",
      "ii 266 self.companies[ii] ImageMasters\n",
      "out1 true iout1 224 url https://www.imagemaster.com/\n",
      "companies[0] National Networks this url https://www.imagemaster.com/\n",
      "site_url https://www.priceless-inkjet.com/ site_url_close ['https://www.priceless-inkjet.com/', 'https://www.prenticedesign.com/', 'https://www.inkjets.com/']\n",
      "site_url_close[0] https://www.priceless-inkjet.com/\n",
      "ii 288 self.companies[ii] Priceless Ink & Toner\n",
      "out1 true iout1 225 url https://www.priceless-inkjet.com/\n",
      "companies[0] BerylMartin this url https://www.priceless-inkjet.com/\n"
     ]
    },
    {
     "name": "stderr",
     "output_type": "stream",
     "text": [
      "2021-11-30 16:38:16 [scrapy.core.engine] DEBUG: Crawled (200) <GET http://ww1.shadesaver.com> (referer: None)\n",
      "2021-11-30 16:38:16 [scrapy.extensions.logstats] INFO: Crawled 270 pages (at 93 pages/min), scraped 25 items (at 9 items/min)\n"
     ]
    },
    {
     "name": "stdout",
     "output_type": "stream",
     "text": [
      "site_url https://www.nautilussys.com/ site_url_close ['https://www.nautilussys.com/', 'https://www.arrsys.com/', 'https://www.centuryks.com/']\n",
      "site_url_close[0] https://www.nautilussys.com/\n",
      "ii 287 self.companies[ii] Nautilus Systems\n",
      "out1 true iout1 226 url https://www.nautilussys.com/\n",
      "companies[0] K Laser Technology this url https://www.nautilussys.com/\n",
      "site_url http://infinitegs.net/ site_url_close ['http://infinitegs.net/', 'http://infinitydigital.net/', 'http://www.printingms.net/']\n",
      "site_url_close[0] http://infinitegs.net/\n",
      "ii 290 self.companies[ii] Infinite graphic solutions\n",
      "out1 true iout1 227 url http://infinitegs.net/\n",
      "companies[0] PTS this url http://infinitegs.net/\n"
     ]
    },
    {
     "name": "stderr",
     "output_type": "stream",
     "text": [
      "2021-11-30 16:38:17 [scrapy.core.engine] DEBUG: Crawled (200) <GET https://www.studioonfire.com/> (referer: None)\n",
      "2021-11-30 16:38:17 [scrapy.core.engine] DEBUG: Crawled (200) <GET http://www.theanswerpeopleonline.com/main.html> (referer: None)\n",
      "2021-11-30 16:38:17 [scrapy.downloadermiddlewares.retry] DEBUG: Retrying <GET https://sfsignsupply.com/> (failed 1 times): DNS lookup failed: no results for hostname lookup: sfsignsupply.com.\n"
     ]
    },
    {
     "name": "stdout",
     "output_type": "stream",
     "text": [
      "site_url https://retrofitdesign.net/ site_url_close ['https://retrofitdesign.net/', 'http://detroitdesign.net/', 'http://helixdesign.net']\n",
      "site_url_close[0] https://retrofitdesign.net/\n",
      "ii 291 self.companies[ii] Retrofit Design\n",
      "out1 true iout1 228 url https://retrofitdesign.net/\n",
      "companies[0] Hotcards this url https://retrofitdesign.net/\n"
     ]
    },
    {
     "name": "stderr",
     "output_type": "stream",
     "text": [
      "2021-11-30 16:38:17 [scrapy.core.engine] DEBUG: Crawled (200) <GET https://www.itpofusa.com> (referer: None)\n"
     ]
    },
    {
     "name": "stdout",
     "output_type": "stream",
     "text": [
      "site_url http://ww1.shadesaver.com site_url_close ['http://www.shadesaver.com', 'http://www.ssar.com/', 'http://www.schrafelpaper.com']\n",
      "site_url_close[0] http://www.shadesaver.com\n",
      "ii 277 self.companies[ii] Shadesaver.com\n",
      "out1 false iout2 34 url http://ww1.shadesaver.com\n",
      "companies[0] R & L Printing Services this url http://ww1.shadesaver.com\n",
      "site_url https://www.studioonfire.com/ site_url_close ['https://www.studioonfire.com/', 'https://www.bonfire.com/', 'https://www.studio1500sf.com/']\n",
      "site_url_close[0] https://www.studioonfire.com/\n",
      "ii 294 self.companies[ii] Studio On Fire\n",
      "out1 true iout1 229 url https://www.studioonfire.com/\n",
      "companies[0] Sage V Foods this url https://www.studioonfire.com/\n"
     ]
    },
    {
     "name": "stderr",
     "output_type": "stream",
     "text": [
      "2021-11-30 16:38:18 [scrapy.core.engine] DEBUG: Crawled (200) <GET https://habitatvc.com> (referer: None)\n"
     ]
    },
    {
     "name": "stdout",
     "output_type": "stream",
     "text": [
      "site_url http://www.theanswerpeopleonline.com/main.html site_url_close ['http://www.theanswerpeopleonline.com/main.html', 'https://www.engleonline.com', 'https://www.harpercollins.com/']\n",
      "site_url_close[0] http://www.theanswerpeopleonline.com/main.html\n",
      "ii 292 self.companies[ii] The Answer People\n",
      "out1 true iout1 230 url http://www.theanswerpeopleonline.com/main.html\n",
      "companies[0] Crystal Clear Imaging, LLC this url http://www.theanswerpeopleonline.com/main.html\n"
     ]
    },
    {
     "name": "stderr",
     "output_type": "stream",
     "text": [
      "2021-11-30 16:38:19 [scrapy.core.scraper] DEBUG: Scraped from <200 https://www.itpofusa.com>\n",
      "{'Organization': 'Innovative Technologies in Print',\n",
      " 'fulltext': 'nan',\n",
      " 'searchterm': 'digital printing',\n",
      " 'url': 'https://www.itpofusa.com'}\n",
      "2021-11-30 16:38:19 [scrapy.downloadermiddlewares.redirect] DEBUG: Redirecting (301) to <GET https://www.adpartner.net/> from <GET http://www.adpartner.net/>\n"
     ]
    },
    {
     "name": "stdout",
     "output_type": "stream",
     "text": [
      "site_url https://www.itpofusa.com site_url_close ['https://www.itpofusa.com', 'https://www.ipwusa.com/', 'http://www.stouse.com']\n",
      "site_url_close[0] https://www.itpofusa.com\n",
      "ii 293 self.companies[ii] Innovative Technologies in Print\n",
      "yielding item digital printing\n",
      "out1 true iout1 231 url https://www.itpofusa.com\n",
      "companies[0] YearbookLife this url https://www.itpofusa.com\n"
     ]
    },
    {
     "name": "stderr",
     "output_type": "stream",
     "text": [
      "2021-11-30 16:38:19 [scrapy.core.engine] DEBUG: Crawled (200) <GET http://www.eteamline.com/> (referer: None)\n",
      "2021-11-30 16:38:19 [scrapy.downloadermiddlewares.redirect] DEBUG: Redirecting (301) to <GET https://www.printerpresence.com/> from <GET http://www.printerpresence.com/>\n",
      "2021-11-30 16:38:19 [scrapy.core.engine] DEBUG: Crawled (200) <GET https://4carisma.com/> (referer: None)\n"
     ]
    },
    {
     "name": "stdout",
     "output_type": "stream",
     "text": [
      "site_url https://habitatvc.com site_url_close ['https://habitatvc.com', 'https://absit.com/', 'https://litpac.com/']\n",
      "site_url_close[0] https://habitatvc.com\n",
      "ii 296 self.companies[ii] Habitat Visual Communications\n",
      "out1 true iout1 232 url https://habitatvc.com\n",
      "companies[0] High Elevation this url https://habitatvc.com\n"
     ]
    },
    {
     "name": "stderr",
     "output_type": "stream",
     "text": [
      "2021-11-30 16:38:20 [scrapy.core.engine] DEBUG: Crawled (200) <GET https://supersteel.com/> (referer: None)\n",
      "2021-11-30 16:38:20 [scrapy.downloadermiddlewares.redirect] DEBUG: Redirecting (302) to <GET http://www.garmentgear.com/> from <GET http://www.garmentgear.com/>\n"
     ]
    },
    {
     "name": "stdout",
     "output_type": "stream",
     "text": [
      "site_url http://www.eteamline.com/ site_url_close ['http://www.eteamline.com/', 'http://www.metaldyne.com/', 'http://www.templi.com']\n",
      "site_url_close[0] http://www.eteamline.com/\n",
      "ii 300 self.companies[ii] TeamLine\n",
      "out1 true iout1 233 url http://www.eteamline.com/\n",
      "companies[0] Stockholm Design this url http://www.eteamline.com/\n"
     ]
    },
    {
     "name": "stderr",
     "output_type": "stream",
     "text": [
      "2021-11-30 16:38:20 [scrapy.core.scraper] ERROR: Spider error processing <GET https://4carisma.com/> (referer: None)\n",
      "Traceback (most recent call last):\n",
      "  File \"C:\\Users\\MStopa\\AppData\\Local\\Continuum\\anaconda3\\envs\\webscrape\\lib\\site-packages\\scrapy\\utils\\defer.py\", line 120, in iter_errback\n",
      "    yield next(it)\n",
      "  File \"C:\\Users\\MStopa\\AppData\\Local\\Continuum\\anaconda3\\envs\\webscrape\\lib\\site-packages\\scrapy\\utils\\python.py\", line 346, in __next__\n",
      "    return next(self.data)\n",
      "  File \"C:\\Users\\MStopa\\AppData\\Local\\Continuum\\anaconda3\\envs\\webscrape\\lib\\site-packages\\scrapy\\utils\\python.py\", line 346, in __next__\n",
      "    return next(self.data)\n",
      "  File \"C:\\Users\\MStopa\\AppData\\Local\\Continuum\\anaconda3\\envs\\webscrape\\lib\\site-packages\\scrapy\\core\\spidermw.py\", line 64, in _evaluate_iterable\n",
      "    for r in iterable:\n",
      "  File \"C:\\Users\\MStopa\\AppData\\Local\\Continuum\\anaconda3\\envs\\webscrape\\lib\\site-packages\\scrapy\\spidermiddlewares\\offsite.py\", line 29, in process_spider_output\n",
      "    for x in result:\n",
      "  File \"C:\\Users\\MStopa\\AppData\\Local\\Continuum\\anaconda3\\envs\\webscrape\\lib\\site-packages\\scrapy\\core\\spidermw.py\", line 64, in _evaluate_iterable\n",
      "    for r in iterable:\n",
      "  File \"C:\\Users\\MStopa\\AppData\\Local\\Continuum\\anaconda3\\envs\\webscrape\\lib\\site-packages\\scrapy\\spidermiddlewares\\referer.py\", line 340, in <genexpr>\n",
      "    return (_set_referer(r) for r in result or ())\n",
      "  File \"C:\\Users\\MStopa\\AppData\\Local\\Continuum\\anaconda3\\envs\\webscrape\\lib\\site-packages\\scrapy\\core\\spidermw.py\", line 64, in _evaluate_iterable\n",
      "    for r in iterable:\n",
      "  File \"C:\\Users\\MStopa\\AppData\\Local\\Continuum\\anaconda3\\envs\\webscrape\\lib\\site-packages\\scrapy\\spidermiddlewares\\urllength.py\", line 37, in <genexpr>\n",
      "    return (r for r in result or () if _filter(r))\n",
      "  File \"C:\\Users\\MStopa\\AppData\\Local\\Continuum\\anaconda3\\envs\\webscrape\\lib\\site-packages\\scrapy\\core\\spidermw.py\", line 64, in _evaluate_iterable\n",
      "    for r in iterable:\n",
      "  File \"C:\\Users\\MStopa\\AppData\\Local\\Continuum\\anaconda3\\envs\\webscrape\\lib\\site-packages\\scrapy\\spidermiddlewares\\depth.py\", line 58, in <genexpr>\n",
      "    return (r for r in result or () if _filter(r))\n",
      "  File \"C:\\Users\\MStopa\\AppData\\Local\\Continuum\\anaconda3\\envs\\webscrape\\lib\\site-packages\\scrapy\\core\\spidermw.py\", line 64, in _evaluate_iterable\n",
      "    for r in iterable:\n",
      "  File \"<ipython-input-9-10a30e00531c>\", line 132, in parse\n",
      "    file1.write(out2 + '\\n')\n",
      "  File \"C:\\Users\\MStopa\\AppData\\Local\\Continuum\\anaconda3\\envs\\webscrape\\lib\\encodings\\cp1252.py\", line 19, in encode\n",
      "    return codecs.charmap_encode(input,self.errors,encoding_table)[0]\n",
      "UnicodeEncodeError: 'charmap' codec can't encode characters in position 1039-1040: character maps to <undefined>\n",
      "2021-11-30 16:38:20 [scrapy.downloadermiddlewares.retry] ERROR: Gave up retrying <GET https://www.gazelleprototype.com/> (failed 3 times): Connection was refused by other side: 10061: No connection could be made because the target machine actively refused it..\n"
     ]
    },
    {
     "name": "stdout",
     "output_type": "stream",
     "text": [
      "site_url https://4carisma.com/ site_url_close ['https://4carisma.com/', 'https://crispimg.com/', 'https://caroba.com/']\n",
      "site_url_close[0] https://4carisma.com/\n",
      "ii 297 self.companies[ii] Carisma Large Format Printing\n",
      "out1 true iout1 234 url https://4carisma.com/\n"
     ]
    },
    {
     "name": "stderr",
     "output_type": "stream",
     "text": [
      "2021-11-30 16:38:21 [scrapy.core.engine] DEBUG: Crawled (200) <GET https://www.mcfaddinmarketing.com/> (referer: None)\n",
      "2021-11-30 16:38:21 [scrapy.downloadermiddlewares.redirect] DEBUG: Redirecting (301) to <GET https://necoinc.com/> from <GET http://necoinc.com/>\n",
      "2021-11-30 16:38:21 [scrapy.downloadermiddlewares.redirect] DEBUG: Redirecting (302) to <GET https://www.terrapinad.com/pages/Home.cfm> from <GET https://www.terrapinad.com/>\n",
      "2021-11-30 16:38:21 [scrapy.core.scraper] ERROR: Error downloading <GET https://www.gazelleprototype.com/>\n",
      "Traceback (most recent call last):\n",
      "  File \"C:\\Users\\MStopa\\AppData\\Local\\Continuum\\anaconda3\\envs\\webscrape\\lib\\site-packages\\scrapy\\core\\downloader\\middleware.py\", line 44, in process_request\n",
      "    return (yield download_func(request=request, spider=spider))\n",
      "twisted.internet.error.ConnectionRefusedError: Connection was refused by other side: 10061: No connection could be made because the target machine actively refused it..\n"
     ]
    },
    {
     "name": "stdout",
     "output_type": "stream",
     "text": [
      "site_url https://supersteel.com/ site_url_close ['http://supersteel.com', 'http://auersteel.com', 'https://supersedegroup.com/']\n",
      "site_url_close[0] http://supersteel.com\n",
      "ii 276 self.companies[ii] Super Steel Schenectady\n",
      "out1 true iout1 235 url https://supersteel.com/\n",
      "companies[0] Midwest Sportswear and Athletic Supply this url https://supersteel.com/\n",
      "site_url https://www.mcfaddinmarketing.com/ site_url_close ['https://www.mcfaddinmarketing.com/', 'http://www.tmcmarketing.com/', 'https://www.kdesignmarketing.com/']\n",
      "site_url_close[0] https://www.mcfaddinmarketing.com/\n",
      "ii 303 self.companies[ii] McFaddin Marketing\n",
      "out1 true iout1 236 url https://www.mcfaddinmarketing.com/\n",
      "companies[0] Dynascan this url https://www.mcfaddinmarketing.com/\n"
     ]
    },
    {
     "name": "stderr",
     "output_type": "stream",
     "text": [
      "2021-11-30 16:38:22 [scrapy.downloadermiddlewares.redirect] DEBUG: Redirecting (301) to <GET https://cpscards.com/> from <GET http://www.cpscards.com/>\n",
      "2021-11-30 16:38:22 [scrapy.core.engine] DEBUG: Crawled (200) <GET https://www.solsticearts.com/> (referer: None)\n",
      "2021-11-30 16:38:22 [scrapy.core.engine] DEBUG: Crawled (200) <GET https://tapestryofgrace.com/> (referer: None)\n",
      "2021-11-30 16:38:22 [scrapy.core.engine] DEBUG: Crawled (200) <GET http://www.chromix.com> (referer: None)\n"
     ]
    },
    {
     "name": "stdout",
     "output_type": "stream",
     "text": [
      "site_url https://www.solsticearts.com/ site_url_close ['https://www.solsticearts.com/', 'https://www.rosotics.com/', 'https://www.customsticker.com/']\n",
      "site_url_close[0] https://www.solsticearts.com/\n",
      "ii 307 self.companies[ii] Solstice Art\n",
      "out1 true iout1 237 url https://www.solsticearts.com/\n",
      "companies[0] Gazelle Prototype this url https://www.solsticearts.com/\n",
      "site_url https://tapestryofgrace.com/ site_url_close ['http://www.tapestryofgrace.com/', 'https://app.solidface.com/', 'http://astro-graphics.com/']\n",
      "site_url_close[0] http://www.tapestryofgrace.com/\n",
      "ii 289 self.companies[ii] Lampstand Press\n",
      "out1 true iout1 238 url https://tapestryofgrace.com/\n",
      "companies[0] ImageMasters this url https://tapestryofgrace.com/\n",
      "site_url http://www.chromix.com site_url_close ['http://www.chromix.com', 'http://www.chromadi.com', 'http://www.komax.com']\n",
      "site_url_close[0] http://www.chromix.com\n",
      "ii 306 self.companies[ii] CHROMiX\n",
      "out1 true iout1 239 url http://www.chromix.com\n",
      "companies[0] Adventure Sports Journal this url http://www.chromix.com\n"
     ]
    },
    {
     "name": "stderr",
     "output_type": "stream",
     "text": [
      "2021-11-30 16:38:23 [scrapy.core.engine] DEBUG: Crawled (200) <GET http://matrix-press.com/index.html> (referer: None)\n",
      "2021-11-30 16:38:24 [scrapy.downloadermiddlewares.redirect] DEBUG: Redirecting (301) to <GET https://fascinationdesign.com/> from <GET http://fascinationdesign.com/>\n"
     ]
    },
    {
     "name": "stdout",
     "output_type": "stream",
     "text": [
      "site_url http://matrix-press.com/index.html site_url_close ['http://matrix-press.com/index.html', 'http://www.mattbroadus.com/index.html', 'http://chattercreative.com/index.html']\n",
      "site_url_close[0] http://matrix-press.com/index.html\n",
      "ii 311 self.companies[ii] Matrix Press\n",
      "out1 true iout1 240 url http://matrix-press.com/index.html\n",
      "companies[0] Cosmick Technologies this url http://matrix-press.com/index.html\n"
     ]
    },
    {
     "name": "stderr",
     "output_type": "stream",
     "text": [
      "2021-11-30 16:38:24 [scrapy.downloadermiddlewares.redirect] DEBUG: Redirecting (301) to <GET https://www.imagingtek.com/> from <GET http://www.imagingtek.com>\n",
      "2021-11-30 16:38:27 [scrapy.core.engine] DEBUG: Crawled (200) <GET https://www.printerpresence.com/> (referer: None)\n",
      "2021-11-30 16:38:27 [scrapy.downloadermiddlewares.retry] DEBUG: Retrying <GET https://sfsignsupply.com/> (failed 2 times): DNS lookup failed: no results for hostname lookup: sfsignsupply.com.\n"
     ]
    },
    {
     "name": "stdout",
     "output_type": "stream",
     "text": [
      "site_url https://www.printerpresence.com/ site_url_close ['http://www.printerpresence.com/', 'https://www.printgreener.com/', 'https://www.printerprezz.com/']\n",
      "site_url_close[0] http://www.printerpresence.com/\n",
      "ii 301 self.companies[ii] PrinterPresence\n",
      "out1 true iout1 241 url https://www.printerpresence.com/\n",
      "companies[0] Wheatmark this url https://www.printerpresence.com/\n"
     ]
    },
    {
     "name": "stderr",
     "output_type": "stream",
     "text": [
      "2021-11-30 16:38:28 [scrapy.downloadermiddlewares.redirect] DEBUG: Redirecting (301) to <GET https://garmentgear.com/> from <GET http://www.garmentgear.com/>\n",
      "2021-11-30 16:38:28 [scrapy.core.engine] DEBUG: Crawled (200) <GET https://www.terrapinad.com/pages/Home.cfm> (referer: None)\n"
     ]
    },
    {
     "name": "stdout",
     "output_type": "stream",
     "text": [
      "site_url https://www.terrapinad.com/pages/Home.cfm site_url_close ['http://www.terrapinad.com', 'https://www.rapidmade.com/', 'https://www.zebra.com/ap/en.html']\n",
      "site_url_close[0] http://www.terrapinad.com\n",
      "ii 282 self.companies[ii] Terrapin Art & Design\n",
      "out1 true iout1 242 url https://www.terrapinad.com/pages/Home.cfm\n",
      "companies[0] Tri-Copy Office Equipment this url https://www.terrapinad.com/pages/Home.cfm\n"
     ]
    },
    {
     "name": "stderr",
     "output_type": "stream",
     "text": [
      "2021-11-30 16:38:30 [scrapy.downloadermiddlewares.retry] DEBUG: Retrying <GET http://www.kodadistribution.com/> (failed 2 times): TCP connection timed out: 10060: A connection attempt failed because the connected party did not properly respond after a period of time, or established connection failed because connected host has failed to respond..\n",
      "2021-11-30 16:38:30 [scrapy.downloadermiddlewares.retry] DEBUG: Retrying <GET https://www.printnation.com> (failed 1 times): TCP connection timed out: 10060: A connection attempt failed because the connected party did not properly respond after a period of time, or established connection failed because connected host has failed to respond..\n",
      "2021-11-30 16:38:30 [scrapy.core.engine] DEBUG: Crawled (200) <GET https://generationsbeyond.com> (referer: None)\n",
      "2021-11-30 16:38:30 [scrapy.downloadermiddlewares.redirect] DEBUG: Redirecting (301) to <GET https://www.manhattantimesnews.com/> from <GET https://manhattantimesnews.com>\n",
      "2021-11-30 16:38:31 [scrapy.core.engine] DEBUG: Crawled (200) <GET https://x-central.com/> (referer: None)\n"
     ]
    },
    {
     "name": "stdout",
     "output_type": "stream",
     "text": [
      "site_url https://generationsbeyond.com site_url_close ['https://generationsbeyond.com', 'https://regentpromotions.com', 'http://imaginationtrends.com/']\n",
      "site_url_close[0] https://generationsbeyond.com\n",
      "ii 313 self.companies[ii] Generations Beyond\n",
      "out1 true iout1 243 url https://generationsbeyond.com\n",
      "companies[0] Pacific Barcode this url https://generationsbeyond.com\n"
     ]
    },
    {
     "name": "stderr",
     "output_type": "stream",
     "text": [
      "2021-11-30 16:38:31 [scrapy.core.engine] DEBUG: Crawled (200) <GET https://fascinationdesign.com/> (referer: None)\n",
      "2021-11-30 16:38:31 [scrapy.core.engine] DEBUG: Crawled (200) <GET https://www.adpartner.net/> (referer: None)\n"
     ]
    },
    {
     "name": "stdout",
     "output_type": "stream",
     "text": [
      "site_url https://x-central.com/ site_url_close ['https://x-central.com/', 'http://521central.com/', 'http://centralpcg.com']\n",
      "site_url_close[0] https://x-central.com/\n",
      "ii 304 self.companies[ii] X-Central\n",
      "out1 true iout1 244 url https://x-central.com/\n",
      "companies[0] On The Mark Communications this url https://x-central.com/\n"
     ]
    },
    {
     "name": "stderr",
     "output_type": "stream",
     "text": [
      "2021-11-30 16:38:32 [scrapy.core.engine] DEBUG: Crawled (200) <GET https://www.vividink.com/> (referer: None)\n",
      "2021-11-30 16:38:32 [scrapy.core.engine] DEBUG: Crawled (200) <GET https://cpscards.com/> (referer: None)\n"
     ]
    },
    {
     "name": "stdout",
     "output_type": "stream",
     "text": [
      "site_url https://fascinationdesign.com/ site_url_close ['http://fascinationdesign.com/', 'https://danjacdesign.com/', 'http://kaslodesign.com/']\n",
      "site_url_close[0] http://fascinationdesign.com/\n",
      "ii 310 self.companies[ii] FascinationDesign\n",
      "out1 true iout1 245 url https://fascinationdesign.com/\n",
      "companies[0] TEAM Concept Printing and Thermography this url https://fascinationdesign.com/\n",
      "site_url https://www.adpartner.net/ site_url_close ['http://www.adpartner.net/', 'https://www.alphalaser.net/', 'https://www.mapl.net/']\n",
      "site_url_close[0] http://www.adpartner.net/\n",
      "ii 299 self.companies[ii] Adpartner\n",
      "out1 true iout1 246 url https://www.adpartner.net/\n",
      "companies[0] South Boston Online this url https://www.adpartner.net/\n"
     ]
    },
    {
     "name": "stderr",
     "output_type": "stream",
     "text": [
      "2021-11-30 16:38:33 [scrapy.core.scraper] ERROR: Spider error processing <GET https://www.vividink.com/> (referer: None)\n",
      "Traceback (most recent call last):\n",
      "  File \"C:\\Users\\MStopa\\AppData\\Local\\Continuum\\anaconda3\\envs\\webscrape\\lib\\site-packages\\scrapy\\utils\\defer.py\", line 120, in iter_errback\n",
      "    yield next(it)\n",
      "  File \"C:\\Users\\MStopa\\AppData\\Local\\Continuum\\anaconda3\\envs\\webscrape\\lib\\site-packages\\scrapy\\utils\\python.py\", line 346, in __next__\n",
      "    return next(self.data)\n",
      "  File \"C:\\Users\\MStopa\\AppData\\Local\\Continuum\\anaconda3\\envs\\webscrape\\lib\\site-packages\\scrapy\\utils\\python.py\", line 346, in __next__\n",
      "    return next(self.data)\n",
      "  File \"C:\\Users\\MStopa\\AppData\\Local\\Continuum\\anaconda3\\envs\\webscrape\\lib\\site-packages\\scrapy\\core\\spidermw.py\", line 64, in _evaluate_iterable\n",
      "    for r in iterable:\n",
      "  File \"C:\\Users\\MStopa\\AppData\\Local\\Continuum\\anaconda3\\envs\\webscrape\\lib\\site-packages\\scrapy\\spidermiddlewares\\offsite.py\", line 29, in process_spider_output\n",
      "    for x in result:\n",
      "  File \"C:\\Users\\MStopa\\AppData\\Local\\Continuum\\anaconda3\\envs\\webscrape\\lib\\site-packages\\scrapy\\core\\spidermw.py\", line 64, in _evaluate_iterable\n",
      "    for r in iterable:\n",
      "  File \"C:\\Users\\MStopa\\AppData\\Local\\Continuum\\anaconda3\\envs\\webscrape\\lib\\site-packages\\scrapy\\spidermiddlewares\\referer.py\", line 340, in <genexpr>\n",
      "    return (_set_referer(r) for r in result or ())\n",
      "  File \"C:\\Users\\MStopa\\AppData\\Local\\Continuum\\anaconda3\\envs\\webscrape\\lib\\site-packages\\scrapy\\core\\spidermw.py\", line 64, in _evaluate_iterable\n",
      "    for r in iterable:\n",
      "  File \"C:\\Users\\MStopa\\AppData\\Local\\Continuum\\anaconda3\\envs\\webscrape\\lib\\site-packages\\scrapy\\spidermiddlewares\\urllength.py\", line 37, in <genexpr>\n",
      "    return (r for r in result or () if _filter(r))\n",
      "  File \"C:\\Users\\MStopa\\AppData\\Local\\Continuum\\anaconda3\\envs\\webscrape\\lib\\site-packages\\scrapy\\core\\spidermw.py\", line 64, in _evaluate_iterable\n",
      "    for r in iterable:\n",
      "  File \"C:\\Users\\MStopa\\AppData\\Local\\Continuum\\anaconda3\\envs\\webscrape\\lib\\site-packages\\scrapy\\spidermiddlewares\\depth.py\", line 58, in <genexpr>\n",
      "    return (r for r in result or () if _filter(r))\n",
      "  File \"C:\\Users\\MStopa\\AppData\\Local\\Continuum\\anaconda3\\envs\\webscrape\\lib\\site-packages\\scrapy\\core\\spidermw.py\", line 64, in _evaluate_iterable\n",
      "    for r in iterable:\n",
      "  File \"<ipython-input-9-10a30e00531c>\", line 132, in parse\n",
      "    file1.write(out2 + '\\n')\n",
      "  File \"C:\\Users\\MStopa\\AppData\\Local\\Continuum\\anaconda3\\envs\\webscrape\\lib\\encodings\\cp1252.py\", line 19, in encode\n",
      "    return codecs.charmap_encode(input,self.errors,encoding_table)[0]\n",
      "UnicodeEncodeError: 'charmap' codec can't encode character '\\u2008' in position 1221: character maps to <undefined>\n"
     ]
    },
    {
     "name": "stdout",
     "output_type": "stream",
     "text": [
      "site_url https://www.vividink.com/ site_url_close ['https://www.vividink.com/', 'https://www.icink.com/', 'https://www.dggink.com/']\n",
      "site_url_close[0] https://www.vividink.com/\n",
      "ii 315 self.companies[ii] Vivid Ink Graphics\n",
      "out1 true iout1 247 url https://www.vividink.com/\n"
     ]
    },
    {
     "name": "stderr",
     "output_type": "stream",
     "text": [
      "2021-11-30 16:38:33 [scrapy.downloadermiddlewares.retry] DEBUG: Retrying <GET https://www.jakprints.com/goto> (failed 2 times): 503 Service Unavailable\n",
      "2021-11-30 16:38:33 [scrapy.downloadermiddlewares.redirect] DEBUG: Redirecting (301) to <GET http://tvgpromostore.com/> from <GET https://vgvisuals.com/>\n"
     ]
    },
    {
     "name": "stdout",
     "output_type": "stream",
     "text": [
      "site_url https://cpscards.com/ site_url_close ['http://www.cpscards.com/', 'https://hotcards.com', 'https://wccbs.com/']\n",
      "site_url_close[0] http://www.cpscards.com/\n",
      "ii 308 self.companies[ii] CPS Cards\n",
      "out1 true iout1 248 url https://cpscards.com/\n",
      "companies[0] Carrot Ink this url https://cpscards.com/\n"
     ]
    },
    {
     "name": "stderr",
     "output_type": "stream",
     "text": [
      "2021-11-30 16:38:33 [scrapy.core.engine] DEBUG: Crawled (200) <GET https://www.rnd-tech.com/> (referer: None)\n",
      "2021-11-30 16:38:34 [scrapy.core.scraper] DEBUG: Scraped from <200 https://www.rnd-tech.com/>\n",
      "{'Organization': 'R&D Technologies',\n",
      " 'fulltext': 'nan',\n",
      " 'searchterm': 'additive manufacturing',\n",
      " 'url': 'https://www.rnd-tech.com/'}\n",
      "2021-11-30 16:38:34 [scrapy.downloadermiddlewares.redirect] DEBUG: Redirecting (301) to <GET https://www.fatheaddesign.com/> from <GET https://fatheaddesign.com>\n",
      "2021-11-30 16:38:34 [scrapy.downloadermiddlewares.redirect] DEBUG: Redirecting (302) to <GET http://ww38.techonweb.com/> from <GET http://www.techonweb.com>\n",
      "2021-11-30 16:38:34 [scrapy.core.engine] DEBUG: Crawled (200) <GET https://www.imagingtek.com/> (referer: None)\n"
     ]
    },
    {
     "name": "stdout",
     "output_type": "stream",
     "text": [
      "site_url https://www.rnd-tech.com/ site_url_close ['https://www.rnd-tech.com/', 'https://www.drgtech.com/', 'http://www.prinktech.com/']\n",
      "site_url_close[0] https://www.rnd-tech.com/\n",
      "ii 316 self.companies[ii] R&D Technologies\n",
      "yielding item additive manufacturing\n",
      "out1 true iout1 249 url https://www.rnd-tech.com/\n",
      "companies[0] Super Steel Schenectady this url https://www.rnd-tech.com/\n"
     ]
    },
    {
     "name": "stderr",
     "output_type": "stream",
     "text": [
      "2021-11-30 16:38:35 [scrapy.core.engine] DEBUG: Crawled (200) <GET https://www.jakprints.com/goto> (referer: None)\n"
     ]
    },
    {
     "name": "stdout",
     "output_type": "stream",
     "text": [
      "site_url https://www.imagingtek.com/ site_url_close ['http://www.imagingtek.com', 'https://www.imagingzone.com/', 'https://www.agink.com/']\n",
      "site_url_close[0] http://www.imagingtek.com\n",
      "ii 312 self.companies[ii] ImagingTek\n",
      "out1 true iout1 250 url https://www.imagingtek.com/\n",
      "companies[0] Shadesaver.com this url https://www.imagingtek.com/\n"
     ]
    },
    {
     "name": "stderr",
     "output_type": "stream",
     "text": [
      "2021-11-30 16:38:35 [scrapy.core.engine] DEBUG: Crawled (200) <GET https://www.sjdmedia.com/> (referer: None)\n",
      "2021-11-30 16:38:35 [scrapy.downloadermiddlewares.retry] DEBUG: Retrying <GET http://www.cirqit.com> (failed 2 times): TCP connection timed out: 10060: A connection attempt failed because the connected party did not properly respond after a period of time, or established connection failed because connected host has failed to respond..\n"
     ]
    },
    {
     "name": "stdout",
     "output_type": "stream",
     "text": [
      "site_url https://www.jakprints.com/goto site_url_close ['http://www.jakprints.com/', 'https://www.tankprints.com', 'https://www.khprint.com/']\n",
      "site_url_close[0] http://www.jakprints.com/\n",
      "ii 234 self.companies[ii] Jakprints\n",
      "out1 false iout2 35 url https://www.jakprints.com/goto\n",
      "companies[0] NextEngine this url https://www.jakprints.com/goto\n"
     ]
    },
    {
     "name": "stderr",
     "output_type": "stream",
     "text": [
      "2021-11-30 16:38:36 [scrapy.core.engine] DEBUG: Crawled (200) <GET https://www.benchmark-office.com> (referer: None)\n"
     ]
    },
    {
     "name": "stdout",
     "output_type": "stream",
     "text": [
      "site_url https://www.sjdmedia.com/ site_url_close ['https://www.sjdmedia.com/', 'https://www.cosomedia.com/', 'https://www.mgmedia.com']\n",
      "site_url_close[0] https://www.sjdmedia.com/\n",
      "ii 318 self.companies[ii] SJD Media & Marketing\n",
      "out1 true iout1 251 url https://www.sjdmedia.com/\n",
      "companies[0] Diversipak this url https://www.sjdmedia.com/\n"
     ]
    },
    {
     "name": "stderr",
     "output_type": "stream",
     "text": [
      "2021-11-30 16:38:37 [scrapy.core.engine] DEBUG: Crawled (200) <GET https://www.documentdepot.net> (referer: None)\n"
     ]
    },
    {
     "name": "stdout",
     "output_type": "stream",
     "text": [
      "site_url https://www.benchmark-office.com site_url_close ['https://www.benchmark-office.com', 'https://www.itaoffice.com', 'http://www.sbmsoffice.com']\n",
      "site_url_close[0] https://www.benchmark-office.com\n",
      "ii 322 self.companies[ii] Benchmark Office Systems\n",
      "out1 false iout2 36 url https://www.benchmark-office.com\n",
      "companies[0] PrintNation.com this url https://www.benchmark-office.com\n"
     ]
    },
    {
     "name": "stderr",
     "output_type": "stream",
     "text": [
      "2021-11-30 16:38:37 [scrapy.core.downloader.tls] WARNING: Remote certificate is not valid for hostname \"www.ngsolu.com\"; VerificationError(errors=[DNSMismatch(mismatched_id=DNS_ID(hostname=b'www.ngsolu.com'))])\n",
      "2021-11-30 16:38:37 [scrapy.core.engine] DEBUG: Crawled (200) <GET https://garmentgear.com/> (referer: None)\n",
      "2021-11-30 16:38:37 [scrapy.downloadermiddlewares.retry] DEBUG: Retrying <GET https://hiflowsolutions.com/> (failed 1 times): TCP connection timed out: 10060: A connection attempt failed because the connected party did not properly respond after a period of time, or established connection failed because connected host has failed to respond..\n",
      "2021-11-30 16:38:37 [scrapy.downloadermiddlewares.retry] ERROR: Gave up retrying <GET https://sfsignsupply.com/> (failed 3 times): DNS lookup failed: no results for hostname lookup: sfsignsupply.com.\n"
     ]
    },
    {
     "name": "stdout",
     "output_type": "stream",
     "text": [
      "site_url https://www.documentdepot.net site_url_close ['https://www.documentdepot.net', 'https://www.doctech.net/', 'https://www.centurydirect.net/']\n",
      "site_url_close[0] https://www.documentdepot.net\n",
      "ii 321 self.companies[ii] Document Depot\n",
      "out1 true iout1 252 url https://www.documentdepot.net\n",
      "companies[0] Envision3 this url https://www.documentdepot.net\n"
     ]
    },
    {
     "name": "stderr",
     "output_type": "stream",
     "text": [
      "2021-11-30 16:38:38 [scrapy.core.engine] DEBUG: Crawled (200) <GET https://www.ngsolu.com/> (referer: None)\n",
      "2021-11-30 16:38:38 [scrapy.downloadermiddlewares.retry] DEBUG: Retrying <GET http://www.ipw-inc.com/> (failed 1 times): 503 Service Unavailable\n",
      "2021-11-30 16:38:38 [scrapy.core.scraper] ERROR: Error downloading <GET https://sfsignsupply.com/>\n",
      "Traceback (most recent call last):\n",
      "  File \"C:\\Users\\MStopa\\AppData\\Local\\Continuum\\anaconda3\\envs\\webscrape\\lib\\site-packages\\twisted\\internet\\defer.py\", line 1416, in _inlineCallbacks\n",
      "    result = result.throwExceptionIntoGenerator(g)\n",
      "  File \"C:\\Users\\MStopa\\AppData\\Local\\Continuum\\anaconda3\\envs\\webscrape\\lib\\site-packages\\twisted\\python\\failure.py\", line 512, in throwExceptionIntoGenerator\n",
      "    return g.throw(self.type, self.value, self.tb)\n",
      "  File \"C:\\Users\\MStopa\\AppData\\Local\\Continuum\\anaconda3\\envs\\webscrape\\lib\\site-packages\\scrapy\\core\\downloader\\middleware.py\", line 44, in process_request\n",
      "    return (yield download_func(request=request, spider=spider))\n",
      "  File \"C:\\Users\\MStopa\\AppData\\Local\\Continuum\\anaconda3\\envs\\webscrape\\lib\\site-packages\\twisted\\internet\\defer.py\", line 654, in _runCallbacks\n",
      "    current.result = callback(current.result, *args, **kw)\n",
      "  File \"C:\\Users\\MStopa\\AppData\\Local\\Continuum\\anaconda3\\envs\\webscrape\\lib\\site-packages\\twisted\\internet\\endpoints.py\", line 982, in startConnectionAttempts\n",
      "    \"no results for hostname lookup: {}\".format(self._hostStr)\n",
      "twisted.internet.error.DNSLookupError: DNS lookup failed: no results for hostname lookup: sfsignsupply.com.\n",
      "2021-11-30 16:38:38 [scrapy.core.engine] DEBUG: Crawled (200) <GET https://www.bethebubble.com/> (referer: None)\n"
     ]
    },
    {
     "name": "stdout",
     "output_type": "stream",
     "text": [
      "site_url https://garmentgear.com/ site_url_close ['http://www.garmentgear.com/', 'https://metzgers.com/', 'https://greneker.com/']\n",
      "site_url_close[0] http://www.garmentgear.com/\n",
      "ii 302 self.companies[ii] Garment Gear\n",
      "out1 true iout1 253 url https://garmentgear.com/\n",
      "companies[0] Terrapin Art & Design this url https://garmentgear.com/\n"
     ]
    },
    {
     "name": "stderr",
     "output_type": "stream",
     "text": [
      "2021-11-30 16:38:39 [scrapy.downloadermiddlewares.redirect] DEBUG: Redirecting (301) to <GET https://promoplace.com/vgvisuals> from <GET http://tvgpromostore.com/>\n"
     ]
    },
    {
     "name": "stdout",
     "output_type": "stream",
     "text": [
      "site_url https://www.ngsolu.com/ site_url_close ['https://www.ngsolu.com/', 'https://www.skyou.com/', 'https://www.gungho.com/']\n",
      "site_url_close[0] https://www.ngsolu.com/\n",
      "ii 324 self.companies[ii] National Graphic Solutions\n",
      "out1 true iout1 254 url https://www.ngsolu.com/\n",
      "companies[0] Replico this url https://www.ngsolu.com/\n"
     ]
    },
    {
     "name": "stderr",
     "output_type": "stream",
     "text": [
      "2021-11-30 16:38:39 [scrapy.downloadermiddlewares.redirect] DEBUG: Redirecting (301) to <GET https://www.pf-solutions.com/> from <GET https://pf-solutions.com>\n",
      "2021-11-30 16:38:39 [scrapy.downloadermiddlewares.redirect] DEBUG: Redirecting (302) to <GET https://www.afternic.com/forsale/58k.com?utm_source=TDFS&utm_medium=sn_affiliate_click&utm_campaign=TDFS_GoDaddy_DLS&traffic_type=TDFS&traffic_id=GoDaddy_DLS> from <GET http://www.58k.com/>\n"
     ]
    },
    {
     "name": "stdout",
     "output_type": "stream",
     "text": [
      "site_url https://www.bethebubble.com/ site_url_close ['https://www.bethebubble.com/', 'https://www.thebureau.com', 'https://www.berber.com/']\n",
      "site_url_close[0] https://www.bethebubble.com/\n",
      "ii 323 self.companies[ii] The Bubble\n",
      "out1 true iout1 255 url https://www.bethebubble.com/\n",
      "companies[0] Premium Digital Office Solutions this url https://www.bethebubble.com/\n"
     ]
    },
    {
     "name": "stderr",
     "output_type": "stream",
     "text": [
      "2021-11-30 16:38:40 [scrapy.core.engine] DEBUG: Crawled (200) <GET https://www.manhattantimesnews.com/> (referer: None)\n",
      "2021-11-30 16:38:40 [scrapy.core.engine] DEBUG: Crawled (200) <GET https://www.artisancolour.com/> (referer: None)\n",
      "2021-11-30 16:38:41 [scrapy.core.engine] DEBUG: Crawled (200) <GET https://necoinc.com/> (referer: None)\n",
      "2021-11-30 16:38:41 [scrapy.downloadermiddlewares.redirect] DEBUG: Redirecting (301) to <GET https://www.buildparts.com/> from <GET http://www.buildparts.com/>\n"
     ]
    },
    {
     "name": "stdout",
     "output_type": "stream",
     "text": [
      "site_url https://www.manhattantimesnews.com/ site_url_close ['https://manhattantimesnews.com', 'https://www.pawneenews.com/', 'https://www.marnimyers.com/']\n",
      "site_url_close[0] https://manhattantimesnews.com\n",
      "ii 314 self.companies[ii] Manhattan Times\n",
      "out1 true iout1 256 url https://www.manhattantimesnews.com/\n",
      "companies[0] Casco Signs Incorporated this url https://www.manhattantimesnews.com/\n"
     ]
    },
    {
     "name": "stderr",
     "output_type": "stream",
     "text": [
      "2021-11-30 16:38:41 [scrapy.core.scraper] DEBUG: Scraped from <200 https://www.artisancolour.com/>\n",
      "{'Organization': 'Artisan Colour',\n",
      " 'fulltext': 'nan',\n",
      " 'searchterm': 'digital printing',\n",
      " 'url': 'https://www.artisancolour.com/'}\n",
      "2021-11-30 16:38:41 [scrapy.downloadermiddlewares.redirect] DEBUG: Redirecting (301) to <GET https://consistenthits.com/> from <GET http://www.consistenthits.com>\n"
     ]
    },
    {
     "name": "stdout",
     "output_type": "stream",
     "text": [
      "site_url https://www.artisancolour.com/ site_url_close ['https://www.artisancolour.com/', 'https://www.doriancolor.com/', 'https://www.parrotcolor.com/']\n",
      "site_url_close[0] https://www.artisancolour.com/\n",
      "ii 330 self.companies[ii] Artisan Colour\n",
      "yielding item digital printing\n",
      "out1 true iout1 257 url https://www.artisancolour.com/\n",
      "companies[0] Evolution Design Systems this url https://www.artisancolour.com/\n",
      "site_url https://necoinc.com/ site_url_close ['http://necoinc.com/', 'https://sneedcoding.com/', 'https://crt-inc.com/']\n",
      "site_url_close[0] http://necoinc.com/\n",
      "ii 305 self.companies[ii] Neco\n",
      "out1 true iout1 258 url https://necoinc.com/\n",
      "companies[0] Nautilus Systems this url https://necoinc.com/\n"
     ]
    },
    {
     "name": "stderr",
     "output_type": "stream",
     "text": [
      "2021-11-30 16:38:42 [scrapy.downloadermiddlewares.redirect] DEBUG: Redirecting (301) to <GET https://www.designsofallkinds.com/> from <GET http://Designsofallkinds.com>\n",
      "2021-11-30 16:38:42 [scrapy.core.engine] DEBUG: Crawled (200) <GET https://fasprint.com/> (referer: None)\n",
      "2021-11-30 16:38:43 [scrapy.core.engine] DEBUG: Crawled (200) <GET https://www.bigtimeadvertising.com/> (referer: None)\n"
     ]
    },
    {
     "name": "stdout",
     "output_type": "stream",
     "text": [
      "site_url https://fasprint.com/ site_url_close ['https://fasprint.com/', 'https://4dprint.com/', 'https://absit.com/']\n",
      "site_url_close[0] https://fasprint.com/\n",
      "ii 331 self.companies[ii] Fasprint\n",
      "out1 true iout1 259 url https://fasprint.com/\n",
      "companies[0] Priceless Ink & Toner this url https://fasprint.com/\n"
     ]
    },
    {
     "name": "stderr",
     "output_type": "stream",
     "text": [
      "2021-11-30 16:38:43 [scrapy.downloadermiddlewares.redirect] DEBUG: Redirecting (302) to <GET https://www.hugedomains.com/domain_profile.cfm?d=photosec&e=com> from <GET http://www.photosec.com/>\n",
      "2021-11-30 16:38:43 [scrapy.downloadermiddlewares.retry] DEBUG: Retrying <GET https://www.alliancemicro.com> (failed 1 times): TCP connection timed out: 10060: A connection attempt failed because the connected party did not properly respond after a period of time, or established connection failed because connected host has failed to respond..\n"
     ]
    },
    {
     "name": "stdout",
     "output_type": "stream",
     "text": [
      "site_url https://www.bigtimeadvertising.com/ site_url_close ['https://www.bigtimeadvertising.com/', 'https://www.inkadvertising.com/', 'http://www.tigeradvertising.com']\n",
      "site_url_close[0] https://www.bigtimeadvertising.com/\n",
      "ii 332 self.companies[ii] BIG Time Advertising\n",
      "out1 true iout1 260 url https://www.bigtimeadvertising.com/\n",
      "companies[0] Lampstand Press this url https://www.bigtimeadvertising.com/\n"
     ]
    },
    {
     "name": "stderr",
     "output_type": "stream",
     "text": [
      "2021-11-30 16:38:44 [scrapy.core.engine] DEBUG: Crawled (200) <GET https://www.fatheaddesign.com/> (referer: None)\n",
      "2021-11-30 16:38:44 [scrapy.core.engine] DEBUG: Crawled (200) <GET http://ww38.techonweb.com/> (referer: None)\n"
     ]
    },
    {
     "name": "stdout",
     "output_type": "stream",
     "text": [
      "site_url https://www.fatheaddesign.com/ site_url_close ['https://www.matchadesign.com/', 'https://fatheaddesign.com', 'https://www.trendesign.com/']\n",
      "site_url_close[0] https://www.matchadesign.com/\n",
      "ii 4708 self.companies[ii] Matcha Design\n",
      "out1 true iout1 261 url https://www.fatheaddesign.com/\n",
      "companies[0] Infinite graphic solutions this url https://www.fatheaddesign.com/\n"
     ]
    },
    {
     "name": "stderr",
     "output_type": "stream",
     "text": [
      "2021-11-30 16:38:46 [scrapy.downloadermiddlewares.redirect] DEBUG: Redirecting (301) to <GET https://www.aldertech.com/> from <GET http://www.aldertech.com/>\n"
     ]
    },
    {
     "name": "stdout",
     "output_type": "stream",
     "text": [
      "site_url http://ww38.techonweb.com/ site_url_close ['http://www.techonweb.com', 'http://www.vtechphones.com/', 'https://www.offtechne.com/']\n",
      "site_url_close[0] http://www.techonweb.com\n",
      "ii 319 self.companies[ii] Techonweb\n",
      "out1 false iout2 37 url http://ww38.techonweb.com/\n",
      "companies[0] Retrofit Design this url http://ww38.techonweb.com/\n"
     ]
    },
    {
     "name": "stderr",
     "output_type": "stream",
     "text": [
      "2021-11-30 16:38:47 [scrapy.core.engine] DEBUG: Crawled (200) <GET https://consistenthits.com/> (referer: None)\n",
      "2021-11-30 16:38:47 [scrapy.core.engine] DEBUG: Crawled (200) <GET https://www.graphicinfo.com> (referer: None)\n"
     ]
    },
    {
     "name": "stdout",
     "output_type": "stream",
     "text": [
      "site_url https://consistenthits.com/ site_url_close ['http://www.consistenthits.com', 'https://contentcritical.com/', 'http://arkcontent.com/']\n",
      "site_url_close[0] http://www.consistenthits.com\n",
      "ii 328 self.companies[ii] Consistent Hits\n",
      "out1 true iout1 262 url https://consistenthits.com/\n",
      "companies[0] The Answer People this url https://consistenthits.com/\n"
     ]
    },
    {
     "name": "stderr",
     "output_type": "stream",
     "text": [
      "2021-11-30 16:38:48 [scrapy.core.engine] DEBUG: Crawled (200) <GET https://livewirecreativeservices.com/> (referer: None)\n"
     ]
    },
    {
     "name": "stdout",
     "output_type": "stream",
     "text": [
      "site_url https://www.graphicinfo.com site_url_close ['https://www.graphicinfo.com', 'http://www.mgraphicsinc.com', 'https://www.grafico.com']\n",
      "site_url_close[0] https://www.graphicinfo.com\n",
      "ii 337 self.companies[ii] Graphic Information Systems\n",
      "out1 false iout2 38 url https://www.graphicinfo.com\n",
      "companies[0] Innovative Technologies in Print this url https://www.graphicinfo.com\n",
      "site_url https://livewirecreativeservices.com/ site_url_close ['https://livewirecreativeservices.com/', 'https://creativegraphicservices.com/', 'https://eimercreative.com/']\n",
      "site_url_close[0] https://livewirecreativeservices.com/\n",
      "ii 335 self.companies[ii] LiveWire Creative Services\n",
      "out1 true iout1 263 url https://livewirecreativeservices.com/\n",
      "companies[0] Studio On Fire this url https://livewirecreativeservices.com/\n"
     ]
    },
    {
     "name": "stderr",
     "output_type": "stream",
     "text": [
      "2021-11-30 16:38:49 [scrapy.core.engine] DEBUG: Crawled (200) <GET https://www.hugedomains.com/domain_profile.cfm?d=photosec&e=com> (referer: None)\n",
      "2021-11-30 16:38:49 [scrapy.core.engine] DEBUG: Crawled (200) <GET https://www.pf-solutions.com/> (referer: None)\n",
      "2021-11-30 16:38:49 [scrapy.downloadermiddlewares.retry] DEBUG: Retrying <GET http://www.ipw-inc.com/> (failed 2 times): 503 Service Unavailable\n",
      "2021-11-30 16:38:49 [scrapy.core.engine] DEBUG: Crawled (200) <GET https://www.tradeshowdirect.com/> (referer: None)\n",
      "2021-11-30 16:38:50 [scrapy.core.engine] DEBUG: Crawled (200) <GET https://www.afternic.com/forsale/58k.com?utm_source=TDFS&utm_medium=sn_affiliate_click&utm_campaign=TDFS_GoDaddy_DLS&traffic_type=TDFS&traffic_id=GoDaddy_DLS> (referer: None)\n",
      "2021-11-30 16:38:50 [scrapy.core.engine] DEBUG: Crawled (200) <GET https://southeastmediatexas.com> (referer: None)\n"
     ]
    },
    {
     "name": "stdout",
     "output_type": "stream",
     "text": [
      "site_url https://www.hugedomains.com/domain_profile.cfm?d=photosec&e=com site_url_close ['https://www.marcophotoservice.com/', 'https://www.mimeophotos.com', 'https://www.zebra.com/ap/en.html']\n",
      "site_url_close[0] https://www.marcophotoservice.com/\n",
      "ii 2722 self.companies[ii] Marco Photo Service\n",
      "out1 true iout1 264 url https://www.hugedomains.com/domain_profile.cfm?d=photosec&e=com\n",
      "companies[0] HiFlow Solutions this url https://www.hugedomains.com/domain_profile.cfm?d=photosec&e=com\n",
      "site_url https://www.pf-solutions.com/ site_url_close ['https://www.gap-solutions.com', 'https://www.ctpsolutions.com/', 'http://www.cbfsolutions.com/']\n",
      "site_url_close[0] https://www.gap-solutions.com\n",
      "ii 4705 self.companies[ii] Gap Solutions\n",
      "out1 true iout1 265 url https://www.pf-solutions.com/\n",
      "companies[0] Habitat Visual Communications this url https://www.pf-solutions.com/\n"
     ]
    },
    {
     "name": "stderr",
     "output_type": "stream",
     "text": [
      "2021-11-30 16:38:52 [scrapy.core.engine] DEBUG: Crawled (200) <GET https://www.jaguardesignstudio.com> (referer: None)\n",
      "2021-11-30 16:38:52 [scrapy.downloadermiddlewares.retry] DEBUG: Retrying <GET https://www.printnation.com> (failed 2 times): TCP connection timed out: 10060: A connection attempt failed because the connected party did not properly respond after a period of time, or established connection failed because connected host has failed to respond..\n",
      "2021-11-30 16:38:52 [scrapy.downloadermiddlewares.retry] ERROR: Gave up retrying <GET http://www.kodadistribution.com/> (failed 3 times): TCP connection timed out: 10060: A connection attempt failed because the connected party did not properly respond after a period of time, or established connection failed because connected host has failed to respond..\n"
     ]
    },
    {
     "name": "stdout",
     "output_type": "stream",
     "text": [
      "site_url https://www.tradeshowdirect.com/ site_url_close ['https://www.tradeshowdirect.com/', 'https://www.thomasdirect.com/', 'https://www.graphxdirect.com/']\n",
      "site_url_close[0] https://www.tradeshowdirect.com/\n",
      "ii 339 self.companies[ii] Trade Show Direct\n",
      "out1 true iout1 266 url https://www.tradeshowdirect.com/\n",
      "companies[0] Carisma Large Format Printing this url https://www.tradeshowdirect.com/\n",
      "site_url https://www.afternic.com/forsale/58k.com?utm_source=TDFS&utm_medium=sn_affiliate_click&utm_campaign=TDFS_GoDaddy_DLS&traffic_type=TDFS&traffic_id=GoDaddy_DLS site_url_close ['http://www.bannerbuzz.com/?utm_source=gbl&utm_medium=organic&utm_campaign=gbl_organic', 'https://www.icscolor.com/remote-director/', 'https://www.gogopak.com/Default.asp']\n",
      "site_url_close[0] http://www.bannerbuzz.com/?utm_source=gbl&utm_medium=organic&utm_campaign=gbl_organic\n",
      "ii 3703 self.companies[ii] BannerBuzz\n",
      "out1 true iout1 267 url https://www.afternic.com/forsale/58k.com?utm_source=TDFS&utm_medium=sn_affiliate_click&utm_campaign=TDFS_GoDaddy_DLS&traffic_type=TDFS&traffic_id=GoDaddy_DLS\n",
      "companies[0] SF Plastic & Sign Supply this url https://www.afternic.com/forsale/58k.com?utm_source=TDFS&utm_medium=sn_affiliate_click&utm_campaign=TDFS_GoDaddy_DLS&traffic_type=TDFS&traffic_id=GoDaddy_DLS\n"
     ]
    },
    {
     "name": "stderr",
     "output_type": "stream",
     "text": [
      "2021-11-30 16:38:53 [scrapy.core.engine] DEBUG: Crawled (200) <GET http://www.kdretc.com/> (referer: None)\n",
      "2021-11-30 16:38:53 [scrapy.core.engine] DEBUG: Crawled (200) <GET http://united-fulfillment.com/> (referer: None)\n",
      "2021-11-30 16:38:53 [scrapy.core.scraper] ERROR: Error downloading <GET http://www.kodadistribution.com/>\n",
      "Traceback (most recent call last):\n",
      "  File \"C:\\Users\\MStopa\\AppData\\Local\\Continuum\\anaconda3\\envs\\webscrape\\lib\\site-packages\\scrapy\\core\\downloader\\middleware.py\", line 44, in process_request\n",
      "    return (yield download_func(request=request, spider=spider))\n",
      "twisted.internet.error.TCPTimedOutError: TCP connection timed out: 10060: A connection attempt failed because the connected party did not properly respond after a period of time, or established connection failed because connected host has failed to respond..\n",
      "2021-11-30 16:38:53 [scrapy.core.engine] DEBUG: Crawled (200) <GET https://www.buildparts.com/> (referer: None)\n"
     ]
    },
    {
     "name": "stdout",
     "output_type": "stream",
     "text": [
      "site_url https://southeastmediatexas.com site_url_close ['https://southeastmediatexas.com', 'http://southdata.com', 'https://www.southeastid.com']\n",
      "site_url_close[0] https://southeastmediatexas.com\n",
      "ii 338 self.companies[ii] Southeast Media\n",
      "out1 true iout1 268 url https://southeastmediatexas.com\n",
      "companies[0] Adpartner this url https://southeastmediatexas.com\n",
      "site_url https://www.jaguardesignstudio.com site_url_close ['https://www.jaguardesignstudio.com', 'http://www.iimaginestudio.com', 'https://www.jgdesignmn.com/']\n",
      "site_url_close[0] https://www.jaguardesignstudio.com\n",
      "ii 340 self.companies[ii] Jaguar Design Studio\n",
      "out1 false iout2 39 url https://www.jaguardesignstudio.com\n",
      "companies[0] TeamLine this url https://www.jaguardesignstudio.com\n",
      "site_url http://www.kdretc.com/ site_url_close ['http://www.kdretc.com/', 'http://www.kutco.com/', 'https://www.drgtech.com/']\n",
      "site_url_close[0] http://www.kdretc.com/\n",
      "ii 342 self.companies[ii] KdR, etc.\n",
      "out1 true iout1 269 url http://www.kdretc.com/\n",
      "companies[0] PrinterPresence this url http://www.kdretc.com/\n",
      "site_url http://united-fulfillment.com/ site_url_close ['http://united-fulfillment.com/', 'http://united-ind.com/', 'https://www.direct-fulfillment.com']\n",
      "site_url_close[0] http://united-fulfillment.com/\n",
      "ii 341 self.companies[ii] United Fulfillment\n",
      "out1 true iout1 270 url http://united-fulfillment.com/\n",
      "companies[0] Garment Gear this url http://united-fulfillment.com/\n"
     ]
    },
    {
     "name": "stderr",
     "output_type": "stream",
     "text": [
      "2021-11-30 16:38:55 [scrapy.downloadermiddlewares.redirect] DEBUG: Redirecting (301) to <GET https://www.promoplace.com/vgvisuals> from <GET https://promoplace.com/vgvisuals>\n",
      "2021-11-30 16:38:55 [scrapy.core.engine] DEBUG: Crawled (200) <GET https://iotecdigital.com> (referer: None)\n"
     ]
    },
    {
     "name": "stdout",
     "output_type": "stream",
     "text": [
      "site_url https://www.buildparts.com/ site_url_close ['http://www.buildparts.com/', 'https://www.rldprint.com/', 'https://www.rpparts.com']\n",
      "site_url_close[0] http://www.buildparts.com/\n",
      "ii 327 self.companies[ii] CIDEAS Inc.\n",
      "out1 true iout1 271 url https://www.buildparts.com/\n",
      "companies[0] McFaddin Marketing this url https://www.buildparts.com/\n"
     ]
    },
    {
     "name": "stderr",
     "output_type": "stream",
     "text": [
      "2021-11-30 16:38:56 [scrapy.core.engine] DEBUG: Crawled (200) <GET https://www.designsofallkinds.com/> (referer: None)\n",
      "2021-11-30 16:38:56 [scrapy.core.engine] DEBUG: Crawled (200) <GET http://www.modaldesignworks.com> (referer: None)\n"
     ]
    },
    {
     "name": "stdout",
     "output_type": "stream",
     "text": [
      "site_url https://iotecdigital.com site_url_close ['https://iotecdigital.com', 'https://loupedigital.com', 'http://inxdigital.com']\n",
      "site_url_close[0] https://iotecdigital.com\n",
      "ii 343 self.companies[ii] IOTEC\n",
      "out1 true iout1 272 url https://iotecdigital.com\n",
      "companies[0] X-Central this url https://iotecdigital.com\n"
     ]
    },
    {
     "name": "stderr",
     "output_type": "stream",
     "text": [
      "2021-11-30 16:38:56 [scrapy.core.scraper] ERROR: Spider error processing <GET https://www.designsofallkinds.com/> (referer: None)\n",
      "Traceback (most recent call last):\n",
      "  File \"C:\\Users\\MStopa\\AppData\\Local\\Continuum\\anaconda3\\envs\\webscrape\\lib\\site-packages\\scrapy\\utils\\defer.py\", line 120, in iter_errback\n",
      "    yield next(it)\n",
      "  File \"C:\\Users\\MStopa\\AppData\\Local\\Continuum\\anaconda3\\envs\\webscrape\\lib\\site-packages\\scrapy\\utils\\python.py\", line 346, in __next__\n",
      "    return next(self.data)\n",
      "  File \"C:\\Users\\MStopa\\AppData\\Local\\Continuum\\anaconda3\\envs\\webscrape\\lib\\site-packages\\scrapy\\utils\\python.py\", line 346, in __next__\n",
      "    return next(self.data)\n",
      "  File \"C:\\Users\\MStopa\\AppData\\Local\\Continuum\\anaconda3\\envs\\webscrape\\lib\\site-packages\\scrapy\\core\\spidermw.py\", line 64, in _evaluate_iterable\n",
      "    for r in iterable:\n",
      "  File \"C:\\Users\\MStopa\\AppData\\Local\\Continuum\\anaconda3\\envs\\webscrape\\lib\\site-packages\\scrapy\\spidermiddlewares\\offsite.py\", line 29, in process_spider_output\n",
      "    for x in result:\n",
      "  File \"C:\\Users\\MStopa\\AppData\\Local\\Continuum\\anaconda3\\envs\\webscrape\\lib\\site-packages\\scrapy\\core\\spidermw.py\", line 64, in _evaluate_iterable\n",
      "    for r in iterable:\n",
      "  File \"C:\\Users\\MStopa\\AppData\\Local\\Continuum\\anaconda3\\envs\\webscrape\\lib\\site-packages\\scrapy\\spidermiddlewares\\referer.py\", line 340, in <genexpr>\n",
      "    return (_set_referer(r) for r in result or ())\n",
      "  File \"C:\\Users\\MStopa\\AppData\\Local\\Continuum\\anaconda3\\envs\\webscrape\\lib\\site-packages\\scrapy\\core\\spidermw.py\", line 64, in _evaluate_iterable\n",
      "    for r in iterable:\n",
      "  File \"C:\\Users\\MStopa\\AppData\\Local\\Continuum\\anaconda3\\envs\\webscrape\\lib\\site-packages\\scrapy\\spidermiddlewares\\urllength.py\", line 37, in <genexpr>\n",
      "    return (r for r in result or () if _filter(r))\n",
      "  File \"C:\\Users\\MStopa\\AppData\\Local\\Continuum\\anaconda3\\envs\\webscrape\\lib\\site-packages\\scrapy\\core\\spidermw.py\", line 64, in _evaluate_iterable\n",
      "    for r in iterable:\n",
      "  File \"C:\\Users\\MStopa\\AppData\\Local\\Continuum\\anaconda3\\envs\\webscrape\\lib\\site-packages\\scrapy\\spidermiddlewares\\depth.py\", line 58, in <genexpr>\n",
      "    return (r for r in result or () if _filter(r))\n",
      "  File \"C:\\Users\\MStopa\\AppData\\Local\\Continuum\\anaconda3\\envs\\webscrape\\lib\\site-packages\\scrapy\\core\\spidermw.py\", line 64, in _evaluate_iterable\n",
      "    for r in iterable:\n",
      "  File \"<ipython-input-9-10a30e00531c>\", line 132, in parse\n",
      "    file1.write(out2 + '\\n')\n",
      "  File \"C:\\Users\\MStopa\\AppData\\Local\\Continuum\\anaconda3\\envs\\webscrape\\lib\\encodings\\cp1252.py\", line 19, in encode\n",
      "    return codecs.charmap_encode(input,self.errors,encoding_table)[0]\n",
      "UnicodeEncodeError: 'charmap' codec can't encode characters in position 587-588: character maps to <undefined>\n",
      "2021-11-30 16:38:56 [scrapy.downloadermiddlewares.retry] ERROR: Gave up retrying <GET http://www.cirqit.com> (failed 3 times): TCP connection timed out: 10060: A connection attempt failed because the connected party did not properly respond after a period of time, or established connection failed because connected host has failed to respond..\n"
     ]
    },
    {
     "name": "stdout",
     "output_type": "stream",
     "text": [
      "site_url https://www.designsofallkinds.com/ site_url_close ['http://Designsofallkinds.com', 'http://www.designs-ink.com/', 'https://www.design-mark.com/']\n",
      "site_url_close[0] http://Designsofallkinds.com\n",
      "ii 333 self.companies[ii] Designs Of All Kinds\n",
      "out1 true iout1 273 url https://www.designsofallkinds.com/\n"
     ]
    },
    {
     "name": "stderr",
     "output_type": "stream",
     "text": [
      "2021-11-30 16:38:57 [scrapy.core.engine] DEBUG: Crawled (200) <GET https://www.docuplex.com/> (referer: None)\n",
      "2021-11-30 16:38:57 [scrapy.core.engine] DEBUG: Crawled (200) <GET https://www.ideagardenadvertising.com> (referer: None)\n",
      "2021-11-30 16:38:57 [scrapy.core.engine] DEBUG: Crawled (200) <GET https://www.cimarronlabel.com/> (referer: None)\n",
      "2021-11-30 16:38:57 [scrapy.core.scraper] ERROR: Error downloading <GET http://www.cirqit.com>\n",
      "Traceback (most recent call last):\n",
      "  File \"C:\\Users\\MStopa\\AppData\\Local\\Continuum\\anaconda3\\envs\\webscrape\\lib\\site-packages\\scrapy\\core\\downloader\\middleware.py\", line 44, in process_request\n",
      "    return (yield download_func(request=request, spider=spider))\n",
      "twisted.internet.error.TCPTimedOutError: TCP connection timed out: 10060: A connection attempt failed because the connected party did not properly respond after a period of time, or established connection failed because connected host has failed to respond..\n"
     ]
    },
    {
     "name": "stdout",
     "output_type": "stream",
     "text": [
      "site_url http://www.modaldesignworks.com site_url_close ['http://www.modaldesignworks.com', 'http://www.mmldesign.com', 'https://www.smeltzerdesignworks.com/']\n",
      "site_url_close[0] http://www.modaldesignworks.com\n",
      "ii 346 self.companies[ii] Modal Design Works\n",
      "out1 true iout1 274 url http://www.modaldesignworks.com\n",
      "companies[0] Neco this url http://www.modaldesignworks.com\n"
     ]
    },
    {
     "name": "stderr",
     "output_type": "stream",
     "text": [
      "2021-11-30 16:38:57 [scrapy.downloadermiddlewares.redirect] DEBUG: Redirecting (301) to <GET https://aldertech.com/> from <GET https://www.aldertech.com/>\n"
     ]
    },
    {
     "name": "stdout",
     "output_type": "stream",
     "text": [
      "site_url https://www.docuplex.com/ site_url_close ['https://www.docuplex.com/', 'http://www.complex.com/', 'https://www.goex.com/']\n",
      "site_url_close[0] https://www.docuplex.com/\n",
      "ii 351 self.companies[ii] Docuplex\n",
      "out1 true iout1 275 url https://www.docuplex.com/\n",
      "companies[0] CHROMiX this url https://www.docuplex.com/\n",
      "site_url https://www.ideagardenadvertising.com site_url_close ['https://www.ideagardenadvertising.com', 'https://www.inkadvertising.com/', 'http://www.tigeradvertising.com']\n",
      "site_url_close[0] https://www.ideagardenadvertising.com\n",
      "ii 345 self.companies[ii] Idea Garden Advertising\n",
      "out1 true iout1 276 url https://www.ideagardenadvertising.com\n",
      "companies[0] Solstice Art this url https://www.ideagardenadvertising.com\n"
     ]
    },
    {
     "name": "stderr",
     "output_type": "stream",
     "text": [
      "2021-11-30 16:38:58 [scrapy.core.engine] DEBUG: Crawled (200) <GET http://nerxmedia.com/> (referer: None)\n",
      "2021-11-30 16:38:58 [scrapy.downloadermiddlewares.retry] ERROR: Gave up retrying <GET http://www.ipw-inc.com/> (failed 3 times): 503 Service Unavailable\n",
      "2021-11-30 16:38:58 [scrapy.core.engine] DEBUG: Crawled (503) <GET http://www.ipw-inc.com/> (referer: None)\n",
      "2021-11-30 16:38:58 [scrapy.core.engine] DEBUG: Crawled (200) <GET https://www.seventhplanet.net/> (referer: None)\n",
      "2021-11-30 16:38:58 [scrapy.core.engine] DEBUG: Crawled (403) <GET https://www.midnetmedia.com/> (referer: None)\n",
      "2021-11-30 16:38:58 [scrapy.core.engine] DEBUG: Crawled (200) <GET https://www.stitchesandscreens.com/> (referer: None)\n"
     ]
    },
    {
     "name": "stdout",
     "output_type": "stream",
     "text": [
      "site_url https://www.cimarronlabel.com/ site_url_close ['https://www.cimarronlabel.com/', 'https://www.acrolabels.com', 'https://www.grlabel.com/']\n",
      "site_url_close[0] https://www.cimarronlabel.com/\n",
      "ii 348 self.companies[ii] Cimarron Label\n",
      "out1 true iout1 277 url https://www.cimarronlabel.com/\n",
      "companies[0] CPS Cards this url https://www.cimarronlabel.com/\n"
     ]
    },
    {
     "name": "stderr",
     "output_type": "stream",
     "text": [
      "2021-11-30 16:38:59 [scrapy.downloadermiddlewares.redirect] DEBUG: Redirecting (302) to <GET https://seal-cinnamon-ngjm.squarespace.com/> from <GET http://www.smartdigimedia.com>\n",
      "2021-11-30 16:38:59 [scrapy.downloadermiddlewares.redirect] DEBUG: Redirecting (301) to <GET https://amerimail-usa.com/> from <GET http://www.amerimail-usa.com>\n",
      "2021-11-30 16:38:59 [scrapy.downloadermiddlewares.retry] DEBUG: Retrying <GET https://hiflowsolutions.com/> (failed 2 times): TCP connection timed out: 10060: A connection attempt failed because the connected party did not properly respond after a period of time, or established connection failed because connected host has failed to respond..\n",
      "2021-11-30 16:38:59 [scrapy.spidermiddlewares.httperror] INFO: Ignoring response <503 http://www.ipw-inc.com/>: HTTP status code is not handled or not allowed\n",
      "2021-11-30 16:38:59 [scrapy.spidermiddlewares.httperror] INFO: Ignoring response <403 https://www.midnetmedia.com/>: HTTP status code is not handled or not allowed\n"
     ]
    },
    {
     "name": "stdout",
     "output_type": "stream",
     "text": [
      "site_url http://nerxmedia.com/ site_url_close ['http://nerxmedia.com/', 'https://brixxmedia.com/', 'http://nonboxmedia.com/']\n",
      "site_url_close[0] http://nerxmedia.com/\n",
      "ii 347 self.companies[ii] Nerx Media\n",
      "out1 true iout1 278 url http://nerxmedia.com/\n",
      "companies[0] Alliance Micro this url http://nerxmedia.com/\n",
      "site_url https://www.seventhplanet.net/ site_url_close ['https://www.seventhplanet.net/', 'https://www.stellarink.net/', 'http://www.southpointe.net/']\n",
      "site_url_close[0] https://www.seventhplanet.net/\n",
      "ii 349 self.companies[ii] Seventh Planet\n",
      "out1 true iout1 279 url https://www.seventhplanet.net/\n",
      "companies[0] FascinationDesign this url https://www.seventhplanet.net/\n"
     ]
    },
    {
     "name": "stderr",
     "output_type": "stream",
     "text": [
      "2021-11-30 16:39:00 [scrapy.downloadermiddlewares.redirect] DEBUG: Redirecting (301) to <GET https://www.x3creative.com/> from <GET https://x3creative.com>\n",
      "2021-11-30 16:39:00 [scrapy.core.engine] DEBUG: Crawled (200) <GET https://www.printergy.com/> (referer: None)\n"
     ]
    },
    {
     "name": "stdout",
     "output_type": "stream",
     "text": [
      "site_url https://www.stitchesandscreens.com/ site_url_close ['https://www.stitchesandscreens.com/', 'https://www.istitchandprint.com/', 'https://www.ontimescreen.com/']\n",
      "site_url_close[0] https://www.stitchesandscreens.com/\n",
      "ii 350 self.companies[ii] Stitches and Screens\n",
      "out1 true iout1 280 url https://www.stitchesandscreens.com/\n",
      "companies[0] Matrix Press this url https://www.stitchesandscreens.com/\n"
     ]
    },
    {
     "name": "stderr",
     "output_type": "stream",
     "text": [
      "2021-11-30 16:39:00 [scrapy.core.engine] DEBUG: Crawled (200) <GET https://www.bigmountain.com/> (referer: None)\n",
      "2021-11-30 16:39:00 [scrapy.core.engine] DEBUG: Crawled (200) <GET https://www.swisslogic.com> (referer: None)\n"
     ]
    },
    {
     "name": "stdout",
     "output_type": "stream",
     "text": [
      "site_url https://www.printergy.com/ site_url_close ['https://www.printergy.com/', 'https://www.printearly.com/', 'http://www.printegra.com/']\n",
      "site_url_close[0] https://www.printergy.com/\n",
      "ii 353 self.companies[ii] Printergy\n",
      "out1 true iout1 281 url https://www.printergy.com/\n",
      "companies[0] ImagingTek this url https://www.printergy.com/\n"
     ]
    },
    {
     "name": "stderr",
     "output_type": "stream",
     "text": [
      "2021-11-30 16:39:01 [scrapy.core.engine] DEBUG: Crawled (403) <GET https://www.adinfinitumvictoria.com/> (referer: None)\n",
      "2021-11-30 16:39:01 [scrapy.downloadermiddlewares.redirect] DEBUG: Redirecting (301) to <GET https://monroestar.com/> from <GET https://www.monroestar.com>\n"
     ]
    },
    {
     "name": "stdout",
     "output_type": "stream",
     "text": [
      "site_url https://www.bigmountain.com/ site_url_close ['https://www.bigmountain.com/', 'http://www.mountaincow.com', 'https://www.dgmna.com/']\n",
      "site_url_close[0] https://www.bigmountain.com/\n",
      "ii 344 self.companies[ii] Big Mountain Imaging\n",
      "out1 true iout1 282 url https://www.bigmountain.com/\n",
      "companies[0] Generations Beyond this url https://www.bigmountain.com/\n"
     ]
    },
    {
     "name": "stderr",
     "output_type": "stream",
     "text": [
      "2021-11-30 16:39:01 [scrapy.core.engine] DEBUG: Crawled (200) <GET https://www.carstickers.com/> (referer: None)\n",
      "2021-11-30 16:39:01 [scrapy.spidermiddlewares.httperror] INFO: Ignoring response <403 https://www.adinfinitumvictoria.com/>: HTTP status code is not handled or not allowed\n"
     ]
    },
    {
     "name": "stdout",
     "output_type": "stream",
     "text": [
      "site_url https://www.swisslogic.com site_url_close ['https://www.swisslogic.com', 'https://www.i3logix.com', 'https://www.logicopy.com']\n",
      "site_url_close[0] https://www.swisslogic.com\n",
      "ii 354 self.companies[ii] SwissLogic\n",
      "out1 true iout1 283 url https://www.swisslogic.com\n",
      "companies[0] Manhattan Times this url https://www.swisslogic.com\n"
     ]
    },
    {
     "name": "stderr",
     "output_type": "stream",
     "text": [
      "2021-11-30 16:39:02 [scrapy.core.engine] DEBUG: Crawled (200) <GET https://www.acmeprints.com> (referer: None)\n",
      "2021-11-30 16:39:02 [scrapy.core.engine] DEBUG: Crawled (200) <GET https://www.promoplace.com/vgvisuals> (referer: None)\n",
      "2021-11-30 16:39:02 [scrapy.core.engine] DEBUG: Crawled (200) <GET https://www.imagemattersinc.com/> (referer: None)\n"
     ]
    },
    {
     "name": "stdout",
     "output_type": "stream",
     "text": [
      "site_url https://www.carstickers.com/ site_url_close ['https://www.carstickers.com/', 'https://www.rosotics.com/', 'https://www.customsticker.com/']\n",
      "site_url_close[0] https://www.carstickers.com/\n",
      "ii 360 self.companies[ii] Car Stickers\n",
      "out1 true iout1 284 url https://www.carstickers.com/\n",
      "companies[0] Vivid Ink Graphics this url https://www.carstickers.com/\n",
      "site_url https://www.acmeprints.com site_url_close ['https://www.acmeprints.com', 'https://www.ezprints.com/', 'https://www.tankprints.com']\n",
      "site_url_close[0] https://www.acmeprints.com\n",
      "ii 363 self.companies[ii] Acme Prints\n",
      "out1 true iout1 285 url https://www.acmeprints.com\n",
      "companies[0] R&D Technologies this url https://www.acmeprints.com\n"
     ]
    },
    {
     "name": "stderr",
     "output_type": "stream",
     "text": [
      "2021-11-30 16:39:03 [scrapy.core.engine] DEBUG: Crawled (200) <GET https://www.rpimaging.com> (referer: None)\n"
     ]
    },
    {
     "name": "stdout",
     "output_type": "stream",
     "text": [
      "site_url https://www.promoplace.com/vgvisuals site_url_close ['https://www.promobee.com/', 'https://www.fwpromo.com/', 'https://www.promoworld.com/']\n",
      "site_url_close[0] https://www.promobee.com/\n",
      "ii 1984 self.companies[ii] B.E.E. Promotional Products\n",
      "out1 true iout1 286 url https://www.promoplace.com/vgvisuals\n",
      "companies[0] VGVisuals this url https://www.promoplace.com/vgvisuals\n"
     ]
    },
    {
     "name": "stderr",
     "output_type": "stream",
     "text": [
      "2021-11-30 16:39:03 [scrapy.core.engine] DEBUG: Crawled (200) <GET https://www.miraclebanners.com/> (referer: None)\n",
      "2021-11-30 16:39:03 [scrapy.core.engine] DEBUG: Crawled (200) <GET https://www.camelbackdisplays.com/> (referer: None)\n",
      "2021-11-30 16:39:03 [scrapy.core.engine] DEBUG: Crawled (200) <GET http://www.acmanufacturing.com> (referer: None)\n",
      "2021-11-30 16:39:03 [scrapy.core.engine] DEBUG: Crawled (200) <GET http://www.nhmarketingcompany.com> (referer: None)\n"
     ]
    },
    {
     "name": "stdout",
     "output_type": "stream",
     "text": [
      "site_url https://www.imagemattersinc.com/ site_url_close ['https://www.imagemattersinc.com/', 'http://www.imagemaster.com', 'https://www.hmgseattle.com/']\n",
      "site_url_close[0] https://www.imagemattersinc.com/\n",
      "ii 362 self.companies[ii] Image Matters\n",
      "out1 true iout1 287 url https://www.imagemattersinc.com/\n",
      "companies[0] SJD Media & Marketing this url https://www.imagemattersinc.com/\n"
     ]
    },
    {
     "name": "stderr",
     "output_type": "stream",
     "text": [
      "2021-11-30 16:39:04 [scrapy.downloadermiddlewares.retry] DEBUG: Retrying <GET http://newenglandstitchcraft.com> (failed 1 times): [<twisted.python.failure.Failure twisted.internet.error.ConnectionDone: Connection was closed cleanly.>]\n"
     ]
    },
    {
     "name": "stdout",
     "output_type": "stream",
     "text": [
      "site_url https://www.rpimaging.com site_url_close ['https://www.rpimaging.com', 'https://www.peeqimaging.com/', 'https://www.abmimaging.com']\n",
      "site_url_close[0] https://www.rpimaging.com\n",
      "ii 365 self.companies[ii] rpimaging\n",
      "out1 true iout1 288 url https://www.rpimaging.com\n",
      "companies[0] Techonweb this url https://www.rpimaging.com\n",
      "site_url https://www.miraclebanners.com/ site_url_close ['https://www.miraclebanners.com/', 'http://www.stickersbanners.com/', 'http://www.allstatebanners.com/']\n",
      "site_url_close[0] https://www.miraclebanners.com/\n",
      "ii 364 self.companies[ii] AD Miracle\n",
      "out1 true iout1 289 url https://www.miraclebanners.com/\n",
      "companies[0] Fathead Design this url https://www.miraclebanners.com/\n",
      "site_url https://www.camelbackdisplays.com/ site_url_close ['https://www.camelbackdisplays.com/', 'https://www.dieseldisplays.com/', 'https://www.mediasupply.com/']\n",
      "site_url_close[0] https://www.camelbackdisplays.com/\n",
      "ii 361 self.companies[ii] Camelback Displays\n",
      "out1 true iout1 290 url https://www.camelbackdisplays.com/\n",
      "companies[0] Document Depot this url https://www.camelbackdisplays.com/\n",
      "site_url http://www.acmanufacturing.com site_url_close ['http://www.acmanufacturing.com', 'https://www.escomanufacturing.com/', 'http://www.scalarmanufacturing.com/']\n",
      "site_url_close[0] http://www.acmanufacturing.com\n",
      "ii 367 self.companies[ii] AC Manufacturing\n",
      "out1 true iout1 291 url http://www.acmanufacturing.com\n",
      "companies[0] Benchmark Office Systems this url http://www.acmanufacturing.com\n"
     ]
    },
    {
     "name": "stderr",
     "output_type": "stream",
     "text": [
      "2021-11-30 16:39:06 [scrapy.core.engine] DEBUG: Crawled (200) <GET https://www.veniceprintcenter.com> (referer: None)\n",
      "2021-11-30 16:39:06 [scrapy.core.engine] DEBUG: Crawled (200) <GET http://www.printconnect.com> (referer: None)\n",
      "2021-11-30 16:39:06 [scrapy.downloadermiddlewares.retry] DEBUG: Retrying <GET https://www.alliancemicro.com> (failed 2 times): TCP connection timed out: 10060: A connection attempt failed because the connected party did not properly respond after a period of time, or established connection failed because connected host has failed to respond..\n"
     ]
    },
    {
     "name": "stdout",
     "output_type": "stream",
     "text": [
      "site_url http://www.nhmarketingcompany.com site_url_close ['http://www.nhmarketingcompany.com', 'https://www.alliedprintingcompany.com', 'http://www.ctlmarketing.com']\n",
      "site_url_close[0] http://www.nhmarketingcompany.com\n",
      "ii 366 self.companies[ii] Scribble Creative Group\n",
      "out1 true iout1 292 url http://www.nhmarketingcompany.com\n",
      "companies[0] The Bubble this url http://www.nhmarketingcompany.com\n"
     ]
    },
    {
     "name": "stderr",
     "output_type": "stream",
     "text": [
      "2021-11-30 16:39:06 [scrapy.core.scraper] DEBUG: Scraped from <200 https://www.veniceprintcenter.com>\r\n",
      "{'Organization': 'Venice Print Center',\n",
      " 'fulltext': 'nan',\n",
      " 'searchterm': 'digital printing',\n",
      " 'url': 'https://www.veniceprintcenter.com'}\n"
     ]
    },
    {
     "name": "stdout",
     "output_type": "stream",
     "text": [
      "site_url https://www.veniceprintcenter.com site_url_close ['https://www.veniceprintcenter.com', 'https://www.nyprintcenter.com/', 'https://www.americasprinter.com']\n",
      "site_url_close[0] https://www.veniceprintcenter.com\n",
      "ii 370 self.companies[ii] Venice Print Center\n",
      "yielding item digital printing\n",
      "site_url http://www.printconnect.com site_url_close ['http://www.printconnect.com', 'http://www.printinc.com', 'http://www.printrunner.com']\n",
      "site_url_close[0] http://www.printconnect.com\n",
      "ii 368 self.companies[ii] PrintConnect\n",
      "out1 false iout2 40 url http://www.printconnect.com\n",
      "companies[0] National Graphic Solutions this url http://www.printconnect.com\n",
      "out1 true iout1 293 url https://www.veniceprintcenter.com\n",
      "companies[0] Ipw Communications this url https://www.veniceprintcenter.com\n"
     ]
    },
    {
     "name": "stderr",
     "output_type": "stream",
     "text": [
      "2021-11-30 16:39:07 [scrapy.core.engine] DEBUG: Crawled (200) <GET https://a1printerrepairs.com/> (referer: None)\n",
      "2021-11-30 16:39:07 [scrapy.core.engine] DEBUG: Crawled (200) <GET https://whattheythink.com/> (referer: None)\n",
      "2021-11-30 16:39:07 [scrapy.core.downloader.tls] WARNING: Remote certificate is not valid for hostname \"amerimail-usa.com\"; VerificationError(errors=[DNSMismatch(mismatched_id=DNS_ID(hostname=b'amerimail-usa.com'))])\n",
      "2021-11-30 16:39:08 [scrapy.core.scraper] DEBUG: Scraped from <200 https://a1printerrepairs.com/>\n",
      "{'Organization': 'A1 Printers Plus',\n",
      " 'fulltext': 'nan',\n",
      " 'searchterm': 'digital printing',\n",
      " 'url': 'https://a1printerrepairs.com/'}\n",
      "2021-11-30 16:39:08 [scrapy.core.engine] DEBUG: Crawled (200) <GET https://www.silverbuckleservices.com/> (referer: None)\n",
      "2021-11-30 16:39:08 [scrapy.core.engine] DEBUG: Crawled (200) <GET https://seal-cinnamon-ngjm.squarespace.com/> (referer: None)\n",
      "2021-11-30 16:39:08 [scrapy.core.engine] DEBUG: Crawled (200) <GET https://amerimail-usa.com/> (referer: None)\n"
     ]
    },
    {
     "name": "stdout",
     "output_type": "stream",
     "text": [
      "site_url https://a1printerrepairs.com/ site_url_close ['https://a1printerrepairs.com/', 'https://www.printersrepairparts.com/', 'https://printparts.com']\n",
      "site_url_close[0] https://a1printerrepairs.com/\n",
      "ii 373 self.companies[ii] A1 Printers Plus\n",
      "yielding item digital printing\n",
      "out1 true iout1 294 url https://a1printerrepairs.com/\n",
      "companies[0] Print Farm Solutions this url https://a1printerrepairs.com/\n"
     ]
    },
    {
     "name": "stderr",
     "output_type": "stream",
     "text": [
      "2021-11-30 16:39:08 [scrapy.core.scraper] DEBUG: Scraped from <200 https://whattheythink.com/>\n",
      "{'Organization': 'WhatTheyThink',\n",
      " 'fulltext': 'nan',\n",
      " 'searchterm': 'inkjet',\n",
      " 'url': 'https://whattheythink.com/'}\n",
      "2021-11-30 16:39:08 [scrapy.downloadermiddlewares.redirect] DEBUG: Redirecting (301) to <GET https://dds-usa.com/> from <GET http://dds-usa.com>\n"
     ]
    },
    {
     "name": "stdout",
     "output_type": "stream",
     "text": [
      "site_url https://whattheythink.com/ site_url_close ['https://whattheythink.com/', 'https://theyetee.com/', 'https://anythingwithink.com']\n",
      "site_url_close[0] https://whattheythink.com/\n",
      "ii 371 self.companies[ii] WhatTheyThink\n",
      "yielding item inkjet\n",
      "out1 true iout1 295 url https://whattheythink.com/\n",
      "companies[0] CIDEAS Inc. this url https://whattheythink.com/\n",
      "site_url https://www.silverbuckleservices.com/ site_url_close ['https://www.silverbuckleservices.com/', 'http://www.barcodeservices.com/', 'https://www.indoxservices.com/']\n",
      "site_url_close[0] https://www.silverbuckleservices.com/\n",
      "ii 375 self.companies[ii] Silver Buckle Services\n",
      "out1 true iout1 296 url https://www.silverbuckleservices.com/\n",
      "companies[0] Consistent Hits this url https://www.silverbuckleservices.com/\n"
     ]
    },
    {
     "name": "stderr",
     "output_type": "stream",
     "text": [
      "2021-11-30 16:39:10 [scrapy.core.scraper] DEBUG: Scraped from <200 https://seal-cinnamon-ngjm.squarespace.com/>\r\n",
      "{'Organization': 'In Flight USA',\n",
      " 'fulltext': 'nan',\n",
      " 'searchterm': 'screen printing',\n",
      " 'url': 'https://seal-cinnamon-ngjm.squarespace.com/'}\n"
     ]
    },
    {
     "name": "stdout",
     "output_type": "stream",
     "text": [
      "site_url https://seal-cinnamon-ngjm.squarespace.com/ site_url_close ['https://inflight.squarespace.com/', 'https://signlanguagexl.com/', 'https://ironmarkusa.com/']\n",
      "site_url_close[0] https://inflight.squarespace.com/\n",
      "ii 1922 self.companies[ii] In Flight USA\n",
      "yielding item screen printing\n"
     ]
    },
    {
     "name": "stderr",
     "output_type": "stream",
     "text": [
      "2021-11-30 16:39:10 [scrapy.downloadermiddlewares.redirect] DEBUG: Redirecting (301) to <GET https://55printing.com/> from <GET http://www.cheap55printing.com>\n",
      "2021-11-30 16:39:10 [scrapy.core.engine] DEBUG: Crawled (200) <GET https://www.pconceptsteam.com/> (referer: None)\n",
      "2021-11-30 16:39:10 [scrapy.downloadermiddlewares.redirect] DEBUG: Redirecting (301) to <GET http://www.spts.com/products/HF-release-etch> from <GET http://www.primaxxinc.com>\n",
      "2021-11-30 16:39:10 [scrapy.core.engine] DEBUG: Crawled (200) <GET https://aldertech.com/> (referer: None)\n"
     ]
    },
    {
     "name": "stdout",
     "output_type": "stream",
     "text": [
      "site_url https://amerimail-usa.com/ site_url_close ['http://www.amerimail-usa.com', 'http://mimakiusa.com', 'https://c3dmaterials.com/']\n",
      "site_url_close[0] http://www.amerimail-usa.com\n",
      "ii 355 self.companies[ii] Amerimail\n",
      "out1 true iout1 297 url https://amerimail-usa.com/\n",
      "companies[0] 58k.com this url https://amerimail-usa.com/\n",
      "out1 true iout1 298 url https://seal-cinnamon-ngjm.squarespace.com/\n",
      "companies[0] Artisan Colour this url https://seal-cinnamon-ngjm.squarespace.com/\n",
      "site_url https://www.pconceptsteam.com/ site_url_close ['https://www.pconceptsteam.com/', 'https://www.flexoconcepts.com/', 'https://www.vivaconcepts.com']\n",
      "site_url_close[0] https://www.pconceptsteam.com/\n",
      "ii 372 self.companies[ii] Promotion Concepts Team\n",
      "out1 true iout1 299 url https://www.pconceptsteam.com/\n",
      "companies[0] Fasprint this url https://www.pconceptsteam.com/\n"
     ]
    },
    {
     "name": "stderr",
     "output_type": "stream",
     "text": [
      "2021-11-30 16:39:11 [scrapy.core.scraper] DEBUG: Scraped from <200 https://aldertech.com/>\n",
      "{'Organization': 'Alder Technology',\n",
      " 'fulltext': 'The short of it is that They help businesses that rely on color accuracy in any capacity as part of their business workflow to create and produce consistent, state of the art color – period. Whether you are a printer, publishing company, graphic design firm, or photographer, They can help you create a strategy combining technology and education into your electronic production departments. What does that mean? It means you get enhanced end-to-end control of the variables that affect the quality of printed images. This helps you reduce errors that lead to lost production time and money due to reprints',\n",
      " 'searchterm': 'inkjet',\n",
      " 'url': 'https://aldertech.com/'}\n",
      "2021-11-30 16:39:11 [scrapy.core.engine] DEBUG: Crawled (200) <GET https://www.futureprintservices.com/> (referer: None)\n"
     ]
    },
    {
     "name": "stdout",
     "output_type": "stream",
     "text": [
      "site_url https://aldertech.com/ site_url_close ['http://www.aldertech.com/', 'https://cad-techs.com/', 'https://buchertech.com/']\n",
      "site_url_close[0] http://www.aldertech.com/\n",
      "ii 336 self.companies[ii] Alder Technology\n",
      "yielding item inkjet\n",
      "out1 true iout1 300 url https://aldertech.com/\n",
      "companies[0] BIG Time Advertising this url https://aldertech.com/\n"
     ]
    },
    {
     "name": "stderr",
     "output_type": "stream",
     "text": [
      "2021-11-30 16:39:12 [scrapy.core.engine] DEBUG: Crawled (200) <GET https://www.chromaco.com/> (referer: None)\n",
      "2021-11-30 16:39:12 [scrapy.core.engine] DEBUG: Crawled (200) <GET https://monroestar.com/> (referer: None)\n",
      "2021-11-30 16:39:12 [scrapy.core.engine] DEBUG: Crawled (200) <GET https://www.townemailer.com/> (referer: None)\n"
     ]
    },
    {
     "name": "stdout",
     "output_type": "stream",
     "text": [
      "site_url https://www.futureprintservices.com/ site_url_close ['https://www.futureprintservices.com/', 'https://www4.outputservices.com', 'https://www.fastprinters.com/']\n",
      "site_url_close[0] https://www.futureprintservices.com/\n",
      "ii 380 self.companies[ii] Future Print Services\n",
      "out1 true iout1 301 url https://www.futureprintservices.com/\n",
      "companies[0] Designs Of All Kinds this url https://www.futureprintservices.com/\n"
     ]
    },
    {
     "name": "stderr",
     "output_type": "stream",
     "text": [
      "2021-11-30 16:39:12 [scrapy.core.engine] DEBUG: Crawled (200) <GET https://outputlinkscommunicationsgroup.com/> (referer: None)\n",
      "2021-11-30 16:39:12 [scrapy.core.engine] DEBUG: Crawled (200) <GET https://www.x3creative.com/> (referer: None)\n"
     ]
    },
    {
     "name": "stdout",
     "output_type": "stream",
     "text": [
      "site_url https://www.chromaco.com/ site_url_close ['https://www.chromaco.com/', 'https://www.chromasource.com/', 'https://www.schwabco.com/']\n",
      "site_url_close[0] https://www.chromaco.com/\n",
      "ii 383 self.companies[ii] Chromaco\n",
      "out1 true iout1 302 url https://www.chromaco.com/\n",
      "companies[0] PhotoSecure this url https://www.chromaco.com/\n",
      "site_url https://monroestar.com/ site_url_close ['https://www.monroestar.com', 'https://finestar.com/', 'https://zonretail.com/']\n",
      "site_url_close[0] https://www.monroestar.com\n",
      "ii 359 self.companies[ii] Monroestar\n",
      "out1 false iout2 41 url https://monroestar.com/\n",
      "companies[0] LiveWire Creative Services this url https://monroestar.com/\n"
     ]
    },
    {
     "name": "stderr",
     "output_type": "stream",
     "text": [
      "2021-11-30 16:39:13 [scrapy.core.engine] DEBUG: Crawled (200) <GET https://printpelican.com/> (referer: None)\n"
     ]
    },
    {
     "name": "stdout",
     "output_type": "stream",
     "text": [
      "site_url https://www.townemailer.com/ site_url_close ['https://www.townemailer.com/', 'https://www.actionmailer.com', 'https://www.weilerls.com/']\n",
      "site_url_close[0] https://www.townemailer.com/\n",
      "ii 381 self.companies[ii] Towne Mailer\n",
      "out1 true iout1 303 url https://www.townemailer.com/\n",
      "companies[0] Alder Technology this url https://www.townemailer.com/\n",
      "site_url https://outputlinkscommunicationsgroup.com/ site_url_close ['https://outputlinkscommunicationsgroup.com/', 'https://steinmancommunications.com/', 'http://wickcommunications.com']\n",
      "site_url_close[0] https://outputlinkscommunicationsgroup.com/\n",
      "ii 384 self.companies[ii] OutputLinks Communications Group\n",
      "out1 true iout1 304 url https://outputlinkscommunicationsgroup.com/\n",
      "companies[0] Graphic Information Systems this url https://outputlinkscommunicationsgroup.com/\n"
     ]
    },
    {
     "name": "stderr",
     "output_type": "stream",
     "text": [
      "2021-11-30 16:39:14 [scrapy.downloadermiddlewares.redirect] DEBUG: Redirecting (301) to <GET https://labelmatch.com/> from <GET http://www.labelmatch.com>\n",
      "2021-11-30 16:39:14 [scrapy.core.engine] DEBUG: Crawled (200) <GET http://www.datawebdynamics.com> (referer: None)\n",
      "2021-11-30 16:39:14 [scrapy.downloadermiddlewares.retry] ERROR: Gave up retrying <GET https://www.printnation.com> (failed 3 times): TCP connection timed out: 10060: A connection attempt failed because the connected party did not properly respond after a period of time, or established connection failed because connected host has failed to respond..\n"
     ]
    },
    {
     "name": "stdout",
     "output_type": "stream",
     "text": [
      "site_url https://www.x3creative.com/ site_url_close ['https://www.creativedi.com/', 'https://x3creative.com', 'https://www.mkjcreative.com']\n",
      "site_url_close[0] https://www.creativedi.com/\n",
      "ii 1493 self.companies[ii] Creative Digital Imaging\n",
      "out1 true iout1 305 url https://www.x3creative.com/\n",
      "companies[0] Southeast Media this url https://www.x3creative.com/\n"
     ]
    },
    {
     "name": "stderr",
     "output_type": "stream",
     "text": [
      "2021-11-30 16:39:15 [scrapy.core.engine] DEBUG: Crawled (200) <GET https://www.billingpros.com/> (referer: None)\n",
      "2021-11-30 16:39:15 [scrapy.core.scraper] ERROR: Error downloading <GET https://www.printnation.com>\n",
      "Traceback (most recent call last):\n",
      "  File \"C:\\Users\\MStopa\\AppData\\Local\\Continuum\\anaconda3\\envs\\webscrape\\lib\\site-packages\\scrapy\\core\\downloader\\middleware.py\", line 44, in process_request\n",
      "    return (yield download_func(request=request, spider=spider))\n",
      "twisted.internet.error.TCPTimedOutError: TCP connection timed out: 10060: A connection attempt failed because the connected party did not properly respond after a period of time, or established connection failed because connected host has failed to respond..\n"
     ]
    },
    {
     "name": "stdout",
     "output_type": "stream",
     "text": [
      "site_url https://printpelican.com/ site_url_close ['https://printpelican.com/', 'https://r3printing.com/', 'https://printreach.com/']\n",
      "site_url_close[0] https://printpelican.com/\n",
      "ii 382 self.companies[ii] Print Pelican\n",
      "out1 true iout1 306 url https://printpelican.com/\n",
      "companies[0] Trade Show Direct this url https://printpelican.com/\n"
     ]
    },
    {
     "name": "stderr",
     "output_type": "stream",
     "text": [
      "2021-11-30 16:39:15 [scrapy.downloadermiddlewares.redirect] DEBUG: Redirecting (301) to <GET https://www.printwise-inc.com/> from <GET http://printwise-inc.com>\n"
     ]
    },
    {
     "name": "stdout",
     "output_type": "stream",
     "text": [
      "site_url http://www.datawebdynamics.com site_url_close ['http://www.datawebdynamics.com', 'http://www.dataweigh.com', 'http://www.innovadynamics.com']\n",
      "site_url_close[0] http://www.datawebdynamics.com\n",
      "ii 388 self.companies[ii] Dataweb Dynamics\n",
      "out1 true iout1 307 url http://www.datawebdynamics.com\n",
      "companies[0] Jaguar Design Studio this url http://www.datawebdynamics.com\n"
     ]
    },
    {
     "name": "stderr",
     "output_type": "stream",
     "text": [
      "2021-11-30 16:39:16 [scrapy.downloadermiddlewares.redirect] DEBUG: Redirecting (301) to <GET https://countryplank.com/> from <GET http://countryplank.com/>\n",
      "2021-11-30 16:39:16 [scrapy.core.engine] DEBUG: Crawled (200) <GET https://stoneridgegroup.com/> (referer: None)\n",
      "2021-11-30 16:39:16 [scrapy.downloadermiddlewares.retry] DEBUG: Retrying <GET http://newenglandstitchcraft.com> (failed 2 times): [<twisted.python.failure.Failure twisted.internet.error.ConnectionDone: Connection was closed cleanly.>]\n"
     ]
    },
    {
     "name": "stdout",
     "output_type": "stream",
     "text": [
      "site_url https://www.billingpros.com/ site_url_close ['https://www.billingpros.com/', 'http://www.billingdoc.com/', 'https://www.mailing.com/']\n",
      "site_url_close[0] https://www.billingpros.com/\n",
      "ii 385 self.companies[ii] Billing Pros\n",
      "out1 true iout1 308 url https://www.billingpros.com/\n",
      "companies[0] United Fulfillment this url https://www.billingpros.com/\n"
     ]
    },
    {
     "name": "stderr",
     "output_type": "stream",
     "text": [
      "2021-11-30 16:39:16 [scrapy.core.engine] DEBUG: Crawled (403) <GET http://www.copiesgalore.biz/> (referer: None)\n",
      "2021-11-30 16:39:16 [scrapy.core.engine] DEBUG: Crawled (200) <GET http://www.artdeptinc.com/> (referer: None)\n",
      "2021-11-30 16:39:16 [scrapy.extensions.logstats] INFO: Crawled 363 pages (at 93 pages/min), scraped 33 items (at 8 items/min)\n",
      "2021-11-30 16:39:17 [scrapy.spidermiddlewares.httperror] INFO: Ignoring response <403 http://www.copiesgalore.biz/>: HTTP status code is not handled or not allowed\n"
     ]
    },
    {
     "name": "stdout",
     "output_type": "stream",
     "text": [
      "site_url https://stoneridgegroup.com/ site_url_close ['https://stoneridgegroup.com/', 'https://tonertiger.com', 'https://supersedegroup.com/']\n",
      "site_url_close[0] https://stoneridgegroup.com/\n",
      "ii 386 self.companies[ii] The Stoneridge Group\n",
      "out1 false iout2 42 url https://stoneridgegroup.com/\n",
      "companies[0] KdR, etc. this url https://stoneridgegroup.com/\n",
      "site_url http://www.artdeptinc.com/ site_url_close ['http://www.artdeptinc.com/', 'http://www.tmdinc.com/', 'https://www.carterprinting.com/']\n",
      "site_url_close[0] http://www.artdeptinc.com/\n",
      "ii 392 self.companies[ii] Art Dept\n",
      "out1 true iout1 309 url http://www.artdeptinc.com/\n",
      "companies[0] IOTEC this url http://www.artdeptinc.com/\n"
     ]
    },
    {
     "name": "stderr",
     "output_type": "stream",
     "text": [
      "2021-11-30 16:39:17 [scrapy.downloadermiddlewares.redirect] DEBUG: Redirecting (301) to <GET https://store.55printing.com/> from <GET https://55printing.com/>\n",
      "2021-11-30 16:39:17 [scrapy.downloadermiddlewares.redirect] DEBUG: Redirecting (301) to <GET https://www.ridetexas.com/> from <GET http://www.ridetexas.com/>\n",
      "2021-11-30 16:39:17 [scrapy.core.engine] DEBUG: Crawled (200) <GET https://northlightcolor.com/> (referer: None)\n",
      "2021-11-30 16:39:17 [scrapy.core.engine] DEBUG: Crawled (200) <GET https://www.dgmna.com/> (referer: None)\n",
      "2021-11-30 16:39:18 [scrapy.core.engine] DEBUG: Crawled (200) <GET http://www.printsure.com/> (referer: None)\n"
     ]
    },
    {
     "name": "stdout",
     "output_type": "stream",
     "text": [
      "site_url https://northlightcolor.com/ site_url_close ['https://northlightcolor.com/', 'https://northeastcolor.com', 'http://earthcolor.com/']\n",
      "site_url_close[0] https://northlightcolor.com/\n",
      "ii 389 self.companies[ii] North Light Color\n",
      "out1 true iout1 310 url https://northlightcolor.com/\n",
      "companies[0] Big Mountain Imaging this url https://northlightcolor.com/\n"
     ]
    },
    {
     "name": "stderr",
     "output_type": "stream",
     "text": [
      "2021-11-30 16:39:18 [scrapy.core.engine] DEBUG: Crawled (200) <GET https://www.ecopaper.com/> (referer: None)\n"
     ]
    },
    {
     "name": "stdout",
     "output_type": "stream",
     "text": [
      "site_url https://www.dgmna.com/ site_url_close ['https://www.dgmna.com/', 'https://www.sdicgm.com/', 'https://www.magna4.com/']\n",
      "site_url_close[0] https://www.dgmna.com/\n",
      "ii 393 self.companies[ii] Diversified Graphic Machinery\n",
      "out1 false iout2 43 url https://www.dgmna.com/\n",
      "companies[0] Idea Garden Advertising this url https://www.dgmna.com/\n"
     ]
    },
    {
     "name": "stderr",
     "output_type": "stream",
     "text": [
      "2021-11-30 16:39:19 [scrapy.core.scraper] DEBUG: Scraped from <200 http://www.printsure.com/>\r\n",
      "{'Organization': 'PrintSure Printing & Die-Cutting',\n",
      " 'fulltext': 'For packaging prototypes, mock ups, comps, and samples call PrintSure.',\n",
      " 'searchterm': 'digital printing',\n",
      " 'url': 'http://www.printsure.com/'}\n"
     ]
    },
    {
     "name": "stdout",
     "output_type": "stream",
     "text": [
      "site_url http://www.printsure.com/ site_url_close ['http://www.printsure.com/', 'http://www.printsouth.com/', 'http://www.printaura.com']\n",
      "site_url_close[0] http://www.printsure.com/\n",
      "ii 395 self.companies[ii] PrintSure Printing & Die-Cutting\n",
      "yielding item digital printing\n",
      "out1 true iout1 311 url http://www.printsure.com/\n",
      "companies[0] Modal Design Works this url http://www.printsure.com/\n"
     ]
    },
    {
     "name": "stderr",
     "output_type": "stream",
     "text": [
      "2021-11-30 16:39:19 [scrapy.core.engine] DEBUG: Crawled (200) <GET https://www.endowdevelop.com> (referer: None)\n",
      "2021-11-30 16:39:19 [scrapy.core.engine] DEBUG: Crawled (200) <GET http://www.proformaabfdirect.com/> (referer: None)\n",
      "2021-11-30 16:39:19 [scrapy.downloadermiddlewares.redirect] DEBUG: Redirecting (308) to <GET https://www.spts.com/products/HF-release-etch> from <GET http://www.spts.com/products/HF-release-etch>\n"
     ]
    },
    {
     "name": "stdout",
     "output_type": "stream",
     "text": [
      "site_url https://www.ecopaper.com/ site_url_close ['https://www.ecopaper.com/', 'https://www.pchopper.com/', 'http://www.economypaper.com/']\n",
      "site_url_close[0] https://www.ecopaper.com/\n",
      "ii 396 self.companies[ii] Ecopaper\n",
      "out1 true iout1 312 url https://www.ecopaper.com/\n",
      "companies[0] Nerx Media this url https://www.ecopaper.com/\n",
      "site_url https://www.endowdevelop.com site_url_close ['https://www.endowdevelop.com', 'http://www.envelopes.com', 'https://www.envelopments.com']\n",
      "site_url_close[0] https://www.endowdevelop.com\n",
      "ii 399 self.companies[ii] Endowment Development Services\n",
      "out1 true iout1 313 url https://www.endowdevelop.com\n",
      "companies[0] Cimarron Label this url https://www.endowdevelop.com\n"
     ]
    },
    {
     "name": "stderr",
     "output_type": "stream",
     "text": [
      "2021-11-30 16:39:20 [scrapy.core.engine] DEBUG: Crawled (200) <GET https://dds-usa.com/> (referer: None)\n",
      "2021-11-30 16:39:20 [scrapy.downloadermiddlewares.redirect] DEBUG: Redirecting (302) to <GET http://buyat.ppg.com/redir/default.aspx?domain=www.electra-finish.com&path=/> from <GET http://www.electra-finish.com>\n"
     ]
    },
    {
     "name": "stdout",
     "output_type": "stream",
     "text": [
      "site_url http://www.proformaabfdirect.com/ site_url_close ['http://www.proformaabfdirect.com/', 'http://www.cprdirect.com/', 'http://www.provendirect.com/']\n",
      "site_url_close[0] http://www.proformaabfdirect.com/\n",
      "ii 398 self.companies[ii] Proforma ABF Direct\n",
      "out1 false iout2 44 url http://www.proformaabfdirect.com/\n",
      "companies[0] Seventh Planet this url http://www.proformaabfdirect.com/\n"
     ]
    },
    {
     "name": "stderr",
     "output_type": "stream",
     "text": [
      "2021-11-30 16:39:21 [scrapy.core.scraper] DEBUG: Scraped from <200 https://dds-usa.com/>\n",
      "{'Organization': 'Document Data Solutions',\n",
      " 'fulltext': 'nan',\n",
      " 'searchterm': 'inkjet',\n",
      " 'url': 'https://dds-usa.com/'}\n",
      "2021-11-30 16:39:21 [scrapy.core.engine] DEBUG: Crawled (200) <GET http://preferredinkproducts.com> (referer: None)\n",
      "2021-11-30 16:39:21 [scrapy.downloadermiddlewares.retry] DEBUG: Retrying <GET https://www.fourtownesembroidery.com/> (failed 1 times): DNS lookup failed: no results for hostname lookup: www.fourtownesembroidery.com.\n"
     ]
    },
    {
     "name": "stdout",
     "output_type": "stream",
     "text": [
      "site_url https://dds-usa.com/ site_url_close ['http://dds-usa.com', 'http://mkusa.com/', 'https://rdsteam.com/']\n",
      "site_url_close[0] http://dds-usa.com\n",
      "ii 376 self.companies[ii] Document Data Solutions\n",
      "yielding item inkjet\n",
      "out1 true iout1 314 url https://dds-usa.com/\n",
      "companies[0] Stitches and Screens this url https://dds-usa.com/\n"
     ]
    },
    {
     "name": "stderr",
     "output_type": "stream",
     "text": [
      "2021-11-30 16:39:21 [scrapy.downloadermiddlewares.redirect] DEBUG: Redirecting (301) to <GET http://www.intechcenter.com/> from <GET http://intechcenter.com>\n",
      "2021-11-30 16:39:21 [scrapy.downloadermiddlewares.retry] ERROR: Gave up retrying <GET https://hiflowsolutions.com/> (failed 3 times): TCP connection timed out: 10060: A connection attempt failed because the connected party did not properly respond after a period of time, or established connection failed because connected host has failed to respond..\n",
      "2021-11-30 16:39:21 [scrapy.core.downloader.tls] WARNING: Remote certificate is not valid for hostname \"www.innpro.net\"; VerificationError(errors=[DNSMismatch(mismatched_id=DNS_ID(hostname=b'www.innpro.net'))])\n",
      "2021-11-30 16:39:21 [scrapy.core.scraper] ERROR: Error downloading <GET https://hiflowsolutions.com/>\n",
      "Traceback (most recent call last):\n",
      "  File \"C:\\Users\\MStopa\\AppData\\Local\\Continuum\\anaconda3\\envs\\webscrape\\lib\\site-packages\\scrapy\\core\\downloader\\middleware.py\", line 44, in process_request\n",
      "    return (yield download_func(request=request, spider=spider))\n",
      "twisted.internet.error.TCPTimedOutError: TCP connection timed out: 10060: A connection attempt failed because the connected party did not properly respond after a period of time, or established connection failed because connected host has failed to respond..\n",
      "2021-11-30 16:39:21 [scrapy.core.engine] DEBUG: Crawled (200) <GET https://labelmatch.com/> (referer: None)\n"
     ]
    },
    {
     "name": "stdout",
     "output_type": "stream",
     "text": [
      "site_url http://preferredinkproducts.com site_url_close ['http://preferredinkproducts.com', 'http://epicproducts.com', 'http://efcoproducts.com']\n",
      "site_url_close[0] http://preferredinkproducts.com\n",
      "ii 401 self.companies[ii] Preferred Ink Products\n",
      "out1 true iout1 315 url http://preferredinkproducts.com\n",
      "companies[0] Docuplex this url http://preferredinkproducts.com\n"
     ]
    },
    {
     "name": "stderr",
     "output_type": "stream",
     "text": [
      "2021-11-30 16:39:22 [scrapy.downloadermiddlewares.redirect] DEBUG: Redirecting (meta refresh) to <GET http://www.icglink.com> from <GET https://www.innpro.net>\n",
      "2021-11-30 16:39:22 [scrapy.core.engine] DEBUG: Crawled (200) <GET http://www.ddphoenix.com> (referer: None)\n"
     ]
    },
    {
     "name": "stdout",
     "output_type": "stream",
     "text": [
      "site_url https://labelmatch.com/ site_url_close ['http://www.labelmatch.com', 'https://iglabel.com/', 'https://thilabel.com/']\n",
      "site_url_close[0] http://www.labelmatch.com\n",
      "ii 387 self.companies[ii] Labelmatch\n",
      "out1 true iout1 316 url https://labelmatch.com/\n",
      "companies[0] Midnet Media this url https://labelmatch.com/\n"
     ]
    },
    {
     "name": "stderr",
     "output_type": "stream",
     "text": [
      "2021-11-30 16:39:23 [scrapy.core.engine] DEBUG: Crawled (200) <GET https://countryplank.com/> (referer: None)\n",
      "2021-11-30 16:39:23 [scrapy.core.engine] DEBUG: Crawled (200) <GET http://www.nmvinc.com> (referer: None)\n"
     ]
    },
    {
     "name": "stdout",
     "output_type": "stream",
     "text": [
      "site_url http://www.ddphoenix.com site_url_close ['http://www.ddphoenix.com', 'http://www.phoenixproto.com', 'http://www.hillphoenix.com/']\n",
      "site_url_close[0] http://www.ddphoenix.com\n",
      "ii 405 self.companies[ii] Direct Digital\n",
      "out1 true iout1 317 url http://www.ddphoenix.com\n",
      "companies[0] Printergy this url http://www.ddphoenix.com\n",
      "site_url https://countryplank.com/ site_url_close ['http://countryplank.com/', 'http://yourplanb.com/', 'https://colorink.com/']\n",
      "site_url_close[0] http://countryplank.com/\n",
      "ii 391 self.companies[ii] Country Plank\n",
      "out1 true iout1 318 url https://countryplank.com/\n",
      "companies[0] SwissLogic this url https://countryplank.com/\n"
     ]
    },
    {
     "name": "stderr",
     "output_type": "stream",
     "text": [
      "2021-11-30 16:39:24 [scrapy.core.engine] DEBUG: Crawled (200) <GET https://stickerjunkie.com/> (referer: None)\n"
     ]
    },
    {
     "name": "stdout",
     "output_type": "stream",
     "text": [
      "site_url http://www.nmvinc.com site_url_close ['http://www.nmvinc.com', 'http://www.tmdinc.com/', 'http://www.idmsinc.com']\n",
      "site_url_close[0] http://www.nmvinc.com\n",
      "ii 406 self.companies[ii] NMV\n",
      "out1 true iout1 319 url http://www.nmvinc.com\n",
      "companies[0] Amerimail this url http://www.nmvinc.com\n"
     ]
    },
    {
     "name": "stderr",
     "output_type": "stream",
     "text": [
      "2021-11-30 16:39:24 [scrapy.downloadermiddlewares.retry] DEBUG: Retrying <GET http://www.cusaprint.com> (failed 1 times): [<twisted.python.failure.Failure twisted.internet.error.ConnectionLost: Connection to the other side was lost in a non-clean fashion.>]\n",
      "2021-11-30 16:39:24 [scrapy.core.engine] DEBUG: Crawled (200) <GET https://www.fultonfrancis.com> (referer: None)\n"
     ]
    },
    {
     "name": "stdout",
     "output_type": "stream",
     "text": [
      "site_url https://stickerjunkie.com/ site_url_close ['https://stickerjunkie.com/', 'https://stickerguy.com/', 'https://www.stickerkid.com']\n",
      "site_url_close[0] https://stickerjunkie.com/\n",
      "ii 408 self.companies[ii] StickerJunkie\n",
      "out1 false iout2 45 url https://stickerjunkie.com/\n",
      "companies[0] X3Creative this url https://stickerjunkie.com/\n"
     ]
    },
    {
     "name": "stderr",
     "output_type": "stream",
     "text": [
      "2021-11-30 16:39:25 [scrapy.core.engine] DEBUG: Crawled (200) <GET https://www.printwise-inc.com/> (referer: None)\n"
     ]
    },
    {
     "name": "stdout",
     "output_type": "stream",
     "text": [
      "site_url https://www.fultonfrancis.com site_url_close ['https://www.fultonfrancis.com', 'https://www.ultimaxinc.com', 'https://www.burlingtongraphics.com']\n",
      "site_url_close[0] https://www.fultonfrancis.com\n",
      "ii 407 self.companies[ii] Fulton Francis\n",
      "out1 true iout1 320 url https://www.fultonfrancis.com\n",
      "companies[0] Smart Digi-Media this url https://www.fultonfrancis.com\n"
     ]
    },
    {
     "name": "stderr",
     "output_type": "stream",
     "text": [
      "2021-11-30 16:39:25 [scrapy.core.engine] DEBUG: Crawled (200) <GET http://www.ericksondesign.com/> (referer: None)\n"
     ]
    },
    {
     "name": "stdout",
     "output_type": "stream",
     "text": [
      "site_url https://www.printwise-inc.com/ site_url_close ['http://printwise-inc.com', 'http://www.printinc.com', 'http://www.printtechinc.com/']\n",
      "site_url_close[0] http://printwise-inc.com\n",
      "ii 390 self.companies[ii] PRINTWISE\n",
      "out1 true iout1 321 url https://www.printwise-inc.com/\n",
      "companies[0] Ad infinitum this url https://www.printwise-inc.com/\n"
     ]
    },
    {
     "name": "stderr",
     "output_type": "stream",
     "text": [
      "2021-11-30 16:39:26 [scrapy.core.engine] DEBUG: Crawled (200) <GET http://nonboxmedia.com/> (referer: None)\n",
      "2021-11-30 16:39:26 [scrapy.core.engine] DEBUG: Crawled (200) <GET https://www.printpal.com/> (referer: None)\n"
     ]
    },
    {
     "name": "stdout",
     "output_type": "stream",
     "text": [
      "site_url http://www.ericksondesign.com/ site_url_close ['http://www.ericksondesign.com/', 'https://www.corwindesign.com/', 'https://www.trendesign.com/']\n",
      "site_url_close[0] http://www.ericksondesign.com/\n",
      "ii 411 self.companies[ii] Erickson Design\n",
      "out1 true iout1 322 url http://www.ericksondesign.com/\n",
      "companies[0] Monroestar this url http://www.ericksondesign.com/\n"
     ]
    },
    {
     "name": "stderr",
     "output_type": "stream",
     "text": [
      "2021-11-30 16:39:27 [scrapy.core.engine] DEBUG: Crawled (200) <GET https://www.ridetexas.com/> (referer: None)\n",
      "2021-11-30 16:39:27 [scrapy.core.engine] DEBUG: Crawled (200) <GET https://store.55printing.com/> (referer: None)\n",
      "2021-11-30 16:39:27 [scrapy.core.engine] DEBUG: Crawled (200) <GET https://www.asapchecks.com/> (referer: None)\n",
      "2021-11-30 16:39:27 [scrapy.downloadermiddlewares.redirect] DEBUG: Redirecting (302) to <GET https://buyat.ppg.com/redir/default.aspx?domain=www.electra-finish.com&path=/> from <GET http://buyat.ppg.com/redir/default.aspx?domain=www.electra-finish.com&path=/>\n"
     ]
    },
    {
     "name": "stdout",
     "output_type": "stream",
     "text": [
      "site_url http://nonboxmedia.com/ site_url_close ['http://nonboxmedia.com/', 'http://nerxmedia.com/', 'https://norsanmedia.com/']\n",
      "site_url_close[0] http://nonboxmedia.com/\n",
      "ii 414 self.companies[ii] Nonbox Media\n",
      "out1 true iout1 323 url http://nonboxmedia.com/\n",
      "companies[0] Car Stickers this url http://nonboxmedia.com/\n"
     ]
    },
    {
     "name": "stderr",
     "output_type": "stream",
     "text": [
      "2021-11-30 16:39:27 [scrapy.downloadermiddlewares.retry] ERROR: Gave up retrying <GET http://newenglandstitchcraft.com> (failed 3 times): [<twisted.python.failure.Failure twisted.internet.error.ConnectionDone: Connection was closed cleanly.>]\n",
      "2021-11-30 16:39:27 [scrapy.downloadermiddlewares.retry] ERROR: Gave up retrying <GET https://www.alliancemicro.com> (failed 3 times): TCP connection timed out: 10060: A connection attempt failed because the connected party did not properly respond after a period of time, or established connection failed because connected host has failed to respond..\n"
     ]
    },
    {
     "name": "stdout",
     "output_type": "stream",
     "text": [
      "site_url https://www.printpal.com/ site_url_close ['https://www.printpal.com/', 'https://www.printearly.com/', 'https://www.printfp.com']\n",
      "site_url_close[0] https://www.printpal.com/\n",
      "ii 413 self.companies[ii] Printpal\n",
      "out1 false iout2 46 url https://www.printpal.com/\n",
      "companies[0] Camelback Displays this url https://www.printpal.com/\n",
      "site_url https://www.ridetexas.com/ site_url_close ['http://www.ridetexas.com/', 'https://www.adeast.com/', 'https://www.midnetmedia.com/']\n",
      "site_url_close[0] http://www.ridetexas.com/\n",
      "ii 397 self.companies[ii] Motoventure, Inc\n",
      "out1 true iout1 324 url https://www.ridetexas.com/\n",
      "companies[0] Image Matters this url https://www.ridetexas.com/\n"
     ]
    },
    {
     "name": "stderr",
     "output_type": "stream",
     "text": [
      "2021-11-30 16:39:28 [scrapy.core.scraper] ERROR: Spider error processing <GET https://store.55printing.com/> (referer: None)\n",
      "Traceback (most recent call last):\n",
      "  File \"C:\\Users\\MStopa\\AppData\\Local\\Continuum\\anaconda3\\envs\\webscrape\\lib\\site-packages\\scrapy\\utils\\defer.py\", line 120, in iter_errback\n",
      "    yield next(it)\n",
      "  File \"C:\\Users\\MStopa\\AppData\\Local\\Continuum\\anaconda3\\envs\\webscrape\\lib\\site-packages\\scrapy\\utils\\python.py\", line 346, in __next__\n",
      "    return next(self.data)\n",
      "  File \"C:\\Users\\MStopa\\AppData\\Local\\Continuum\\anaconda3\\envs\\webscrape\\lib\\site-packages\\scrapy\\utils\\python.py\", line 346, in __next__\n",
      "    return next(self.data)\n",
      "  File \"C:\\Users\\MStopa\\AppData\\Local\\Continuum\\anaconda3\\envs\\webscrape\\lib\\site-packages\\scrapy\\core\\spidermw.py\", line 64, in _evaluate_iterable\n",
      "    for r in iterable:\n",
      "  File \"C:\\Users\\MStopa\\AppData\\Local\\Continuum\\anaconda3\\envs\\webscrape\\lib\\site-packages\\scrapy\\spidermiddlewares\\offsite.py\", line 29, in process_spider_output\n",
      "    for x in result:\n",
      "  File \"C:\\Users\\MStopa\\AppData\\Local\\Continuum\\anaconda3\\envs\\webscrape\\lib\\site-packages\\scrapy\\core\\spidermw.py\", line 64, in _evaluate_iterable\n",
      "    for r in iterable:\n",
      "  File \"C:\\Users\\MStopa\\AppData\\Local\\Continuum\\anaconda3\\envs\\webscrape\\lib\\site-packages\\scrapy\\spidermiddlewares\\referer.py\", line 340, in <genexpr>\n",
      "    return (_set_referer(r) for r in result or ())\n",
      "  File \"C:\\Users\\MStopa\\AppData\\Local\\Continuum\\anaconda3\\envs\\webscrape\\lib\\site-packages\\scrapy\\core\\spidermw.py\", line 64, in _evaluate_iterable\n",
      "    for r in iterable:\n",
      "  File \"C:\\Users\\MStopa\\AppData\\Local\\Continuum\\anaconda3\\envs\\webscrape\\lib\\site-packages\\scrapy\\spidermiddlewares\\urllength.py\", line 37, in <genexpr>\n",
      "    return (r for r in result or () if _filter(r))\n",
      "  File \"C:\\Users\\MStopa\\AppData\\Local\\Continuum\\anaconda3\\envs\\webscrape\\lib\\site-packages\\scrapy\\core\\spidermw.py\", line 64, in _evaluate_iterable\n",
      "    for r in iterable:\n",
      "  File \"C:\\Users\\MStopa\\AppData\\Local\\Continuum\\anaconda3\\envs\\webscrape\\lib\\site-packages\\scrapy\\spidermiddlewares\\depth.py\", line 58, in <genexpr>\n",
      "    return (r for r in result or () if _filter(r))\n",
      "  File \"C:\\Users\\MStopa\\AppData\\Local\\Continuum\\anaconda3\\envs\\webscrape\\lib\\site-packages\\scrapy\\core\\spidermw.py\", line 64, in _evaluate_iterable\n",
      "    for r in iterable:\n",
      "  File \"<ipython-input-9-10a30e00531c>\", line 132, in parse\n",
      "    file1.write(out2 + '\\n')\n",
      "  File \"C:\\Users\\MStopa\\AppData\\Local\\Continuum\\anaconda3\\envs\\webscrape\\lib\\encodings\\cp1252.py\", line 19, in encode\n",
      "    return codecs.charmap_encode(input,self.errors,encoding_table)[0]\n",
      "UnicodeEncodeError: 'charmap' codec can't encode character '\\ufe0f' in position 990: character maps to <undefined>\n"
     ]
    },
    {
     "name": "stdout",
     "output_type": "stream",
     "text": [
      "site_url https://store.55printing.com/ site_url_close ['https://mooreprinting.com', 'https://r3printing.com/', 'https://qslprinting.com/']\n",
      "site_url_close[0] https://mooreprinting.com\n",
      "ii 3483 self.companies[ii] Moore Printing Company\n",
      "out1 true iout1 325 url https://store.55printing.com/\n"
     ]
    },
    {
     "name": "stderr",
     "output_type": "stream",
     "text": [
      "2021-11-30 16:39:28 [scrapy.core.scraper] DEBUG: Scraped from <200 https://www.asapchecks.com/>\n",
      "{'Organization': 'ASAP Checks',\n",
      " 'fulltext': 'ASAP Checks has a simple model: maximize the value to their customers with speed. This translates into top notch products at a fraction of the cost of traditional check sources, ready to ship in as little as 1 day. Unlike many of their competitors who simply resell products manufactured by others, ASAP Checks prints its own checks from its production facility in northern New York state. All of the products they ship are guaranteed with a 100% satisfaction guarantee, so there is no risk to trying their products. With millions of checks printed and shipped throughout North America, their success proves their quality.',\n",
      " 'searchterm': 'inkjet',\n",
      " 'url': 'https://www.asapchecks.com/'}\n",
      "2021-11-30 16:39:28 [scrapy.core.engine] DEBUG: Crawled (200) <GET http://www.hrdata.com/> (referer: None)\n",
      "2021-11-30 16:39:28 [scrapy.downloadermiddlewares.redirect] DEBUG: Redirecting (301) to <GET https://www.spts.com/categories/hf-vapor-release-etch> from <GET https://www.spts.com/products/HF-release-etch>\n",
      "2021-11-30 16:39:28 [scrapy.core.engine] DEBUG: Crawled (200) <GET https://www.tierneyandassociates.com/> (referer: None)\n",
      "2021-11-30 16:39:28 [scrapy.downloadermiddlewares.retry] DEBUG: Retrying <GET https://www.mademyway.com> (failed 1 times): TCP connection timed out: 10060: A connection attempt failed because the connected party did not properly respond after a period of time, or established connection failed because connected host has failed to respond..\n",
      "2021-11-30 16:39:29 [scrapy.core.scraper] ERROR: Error downloading <GET http://newenglandstitchcraft.com>\n",
      "Traceback (most recent call last):\n",
      "  File \"C:\\Users\\MStopa\\AppData\\Local\\Continuum\\anaconda3\\envs\\webscrape\\lib\\site-packages\\scrapy\\core\\downloader\\middleware.py\", line 44, in process_request\n",
      "    return (yield download_func(request=request, spider=spider))\n",
      "twisted.web._newclient.ResponseNeverReceived: [<twisted.python.failure.Failure twisted.internet.error.ConnectionDone: Connection was closed cleanly.>]\n",
      "2021-11-30 16:39:29 [scrapy.core.scraper] ERROR: Error downloading <GET https://www.alliancemicro.com>\n",
      "Traceback (most recent call last):\n",
      "  File \"C:\\Users\\MStopa\\AppData\\Local\\Continuum\\anaconda3\\envs\\webscrape\\lib\\site-packages\\scrapy\\core\\downloader\\middleware.py\", line 44, in process_request\n",
      "    return (yield download_func(request=request, spider=spider))\n",
      "twisted.internet.error.TCPTimedOutError: TCP connection timed out: 10060: A connection attempt failed because the connected party did not properly respond after a period of time, or established connection failed because connected host has failed to respond..\n"
     ]
    },
    {
     "name": "stdout",
     "output_type": "stream",
     "text": [
      "site_url https://www.asapchecks.com/ site_url_close ['https://www.asapchecks.com/', 'https://www.safechecks.com/', 'https://www.spcoc.com/']\n",
      "site_url_close[0] https://www.asapchecks.com/\n",
      "ii 412 self.companies[ii] ASAP Checks\n",
      "yielding item inkjet\n",
      "out1 true iout1 326 url https://www.asapchecks.com/\n",
      "companies[0] Acme Prints this url https://www.asapchecks.com/\n"
     ]
    },
    {
     "name": "stderr",
     "output_type": "stream",
     "text": [
      "2021-11-30 16:39:29 [scrapy.core.engine] DEBUG: Crawled (200) <GET https://allitexpert.com/> (referer: None)\n"
     ]
    },
    {
     "name": "stdout",
     "output_type": "stream",
     "text": [
      "site_url http://www.hrdata.com/ site_url_close ['http://www.hrdata.com/', 'http://www.rtape.com/', 'http://www.ratio.com/']\n",
      "site_url_close[0] http://www.hrdata.com/\n",
      "ii 416 self.companies[ii] HR Data Com\n",
      "out1 true iout1 327 url http://www.hrdata.com/\n",
      "companies[0] AD Miracle this url http://www.hrdata.com/\n"
     ]
    },
    {
     "name": "stderr",
     "output_type": "stream",
     "text": [
      "2021-11-30 16:39:30 [scrapy.core.engine] DEBUG: Crawled (200) <GET https://miamistitch.com/> (referer: None)\n",
      "2021-11-30 16:39:30 [scrapy.downloadermiddlewares.retry] DEBUG: Retrying <GET https://www.fourtownesembroidery.com/> (failed 2 times): DNS lookup failed: no results for hostname lookup: www.fourtownesembroidery.com.\n"
     ]
    },
    {
     "name": "stdout",
     "output_type": "stream",
     "text": [
      "site_url https://www.tierneyandassociates.com/ site_url_close ['https://www.tierneyandassociates.com/', 'https://wiegandassociates.com/', 'http://www.soileauandassociates.com/']\n",
      "site_url_close[0] https://www.tierneyandassociates.com/\n",
      "ii 379 self.companies[ii] Tierney and Associates\n",
      "out1 true iout1 328 url https://www.tierneyandassociates.com/\n",
      "companies[0] rpimaging this url https://www.tierneyandassociates.com/\n"
     ]
    },
    {
     "name": "stderr",
     "output_type": "stream",
     "text": [
      "2021-11-30 16:39:30 [scrapy.downloadermiddlewares.redirect] DEBUG: Redirecting (301) to <GET https://ferranteassoc.com/> from <GET http://ferranteassoc.com>\n",
      "2021-11-30 16:39:30 [scrapy.core.engine] DEBUG: Crawled (200) <GET http://www.intechcenter.com/> (referer: None)\n"
     ]
    },
    {
     "name": "stdout",
     "output_type": "stream",
     "text": [
      "site_url https://allitexpert.com/ site_url_close ['https://allitexpert.com/', 'http://imagexpert.com/', 'http://liteye.com/']\n",
      "site_url_close[0] https://allitexpert.com/\n",
      "ii 415 self.companies[ii] All It Expert\n",
      "out1 true iout1 329 url https://allitexpert.com/\n",
      "companies[0] Scribble Creative Group this url https://allitexpert.com/\n"
     ]
    },
    {
     "name": "stderr",
     "output_type": "stream",
     "text": [
      "2021-11-30 16:39:31 [scrapy.downloadermiddlewares.redirect] DEBUG: Redirecting (301) to <GET https://pubplus.net/> from <GET https://www.publicationspress.com/>\n",
      "2021-11-30 16:39:31 [scrapy.core.engine] DEBUG: Crawled (406) <GET https://impressiondesign.com/> (referer: None)\n",
      "2021-11-30 16:39:31 [scrapy.core.engine] DEBUG: Crawled (200) <GET https://interdezign.com/> (referer: None)\n",
      "2021-11-30 16:39:31 [scrapy.core.engine] DEBUG: Crawled (200) <GET http://www.option5media.com/> (referer: None)\n"
     ]
    },
    {
     "name": "stdout",
     "output_type": "stream",
     "text": [
      "site_url https://miamistitch.com/ site_url_close ['https://miamistitch.com/', 'https://absit.com/', 'https://miamiprinting.com/']\n",
      "site_url_close[0] https://miamistitch.com/\n",
      "ii 409 self.companies[ii] Miami Stitch\n",
      "out1 true iout1 330 url https://miamistitch.com/\n",
      "companies[0] AC Manufacturing this url https://miamistitch.com/\n"
     ]
    },
    {
     "name": "stderr",
     "output_type": "stream",
     "text": [
      "2021-11-30 16:39:31 [scrapy.spidermiddlewares.httperror] INFO: Ignoring response <406 https://impressiondesign.com/>: HTTP status code is not handled or not allowed\n"
     ]
    },
    {
     "name": "stdout",
     "output_type": "stream",
     "text": [
      "site_url http://www.intechcenter.com/ site_url_close ['http://intechcenter.com', 'https://www.nyprintcenter.com/', 'https://www.printgreener.com/']\n",
      "site_url_close[0] http://intechcenter.com\n",
      "ii 402 self.companies[ii] InTechCenter\n",
      "out1 true iout1 331 url http://www.intechcenter.com/\n",
      "companies[0] PrintConnect this url http://www.intechcenter.com/\n",
      "site_url https://interdezign.com/ site_url_close ['https://interdezign.com/', 'https://blineburydesign.com/', 'https://hdesign.com/']\n",
      "site_url_close[0] https://interdezign.com/\n",
      "ii 418 self.companies[ii] Interdezign\n",
      "out1 true iout1 332 url https://interdezign.com/\n",
      "companies[0] New England Stitchcraft this url https://interdezign.com/\n"
     ]
    },
    {
     "name": "stderr",
     "output_type": "stream",
     "text": [
      "2021-11-30 16:39:32 [scrapy.core.scraper] DEBUG: Scraped from <200 http://www.option5media.com/>\n",
      "{'Organization': 'Option 5 Media',\n",
      " 'fulltext': 'nan',\n",
      " 'searchterm': 'inkjet',\n",
      " 'url': 'http://www.option5media.com/'}\n",
      "2021-11-30 16:39:32 [scrapy.core.engine] DEBUG: Crawled (200) <GET https://www.gungho.com/> (referer: None)\n",
      "2021-11-30 16:39:32 [scrapy.core.engine] DEBUG: Crawled (200) <GET https://www.universalprintandcopy.com/> (referer: None)\n"
     ]
    },
    {
     "name": "stdout",
     "output_type": "stream",
     "text": [
      "site_url http://www.option5media.com/ site_url_close ['http://www.option5media.com/', 'https://www.pointamedia.com/', 'https://www.cosomedia.com/']\n",
      "site_url_close[0] http://www.option5media.com/\n",
      "ii 419 self.companies[ii] Option 5 Media\n",
      "yielding item inkjet\n",
      "out1 true iout1 333 url http://www.option5media.com/\n",
      "companies[0] Venice Print Center this url http://www.option5media.com/\n"
     ]
    },
    {
     "name": "stderr",
     "output_type": "stream",
     "text": [
      "2021-11-30 16:39:33 [scrapy.downloadermiddlewares.redirect] DEBUG: Redirecting (301) to <GET https://oneelevendigital.com/> from <GET http://www.icglink.com>\n",
      "2021-11-30 16:39:33 [scrapy.core.downloader.tls] WARNING: Remote certificate is not valid for hostname \"www.carwrapsandsigns.com\"; VerificationError(errors=[DNSMismatch(mismatched_id=DNS_ID(hostname=b'www.carwrapsandsigns.com'))])\n",
      "2021-11-30 16:39:33 [scrapy.core.engine] DEBUG: Crawled (200) <GET https://www.rsaprinting.com/> (referer: None)\n"
     ]
    },
    {
     "name": "stdout",
     "output_type": "stream",
     "text": [
      "site_url https://www.gungho.com/ site_url_close ['https://www.gungho.com/', 'https://www.gsghome.com/', 'https://www.ngsolu.com/']\n",
      "site_url_close[0] https://www.gungho.com/\n",
      "ii 423 self.companies[ii] Gung-Ho\n",
      "out1 false iout2 47 url https://www.gungho.com/\n",
      "companies[0] WhatTheyThink this url https://www.gungho.com/\n"
     ]
    },
    {
     "name": "stderr",
     "output_type": "stream",
     "text": [
      "2021-11-30 16:39:34 [scrapy.downloadermiddlewares.redirect] DEBUG: Redirecting (301) to <GET https://cmediacompany.com/> from <GET http://cmediacompany.com>\n",
      "2021-11-30 16:39:34 [scrapy.downloadermiddlewares.retry] DEBUG: Retrying <GET http://www.cusaprint.com> (failed 2 times): [<twisted.python.failure.Failure twisted.internet.error.ConnectionLost: Connection to the other side was lost in a non-clean fashion.>]\n",
      "2021-11-30 16:39:34 [scrapy.core.engine] DEBUG: Crawled (404) <GET https://www.carwrapsandsigns.com/home.html> (referer: None)\n"
     ]
    },
    {
     "name": "stdout",
     "output_type": "stream",
     "text": [
      "site_url https://www.universalprintandcopy.com/ site_url_close ['https://www.universalprintandcopy.com/', 'https://www.universalprinting.com/', 'https://idealprintandcopy.com/']\n",
      "site_url_close[0] https://www.universalprintandcopy.com/\n",
      "ii 422 self.companies[ii] Universal Print And Copy\n",
      "out1 true iout1 334 url https://www.universalprintandcopy.com/\n",
      "companies[0] Promotion Concepts Team this url https://www.universalprintandcopy.com/\n"
     ]
    },
    {
     "name": "stderr",
     "output_type": "stream",
     "text": [
      "2021-11-30 16:39:34 [scrapy.core.engine] DEBUG: Crawled (200) <GET https://www.boxcarpress.com> (referer: None)\n",
      "2021-11-30 16:39:34 [scrapy.spidermiddlewares.httperror] INFO: Ignoring response <404 https://www.carwrapsandsigns.com/home.html>: HTTP status code is not handled or not allowed\n"
     ]
    },
    {
     "name": "stdout",
     "output_type": "stream",
     "text": [
      "site_url https://www.rsaprinting.com/ site_url_close ['https://www.rsaprinting.com/', 'https://www.roseprinting.com/', 'https://www.sjprinting.com/']\n",
      "site_url_close[0] https://www.rsaprinting.com/\n",
      "ii 424 self.companies[ii] Ross Printing\n",
      "out1 true iout1 335 url https://www.rsaprinting.com/\n",
      "companies[0] A1 Printers Plus this url https://www.rsaprinting.com/\n"
     ]
    },
    {
     "name": "stderr",
     "output_type": "stream",
     "text": [
      "2021-11-30 16:39:35 [scrapy.core.engine] DEBUG: Crawled (200) <GET http://united-ind.com/> (referer: None)\n",
      "2021-11-30 16:39:35 [scrapy.downloadermiddlewares.redirect] DEBUG: Redirecting (301) to <GET https://mgxdigital.com/> from <GET https://www.mgxdigital.com>\n",
      "2021-11-30 16:39:35 [scrapy.downloadermiddlewares.redirect] DEBUG: Redirecting (301) to <GET https://sbsprintandship.com/> from <GET https://www.sbsprintandship.com>\n",
      "2021-11-30 16:39:35 [scrapy.core.downloader.tls] WARNING: Remote certificate is not valid for hostname \"www.envisionpress.com\"; VerificationError(errors=[DNSMismatch(mismatched_id=DNS_ID(hostname=b'www.envisionpress.com'))])\n",
      "2021-11-30 16:39:35 [scrapy.core.engine] DEBUG: Crawled (200) <GET https://www.spts.com/categories/hf-vapor-release-etch> (referer: None)\n",
      "2021-11-30 16:39:35 [scrapy.downloadermiddlewares.redirect] DEBUG: Redirecting (301) to <GET http://www.inwk.com> from <GET http://www.brownandpartners.com>\n"
     ]
    },
    {
     "name": "stdout",
     "output_type": "stream",
     "text": [
      "site_url https://www.boxcarpress.com site_url_close ['https://www.boxcarpress.com', 'https://www.carinapress.com/', 'https://www.arionpress.com']\n",
      "site_url_close[0] https://www.boxcarpress.com\n",
      "ii 426 self.companies[ii] Boxcar Press\n",
      "out1 true iout1 336 url https://www.boxcarpress.com\n",
      "companies[0] Primaxx this url https://www.boxcarpress.com\n",
      "site_url http://united-ind.com/ site_url_close ['http://united-ind.com/', 'http://united-fulfillment.com/', 'https://niedo.com/']\n",
      "site_url_close[0] http://united-ind.com/\n",
      "ii 432 self.companies[ii] United Industries\n",
      "out1 true iout1 337 url http://united-ind.com/\n",
      "companies[0] Silver Buckle Services this url http://united-ind.com/\n"
     ]
    },
    {
     "name": "stderr",
     "output_type": "stream",
     "text": [
      "2021-11-30 16:39:36 [scrapy.core.engine] DEBUG: Crawled (200) <GET https://www.skyou.com/> (referer: None)\n",
      "2021-11-30 16:39:36 [scrapy.core.engine] DEBUG: Crawled (200) <GET https://www.envisionpress.com/> (referer: None)\n",
      "2021-11-30 16:39:36 [scrapy.core.engine] DEBUG: Crawled (200) <GET https://ferranteassoc.com/> (referer: None)\n"
     ]
    },
    {
     "name": "stdout",
     "output_type": "stream",
     "text": [
      "site_url https://www.spts.com/categories/hf-vapor-release-etch site_url_close ['https://www.rrd.com/locations/ocpc', 'https://www.mavcoatmoldrelease.com/', 'https://www.osv.com/default.aspx']\n",
      "site_url_close[0] https://www.rrd.com/locations/ocpc\n",
      "ii 3233 self.companies[ii] RRD\n",
      "out1 true iout1 338 url https://www.spts.com/categories/hf-vapor-release-etch\n",
      "companies[0] Document Data Solutions this url https://www.spts.com/categories/hf-vapor-release-etch\n"
     ]
    },
    {
     "name": "stderr",
     "output_type": "stream",
     "text": [
      "2021-11-30 16:39:36 [scrapy.core.scraper] DEBUG: Scraped from <200 https://www.skyou.com/>\r\n",
      "{'Organization': 'SKYOU INC',\n",
      " 'fulltext': 'nan',\n",
      " 'searchterm': 'screen printing',\n",
      " 'url': 'https://www.skyou.com/'}\n"
     ]
    },
    {
     "name": "stdout",
     "output_type": "stream",
     "text": [
      "site_url https://www.skyou.com/ site_url_close ['https://www.skyou.com/', 'https://www.ngsolu.com/', 'https://www.source4.com/']\n",
      "site_url_close[0] https://www.skyou.com/\n",
      "ii 430 self.companies[ii] SKYOU INC\n",
      "yielding item screen printing\n",
      "out1 true iout1 339 url https://www.skyou.com/\n",
      "companies[0] MadeMyWay.com this url https://www.skyou.com/\n"
     ]
    },
    {
     "name": "stderr",
     "output_type": "stream",
     "text": [
      "2021-11-30 16:39:37 [scrapy.core.scraper] DEBUG: Scraped from <200 https://www.envisionpress.com/>\r\n",
      "{'Organization': 'Envision Press',\n",
      " 'fulltext': 'nan',\n",
      " 'searchterm': 'digital printing',\n",
      " 'url': 'https://www.envisionpress.com/'}\n"
     ]
    },
    {
     "name": "stdout",
     "output_type": "stream",
     "text": [
      "site_url https://www.envisionpress.com/ site_url_close ['https://www.envisionpress.com/', 'http://www.envisiontees.com', 'https://www.jessenpress.com/']\n",
      "site_url_close[0] https://www.envisionpress.com/\n",
      "ii 431 self.companies[ii] Envision Press\n",
      "yielding item digital printing\n"
     ]
    },
    {
     "name": "stderr",
     "output_type": "stream",
     "text": [
      "2021-11-30 16:39:37 [scrapy.core.engine] DEBUG: Crawled (200) <GET http://theprototyper.com/> (referer: None)\n"
     ]
    },
    {
     "name": "stdout",
     "output_type": "stream",
     "text": [
      "site_url https://ferranteassoc.com/ site_url_close ['http://ferranteassoc.com', 'https://printreach.com/', 'https://guerrasenterprises.com/']\n",
      "site_url_close[0] http://ferranteassoc.com\n",
      "ii 417 self.companies[ii] Ferrante & Associates\n",
      "out1 true iout1 340 url https://ferranteassoc.com/\n",
      "companies[0] Cheap 55 Printing this url https://ferranteassoc.com/\n",
      "out1 true iout1 341 url https://www.envisionpress.com/\n",
      "companies[0] Tierney and Associates this url https://www.envisionpress.com/\n"
     ]
    },
    {
     "name": "stderr",
     "output_type": "stream",
     "text": [
      "2021-11-30 16:39:38 [scrapy.core.engine] DEBUG: Crawled (200) <GET http://www.sagpromo.com/> (referer: None)\n",
      "2021-11-30 16:39:38 [scrapy.core.downloader.tls] WARNING: Remote certificate is not valid for hostname \"www.signquest.com\"; VerificationError(errors=[DNSMismatch(mismatched_id=DNS_ID(hostname=b'www.signquest.com'))])\n",
      "2021-11-30 16:39:38 [scrapy.core.engine] DEBUG: Crawled (200) <GET https://impresssystems.com> (referer: None)\n"
     ]
    },
    {
     "name": "stdout",
     "output_type": "stream",
     "text": [
      "site_url http://theprototyper.com/ site_url_close ['http://theprototyper.com/', 'http://ptiprototype.com', 'http://mackprototype.com/']\n",
      "site_url_close[0] http://theprototyper.com/\n",
      "ii 435 self.companies[ii] The Prototyper\n",
      "out1 true iout1 342 url http://theprototyper.com/\n",
      "companies[0] Future Print Services this url http://theprototyper.com/\n"
     ]
    },
    {
     "name": "stderr",
     "output_type": "stream",
     "text": [
      "2021-11-30 16:39:38 [scrapy.core.engine] DEBUG: Crawled (200) <GET https://www.signquest.com/> (referer: None)\n"
     ]
    },
    {
     "name": "stdout",
     "output_type": "stream",
     "text": [
      "site_url http://www.sagpromo.com/ site_url_close ['http://www.sagpromo.com/', 'https://www.fwpromo.com/', 'http://www.viapromos.com']\n",
      "site_url_close[0] http://www.sagpromo.com/\n",
      "ii 439 self.companies[ii] ATM Advertising\n",
      "out1 true iout1 343 url http://www.sagpromo.com/\n",
      "companies[0] Towne Mailer this url http://www.sagpromo.com/\n",
      "site_url https://impresssystems.com site_url_close ['https://impresssystems.com', 'https://www.vabusinesssystems.com', 'http://brimpress.com/']\n",
      "site_url_close[0] https://impresssystems.com\n",
      "ii 436 self.companies[ii] ImPress Systems\n",
      "out1 true iout1 344 url https://impresssystems.com\n",
      "companies[0] Print Pelican this url https://impresssystems.com\n"
     ]
    },
    {
     "name": "stderr",
     "output_type": "stream",
     "text": [
      "2021-11-30 16:39:39 [scrapy.downloadermiddlewares.redirect] DEBUG: Redirecting (302) to <GET https://www.ppgcoatingsservices.com/> from <GET https://buyat.ppg.com/redir/default.aspx?domain=www.electra-finish.com&path=/>\n",
      "2021-11-30 16:39:39 [scrapy.core.engine] DEBUG: Crawled (403) <GET https://www.atozcopierfax.com/> (referer: None)\n",
      "2021-11-30 16:39:39 [scrapy.core.engine] DEBUG: Crawled (200) <GET https://finerworksmedia.com/> (referer: None)\n",
      "2021-11-30 16:39:39 [scrapy.spidermiddlewares.httperror] INFO: Ignoring response <403 https://www.atozcopierfax.com/>: HTTP status code is not handled or not allowed\n"
     ]
    },
    {
     "name": "stdout",
     "output_type": "stream",
     "text": [
      "site_url https://www.signquest.com/ site_url_close ['https://www.signquest.com/', 'https://www.bcsinet.com/', 'http://www.signs.com']\n",
      "site_url_close[0] https://www.signquest.com/\n",
      "ii 437 self.companies[ii] SignQuest\n",
      "out1 true iout1 345 url https://www.signquest.com/\n",
      "companies[0] Chromaco this url https://www.signquest.com/\n"
     ]
    },
    {
     "name": "stderr",
     "output_type": "stream",
     "text": [
      "2021-11-30 16:39:40 [scrapy.core.engine] DEBUG: Crawled (200) <GET http://www.decalsbydesign.net> (referer: None)\n",
      "2021-11-30 16:39:40 [scrapy.core.engine] DEBUG: Crawled (200) <GET https://directmediacommunications.com/> (referer: None)\n",
      "2021-11-30 16:39:40 [scrapy.core.engine] DEBUG: Crawled (200) <GET https://www.documart.biz> (referer: None)\n",
      "2021-11-30 16:39:40 [scrapy.core.engine] DEBUG: Crawled (200) <GET https://cmediacompany.com/> (referer: None)\n"
     ]
    },
    {
     "name": "stdout",
     "output_type": "stream",
     "text": [
      "site_url https://finerworksmedia.com/ site_url_close ['https://finerworksmedia.com/', 'https://norsanmedia.com/', 'http://nerxmedia.com/']\n",
      "site_url_close[0] https://finerworksmedia.com/\n",
      "ii 434 self.companies[ii] FinerWorks\n",
      "out1 true iout1 346 url https://finerworksmedia.com/\n",
      "companies[0] OutputLinks Communications Group this url https://finerworksmedia.com/\n"
     ]
    },
    {
     "name": "stderr",
     "output_type": "stream",
     "text": [
      "2021-11-30 16:39:40 [scrapy.downloadermiddlewares.redirect] DEBUG: Redirecting (301) to <GET https://www.pacificommultimedia.com/> from <GET http://pacificommultimedia.com>\n"
     ]
    },
    {
     "name": "stdout",
     "output_type": "stream",
     "text": [
      "site_url http://www.decalsbydesign.net site_url_close ['http://www.decalsbydesign.net', 'http://www.bcdesign.net/', 'http://www.easydisc.net']\n",
      "site_url_close[0] http://www.decalsbydesign.net\n",
      "ii 443 self.companies[ii] Decals By Design\n",
      "out1 true iout1 347 url http://www.decalsbydesign.net\n",
      "companies[0] Billing Pros this url http://www.decalsbydesign.net\n"
     ]
    },
    {
     "name": "stderr",
     "output_type": "stream",
     "text": [
      "2021-11-30 16:39:41 [scrapy.core.scraper] DEBUG: Scraped from <200 https://directmediacommunications.com/>\r\n",
      "{'Organization': 'Direct Media Communications',\n",
      " 'fulltext': 'nan',\n",
      " 'searchterm': 'digital printing',\n",
      " 'url': 'https://directmediacommunications.com/'}\n"
     ]
    },
    {
     "name": "stdout",
     "output_type": "stream",
     "text": [
      "site_url https://directmediacommunications.com/ site_url_close ['https://directmediacommunications.com/', 'https://brehmcommunications.com/', 'https://steinmancommunications.com/']\n",
      "site_url_close[0] https://directmediacommunications.com/\n",
      "ii 441 self.companies[ii] Direct Media Communications\n",
      "yielding item digital printing\n",
      "site_url https://www.documart.biz site_url_close ['https://www.documart.biz', 'http://www.amarte.biz', 'https://www.circ.biz/']\n",
      "site_url_close[0] https://www.documart.biz\n",
      "ii 442 self.companies[ii] DocuMart of the Midsouth\n",
      "out1 false iout2 48 url https://www.documart.biz\n",
      "companies[0] The Stoneridge Group this url https://www.documart.biz\n"
     ]
    },
    {
     "name": "stderr",
     "output_type": "stream",
     "text": [
      "2021-11-30 16:39:42 [scrapy.downloadermiddlewares.retry] ERROR: Gave up retrying <GET https://www.fourtownesembroidery.com/> (failed 3 times): DNS lookup failed: no results for hostname lookup: www.fourtownesembroidery.com.\n",
      "2021-11-30 16:39:42 [scrapy.core.scraper] ERROR: Error downloading <GET https://www.fourtownesembroidery.com/>\n",
      "Traceback (most recent call last):\n",
      "  File \"C:\\Users\\MStopa\\AppData\\Local\\Continuum\\anaconda3\\envs\\webscrape\\lib\\site-packages\\twisted\\internet\\defer.py\", line 1416, in _inlineCallbacks\n",
      "    result = result.throwExceptionIntoGenerator(g)\n",
      "  File \"C:\\Users\\MStopa\\AppData\\Local\\Continuum\\anaconda3\\envs\\webscrape\\lib\\site-packages\\twisted\\python\\failure.py\", line 512, in throwExceptionIntoGenerator\n",
      "    return g.throw(self.type, self.value, self.tb)\n",
      "  File \"C:\\Users\\MStopa\\AppData\\Local\\Continuum\\anaconda3\\envs\\webscrape\\lib\\site-packages\\scrapy\\core\\downloader\\middleware.py\", line 44, in process_request\n",
      "    return (yield download_func(request=request, spider=spider))\n",
      "  File \"C:\\Users\\MStopa\\AppData\\Local\\Continuum\\anaconda3\\envs\\webscrape\\lib\\site-packages\\twisted\\internet\\defer.py\", line 654, in _runCallbacks\n",
      "    current.result = callback(current.result, *args, **kw)\n",
      "  File \"C:\\Users\\MStopa\\AppData\\Local\\Continuum\\anaconda3\\envs\\webscrape\\lib\\site-packages\\twisted\\internet\\endpoints.py\", line 982, in startConnectionAttempts\n",
      "    \"no results for hostname lookup: {}\".format(self._hostStr)\n",
      "twisted.internet.error.DNSLookupError: DNS lookup failed: no results for hostname lookup: www.fourtownesembroidery.com.\n",
      "2021-11-30 16:39:42 [scrapy.core.engine] DEBUG: Crawled (200) <GET http://columbineplastics.com> (referer: None)\n",
      "2021-11-30 16:39:42 [scrapy.core.engine] DEBUG: Crawled (200) <GET http://orionstudios.biz/> (referer: None)\n"
     ]
    },
    {
     "name": "stdout",
     "output_type": "stream",
     "text": [
      "site_url https://cmediacompany.com/ site_url_close ['http://cmediacompany.com', 'https://divcompanies.com', 'https://commandcompanies.com/']\n",
      "site_url_close[0] http://cmediacompany.com\n",
      "ii 429 self.companies[ii] Cmc\n",
      "out1 true iout1 348 url https://cmediacompany.com/\n",
      "companies[0] Labelmatch this url https://cmediacompany.com/\n",
      "out1 true iout1 349 url https://directmediacommunications.com/\n",
      "companies[0] Dataweb Dynamics this url https://directmediacommunications.com/\n"
     ]
    },
    {
     "name": "stderr",
     "output_type": "stream",
     "text": [
      "2021-11-30 16:39:42 [scrapy.downloadermiddlewares.retry] ERROR: Gave up retrying <GET http://www.cusaprint.com> (failed 3 times): [<twisted.python.failure.Failure twisted.internet.error.ConnectionLost: Connection to the other side was lost in a non-clean fashion.>]\n",
      "2021-11-30 16:39:42 [scrapy.core.engine] DEBUG: Crawled (200) <GET https://webbplaza.com/> (referer: None)\n",
      "2021-11-30 16:39:42 [scrapy.downloadermiddlewares.redirect] DEBUG: Redirecting (301) to <GET https://silkcards.com/> from <GET https://4colorprint.com/>\n",
      "2021-11-30 16:39:42 [scrapy.core.scraper] ERROR: Error downloading <GET http://www.cusaprint.com>\n",
      "Traceback (most recent call last):\n",
      "  File \"C:\\Users\\MStopa\\AppData\\Local\\Continuum\\anaconda3\\envs\\webscrape\\lib\\site-packages\\scrapy\\core\\downloader\\middleware.py\", line 44, in process_request\n",
      "    return (yield download_func(request=request, spider=spider))\n",
      "twisted.web._newclient.ResponseNeverReceived: [<twisted.python.failure.Failure twisted.internet.error.ConnectionLost: Connection to the other side was lost in a non-clean fashion.>]\n"
     ]
    },
    {
     "name": "stdout",
     "output_type": "stream",
     "text": [
      "site_url http://columbineplastics.com site_url_close ['http://columbineplastics.com', 'http://piper-plastics.com', 'https://www.commandplastic.com']\n",
      "site_url_close[0] http://columbineplastics.com\n",
      "ii 448 self.companies[ii] Columbine Plastics\n",
      "out1 true iout1 350 url http://columbineplastics.com\n",
      "companies[0] North Light Color this url http://columbineplastics.com\n"
     ]
    },
    {
     "name": "stderr",
     "output_type": "stream",
     "text": [
      "2021-11-30 16:39:43 [scrapy.core.engine] DEBUG: Crawled (200) <GET https://pubplus.net/> (referer: None)\n"
     ]
    },
    {
     "name": "stdout",
     "output_type": "stream",
     "text": [
      "site_url http://orionstudios.biz/ site_url_close ['http://orionstudios.biz/', 'https://ipdstudios.com/', 'https://prinsta.io/']\n",
      "site_url_close[0] http://orionstudios.biz/\n",
      "ii 446 self.companies[ii] Orion Studios\n",
      "out1 false iout2 49 url http://orionstudios.biz/\n",
      "companies[0] PRINTWISE this url http://orionstudios.biz/\n"
     ]
    },
    {
     "name": "stderr",
     "output_type": "stream",
     "text": [
      "2021-11-30 16:39:43 [scrapy.core.engine] DEBUG: Crawled (200) <GET https://mgxdigital.com/> (referer: None)\n",
      "2021-11-30 16:39:43 [scrapy.core.downloader.tls] WARNING: Remote certificate is not valid for hostname \"www.pointamedia.com\"; VerificationError(errors=[DNSMismatch(mismatched_id=DNS_ID(hostname=b'www.pointamedia.com'))])\n",
      "2021-11-30 16:39:43 [scrapy.downloadermiddlewares.redirect] DEBUG: Redirecting (301) to <GET https://www.ag-p.com/> from <GET http://www.ag-p.com>\n",
      "2021-11-30 16:39:43 [scrapy.core.engine] DEBUG: Crawled (200) <GET http://www.echovalleygraphics.com> (referer: None)\n"
     ]
    },
    {
     "name": "stdout",
     "output_type": "stream",
     "text": [
      "site_url https://webbplaza.com/ site_url_close ['https://webbplaza.com/', 'https://wbf.com/', 'https://fbp.com/']\n",
      "site_url_close[0] https://webbplaza.com/\n",
      "ii 447 self.companies[ii] Webb Plaza\n",
      "out1 true iout1 351 url https://webbplaza.com/\n",
      "companies[0] Country Plank this url https://webbplaza.com/\n"
     ]
    },
    {
     "name": "stderr",
     "output_type": "stream",
     "text": [
      "2021-11-30 16:39:44 [scrapy.core.engine] DEBUG: Crawled (200) <GET https://www.westcoastmediagroup.com/> (referer: None)\n",
      "2021-11-30 16:39:44 [scrapy.core.engine] DEBUG: Crawled (200) <GET https://www.pointamedia.com/> (referer: None)\n"
     ]
    },
    {
     "name": "stdout",
     "output_type": "stream",
     "text": [
      "site_url https://pubplus.net/ site_url_close ['https://uslogo.net/', 'https://psi2go.net/', 'https://pss-inc.net/']\n",
      "site_url_close[0] https://uslogo.net/\n",
      "ii 1099 self.companies[ii] US Logo\n",
      "out1 true iout1 352 url https://pubplus.net/\n",
      "companies[0] Art Dept this url https://pubplus.net/\n",
      "site_url https://mgxdigital.com/ site_url_close ['https://gsbdigital.com/', 'https://www.mgxdigital.com', 'http://inxdigital.com']\n",
      "site_url_close[0] https://gsbdigital.com/\n",
      "ii 1073 self.companies[ii] GSB Digital\n",
      "out1 true iout1 353 url https://mgxdigital.com/\n",
      "companies[0] Diversified Graphic Machinery this url https://mgxdigital.com/\n"
     ]
    },
    {
     "name": "stderr",
     "output_type": "stream",
     "text": [
      "2021-11-30 16:39:45 [scrapy.downloadermiddlewares.redirect] DEBUG: Redirecting (301) to <GET https://www.oneelevendigital.com/> from <GET https://oneelevendigital.com/>\n",
      "2021-11-30 16:39:45 [scrapy.core.engine] DEBUG: Crawled (200) <GET https://hdesign.com/> (referer: None)\n"
     ]
    },
    {
     "name": "stdout",
     "output_type": "stream",
     "text": [
      "site_url http://www.echovalleygraphics.com site_url_close ['http://www.echovalleygraphics.com', 'http://www.echographics.com/', 'https://www.polygraphics.com']\n",
      "site_url_close[0] http://www.echovalleygraphics.com\n",
      "ii 451 self.companies[ii] Echo Valley Graphics\n",
      "out1 true iout1 354 url http://www.echovalleygraphics.com\n",
      "companies[0] Copies Galore this url http://www.echovalleygraphics.com\n",
      "site_url https://www.westcoastmediagroup.com/ site_url_close ['https://www.westcoastmediagroup.com/', 'https://www.bscmediagroup.com/', 'http://www.ntmediagroup.com/']\n",
      "site_url_close[0] https://www.westcoastmediagroup.com/\n",
      "ii 445 self.companies[ii] WestCoast Media Group\n",
      "out1 true iout1 355 url https://www.westcoastmediagroup.com/\n",
      "companies[0] PrintSure Printing & Die-Cutting this url https://www.westcoastmediagroup.com/\n"
     ]
    },
    {
     "name": "stderr",
     "output_type": "stream",
     "text": [
      "2021-11-30 16:39:47 [scrapy.core.engine] DEBUG: Crawled (200) <GET https://sbsprintandship.com/> (referer: None)\n",
      "2021-11-30 16:39:47 [scrapy.core.engine] DEBUG: Crawled (200) <GET http://www.netcllc.com/site/home.php> (referer: None)\n"
     ]
    },
    {
     "name": "stdout",
     "output_type": "stream",
     "text": [
      "site_url https://www.pointamedia.com/ site_url_close ['https://www.pointamedia.com/', 'https://www.midnetmedia.com/', 'https://www.manhmedia.com/']\n",
      "site_url_close[0] https://www.pointamedia.com/\n",
      "ii 453 self.companies[ii] Point A Media\n",
      "out1 true iout1 356 url https://www.pointamedia.com/\n",
      "companies[0] Ecopaper this url https://www.pointamedia.com/\n",
      "site_url https://hdesign.com/ site_url_close ['https://hdesign.com/', 'https://designerts.com/', 'https://eggdesign.com']\n",
      "site_url_close[0] https://hdesign.com/\n",
      "ii 450 self.companies[ii] Hirsch Design\n",
      "out1 true iout1 357 url https://hdesign.com/\n",
      "companies[0] Motoventure, Inc this url https://hdesign.com/\n",
      "site_url https://sbsprintandship.com/ site_url_close ['https://www.sbsprintandship.com', 'https://sbsbrands.com', 'https://trustprintshop.com/']\n",
      "site_url_close[0] https://www.sbsprintandship.com\n",
      "ii 427 self.companies[ii] Shipping and Business Services\n",
      "out1 true iout1 358 url https://sbsprintandship.com/\n",
      "companies[0] Proforma ABF Direct this url https://sbsprintandship.com/\n"
     ]
    },
    {
     "name": "stderr",
     "output_type": "stream",
     "text": [
      "2021-11-30 16:39:48 [scrapy.downloadermiddlewares.redirect] DEBUG: Redirecting (302) to <GET https://www.formats-unlimited.com/> from <GET http://www.formats-unlimited.com>\n",
      "2021-11-30 16:39:48 [scrapy.core.engine] DEBUG: Crawled (200) <GET http://www.nutecsystems.com> (referer: None)\n",
      "2021-11-30 16:39:48 [scrapy.core.engine] DEBUG: Crawled (200) <GET https://bostonwebsolutions.com> (referer: None)\n"
     ]
    },
    {
     "name": "stdout",
     "output_type": "stream",
     "text": [
      "site_url http://www.netcllc.com/site/home.php site_url_close ['http://www.netcllc.com/site/home.php', 'http://www.aepinc.com/index.php', 'http://www.prehkeytec.com/home.html']\n",
      "site_url_close[0] http://www.netcllc.com/site/home.php\n",
      "ii 455 self.companies[ii] Netc\n",
      "out1 true iout1 359 url http://www.netcllc.com/site/home.php\n",
      "companies[0] Endowment Development Services this url http://www.netcllc.com/site/home.php\n"
     ]
    },
    {
     "name": "stderr",
     "output_type": "stream",
     "text": [
      "2021-11-30 16:39:49 [scrapy.core.scraper] DEBUG: Scraped from <200 http://www.nutecsystems.com>\r\n",
      "{'Organization': 'Nutec Systems',\n",
      " 'fulltext': 'nan',\n",
      " 'searchterm': 'inkjet',\n",
      " 'url': 'http://www.nutecsystems.com'}\n"
     ]
    },
    {
     "name": "stdout",
     "output_type": "stream",
     "text": [
      "site_url http://www.nutecsystems.com site_url_close ['http://www.nutecsystems.com', 'http://www.nexxsystems.com', 'http://www.oxytechsystems.com']\n",
      "site_url_close[0] http://www.nutecsystems.com\n",
      "ii 459 self.companies[ii] Nutec Systems\n",
      "yielding item inkjet\n"
     ]
    },
    {
     "name": "stderr",
     "output_type": "stream",
     "text": [
      "2021-11-30 16:39:49 [scrapy.core.engine] DEBUG: Crawled (200) <GET https://www.pacificommultimedia.com/> (referer: None)\n",
      "2021-11-30 16:39:49 [scrapy.downloadermiddlewares.redirect] DEBUG: Redirecting (301) to <GET https://www.hhglobal.com/uk> from <GET http://www.inwk.com>\n",
      "2021-11-30 16:39:49 [scrapy.downloadermiddlewares.redirect] DEBUG: Redirecting (302) to <GET https://www.hugedomains.com/domain_profile.cfm?d=sophiawireless&e=com> from <GET http://www.sophiawireless.com>\n",
      "2021-11-30 16:39:50 [scrapy.core.engine] DEBUG: Crawled (200) <GET http://www.designs-ink.com/> (referer: None)\n",
      "2021-11-30 16:39:50 [scrapy.downloadermiddlewares.redirect] DEBUG: Redirecting (301) to <GET https://www.whatsthebigidea.com/> from <GET http://www.whatsthebigidea.com>\n",
      "2021-11-30 16:39:50 [scrapy.core.engine] DEBUG: Crawled (200) <GET https://rightertrack.com/> (referer: None)\n",
      "2021-11-30 16:39:50 [scrapy.downloadermiddlewares.retry] DEBUG: Retrying <GET https://www.mademyway.com> (failed 2 times): TCP connection timed out: 10060: A connection attempt failed because the connected party did not properly respond after a period of time, or established connection failed because connected host has failed to respond..\n"
     ]
    },
    {
     "name": "stdout",
     "output_type": "stream",
     "text": [
      "site_url https://bostonwebsolutions.com site_url_close ['https://bostonwebsolutions.com', 'https://bnbsolutionsinc.com/', 'http://towerprintsolutions.com']\n",
      "site_url_close[0] https://bostonwebsolutions.com\n",
      "ii 456 self.companies[ii] Boston Web Solutions\n",
      "out1 true iout1 360 url https://bostonwebsolutions.com\n",
      "companies[0] Electra Finish Inc. this url https://bostonwebsolutions.com\n",
      "out1 true iout1 361 url http://www.nutecsystems.com\n",
      "companies[0] Preferred Ink Products this url http://www.nutecsystems.com\n",
      "site_url https://www.pacificommultimedia.com/ site_url_close ['http://pacificommultimedia.com', 'https://www.ppdmultimedia.com', 'https://www.pointamedia.com/']\n",
      "site_url_close[0] http://pacificommultimedia.com\n",
      "ii 444 self.companies[ii] Pacificom Multimedia\n",
      "out1 true iout1 362 url https://www.pacificommultimedia.com/\n",
      "companies[0] InTechCenter this url https://www.pacificommultimedia.com/\n",
      "site_url http://www.designs-ink.com/ site_url_close ['http://www.designs-ink.com/', 'http://design-ink.com/', 'http://www.design-point.com']\n",
      "site_url_close[0] http://www.designs-ink.com/\n",
      "ii 461 self.companies[ii] Designs INK\n",
      "out1 true iout1 363 url http://www.designs-ink.com/\n",
      "companies[0] Innovative Productions this url http://www.designs-ink.com/\n"
     ]
    },
    {
     "name": "stderr",
     "output_type": "stream",
     "text": [
      "2021-11-30 16:39:52 [scrapy.core.engine] DEBUG: Crawled (200) <GET https://www.ppgcoatingsservices.com/> (referer: None)\n",
      "2021-11-30 16:39:52 [scrapy.core.downloader.tls] WARNING: Remote certificate is not valid for hostname \"www.highvelocitees.com\"; VerificationError(errors=[DNSMismatch(mismatched_id=DNS_ID(hostname=b'www.highvelocitees.com'))])\n",
      "2021-11-30 16:39:52 [scrapy.downloadermiddlewares.redirect] DEBUG: Redirecting (302) to <GET https://www.sternbloom.com/cgi-sys/suspendedpage.cgi> from <GET https://www.sternbloom.com>\n"
     ]
    },
    {
     "name": "stdout",
     "output_type": "stream",
     "text": [
      "site_url https://rightertrack.com/ site_url_close ['https://rightertrack.com/', 'https://printreach.com/', 'https://arternal.com/']\n",
      "site_url_close[0] https://rightertrack.com/\n",
      "ii 457 self.companies[ii] RighterTrack\n",
      "out1 true iout1 364 url https://rightertrack.com/\n",
      "companies[0] Four Townes Embroidery this url https://rightertrack.com/\n"
     ]
    },
    {
     "name": "stderr",
     "output_type": "stream",
     "text": [
      "2021-11-30 16:39:52 [scrapy.core.engine] DEBUG: Crawled (200) <GET https://www.bulldog-design.com/> (referer: None)\n",
      "2021-11-30 16:39:52 [scrapy.core.engine] DEBUG: Crawled (200) <GET https://www.garnermediainc.com/> (referer: None)\n",
      "2021-11-30 16:39:52 [scrapy.core.engine] DEBUG: Crawled (200) <GET https://silkcards.com/> (referer: None)\n",
      "2021-11-30 16:39:52 [scrapy.core.engine] DEBUG: Crawled (200) <GET https://www.highvelocitees.com/> (referer: None)\n"
     ]
    },
    {
     "name": "stdout",
     "output_type": "stream",
     "text": [
      "site_url https://www.ppgcoatingsservices.com/ site_url_close ['https://www.indoxservices.com/', 'http://www.mojaservices.com/', 'https://www.braendelservices.com/']\n",
      "site_url_close[0] https://www.indoxservices.com/\n",
      "ii 3414 self.companies[ii] Indoxservices\n",
      "out1 true iout1 365 url https://www.ppgcoatingsservices.com/\n",
      "companies[0] Direct Digital this url https://www.ppgcoatingsservices.com/\n",
      "site_url https://www.bulldog-design.com/ site_url_close ['https://www.bulldog-design.com/', 'https://www.yellowdog-design.com/', 'https://www.deesign.com/']\n",
      "site_url_close[0] https://www.bulldog-design.com/\n",
      "ii 464 self.companies[ii] Bulldog Design\n",
      "out1 false iout2 50 url https://www.bulldog-design.com/\n",
      "companies[0] NMV this url https://www.bulldog-design.com/\n",
      "site_url https://www.garnermediainc.com/ site_url_close ['https://www.garnermediainc.com/', 'https://www.manhmedia.com/', 'https://www.grandimageinc.com']\n",
      "site_url_close[0] https://www.garnermediainc.com/\n",
      "ii 467 self.companies[ii] Garner Media\n",
      "out1 false iout2 51 url https://www.garnermediainc.com/\n",
      "companies[0] Fulton Francis this url https://www.garnermediainc.com/\n",
      "site_url https://silkcards.com/ site_url_close ['https://hotcards.com', 'http://www.ssicards.com', 'https://ipsiscan.com/']\n",
      "site_url_close[0] https://hotcards.com\n",
      "ii 256 self.companies[ii] Hotcards\n",
      "out1 true iout1 366 url https://silkcards.com/\n",
      "companies[0] StickerJunkie this url https://silkcards.com/\n"
     ]
    },
    {
     "name": "stderr",
     "output_type": "stream",
     "text": [
      "2021-11-30 16:39:55 [scrapy.core.scraper] DEBUG: Scraped from <200 https://www.highvelocitees.com/>\n",
      "{'Organization': 'HIGH VELOCITEES INC',\n",
      " 'fulltext': 'nan',\n",
      " 'searchterm': 'screen printing',\n",
      " 'url': 'https://www.highvelocitees.com/'}\n",
      "2021-11-30 16:39:55 [scrapy.core.engine] DEBUG: Crawled (200) <GET http://www.filmwerxlocations.com/> (referer: None)\n",
      "2021-11-30 16:39:55 [scrapy.core.engine] DEBUG: Crawled (200) <GET http://www.mercury-direct.com/> (referer: None)\n",
      "2021-11-30 16:39:55 [scrapy.core.engine] DEBUG: Crawled (200) <GET https://www.ag-p.com/> (referer: None)\n",
      "2021-11-30 16:39:55 [scrapy.core.engine] DEBUG: Crawled (200) <GET https://www.nonviolentcommunication.com/> (referer: None)\n"
     ]
    },
    {
     "name": "stdout",
     "output_type": "stream",
     "text": [
      "site_url https://www.highvelocitees.com/ site_url_close ['https://www.highvelocitees.com/', 'https://www.velocitysd.com/', 'https://www.oliveoiltimes.com/']\n",
      "site_url_close[0] https://www.highvelocitees.com/\n",
      "ii 465 self.companies[ii] HIGH VELOCITEES INC\n",
      "yielding item screen printing\n",
      "out1 true iout1 367 url https://www.highvelocitees.com/\n",
      "companies[0] Miami Stitch this url https://www.highvelocitees.com/\n"
     ]
    },
    {
     "name": "stderr",
     "output_type": "stream",
     "text": [
      "2021-11-30 16:39:55 [scrapy.core.engine] DEBUG: Crawled (400) <GET https://40visuals.com> (referer: None)\n"
     ]
    },
    {
     "name": "stdout",
     "output_type": "stream",
     "text": [
      "site_url http://www.filmwerxlocations.com/ site_url_close ['http://www.filmwerxlocations.com/', 'http://www.imageresolutions.com/', 'https://www.jimpromotions.com/']\n",
      "site_url_close[0] http://www.filmwerxlocations.com/\n",
      "ii 469 self.companies[ii] Filmwerx Locations\n",
      "out1 false iout2 52 url http://www.filmwerxlocations.com/\n",
      "companies[0] CUSAprint.com this url http://www.filmwerxlocations.com/\n",
      "site_url http://www.mercury-direct.com/ site_url_close ['http://www.mercury-direct.com/', 'http://www.cprdirect.com/', 'http://www.mercuryprint.com']\n",
      "site_url_close[0] http://www.mercury-direct.com/\n",
      "ii 470 self.companies[ii] Mercury Direct\n",
      "out1 false iout2 53 url http://www.mercury-direct.com/\n",
      "companies[0] Erickson Design this url http://www.mercury-direct.com/\n",
      "site_url https://www.ag-p.com/ site_url_close ['http://www.ag-p.com', 'https://www.swagup.com/', 'https://www.g-d.com']\n",
      "site_url_close[0] http://www.ag-p.com\n",
      "ii 452 self.companies[ii] Advanced Graphic Programming, Inc.\n",
      "out1 false iout2 54 url https://www.ag-p.com/\n",
      "companies[0] ASAP Checks this url https://www.ag-p.com/\n"
     ]
    },
    {
     "name": "stderr",
     "output_type": "stream",
     "text": [
      "2021-11-30 16:39:57 [scrapy.core.engine] DEBUG: Crawled (200) <GET http://rgucolor.com> (referer: None)\n",
      "2021-11-30 16:39:57 [scrapy.downloadermiddlewares.redirect] DEBUG: Redirecting (301) to <GET https://www.triogroupnw.com/> from <GET http://www.triogroupnw.com>\n",
      "2021-11-30 16:39:57 [scrapy.spidermiddlewares.httperror] INFO: Ignoring response <400 https://40visuals.com>: HTTP status code is not handled or not allowed\n"
     ]
    },
    {
     "name": "stdout",
     "output_type": "stream",
     "text": [
      "site_url https://www.nonviolentcommunication.com/ site_url_close ['https://www.nonviolentcommunication.com/', 'https://www.dgicommunications.com/', 'http://www.palettecommunicationsinc.com']\n",
      "site_url_close[0] https://www.nonviolentcommunication.com/\n",
      "ii 466 self.companies[ii] PuddleDancer Press\n",
      "out1 true iout1 368 url https://www.nonviolentcommunication.com/\n",
      "companies[0] Printpal this url https://www.nonviolentcommunication.com/\n"
     ]
    },
    {
     "name": "stderr",
     "output_type": "stream",
     "text": [
      "2021-11-30 16:39:57 [scrapy.core.engine] DEBUG: Crawled (200) <GET https://www.oneelevendigital.com/> (referer: None)\n"
     ]
    },
    {
     "name": "stdout",
     "output_type": "stream",
     "text": [
      "site_url http://rgucolor.com site_url_close ['http://rgucolor.com', 'http://earthcolor.com/', 'http://gpco.com']\n",
      "site_url_close[0] http://rgucolor.com\n",
      "ii 471 self.companies[ii] Rgu Color\n",
      "out1 true iout1 369 url http://rgucolor.com\n",
      "companies[0] Nonbox Media this url http://rgucolor.com\n"
     ]
    },
    {
     "name": "stderr",
     "output_type": "stream",
     "text": [
      "2021-11-30 16:39:58 [scrapy.core.engine] DEBUG: Crawled (200) <GET https://kellfab.com/> (referer: None)\n",
      "2021-11-30 16:39:58 [scrapy.core.engine] DEBUG: Crawled (200) <GET https://www.328sign.com/> (referer: None)\n"
     ]
    },
    {
     "name": "stdout",
     "output_type": "stream",
     "text": [
      "site_url https://www.oneelevendigital.com/ site_url_close ['https://www.ibedigital.com/', 'https://www.prolabdigital.com/', 'https://www.proprintdigital.com/']\n",
      "site_url_close[0] https://www.ibedigital.com/\n",
      "ii 1507 self.companies[ii] IBE Digital\n",
      "out1 true iout1 370 url https://www.oneelevendigital.com/\n",
      "companies[0] All It Expert this url https://www.oneelevendigital.com/\n"
     ]
    },
    {
     "name": "stderr",
     "output_type": "stream",
     "text": [
      "2021-11-30 16:39:58 [scrapy.core.downloader.tls] WARNING: Remote certificate is not valid for hostname \"www.graphxdirect.com\"; VerificationError(errors=[DNSMismatch(mismatched_id=DNS_ID(hostname=b'www.graphxdirect.com'))])\n",
      "2021-11-30 16:39:58 [scrapy.downloadermiddlewares.redirect] DEBUG: Redirecting (301) to <GET https://palmbeachimagefactory.com/> from <GET http://palmbeachimagefactory.com>\n",
      "2021-11-30 16:39:58 [scrapy.core.engine] DEBUG: Crawled (200) <GET https://cad-techs.com/> (referer: None)\n",
      "2021-11-30 16:39:58 [scrapy.core.engine] DEBUG: Crawled (200) <GET https://www.formats-unlimited.com/> (referer: None)\n"
     ]
    },
    {
     "name": "stdout",
     "output_type": "stream",
     "text": [
      "site_url https://kellfab.com/ site_url_close ['https://kellfab.com/', 'http://makelab.com', 'https://fbp.com/']\n",
      "site_url_close[0] https://kellfab.com/\n",
      "ii 476 self.companies[ii] Kellfab\n",
      "out1 true iout1 371 url https://kellfab.com/\n",
      "companies[0] HR Data Com this url https://kellfab.com/\n"
     ]
    },
    {
     "name": "stderr",
     "output_type": "stream",
     "text": [
      "2021-11-30 16:39:59 [scrapy.core.engine] DEBUG: Crawled (200) <GET https://www.graphxdirect.com/> (referer: None)\n",
      "2021-11-30 16:39:59 [scrapy.downloadermiddlewares.redirect] DEBUG: Redirecting (301) to <GET https://corpandlegal.com/> from <GET https://www.corpandlegal.com>\n",
      "2021-11-30 16:39:59 [scrapy.core.engine] DEBUG: Crawled (200) <GET https://www.hugedomains.com/domain_profile.cfm?d=sophiawireless&e=com> (referer: None)\n",
      "2021-11-30 16:39:59 [scrapy.core.engine] DEBUG: Crawled (200) <GET https://www.extremesigngraphics.com> (referer: None)\n"
     ]
    },
    {
     "name": "stdout",
     "output_type": "stream",
     "text": [
      "site_url https://www.328sign.com/ site_url_close ['https://www.328sign.com/', 'https://www.b2sign.com/', 'https://www.deesign.com/']\n",
      "site_url_close[0] https://www.328sign.com/\n",
      "ii 473 self.companies[ii] Signature Signs\n",
      "out1 true iout1 372 url https://www.328sign.com/\n",
      "companies[0] Ferrante & Associates this url https://www.328sign.com/\n",
      "site_url https://cad-techs.com/ site_url_close ['https://cad-techs.com/', 'http://bastech.com/', 'https://pahutch.com/']\n",
      "site_url_close[0] https://cad-techs.com/\n",
      "ii 474 self.companies[ii] Cad-Techs\n",
      "out1 true iout1 373 url https://cad-techs.com/\n",
      "companies[0] Interdezign this url https://cad-techs.com/\n"
     ]
    },
    {
     "name": "stderr",
     "output_type": "stream",
     "text": [
      "2021-11-30 16:40:00 [scrapy.core.scraper] DEBUG: Scraped from <200 https://www.formats-unlimited.com/>\n",
      "{'Organization': 'Formats Unlimited',\n",
      " 'fulltext': 'nan',\n",
      " 'searchterm': 'digital printing',\n",
      " 'url': 'https://www.formats-unlimited.com/'}\n",
      "2021-11-30 16:40:00 [scrapy.core.engine] DEBUG: Crawled (200) <GET https://www.hhglobal.com/uk> (referer: None)\n"
     ]
    },
    {
     "name": "stdout",
     "output_type": "stream",
     "text": [
      "site_url https://www.formats-unlimited.com/ site_url_close ['http://www.formats-unlimited.com', 'https://www.pfunlimited.com/', 'https://www.actionunlimited.com']\n",
      "site_url_close[0] http://www.formats-unlimited.com\n",
      "ii 458 self.companies[ii] Formats Unlimited\n",
      "yielding item digital printing\n",
      "out1 true iout1 374 url https://www.formats-unlimited.com/\n",
      "companies[0] Option 5 Media this url https://www.formats-unlimited.com/\n"
     ]
    },
    {
     "name": "stderr",
     "output_type": "stream",
     "text": [
      "2021-11-30 16:40:00 [scrapy.core.scraper] DEBUG: Scraped from <200 https://www.graphxdirect.com/>\r\n",
      "{'Organization': 'GraphX Direct',\n",
      " 'fulltext': 'nan',\n",
      " 'searchterm': 'digital printing',\n",
      " 'url': 'https://www.graphxdirect.com/'}\n"
     ]
    },
    {
     "name": "stdout",
     "output_type": "stream",
     "text": [
      "site_url https://www.graphxdirect.com/ site_url_close ['https://www.graphxdirect.com/', 'https://www.dpidirect.com/', 'https://www.graphdim.com']\n",
      "site_url_close[0] https://www.graphxdirect.com/\n",
      "ii 477 self.companies[ii] GraphX Direct\n",
      "yielding item digital printing\n",
      "site_url https://www.hugedomains.com/domain_profile.cfm?d=sophiawireless&e=com site_url_close ['http://www.sophiawireless.com', 'https://www.icscolor.com/remote-director/', 'http://www.mebotics.com/microfactory.html']\n",
      "site_url_close[0] http://www.sophiawireless.com\n",
      "ii 460 self.companies[ii] Sophia Wireless\n",
      "out1 true iout1 375 url https://www.hugedomains.com/domain_profile.cfm?d=sophiawireless&e=com\n",
      "companies[0] Impression Design this url https://www.hugedomains.com/domain_profile.cfm?d=sophiawireless&e=com\n",
      "site_url https://www.extremesigngraphics.com site_url_close ['https://www.extremesigngraphics.com', 'https://www.cereusgraphics.com', 'https://www.systemsgraphics.com']\n",
      "site_url_close[0] https://www.extremesigngraphics.com\n",
      "ii 479 self.companies[ii] Extreme Signs & Graphics\n",
      "out1 true iout1 376 url https://www.extremesigngraphics.com\n",
      "companies[0] Publications Press this url https://www.extremesigngraphics.com\n",
      "out1 true iout1 377 url https://www.graphxdirect.com/\n",
      "companies[0] Universal Print And Copy this url https://www.graphxdirect.com/\n"
     ]
    },
    {
     "name": "stderr",
     "output_type": "stream",
     "text": [
      "2021-11-30 16:40:02 [scrapy.core.engine] DEBUG: Crawled (200) <GET http://designwithmgi.com/> (referer: None)\n",
      "2021-11-30 16:40:02 [scrapy.core.engine] DEBUG: Crawled (403) <GET https://www.whatsthebigidea.com/> (referer: None)\n",
      "2021-11-30 16:40:02 [scrapy.core.engine] DEBUG: Crawled (200) <GET https://gingalley.com/> (referer: None)\n"
     ]
    },
    {
     "name": "stdout",
     "output_type": "stream",
     "text": [
      "site_url https://www.hhglobal.com/uk site_url_close ['https://www.ppi-global.com/', 'https://www.honblue.com/', 'https://www.grlabel.com/']\n",
      "site_url_close[0] https://www.ppi-global.com/\n",
      "ii 2121 self.companies[ii] PPI - Precision Pulley & Idler\n",
      "out1 true iout1 378 url https://www.hhglobal.com/uk\n",
      "companies[0] Gung-Ho this url https://www.hhglobal.com/uk\n"
     ]
    },
    {
     "name": "stderr",
     "output_type": "stream",
     "text": [
      "2021-11-30 16:40:02 [scrapy.core.engine] DEBUG: Crawled (200) <GET https://www.anybudget.com/> (referer: None)\n",
      "2021-11-30 16:40:02 [scrapy.core.engine] DEBUG: Crawled (200) <GET https://www.expressions-impressions.com/> (referer: None)\n",
      "2021-11-30 16:40:02 [scrapy.spidermiddlewares.httperror] INFO: Ignoring response <403 https://www.whatsthebigidea.com/>: HTTP status code is not handled or not allowed\n",
      "2021-11-30 16:40:02 [scrapy.downloadermiddlewares.redirect] DEBUG: Redirecting (302) to <GET http://www.suncopies.com/> from <GET http://www.suncopies.com/>\n"
     ]
    },
    {
     "name": "stdout",
     "output_type": "stream",
     "text": [
      "site_url http://designwithmgi.com/ site_url_close ['http://designwithmgi.com/', 'http://design-ink.com/', 'https://hdesign.com/']\n",
      "site_url_close[0] http://designwithmgi.com/\n",
      "ii 483 self.companies[ii] Media Graphics\n",
      "out1 true iout1 379 url http://designwithmgi.com/\n",
      "companies[0] Ross Printing this url http://designwithmgi.com/\n",
      "site_url https://gingalley.com/ site_url_close ['https://gingalley.com/', 'https://gingalley.com/', 'https://regalline.com/']\n",
      "site_url_close[0] https://gingalley.com/\n",
      "ii 480 self.companies[ii] GINGALLEY\n",
      "out1 true iout1 380 url https://gingalley.com/\n",
      "companies[0] Adpro this url https://gingalley.com/\n",
      "site_url https://www.anybudget.com/ site_url_close ['https://www.anybudget.com/', 'https://www.adeast.com/', 'https://www.ndeg.com/']\n",
      "site_url_close[0] https://www.anybudget.com/\n",
      "ii 481 self.companies[ii] Any Budget Printing and Mailing\n",
      "out1 true iout1 381 url https://www.anybudget.com/\n",
      "companies[0] Boxcar Press this url https://www.anybudget.com/\n"
     ]
    },
    {
     "name": "stderr",
     "output_type": "stream",
     "text": [
      "2021-11-30 16:40:04 [scrapy.core.engine] DEBUG: Crawled (200) <GET http://farenga.com/> (referer: None)\n",
      "2021-11-30 16:40:04 [scrapy.core.engine] DEBUG: Crawled (200) <GET http://24x7marketing.com/> (referer: None)\n",
      "2021-11-30 16:40:04 [scrapy.core.engine] DEBUG: Crawled (200) <GET https://www.sternbloom.com/cgi-sys/suspendedpage.cgi> (referer: None)\n",
      "2021-11-30 16:40:04 [scrapy.core.engine] DEBUG: Crawled (200) <GET https://www.emptytombgraphics.com/> (referer: None)\n",
      "2021-11-30 16:40:04 [scrapy.downloadermiddlewares.retry] DEBUG: Retrying <GET http://www.keyad.com> (failed 1 times): 500 Internal Server Error\n"
     ]
    },
    {
     "name": "stdout",
     "output_type": "stream",
     "text": [
      "site_url https://www.expressions-impressions.com/ site_url_close ['https://www.expressions-impressions.com/', 'https://www.axiomimpressions.com', 'https://www.originalimpressions.com/']\n",
      "site_url_close[0] https://www.expressions-impressions.com/\n",
      "ii 482 self.companies[ii] Expressions Impress\n",
      "out1 true iout1 382 url https://www.expressions-impressions.com/\n",
      "companies[0] Shipping and Business Services this url https://www.expressions-impressions.com/\n"
     ]
    },
    {
     "name": "stderr",
     "output_type": "stream",
     "text": [
      "2021-11-30 16:40:04 [scrapy.core.engine] DEBUG: Crawled (200) <GET http://kaslodesign.com/> (referer: None)\n",
      "2021-11-30 16:40:04 [scrapy.core.engine] DEBUG: Crawled (200) <GET https://copelandcasati.com/> (referer: None)\n"
     ]
    },
    {
     "name": "stdout",
     "output_type": "stream",
     "text": [
      "site_url http://farenga.com/ site_url_close ['http://farenga.com/', 'https://arternal.com/', 'http://aerzenusa.com']\n",
      "site_url_close[0] http://farenga.com/\n",
      "ii 488 self.companies[ii] Farenga Design Group\n",
      "out1 false iout2 55 url http://farenga.com/\n",
      "companies[0] Masterpiece Graphix this url http://farenga.com/\n",
      "site_url http://24x7marketing.com/ site_url_close ['http://24x7marketing.com/', 'https://wdbmarketing.com/', 'http://actiomarketing.com/']\n",
      "site_url_close[0] http://24x7marketing.com/\n",
      "ii 490 self.companies[ii] 24x7 Marketing\n",
      "out1 true iout1 383 url http://24x7marketing.com/\n",
      "companies[0] Cmc this url http://24x7marketing.com/\n",
      "site_url https://www.sternbloom.com/cgi-sys/suspendedpage.cgi site_url_close ['https://www.sternbloom.com', 'http://amg.proforma.com/cgi-sys/defaultwebpage.cgi', 'https://www.couponpages.com']\n",
      "site_url_close[0] https://www.sternbloom.com\n",
      "ii 463 self.companies[ii] Stern Bloom Media\n",
      "out1 false iout2 56 url https://www.sternbloom.com/cgi-sys/suspendedpage.cgi\n",
      "companies[0] SKYOU INC this url https://www.sternbloom.com/cgi-sys/suspendedpage.cgi\n"
     ]
    },
    {
     "name": "stderr",
     "output_type": "stream",
     "text": [
      "2021-11-30 16:40:05 [scrapy.core.engine] DEBUG: Crawled (200) <GET http://www.handsonamerica.net/> (referer: None)\n",
      "2021-11-30 16:40:05 [scrapy.downloadermiddlewares.retry] DEBUG: Retrying <GET https://sciimage.com/> (failed 1 times): TCP connection timed out: 10060: A connection attempt failed because the connected party did not properly respond after a period of time, or established connection failed because connected host has failed to respond..\n"
     ]
    },
    {
     "name": "stdout",
     "output_type": "stream",
     "text": [
      "site_url https://www.emptytombgraphics.com/ site_url_close ['https://www.emptytombgraphics.com/', 'https://www.comgraphics.com/', 'https://www.mastrographics.com/']\n",
      "site_url_close[0] https://www.emptytombgraphics.com/\n",
      "ii 485 self.companies[ii] Empty Tomb Graphics\n",
      "out1 true iout1 384 url https://www.emptytombgraphics.com/\n",
      "companies[0] Envision Press this url https://www.emptytombgraphics.com/\n",
      "site_url http://kaslodesign.com/ site_url_close ['http://kaslodesign.com/', 'http://tsdesigns.com/', 'https://calsportdesign.com/']\n",
      "site_url_close[0] http://kaslodesign.com/\n",
      "ii 489 self.companies[ii] Kaslo Design\n",
      "out1 true iout1 385 url http://kaslodesign.com/\n",
      "companies[0] United Industries this url http://kaslodesign.com/\n"
     ]
    },
    {
     "name": "stderr",
     "output_type": "stream",
     "text": [
      "2021-11-30 16:40:06 [scrapy.core.engine] DEBUG: Crawled (200) <GET https://www.almadenglobal.com/> (referer: None)\n"
     ]
    },
    {
     "name": "stdout",
     "output_type": "stream",
     "text": [
      "site_url https://copelandcasati.com/ site_url_close ['https://copelandcasati.com/', 'https://pelland.com', 'https://commandcompanies.com/']\n",
      "site_url_close[0] https://copelandcasati.com/\n",
      "ii 487 self.companies[ii] Copeland Casati Media\n",
      "out1 true iout1 386 url https://copelandcasati.com/\n",
      "companies[0] Brown & Partners this url https://copelandcasati.com/\n"
     ]
    },
    {
     "name": "stderr",
     "output_type": "stream",
     "text": [
      "2021-11-30 16:40:07 [scrapy.downloadermiddlewares.redirect] DEBUG: Redirecting (301) to <GET https://www.ajproductsolutions.com/> from <GET https://ajproductsolutions.com>\n",
      "2021-11-30 16:40:07 [scrapy.core.engine] DEBUG: Crawled (200) <GET http://www.baselineimaging.com/> (referer: None)\n",
      "2021-11-30 16:40:07 [scrapy.core.engine] DEBUG: Crawled (200) <GET https://palmbeachimagefactory.com/> (referer: None)\n"
     ]
    },
    {
     "name": "stdout",
     "output_type": "stream",
     "text": [
      "site_url http://www.handsonamerica.net/ site_url_close ['http://www.handsonamerica.net/', 'http://www.adpartner.net/', 'https://www.allamericanlabel.net/']\n",
      "site_url_close[0] http://www.handsonamerica.net/\n",
      "ii 491 self.companies[ii] Hands On America\n",
      "out1 true iout1 387 url http://www.handsonamerica.net/\n",
      "companies[0] FinerWorks this url http://www.handsonamerica.net/\n"
     ]
    },
    {
     "name": "stderr",
     "output_type": "stream",
     "text": [
      "2021-11-30 16:40:07 [scrapy.core.engine] DEBUG: Crawled (410) <GET https://www.goodsalt.com/> (referer: None)\n",
      "2021-11-30 16:40:07 [scrapy.core.engine] DEBUG: Crawled (200) <GET https://www.pzitive.com> (referer: None)\n"
     ]
    },
    {
     "name": "stdout",
     "output_type": "stream",
     "text": [
      "site_url https://www.almadenglobal.com/ site_url_close ['https://www.almadenglobal.com/', 'https://www.flexoglobal.com', 'http://www.tomcatglobal.com/']\n",
      "site_url_close[0] https://www.almadenglobal.com/\n",
      "ii 492 self.companies[ii] ALMADEN\n",
      "out1 true iout1 388 url https://www.almadenglobal.com/\n",
      "companies[0] The Prototyper this url https://www.almadenglobal.com/\n",
      "site_url http://www.baselineimaging.com/ site_url_close ['http://www.baselineimaging.com/', 'https://www.peeqimaging.com/', 'https://www.jamesimaging.com/']\n",
      "site_url_close[0] http://www.baselineimaging.com/\n",
      "ii 478 self.companies[ii] Baseline Imaging\n",
      "out1 true iout1 389 url http://www.baselineimaging.com/\n",
      "companies[0] ImPress Systems this url http://www.baselineimaging.com/\n"
     ]
    },
    {
     "name": "stderr",
     "output_type": "stream",
     "text": [
      "2021-11-30 16:40:08 [scrapy.core.engine] DEBUG: Crawled (200) <GET http://www.roadsideadvertising.com/> (referer: None)\n",
      "2021-11-30 16:40:08 [scrapy.core.engine] DEBUG: Crawled (200) <GET https://www.triogroupnw.com/> (referer: None)\n",
      "2021-11-30 16:40:08 [scrapy.spidermiddlewares.httperror] INFO: Ignoring response <410 https://www.goodsalt.com/>: HTTP status code is not handled or not allowed\n"
     ]
    },
    {
     "name": "stdout",
     "output_type": "stream",
     "text": [
      "site_url https://palmbeachimagefactory.com/ site_url_close ['http://palmbeachimagefactory.com', 'https://sabaagency.com/', 'https://pacificcopy.com/']\n",
      "site_url_close[0] http://palmbeachimagefactory.com\n",
      "ii 438 self.companies[ii] Palm Beach Image Factory\n",
      "out1 true iout1 390 url https://palmbeachimagefactory.com/\n",
      "companies[0] SignQuest this url https://palmbeachimagefactory.com/\n"
     ]
    },
    {
     "name": "stderr",
     "output_type": "stream",
     "text": [
      "2021-11-30 16:40:09 [scrapy.downloadermiddlewares.redirect] DEBUG: Redirecting (301) to <GET https://www.digitalroominc.com/> from <GET http://www.digitalroominc.com/>\n"
     ]
    },
    {
     "name": "stdout",
     "output_type": "stream",
     "text": [
      "site_url https://www.pzitive.com site_url_close ['https://www.pzitive.com', 'https://www.fictiv.com/', 'https://www.rapit.com']\n",
      "site_url_close[0] https://www.pzitive.com\n",
      "ii 496 self.companies[ii] Pzitive Advertising\n",
      "out1 true iout1 391 url https://www.pzitive.com\n",
      "companies[0] Palm Beach Image Factory this url https://www.pzitive.com\n",
      "site_url http://www.roadsideadvertising.com/ site_url_close ['http://www.roadsideadvertising.com/', 'http://www.primeadvertising.com', 'http://www.laseradvertising.com']\n",
      "site_url_close[0] http://www.roadsideadvertising.com/\n",
      "ii 493 self.companies[ii] Roadside Advertising\n",
      "out1 false iout2 57 url http://www.roadsideadvertising.com/\n",
      "companies[0] ATM Advertising this url http://www.roadsideadvertising.com/\n"
     ]
    },
    {
     "name": "stderr",
     "output_type": "stream",
     "text": [
      "2021-11-30 16:40:10 [scrapy.downloadermiddlewares.redirect] DEBUG: Redirecting (301) to <GET https://brookandwhittle.com/> from <GET http://www.brookandwhittle.com>\n",
      "2021-11-30 16:40:10 [scrapy.core.engine] DEBUG: Crawled (200) <GET https://corpandlegal.com/> (referer: None)\n",
      "2021-11-30 16:40:10 [scrapy.core.engine] DEBUG: Crawled (200) <GET https://baliusmarketing.com/> (referer: None)\n",
      "2021-11-30 16:40:10 [scrapy.core.engine] DEBUG: Crawled (200) <GET https://www.premiumconverting.com> (referer: None)\n",
      "2021-11-30 16:40:10 [scrapy.downloadermiddlewares.redirect] DEBUG: Redirecting (301) to <GET https://www.xbiz.com:443/> from <GET http://www.xbiz.com>\n"
     ]
    },
    {
     "name": "stdout",
     "output_type": "stream",
     "text": [
      "site_url https://www.triogroupnw.com/ site_url_close ['http://www.triogroupnw.com', 'https://www.ppigroup.com/', 'https://www.azprogroup.com']\n",
      "site_url_close[0] http://www.triogroupnw.com\n",
      "ii 472 self.companies[ii] Trio Group\n",
      "out1 true iout1 392 url https://www.triogroupnw.com/\n",
      "companies[0] A To Z Copier, Fax & Printer Repair this url https://www.triogroupnw.com/\n"
     ]
    },
    {
     "name": "stderr",
     "output_type": "stream",
     "text": [
      "2021-11-30 16:40:10 [scrapy.core.engine] DEBUG: Crawled (200) <GET http://hybridapparel.com/> (referer: None)\n",
      "2021-11-30 16:40:10 [scrapy.downloadermiddlewares.redirect] DEBUG: Redirecting (301) to <GET https://auroraplastics.com/> from <GET http://www.auroraplastics.com>\n"
     ]
    },
    {
     "name": "stdout",
     "output_type": "stream",
     "text": [
      "site_url https://corpandlegal.com/ site_url_close ['https://www.corpandlegal.com', 'https://www.cranel.com/', 'http://coral.com']\n",
      "site_url_close[0] https://www.corpandlegal.com\n",
      "ii 475 self.companies[ii] Corporate & Legal Reproductions\n",
      "out1 true iout1 393 url https://corpandlegal.com/\n",
      "companies[0] Direct Media Communications this url https://corpandlegal.com/\n",
      "site_url https://baliusmarketing.com/ site_url_close ['https://baliusmarketing.com/', 'https://wdbmarketing.com/', 'http://actiomarketing.com/']\n",
      "site_url_close[0] https://baliusmarketing.com/\n",
      "ii 499 self.companies[ii] Balius Marketing & Web Design\n",
      "out1 true iout1 394 url https://baliusmarketing.com/\n",
      "companies[0] DocuMart of the Midsouth this url https://baliusmarketing.com/\n"
     ]
    },
    {
     "name": "stderr",
     "output_type": "stream",
     "text": [
      "2021-11-30 16:40:11 [scrapy.core.engine] DEBUG: Crawled (200) <GET http://www.suncopies.com/> (referer: None)\n",
      "2021-11-30 16:40:11 [scrapy.downloadermiddlewares.redirect] DEBUG: Redirecting (301) to <GET https://www.indo-mim.com/> from <GET http://www.indo-mim.com/>\n",
      "2021-11-30 16:40:11 [scrapy.core.engine] DEBUG: Crawled (200) <GET https://mailingprosinc.com/> (referer: None)\n",
      "2021-11-30 16:40:11 [scrapy.downloadermiddlewares.redirect] DEBUG: Redirecting (301) to <GET https://thebernardgroup.com/> from <GET http://thebernardgroup.com/>\n",
      "2021-11-30 16:40:11 [scrapy.downloadermiddlewares.retry] ERROR: Gave up retrying <GET https://www.mademyway.com> (failed 3 times): TCP connection timed out: 10060: A connection attempt failed because the connected party did not properly respond after a period of time, or established connection failed because connected host has failed to respond..\n"
     ]
    },
    {
     "name": "stdout",
     "output_type": "stream",
     "text": [
      "site_url https://www.premiumconverting.com site_url_close ['https://www.premiumconverting.com', 'https://www.foxconverting.com', 'https://www.uprinting.com']\n",
      "site_url_close[0] https://www.premiumconverting.com\n",
      "ii 498 self.companies[ii] Premium Converting\n",
      "out1 true iout1 395 url https://www.premiumconverting.com\n",
      "companies[0] Decals By Design this url https://www.premiumconverting.com\n"
     ]
    },
    {
     "name": "stderr",
     "output_type": "stream",
     "text": [
      "2021-11-30 16:40:12 [scrapy.downloadermiddlewares.redirect] DEBUG: Redirecting (301) to <GET https://www.tth.com/> from <GET http://www.tth.com>\n",
      "2021-11-30 16:40:12 [scrapy.downloadermiddlewares.redirect] DEBUG: Redirecting (301) to <GET https://www.wolseleyindustrialgroup.com/> from <GET http://wolseleyindustrialgroup.com>\n",
      "2021-11-30 16:40:12 [scrapy.core.scraper] ERROR: Error downloading <GET https://www.mademyway.com>\n",
      "Traceback (most recent call last):\n",
      "  File \"C:\\Users\\MStopa\\AppData\\Local\\Continuum\\anaconda3\\envs\\webscrape\\lib\\site-packages\\scrapy\\core\\downloader\\middleware.py\", line 44, in process_request\n",
      "    return (yield download_func(request=request, spider=spider))\n",
      "twisted.internet.error.TCPTimedOutError: TCP connection timed out: 10060: A connection attempt failed because the connected party did not properly respond after a period of time, or established connection failed because connected host has failed to respond..\n"
     ]
    },
    {
     "name": "stdout",
     "output_type": "stream",
     "text": [
      "site_url http://hybridapparel.com/ site_url_close ['http://hybridapparel.com/', 'https://apparelfx.com/', 'http://www.id-apparel.com']\n",
      "site_url_close[0] http://hybridapparel.com/\n",
      "ii 503 self.companies[ii] Hybrid Apparel\n",
      "out1 true iout1 396 url http://hybridapparel.com/\n",
      "companies[0] Pacificom Multimedia this url http://hybridapparel.com/\n",
      "site_url http://www.suncopies.com/ site_url_close ['http://www.suncopies.com/', 'http://www.sundolier.com/', 'https://www.dcscopiers.com']\n",
      "site_url_close[0] http://www.suncopies.com/\n",
      "ii 484 self.companies[ii] Sun Copies\n",
      "out1 true iout1 397 url http://www.suncopies.com/\n",
      "companies[0] WestCoast Media Group this url http://www.suncopies.com/\n"
     ]
    },
    {
     "name": "stderr",
     "output_type": "stream",
     "text": [
      "2021-11-30 16:40:13 [scrapy.core.engine] DEBUG: Crawled (200) <GET https://www.sfntc.com/> (referer: None)\n"
     ]
    },
    {
     "name": "stdout",
     "output_type": "stream",
     "text": [
      "site_url https://mailingprosinc.com/ site_url_close ['https://mailingprosinc.com/', 'https://marlingraphics.com/', 'https://www.billingpros.com/']\n",
      "site_url_close[0] https://mailingprosinc.com/\n",
      "ii 497 self.companies[ii] Mailing Pros\n",
      "out1 true iout1 398 url https://mailingprosinc.com/\n",
      "companies[0] Orion Studios this url https://mailingprosinc.com/\n"
     ]
    },
    {
     "name": "stderr",
     "output_type": "stream",
     "text": [
      "2021-11-30 16:40:13 [scrapy.downloadermiddlewares.retry] DEBUG: Retrying <GET http://www.keyad.com> (failed 2 times): 500 Internal Server Error\n",
      "2021-11-30 16:40:13 [scrapy.downloadermiddlewares.redirect] DEBUG: Redirecting (301) to <GET https://www.design-point.com/> from <GET http://www.design-point.com>\n"
     ]
    },
    {
     "name": "stdout",
     "output_type": "stream",
     "text": [
      "site_url https://www.sfntc.com/ site_url_close ['https://www.sfntc.com/', 'https://www.knc.com/', 'https://www.iksinc.com/']\n",
      "site_url_close[0] https://www.sfntc.com/\n",
      "ii 507 self.companies[ii] Santa Fe Natural Tobacco Company\n",
      "out1 false iout2 58 url https://www.sfntc.com/\n",
      "companies[0] Webb Plaza this url https://www.sfntc.com/\n"
     ]
    },
    {
     "name": "stderr",
     "output_type": "stream",
     "text": [
      "2021-11-30 16:40:14 [scrapy.downloadermiddlewares.redirect] DEBUG: Redirecting (301) to <GET https://www.iprint.com/> from <GET http://www.iprint.com>\n",
      "2021-11-30 16:40:14 [scrapy.core.engine] DEBUG: Crawled (400) <GET https://www.pchopper.com/> (referer: None)\n",
      "2021-11-30 16:40:14 [scrapy.core.engine] DEBUG: Crawled (200) <GET https://www.ajproductsolutions.com/> (referer: None)\n",
      "2021-11-30 16:40:14 [scrapy.core.engine] DEBUG: Crawled (200) <GET https://www.xcentricmold.com/> (referer: None)\n",
      "2021-11-30 16:40:14 [scrapy.core.engine] DEBUG: Crawled (200) <GET https://auroraplastics.com/> (referer: None)\n",
      "2021-11-30 16:40:14 [scrapy.spidermiddlewares.httperror] INFO: Ignoring response <400 https://www.pchopper.com/>: HTTP status code is not handled or not allowed\n",
      "2021-11-30 16:40:14 [scrapy.core.engine] DEBUG: Crawled (200) <GET https://www.digitalroominc.com/> (referer: None)\n"
     ]
    },
    {
     "name": "stdout",
     "output_type": "stream",
     "text": [
      "site_url https://www.ajproductsolutions.com/ site_url_close ['https://ajproductsolutions.com', 'http://www.allprosolutions.com/', 'https://www.rotcsolutions.com']\n",
      "site_url_close[0] https://ajproductsolutions.com\n",
      "ii 495 self.companies[ii] A & J Product Solutions\n",
      "out1 true iout1 399 url https://www.ajproductsolutions.com/\n",
      "companies[0] Columbine Plastics this url https://www.ajproductsolutions.com/\n"
     ]
    },
    {
     "name": "stderr",
     "output_type": "stream",
     "text": [
      "2021-11-30 16:40:15 [scrapy.core.scraper] DEBUG: Scraped from <200 https://www.xcentricmold.com/>\r\n",
      "{'Organization': 'Xcentric Mold & Engineering',\n",
      " 'fulltext': 'Xcentric Mold & Engineering was founded in 1996 by the Weaver Brothers. Today with their growing professional team, years of plastic injection molding experience and their Proprietary Technology Platform, they have become one of the top injection molders and custom part suppliers in North America. Providing affordable, Quick turn Injection weMolding, CNC Machining and Rapid Prototyping services for every industry.',\n",
      " 'searchterm': 'additive manufacturing',\n",
      " 'url': 'https://www.xcentricmold.com/'}\n"
     ]
    },
    {
     "name": "stdout",
     "output_type": "stream",
     "text": [
      "site_url https://www.xcentricmold.com/ site_url_close ['https://www.xcentricmold.com/', 'https://www.cetcolor.com/', 'https://www.xerox.com/']\n",
      "site_url_close[0] https://www.xcentricmold.com/\n",
      "ii 511 self.companies[ii] Xcentric Mold & Engineering\n",
      "yielding item additive manufacturing\n",
      "site_url https://auroraplastics.com/ site_url_close ['http://www.auroraplastics.com', 'http://starplastics.com', 'http://seawayplastics.com']\n",
      "site_url_close[0] http://www.auroraplastics.com\n",
      "ii 504 self.companies[ii] Aurora Plastics\n",
      "out1 true iout1 400 url https://auroraplastics.com/\n",
      "companies[0] Silkcards this url https://auroraplastics.com/\n",
      "out1 true iout1 401 url https://www.xcentricmold.com/\n",
      "companies[0] Hirsch Design this url https://www.xcentricmold.com/\n"
     ]
    },
    {
     "name": "stderr",
     "output_type": "stream",
     "text": [
      "2021-11-30 16:40:16 [scrapy.downloadermiddlewares.redirect] DEBUG: Redirecting (301) to <GET https://www.equorum.com/> from <GET http://www.equorum.com/>\n",
      "2021-11-30 16:40:16 [scrapy.downloadermiddlewares.redirect] DEBUG: Redirecting (301) to <GET https://capfoodinc.com> from <GET http://create-a-pack.com>\n",
      "2021-11-30 16:40:16 [scrapy.downloadermiddlewares.redirect] DEBUG: Redirecting (301) to <GET https://ilslabels.com/> from <GET http://ilslabels.com>\n",
      "2021-11-30 16:40:16 [scrapy.extensions.logstats] INFO: Crawled 479 pages (at 116 pages/min), scraped 45 items (at 12 items/min)\n",
      "2021-11-30 16:40:17 [scrapy.core.engine] DEBUG: Crawled (200) <GET https://optimaloutsource.company/> (referer: None)\n"
     ]
    },
    {
     "name": "stdout",
     "output_type": "stream",
     "text": [
      "site_url https://www.digitalroominc.com/ site_url_close ['http://www.digitalroominc.com/', 'https://www.digitalprint.com/', 'https://www.digitaldogdirect.com/']\n",
      "site_url_close[0] http://www.digitalroominc.com/\n",
      "ii 500 self.companies[ii] Digital Room, Inc.\n",
      "out1 false iout2 59 url https://www.digitalroominc.com/\n",
      "companies[0] Echo Valley Graphics this url https://www.digitalroominc.com/\n",
      "site_url https://optimaloutsource.company/ site_url_close ['https://optimaloutsource.company/', 'https://informationoutsource.com/', 'https://printresource.com/']\n",
      "site_url_close[0] https://optimaloutsource.company/\n",
      "ii 516 self.companies[ii] Optimal Outsource\n",
      "out1 true iout1 402 url https://optimaloutsource.company/\n",
      "companies[0] Advanced Graphic Programming, Inc. this url https://optimaloutsource.company/\n"
     ]
    },
    {
     "name": "stderr",
     "output_type": "stream",
     "text": [
      "2021-11-30 16:40:18 [scrapy.core.engine] DEBUG: Crawled (200) <GET https://www.farheap.com> (referer: None)\n",
      "2021-11-30 16:40:19 [scrapy.core.engine] DEBUG: Crawled (200) <GET https://www.indo-mim.com/> (referer: None)\n",
      "2021-11-30 16:40:19 [scrapy.core.engine] DEBUG: Crawled (200) <GET https://www.belmark.com/> (referer: None)\n",
      "2021-11-30 16:40:19 [scrapy.core.engine] DEBUG: Crawled (200) <GET https://www.xbiz.com:443/> (referer: None)\n"
     ]
    },
    {
     "name": "stdout",
     "output_type": "stream",
     "text": [
      "site_url https://www.farheap.com site_url_close ['https://www.farheap.com', 'https://www.repli.com', 'https://www.rapit.com']\n",
      "site_url_close[0] https://www.farheap.com\n",
      "ii 519 self.companies[ii] FarHeap Solutions Inc\n",
      "out1 true iout1 403 url https://www.farheap.com\n",
      "companies[0] Point A Media this url https://www.farheap.com\n"
     ]
    },
    {
     "name": "stderr",
     "output_type": "stream",
     "text": [
      "2021-11-30 16:40:19 [scrapy.downloadermiddlewares.retry] DEBUG: Retrying <GET http://www.screamingmedia.com> (failed 1 times): DNS lookup failed: no results for hostname lookup: www.screamingmedia.com.\n"
     ]
    },
    {
     "name": "stdout",
     "output_type": "stream",
     "text": [
      "site_url https://www.indo-mim.com/ site_url_close ['http://www.indo-mim.com/', 'https://www.nac-mi.com', 'https://www.jondo.com/']\n",
      "site_url_close[0] http://www.indo-mim.com/\n",
      "ii 506 self.companies[ii] Indo-MIM\n",
      "out1 true iout1 404 url https://www.indo-mim.com/\n",
      "companies[0] Strategic Content Imaging this url https://www.indo-mim.com/\n",
      "site_url https://www.belmark.com/ site_url_close ['https://www.belmark.com/', 'https://www.bell-mark.com/', 'https://www.smark.com/']\n",
      "site_url_close[0] https://www.belmark.com/\n",
      "ii 520 self.companies[ii] Belmark\n",
      "out1 false iout2 60 url https://www.belmark.com/\n",
      "companies[0] Netc this url https://www.belmark.com/\n"
     ]
    },
    {
     "name": "stderr",
     "output_type": "stream",
     "text": [
      "2021-11-30 16:40:20 [scrapy.downloadermiddlewares.redirect] DEBUG: Redirecting (301) to <GET http://www.bluemedia.com/> from <GET http://bluemedia.com>\n",
      "2021-11-30 16:40:20 [scrapy.downloadermiddlewares.redirect] DEBUG: Redirecting (301) to <GET http://www.armstrongrm.com> from <GET http://www.armstrongmold.com>\n"
     ]
    },
    {
     "name": "stdout",
     "output_type": "stream",
     "text": [
      "site_url https://www.xbiz.com:443/ site_url_close ['http://www.xbiz.com', 'https://www.pip.com/', 'https://www.kip.com/']\n",
      "site_url_close[0] http://www.xbiz.com\n",
      "ii 502 self.companies[ii] XBIZ\n",
      "out1 true iout1 405 url https://www.xbiz.com:443/\n",
      "companies[0] Boston Web Solutions this url https://www.xbiz.com:443/\n"
     ]
    },
    {
     "name": "stderr",
     "output_type": "stream",
     "text": [
      "2021-11-30 16:40:21 [scrapy.downloadermiddlewares.redirect] DEBUG: Redirecting (301) to <GET https://sourceonedigital.com/> from <GET http://sourceonedigital.com>\n",
      "2021-11-30 16:40:21 [scrapy.core.engine] DEBUG: Crawled (200) <GET https://brookandwhittle.com/> (referer: None)\n",
      "2021-11-30 16:40:21 [scrapy.core.engine] DEBUG: Crawled (200) <GET https://www.wolseleyindustrialgroup.com/> (referer: None)\n",
      "2021-11-30 16:40:21 [scrapy.downloadermiddlewares.redirect] DEBUG: Redirecting (301) to <GET https://anythingtechnologiesmedia.com/> from <GET http://www.anythingtechnologiesmedia.com>\n",
      "2021-11-30 16:40:21 [scrapy.core.engine] DEBUG: Crawled (200) <GET https://thebernardgroup.com/> (referer: None)\n",
      "2021-11-30 16:40:21 [scrapy.downloadermiddlewares.redirect] DEBUG: Redirecting (meta refresh) to <GET https://www.iprint.com/estore/> from <GET https://www.iprint.com/>\n"
     ]
    },
    {
     "name": "stdout",
     "output_type": "stream",
     "text": [
      "site_url https://brookandwhittle.com/ site_url_close ['http://www.brookandwhittle.com', 'https://graphicten.com/', 'https://britteninc.com/']\n",
      "site_url_close[0] http://www.brookandwhittle.com\n",
      "ii 501 self.companies[ii] Brook and Whittle\n",
      "out1 true iout1 406 url https://brookandwhittle.com/\n",
      "companies[0] RighterTrack this url https://brookandwhittle.com/\n",
      "site_url https://www.wolseleyindustrialgroup.com/ site_url_close ['http://wolseleyindustrialgroup.com', 'https://www.bscmediagroup.com/', 'https://www.sspromotionalgroup.com/']\n",
      "site_url_close[0] http://wolseleyindustrialgroup.com\n",
      "ii 508 self.companies[ii] Wolseley Industrial Group\n",
      "out1 true iout1 407 url https://www.wolseleyindustrialgroup.com/\n",
      "companies[0] Formats Unlimited this url https://www.wolseleyindustrialgroup.com/\n"
     ]
    },
    {
     "name": "stderr",
     "output_type": "stream",
     "text": [
      "2021-11-30 16:40:23 [scrapy.downloadermiddlewares.retry] ERROR: Gave up retrying <GET http://www.keyad.com> (failed 3 times): 500 Internal Server Error\n",
      "2021-11-30 16:40:23 [scrapy.core.engine] DEBUG: Crawled (500) <GET http://www.keyad.com> (referer: None)\n"
     ]
    },
    {
     "name": "stdout",
     "output_type": "stream",
     "text": [
      "site_url https://thebernardgroup.com/ site_url_close ['http://thebernardgroup.com/', 'https://roarkgroup.com/', 'https://bpprintgroup.com/']\n",
      "site_url_close[0] http://thebernardgroup.com/\n",
      "ii 505 self.companies[ii] The Bernard Group\n",
      "out1 true iout1 408 url https://thebernardgroup.com/\n",
      "companies[0] Nutec Systems this url https://thebernardgroup.com/\n"
     ]
    },
    {
     "name": "stderr",
     "output_type": "stream",
     "text": [
      "2021-11-30 16:40:23 [scrapy.spidermiddlewares.httperror] INFO: Ignoring response <500 http://www.keyad.com>: HTTP status code is not handled or not allowed\n",
      "2021-11-30 16:40:23 [scrapy.core.engine] DEBUG: Crawled (200) <GET https://www.goldimageprinting.com/> (referer: None)\n",
      "2021-11-30 16:40:23 [scrapy.core.engine] DEBUG: Crawled (200) <GET https://www.tth.com/> (referer: None)\n",
      "2021-11-30 16:40:24 [scrapy.core.scraper] DEBUG: Scraped from <200 https://www.goldimageprinting.com/>\n",
      "{'Organization': 'Gold Image Printing',\n",
      " 'fulltext': 'nan',\n",
      " 'searchterm': 'digital printing',\n",
      " 'url': 'https://www.goldimageprinting.com/'}\n",
      "2021-11-30 16:40:24 [scrapy.core.engine] DEBUG: Crawled (200) <GET https://bbased.com> (referer: None)\n"
     ]
    },
    {
     "name": "stdout",
     "output_type": "stream",
     "text": [
      "site_url https://www.goldimageprinting.com/ site_url_close ['https://www.goldimageprinting.com/', 'https://www.rangeprinting.com/', 'http://www.oliverprinting.com/']\n",
      "site_url_close[0] https://www.goldimageprinting.com/\n",
      "ii 525 self.companies[ii] Gold Image Printing\n",
      "yielding item digital printing\n",
      "out1 true iout1 409 url https://www.goldimageprinting.com/\n",
      "companies[0] Sophia Wireless this url https://www.goldimageprinting.com/\n"
     ]
    },
    {
     "name": "stderr",
     "output_type": "stream",
     "text": [
      "2021-11-30 16:40:24 [scrapy.core.scraper] DEBUG: Scraped from <200 https://www.tth.com/>\r\n",
      "{'Organization': 'The Technology House',\n",
      " 'fulltext': 'The Technology House is a leading provider of product engineering, computer-aided design and manufacturing (CAD/CAM), product development, and rapid prototyping services, as well as production manufacturing of custom plastic, urethane, and metal mechanical components. Their integrated, all-under-one-roof approach to design, prototyping, and production allows you to bring your concept to the market faster and more cost-effectively than virtually anyone else. They serve a growing range of businesses in the medical, aerospace, defense, industrial, energy, and consumer products markets. For a more detailed description of the services they offer, consult their Services page. To ensure the quickest, most cost-effective design, engineering, and production assistance, The Technology House operates a sister company, Sea Air Space Machining. SAS, a Woman-Owned Small Business (WOSB), offers a variety of advanced machine shop services, including electrical discharge machining (EDM) and 5-axis high speed machining. SAS holds ISO 9001:2008+AS9100C certification (an aerospace industry quality standard), ISO13485:2003 certification (the standard for a comprehensive management system for the design and manufacture of medical devices), and Nadcap (National Aerospace and Defense Contractors Accreditation Program) certification for non-conventional machining.',\n",
      " 'searchterm': 'additive manufacturing',\n",
      " 'url': 'https://www.tth.com/'}\n"
     ]
    },
    {
     "name": "stdout",
     "output_type": "stream",
     "text": [
      "site_url https://www.tth.com/ site_url_close ['http://www.tth.com', 'https://www.dittohq.com/', 'https://www.pratt.com/']\n",
      "site_url_close[0] http://www.tth.com\n",
      "ii 509 self.companies[ii] The Technology House\n",
      "yielding item additive manufacturing\n",
      "out1 true iout1 410 url https://www.tth.com/\n",
      "companies[0] Designs INK this url https://www.tth.com/\n"
     ]
    },
    {
     "name": "stderr",
     "output_type": "stream",
     "text": [
      "2021-11-30 16:40:25 [scrapy.core.engine] DEBUG: Crawled (200) <GET https://www.design-point.com/> (referer: None)\n",
      "2021-11-30 16:40:25 [scrapy.downloadermiddlewares.redirect] DEBUG: Redirecting (302) to <GET https://www.weberadvertising.com/> from <GET http://www.weberadvertising.com>\n"
     ]
    },
    {
     "name": "stdout",
     "output_type": "stream",
     "text": [
      "site_url https://bbased.com site_url_close ['https://bbased.com', 'https://zbe.com', 'http://bobcad.com/']\n",
      "site_url_close[0] https://bbased.com\n",
      "ii 526 self.companies[ii] BroadBased Communications\n",
      "out1 true iout1 411 url https://bbased.com\n",
      "companies[0] WhatsTheBigIdea.com this url https://bbased.com\n",
      "site_url https://www.design-point.com/ site_url_close ['http://www.design-point.com', 'http://www.designs-ink.com/', 'http://www.designsnprint.com']\n",
      "site_url_close[0] http://www.design-point.com\n",
      "ii 510 self.companies[ii] DesignPoint\n",
      "out1 false iout2 61 url https://www.design-point.com/\n",
      "companies[0] Stern Bloom Media this url https://www.design-point.com/\n"
     ]
    },
    {
     "name": "stderr",
     "output_type": "stream",
     "text": [
      "2021-11-30 16:40:26 [scrapy.core.engine] DEBUG: Crawled (200) <GET https://sourceonedigital.com/> (referer: None)\n",
      "2021-11-30 16:40:26 [scrapy.downloadermiddlewares.redirect] DEBUG: Redirecting (301) to <GET https://www.capfoodinc.com/> from <GET https://capfoodinc.com>\n",
      "2021-11-30 16:40:27 [scrapy.core.engine] DEBUG: Crawled (200) <GET https://ilslabels.com/> (referer: None)\n",
      "2021-11-30 16:40:27 [scrapy.core.engine] DEBUG: Crawled (200) <GET https://www.equorum.com/> (referer: None)\n",
      "2021-11-30 16:40:27 [scrapy.core.engine] DEBUG: Crawled (200) <GET https://saberex.com/> (referer: None)\n",
      "2021-11-30 16:40:27 [scrapy.core.engine] DEBUG: Crawled (200) <GET https://www.clarityimaging.com/> (referer: None)\n",
      "2021-11-30 16:40:27 [scrapy.core.engine] DEBUG: Crawled (200) <GET https://www.furnacemfg.com> (referer: None)\n",
      "2021-11-30 16:40:27 [scrapy.downloadermiddlewares.redirect] DEBUG: Redirecting (301) to <GET https://verifiber.com/> from <GET http://www.verifiber.com>\n"
     ]
    },
    {
     "name": "stdout",
     "output_type": "stream",
     "text": [
      "site_url https://sourceonedigital.com/ site_url_close ['http://sourceonedigital.com', 'https://loupedigital.com', 'https://collinsdigital.com/']\n",
      "site_url_close[0] http://sourceonedigital.com\n",
      "ii 517 self.companies[ii] Source One Digital\n",
      "out1 true iout1 412 url https://sourceonedigital.com/\n",
      "companies[0] Bulldog Design this url https://sourceonedigital.com/\n",
      "site_url https://ilslabels.com/ site_url_close ['http://ilslabels.com', 'https://psglabels.com/', 'https://iglabel.com/']\n",
      "site_url_close[0] http://ilslabels.com\n",
      "ii 518 self.companies[ii] Innovative Labeling Solutions\n",
      "out1 true iout1 413 url https://ilslabels.com/\n",
      "companies[0] HIGH VELOCITEES INC this url https://ilslabels.com/\n",
      "site_url https://www.equorum.com/ site_url_close ['http://www.equorum.com/', 'https://www.lumi.com/', 'https://www.quantumco.com/']\n",
      "site_url_close[0] http://www.equorum.com/\n",
      "ii 512 self.companies[ii] eQuorum\n",
      "out1 true iout1 414 url https://www.equorum.com/\n",
      "companies[0] PuddleDancer Press this url https://www.equorum.com/\n",
      "site_url https://saberex.com/ site_url_close ['https://saberex.com/', 'https://arevo.com/', 'https://pageflex.com/']\n",
      "site_url_close[0] https://saberex.com/\n",
      "ii 529 self.companies[ii] SabeRex\n",
      "out1 true iout1 415 url https://saberex.com/\n",
      "companies[0] Garner Media this url https://saberex.com/\n",
      "site_url https://www.clarityimaging.com/ site_url_close ['https://www.clarityimaging.com/', 'https://www.rpimaging.com', 'https://www.abmimaging.com']\n",
      "site_url_close[0] https://www.clarityimaging.com/\n",
      "ii 532 self.companies[ii] Clarity Imaging Solutions\n",
      "out1 true iout1 416 url https://www.clarityimaging.com/\n",
      "companies[0] 40 VISUALS this url https://www.clarityimaging.com/\n"
     ]
    },
    {
     "name": "stderr",
     "output_type": "stream",
     "text": [
      "2021-11-30 16:40:30 [scrapy.core.engine] DEBUG: Crawled (200) <GET https://anythingtechnologiesmedia.com/> (referer: None)\n",
      "2021-11-30 16:40:30 [scrapy.downloadermiddlewares.retry] DEBUG: Retrying <GET https://sciimage.com/> (failed 2 times): TCP connection timed out: 10060: A connection attempt failed because the connected party did not properly respond after a period of time, or established connection failed because connected host has failed to respond..\n",
      "2021-11-30 16:40:30 [scrapy.downloadermiddlewares.retry] DEBUG: Retrying <GET http://home.collabria.com/> (failed 1 times): DNS lookup failed: no results for hostname lookup: home.collabria.com.\n"
     ]
    },
    {
     "name": "stdout",
     "output_type": "stream",
     "text": [
      "site_url https://www.furnacemfg.com site_url_close ['https://www.furnacemfg.com', 'https://www.nac-mi.com', 'https://www.uaf.com/']\n",
      "site_url_close[0] https://www.furnacemfg.com\n",
      "ii 531 self.companies[ii] Furnace Record Pressing\n",
      "out1 true iout1 417 url https://www.furnacemfg.com\n",
      "companies[0] Filmwerx Locations this url https://www.furnacemfg.com\n"
     ]
    },
    {
     "name": "stderr",
     "output_type": "stream",
     "text": [
      "2021-11-30 16:40:30 [scrapy.downloadermiddlewares.redirect] DEBUG: Redirecting (301) to <GET https://www.workboxstaffing.com/> from <GET http://workboxstaffing.com>\n",
      "2021-11-30 16:40:30 [scrapy.core.engine] DEBUG: Crawled (200) <GET https://calsierra.com/> (referer: None)\n"
     ]
    },
    {
     "name": "stdout",
     "output_type": "stream",
     "text": [
      "site_url https://anythingtechnologiesmedia.com/ site_url_close ['http://www.anythingtechnologiesmedia.com', 'http://ssitechnologies.com', 'http://abrisatechnologies.com']\n",
      "site_url_close[0] http://www.anythingtechnologiesmedia.com\n",
      "ii 524 self.companies[ii] Anything Technologies Media\n",
      "out1 true iout1 418 url https://anythingtechnologiesmedia.com/\n",
      "companies[0] Mercury Direct this url https://anythingtechnologiesmedia.com/\n"
     ]
    },
    {
     "name": "stderr",
     "output_type": "stream",
     "text": [
      "2021-11-30 16:40:31 [scrapy.downloadermiddlewares.redirect] DEBUG: Redirecting (301) to <GET https://www.ameritelcorporation.com/> from <GET http://ameritelcorporation.com>\n",
      "2021-11-30 16:40:31 [scrapy.core.engine] DEBUG: Crawled (200) <GET http://www.word-art.com> (referer: None)\n",
      "2021-11-30 16:40:31 [scrapy.downloadermiddlewares.retry] DEBUG: Retrying <GET http://www.screamingmedia.com> (failed 2 times): DNS lookup failed: no results for hostname lookup: www.screamingmedia.com.\n"
     ]
    },
    {
     "name": "stdout",
     "output_type": "stream",
     "text": [
      "site_url https://calsierra.com/ site_url_close ['https://calsierra.com/', 'https://caroba.com/', 'https://cwsoa.com/']\n",
      "site_url_close[0] https://calsierra.com/\n",
      "ii 527 self.companies[ii] Cal-Sierra Technologies\n",
      "out1 true iout1 419 url https://calsierra.com/\n",
      "companies[0] Rgu Color this url https://calsierra.com/\n"
     ]
    },
    {
     "name": "stderr",
     "output_type": "stream",
     "text": [
      "2021-11-30 16:40:32 [scrapy.core.engine] DEBUG: Crawled (200) <GET https://amigraphics.com> (referer: None)\n"
     ]
    },
    {
     "name": "stdout",
     "output_type": "stream",
     "text": [
      "site_url http://www.word-art.com site_url_close ['http://www.word-art.com', 'http://www.world3d.com', 'http://www.hrdata.com/']\n",
      "site_url_close[0] http://www.word-art.com\n",
      "ii 536 self.companies[ii] Wordart\n",
      "out1 true iout1 420 url http://www.word-art.com\n",
      "companies[0] Trio Group this url http://www.word-art.com\n"
     ]
    },
    {
     "name": "stderr",
     "output_type": "stream",
     "text": [
      "2021-11-30 16:40:32 [scrapy.downloadermiddlewares.redirect] DEBUG: Redirecting (301) to <GET https://nsprinting.net/> from <GET https://www.nsprinting.net>\n",
      "2021-11-30 16:40:32 [scrapy.downloadermiddlewares.redirect] DEBUG: Redirecting (301) to <GET https://www.armstrongrm.com/> from <GET http://www.armstrongrm.com>\n",
      "2021-11-30 16:40:32 [scrapy.downloadermiddlewares.redirect] DEBUG: Redirecting (301) to <GET https://www.bluemedia.com/> from <GET http://www.bluemedia.com/>\n",
      "2021-11-30 16:40:32 [scrapy.core.engine] DEBUG: Crawled (200) <GET https://www.tri-win.com/> (referer: None)\n"
     ]
    },
    {
     "name": "stdout",
     "output_type": "stream",
     "text": [
      "site_url https://amigraphics.com site_url_close ['https://amigraphics.com', 'https://atigraphics.com/', 'https://amidongraphics.com/']\n",
      "site_url_close[0] https://amigraphics.com\n",
      "ii 538 self.companies[ii] AMI Graphics\n",
      "out1 true iout1 421 url https://amigraphics.com\n",
      "companies[0] Signature Signs this url https://amigraphics.com\n"
     ]
    },
    {
     "name": "stderr",
     "output_type": "stream",
     "text": [
      "2021-11-30 16:40:33 [scrapy.core.engine] DEBUG: Crawled (404) <GET https://www.ingramcontent.com/publishers/print> (referer: None)\n",
      "2021-11-30 16:40:33 [scrapy.core.engine] DEBUG: Crawled (200) <GET https://www.iprint.com/estore/> (referer: None)\n",
      "2021-11-30 16:40:33 [scrapy.core.engine] DEBUG: Crawled (200) <GET https://www.printindustry.com> (referer: None)\n",
      "2021-11-30 16:40:33 [scrapy.spidermiddlewares.httperror] INFO: Ignoring response <404 https://www.ingramcontent.com/publishers/print>: HTTP status code is not handled or not allowed\n"
     ]
    },
    {
     "name": "stdout",
     "output_type": "stream",
     "text": [
      "site_url https://www.tri-win.com/ site_url_close ['https://www.tri-win.com/', 'https://www.mcr-inc.com/', 'https://www.tginc.com/']\n",
      "site_url_close[0] https://www.tri-win.com/\n",
      "ii 528 self.companies[ii] Tri-Win Direct\n",
      "out1 true iout1 422 url https://www.tri-win.com/\n",
      "companies[0] Cad-Techs this url https://www.tri-win.com/\n",
      "site_url https://www.iprint.com/estore/ site_url_close ['https://www.mirprint.com/', 'https://www.fipprint.com/', 'http://www.iprint.com']\n",
      "site_url_close[0] https://www.mirprint.com/\n",
      "ii 601 self.companies[ii] MIR Printing & Graphics\n",
      "out1 true iout1 423 url https://www.iprint.com/estore/\n",
      "companies[0] Corporate & Legal Reproductions this url https://www.iprint.com/estore/\n"
     ]
    },
    {
     "name": "stderr",
     "output_type": "stream",
     "text": [
      "2021-11-30 16:40:34 [scrapy.downloadermiddlewares.redirect] DEBUG: Redirecting (301) to <GET http://primeviewglobal.com> from <GET http://www.primeview.biz>\n",
      "2021-11-30 16:40:34 [scrapy.core.engine] DEBUG: Crawled (200) <GET https://elevate97.com> (referer: None)\n"
     ]
    },
    {
     "name": "stdout",
     "output_type": "stream",
     "text": [
      "site_url https://www.printindustry.com site_url_close ['https://www.printindustry.com', 'http://www.printinghost.com', 'https://www.uprinting.com']\n",
      "site_url_close[0] https://www.printindustry.com\n",
      "ii 540 self.companies[ii] Printing Industry Exchange\n",
      "out1 true iout1 424 url https://www.printindustry.com\n",
      "companies[0] Kellfab this url https://www.printindustry.com\n"
     ]
    },
    {
     "name": "stderr",
     "output_type": "stream",
     "text": [
      "2021-11-30 16:40:35 [scrapy.core.engine] DEBUG: Crawled (200) <GET http://www.airmotionsystems.com/> (referer: None)\n"
     ]
    },
    {
     "name": "stdout",
     "output_type": "stream",
     "text": [
      "site_url https://elevate97.com site_url_close ['https://elevate97.com', 'https://eleven19.com/', 'https://selecteng.com']\n",
      "site_url_close[0] https://elevate97.com\n",
      "ii 542 self.companies[ii] Elevate97\n",
      "out1 true iout1 425 url https://elevate97.com\n",
      "companies[0] GraphX Direct this url https://elevate97.com\n"
     ]
    },
    {
     "name": "stderr",
     "output_type": "stream",
     "text": [
      "2021-11-30 16:40:35 [scrapy.downloadermiddlewares.redirect] DEBUG: Redirecting (301) to <GET https://www.allprosolutions.com/> from <GET http://www.allprosolutions.com/>\n",
      "2021-11-30 16:40:35 [scrapy.downloadermiddlewares.redirect] DEBUG: Redirecting (301) to <GET https://interproadditive.com/> from <GET https://interpromodels.com/>\n",
      "2021-11-30 16:40:35 [scrapy.core.engine] DEBUG: Crawled (200) <GET https://www.weberadvertising.com/> (referer: None)\n"
     ]
    },
    {
     "name": "stdout",
     "output_type": "stream",
     "text": [
      "site_url http://www.airmotionsystems.com/ site_url_close ['http://www.airmotionsystems.com/', 'http://www.mailroomsystems.com/', 'https://www.chronsystems.com/']\n",
      "site_url_close[0] http://www.airmotionsystems.com/\n",
      "ii 545 self.companies[ii] Air Motion Systems\n",
      "out1 true iout1 426 url http://www.airmotionsystems.com/\n",
      "companies[0] Baseline Imaging this url http://www.airmotionsystems.com/\n"
     ]
    },
    {
     "name": "stderr",
     "output_type": "stream",
     "text": [
      "2021-11-30 16:40:36 [scrapy.downloadermiddlewares.retry] DEBUG: Retrying <GET http://home.collabria.com/> (failed 2 times): DNS lookup failed: no results for hostname lookup: home.collabria.com.\n",
      "2021-11-30 16:40:36 [scrapy.core.engine] DEBUG: Crawled (200) <GET https://verifiber.com/> (referer: None)\n"
     ]
    },
    {
     "name": "stdout",
     "output_type": "stream",
     "text": [
      "site_url https://www.weberadvertising.com/ site_url_close ['http://www.weberadvertising.com', 'https://www.versoadvertising.com/', 'https://www.cba-advertising.com/']\n",
      "site_url_close[0] http://www.weberadvertising.com\n",
      "ii 530 self.companies[ii] Weber\n",
      "out1 true iout1 427 url https://www.weberadvertising.com/\n",
      "companies[0] Extreme Signs & Graphics this url https://www.weberadvertising.com/\n"
     ]
    },
    {
     "name": "stderr",
     "output_type": "stream",
     "text": [
      "2021-11-30 16:40:37 [scrapy.core.engine] DEBUG: Crawled (200) <GET https://www.capfoodinc.com/> (referer: None)\n",
      "2021-11-30 16:40:37 [scrapy.core.engine] DEBUG: Crawled (200) <GET https://www.ipwusa.com/> (referer: None)\n",
      "2021-11-30 16:40:37 [scrapy.core.engine] DEBUG: Crawled (200) <GET https://nsprinting.net/> (referer: None)\n"
     ]
    },
    {
     "name": "stdout",
     "output_type": "stream",
     "text": [
      "site_url https://verifiber.com/ site_url_close ['http://www.verifiber.com', 'https://variverge.com/', 'https://www.berber.com/']\n",
      "site_url_close[0] http://www.verifiber.com\n",
      "ii 533 self.companies[ii] VeriFiber, LLC\n",
      "out1 false iout2 62 url https://verifiber.com/\n",
      "companies[0] GINGALLEY this url https://verifiber.com/\n"
     ]
    },
    {
     "name": "stderr",
     "output_type": "stream",
     "text": [
      "2021-11-30 16:40:37 [scrapy.core.scraper] ERROR: Spider error processing <GET https://www.capfoodinc.com/> (referer: None)\n",
      "Traceback (most recent call last):\n",
      "  File \"C:\\Users\\MStopa\\AppData\\Local\\Continuum\\anaconda3\\envs\\webscrape\\lib\\site-packages\\scrapy\\utils\\defer.py\", line 120, in iter_errback\n",
      "    yield next(it)\n",
      "  File \"C:\\Users\\MStopa\\AppData\\Local\\Continuum\\anaconda3\\envs\\webscrape\\lib\\site-packages\\scrapy\\utils\\python.py\", line 346, in __next__\n",
      "    return next(self.data)\n",
      "  File \"C:\\Users\\MStopa\\AppData\\Local\\Continuum\\anaconda3\\envs\\webscrape\\lib\\site-packages\\scrapy\\utils\\python.py\", line 346, in __next__\n",
      "    return next(self.data)\n",
      "  File \"C:\\Users\\MStopa\\AppData\\Local\\Continuum\\anaconda3\\envs\\webscrape\\lib\\site-packages\\scrapy\\core\\spidermw.py\", line 64, in _evaluate_iterable\n",
      "    for r in iterable:\n",
      "  File \"C:\\Users\\MStopa\\AppData\\Local\\Continuum\\anaconda3\\envs\\webscrape\\lib\\site-packages\\scrapy\\spidermiddlewares\\offsite.py\", line 29, in process_spider_output\n",
      "    for x in result:\n",
      "  File \"C:\\Users\\MStopa\\AppData\\Local\\Continuum\\anaconda3\\envs\\webscrape\\lib\\site-packages\\scrapy\\core\\spidermw.py\", line 64, in _evaluate_iterable\n",
      "    for r in iterable:\n",
      "  File \"C:\\Users\\MStopa\\AppData\\Local\\Continuum\\anaconda3\\envs\\webscrape\\lib\\site-packages\\scrapy\\spidermiddlewares\\referer.py\", line 340, in <genexpr>\n",
      "    return (_set_referer(r) for r in result or ())\n",
      "  File \"C:\\Users\\MStopa\\AppData\\Local\\Continuum\\anaconda3\\envs\\webscrape\\lib\\site-packages\\scrapy\\core\\spidermw.py\", line 64, in _evaluate_iterable\n",
      "    for r in iterable:\n",
      "  File \"C:\\Users\\MStopa\\AppData\\Local\\Continuum\\anaconda3\\envs\\webscrape\\lib\\site-packages\\scrapy\\spidermiddlewares\\urllength.py\", line 37, in <genexpr>\n",
      "    return (r for r in result or () if _filter(r))\n",
      "  File \"C:\\Users\\MStopa\\AppData\\Local\\Continuum\\anaconda3\\envs\\webscrape\\lib\\site-packages\\scrapy\\core\\spidermw.py\", line 64, in _evaluate_iterable\n",
      "    for r in iterable:\n",
      "  File \"C:\\Users\\MStopa\\AppData\\Local\\Continuum\\anaconda3\\envs\\webscrape\\lib\\site-packages\\scrapy\\spidermiddlewares\\depth.py\", line 58, in <genexpr>\n",
      "    return (r for r in result or () if _filter(r))\n",
      "  File \"C:\\Users\\MStopa\\AppData\\Local\\Continuum\\anaconda3\\envs\\webscrape\\lib\\site-packages\\scrapy\\core\\spidermw.py\", line 64, in _evaluate_iterable\n",
      "    for r in iterable:\n",
      "  File \"<ipython-input-9-10a30e00531c>\", line 132, in parse\n",
      "    file1.write(out2 + '\\n')\n",
      "  File \"C:\\Users\\MStopa\\AppData\\Local\\Continuum\\anaconda3\\envs\\webscrape\\lib\\encodings\\cp1252.py\", line 19, in encode\n",
      "    return codecs.charmap_encode(input,self.errors,encoding_table)[0]\n",
      "UnicodeEncodeError: 'charmap' codec can't encode character '\\u2010' in position 39: character maps to <undefined>\n",
      "2021-11-30 16:40:37 [scrapy.core.engine] DEBUG: Crawled (200) <GET https://agmsolutions.com> (referer: None)\n"
     ]
    },
    {
     "name": "stdout",
     "output_type": "stream",
     "text": [
      "site_url https://www.capfoodinc.com/ site_url_close ['https://www.coda-inc.com/', 'https://www.proworldinc.com/', 'http://www.cadcoinc.com/']\n",
      "site_url_close[0] https://www.coda-inc.com/\n",
      "ii 1449 self.companies[ii] Coda\n",
      "out1 true iout1 428 url https://www.capfoodinc.com/\n",
      "site_url https://www.ipwusa.com/ site_url_close ['https://www.ipwusa.com/', 'https://www.itpofusa.com', 'https://www.uaf.com/']\n",
      "site_url_close[0] https://www.ipwusa.com/\n",
      "ii 546 self.companies[ii] Image Projections West\n",
      "out1 true iout1 429 url https://www.ipwusa.com/\n",
      "companies[0] Any Budget Printing and Mailing this url https://www.ipwusa.com/\n"
     ]
    },
    {
     "name": "stderr",
     "output_type": "stream",
     "text": [
      "2021-11-30 16:40:38 [scrapy.core.engine] DEBUG: Crawled (200) <GET https://mecsoft.com/> (referer: None)\n"
     ]
    },
    {
     "name": "stdout",
     "output_type": "stream",
     "text": [
      "site_url https://nsprinting.net/ site_url_close ['https://www.nsprinting.net', 'https://sigprint.net/', 'https://www.rlprinting.net/']\n",
      "site_url_close[0] https://www.nsprinting.net\n",
      "ii 537 self.companies[ii] North Star Printing\n",
      "out1 true iout1 430 url https://nsprinting.net/\n",
      "companies[0] Expressions Impress this url https://nsprinting.net/\n"
     ]
    },
    {
     "name": "stderr",
     "output_type": "stream",
     "text": [
      "2021-11-30 16:40:39 [scrapy.core.engine] DEBUG: Crawled (200) <GET http://kolarcorp.com> (referer: None)\n"
     ]
    },
    {
     "name": "stdout",
     "output_type": "stream",
     "text": [
      "site_url https://agmsolutions.com site_url_close ['https://agmsolutions.com', 'https://capxsolutions.com/', 'https://pf-solutions.com']\n",
      "site_url_close[0] https://agmsolutions.com\n",
      "ii 548 self.companies[ii] AG Marketing Solutions\n",
      "out1 true iout1 431 url https://agmsolutions.com\n",
      "companies[0] Media Graphics this url https://agmsolutions.com\n"
     ]
    },
    {
     "name": "stderr",
     "output_type": "stream",
     "text": [
      "2021-11-30 16:40:39 [scrapy.core.engine] DEBUG: Crawled (200) <GET https://www.dittohq.com/> (referer: None)\n"
     ]
    },
    {
     "name": "stdout",
     "output_type": "stream",
     "text": [
      "site_url https://mecsoft.com/ site_url_close ['https://mecsoft.com/', 'https://cotg.com/', 'https://ericscott.com/']\n",
      "site_url_close[0] https://mecsoft.com/\n",
      "ii 549 self.companies[ii] MecSoft\n",
      "out1 true iout1 432 url https://mecsoft.com/\n",
      "companies[0] Sun Copies this url https://mecsoft.com/\n",
      "site_url http://kolarcorp.com site_url_close ['http://kolarcorp.com', 'http://norcorp.com', 'http://artcorp.com']\n",
      "site_url_close[0] http://kolarcorp.com\n",
      "ii 552 self.companies[ii] Kolar Corporation\n",
      "out1 false iout2 63 url http://kolarcorp.com\n",
      "companies[0] Empty Tomb Graphics this url http://kolarcorp.com\n"
     ]
    },
    {
     "name": "stderr",
     "output_type": "stream",
     "text": [
      "2021-11-30 16:40:40 [scrapy.downloadermiddlewares.redirect] DEBUG: Redirecting (301) to <GET https://www.craftpattern.com/> from <GET http://www.craftpattern.com/>\n",
      "2021-11-30 16:40:40 [scrapy.core.engine] DEBUG: Crawled (200) <GET https://concorddt.com/> (referer: None)\n",
      "2021-11-30 16:40:40 [scrapy.core.engine] DEBUG: Crawled (200) <GET https://www.workboxstaffing.com/> (referer: None)\n"
     ]
    },
    {
     "name": "stdout",
     "output_type": "stream",
     "text": [
      "site_url https://www.dittohq.com/ site_url_close ['https://www.dittohq.com/', 'https://www.dittcorp.com/', 'https://www.dotit.com/']\n",
      "site_url_close[0] https://www.dittohq.com/\n",
      "ii 553 self.companies[ii] Ditto\n",
      "out1 true iout1 433 url https://www.dittohq.com/\n",
      "companies[0] Key Ad this url https://www.dittohq.com/\n"
     ]
    },
    {
     "name": "stderr",
     "output_type": "stream",
     "text": [
      "2021-11-30 16:40:40 [scrapy.downloadermiddlewares.redirect] DEBUG: Redirecting (301) to <GET https://www.digitalartsolutions.com/> from <GET http://www.digitalartsolutions.com>\n",
      "2021-11-30 16:40:40 [scrapy.core.engine] DEBUG: Crawled (200) <GET https://interproadditive.com/> (referer: None)\n",
      "2021-11-30 16:40:40 [scrapy.core.engine] DEBUG: Crawled (200) <GET https://atigraphics.com/> (referer: None)\n"
     ]
    },
    {
     "name": "stdout",
     "output_type": "stream",
     "text": [
      "site_url https://concorddt.com/ site_url_close ['https://concorddt.com/', 'https://econoprint.com/', 'https://snco.com/']\n",
      "site_url_close[0] https://concorddt.com/\n",
      "ii 554 self.companies[ii] Concord Data Technologies\n",
      "out1 true iout1 434 url https://concorddt.com/\n",
      "companies[0] Copeland Casati Media this url https://concorddt.com/\n"
     ]
    },
    {
     "name": "stderr",
     "output_type": "stream",
     "text": [
      "2021-11-30 16:40:41 [scrapy.core.engine] DEBUG: Crawled (200) <GET https://www.armstrongrm.com/> (referer: None)\n",
      "2021-11-30 16:40:41 [scrapy.core.engine] DEBUG: Crawled (200) <GET https://infinitypublishing.com/> (referer: None)\n"
     ]
    },
    {
     "name": "stdout",
     "output_type": "stream",
     "text": [
      "site_url https://www.workboxstaffing.com/ site_url_close ['http://workboxstaffing.com', 'https://www.roseprinting.com/', 'https://www.boring.com']\n",
      "site_url_close[0] http://workboxstaffing.com\n",
      "ii 534 self.companies[ii] WorkBox Staffing\n",
      "out1 true iout1 435 url https://www.workboxstaffing.com/\n",
      "companies[0] Farenga Design Group this url https://www.workboxstaffing.com/\n"
     ]
    },
    {
     "name": "stderr",
     "output_type": "stream",
     "text": [
      "2021-11-30 16:40:41 [scrapy.core.scraper] DEBUG: Scraped from <200 https://interproadditive.com/>\r\n",
      "{'Organization': 'Interpro Models',\n",
      " 'fulltext': 'InterPRO manufactures premium quality parts in quantities from 1 to 100,000 using the latest additive manufacturing, molding and production technologies. They offer three decades of 3D printing, engineering and manufacturing experience and a large in-house prototyping capability. InterPRO also helps companies reinvent their in-house engineering and manufacturing processes with carbon fiber and metal 3D printing systems from Markforged.',\n",
      " 'searchterm': 'additive manufacturing',\n",
      " 'url': 'https://interproadditive.com/'}\n"
     ]
    },
    {
     "name": "stdout",
     "output_type": "stream",
     "text": [
      "site_url https://interproadditive.com/ site_url_close ['https://interpromodels.com/', 'https://ninecreative.com/', 'https://eimercreative.com/']\n",
      "site_url_close[0] https://interpromodels.com/\n",
      "ii 543 self.companies[ii] Interpro Models\n",
      "yielding item additive manufacturing\n"
     ]
    },
    {
     "name": "stderr",
     "output_type": "stream",
     "text": [
      "2021-11-30 16:40:42 [scrapy.core.engine] DEBUG: Crawled (200) <GET https://www.bluemedia.com/> (referer: None)\n",
      "2021-11-30 16:40:42 [scrapy.downloadermiddlewares.retry] ERROR: Gave up retrying <GET http://www.screamingmedia.com> (failed 3 times): DNS lookup failed: no results for hostname lookup: www.screamingmedia.com.\n"
     ]
    },
    {
     "name": "stdout",
     "output_type": "stream",
     "text": [
      "site_url https://atigraphics.com/ site_url_close ['https://atigraphics.com/', 'https://altiusgraphics.com/', 'https://amigraphics.com']\n",
      "site_url_close[0] https://atigraphics.com/\n",
      "ii 551 self.companies[ii] ATI Graphics\n",
      "out1 true iout1 436 url https://atigraphics.com/\n",
      "companies[0] Kaslo Design this url https://atigraphics.com/\n",
      "out1 true iout1 437 url https://interproadditive.com/\n",
      "companies[0] 24x7 Marketing this url https://interproadditive.com/\n",
      "site_url https://www.armstrongrm.com/ site_url_close ['http://www.armstrongmold.com', 'https://www.gmcstream.com/', 'https://www.carrotink.com/']\n",
      "site_url_close[0] http://www.armstrongmold.com\n",
      "ii 523 self.companies[ii] Armstrong RM Corporation\n",
      "out1 true iout1 438 url https://www.armstrongrm.com/\n",
      "companies[0] Hands On America this url https://www.armstrongrm.com/\n"
     ]
    },
    {
     "name": "stderr",
     "output_type": "stream",
     "text": [
      "2021-11-30 16:40:43 [scrapy.core.engine] DEBUG: Crawled (200) <GET https://www.mindzai.net/> (referer: None)\n",
      "2021-11-30 16:40:43 [scrapy.core.engine] DEBUG: Crawled (200) <GET https://umimarketingsolutions.com/> (referer: None)\n",
      "2021-11-30 16:40:43 [scrapy.core.scraper] ERROR: Error downloading <GET http://www.screamingmedia.com>\n",
      "Traceback (most recent call last):\n",
      "  File \"C:\\Users\\MStopa\\AppData\\Local\\Continuum\\anaconda3\\envs\\webscrape\\lib\\site-packages\\twisted\\internet\\defer.py\", line 1416, in _inlineCallbacks\n",
      "    result = result.throwExceptionIntoGenerator(g)\n",
      "  File \"C:\\Users\\MStopa\\AppData\\Local\\Continuum\\anaconda3\\envs\\webscrape\\lib\\site-packages\\twisted\\python\\failure.py\", line 512, in throwExceptionIntoGenerator\n",
      "    return g.throw(self.type, self.value, self.tb)\n",
      "  File \"C:\\Users\\MStopa\\AppData\\Local\\Continuum\\anaconda3\\envs\\webscrape\\lib\\site-packages\\scrapy\\core\\downloader\\middleware.py\", line 44, in process_request\n",
      "    return (yield download_func(request=request, spider=spider))\n",
      "  File \"C:\\Users\\MStopa\\AppData\\Local\\Continuum\\anaconda3\\envs\\webscrape\\lib\\site-packages\\twisted\\internet\\defer.py\", line 654, in _runCallbacks\n",
      "    current.result = callback(current.result, *args, **kw)\n",
      "  File \"C:\\Users\\MStopa\\AppData\\Local\\Continuum\\anaconda3\\envs\\webscrape\\lib\\site-packages\\twisted\\internet\\endpoints.py\", line 982, in startConnectionAttempts\n",
      "    \"no results for hostname lookup: {}\".format(self._hostStr)\n",
      "twisted.internet.error.DNSLookupError: DNS lookup failed: no results for hostname lookup: www.screamingmedia.com.\n"
     ]
    },
    {
     "name": "stdout",
     "output_type": "stream",
     "text": [
      "site_url https://infinitypublishing.com/ site_url_close ['https://infinitypublishing.com/', 'https://tuttlepublishing.com/', 'https://www.centurypublishing.com']\n",
      "site_url_close[0] https://infinitypublishing.com/\n",
      "ii 550 self.companies[ii] Infinity Publishing\n",
      "out1 true iout1 439 url https://infinitypublishing.com/\n",
      "companies[0] ALMADEN this url https://infinitypublishing.com/\n"
     ]
    },
    {
     "name": "stderr",
     "output_type": "stream",
     "text": [
      "2021-11-30 16:40:43 [scrapy.downloadermiddlewares.redirect] DEBUG: Redirecting (301) to <GET https://www.brooklynsigns.com/> from <GET http://www.brooklynsigns.com>\n"
     ]
    },
    {
     "name": "stdout",
     "output_type": "stream",
     "text": [
      "site_url https://www.bluemedia.com/ site_url_close ['https://www.quezmedia.com/', 'https://www.lumi.com/', 'http://bluemedia.com']\n",
      "site_url_close[0] https://www.quezmedia.com/\n",
      "ii 4033 self.companies[ii] Quez Media Marketing\n",
      "out1 true iout1 440 url https://www.bluemedia.com/\n",
      "companies[0] Roadside Advertising this url https://www.bluemedia.com/\n",
      "site_url https://www.mindzai.net/ site_url_close ['https://www.mindzai.net/', 'https://www.mapl.net/', 'http://www.imprintz.net/']\n",
      "site_url_close[0] https://www.mindzai.net/\n",
      "ii 558 self.companies[ii] Mindzai Creative\n",
      "out1 true iout1 441 url https://www.mindzai.net/\n",
      "companies[0] GoodSalt this url https://www.mindzai.net/\n"
     ]
    },
    {
     "name": "stderr",
     "output_type": "stream",
     "text": [
      "2021-11-30 16:40:44 [scrapy.downloadermiddlewares.redirect] DEBUG: Redirecting (301) to <GET https://www.oryangroup.com/> from <GET http://www.oryangroup.com/>\n",
      "2021-11-30 16:40:44 [scrapy.downloadermiddlewares.redirect] DEBUG: Redirecting (301) to <GET https://www.storus.com/> from <GET http://www.storus.com>\n",
      "2021-11-30 16:40:44 [scrapy.core.engine] DEBUG: Crawled (200) <GET https://www.ameritelcorporation.com/> (referer: None)\n"
     ]
    },
    {
     "name": "stdout",
     "output_type": "stream",
     "text": [
      "site_url https://umimarketingsolutions.com/ site_url_close ['https://umimarketingsolutions.com/', 'https://luminarsolutions.com/', 'http://www.vfmarketingsolutions.com']\n",
      "site_url_close[0] https://umimarketingsolutions.com/\n",
      "ii 559 self.companies[ii] UMI\n",
      "out1 true iout1 442 url https://umimarketingsolutions.com/\n",
      "companies[0] A & J Product Solutions this url https://umimarketingsolutions.com/\n"
     ]
    },
    {
     "name": "stderr",
     "output_type": "stream",
     "text": [
      "2021-11-30 16:40:44 [scrapy.core.engine] DEBUG: Crawled (200) <GET http://www.grunetechnica.com> (referer: None)\n",
      "2021-11-30 16:40:44 [scrapy.core.downloader.tls] WARNING: Remote certificate is not valid for hostname \"www.dmmailing.com\"; VerificationError(errors=[DNSMismatch(mismatched_id=DNS_ID(hostname=b'www.dmmailing.com'))])\n",
      "2021-11-30 16:40:45 [scrapy.core.engine] DEBUG: Crawled (200) <GET https://www.rallytowels.com/> (referer: None)\n",
      "2021-11-30 16:40:45 [scrapy.core.engine] DEBUG: Crawled (200) <GET https://www.allprosolutions.com/> (referer: None)\n",
      "2021-11-30 16:40:45 [scrapy.downloadermiddlewares.redirect] DEBUG: Redirecting (302) to <GET https://www.pinpointstores.com/> from <GET https://www.dmmailing.com>\n"
     ]
    },
    {
     "name": "stdout",
     "output_type": "stream",
     "text": [
      "site_url https://www.ameritelcorporation.com/ site_url_close ['http://ameritelcorporation.com', 'http://www.emeraldcorporation.com', 'https://www.carterprinting.com/']\n",
      "site_url_close[0] http://ameritelcorporation.com\n",
      "ii 539 self.companies[ii] Ameritel Corporation\n",
      "out1 true iout1 443 url https://www.ameritelcorporation.com/\n",
      "companies[0] Pzitive Advertising this url https://www.ameritelcorporation.com/\n"
     ]
    },
    {
     "name": "stderr",
     "output_type": "stream",
     "text": [
      "2021-11-30 16:40:45 [scrapy.downloadermiddlewares.retry] ERROR: Gave up retrying <GET http://home.collabria.com/> (failed 3 times): DNS lookup failed: no results for hostname lookup: home.collabria.com.\n"
     ]
    },
    {
     "name": "stdout",
     "output_type": "stream",
     "text": [
      "site_url http://www.grunetechnica.com site_url_close ['http://www.grunetechnica.com', 'http://www.funtech.com/', 'http://www.printtechinc.com/']\n",
      "site_url_close[0] http://www.grunetechnica.com\n",
      "ii 567 self.companies[ii] Grune Technica\n",
      "out1 true iout1 444 url http://www.grunetechnica.com\n",
      "companies[0] Mailing Pros this url http://www.grunetechnica.com\n"
     ]
    },
    {
     "name": "stderr",
     "output_type": "stream",
     "text": [
      "2021-11-30 16:40:46 [scrapy.core.scraper] DEBUG: Scraped from <200 https://www.rallytowels.com/>\r\n",
      "{'Organization': 'Rally Towels',\n",
      " 'fulltext': 'In March of 1997, Rally Towels was born. The concept was to take the strengths of our custom towel manufacturing business and merge them together with the screen printing process. Rally Towels has an innovative product line of Rally Towels, Golf, Fitness, Beach towels, Basketball Towels, Football Towels, and many more other custom towels with high quality and exceptional international custom manufacturing capabilities. We are the #1 Custom Towel producer in the United States.',\n",
      " 'searchterm': 'screen printing',\n",
      " 'url': 'https://www.rallytowels.com/'}\n"
     ]
    },
    {
     "name": "stdout",
     "output_type": "stream",
     "text": [
      "site_url https://www.rallytowels.com/ site_url_close ['https://www.rallytowels.com/', 'https://www.royalos.com/', 'http://www.reallycolor.com/']\n",
      "site_url_close[0] https://www.rallytowels.com/\n",
      "ii 557 self.companies[ii] Rally Towels\n",
      "yielding item screen printing\n"
     ]
    },
    {
     "name": "stderr",
     "output_type": "stream",
     "text": [
      "2021-11-30 16:40:46 [scrapy.core.engine] DEBUG: Crawled (200) <GET https://www.buzztools.com/> (referer: None)\n",
      "2021-11-30 16:40:46 [scrapy.downloadermiddlewares.redirect] DEBUG: Redirecting (301) to <GET https://www.tec-ease.com/> from <GET http://www.tec-ease.com>\n",
      "2021-11-30 16:40:46 [scrapy.core.scraper] ERROR: Error downloading <GET http://home.collabria.com/>\n",
      "Traceback (most recent call last):\n",
      "  File \"C:\\Users\\MStopa\\AppData\\Local\\Continuum\\anaconda3\\envs\\webscrape\\lib\\site-packages\\twisted\\internet\\defer.py\", line 1416, in _inlineCallbacks\n",
      "    result = result.throwExceptionIntoGenerator(g)\n",
      "  File \"C:\\Users\\MStopa\\AppData\\Local\\Continuum\\anaconda3\\envs\\webscrape\\lib\\site-packages\\twisted\\python\\failure.py\", line 512, in throwExceptionIntoGenerator\n",
      "    return g.throw(self.type, self.value, self.tb)\n",
      "  File \"C:\\Users\\MStopa\\AppData\\Local\\Continuum\\anaconda3\\envs\\webscrape\\lib\\site-packages\\scrapy\\core\\downloader\\middleware.py\", line 44, in process_request\n",
      "    return (yield download_func(request=request, spider=spider))\n",
      "  File \"C:\\Users\\MStopa\\AppData\\Local\\Continuum\\anaconda3\\envs\\webscrape\\lib\\site-packages\\twisted\\internet\\defer.py\", line 654, in _runCallbacks\n",
      "    current.result = callback(current.result, *args, **kw)\n",
      "  File \"C:\\Users\\MStopa\\AppData\\Local\\Continuum\\anaconda3\\envs\\webscrape\\lib\\site-packages\\twisted\\internet\\endpoints.py\", line 982, in startConnectionAttempts\n",
      "    \"no results for hostname lookup: {}\".format(self._hostStr)\n",
      "twisted.internet.error.DNSLookupError: DNS lookup failed: no results for hostname lookup: home.collabria.com.\n"
     ]
    },
    {
     "name": "stdout",
     "output_type": "stream",
     "text": [
      "site_url https://www.allprosolutions.com/ site_url_close ['http://www.allprosolutions.com/', 'https://www.rotcsolutions.com', 'https://www.gap-solutions.com']\n",
      "site_url_close[0] http://www.allprosolutions.com/\n",
      "ii 547 self.companies[ii] All Pro Solutions, Inc.\n",
      "out1 true iout1 445 url https://www.allprosolutions.com/\n",
      "companies[0] Premium Converting this url https://www.allprosolutions.com/\n",
      "out1 true iout1 446 url https://www.rallytowels.com/\n",
      "companies[0] Balius Marketing & Web Design this url https://www.rallytowels.com/\n"
     ]
    },
    {
     "name": "stderr",
     "output_type": "stream",
     "text": [
      "2021-11-30 16:40:47 [scrapy.downloadermiddlewares.redirect] DEBUG: Redirecting (301) to <GET https://www.primeviewglobal.com/> from <GET http://primeviewglobal.com>\n",
      "2021-11-30 16:40:47 [scrapy.core.engine] DEBUG: Crawled (200) <GET https://virtualpackaging.com/> (referer: None)\n",
      "2021-11-30 16:40:47 [scrapy.core.engine] DEBUG: Crawled (200) <GET http://industrialmodern.com> (referer: None)\n"
     ]
    },
    {
     "name": "stdout",
     "output_type": "stream",
     "text": [
      "site_url https://www.buzztools.com/ site_url_close ['https://www.buzztools.com/', 'https://www.abtl.com', 'https://www.zoomiq.com/']\n",
      "site_url_close[0] https://www.buzztools.com/\n",
      "ii 566 self.companies[ii] Buzz Tools Software\n",
      "out1 true iout1 447 url https://www.buzztools.com/\n",
      "companies[0] Digital Room, Inc. this url https://www.buzztools.com/\n"
     ]
    },
    {
     "name": "stderr",
     "output_type": "stream",
     "text": [
      "2021-11-30 16:40:47 [scrapy.core.scraper] DEBUG: Scraped from <200 https://virtualpackaging.com/>\r\n",
      "{'Organization': 'Virtual Packaging',\n",
      " 'fulltext': 'nan',\n",
      " 'searchterm': 'digital printing',\n",
      " 'url': 'https://virtualpackaging.com/'}\n"
     ]
    },
    {
     "name": "stdout",
     "output_type": "stream",
     "text": [
      "site_url https://virtualpackaging.com/ site_url_close ['https://virtualpackaging.com/', 'https://shipritepackaging.com/', 'https://inovarpackaging.com/']\n",
      "site_url_close[0] https://virtualpackaging.com/\n",
      "ii 563 self.companies[ii] Virtual Packaging\n",
      "yielding item digital printing\n",
      "out1 true iout1 448 url https://virtualpackaging.com/\n",
      "companies[0] Brook and Whittle this url https://virtualpackaging.com/\n"
     ]
    },
    {
     "name": "stderr",
     "output_type": "stream",
     "text": [
      "2021-11-30 16:40:48 [scrapy.core.engine] DEBUG: Crawled (200) <GET https://www.mdimail.biz/> (referer: None)\n",
      "2021-11-30 16:40:48 [scrapy.core.engine] DEBUG: Crawled (200) <GET https://www.surf-ski.com/> (referer: None)\n"
     ]
    },
    {
     "name": "stdout",
     "output_type": "stream",
     "text": [
      "site_url http://industrialmodern.com site_url_close ['http://industrialmodern.com', 'http://stateindustrial.com', 'http://giwindustries.com']\n",
      "site_url_close[0] http://industrialmodern.com\n",
      "ii 570 self.companies[ii] Industrial Modern Pattern & Mold\n",
      "out1 true iout1 449 url http://industrialmodern.com\n",
      "companies[0] XBIZ this url http://industrialmodern.com\n"
     ]
    },
    {
     "name": "stderr",
     "output_type": "stream",
     "text": [
      "2021-11-30 16:40:48 [scrapy.core.scraper] DEBUG: Scraped from <200 https://www.mdimail.biz/>\n",
      "{'Organization': 'MDI Imaging & Mail',\n",
      " 'fulltext': 'nan',\n",
      " 'searchterm': 'inkjet',\n",
      " 'url': 'https://www.mdimail.biz/'}\n",
      "2021-11-30 16:40:48 [scrapy.downloadermiddlewares.redirect] DEBUG: Redirecting (301) to <GET https://www.printique.com/> from <GET http://www.adoramapix.com/>\n"
     ]
    },
    {
     "name": "stdout",
     "output_type": "stream",
     "text": [
      "site_url https://www.mdimail.biz/ site_url_close ['https://www.mdimail.biz/', 'https://www.circ.biz/', 'https://www.umsmail.com/']\n",
      "site_url_close[0] https://www.mdimail.biz/\n",
      "ii 568 self.companies[ii] MDI Imaging & Mail\n",
      "yielding item inkjet\n",
      "out1 true iout1 450 url https://www.mdimail.biz/\n",
      "companies[0] Hybrid Apparel this url https://www.mdimail.biz/\n"
     ]
    },
    {
     "name": "stderr",
     "output_type": "stream",
     "text": [
      "2021-11-30 16:40:49 [scrapy.core.engine] DEBUG: Crawled (200) <GET https://www.emaxbrandedenvironments.com/> (referer: None)\n",
      "2021-11-30 16:40:49 [scrapy.core.engine] DEBUG: Crawled (200) <GET https://variverge.com/> (referer: None)\n"
     ]
    },
    {
     "name": "stdout",
     "output_type": "stream",
     "text": [
      "site_url https://www.surf-ski.com/ site_url_close ['https://www.surf-ski.com/', 'https://www.smark.com/', 'https://www.uaf.com/']\n",
      "site_url_close[0] https://www.surf-ski.com/\n",
      "ii 572 self.companies[ii] Surf and Ski\n",
      "out1 true iout1 451 url https://www.surf-ski.com/\n",
      "companies[0] Aurora Plastics this url https://www.surf-ski.com/\n",
      "site_url https://www.emaxbrandedenvironments.com/ site_url_close ['https://www.emaxbrandedenvironments.com/', 'https://www.brandgenie.com/', 'https://www.braendelservices.com/']\n",
      "site_url_close[0] https://www.emaxbrandedenvironments.com/\n",
      "ii 573 self.companies[ii] Emax\n",
      "out1 false iout2 64 url https://www.emaxbrandedenvironments.com/\n",
      "companies[0] The Bernard Group this url https://www.emaxbrandedenvironments.com/\n"
     ]
    },
    {
     "name": "stderr",
     "output_type": "stream",
     "text": [
      "2021-11-30 16:40:50 [scrapy.downloadermiddlewares.redirect] DEBUG: Redirecting (301) to <GET https://www.dithd.com/> from <GET http://www.dithd.com>\n"
     ]
    },
    {
     "name": "stdout",
     "output_type": "stream",
     "text": [
      "site_url https://variverge.com/ site_url_close ['https://variverge.com/', 'http://airage.com', 'https://andishere.com/']\n",
      "site_url_close[0] https://variverge.com/\n",
      "ii 574 self.companies[ii] Variverge\n",
      "out1 true iout1 452 url https://variverge.com/\n",
      "companies[0] Indo-MIM this url https://variverge.com/\n"
     ]
    },
    {
     "name": "stderr",
     "output_type": "stream",
     "text": [
      "2021-11-30 16:40:50 [scrapy.core.engine] DEBUG: Crawled (200) <GET https://www.chromasource.com/> (referer: None)\n",
      "2021-11-30 16:40:50 [scrapy.core.engine] DEBUG: Crawled (200) <GET https://www.neighborhoodnews.com> (referer: None)\n",
      "2021-11-30 16:40:50 [scrapy.downloadermiddlewares.redirect] DEBUG: Redirecting (meta refresh) to <GET http://nupakmedical.com/cgi-sys/defaultwebpage.cgi> from <GET http://nupakmedical.com>\n",
      "2021-11-30 16:40:51 [scrapy.core.engine] DEBUG: Crawled (200) <GET https://www.barewalls.com/> (referer: None)\n",
      "2021-11-30 16:40:51 [scrapy.core.engine] DEBUG: Crawled (200) <GET https://www.craftpattern.com/> (referer: None)\n",
      "2021-11-30 16:40:51 [scrapy.downloadermiddlewares.retry] ERROR: Gave up retrying <GET https://sciimage.com/> (failed 3 times): TCP connection timed out: 10060: A connection attempt failed because the connected party did not properly respond after a period of time, or established connection failed because connected host has failed to respond..\n"
     ]
    },
    {
     "name": "stdout",
     "output_type": "stream",
     "text": [
      "site_url https://www.chromasource.com/ site_url_close ['https://www.chromasource.com/', 'https://www.chromaco.com/', 'https://www.cardsource.com']\n",
      "site_url_close[0] https://www.chromasource.com/\n",
      "ii 577 self.companies[ii] ChromaSource\n",
      "out1 true iout1 453 url https://www.chromasource.com/\n",
      "companies[0] Santa Fe Natural Tobacco Company this url https://www.chromasource.com/\n"
     ]
    },
    {
     "name": "stderr",
     "output_type": "stream",
     "text": [
      "2021-11-30 16:40:51 [scrapy.core.scraper] ERROR: Error downloading <GET https://sciimage.com/>\n",
      "Traceback (most recent call last):\n",
      "  File \"C:\\Users\\MStopa\\AppData\\Local\\Continuum\\anaconda3\\envs\\webscrape\\lib\\site-packages\\scrapy\\core\\downloader\\middleware.py\", line 44, in process_request\n",
      "    return (yield download_func(request=request, spider=spider))\n",
      "twisted.internet.error.TCPTimedOutError: TCP connection timed out: 10060: A connection attempt failed because the connected party did not properly respond after a period of time, or established connection failed because connected host has failed to respond..\n"
     ]
    },
    {
     "name": "stdout",
     "output_type": "stream",
     "text": [
      "site_url https://www.neighborhoodnews.com site_url_close ['https://www.neighborhoodnews.com', 'https://www.highroadpress.com', 'https://www.tdtnews.com']\n",
      "site_url_close[0] https://www.neighborhoodnews.com\n",
      "ii 571 self.companies[ii] Neighborhood News\n",
      "out1 true iout1 454 url https://www.neighborhoodnews.com\n",
      "companies[0] Wolseley Industrial Group this url https://www.neighborhoodnews.com\n",
      "site_url https://www.barewalls.com/ site_url_close ['https://www.barewalls.com/', 'https://www.adeast.com/', 'https://www.royalos.com/']\n",
      "site_url_close[0] https://www.barewalls.com/\n",
      "ii 578 self.companies[ii] Barewalls.com\n",
      "out1 false iout2 65 url https://www.barewalls.com/\n",
      "companies[0] The Technology House this url https://www.barewalls.com/\n"
     ]
    },
    {
     "name": "stderr",
     "output_type": "stream",
     "text": [
      "2021-11-30 16:40:52 [scrapy.core.engine] DEBUG: Crawled (200) <GET http://visrondesign.com> (referer: None)\n"
     ]
    },
    {
     "name": "stdout",
     "output_type": "stream",
     "text": [
      "site_url https://www.craftpattern.com/ site_url_close ['http://www.craftpattern.com/', 'https://www.imcraft.com/', 'http://www.jppattern.com']\n",
      "site_url_close[0] http://www.craftpattern.com/\n",
      "ii 555 self.companies[ii] Craft\n",
      "out1 true iout1 455 url https://www.craftpattern.com/\n",
      "companies[0] DesignPoint this url https://www.craftpattern.com/\n"
     ]
    },
    {
     "name": "stderr",
     "output_type": "stream",
     "text": [
      "2021-11-30 16:40:53 [scrapy.downloadermiddlewares.redirect] DEBUG: Redirecting (301) to <GET https://waterbrookmultnomah.com/> from <GET https://www.waterbrookmultnomah.com>\n"
     ]
    },
    {
     "name": "stdout",
     "output_type": "stream",
     "text": [
      "site_url http://visrondesign.com site_url_close ['http://visrondesign.com', 'http://kaslodesign.com/', 'http://byhisdesigns.com']\n",
      "site_url_close[0] http://visrondesign.com\n",
      "ii 580 self.companies[ii] Visron Design\n",
      "out1 true iout1 456 url http://visrondesign.com\n",
      "companies[0] Xcentric Mold & Engineering this url http://visrondesign.com\n"
     ]
    },
    {
     "name": "stderr",
     "output_type": "stream",
     "text": [
      "2021-11-30 16:40:53 [scrapy.downloadermiddlewares.redirect] DEBUG: Redirecting (302) to <GET http://parle.com> from <GET http://www.parle.com>\n",
      "2021-11-30 16:40:53 [scrapy.core.engine] DEBUG: Crawled (200) <GET http://www.tshirtpro.com/> (referer: None)\n",
      "2021-11-30 16:40:53 [scrapy.core.engine] DEBUG: Crawled (200) <GET https://www.storus.com/> (referer: None)\n",
      "2021-11-30 16:40:53 [scrapy.downloadermiddlewares.retry] DEBUG: Retrying <GET http://new.speedysigns.com> (failed 1 times): DNS lookup failed: no results for hostname lookup: new.speedysigns.com.\n"
     ]
    },
    {
     "name": "stdout",
     "output_type": "stream",
     "text": [
      "site_url http://www.tshirtpro.com/ site_url_close ['http://www.tshirtpro.com/', 'http://www.hrtlp.com/', 'https://www.thetintpros.com/']\n",
      "site_url_close[0] http://www.tshirtpro.com/\n",
      "ii 583 self.companies[ii] M&M Screen Printing and Embroidery\n",
      "out1 true iout1 457 url http://www.tshirtpro.com/\n",
      "companies[0] eQuorum this url http://www.tshirtpro.com/\n"
     ]
    },
    {
     "name": "stderr",
     "output_type": "stream",
     "text": [
      "2021-11-30 16:40:54 [scrapy.core.engine] DEBUG: Crawled (200) <GET https://www.digitalartsolutions.com/> (referer: None)\n"
     ]
    },
    {
     "name": "stdout",
     "output_type": "stream",
     "text": [
      "site_url https://www.storus.com/ site_url_close ['http://www.storus.com', 'http://www.stouse.com', 'https://www.skyou.com/']\n",
      "site_url_close[0] http://www.storus.com\n",
      "ii 565 self.companies[ii] Storus\n",
      "out1 true iout1 458 url https://www.storus.com/\n",
      "companies[0] iPrint this url https://www.storus.com/\n"
     ]
    },
    {
     "name": "stderr",
     "output_type": "stream",
     "text": [
      "2021-11-30 16:40:55 [scrapy.core.scraper] DEBUG: Scraped from <200 https://www.digitalartsolutions.com/>\n",
      "{'Organization': 'Digital Art Solutions',\n",
      " 'fulltext': 'We started out just like you. If you are engaged in the design and production of electronic artwork for imprinting processes, chances are that you experience frustration in the course of your daily workflow. We understand your frustration because we used to do what you do. The name of our company is “Digital Art Solutions”. Without a problem, there is no solution. Our goal is to help you to design and produce artwork more productively so you can reduce your art production time and achieve a profitable bottom line. Our system is not just about art production. Once you have reduced your art production time, our sales and marketing tools will help you refocus your energy on generating new business. All it takes is an open mind and the drive to get started. Our products and support will do the rest. Industry Specific Solutions Art production and graphic design for the imprinting industries can be a difficult challenge, even for professionals. We know this because the founders of DAS owned and operated the largest screen printing and embroidery company in the southwestern United States. Products and services are not created based on theory, but on practical application, experience and the needs of the imprinting industries. We recognize that not everyone is a classically trained professional graphic designer. We are different because we stay focused on the success of your business.',\n",
      " 'searchterm': 'digital printing',\n",
      " 'url': 'https://www.digitalartsolutions.com/'}\n",
      "2021-11-30 16:40:55 [scrapy.core.engine] DEBUG: Crawled (200) <GET https://www.edgaragents.com/> (referer: None)\n",
      "2021-11-30 16:40:55 [scrapy.downloadermiddlewares.redirect] DEBUG: Redirecting (301) to <GET https://www.seedsgreenprinting.com/> from <GET http://www.seedsgreenprinting.com>\n",
      "2021-11-30 16:40:55 [scrapy.core.scraper] DEBUG: Scraped from <200 https://www.digitalartsolutions.com/>\n",
      "{'Organization': 'Digital Art Solutions',\n",
      " 'fulltext': 'We started out just like you. If you are engaged in the design and production of electronic artwork for imprinting processes, chances are that you experience frustration in the course of your daily workflow. We understand your frustration because we used to do what you do. The name of our company is “Digital Art Solutions”. Without a problem, there is no solution. Our goal is to help you to design and produce artwork more productively so you can reduce your art production time and achieve a profitable bottom line. Our system is not just about art production. Once you have reduced your art production time, our sales and marketing tools will help you refocus your energy on generating new business. All it takes is an open mind and the drive to get started. Our products and support will do the rest. Industry Specific Solutions Art production and graphic design for the imprinting industries can be a difficult challenge, even for professionals. We know this because the founders of DAS owned and operated the largest screen printing and embroidery company in the southwestern United States. Products and services are not created based on theory, but on practical application, experience and the needs of the imprinting industries. We recognize that not everyone is a classically trained professional graphic designer. We are different because we stay focused on the success of your business.',\n",
      " 'searchterm': 'screen printing',\n",
      " 'url': 'https://www.digitalartsolutions.com/'}\n"
     ]
    },
    {
     "name": "stdout",
     "output_type": "stream",
     "text": [
      "site_url https://www.digitalartsolutions.com/ site_url_close ['http://www.digitalartsolutions.com', 'http://www.digitallabelsolutions.com/', 'http://www.digitalevolution.com/']\n",
      "site_url_close[0] http://www.digitalartsolutions.com\n",
      "ii 556 self.companies[ii] Digital Art Solutions\n",
      "yielding item digital printing\n",
      "yielding item screen printing\n",
      "out1 true iout1 459 url https://www.digitalartsolutions.com/\n",
      "companies[0] Price Chopper this url https://www.digitalartsolutions.com/\n"
     ]
    },
    {
     "name": "stderr",
     "output_type": "stream",
     "text": [
      "2021-11-30 16:40:55 [scrapy.core.engine] DEBUG: Crawled (200) <GET https://www.oryangroup.com/> (referer: None)\n"
     ]
    },
    {
     "name": "stdout",
     "output_type": "stream",
     "text": [
      "site_url https://www.edgaragents.com/ site_url_close ['https://www.edgaragents.com/', 'https://www.argen.com/', 'https://www.regalprint.com/']\n",
      "site_url_close[0] https://www.edgaragents.com/\n",
      "ii 582 self.companies[ii] EdgarAgents\n",
      "out1 true iout1 460 url https://www.edgaragents.com/\n",
      "companies[0] Create-A-Pack Foods Inc. this url https://www.edgaragents.com/\n"
     ]
    },
    {
     "name": "stderr",
     "output_type": "stream",
     "text": [
      "2021-11-30 16:40:56 [scrapy.downloadermiddlewares.redirect] DEBUG: Redirecting (301) to <GET https://trendesign.com/> from <GET https://www.trendesign.com/>\n",
      "2021-11-30 16:40:56 [scrapy.core.engine] DEBUG: Crawled (200) <GET https://www.brooklynsigns.com/> (referer: None)\n",
      "2021-11-30 16:40:56 [scrapy.downloadermiddlewares.redirect] DEBUG: Redirecting (301) to <GET https://www.genericfluidsystems.com/> from <GET http://www.genericfluidsystems.com>\n"
     ]
    },
    {
     "name": "stdout",
     "output_type": "stream",
     "text": [
      "site_url https://www.oryangroup.com/ site_url_close ['http://www.oryangroup.com/', 'http://www.cordantgroup.com', 'https://www.quantumgroup.com/']\n",
      "site_url_close[0] http://www.oryangroup.com/\n",
      "ii 562 self.companies[ii] O'Ryan Group\n",
      "out1 true iout1 461 url https://www.oryangroup.com/\n",
      "companies[0] Optimal Outsource this url https://www.oryangroup.com/\n"
     ]
    },
    {
     "name": "stderr",
     "output_type": "stream",
     "text": [
      "2021-11-30 16:40:57 [scrapy.core.engine] DEBUG: Crawled (404) <GET https://www.pinpointstores.com/> (referer: None)\n",
      "2021-11-30 16:40:57 [scrapy.spidermiddlewares.httperror] INFO: Ignoring response <404 https://www.pinpointstores.com/>: HTTP status code is not handled or not allowed\n"
     ]
    },
    {
     "name": "stdout",
     "output_type": "stream",
     "text": [
      "site_url https://www.brooklynsigns.com/ site_url_close ['http://www.brooklynsigns.com', 'https://www.keensigns.com/', 'https://www.brooksnet.com/']\n",
      "site_url_close[0] http://www.brooklynsigns.com\n",
      "ii 560 self.companies[ii] Brooklyn Signs Company\n",
      "out1 true iout1 462 url https://www.brooklynsigns.com/\n",
      "companies[0] Source One Digital this url https://www.brooklynsigns.com/\n"
     ]
    },
    {
     "name": "stderr",
     "output_type": "stream",
     "text": [
      "2021-11-30 16:40:57 [scrapy.core.engine] DEBUG: Crawled (200) <GET https://www.printique.com/> (referer: None)\n",
      "2021-11-30 16:40:57 [scrapy.core.engine] DEBUG: Crawled (200) <GET http://mdftool.com/> (referer: None)\n",
      "2021-11-30 16:40:57 [scrapy.core.engine] DEBUG: Crawled (200) <GET https://www.southwestsign.com> (referer: None)\n",
      "2021-11-30 16:40:57 [scrapy.core.engine] DEBUG: Crawled (200) <GET https://www.tec-ease.com/> (referer: None)\n",
      "2021-11-30 16:40:57 [scrapy.core.engine] DEBUG: Crawled (200) <GET https://bullseyecreative.net/> (referer: None)\n"
     ]
    },
    {
     "name": "stdout",
     "output_type": "stream",
     "text": [
      "site_url https://www.printique.com/ site_url_close ['https://www.printhouse.com/', 'http://www.printsure.com/', 'https://www.printwell.com/']\n",
      "site_url_close[0] https://www.printhouse.com/\n",
      "ii 1827 self.companies[ii] Print House\n",
      "out1 true iout1 463 url https://www.printique.com/\n",
      "companies[0] Innovative Labeling Solutions this url https://www.printique.com/\n"
     ]
    },
    {
     "name": "stderr",
     "output_type": "stream",
     "text": [
      "2021-11-30 16:40:58 [scrapy.core.engine] DEBUG: Crawled (200) <GET http://www.cplad.com> (referer: None)\n",
      "2021-11-30 16:40:58 [scrapy.core.engine] DEBUG: Crawled (200) <GET https://www.bepublishing.com> (referer: None)\n"
     ]
    },
    {
     "name": "stdout",
     "output_type": "stream",
     "text": [
      "site_url http://mdftool.com/ site_url_close ['http://mdftool.com/', 'http://moolean.com/', 'https://edt.com/']\n",
      "site_url_close[0] http://mdftool.com/\n",
      "ii 592 self.companies[ii] MDF Tool Corporation\n",
      "out1 true iout1 464 url http://mdftool.com/\n",
      "companies[0] FarHeap Solutions Inc this url http://mdftool.com/\n",
      "site_url https://www.southwestsign.com site_url_close ['https://www.southwestsign.com', 'https://www.southeastid.com', 'http://www.southwesternok.com/']\n",
      "site_url_close[0] https://www.southwestsign.com\n",
      "ii 591 self.companies[ii] Southwest Sign\n",
      "out1 true iout1 465 url https://www.southwestsign.com\n",
      "companies[0] Belmark this url https://www.southwestsign.com\n",
      "site_url https://www.tec-ease.com/ site_url_close ['http://www.tec-ease.com', 'https://www.tomedes.com/', 'https://www.qea.com/']\n",
      "site_url_close[0] http://www.tec-ease.com\n",
      "ii 569 self.companies[ii] Tec-Ease\n",
      "out1 true iout1 466 url https://www.tec-ease.com/\n",
      "companies[0] bluemedia this url https://www.tec-ease.com/\n",
      "site_url https://bullseyecreative.net/ site_url_close ['https://bullseyecreative.net/', 'https://creativedoc.net/', 'https://eimercreative.com/']\n",
      "site_url_close[0] https://bullseyecreative.net/\n",
      "ii 590 self.companies[ii] Bullseye Creative\n",
      "out1 true iout1 467 url https://bullseyecreative.net/\n",
      "companies[0] Pinnacor this url https://bullseyecreative.net/\n",
      "site_url http://www.cplad.com site_url_close ['http://www.cplad.com', 'http://www.copylady.com', 'http://www.icla.com']\n",
      "site_url_close[0] http://www.cplad.com\n",
      "ii 593 self.companies[ii] CPL Advertising\n",
      "out1 false iout2 66 url http://www.cplad.com\n",
      "companies[0] Armstrong RM Corporation this url http://www.cplad.com\n"
     ]
    },
    {
     "name": "stderr",
     "output_type": "stream",
     "text": [
      "2021-11-30 16:41:00 [scrapy.core.engine] DEBUG: Crawled (200) <GET https://www.primeviewglobal.com/> (referer: None)\n"
     ]
    },
    {
     "name": "stdout",
     "output_type": "stream",
     "text": [
      "site_url https://www.bepublishing.com site_url_close ['https://www.bepublishing.com', 'https://www.downeypublishing.com', 'https://www.centurypublishing.com']\n",
      "site_url_close[0] https://www.bepublishing.com\n",
      "ii 589 self.companies[ii] B.E. Publishing\n",
      "out1 true iout1 468 url https://www.bepublishing.com\n",
      "companies[0] Anything Technologies Media this url https://www.bepublishing.com\n"
     ]
    },
    {
     "name": "stderr",
     "output_type": "stream",
     "text": [
      "2021-11-30 16:41:01 [scrapy.core.engine] DEBUG: Crawled (200) <GET http://nupakmedical.com/cgi-sys/defaultwebpage.cgi> (referer: None)\n"
     ]
    },
    {
     "name": "stdout",
     "output_type": "stream",
     "text": [
      "site_url https://www.primeviewglobal.com/ site_url_close ['https://www.ppi-global.com/', 'https://www.almadenglobal.com/', 'https://www.printwell.com/']\n",
      "site_url_close[0] https://www.ppi-global.com/\n",
      "ii 2121 self.companies[ii] PPI - Precision Pulley & Idler\n",
      "out1 false iout2 67 url https://www.primeviewglobal.com/\n",
      "companies[0] Gold Image Printing this url https://www.primeviewglobal.com/\n"
     ]
    },
    {
     "name": "stderr",
     "output_type": "stream",
     "text": [
      "2021-11-30 16:41:01 [scrapy.core.engine] DEBUG: Crawled (200) <GET http://netkitchen.com/> (referer: None)\n",
      "2021-11-30 16:41:01 [scrapy.core.downloader.tls] WARNING: Remote certificate is not valid for hostname \"ondisplay.net\"; VerificationError(errors=[DNSMismatch(mismatched_id=DNS_ID(hostname=b'ondisplay.net'))])\n",
      "2021-11-30 16:41:01 [scrapy.downloadermiddlewares.redirect] DEBUG: Redirecting (301) to <GET https://remingtonlaminations.com/> from <GET http://www.remingtonlaminations.com>\n",
      "2021-11-30 16:41:01 [scrapy.downloadermiddlewares.redirect] DEBUG: Redirecting (301) to <GET https://www.jameslitho.com/> from <GET https://jameslitho.com>\n"
     ]
    },
    {
     "name": "stdout",
     "output_type": "stream",
     "text": [
      "site_url http://nupakmedical.com/cgi-sys/defaultwebpage.cgi site_url_close ['http://amg.proforma.com/cgi-sys/defaultwebpage.cgi', 'http://nupakmedical.com', 'http://mightyoakmedical.com/']\n",
      "site_url_close[0] http://amg.proforma.com/cgi-sys/defaultwebpage.cgi\n",
      "ii 3943 self.companies[ii] Proforma Ascension Marketing Group\n",
      "out1 true iout1 469 url http://nupakmedical.com/cgi-sys/defaultwebpage.cgi\n",
      "companies[0] BroadBased Communications this url http://nupakmedical.com/cgi-sys/defaultwebpage.cgi\n"
     ]
    },
    {
     "name": "stderr",
     "output_type": "stream",
     "text": [
      "2021-11-30 16:41:02 [scrapy.core.engine] DEBUG: Crawled (200) <GET https://ondisplay.net> (referer: None)\n",
      "2021-11-30 16:41:02 [scrapy.downloadermiddlewares.redirect] DEBUG: Redirecting (302) to <GET https://www.milanoinc.com/> from <GET http://www.milanoinc.com>\n",
      "2021-11-30 16:41:02 [scrapy.core.engine] DEBUG: Crawled (200) <GET https://123posters.com/> (referer: None)\n",
      "2021-11-30 16:41:02 [scrapy.downloadermiddlewares.retry] DEBUG: Retrying <GET http://new.speedysigns.com> (failed 2 times): DNS lookup failed: no results for hostname lookup: new.speedysigns.com.\n"
     ]
    },
    {
     "name": "stdout",
     "output_type": "stream",
     "text": [
      "site_url http://netkitchen.com/ site_url_close ['http://netkitchen.com/', 'http://necoinc.com/', 'http://eezitec.com/']\n",
      "site_url_close[0] http://netkitchen.com/\n",
      "ii 598 self.companies[ii] The Netkitchen\n",
      "out1 true iout1 470 url http://netkitchen.com/\n",
      "companies[0] Cal-Sierra Technologies this url http://netkitchen.com/\n",
      "site_url https://ondisplay.net site_url_close ['https://ondisplay.net', 'https://eastondisplay.com/', 'http://ikondisplays.com/']\n",
      "site_url_close[0] https://ondisplay.net\n",
      "ii 595 self.companies[ii] On Display\n",
      "out1 true iout1 471 url https://ondisplay.net\n",
      "companies[0] Tri-Win Direct this url https://ondisplay.net\n"
     ]
    },
    {
     "name": "stderr",
     "output_type": "stream",
     "text": [
      "2021-11-30 16:41:03 [scrapy.core.engine] DEBUG: Crawled (200) <GET https://www.mirprint.com/> (referer: None)\n",
      "2021-11-30 16:41:03 [scrapy.core.engine] DEBUG: Crawled (200) <GET http://tritonimaging.com> (referer: None)\n"
     ]
    },
    {
     "name": "stdout",
     "output_type": "stream",
     "text": [
      "site_url https://123posters.com/ site_url_close ['https://123posters.com/', 'https://post-press.com/', 'https://go-foster.com/']\n",
      "site_url_close[0] https://123posters.com/\n",
      "ii 597 self.companies[ii] 123Posters\n",
      "out1 true iout1 472 url https://123posters.com/\n",
      "companies[0] SabeRex this url https://123posters.com/\n"
     ]
    },
    {
     "name": "stderr",
     "output_type": "stream",
     "text": [
      "2021-11-30 16:41:04 [scrapy.core.engine] DEBUG: Crawled (200) <GET https://dempseygraphics.com/> (referer: None)\n"
     ]
    },
    {
     "name": "stdout",
     "output_type": "stream",
     "text": [
      "site_url https://www.mirprint.com/ site_url_close ['https://www.mirprint.com/', 'https://www.rldprint.com/', 'https://www.fipprint.com/']\n",
      "site_url_close[0] https://www.mirprint.com/\n",
      "ii 601 self.companies[ii] MIR Printing & Graphics\n",
      "out1 true iout1 473 url https://www.mirprint.com/\n",
      "companies[0] Weber this url https://www.mirprint.com/\n"
     ]
    },
    {
     "name": "stderr",
     "output_type": "stream",
     "text": [
      "2021-11-30 16:41:04 [scrapy.core.engine] DEBUG: Crawled (200) <GET https://www.chicagoproducers.com/> (referer: None)\n",
      "2021-11-30 16:41:04 [scrapy.core.engine] DEBUG: Crawled (200) <GET https://www.color-x.com> (referer: None)\n"
     ]
    },
    {
     "name": "stdout",
     "output_type": "stream",
     "text": [
      "site_url http://tritonimaging.com site_url_close ['http://tritonimaging.com', 'https://matriximaging.com/', 'http://nvisionimaging.com/']\n",
      "site_url_close[0] http://tritonimaging.com\n",
      "ii 603 self.companies[ii] Triton Imaging & Design Studio\n",
      "out1 true iout1 474 url http://tritonimaging.com\n",
      "companies[0] Furnace Record Pressing this url http://tritonimaging.com\n",
      "site_url https://dempseygraphics.com/ site_url_close ['https://dempseygraphics.com/', 'http://dsgraphics.com', 'https://beyergraphics.com/']\n",
      "site_url_close[0] https://dempseygraphics.com/\n",
      "ii 602 self.companies[ii] Dempsey GRAPHICS\n",
      "out1 true iout1 475 url https://dempseygraphics.com/\n",
      "companies[0] Clarity Imaging Solutions this url https://dempseygraphics.com/\n",
      "site_url https://www.chicagoproducers.com/ site_url_close ['https://www.chicagoproducers.com/', 'https://www.chicagoprintworks.com', 'http://www.icmproducts.com']\n",
      "site_url_close[0] https://www.chicagoproducers.com/\n",
      "ii 596 self.companies[ii] Chicago Producers\n",
      "out1 true iout1 476 url https://www.chicagoproducers.com/\n",
      "companies[0] VeriFiber, LLC this url https://www.chicagoproducers.com/\n"
     ]
    },
    {
     "name": "stderr",
     "output_type": "stream",
     "text": [
      "2021-11-30 16:41:06 [scrapy.core.engine] DEBUG: Crawled (200) <GET https://waterbrookmultnomah.com/> (referer: None)\n"
     ]
    },
    {
     "name": "stdout",
     "output_type": "stream",
     "text": [
      "site_url https://www.color-x.com site_url_close ['https://www.color-x.com', 'https://www.wrecolor.com', 'https://www.color-logic.com']\n",
      "site_url_close[0] https://www.color-x.com\n",
      "ii 604 self.companies[ii] Color X\n",
      "out1 true iout1 477 url https://www.color-x.com\n",
      "companies[0] WorkBox Staffing this url https://www.color-x.com\n"
     ]
    },
    {
     "name": "stderr",
     "output_type": "stream",
     "text": [
      "2021-11-30 16:41:07 [scrapy.core.engine] DEBUG: Crawled (200) <GET https://trendesign.com/> (referer: None)\n",
      "2021-11-30 16:41:07 [scrapy.core.engine] DEBUG: Crawled (200) <GET http://ncore.com> (referer: None)\n"
     ]
    },
    {
     "name": "stdout",
     "output_type": "stream",
     "text": [
      "site_url https://waterbrookmultnomah.com/ site_url_close ['https://www.waterbrookmultnomah.com', 'https://arternal.com/', 'https://www.bookautomation.com']\n",
      "site_url_close[0] https://www.waterbrookmultnomah.com\n",
      "ii 581 self.companies[ii] WaterBrook Multnomah Publishing Group\n",
      "out1 true iout1 478 url https://waterbrookmultnomah.com/\n",
      "companies[0] Collabria this url https://waterbrookmultnomah.com/\n"
     ]
    },
    {
     "name": "stderr",
     "output_type": "stream",
     "text": [
      "2021-11-30 16:41:07 [scrapy.core.engine] DEBUG: Crawled (200) <GET https://www.dithd.com/> (referer: None)\n"
     ]
    },
    {
     "name": "stdout",
     "output_type": "stream",
     "text": [
      "site_url https://trendesign.com/ site_url_close ['https://www.trendesign.com/', 'https://lendesigns.com', 'https://hdesign.com/']\n",
      "site_url_close[0] https://www.trendesign.com/\n",
      "ii 584 self.companies[ii] TRENDESIGN\n",
      "out1 true iout1 479 url https://trendesign.com/\n",
      "companies[0] Wordart this url https://trendesign.com/\n"
     ]
    },
    {
     "name": "stderr",
     "output_type": "stream",
     "text": [
      "2021-11-30 16:41:08 [scrapy.downloadermiddlewares.redirect] DEBUG: Redirecting (302) to <GET https://parle.com/> from <GET http://parle.com>\n",
      "2021-11-30 16:41:08 [scrapy.core.engine] DEBUG: Crawled (200) <GET https://www.manifestoad.com> (referer: None)\n",
      "2021-11-30 16:41:08 [scrapy.core.engine] DEBUG: Crawled (200) <GET https://losangelesflyer.com> (referer: None)\n",
      "2021-11-30 16:41:08 [scrapy.core.engine] DEBUG: Crawled (200) <GET https://www.genericfluidsystems.com/> (referer: None)\n"
     ]
    },
    {
     "name": "stdout",
     "output_type": "stream",
     "text": [
      "site_url http://ncore.com site_url_close ['http://ncore.com', 'http://norcorp.com', 'http://coral.com']\n",
      "site_url_close[0] http://ncore.com\n",
      "ii 607 self.companies[ii] nCore\n",
      "out1 true iout1 480 url http://ncore.com\n",
      "companies[0] North Star Printing this url http://ncore.com\n"
     ]
    },
    {
     "name": "stderr",
     "output_type": "stream",
     "text": [
      "2021-11-30 16:41:08 [scrapy.downloadermiddlewares.redirect] DEBUG: Redirecting (301) to <GET https://www.disdirect.com/> from <GET http://www.disdirect.com>\n",
      "2021-11-30 16:41:08 [scrapy.downloadermiddlewares.retry] DEBUG: Retrying <GET http://www.perseusbooksgroup.com> (failed 1 times): DNS lookup failed: no results for hostname lookup: www.perseusbooksgroup.com.\n"
     ]
    },
    {
     "name": "stdout",
     "output_type": "stream",
     "text": [
      "site_url https://www.dithd.com/ site_url_close ['http://www.dithd.com', 'https://www.dittohq.com/', 'https://www.dotit.com/']\n",
      "site_url_close[0] http://www.dithd.com\n",
      "ii 576 self.companies[ii] Display Integration Technologies\n",
      "out1 true iout1 481 url https://www.dithd.com/\n",
      "companies[0] AMI Graphics this url https://www.dithd.com/\n",
      "site_url https://www.manifestoad.com site_url_close ['https://www.manifestoad.com', 'https://www.omnimetal.com', 'http://www.mansueto.com']\n",
      "site_url_close[0] https://www.manifestoad.com\n",
      "ii 606 self.companies[ii] MANIFESTO\n",
      "out1 false iout2 68 url https://www.manifestoad.com\n",
      "companies[0] Ameritel Corporation this url https://www.manifestoad.com\n",
      "site_url https://losangelesflyer.com site_url_close ['https://losangelesflyer.com', 'https://pageflex.com/', 'https://bagwell.com']\n",
      "site_url_close[0] https://losangelesflyer.com\n",
      "ii 609 self.companies[ii] LA Flyers\n",
      "out1 true iout1 482 url https://losangelesflyer.com\n",
      "companies[0] Printing Industry Exchange this url https://losangelesflyer.com\n"
     ]
    },
    {
     "name": "stderr",
     "output_type": "stream",
     "text": [
      "2021-11-30 16:41:10 [scrapy.core.engine] DEBUG: Crawled (200) <GET https://www.seedsgreenprinting.com/> (referer: None)\n",
      "2021-11-30 16:41:10 [scrapy.core.engine] DEBUG: Crawled (200) <GET http://www.thirdcoastproductions.com/> (referer: None)\n",
      "2021-11-30 16:41:10 [scrapy.downloadermiddlewares.redirect] DEBUG: Redirecting (301) to <GET https://fleetwraphq.com/> from <GET https://www.cortezvisual.com>\n"
     ]
    },
    {
     "name": "stdout",
     "output_type": "stream",
     "text": [
      "site_url https://www.genericfluidsystems.com/ site_url_close ['http://www.genericfluidsystems.com', 'http://www.lucintsystems.com/', 'https://www.omnisystem.com/']\n",
      "site_url_close[0] http://www.genericfluidsystems.com\n",
      "ii 588 self.companies[ii] Generic Systems\n",
      "out1 true iout1 483 url https://www.genericfluidsystems.com/\n",
      "companies[0] Lightning Source this url https://www.genericfluidsystems.com/\n",
      "site_url https://www.seedsgreenprinting.com/ site_url_close ['http://www.seedsgreenprinting.com', 'https://www.screenprinting.com/', 'https://www.eganprinting.com/']\n",
      "site_url_close[0] http://www.seedsgreenprinting.com\n",
      "ii 587 self.companies[ii] Seeds Printing\n",
      "out1 true iout1 484 url https://www.seedsgreenprinting.com/\n",
      "companies[0] Elevate97 this url https://www.seedsgreenprinting.com/\n"
     ]
    },
    {
     "name": "stderr",
     "output_type": "stream",
     "text": [
      "2021-11-30 16:41:11 [scrapy.core.engine] DEBUG: Crawled (200) <GET http://www.ivypromotions.com/> (referer: None)\n",
      "2021-11-30 16:41:11 [scrapy.core.engine] DEBUG: Crawled (403) <GET https://www.kwixar.com> (referer: None)\n",
      "2021-11-30 16:41:11 [scrapy.core.engine] DEBUG: Crawled (200) <GET https://www.jameslitho.com/> (referer: None)\n",
      "2021-11-30 16:41:11 [scrapy.core.downloader.tls] WARNING: Remote certificate is not valid for hostname \"www.milanoinc.com\"; VerificationError(errors=[DNSMismatch(mismatched_id=DNS_ID(hostname=b'www.milanoinc.com'))])\n",
      "2021-11-30 16:41:11 [scrapy.downloadermiddlewares.retry] DEBUG: Retrying <GET https://oteywhite.com> (failed 1 times): [<twisted.python.failure.Failure OpenSSL.SSL.Error: [('SSL routines', 'ssl3_read_bytes', 'sslv3 alert handshake failure')]>]\n"
     ]
    },
    {
     "name": "stdout",
     "output_type": "stream",
     "text": [
      "site_url http://www.thirdcoastproductions.com/ site_url_close ['http://www.thirdcoastproductions.com/', 'https://dataproductions.com/', 'https://www.sweethomeproductions.com']\n",
      "site_url_close[0] http://www.thirdcoastproductions.com/\n",
      "ii 561 self.companies[ii] Th3rd Coast Productions\n",
      "out1 true iout1 485 url http://www.thirdcoastproductions.com/\n",
      "companies[0] Interpro Models this url http://www.thirdcoastproductions.com/\n"
     ]
    },
    {
     "name": "stderr",
     "output_type": "stream",
     "text": [
      "2021-11-30 16:41:12 [scrapy.downloadermiddlewares.retry] DEBUG: Retrying <GET https://www.impactyp.com> (failed 1 times): [<twisted.python.failure.Failure twisted.internet.error.ConnectionLost: Connection to the other side was lost in a non-clean fashion: Connection lost.>]\n",
      "2021-11-30 16:41:12 [scrapy.downloadermiddlewares.redirect] DEBUG: Redirecting (301) to <GET https://mbs-signsupply.com/> from <GET https://www.milanoinc.com/>\n",
      "2021-11-30 16:41:12 [scrapy.spidermiddlewares.httperror] INFO: Ignoring response <403 https://www.kwixar.com>: HTTP status code is not handled or not allowed\n"
     ]
    },
    {
     "name": "stdout",
     "output_type": "stream",
     "text": [
      "site_url http://www.ivypromotions.com/ site_url_close ['http://www.ivypromotions.com/', 'https://www.olivepromotions.com/', 'https://www.jimpromotions.com/']\n",
      "site_url_close[0] http://www.ivypromotions.com/\n",
      "ii 614 self.companies[ii] Ivy Promotions\n",
      "out1 true iout1 486 url http://www.ivypromotions.com/\n",
      "companies[0] Primeview USA this url http://www.ivypromotions.com/\n"
     ]
    },
    {
     "name": "stderr",
     "output_type": "stream",
     "text": [
      "2021-11-30 16:41:12 [scrapy.core.engine] DEBUG: Crawled (200) <GET https://www.nuartgraphics.com> (referer: None)\n",
      "2021-11-30 16:41:12 [scrapy.core.engine] DEBUG: Crawled (200) <GET https://remingtonlaminations.com/> (referer: None)\n",
      "2021-11-30 16:41:12 [scrapy.downloadermiddlewares.redirect] DEBUG: Redirecting (301) to <GET https://fineprint.com/> from <GET https://www.fineprint.com>\n",
      "2021-11-30 16:41:12 [scrapy.core.engine] DEBUG: Crawled (200) <GET http://www.mediathatdeelivers.com/> (referer: None)\n"
     ]
    },
    {
     "name": "stdout",
     "output_type": "stream",
     "text": [
      "site_url https://www.jameslitho.com/ site_url_close ['https://www.aelitho.com/', 'https://www.msilitho.com/', 'https://jameslitho.com']\n",
      "site_url_close[0] https://www.aelitho.com/\n",
      "ii 2302 self.companies[ii] Aelitho\n",
      "out1 true iout1 487 url https://www.jameslitho.com/\n",
      "companies[0] Air Motion Systems this url https://www.jameslitho.com/\n"
     ]
    },
    {
     "name": "stderr",
     "output_type": "stream",
     "text": [
      "2021-11-30 16:41:13 [scrapy.core.engine] DEBUG: Crawled (200) <GET http://www.sundown-beer-wine-labels.com> (referer: None)\n"
     ]
    },
    {
     "name": "stdout",
     "output_type": "stream",
     "text": [
      "site_url https://www.nuartgraphics.com site_url_close ['https://www.nuartgraphics.com', 'https://www.lrtgraphics.com/', 'https://www.dualgraphics.com']\n",
      "site_url_close[0] https://www.nuartgraphics.com\n",
      "ii 613 self.companies[ii] Nu-Art Graphics\n",
      "out1 true iout1 488 url https://www.nuartgraphics.com\n",
      "companies[0] Image Projections West this url https://www.nuartgraphics.com\n",
      "site_url https://remingtonlaminations.com/ site_url_close ['http://www.remingtonlaminations.com', 'https://brehmcommunications.com/', 'https://www.seminarinnovations.com/']\n",
      "site_url_close[0] http://www.remingtonlaminations.com\n",
      "ii 600 self.companies[ii] Remington Laminations, Incorporated\n",
      "out1 true iout1 489 url https://remingtonlaminations.com/\n",
      "companies[0] All Pro Solutions, Inc. this url https://remingtonlaminations.com/\n"
     ]
    },
    {
     "name": "stderr",
     "output_type": "stream",
     "text": [
      "2021-11-30 16:41:14 [scrapy.downloadermiddlewares.retry] ERROR: Gave up retrying <GET http://new.speedysigns.com> (failed 3 times): DNS lookup failed: no results for hostname lookup: new.speedysigns.com.\n"
     ]
    },
    {
     "name": "stdout",
     "output_type": "stream",
     "text": [
      "site_url http://www.mediathatdeelivers.com/ site_url_close ['http://www.mediathatdeelivers.com/', 'http://www.medicalmodeling.com/', 'https://www.matchadesign.com/']\n",
      "site_url_close[0] http://www.mediathatdeelivers.com/\n",
      "ii 617 self.companies[ii] Media That Deelivers\n",
      "out1 true iout1 490 url http://www.mediathatdeelivers.com/\n",
      "companies[0] AG Marketing Solutions this url http://www.mediathatdeelivers.com/\n"
     ]
    },
    {
     "name": "stderr",
     "output_type": "stream",
     "text": [
      "2021-11-30 16:41:14 [scrapy.downloadermiddlewares.redirect] DEBUG: Redirecting (301) to <GET https://imageworx.net/> from <GET http://imageworx.net/>\n",
      "2021-11-30 16:41:14 [scrapy.core.engine] DEBUG: Crawled (200) <GET https://www.tyrrelltech.com> (referer: None)\n",
      "2021-11-30 16:41:14 [scrapy.downloadermiddlewares.redirect] DEBUG: Redirecting (301) to <GET https://zanasiusa.com/> from <GET https://www.zanasiusa.com>\n",
      "2021-11-30 16:41:14 [scrapy.core.scraper] ERROR: Error downloading <GET http://new.speedysigns.com>\n",
      "Traceback (most recent call last):\n",
      "  File \"C:\\Users\\MStopa\\AppData\\Local\\Continuum\\anaconda3\\envs\\webscrape\\lib\\site-packages\\twisted\\internet\\defer.py\", line 1416, in _inlineCallbacks\n",
      "    result = result.throwExceptionIntoGenerator(g)\n",
      "  File \"C:\\Users\\MStopa\\AppData\\Local\\Continuum\\anaconda3\\envs\\webscrape\\lib\\site-packages\\twisted\\python\\failure.py\", line 512, in throwExceptionIntoGenerator\n",
      "    return g.throw(self.type, self.value, self.tb)\n",
      "  File \"C:\\Users\\MStopa\\AppData\\Local\\Continuum\\anaconda3\\envs\\webscrape\\lib\\site-packages\\scrapy\\core\\downloader\\middleware.py\", line 44, in process_request\n",
      "    return (yield download_func(request=request, spider=spider))\n",
      "  File \"C:\\Users\\MStopa\\AppData\\Local\\Continuum\\anaconda3\\envs\\webscrape\\lib\\site-packages\\twisted\\internet\\defer.py\", line 654, in _runCallbacks\n",
      "    current.result = callback(current.result, *args, **kw)\n",
      "  File \"C:\\Users\\MStopa\\AppData\\Local\\Continuum\\anaconda3\\envs\\webscrape\\lib\\site-packages\\twisted\\internet\\endpoints.py\", line 982, in startConnectionAttempts\n",
      "    \"no results for hostname lookup: {}\".format(self._hostStr)\n",
      "twisted.internet.error.DNSLookupError: DNS lookup failed: no results for hostname lookup: new.speedysigns.com.\n"
     ]
    },
    {
     "name": "stdout",
     "output_type": "stream",
     "text": [
      "site_url http://www.sundown-beer-wine-labels.com site_url_close ['http://www.sundown-beer-wine-labels.com', 'http://www.sundentallabs.com/', 'http://www.dwyer-inst.com']\n",
      "site_url_close[0] http://www.sundown-beer-wine-labels.com\n",
      "ii 619 self.companies[ii] Sundown\n",
      "out1 true iout1 491 url http://www.sundown-beer-wine-labels.com\n",
      "companies[0] MecSoft this url http://www.sundown-beer-wine-labels.com\n"
     ]
    },
    {
     "name": "stderr",
     "output_type": "stream",
     "text": [
      "2021-11-30 16:41:15 [scrapy.downloadermiddlewares.retry] DEBUG: Retrying <GET https://oteywhite.com> (failed 2 times): [<twisted.python.failure.Failure OpenSSL.SSL.Error: [('SSL routines', 'ssl3_read_bytes', 'sslv3 alert handshake failure')]>]\n"
     ]
    },
    {
     "name": "stdout",
     "output_type": "stream",
     "text": [
      "site_url https://www.tyrrelltech.com site_url_close ['https://www.tyrrelltech.com', 'https://www.parmetech.com', 'https://www.dirtech.com']\n",
      "site_url_close[0] https://www.tyrrelltech.com\n",
      "ii 621 self.companies[ii] TyrrellTech\n",
      "out1 true iout1 492 url https://www.tyrrelltech.com\n",
      "companies[0] Infinity Publishing this url https://www.tyrrelltech.com\n"
     ]
    },
    {
     "name": "stderr",
     "output_type": "stream",
     "text": [
      "2021-11-30 16:41:15 [scrapy.core.engine] DEBUG: Crawled (200) <GET https://aecharleston.com/> (referer: None)\n",
      "2021-11-30 16:41:16 [scrapy.downloadermiddlewares.redirect] DEBUG: Redirecting (301) to <GET https://signgrafx.com/> from <GET https://www.signgrafx.com>\n"
     ]
    },
    {
     "name": "stdout",
     "output_type": "stream",
     "text": [
      "site_url https://aecharleston.com/ site_url_close ['https://aecharleston.com/', 'http://machare.com/', 'https://rechargeasia.com/']\n",
      "site_url_close[0] https://aecharleston.com/\n",
      "ii 622 self.companies[ii] A+E Digital Printing\n",
      "out1 true iout1 493 url https://aecharleston.com/\n",
      "companies[0] ATI Graphics this url https://aecharleston.com/\n"
     ]
    },
    {
     "name": "stderr",
     "output_type": "stream",
     "text": [
      "2021-11-30 16:41:16 [scrapy.extensions.logstats] INFO: Crawled 584 pages (at 105 pages/min), scraped 53 items (at 8 items/min)\n",
      "2021-11-30 16:41:17 [scrapy.core.engine] DEBUG: Crawled (406) <GET https://www.bullpenmarketing.com> (referer: None)\n",
      "2021-11-30 16:41:17 [scrapy.spidermiddlewares.httperror] INFO: Ignoring response <406 https://www.bullpenmarketing.com>: HTTP status code is not handled or not allowed\n",
      "2021-11-30 16:41:17 [scrapy.core.engine] DEBUG: Crawled (200) <GET https://parle.com/> (referer: None)\n"
     ]
    },
    {
     "name": "stdout",
     "output_type": "stream",
     "text": [
      "site_url https://parle.com/ site_url_close ['https://arevo.com/', 'https://partbull.com/', 'https://pageflex.com/']\n",
      "site_url_close[0] https://arevo.com/\n",
      "ii 3526 self.companies[ii] Arevo\n",
      "out1 true iout1 494 url https://parle.com/\n",
      "companies[0] Kolar Corporation this url https://parle.com/\n"
     ]
    },
    {
     "name": "stderr",
     "output_type": "stream",
     "text": [
      "2021-11-30 16:41:19 [scrapy.core.engine] DEBUG: Crawled (200) <GET https://www.disdirect.com/> (referer: None)\n",
      "2021-11-30 16:41:20 [scrapy.core.scraper] DEBUG: Scraped from <200 https://www.disdirect.com/>\n",
      "{'Organization': 'DPI Direct',\n",
      " 'fulltext': 'nan',\n",
      " 'searchterm': 'inkjet',\n",
      " 'url': 'https://www.disdirect.com/'}\n"
     ]
    },
    {
     "name": "stdout",
     "output_type": "stream",
     "text": [
      "site_url https://www.disdirect.com/ site_url_close ['https://www.dpidirect.com/', 'http://www.disdirect.com', 'https://www.dovedirect.com/']\n",
      "site_url_close[0] https://www.dpidirect.com/\n",
      "ii 4510 self.companies[ii] DPI Direct\n",
      "yielding item inkjet\n",
      "out1 true iout1 495 url https://www.disdirect.com/\n",
      "companies[0] Ditto this url https://www.disdirect.com/\n"
     ]
    },
    {
     "name": "stderr",
     "output_type": "stream",
     "text": [
      "2021-11-30 16:41:21 [scrapy.downloadermiddlewares.retry] DEBUG: Retrying <GET https://www.impactyp.com> (failed 2 times): [<twisted.python.failure.Failure OpenSSL.SSL.Error: [('SSL routines', 'ssl3_read_bytes', 'tlsv1 alert internal error')]>]\n",
      "2021-11-30 16:41:22 [scrapy.core.engine] DEBUG: Crawled (200) <GET https://imageworx.net/> (referer: None)\n"
     ]
    },
    {
     "name": "stdout",
     "output_type": "stream",
     "text": [
      "site_url https://imageworx.net/ site_url_close ['http://imageworx.net/', 'https://psi2go.net/', 'http://imagenet.net']\n",
      "site_url_close[0] http://imageworx.net/\n",
      "ii 623 self.companies[ii] Imageworx\n",
      "out1 true iout1 496 url https://imageworx.net/\n",
      "companies[0] Concord Data Technologies this url https://imageworx.net/\n"
     ]
    },
    {
     "name": "stderr",
     "output_type": "stream",
     "text": [
      "2021-11-30 16:41:25 [scrapy.downloadermiddlewares.retry] DEBUG: Retrying <GET http://3deinc.com> (failed 1 times): DNS lookup failed: no results for hostname lookup: 3deinc.com.\n",
      "2021-11-30 16:41:25 [scrapy.downloadermiddlewares.redirect] DEBUG: Redirecting (301) to <GET https://advproto.com/> from <GET http://advproto.com>\n",
      "2021-11-30 16:41:25 [scrapy.core.engine] DEBUG: Crawled (200) <GET http://www.gaylonn.com> (referer: None)\n",
      "2021-11-30 16:41:26 [scrapy.core.engine] DEBUG: Crawled (200) <GET https://fleetwraphq.com/> (referer: None)\n"
     ]
    },
    {
     "name": "stdout",
     "output_type": "stream",
     "text": [
      "site_url http://www.gaylonn.com site_url_close ['http://www.gaylonn.com', 'http://www.naylor.com/', 'http://www.greydon.com']\n",
      "site_url_close[0] http://www.gaylonn.com\n",
      "ii 628 self.companies[ii] Gaylonn Designs\n",
      "out1 true iout1 497 url http://www.gaylonn.com\n",
      "companies[0] Craft this url http://www.gaylonn.com\n"
     ]
    },
    {
     "name": "stderr",
     "output_type": "stream",
     "text": [
      "2021-11-30 16:41:26 [scrapy.downloadermiddlewares.retry] DEBUG: Retrying <GET http://www.perseusbooksgroup.com> (failed 2 times): DNS lookup failed: no results for hostname lookup: www.perseusbooksgroup.com.\n",
      "2021-11-30 16:41:26 [scrapy.downloadermiddlewares.retry] ERROR: Gave up retrying <GET https://oteywhite.com> (failed 3 times): [<twisted.python.failure.Failure OpenSSL.SSL.Error: [('SSL routines', 'ssl3_read_bytes', 'sslv3 alert handshake failure')]>]\n"
     ]
    },
    {
     "name": "stdout",
     "output_type": "stream",
     "text": [
      "site_url https://fleetwraphq.com/ site_url_close ['http://flyersasap.com/', 'https://rchq.com/', 'https://fetchgraphics.com']\n",
      "site_url_close[0] http://flyersasap.com/\n",
      "ii 4226 self.companies[ii] Flyers ASAP\n",
      "out1 true iout1 498 url https://fleetwraphq.com/\n",
      "companies[0] Digital Art Solutions this url https://fleetwraphq.com/\n"
     ]
    },
    {
     "name": "stderr",
     "output_type": "stream",
     "text": [
      "2021-11-30 16:41:26 [scrapy.core.scraper] ERROR: Error downloading <GET https://oteywhite.com>\n",
      "Traceback (most recent call last):\n",
      "  File \"C:\\Users\\MStopa\\AppData\\Local\\Continuum\\anaconda3\\envs\\webscrape\\lib\\site-packages\\scrapy\\core\\downloader\\middleware.py\", line 44, in process_request\n",
      "    return (yield download_func(request=request, spider=spider))\n",
      "twisted.web._newclient.ResponseNeverReceived: [<twisted.python.failure.Failure OpenSSL.SSL.Error: [('SSL routines', 'ssl3_read_bytes', 'sslv3 alert handshake failure')]>]\n",
      "2021-11-30 16:41:26 [scrapy.downloadermiddlewares.redirect] DEBUG: Redirecting (301) to <GET https://bigraphicsinc.com/> from <GET http://www.bigraphicsinc.com>\n",
      "2021-11-30 16:41:26 [scrapy.downloadermiddlewares.redirect] DEBUG: Redirecting (301) to <GET https://colorproprint.com/> from <GET https://www.colorproprint.com>\n",
      "2021-11-30 16:41:27 [scrapy.core.engine] DEBUG: Crawled (200) <GET https://www.scansandfilm.com/> (referer: None)\n",
      "2021-11-30 16:41:27 [scrapy.downloadermiddlewares.retry] DEBUG: Retrying <GET http://3deinc.com> (failed 2 times): DNS lookup failed: no results for hostname lookup: 3deinc.com.\n",
      "2021-11-30 16:41:27 [scrapy.core.engine] DEBUG: Crawled (200) <GET https://mbs-signsupply.com/> (referer: None)\n",
      "2021-11-30 16:41:27 [scrapy.core.engine] DEBUG: Crawled (200) <GET https://fineprint.com/> (referer: None)\n",
      "2021-11-30 16:41:27 [scrapy.downloadermiddlewares.redirect] DEBUG: Redirecting (301) to <GET https://www.aps3d.com/> from <GET https://advproto.com/>\n",
      "2021-11-30 16:41:27 [scrapy.downloadermiddlewares.retry] ERROR: Gave up retrying <GET http://www.perseusbooksgroup.com> (failed 3 times): DNS lookup failed: no results for hostname lookup: www.perseusbooksgroup.com.\n"
     ]
    },
    {
     "name": "stdout",
     "output_type": "stream",
     "text": [
      "site_url https://www.scansandfilm.com/ site_url_close ['https://www.scansandfilm.com/', 'https://www.sandhills.com/', 'https://www.sdicgm.com/']\n",
      "site_url_close[0] https://www.scansandfilm.com/\n",
      "ii 629 self.companies[ii] Digital Image Technologies\n",
      "out1 true iout1 499 url https://www.scansandfilm.com/\n",
      "companies[0] Rally Towels this url https://www.scansandfilm.com/\n",
      "site_url https://mbs-signsupply.com/ site_url_close ['https://sfsignsupply.com/', 'https://macasupply.com/', 'https://bestinsupplies.com']\n",
      "site_url_close[0] https://sfsignsupply.com/\n",
      "ii 298 self.companies[ii] SF Plastic & Sign Supply\n",
      "out1 true iout1 500 url https://mbs-signsupply.com/\n",
      "companies[0] Mindzai Creative this url https://mbs-signsupply.com/\n"
     ]
    },
    {
     "name": "stderr",
     "output_type": "stream",
     "text": [
      "2021-11-30 16:41:28 [scrapy.core.engine] DEBUG: Crawled (200) <GET http://www.thesouthjerseydeviler.com/> (referer: None)\n",
      "2021-11-30 16:41:28 [scrapy.core.engine] DEBUG: Crawled (200) <GET https://www.jpdigital.com> (referer: None)\n",
      "2021-11-30 16:41:28 [scrapy.core.engine] DEBUG: Crawled (200) <GET https://www.angelaconrad.com/> (referer: None)\n",
      "2021-11-30 16:41:28 [scrapy.core.engine] DEBUG: Crawled (200) <GET https://zanasiusa.com/> (referer: None)\n",
      "2021-11-30 16:41:28 [scrapy.core.scraper] ERROR: Error downloading <GET http://www.perseusbooksgroup.com>\n",
      "Traceback (most recent call last):\n",
      "  File \"C:\\Users\\MStopa\\AppData\\Local\\Continuum\\anaconda3\\envs\\webscrape\\lib\\site-packages\\twisted\\internet\\defer.py\", line 1416, in _inlineCallbacks\n",
      "    result = result.throwExceptionIntoGenerator(g)\n",
      "  File \"C:\\Users\\MStopa\\AppData\\Local\\Continuum\\anaconda3\\envs\\webscrape\\lib\\site-packages\\twisted\\python\\failure.py\", line 512, in throwExceptionIntoGenerator\n",
      "    return g.throw(self.type, self.value, self.tb)\n",
      "  File \"C:\\Users\\MStopa\\AppData\\Local\\Continuum\\anaconda3\\envs\\webscrape\\lib\\site-packages\\scrapy\\core\\downloader\\middleware.py\", line 44, in process_request\n",
      "    return (yield download_func(request=request, spider=spider))\n",
      "  File \"C:\\Users\\MStopa\\AppData\\Local\\Continuum\\anaconda3\\envs\\webscrape\\lib\\site-packages\\twisted\\internet\\defer.py\", line 654, in _runCallbacks\n",
      "    current.result = callback(current.result, *args, **kw)\n",
      "  File \"C:\\Users\\MStopa\\AppData\\Local\\Continuum\\anaconda3\\envs\\webscrape\\lib\\site-packages\\twisted\\internet\\endpoints.py\", line 982, in startConnectionAttempts\n",
      "    \"no results for hostname lookup: {}\".format(self._hostStr)\n",
      "twisted.internet.error.DNSLookupError: DNS lookup failed: no results for hostname lookup: www.perseusbooksgroup.com.\n"
     ]
    },
    {
     "name": "stdout",
     "output_type": "stream",
     "text": [
      "site_url https://fineprint.com/ site_url_close ['https://www.fineprint.com', 'https://oneilprint.com/', 'https://fasprint.com/']\n",
      "site_url_close[0] https://www.fineprint.com\n",
      "ii 616 self.companies[ii] FinePrint Software\n",
      "out1 true iout1 501 url https://fineprint.com/\n",
      "companies[0] UMI this url https://fineprint.com/\n",
      "site_url http://www.thesouthjerseydeviler.com/ site_url_close ['http://www.thesouthjerseydeviler.com/', 'https://www.onthespotmedia.com/', 'http://www.themerchandiser.com/']\n",
      "site_url_close[0] http://www.thesouthjerseydeviler.com/\n",
      "ii 634 self.companies[ii] South Jersey DEVILer\n",
      "out1 true iout1 502 url http://www.thesouthjerseydeviler.com/\n",
      "companies[0] Brooklyn Signs Company this url http://www.thesouthjerseydeviler.com/\n",
      "site_url https://www.jpdigital.com site_url_close ['https://www.jpdigital.com', 'https://www.mfdigital.com', 'https://www.mgxdigital.com']\n",
      "site_url_close[0] https://www.jpdigital.com\n",
      "ii 633 self.companies[ii] JP Digital Imaging\n",
      "out1 true iout1 503 url https://www.jpdigital.com\n",
      "companies[0] Th3rd Coast Productions this url https://www.jpdigital.com\n",
      "site_url https://zanasiusa.com/ site_url_close ['https://www.zanasiusa.com', 'https://blanksusa.com', 'https://absit.com/']\n",
      "site_url_close[0] https://www.zanasiusa.com\n",
      "ii 620 self.companies[ii] Zanasi USA\n",
      "out1 true iout1 504 url https://zanasiusa.com/\n",
      "companies[0] O'Ryan Group this url https://zanasiusa.com/\n"
     ]
    },
    {
     "name": "stderr",
     "output_type": "stream",
     "text": [
      "2021-11-30 16:41:30 [scrapy.core.engine] DEBUG: Crawled (200) <GET https://signgrafx.com/> (referer: None)\n",
      "2021-11-30 16:41:30 [scrapy.core.engine] DEBUG: Crawled (200) <GET http://www.mediaresourcesonline.com/> (referer: None)\n"
     ]
    },
    {
     "name": "stdout",
     "output_type": "stream",
     "text": [
      "site_url https://www.angelaconrad.com/ site_url_close ['https://www.angelaconrad.com/', 'https://www.argen.com/', 'https://www.intellicor.com/']\n",
      "site_url_close[0] https://www.angelaconrad.com/\n",
      "ii 632 self.companies[ii] Angela Conrad\n",
      "out1 true iout1 505 url https://www.angelaconrad.com/\n",
      "companies[0] Virtual Packaging this url https://www.angelaconrad.com/\n"
     ]
    },
    {
     "name": "stderr",
     "output_type": "stream",
     "text": [
      "2021-11-30 16:41:30 [scrapy.core.engine] DEBUG: Crawled (200) <GET https://zapomarks.com> (referer: None)\n"
     ]
    },
    {
     "name": "stdout",
     "output_type": "stream",
     "text": [
      "site_url https://signgrafx.com/ site_url_close ['https://www.signgrafx.com', 'https://pcigrafx.com/', 'https://signstore.com/']\n",
      "site_url_close[0] https://www.signgrafx.com\n",
      "ii 624 self.companies[ii] SIGNGRAFX\n",
      "out1 true iout1 506 url https://signgrafx.com/\n",
      "companies[0] DM Mailing this url https://signgrafx.com/\n"
     ]
    },
    {
     "name": "stderr",
     "output_type": "stream",
     "text": [
      "2021-11-30 16:41:31 [scrapy.downloadermiddlewares.redirect] DEBUG: Redirecting (301) to <GET https://www.mackeyprinting.com> from <GET http://www.mackeyprinting.com/>\n",
      "2021-11-30 16:41:31 [scrapy.core.engine] DEBUG: Crawled (200) <GET https://www.shadows.com> (referer: None)\n",
      "2021-11-30 16:41:31 [scrapy.core.engine] DEBUG: Crawled (200) <GET https://regentpromotions.com> (referer: None)\n"
     ]
    },
    {
     "name": "stdout",
     "output_type": "stream",
     "text": [
      "site_url http://www.mediaresourcesonline.com/ site_url_close ['http://www.mediaresourcesonline.com/', 'http://www.digitalpressonline.com', 'http://www.3dglassesonline.com/']\n",
      "site_url_close[0] http://www.mediaresourcesonline.com/\n",
      "ii 638 self.companies[ii] Media Resources\n",
      "out1 true iout1 507 url http://www.mediaresourcesonline.com/\n",
      "companies[0] Storus this url http://www.mediaresourcesonline.com/\n"
     ]
    },
    {
     "name": "stderr",
     "output_type": "stream",
     "text": [
      "2021-11-30 16:41:31 [scrapy.downloadermiddlewares.redirect] DEBUG: Redirecting (302) to <GET http://www.burlesondistributing.com/cgi-bin/eShop/index.cgi> from <GET https://www.burlesondistributing.com>\n",
      "2021-11-30 16:41:31 [scrapy.downloadermiddlewares.redirect] DEBUG: Redirecting (301) to <GET https://yourplanb.com/> from <GET http://yourplanb.com/>\n",
      "2021-11-30 16:41:31 [scrapy.core.engine] DEBUG: Crawled (200) <GET https://colorproprint.com/> (referer: None)\n",
      "2021-11-30 16:41:31 [scrapy.core.engine] DEBUG: Crawled (200) <GET https://www.teamprideathletics.com/> (referer: None)\n"
     ]
    },
    {
     "name": "stdout",
     "output_type": "stream",
     "text": [
      "site_url https://zapomarks.com site_url_close ['https://zapomarks.com', 'https://marrs.com', 'http://daymark.com']\n",
      "site_url_close[0] https://zapomarks.com\n",
      "ii 635 self.companies[ii] Zap'O Marks\n",
      "out1 true iout1 508 url https://zapomarks.com\n",
      "companies[0] Buzz Tools Software this url https://zapomarks.com\n",
      "site_url https://www.shadows.com site_url_close ['https://www.shadows.com', 'http://www.shocas.com', 'https://www.shopworx.com']\n",
      "site_url_close[0] https://www.shadows.com\n",
      "ii 637 self.companies[ii] Shadows Custom Apparel & Designs\n",
      "out1 true iout1 509 url https://www.shadows.com\n",
      "companies[0] Grune Technica this url https://www.shadows.com\n"
     ]
    },
    {
     "name": "stderr",
     "output_type": "stream",
     "text": [
      "2021-11-30 16:41:32 [scrapy.core.engine] DEBUG: Crawled (200) <GET http://www.brochuredistribution.com/> (referer: None)\n",
      "2021-11-30 16:41:32 [scrapy.downloadermiddlewares.redirect] DEBUG: Redirecting (301) to <GET https://grandimageinc.com/> from <GET https://www.grandimageinc.com>\n"
     ]
    },
    {
     "name": "stdout",
     "output_type": "stream",
     "text": [
      "site_url https://regentpromotions.com site_url_close ['https://regentpromotions.com', 'https://www.printpromotions.com', 'https://egpromo.com']\n",
      "site_url_close[0] https://regentpromotions.com\n",
      "ii 636 self.companies[ii] REGENT PROMOTIONS\n",
      "out1 true iout1 510 url https://regentpromotions.com\n",
      "companies[0] MDI Imaging & Mail this url https://regentpromotions.com\n"
     ]
    },
    {
     "name": "stderr",
     "output_type": "stream",
     "text": [
      "2021-11-30 16:41:33 [scrapy.core.scraper] DEBUG: Scraped from <200 https://colorproprint.com/>\r\n",
      "{'Organization': 'Silkcards',\n",
      " 'fulltext': 'They provide unique and beautiful print that reflects your image and makes a positive first impression.',\n",
      " 'searchterm': 'digital printing',\n",
      " 'url': 'https://colorproprint.com/'}\n"
     ]
    },
    {
     "name": "stdout",
     "output_type": "stream",
     "text": [
      "site_url https://colorproprint.com/ site_url_close ['https://4colorprint.com/', 'https://www.colorproprint.com', 'https://econoprint.com/']\n",
      "site_url_close[0] https://4colorprint.com/\n",
      "ii 449 self.companies[ii] Silkcards\n",
      "yielding item digital printing\n"
     ]
    },
    {
     "name": "stderr",
     "output_type": "stream",
     "text": [
      "2021-11-30 16:41:33 [scrapy.downloadermiddlewares.retry] ERROR: Gave up retrying <GET https://www.impactyp.com> (failed 3 times): [<twisted.python.failure.Failure OpenSSL.SSL.Error: [('SSL routines', 'ssl3_read_bytes', 'tlsv1 alert internal error')]>]\n"
     ]
    },
    {
     "name": "stdout",
     "output_type": "stream",
     "text": [
      "site_url https://www.teamprideathletics.com/ site_url_close ['https://www.teamprideathletics.com/', 'https://www.techprintinc.com/', 'https://www.bpgraphics.com/']\n",
      "site_url_close[0] https://www.teamprideathletics.com/\n",
      "ii 639 self.companies[ii] Team Pride Athletics\n",
      "out1 true iout1 511 url https://www.teamprideathletics.com/\n",
      "companies[0] Tec-Ease this url https://www.teamprideathletics.com/\n",
      "out1 true iout1 512 url https://colorproprint.com/\n",
      "companies[0] Industrial Modern Pattern & Mold this url https://colorproprint.com/\n"
     ]
    },
    {
     "name": "stderr",
     "output_type": "stream",
     "text": [
      "2021-11-30 16:41:34 [scrapy.core.engine] DEBUG: Crawled (200) <GET https://www.maxjetclean.com/> (referer: None)\n",
      "2021-11-30 16:41:34 [scrapy.core.engine] DEBUG: Crawled (200) <GET https://bigraphicsinc.com/> (referer: None)\n",
      "2021-11-30 16:41:34 [scrapy.core.engine] DEBUG: Crawled (200) <GET https://www.dpsbanners.com/> (referer: None)\n",
      "2021-11-30 16:41:34 [scrapy.core.scraper] ERROR: Error downloading <GET https://www.impactyp.com>\n",
      "Traceback (most recent call last):\n",
      "  File \"C:\\Users\\MStopa\\AppData\\Local\\Continuum\\anaconda3\\envs\\webscrape\\lib\\site-packages\\scrapy\\core\\downloader\\middleware.py\", line 44, in process_request\n",
      "    return (yield download_func(request=request, spider=spider))\n",
      "twisted.web._newclient.ResponseNeverReceived: [<twisted.python.failure.Failure OpenSSL.SSL.Error: [('SSL routines', 'ssl3_read_bytes', 'tlsv1 alert internal error')]>]\n"
     ]
    },
    {
     "name": "stdout",
     "output_type": "stream",
     "text": [
      "site_url http://www.brochuredistribution.com/ site_url_close ['http://www.brochuredistribution.com/', 'http://www.kodadistribution.com/', 'https://www.burlesondistributing.com']\n",
      "site_url_close[0] http://www.brochuredistribution.com/\n",
      "ii 644 self.companies[ii] Brochure Distribution Services\n",
      "out1 true iout1 513 url http://www.brochuredistribution.com/\n",
      "companies[0] Neighborhood News this url http://www.brochuredistribution.com/\n",
      "site_url https://www.maxjetclean.com/ site_url_close ['https://www.maxjetclean.com/', 'https://www.mastermans.com/', 'https://www.mantle3d.com/']\n",
      "site_url_close[0] https://www.maxjetclean.com/\n",
      "ii 645 self.companies[ii] MTE Systems\n",
      "out1 true iout1 514 url https://www.maxjetclean.com/\n",
      "companies[0] Surf and Ski this url https://www.maxjetclean.com/\n"
     ]
    },
    {
     "name": "stderr",
     "output_type": "stream",
     "text": [
      "2021-11-30 16:41:35 [scrapy.downloadermiddlewares.redirect] DEBUG: Redirecting (301) to <GET https://www.burlesondistributing.com/cgi-bin/eShop/index.cgi> from <GET http://www.burlesondistributing.com/cgi-bin/eShop/index.cgi>\n"
     ]
    },
    {
     "name": "stdout",
     "output_type": "stream",
     "text": [
      "site_url https://bigraphicsinc.com/ site_url_close ['http://www.bigraphicsinc.com', 'https://atigraphics.com/', 'https://bvgraphics.com']\n",
      "site_url_close[0] http://www.bigraphicsinc.com\n",
      "ii 631 self.companies[ii] Bigraphics\n",
      "out1 true iout1 515 url https://bigraphicsinc.com/\n",
      "companies[0] Emax this url https://bigraphicsinc.com/\n"
     ]
    },
    {
     "name": "stderr",
     "output_type": "stream",
     "text": [
      "2021-11-30 16:41:35 [scrapy.core.scraper] DEBUG: Scraped from <200 https://www.dpsbanners.com/>\n",
      "{'Organization': 'DPSBanners',\n",
      " 'fulltext': 'nan',\n",
      " 'searchterm': 'digital printing',\n",
      " 'url': 'https://www.dpsbanners.com/'}\n",
      "2021-11-30 16:41:35 [scrapy.downloadermiddlewares.retry] DEBUG: Retrying <GET http://weststarprecision.com/%20> (failed 1 times): 522 Unknown Status\n",
      "2021-11-30 16:41:36 [scrapy.core.engine] DEBUG: Crawled (200) <GET https://www.graphicimaging.net> (referer: None)\n",
      "2021-11-30 16:41:36 [scrapy.core.engine] DEBUG: Crawled (200) <GET http://sextonadv.com/> (referer: None)\n",
      "2021-11-30 16:41:36 [scrapy.core.engine] DEBUG: Crawled (200) <GET https://quantumink.com> (referer: None)\n"
     ]
    },
    {
     "name": "stdout",
     "output_type": "stream",
     "text": [
      "site_url https://www.dpsbanners.com/ site_url_close ['https://www.dpsbanners.com/', 'https://www.4banner.com/', 'https://www.bannermp.com/']\n",
      "site_url_close[0] https://www.dpsbanners.com/\n",
      "ii 646 self.companies[ii] DPSBanners\n",
      "yielding item digital printing\n",
      "out1 true iout1 516 url https://www.dpsbanners.com/\n",
      "companies[0] Variverge this url https://www.dpsbanners.com/\n"
     ]
    },
    {
     "name": "stderr",
     "output_type": "stream",
     "text": [
      "2021-11-30 16:41:36 [scrapy.downloadermiddlewares.retry] DEBUG: Retrying <GET http://weststarprecision.com/%20> (failed 2 times): 522 Unknown Status\n"
     ]
    },
    {
     "name": "stdout",
     "output_type": "stream",
     "text": [
      "site_url https://www.graphicimaging.net site_url_close ['https://www.graphicimaging.net', 'https://www.ccimaging.net', 'https://www.idgraphics.net']\n",
      "site_url_close[0] https://www.graphicimaging.net\n",
      "ii 649 self.companies[ii] Graphic Imaging Services\n",
      "out1 true iout1 517 url https://www.graphicimaging.net\n",
      "companies[0] AdoramaPix this url https://www.graphicimaging.net\n",
      "site_url http://sextonadv.com/ site_url_close ['http://sextonadv.com/', 'http://www.sheltonadv.com/', 'http://exone.com']\n",
      "site_url_close[0] http://sextonadv.com/\n",
      "ii 650 self.companies[ii] Sexton Advertising\n",
      "out1 true iout1 518 url http://sextonadv.com/\n",
      "companies[0] Display Integration Technologies this url http://sextonadv.com/\n"
     ]
    },
    {
     "name": "stderr",
     "output_type": "stream",
     "text": [
      "2021-11-30 16:41:37 [scrapy.core.engine] DEBUG: Crawled (200) <GET https://www.printingdepotusa.com/> (referer: None)\n"
     ]
    },
    {
     "name": "stdout",
     "output_type": "stream",
     "text": [
      "site_url https://quantumink.com site_url_close ['https://quantumink.com', 'http://quantumdigital.com', 'https://www.quantumco.com/']\n",
      "site_url_close[0] https://quantumink.com\n",
      "ii 647 self.companies[ii] Quantum Ink Company\n",
      "out1 true iout1 519 url https://quantumink.com\n",
      "companies[0] ChromaSource this url https://quantumink.com\n"
     ]
    },
    {
     "name": "stderr",
     "output_type": "stream",
     "text": [
      "2021-11-30 16:41:38 [scrapy.core.engine] DEBUG: Crawled (200) <GET https://pubgraphics.com> (referer: None)\n"
     ]
    },
    {
     "name": "stdout",
     "output_type": "stream",
     "text": [
      "site_url https://www.printingdepotusa.com/ site_url_close ['https://www.printingdepotusa.com/', 'http://www.printingconcepts.com/', 'https://www.printingnews.com']\n",
      "site_url_close[0] https://www.printingdepotusa.com/\n",
      "ii 648 self.companies[ii] Printing Depot\n",
      "out1 true iout1 520 url https://www.printingdepotusa.com/\n",
      "companies[0] Barewalls.com this url https://www.printingdepotusa.com/\n",
      "site_url https://pubgraphics.com site_url_close ['https://pubgraphics.com', 'https://bvgraphics.com', 'https://reprographics.com']\n",
      "site_url_close[0] https://pubgraphics.com\n",
      "ii 651 self.companies[ii] Publishers'​ Graphics\n",
      "out1 false iout2 69 url https://pubgraphics.com\n",
      "companies[0] NuPak Medical this url https://pubgraphics.com\n"
     ]
    },
    {
     "name": "stderr",
     "output_type": "stream",
     "text": [
      "2021-11-30 16:41:39 [scrapy.core.engine] DEBUG: Crawled (200) <GET https://www.mackeyprinting.com> (referer: None)\n"
     ]
    },
    {
     "name": "stdout",
     "output_type": "stream",
     "text": [
      "site_url https://www.mackeyprinting.com site_url_close ['http://www.mackeyprinting.com/', 'https://www.caseyprinting.com', 'https://www.feyprinting.com/']\n",
      "site_url_close[0] http://www.mackeyprinting.com/\n",
      "ii 641 self.companies[ii] Mackey Printing Services\n",
      "out1 true iout1 521 url https://www.mackeyprinting.com\n",
      "companies[0] Visron Design this url https://www.mackeyprinting.com\n"
     ]
    },
    {
     "name": "stderr",
     "output_type": "stream",
     "text": [
      "2021-11-30 16:41:41 [scrapy.core.engine] DEBUG: Crawled (200) <GET https://yourplanb.com/> (referer: None)\n"
     ]
    },
    {
     "name": "stdout",
     "output_type": "stream",
     "text": [
      "site_url https://yourplanb.com/ site_url_close ['http://yourplanb.com/', 'https://blowuplab.com/', 'http://countryplank.com/']\n",
      "site_url_close[0] http://yourplanb.com/\n",
      "ii 640 self.companies[ii] Your Plan B Company\n",
      "out1 true iout1 522 url https://yourplanb.com/\n",
      "companies[0] WaterBrook Multnomah Publishing Group this url https://yourplanb.com/\n"
     ]
    },
    {
     "name": "stderr",
     "output_type": "stream",
     "text": [
      "2021-11-30 16:41:44 [scrapy.core.engine] DEBUG: Crawled (200) <GET https://www.burlesondistributing.com/cgi-bin/eShop/index.cgi> (referer: None)\n"
     ]
    },
    {
     "name": "stdout",
     "output_type": "stream",
     "text": [
      "site_url https://www.burlesondistributing.com/cgi-bin/eShop/index.cgi site_url_close ['https://www.burlesondistributing.com', 'http://www.brochuredistribution.com/', 'https://www.metroplexdistributing.com']\n",
      "site_url_close[0] https://www.burlesondistributing.com\n",
      "ii 643 self.companies[ii] BDC\n",
      "out1 true iout1 523 url https://www.burlesondistributing.com/cgi-bin/eShop/index.cgi\n",
      "companies[0] EdgarAgents this url https://www.burlesondistributing.com/cgi-bin/eShop/index.cgi\n"
     ]
    },
    {
     "name": "stderr",
     "output_type": "stream",
     "text": [
      "2021-11-30 16:41:45 [scrapy.downloadermiddlewares.retry] ERROR: Gave up retrying <GET http://3deinc.com> (failed 3 times): DNS lookup failed: no results for hostname lookup: 3deinc.com.\n",
      "2021-11-30 16:41:45 [scrapy.core.scraper] ERROR: Error downloading <GET http://3deinc.com>\n",
      "Traceback (most recent call last):\n",
      "  File \"C:\\Users\\MStopa\\AppData\\Local\\Continuum\\anaconda3\\envs\\webscrape\\lib\\site-packages\\twisted\\internet\\defer.py\", line 1416, in _inlineCallbacks\n",
      "    result = result.throwExceptionIntoGenerator(g)\n",
      "  File \"C:\\Users\\MStopa\\AppData\\Local\\Continuum\\anaconda3\\envs\\webscrape\\lib\\site-packages\\twisted\\python\\failure.py\", line 512, in throwExceptionIntoGenerator\n",
      "    return g.throw(self.type, self.value, self.tb)\n",
      "  File \"C:\\Users\\MStopa\\AppData\\Local\\Continuum\\anaconda3\\envs\\webscrape\\lib\\site-packages\\scrapy\\core\\downloader\\middleware.py\", line 44, in process_request\n",
      "    return (yield download_func(request=request, spider=spider))\n",
      "  File \"C:\\Users\\MStopa\\AppData\\Local\\Continuum\\anaconda3\\envs\\webscrape\\lib\\site-packages\\twisted\\internet\\defer.py\", line 654, in _runCallbacks\n",
      "    current.result = callback(current.result, *args, **kw)\n",
      "  File \"C:\\Users\\MStopa\\AppData\\Local\\Continuum\\anaconda3\\envs\\webscrape\\lib\\site-packages\\twisted\\internet\\endpoints.py\", line 982, in startConnectionAttempts\n",
      "    \"no results for hostname lookup: {}\".format(self._hostStr)\n",
      "twisted.internet.error.DNSLookupError: DNS lookup failed: no results for hostname lookup: 3deinc.com.\n",
      "2021-11-30 16:41:45 [scrapy.core.engine] DEBUG: Crawled (200) <GET https://www.somepig.com/> (referer: None)\n",
      "2021-11-30 16:41:45 [scrapy.core.engine] DEBUG: Crawled (200) <GET http://www.directsigns.com/> (referer: None)\n",
      "2021-11-30 16:41:45 [scrapy.downloadermiddlewares.redirect] DEBUG: Redirecting (301) to <GET https://www.uslabel.net/> from <GET http://www.uslabel.net/>\n"
     ]
    },
    {
     "name": "stdout",
     "output_type": "stream",
     "text": [
      "site_url https://www.somepig.com/ site_url_close ['https://www.somepig.com/', 'https://www.cosomedia.com/', 'https://www.shopgpa.com/']\n",
      "site_url_close[0] https://www.somepig.com/\n",
      "ii 652 self.companies[ii] Some Pig Information Design\n",
      "out1 true iout1 524 url https://www.somepig.com/\n",
      "companies[0] M&M Screen Printing and Embroidery this url https://www.somepig.com/\n"
     ]
    },
    {
     "name": "stderr",
     "output_type": "stream",
     "text": [
      "2021-11-30 16:41:46 [scrapy.downloadermiddlewares.retry] DEBUG: Retrying <GET https://www.ravinprinting.com/> (failed 1 times): [<twisted.python.failure.Failure twisted.internet.error.ConnectionLost: Connection to the other side was lost in a non-clean fashion: Connection lost.>]\n",
      "2021-11-30 16:41:46 [scrapy.downloadermiddlewares.retry] ERROR: Gave up retrying <GET http://weststarprecision.com/%20> (failed 3 times): 522 Unknown Status\n",
      "2021-11-30 16:41:46 [scrapy.core.engine] DEBUG: Crawled (522) <GET http://weststarprecision.com/%20> (referer: None)\n",
      "2021-11-30 16:41:46 [scrapy.core.engine] DEBUG: Crawled (200) <GET http://www.endlessedge.com/> (referer: None)\n"
     ]
    },
    {
     "name": "stdout",
     "output_type": "stream",
     "text": [
      "site_url http://www.directsigns.com/ site_url_close ['http://www.directsigns.com/', 'http://www.hornetsigns.com/', 'https://www.deesign.com/']\n",
      "site_url_close[0] http://www.directsigns.com/\n",
      "ii 653 self.companies[ii] Direct Signs & Printing\n",
      "out1 true iout1 525 url http://www.directsigns.com/\n",
      "companies[0] TRENDESIGN this url http://www.directsigns.com/\n"
     ]
    },
    {
     "name": "stderr",
     "output_type": "stream",
     "text": [
      "2021-11-30 16:41:46 [scrapy.spidermiddlewares.httperror] INFO: Ignoring response <522 http://weststarprecision.com/%20>: HTTP status code is not handled or not allowed\n",
      "2021-11-30 16:41:47 [scrapy.downloadermiddlewares.retry] DEBUG: Retrying <GET http://www.cprdirect.com/> (failed 1 times): [<twisted.python.failure.Failure twisted.internet.error.ConnectionLost: Connection to the other side was lost in a non-clean fashion.>]\n",
      "2021-11-30 16:41:47 [scrapy.downloadermiddlewares.redirect] DEBUG: Redirecting (301) to <GET https://www.hornetsigns.com/> from <GET http://www.hornetsigns.com/>\n",
      "2021-11-30 16:41:47 [scrapy.core.engine] DEBUG: Crawled (200) <GET https://www.uslabel.net/> (referer: None)\n",
      "2021-11-30 16:41:47 [scrapy.core.engine] DEBUG: Crawled (200) <GET https://www.aps3d.com/> (referer: None)\n",
      "2021-11-30 16:41:47 [scrapy.core.engine] DEBUG: Crawled (200) <GET https://www.printconnectiondenver.com/> (referer: None)\n"
     ]
    },
    {
     "name": "stdout",
     "output_type": "stream",
     "text": [
      "site_url http://www.endlessedge.com/ site_url_close ['http://www.endlessedge.com/', 'https://www.ndeg.com/', 'http://www.theledger.com']\n",
      "site_url_close[0] http://www.endlessedge.com/\n",
      "ii 658 self.companies[ii] Endless Edge\n",
      "out1 true iout1 526 url http://www.endlessedge.com/\n",
      "companies[0] Parle this url http://www.endlessedge.com/\n"
     ]
    },
    {
     "name": "stderr",
     "output_type": "stream",
     "text": [
      "2021-11-30 16:41:47 [scrapy.downloadermiddlewares.retry] DEBUG: Retrying <GET https://www.ravinprinting.com/> (failed 2 times): [<twisted.python.failure.Failure twisted.internet.error.ConnectionLost: Connection to the other side was lost in a non-clean fashion: Connection lost.>]\n",
      "2021-11-30 16:41:47 [scrapy.downloadermiddlewares.redirect] DEBUG: Redirecting (301) to <GET https://www.colordepot.net/> from <GET http://www.colordepot.net/>\n"
     ]
    },
    {
     "name": "stdout",
     "output_type": "stream",
     "text": [
      "site_url https://www.uslabel.net/ site_url_close ['http://www.uslabel.net/', 'https://www.expresslabel.net', 'https://www.mapl.net/']\n",
      "site_url_close[0] http://www.uslabel.net/\n",
      "ii 654 self.companies[ii] uslabel.net\n",
      "out1 true iout1 527 url https://www.uslabel.net/\n",
      "companies[0] Speedy Signs this url https://www.uslabel.net/\n",
      "site_url https://www.aps3d.com/ site_url_close ['https://www.nwa3d.com/', 'https://www.raise3d.com', 'https://www.azul3d.com/']\n",
      "site_url_close[0] https://www.nwa3d.com/\n",
      "ii 3060 self.companies[ii] NWA3D\n",
      "out1 true iout1 528 url https://www.aps3d.com/\n",
      "companies[0] Seeds Printing this url https://www.aps3d.com/\n"
     ]
    },
    {
     "name": "stderr",
     "output_type": "stream",
     "text": [
      "2021-11-30 16:41:48 [scrapy.core.scraper] DEBUG: Scraped from <200 https://www.printconnectiondenver.com/>\n",
      "{'Organization': 'The Print Connection',\n",
      " 'fulltext': 'nan',\n",
      " 'searchterm': 'digital printing',\n",
      " 'url': 'https://www.printconnectiondenver.com/'}\n",
      "2021-11-30 16:41:48 [scrapy.core.engine] DEBUG: Crawled (200) <GET https://grandimageinc.com/> (referer: None)\n",
      "2021-11-30 16:41:48 [scrapy.core.engine] DEBUG: Crawled (200) <GET https://www.notableimpressions.com/> (referer: None)\n",
      "2021-11-30 16:41:48 [scrapy.core.engine] DEBUG: Crawled (200) <GET http://www.palettecommunicationsinc.com> (referer: None)\n",
      "2021-11-30 16:41:48 [scrapy.core.engine] DEBUG: Crawled (200) <GET https://www.roxunited.com> (referer: None)\n"
     ]
    },
    {
     "name": "stdout",
     "output_type": "stream",
     "text": [
      "site_url https://www.printconnectiondenver.com/ site_url_close ['https://www.printconnectiondenver.com/', 'http://www.printconnect.com', 'https://www.printgreener.com/']\n",
      "site_url_close[0] https://www.printconnectiondenver.com/\n",
      "ii 656 self.companies[ii] The Print Connection\n",
      "yielding item digital printing\n",
      "out1 true iout1 529 url https://www.printconnectiondenver.com/\n",
      "companies[0] Generic Systems this url https://www.printconnectiondenver.com/\n"
     ]
    },
    {
     "name": "stderr",
     "output_type": "stream",
     "text": [
      "2021-11-30 16:41:49 [scrapy.core.engine] DEBUG: Crawled (200) <GET http://www.bci-comms.com/> (referer: None)\n"
     ]
    },
    {
     "name": "stdout",
     "output_type": "stream",
     "text": [
      "site_url https://grandimageinc.com/ site_url_close ['https://www.grandimageinc.com', 'https://www.admagic.com', 'https://sabaagency.com/']\n",
      "site_url_close[0] https://www.grandimageinc.com\n",
      "ii 642 self.companies[ii] Grand Image\n",
      "out1 true iout1 530 url https://grandimageinc.com/\n",
      "companies[0] B.E. Publishing this url https://grandimageinc.com/\n",
      "site_url https://www.notableimpressions.com/ site_url_close ['https://www.notableimpressions.com/', 'https://www.dataimpressions.com', 'http://www.labelimpressions.com']\n",
      "site_url_close[0] https://www.notableimpressions.com/\n",
      "ii 659 self.companies[ii] Notable Impressions\n",
      "out1 true iout1 531 url https://www.notableimpressions.com/\n",
      "companies[0] Bullseye Creative this url https://www.notableimpressions.com/\n",
      "site_url http://www.palettecommunicationsinc.com site_url_close ['http://www.palettecommunicationsinc.com', 'http://www.prairiefirecommunications.com/', 'https://www.dgicommunications.com/']\n",
      "site_url_close[0] http://www.palettecommunicationsinc.com\n",
      "ii 664 self.companies[ii] Palette Communications\n",
      "out1 false iout2 70 url http://www.palettecommunicationsinc.com\n",
      "companies[0] Southwest Sign this url http://www.palettecommunicationsinc.com\n"
     ]
    },
    {
     "name": "stderr",
     "output_type": "stream",
     "text": [
      "2021-11-30 16:41:50 [scrapy.core.engine] DEBUG: Crawled (200) <GET http://signsetcweb.com/> (referer: None)\n",
      "2021-11-30 16:41:50 [scrapy.core.engine] DEBUG: Crawled (200) <GET https://www.icink.com/> (referer: None)\n",
      "2021-11-30 16:41:50 [scrapy.core.engine] DEBUG: Crawled (200) <GET https://www.hornetsigns.com/> (referer: None)\n",
      "2021-11-30 16:41:50 [scrapy.core.engine] DEBUG: Crawled (200) <GET https://www.zubiewear.com> (referer: None)\n",
      "2021-11-30 16:41:50 [scrapy.downloadermiddlewares.retry] DEBUG: Retrying <GET https://www.onpressediscovery.com> (failed 1 times): [<twisted.python.failure.Failure OpenSSL.SSL.Error: [('SSL routines', 'ssl3_read_bytes', 'tlsv1 alert internal error')]>]\n"
     ]
    },
    {
     "name": "stdout",
     "output_type": "stream",
     "text": [
      "site_url https://www.roxunited.com site_url_close ['https://www.roxunited.com', 'https://www.crepsunited.com', 'https://www.unitedgmg.com']\n",
      "site_url_close[0] https://www.roxunited.com\n",
      "ii 657 self.companies[ii] ROX United\n",
      "out1 true iout1 532 url https://www.roxunited.com\n",
      "companies[0] MDF Tool Corporation this url https://www.roxunited.com\n"
     ]
    },
    {
     "name": "stderr",
     "output_type": "stream",
     "text": [
      "2021-11-30 16:41:51 [scrapy.core.engine] DEBUG: Crawled (200) <GET https://creativedepartmentunlimited.com/> (referer: None)\n",
      "2021-11-30 16:41:51 [scrapy.core.engine] DEBUG: Crawled (200) <GET https://www.kennytees.com/> (referer: None)\n",
      "2021-11-30 16:41:51 [scrapy.core.engine] DEBUG: Crawled (200) <GET https://cwsoa.com/> (referer: None)\n",
      "2021-11-30 16:41:51 [scrapy.core.engine] DEBUG: Crawled (200) <GET http://www.americanautoart.com/> (referer: None)\n",
      "2021-11-30 16:41:51 [scrapy.downloadermiddlewares.retry] DEBUG: Retrying <GET https://tonertiger.com> (failed 1 times): [<twisted.python.failure.Failure OpenSSL.SSL.Error: [('SSL routines', 'ssl3_read_bytes', 'tlsv1 alert internal error')]>]\n"
     ]
    },
    {
     "name": "stdout",
     "output_type": "stream",
     "text": [
      "site_url http://www.bci-comms.com/ site_url_close ['http://www.bci-comms.com/', 'http://www.lsccom.com/', 'http://www.ais-co.com/']\n",
      "site_url_close[0] http://www.bci-comms.com/\n",
      "ii 668 self.companies[ii] Broadcast Communications\n",
      "out1 true iout1 533 url http://www.bci-comms.com/\n",
      "companies[0] CPL Advertising this url http://www.bci-comms.com/\n",
      "site_url http://signsetcweb.com/ site_url_close ['http://signsetcweb.com/', 'https://signstore.com/', 'http://npcweb.com']\n",
      "site_url_close[0] http://signsetcweb.com/\n",
      "ii 669 self.companies[ii] Signs Etc.\n",
      "out1 true iout1 534 url http://signsetcweb.com/\n",
      "companies[0] James Litho this url http://signsetcweb.com/\n",
      "site_url https://www.icink.com/ site_url_close ['https://www.icink.com/', 'https://www.cicink.com/', 'https://www.iccink.com']\n",
      "site_url_close[0] https://www.icink.com/\n",
      "ii 663 self.companies[ii] I.C. Ink\n",
      "out1 true iout1 535 url https://www.icink.com/\n",
      "companies[0] On Display this url https://www.icink.com/\n",
      "site_url https://www.hornetsigns.com/ site_url_close ['http://www.hornetsigns.com/', 'https://www.corwindesign.com/', 'http://www.directsigns.com/']\n",
      "site_url_close[0] http://www.hornetsigns.com/\n",
      "ii 660 self.companies[ii] Hornet Signs\n",
      "out1 true iout1 536 url https://www.hornetsigns.com/\n",
      "companies[0] Chicago Producers this url https://www.hornetsigns.com/\n"
     ]
    },
    {
     "name": "stderr",
     "output_type": "stream",
     "text": [
      "2021-11-30 16:41:52 [scrapy.core.scraper] DEBUG: Scraped from <200 https://www.zubiewear.com>\n",
      "{'Organization': 'Zubie Wear',\n",
      " 'fulltext': 'nan',\n",
      " 'searchterm': 'screen printing',\n",
      " 'url': 'https://www.zubiewear.com'}\n",
      "2021-11-30 16:41:52 [scrapy.core.engine] DEBUG: Crawled (200) <GET http://www.mdgpop.com/> (referer: None)\n",
      "2021-11-30 16:41:52 [scrapy.core.engine] DEBUG: Crawled (200) <GET https://www.art-worx.us/> (referer: None)\n"
     ]
    },
    {
     "name": "stdout",
     "output_type": "stream",
     "text": [
      "site_url https://www.zubiewear.com site_url_close ['https://www.zubiewear.com', 'https://www.ewizer.com/', 'https://www.bibbero.com']\n",
      "site_url_close[0] https://www.zubiewear.com\n",
      "ii 666 self.companies[ii] Zubie Wear\n",
      "yielding item screen printing\n",
      "out1 true iout1 537 url https://www.zubiewear.com\n",
      "companies[0] 123Posters this url https://www.zubiewear.com\n",
      "site_url https://creativedepartmentunlimited.com/ site_url_close ['https://creativedepartmentunlimited.com/', 'https://paperunlimited.com/', 'https://imprints-unlimited.com/']\n",
      "site_url_close[0] https://creativedepartmentunlimited.com/\n",
      "ii 671 self.companies[ii] Creative Department Unlimited\n",
      "out1 true iout1 538 url https://creativedepartmentunlimited.com/\n",
      "companies[0] The Netkitchen this url https://creativedepartmentunlimited.com/\n",
      "site_url https://www.kennytees.com/ site_url_close ['https://www.kennytees.com/', 'https://www.nebs.com/', 'https://www.integdoes.com/']\n",
      "site_url_close[0] https://www.kennytees.com/\n",
      "ii 665 self.companies[ii] Kenny T's\n",
      "out1 true iout1 539 url https://www.kennytees.com/\n",
      "companies[0] Milano Digital this url https://www.kennytees.com/\n",
      "site_url https://cwsoa.com/ site_url_close ['https://cwsoa.com/', 'https://caroba.com/', 'https://snco.com/']\n",
      "site_url_close[0] https://cwsoa.com/\n",
      "ii 667 self.companies[ii] Community Wellness and Safety of Arizona\n",
      "out1 false iout2 71 url https://cwsoa.com/\n",
      "companies[0] Remington Laminations, Incorporated this url https://cwsoa.com/\n"
     ]
    },
    {
     "name": "stderr",
     "output_type": "stream",
     "text": [
      "2021-11-30 16:41:54 [scrapy.core.engine] DEBUG: Crawled (200) <GET https://www.colordepot.net/> (referer: None)\n",
      "2021-11-30 16:41:54 [scrapy.core.engine] DEBUG: Crawled (200) <GET http://www.the-mad-house.com/> (referer: None)\n"
     ]
    },
    {
     "name": "stdout",
     "output_type": "stream",
     "text": [
      "site_url http://www.americanautoart.com/ site_url_close ['http://www.americanautoart.com/', 'http://www.americanortho.com', 'https://www.americanframe.com/']\n",
      "site_url_close[0] http://www.americanautoart.com/\n",
      "ii 675 self.companies[ii] Flash Card\n",
      "out1 true iout1 540 url http://www.americanautoart.com/\n",
      "companies[0] MIR Printing & Graphics this url http://www.americanautoart.com/\n",
      "site_url http://www.mdgpop.com/ site_url_close ['http://www.mdgpop.com/', 'http://www.dg3.com/', 'http://www.jmdmfg.com/']\n",
      "site_url_close[0] http://www.mdgpop.com/\n",
      "ii 674 self.companies[ii] Millennium Signs & Display\n",
      "out1 true iout1 541 url http://www.mdgpop.com/\n",
      "companies[0] Dempsey GRAPHICS this url http://www.mdgpop.com/\n",
      "site_url https://www.art-worx.us/ site_url_close ['https://www.art-worx.us/', 'https://www.ntwo.com/', 'https://www.ardesign.us/']\n",
      "site_url_close[0] https://www.art-worx.us/\n",
      "ii 673 self.companies[ii] Artworx\n",
      "out1 true iout1 542 url https://www.art-worx.us/\n",
      "companies[0] Triton Imaging & Design Studio this url https://www.art-worx.us/\n"
     ]
    },
    {
     "name": "stderr",
     "output_type": "stream",
     "text": [
      "2021-11-30 16:41:55 [scrapy.core.scraper] DEBUG: Scraped from <200 https://www.colordepot.net/>\r\n",
      "{'Organization': 'Color Depot',\n",
      " 'fulltext': 'nan',\n",
      " 'searchterm': 'digital printing',\n",
      " 'url': 'https://www.colordepot.net/'}\n"
     ]
    },
    {
     "name": "stdout",
     "output_type": "stream",
     "text": [
      "site_url https://www.colordepot.net/ site_url_close ['http://www.colordepot.net/', 'https://www.colorconcepts.nl/', 'https://www.akcopy.net/']\n",
      "site_url_close[0] http://www.colordepot.net/\n",
      "ii 661 self.companies[ii] Color Depot\n",
      "yielding item digital printing\n"
     ]
    },
    {
     "name": "stderr",
     "output_type": "stream",
     "text": [
      "2021-11-30 16:41:56 [scrapy.downloadermiddlewares.redirect] DEBUG: Redirecting (301) to <GET https://www.plicards.com/> from <GET https://go.plicards.com/HarvardCardSystems_PLI>\n",
      "2021-11-30 16:41:56 [scrapy.downloadermiddlewares.retry] DEBUG: Retrying <GET http://www.cprdirect.com/> (failed 2 times): [<twisted.python.failure.Failure twisted.internet.error.ConnectionLost: Connection to the other side was lost in a non-clean fashion.>]\n",
      "2021-11-30 16:41:56 [scrapy.downloadermiddlewares.redirect] DEBUG: Redirecting (301) to <GET https://www.indypainting.net/> from <GET http://www.indypainting.net/>\n"
     ]
    },
    {
     "name": "stdout",
     "output_type": "stream",
     "text": [
      "site_url http://www.the-mad-house.com/ site_url_close ['http://www.the-mad-house.com/', 'http://www.tec-ease.com', 'http://www.noteads.com/']\n",
      "site_url_close[0] http://www.the-mad-house.com/\n",
      "ii 676 self.companies[ii] The MAD House\n",
      "out1 false iout2 72 url http://www.the-mad-house.com/\n",
      "companies[0] Color X this url http://www.the-mad-house.com/\n",
      "out1 true iout1 543 url https://www.colordepot.net/\n",
      "companies[0] WestStar Precision this url https://www.colordepot.net/\n"
     ]
    },
    {
     "name": "stderr",
     "output_type": "stream",
     "text": [
      "2021-11-30 16:41:56 [scrapy.core.engine] DEBUG: Crawled (200) <GET https://totalims.com> (referer: None)\n",
      "2021-11-30 16:41:56 [scrapy.core.engine] DEBUG: Crawled (200) <GET https://athomearkansas.com> (referer: None)\n",
      "2021-11-30 16:41:56 [scrapy.downloadermiddlewares.redirect] DEBUG: Redirecting (301) to <GET http://www.institchesembroidery.net/index.html> from <GET http://www.institchesembroidery.net>\n",
      "2021-11-30 16:41:56 [scrapy.downloadermiddlewares.redirect] DEBUG: Redirecting (301) to <GET https://myriadmedia.com/> from <GET http://www.myriadmedia.com>\n"
     ]
    },
    {
     "name": "stdout",
     "output_type": "stream",
     "text": [
      "site_url https://totalims.com site_url_close ['https://totalims.com', 'https://gototags.com', 'https://jlsms.com']\n",
      "site_url_close[0] https://totalims.com\n",
      "ii 684 self.companies[ii] Usio Output Solutions\n",
      "out1 true iout1 544 url https://totalims.com\n",
      "companies[0] MANIFESTO this url https://totalims.com\n"
     ]
    },
    {
     "name": "stderr",
     "output_type": "stream",
     "text": [
      "2021-11-30 16:41:57 [scrapy.downloadermiddlewares.redirect] DEBUG: Redirecting (301) to <GET https://www.levers.com/> from <GET http://www.levers.com/>\n",
      "2021-11-30 16:41:57 [scrapy.downloadermiddlewares.redirect] DEBUG: Redirecting (302) to <GET https://www.parrotcolor.com/store/home.php> from <GET https://www.parrotcolor.com/>\n",
      "2021-11-30 16:41:57 [scrapy.downloadermiddlewares.retry] DEBUG: Retrying <GET https://www.couponpages.com> (failed 1 times): [<twisted.python.failure.Failure twisted.internet.error.ConnectionLost: Connection to the other side was lost in a non-clean fashion: Connection lost.>]\n",
      "2021-11-30 16:41:57 [scrapy.downloadermiddlewares.retry] DEBUG: Retrying <GET https://www.onpressediscovery.com> (failed 2 times): [<twisted.python.failure.Failure OpenSSL.SSL.Error: [('SSL routines', 'ssl3_read_bytes', 'tlsv1 alert internal error')]>]\n",
      "2021-11-30 16:41:57 [scrapy.downloadermiddlewares.redirect] DEBUG: Redirecting (301) to <GET https://www.strategicmaterials.com/> from <GET http://www.strategicmaterials.com>\n"
     ]
    },
    {
     "name": "stdout",
     "output_type": "stream",
     "text": [
      "site_url https://athomearkansas.com site_url_close ['https://athomearkansas.com', 'https://zapomarks.com', 'https://customerscanvas.com/']\n",
      "site_url_close[0] https://athomearkansas.com\n",
      "ii 679 self.companies[ii] At Home in Arkansas\n",
      "out1 true iout1 545 url https://athomearkansas.com\n",
      "companies[0] nCore this url https://athomearkansas.com\n"
     ]
    },
    {
     "name": "stderr",
     "output_type": "stream",
     "text": [
      "2021-11-30 16:41:57 [scrapy.core.engine] DEBUG: Crawled (200) <GET https://gingalley.com/> (referer: None)\n",
      "2021-11-30 16:41:57 [scrapy.core.engine] DEBUG: Crawled (200) <GET https://networkfinancialprint.com> (referer: None)\n",
      "2021-11-30 16:41:58 [scrapy.core.engine] DEBUG: Crawled (200) <GET https://printerstop.com> (referer: None)\n"
     ]
    },
    {
     "name": "stdout",
     "output_type": "stream",
     "text": [
      "site_url https://gingalley.com/ site_url_close ['https://gingalley.com/', 'https://gingalley.com/', 'https://regalline.com/']\n",
      "site_url_close[0] https://gingalley.com/\n",
      "ii 480 self.companies[ii] GINGALLEY\n",
      "out1 true iout1 546 url https://gingalley.com/\n",
      "companies[0] DIS direct this url https://gingalley.com/\n"
     ]
    },
    {
     "name": "stderr",
     "output_type": "stream",
     "text": [
      "2021-11-30 16:41:58 [scrapy.downloadermiddlewares.retry] ERROR: Gave up retrying <GET https://www.ravinprinting.com/> (failed 3 times): [<twisted.python.failure.Failure twisted.internet.error.ConnectionLost: Connection to the other side was lost in a non-clean fashion: Connection lost.>]\n"
     ]
    },
    {
     "name": "stdout",
     "output_type": "stream",
     "text": [
      "site_url https://networkfinancialprint.com site_url_close ['https://networkfinancialprint.com', 'https://oneilprint.com/', 'https://www.fineprint.com']\n",
      "site_url_close[0] https://networkfinancialprint.com\n",
      "ii 681 self.companies[ii] Network Financial Printing\n",
      "out1 true iout1 547 url https://networkfinancialprint.com\n",
      "companies[0] LA Flyers this url https://networkfinancialprint.com\n"
     ]
    },
    {
     "name": "stderr",
     "output_type": "stream",
     "text": [
      "2021-11-30 16:41:59 [scrapy.downloadermiddlewares.redirect] DEBUG: Redirecting (301) to <GET https://www.houseofmagnets.com/> from <GET http://www.houseofmagnets.com/>\n",
      "2021-11-30 16:41:59 [scrapy.core.scraper] ERROR: Error downloading <GET https://www.ravinprinting.com/>\n",
      "Traceback (most recent call last):\n",
      "  File \"C:\\Users\\MStopa\\AppData\\Local\\Continuum\\anaconda3\\envs\\webscrape\\lib\\site-packages\\scrapy\\core\\downloader\\middleware.py\", line 44, in process_request\n",
      "    return (yield download_func(request=request, spider=spider))\n",
      "twisted.web._newclient.ResponseNeverReceived: [<twisted.python.failure.Failure twisted.internet.error.ConnectionLost: Connection to the other side was lost in a non-clean fashion: Connection lost.>]\n",
      "2021-11-30 16:41:59 [scrapy.downloadermiddlewares.retry] DEBUG: Retrying <GET https://tonertiger.com> (failed 2 times): [<twisted.python.failure.Failure OpenSSL.SSL.Error: [('SSL routines', 'ssl3_read_bytes', 'tlsv1 alert internal error')]>]\n"
     ]
    },
    {
     "name": "stdout",
     "output_type": "stream",
     "text": [
      "site_url https://printerstop.com site_url_close ['https://printerstop.com', 'https://pjprinters.com/', 'https://llprinters.com/']\n",
      "site_url_close[0] https://printerstop.com\n",
      "ii 689 self.companies[ii] PrinterStop\n",
      "out1 true iout1 548 url https://printerstop.com\n",
      "companies[0] Fleet Wrap HQ this url https://printerstop.com\n"
     ]
    },
    {
     "name": "stderr",
     "output_type": "stream",
     "text": [
      "2021-11-30 16:41:59 [scrapy.downloadermiddlewares.redirect] DEBUG: Redirecting (301) to <GET http://www.periscope.com/> from <GET http://periscope.com>\n",
      "2021-11-30 16:41:59 [scrapy.downloadermiddlewares.redirect] DEBUG: Redirecting (301) to <GET https://prempack.com/> from <GET http://prempack.com>\n",
      "2021-11-30 16:42:01 [scrapy.core.engine] DEBUG: Crawled (200) <GET https://www.indypainting.net/> (referer: None)\n"
     ]
    },
    {
     "name": "stdout",
     "output_type": "stream",
     "text": [
      "site_url https://www.indypainting.net/ site_url_close ['http://www.indypainting.net/', 'https://www.nsprinting.net', 'https://www.rlprinting.net/']\n",
      "site_url_close[0] http://www.indypainting.net/\n",
      "ii 682 self.companies[ii] Indy Painting and Logo Design\n",
      "out1 true iout1 549 url https://www.indypainting.net/\n",
      "companies[0] Perseus Books Group this url https://www.indypainting.net/\n"
     ]
    },
    {
     "name": "stderr",
     "output_type": "stream",
     "text": [
      "2021-11-30 16:42:02 [scrapy.downloadermiddlewares.redirect] DEBUG: Redirecting (301) to <GET https://www.acument.com/> from <GET http://www.acument.com/>\n",
      "2021-11-30 16:42:02 [scrapy.downloadermiddlewares.redirect] DEBUG: Redirecting (301) to <GET https://www.odev.com/> from <GET http://www.odev.com>\n",
      "2021-11-30 16:42:02 [scrapy.downloadermiddlewares.redirect] DEBUG: Redirecting (301) to <GET http://www.smi.com/> from <GET https://www.strategicmaterials.com/>\n",
      "2021-11-30 16:42:03 [scrapy.core.engine] DEBUG: Crawled (200) <GET http://www.allamericanpublishing.com/> (referer: None)\n"
     ]
    },
    {
     "name": "stdout",
     "output_type": "stream",
     "text": [
      "site_url http://www.allamericanpublishing.com/ site_url_close ['http://www.allamericanpublishing.com/', 'http://www.raiderpublishing.com', 'https://www.rowlandpublishing.com/']\n",
      "site_url_close[0] http://www.allamericanpublishing.com/\n",
      "ii 677 self.companies[ii] All-American Sports Posters\n",
      "out1 false iout2 73 url http://www.allamericanpublishing.com/\n",
      "companies[0] Kwixar this url http://www.allamericanpublishing.com/\n"
     ]
    },
    {
     "name": "stderr",
     "output_type": "stream",
     "text": [
      "2021-11-30 16:42:03 [scrapy.core.engine] DEBUG: Crawled (200) <GET https://www.plicards.com/> (referer: None)\n",
      "2021-11-30 16:42:03 [scrapy.downloadermiddlewares.redirect] DEBUG: Redirecting (301) to <GET https://www.forecast3d.com/> from <GET http://www.forecast3d.com>\n"
     ]
    },
    {
     "name": "stdout",
     "output_type": "stream",
     "text": [
      "site_url https://www.plicards.com/ site_url_close ['https://www.plicards.com', 'https://www.plicards.com', 'http://www.cpscards.com/']\n",
      "site_url_close[0] https://www.plicards.com\n",
      "ii 1185 self.companies[ii] PLI Card Marketing Solutions\n",
      "out1 true iout1 550 url https://www.plicards.com/\n",
      "companies[0] Nu-Art Graphics this url https://www.plicards.com/\n"
     ]
    },
    {
     "name": "stderr",
     "output_type": "stream",
     "text": [
      "2021-11-30 16:42:06 [scrapy.downloadermiddlewares.retry] ERROR: Gave up retrying <GET http://www.cprdirect.com/> (failed 3 times): [<twisted.python.failure.Failure twisted.internet.error.ConnectionLost: Connection to the other side was lost in a non-clean fashion.>]\n",
      "2021-11-30 16:42:06 [scrapy.core.scraper] ERROR: Error downloading <GET http://www.cprdirect.com/>\n",
      "Traceback (most recent call last):\n",
      "  File \"C:\\Users\\MStopa\\AppData\\Local\\Continuum\\anaconda3\\envs\\webscrape\\lib\\site-packages\\scrapy\\core\\downloader\\middleware.py\", line 44, in process_request\n",
      "    return (yield download_func(request=request, spider=spider))\n",
      "twisted.web._newclient.ResponseNeverReceived: [<twisted.python.failure.Failure twisted.internet.error.ConnectionLost: Connection to the other side was lost in a non-clean fashion.>]\n",
      "2021-11-30 16:42:06 [scrapy.downloadermiddlewares.redirect] DEBUG: Redirecting (301) to <GET http://datacentersystems.com> from <GET http://www.datacentersys.com>\n",
      "2021-11-30 16:42:06 [scrapy.downloadermiddlewares.retry] ERROR: Gave up retrying <GET https://www.onpressediscovery.com> (failed 3 times): [<twisted.python.failure.Failure OpenSSL.SSL.Error: [('SSL routines', 'ssl3_read_bytes', 'tlsv1 alert internal error')]>]\n",
      "2021-11-30 16:42:06 [scrapy.core.scraper] ERROR: Error downloading <GET https://www.onpressediscovery.com>\n",
      "Traceback (most recent call last):\n",
      "  File \"C:\\Users\\MStopa\\AppData\\Local\\Continuum\\anaconda3\\envs\\webscrape\\lib\\site-packages\\scrapy\\core\\downloader\\middleware.py\", line 44, in process_request\n",
      "    return (yield download_func(request=request, spider=spider))\n",
      "twisted.web._newclient.ResponseNeverReceived: [<twisted.python.failure.Failure OpenSSL.SSL.Error: [('SSL routines', 'ssl3_read_bytes', 'tlsv1 alert internal error')]>]\n",
      "2021-11-30 16:42:06 [scrapy.core.engine] DEBUG: Crawled (200) <GET https://www.levers.com/> (referer: None)\n",
      "2021-11-30 16:42:07 [scrapy.core.engine] DEBUG: Crawled (200) <GET https://www.parrotcolor.com/store/home.php> (referer: None)\n",
      "2021-11-30 16:42:07 [scrapy.core.engine] DEBUG: Crawled (200) <GET https://www.dirtech.com> (referer: None)\n"
     ]
    },
    {
     "name": "stdout",
     "output_type": "stream",
     "text": [
      "site_url https://www.levers.com/ site_url_close ['http://www.levers.com/', 'https://www.evercel.com/', 'https://www.lettermans.com/']\n",
      "site_url_close[0] http://www.levers.com/\n",
      "ii 687 self.companies[ii] Levers Advertising & Design\n",
      "out1 true iout1 551 url https://www.levers.com/\n",
      "companies[0] Ivy Promotions this url https://www.levers.com/\n"
     ]
    },
    {
     "name": "stderr",
     "output_type": "stream",
     "text": [
      "2021-11-30 16:42:07 [scrapy.core.engine] DEBUG: Crawled (200) <GET http://www.institchesembroidery.net/index.html> (referer: None)\n"
     ]
    },
    {
     "name": "stdout",
     "output_type": "stream",
     "text": [
      "site_url https://www.parrotcolor.com/store/home.php site_url_close ['https://www.parrotcolor.com/', 'http://www.netcllc.com/site/home.php', 'http://www.arturosstudio.com/home.html']\n",
      "site_url_close[0] https://www.parrotcolor.com/\n",
      "ii 685 self.companies[ii] Parrot Digigraphic\n",
      "out1 true iout1 552 url https://www.parrotcolor.com/store/home.php\n",
      "companies[0] Otey White & Associates this url https://www.parrotcolor.com/store/home.php\n",
      "site_url https://www.dirtech.com site_url_close ['https://www.dirtech.com', 'https://www.drgtech.com/', 'https://www.ezhitech.com']\n",
      "site_url_close[0] https://www.dirtech.com\n",
      "ii 699 self.companies[ii] Direct Technologies\n",
      "out1 true iout1 553 url https://www.dirtech.com\n",
      "companies[0] FinePrint Software this url https://www.dirtech.com\n"
     ]
    },
    {
     "name": "stderr",
     "output_type": "stream",
     "text": [
      "2021-11-30 16:42:08 [scrapy.downloadermiddlewares.redirect] DEBUG: Redirecting (301) to <GET http://www.pcisynthesis.com/> from <GET http://pcisynthesis.com>\n",
      "2021-11-30 16:42:08 [scrapy.downloadermiddlewares.redirect] DEBUG: Redirecting (302) to <GET http://provendirect.com> from <GET http://www.provendirect.com/>\n",
      "2021-11-30 16:42:08 [scrapy.downloadermiddlewares.retry] DEBUG: Retrying <GET https://www.couponpages.com> (failed 2 times): [<twisted.python.failure.Failure twisted.internet.error.ConnectionLost: Connection to the other side was lost in a non-clean fashion: Connection lost.>]\n",
      "2021-11-30 16:42:08 [scrapy.downloadermiddlewares.redirect] DEBUG: Redirecting (301) to <GET https://prototech.com/> from <GET https://www.prototech.com>\n",
      "2021-11-30 16:42:08 [scrapy.downloadermiddlewares.retry] ERROR: Gave up retrying <GET https://tonertiger.com> (failed 3 times): [<twisted.python.failure.Failure OpenSSL.SSL.Error: [('SSL routines', 'ssl3_read_bytes', 'tlsv1 alert internal error')]>]\n"
     ]
    },
    {
     "name": "stdout",
     "output_type": "stream",
     "text": [
      "site_url http://www.institchesembroidery.net/index.html site_url_close ['http://www.institchesembroidery.net', 'http://www.adwerx.net/index.html', 'http://www.winmarketing.net/index1.html']\n",
      "site_url_close[0] http://www.institchesembroidery.net\n",
      "ii 683 self.companies[ii] In Stitches Designs\n",
      "out1 false iout2 74 url http://www.institchesembroidery.net/index.html\n",
      "companies[0] Media That Deelivers this url http://www.institchesembroidery.net/index.html\n"
     ]
    },
    {
     "name": "stderr",
     "output_type": "stream",
     "text": [
      "2021-11-30 16:42:09 [scrapy.core.scraper] ERROR: Error downloading <GET https://tonertiger.com>\n",
      "Traceback (most recent call last):\n",
      "  File \"C:\\Users\\MStopa\\AppData\\Local\\Continuum\\anaconda3\\envs\\webscrape\\lib\\site-packages\\scrapy\\core\\downloader\\middleware.py\", line 44, in process_request\n",
      "    return (yield download_func(request=request, spider=spider))\n",
      "twisted.web._newclient.ResponseNeverReceived: [<twisted.python.failure.Failure OpenSSL.SSL.Error: [('SSL routines', 'ssl3_read_bytes', 'tlsv1 alert internal error')]>]\n",
      "2021-11-30 16:42:09 [scrapy.downloadermiddlewares.redirect] DEBUG: Redirecting (301) to <GET https://www.periscope.com/> from <GET http://www.periscope.com/>\n",
      "2021-11-30 16:42:09 [scrapy.downloadermiddlewares.redirect] DEBUG: Redirecting (301) to <GET https://imaginepub.com/> from <GET http://www.imaginepub.com/>\n",
      "2021-11-30 16:42:09 [scrapy.core.engine] DEBUG: Crawled (200) <GET https://myriadmedia.com/> (referer: None)\n"
     ]
    },
    {
     "name": "stdout",
     "output_type": "stream",
     "text": [
      "site_url https://myriadmedia.com/ site_url_close ['http://www.myriadmedia.com', 'https://brixxmedia.com/', 'https://redmatmedia.com/']\n",
      "site_url_close[0] http://www.myriadmedia.com\n",
      "ii 686 self.companies[ii] Myriad Media\n",
      "out1 true iout1 554 url https://myriadmedia.com/\n",
      "companies[0] Impact Directories this url https://myriadmedia.com/\n"
     ]
    },
    {
     "name": "stderr",
     "output_type": "stream",
     "text": [
      "2021-11-30 16:42:10 [scrapy.downloadermiddlewares.redirect] DEBUG: Redirecting (301) to <GET https://www.markful.com/?homredirect=true> from <GET https://www.houseofmagnets.com/>\n",
      "2021-11-30 16:42:10 [scrapy.downloadermiddlewares.redirect] DEBUG: Redirecting (302) to <GET http://www.siliconlight.com/en> from <GET http://www.siliconlight.com>\n",
      "2021-11-30 16:42:10 [scrapy.core.engine] DEBUG: Crawled (200) <GET https://www.acument.com/> (referer: None)\n",
      "2021-11-30 16:42:10 [scrapy.core.engine] DEBUG: Crawled (200) <GET https://prempack.com/> (referer: None)\n"
     ]
    },
    {
     "name": "stdout",
     "output_type": "stream",
     "text": [
      "site_url https://www.acument.com/ site_url_close ['http://www.acument.com/', 'https://www.acsdocuments.com/', 'https://www.acmeprints.com']\n",
      "site_url_close[0] http://www.acument.com/\n",
      "ii 692 self.companies[ii] Acument Global Technologies\n",
      "out1 true iout1 555 url https://www.acument.com/\n",
      "companies[0] Sundown this url https://www.acument.com/\n"
     ]
    },
    {
     "name": "stderr",
     "output_type": "stream",
     "text": [
      "2021-11-30 16:42:11 [scrapy.core.engine] DEBUG: Crawled (200) <GET http://www.norwex.ca> (referer: None)\n"
     ]
    },
    {
     "name": "stdout",
     "output_type": "stream",
     "text": [
      "site_url https://prempack.com/ site_url_close ['http://prempack.com', 'https://www.empack.com/', 'https://repacorp.com/']\n",
      "site_url_close[0] http://prempack.com\n",
      "ii 694 self.companies[ii] Premier Packaging, LLC\n",
      "out1 true iout1 556 url https://prempack.com/\n",
      "companies[0] Zanasi USA this url https://prempack.com/\n"
     ]
    },
    {
     "name": "stderr",
     "output_type": "stream",
     "text": [
      "2021-11-30 16:42:12 [scrapy.core.engine] DEBUG: Crawled (200) <GET http://techok.com> (referer: None)\n"
     ]
    },
    {
     "name": "stdout",
     "output_type": "stream",
     "text": [
      "site_url http://www.norwex.ca site_url_close ['http://www.norwex.ca', 'http://www.bowne.com', 'https://www.norcote.com']\n",
      "site_url_close[0] http://www.norwex.ca\n",
      "ii 706 self.companies[ii] Norwex\n",
      "out1 false iout2 75 url http://www.norwex.ca\n",
      "companies[0] TyrrellTech this url http://www.norwex.ca\n"
     ]
    },
    {
     "name": "stderr",
     "output_type": "stream",
     "text": [
      "2021-11-30 16:42:12 [scrapy.core.engine] DEBUG: Crawled (200) <GET https://www.forecast3d.com/> (referer: None)\n"
     ]
    },
    {
     "name": "stdout",
     "output_type": "stream",
     "text": [
      "site_url http://techok.com site_url_close ['http://techok.com', 'http://ppmtech.com', 'http://tufco.com']\n",
      "site_url_close[0] http://techok.com\n",
      "ii 707 self.companies[ii] Tech Inc.\n",
      "out1 true iout1 557 url http://techok.com\n",
      "companies[0] A+E Digital Printing this url http://techok.com\n"
     ]
    },
    {
     "name": "stderr",
     "output_type": "stream",
     "text": [
      "2021-11-30 16:42:13 [scrapy.core.engine] DEBUG: Crawled (200) <GET http://www.intenseco.com> (referer: None)\n",
      "2021-11-30 16:42:13 [scrapy.downloadermiddlewares.redirect] DEBUG: Redirecting (301) to <GET https://artcorp.com/> from <GET http://artcorp.com>\n"
     ]
    },
    {
     "name": "stdout",
     "output_type": "stream",
     "text": [
      "site_url https://www.forecast3d.com/ site_url_close ['http://www.forecast3d.com', 'https://www.formfast.com', 'https://www.forgepdx.com/']\n",
      "site_url_close[0] http://www.forecast3d.com\n",
      "ii 696 self.companies[ii] FORECAST 3D\n",
      "out1 true iout1 558 url https://www.forecast3d.com/\n",
      "companies[0] Imageworx this url https://www.forecast3d.com/\n"
     ]
    },
    {
     "name": "stderr",
     "output_type": "stream",
     "text": [
      "2021-11-30 16:42:13 [scrapy.downloadermiddlewares.redirect] DEBUG: Redirecting (301) to <GET https://www.3dsystems.com/3d-printers?utm_source=zcorp.com&utm_medium=301> from <GET http://www.zcorp.com>\n"
     ]
    },
    {
     "name": "stdout",
     "output_type": "stream",
     "text": [
      "site_url http://www.intenseco.com site_url_close ['http://www.intenseco.com', 'http://www.intelicoat.com', 'http://www.infotrends.com']\n",
      "site_url_close[0] http://www.intenseco.com\n",
      "ii 704 self.companies[ii] Intense\n",
      "out1 true iout1 559 url http://www.intenseco.com\n",
      "companies[0] SIGNGRAFX this url http://www.intenseco.com\n"
     ]
    },
    {
     "name": "stderr",
     "output_type": "stream",
     "text": [
      "2021-11-30 16:42:13 [scrapy.core.engine] DEBUG: Crawled (200) <GET https://www.odev.com/> (referer: None)\n",
      "2021-11-30 16:42:14 [scrapy.downloadermiddlewares.redirect] DEBUG: Redirecting (301) to <GET http://www.bastech.com/> from <GET http://bastech.com/>\n",
      "2021-11-30 16:42:14 [scrapy.downloadermiddlewares.redirect] DEBUG: Redirecting (301) to <GET https://am.dnpribbons.com/> from <GET http://am.dnpribbons.com>\n"
     ]
    },
    {
     "name": "stdout",
     "output_type": "stream",
     "text": [
      "site_url https://www.odev.com/ site_url_close ['http://www.odev.com', 'https://www.bodree.com/', 'https://www.ndeg.com/']\n",
      "site_url_close[0] http://www.odev.com\n",
      "ii 695 self.companies[ii] Ortho Development Corporation\n",
      "out1 true iout1 560 url https://www.odev.com/\n",
      "companies[0] Bullpen Marketing this url https://www.odev.com/\n"
     ]
    },
    {
     "name": "stderr",
     "output_type": "stream",
     "text": [
      "2021-11-30 16:42:14 [scrapy.downloadermiddlewares.retry] ERROR: Gave up retrying <GET https://www.couponpages.com> (failed 3 times): [<twisted.python.failure.Failure twisted.internet.error.ConnectionLost: Connection to the other side was lost in a non-clean fashion: Connection lost.>]\n",
      "2021-11-30 16:42:14 [scrapy.downloadermiddlewares.redirect] DEBUG: Redirecting (301) to <GET https://www.smi.com/> from <GET http://www.smi.com/>\n",
      "2021-11-30 16:42:14 [scrapy.core.scraper] ERROR: Error downloading <GET https://www.couponpages.com>\n",
      "Traceback (most recent call last):\n",
      "  File \"C:\\Users\\MStopa\\AppData\\Local\\Continuum\\anaconda3\\envs\\webscrape\\lib\\site-packages\\scrapy\\core\\downloader\\middleware.py\", line 44, in process_request\n",
      "    return (yield download_func(request=request, spider=spider))\n",
      "twisted.web._newclient.ResponseNeverReceived: [<twisted.python.failure.Failure twisted.internet.error.ConnectionLost: Connection to the other side was lost in a non-clean fashion: Connection lost.>]\n",
      "2021-11-30 16:42:15 [scrapy.downloadermiddlewares.redirect] DEBUG: Redirecting (301) to <GET https://datacentersystems.com/> from <GET http://datacentersystems.com>\n",
      "2021-11-30 16:42:15 [scrapy.core.engine] DEBUG: Crawled (200) <GET https://wipfandstock.com> (referer: None)\n",
      "2021-11-30 16:42:15 [scrapy.downloadermiddlewares.redirect] DEBUG: Redirecting (301) to <GET https://printex-inc.com/> from <GET http://printex-inc.com>\n"
     ]
    },
    {
     "name": "stdout",
     "output_type": "stream",
     "text": [
      "site_url https://wipfandstock.com site_url_close ['https://wipfandstock.com', 'https://fastfocus.co', 'https://ipdstudios.com/']\n",
      "site_url_close[0] https://wipfandstock.com\n",
      "ii 713 self.companies[ii] Wipf and Stock Publishers\n",
      "out1 true iout1 561 url https://wipfandstock.com\n",
      "companies[0] 3DE this url https://wipfandstock.com\n"
     ]
    },
    {
     "name": "stderr",
     "output_type": "stream",
     "text": [
      "2021-11-30 16:42:16 [scrapy.extensions.logstats] INFO: Crawled 661 pages (at 77 pages/min), scraped 59 items (at 6 items/min)\n",
      "2021-11-30 16:42:16 [scrapy.downloadermiddlewares.redirect] DEBUG: Redirecting (301) to <GET https://dan.com/buy-domain/provendirect.com?redirected=true&tld=com> from <GET http://provendirect.com>\n",
      "2021-11-30 16:42:16 [scrapy.downloadermiddlewares.redirect] DEBUG: Redirecting (301) to <GET https://aristo-cast.com/> from <GET http://aristo-cast.com/>\n",
      "2021-11-30 16:42:17 [scrapy.core.engine] DEBUG: Crawled (200) <GET https://www.markful.com/?homredirect=true> (referer: None)\n",
      "2021-11-30 16:42:18 [scrapy.core.engine] DEBUG: Crawled (200) <GET https://prototech.com/> (referer: None)\n"
     ]
    },
    {
     "name": "stdout",
     "output_type": "stream",
     "text": [
      "site_url https://www.markful.com/?homredirect=true site_url_close ['https://www.smark.com/', 'https://www.icscolor.com/remote-director/', 'https://www.royalbfp.com/home']\n",
      "site_url_close[0] https://www.smark.com/\n",
      "ii 1613 self.companies[ii] S.MARK Graphics\n",
      "out1 true iout1 562 url https://www.markful.com/?homredirect=true\n",
      "companies[0] Advantage Prototype Systems this url https://www.markful.com/?homredirect=true\n"
     ]
    },
    {
     "name": "stderr",
     "output_type": "stream",
     "text": [
      "2021-11-30 16:42:18 [scrapy.core.scraper] DEBUG: Scraped from <200 https://prototech.com/>\r\n",
      "{'Organization': 'Proto Technologies',\n",
      " 'fulltext': 'Proto Technologies is a privately held Rapid Prototyping and Low Volume production service bureau.  They specialize in quick-turn 3D printing, additive manufacturing, complex silicone, urethane and metal molding. Precision CNC machining, utilizing 3 axis, 4 axis, 5th axis and programmable lathes supporting high-mix low-volume production.',\n",
      " 'searchterm': 'additive manufacturing',\n",
      " 'url': 'https://prototech.com/'}\n"
     ]
    },
    {
     "name": "stdout",
     "output_type": "stream",
     "text": [
      "site_url https://prototech.com/ site_url_close ['https://www.prototech.com', 'https://goproto.com/', 'https://printreach.com/']\n",
      "site_url_close[0] https://www.prototech.com\n",
      "ii 700 self.companies[ii] Proto Technologies\n",
      "yielding item additive manufacturing\n",
      "out1 true iout1 563 url https://prototech.com/\n",
      "companies[0] Gaylonn Designs this url https://prototech.com/\n"
     ]
    },
    {
     "name": "stderr",
     "output_type": "stream",
     "text": [
      "2021-11-30 16:42:19 [scrapy.downloadermiddlewares.redirect] DEBUG: Redirecting (301) to <GET https://www.pcisynthesis.com/> from <GET http://www.pcisynthesis.com/>\n",
      "2021-11-30 16:42:19 [scrapy.core.engine] DEBUG: Crawled (200) <GET https://imaginepub.com/> (referer: None)\n",
      "2021-11-30 16:42:19 [scrapy.core.engine] DEBUG: Crawled (200) <GET https://www.periscope.com/> (referer: None)\n",
      "2021-11-30 16:42:19 [scrapy.downloadermiddlewares.redirect] DEBUG: Redirecting (301) to <GET https://mrc360.com/> from <GET https://www.mrc360.com/>\n",
      "2021-11-30 16:42:19 [scrapy.core.engine] DEBUG: Crawled (200) <GET http://www.siliconlight.com/en> (referer: None)\n"
     ]
    },
    {
     "name": "stdout",
     "output_type": "stream",
     "text": [
      "site_url https://imaginepub.com/ site_url_close ['http://www.imaginepub.com/', 'http://www.imagineps.com/', 'https://n2pub.com/']\n",
      "site_url_close[0] http://www.imaginepub.com/\n",
      "ii 703 self.companies[ii] Imagination Publishing\n",
      "out1 true iout1 564 url https://imaginepub.com/\n",
      "companies[0] Digital Image Technologies this url https://imaginepub.com/\n",
      "site_url https://www.periscope.com/ site_url_close ['https://www.pip.com/', 'http://periscope.com', 'https://www.pchopper.com/']\n",
      "site_url_close[0] https://www.pip.com/\n",
      "ii 2594 self.companies[ii] PIP\n",
      "out1 true iout1 565 url https://www.periscope.com/\n",
      "companies[0] ColorPro Printing this url https://www.periscope.com/\n"
     ]
    },
    {
     "name": "stderr",
     "output_type": "stream",
     "text": [
      "2021-11-30 16:42:20 [scrapy.downloadermiddlewares.redirect] DEBUG: Redirecting (301) to <GET https://abelectronicsllc.com/> from <GET http://www.abelectronicsinc.com>\n",
      "2021-11-30 16:42:20 [scrapy.downloadermiddlewares.redirect] DEBUG: Redirecting (301) to <GET https://www.sytechcorp.com/> from <GET http://sytechcorp.com/>\n"
     ]
    },
    {
     "name": "stdout",
     "output_type": "stream",
     "text": [
      "site_url http://www.siliconlight.com/en site_url_close ['http://www.siliconlight.com', 'http://www.destinationlighting.com/', 'https://www.lcni.com/']\n",
      "site_url_close[0] http://www.siliconlight.com\n",
      "ii 705 self.companies[ii] Silicon Light Machines,Inc.\n",
      "out1 true iout1 566 url http://www.siliconlight.com/en\n",
      "companies[0] Bigraphics this url http://www.siliconlight.com/en\n"
     ]
    },
    {
     "name": "stderr",
     "output_type": "stream",
     "text": [
      "2021-11-30 16:42:21 [scrapy.core.engine] DEBUG: Crawled (200) <GET https://xdi.com> (referer: None)\n"
     ]
    },
    {
     "name": "stdout",
     "output_type": "stream",
     "text": [
      "site_url https://xdi.com site_url_close ['https://xdi.com', 'https://edt.com/', 'https://acd1.com']\n",
      "site_url_close[0] https://xdi.com\n",
      "ii 718 self.companies[ii] Xpress Data Inc\n",
      "out1 true iout1 567 url https://xdi.com\n",
      "companies[0] Angela Conrad this url https://xdi.com\n"
     ]
    },
    {
     "name": "stderr",
     "output_type": "stream",
     "text": [
      "2021-11-30 16:42:22 [scrapy.core.engine] DEBUG: Crawled (200) <GET https://www.laserprintplus.com> (referer: None)\n",
      "2021-11-30 16:42:22 [scrapy.core.scraper] ERROR: Spider error processing <GET https://www.laserprintplus.com> (referer: None)\n",
      "Traceback (most recent call last):\n",
      "  File \"C:\\Users\\MStopa\\AppData\\Local\\Continuum\\anaconda3\\envs\\webscrape\\lib\\site-packages\\scrapy\\utils\\defer.py\", line 120, in iter_errback\n",
      "    yield next(it)\n",
      "  File \"C:\\Users\\MStopa\\AppData\\Local\\Continuum\\anaconda3\\envs\\webscrape\\lib\\site-packages\\scrapy\\utils\\python.py\", line 346, in __next__\n",
      "    return next(self.data)\n",
      "  File \"C:\\Users\\MStopa\\AppData\\Local\\Continuum\\anaconda3\\envs\\webscrape\\lib\\site-packages\\scrapy\\utils\\python.py\", line 346, in __next__\n",
      "    return next(self.data)\n",
      "  File \"C:\\Users\\MStopa\\AppData\\Local\\Continuum\\anaconda3\\envs\\webscrape\\lib\\site-packages\\scrapy\\core\\spidermw.py\", line 64, in _evaluate_iterable\n",
      "    for r in iterable:\n",
      "  File \"C:\\Users\\MStopa\\AppData\\Local\\Continuum\\anaconda3\\envs\\webscrape\\lib\\site-packages\\scrapy\\spidermiddlewares\\offsite.py\", line 29, in process_spider_output\n",
      "    for x in result:\n",
      "  File \"C:\\Users\\MStopa\\AppData\\Local\\Continuum\\anaconda3\\envs\\webscrape\\lib\\site-packages\\scrapy\\core\\spidermw.py\", line 64, in _evaluate_iterable\n",
      "    for r in iterable:\n",
      "  File \"C:\\Users\\MStopa\\AppData\\Local\\Continuum\\anaconda3\\envs\\webscrape\\lib\\site-packages\\scrapy\\spidermiddlewares\\referer.py\", line 340, in <genexpr>\n",
      "    return (_set_referer(r) for r in result or ())\n",
      "  File \"C:\\Users\\MStopa\\AppData\\Local\\Continuum\\anaconda3\\envs\\webscrape\\lib\\site-packages\\scrapy\\core\\spidermw.py\", line 64, in _evaluate_iterable\n",
      "    for r in iterable:\n",
      "  File \"C:\\Users\\MStopa\\AppData\\Local\\Continuum\\anaconda3\\envs\\webscrape\\lib\\site-packages\\scrapy\\spidermiddlewares\\urllength.py\", line 37, in <genexpr>\n",
      "    return (r for r in result or () if _filter(r))\n",
      "  File \"C:\\Users\\MStopa\\AppData\\Local\\Continuum\\anaconda3\\envs\\webscrape\\lib\\site-packages\\scrapy\\core\\spidermw.py\", line 64, in _evaluate_iterable\n",
      "    for r in iterable:\n",
      "  File \"C:\\Users\\MStopa\\AppData\\Local\\Continuum\\anaconda3\\envs\\webscrape\\lib\\site-packages\\scrapy\\spidermiddlewares\\depth.py\", line 58, in <genexpr>\n",
      "    return (r for r in result or () if _filter(r))\n",
      "  File \"C:\\Users\\MStopa\\AppData\\Local\\Continuum\\anaconda3\\envs\\webscrape\\lib\\site-packages\\scrapy\\core\\spidermw.py\", line 64, in _evaluate_iterable\n",
      "    for r in iterable:\n",
      "  File \"<ipython-input-9-10a30e00531c>\", line 132, in parse\n",
      "    file1.write(out2 + '\\n')\n",
      "  File \"C:\\Users\\MStopa\\AppData\\Local\\Continuum\\anaconda3\\envs\\webscrape\\lib\\encodings\\cp1252.py\", line 19, in encode\n",
      "    return codecs.charmap_encode(input,self.errors,encoding_table)[0]\n",
      "UnicodeEncodeError: 'charmap' codec can't encode character '\\u2713' in position 1529: character maps to <undefined>\n",
      "2021-11-30 16:42:22 [scrapy.downloadermiddlewares.redirect] DEBUG: Redirecting (301) to <GET https://doctech.com/> from <GET http://www.doctech.com>\n",
      "2021-11-30 16:42:22 [scrapy.core.engine] DEBUG: Crawled (200) <GET https://printex-inc.com/> (referer: None)\n"
     ]
    },
    {
     "name": "stdout",
     "output_type": "stream",
     "text": [
      "site_url https://www.laserprintplus.com site_url_close ['https://www.laserprintplus.com', 'https://www.tylerprint.com', 'https://www.laserpros.com/']\n",
      "site_url_close[0] https://www.laserprintplus.com\n",
      "ii 720 self.companies[ii] Laser Print Plus\n",
      "out1 true iout1 568 url https://www.laserprintplus.com\n",
      "site_url https://printex-inc.com/ site_url_close ['http://printex-inc.com', 'http://printwise-inc.com', 'https://crt-inc.com/']\n",
      "site_url_close[0] http://printex-inc.com\n",
      "ii 712 self.companies[ii] Printex\n",
      "out1 true iout1 569 url https://printex-inc.com/\n",
      "companies[0] JP Digital Imaging this url https://printex-inc.com/\n"
     ]
    },
    {
     "name": "stderr",
     "output_type": "stream",
     "text": [
      "2021-11-30 16:42:23 [scrapy.core.engine] DEBUG: Crawled (403) <GET https://modernluxurymedia.com/> (referer: None)\n",
      "2021-11-30 16:42:23 [scrapy.core.engine] DEBUG: Crawled (200) <GET https://www.protocam.com> (referer: None)\n",
      "2021-11-30 16:42:23 [scrapy.spidermiddlewares.httperror] INFO: Ignoring response <403 https://modernluxurymedia.com/>: HTTP status code is not handled or not allowed\n",
      "2021-11-30 16:42:23 [scrapy.core.scraper] DEBUG: Scraped from <200 https://www.protocam.com>\n",
      "{'Organization': 'ProtoCAM',\n",
      " 'fulltext': 'ProtoCAM is a leading provider of value-added additive manufacturing and rapid prototyping services for clients in a wide variety of industries, including defense, aerospace, automotive, medical, architecture, and consumer goods.',\n",
      " 'searchterm': 'additive manufacturing',\n",
      " 'url': 'https://www.protocam.com'}\n",
      "2021-11-30 16:42:23 [scrapy.core.engine] DEBUG: Crawled (200) <GET https://www.smi.com/> (referer: None)\n",
      "2021-11-30 16:42:23 [scrapy.core.engine] DEBUG: Crawled (200) <GET https://artcorp.com/> (referer: None)\n"
     ]
    },
    {
     "name": "stdout",
     "output_type": "stream",
     "text": [
      "site_url https://www.protocam.com site_url_close ['https://www.protocam.com', 'https://www.prototech.com', 'https://www.portco.com']\n",
      "site_url_close[0] https://www.protocam.com\n",
      "ii 721 self.companies[ii] ProtoCAM\n",
      "yielding item additive manufacturing\n",
      "out1 true iout1 570 url https://www.protocam.com\n",
      "companies[0] South Jersey DEVILer this url https://www.protocam.com\n"
     ]
    },
    {
     "name": "stderr",
     "output_type": "stream",
     "text": [
      "2021-11-30 16:42:24 [scrapy.downloadermiddlewares.redirect] DEBUG: Redirecting (301) to <GET https://www.cadsupplies.com/> from <GET http://www.cadsupplies.com>\n",
      "2021-11-30 16:42:24 [scrapy.core.engine] DEBUG: Crawled (200) <GET https://aristo-cast.com/> (referer: None)\n"
     ]
    },
    {
     "name": "stdout",
     "output_type": "stream",
     "text": [
      "site_url https://www.smi.com/ site_url_close ['https://www.lumi.com/', 'https://www.umsmail.com/', 'https://www.somepig.com/']\n",
      "site_url_close[0] https://www.lumi.com/\n",
      "ii 3948 self.companies[ii] Lumi\n",
      "out1 true iout1 571 url https://www.smi.com/\n",
      "companies[0] Zap'O Marks this url https://www.smi.com/\n"
     ]
    },
    {
     "name": "stderr",
     "output_type": "stream",
     "text": [
      "2021-11-30 16:42:24 [scrapy.core.scraper] DEBUG: Scraped from <200 https://artcorp.com/>\r\n",
      "{'Organization': 'Applied Rapid Technologies',\n",
      " 'fulltext': 'Applied Rapid Technologies (ART) Corporation, located in Fredericksburg, VA, has been designing and creating prototypes for more than a decade. Across multiple industries, from aerospace to health care to consumer electronics, they help engineers, designers and inventors transform their ideas into reality. As a rapid prototyping service bureau, they function much like a machine shop, fabricating parts for a variety of client needs. They specialize in plastics; using cutting-edge “additive manufacturing” processes to build their prototypes.',\n",
      " 'searchterm': 'additive manufacturing',\n",
      " 'url': 'https://artcorp.com/'}\n"
     ]
    },
    {
     "name": "stdout",
     "output_type": "stream",
     "text": [
      "site_url https://artcorp.com/ site_url_close ['http://artcorp.com', 'https://repacorp.com/', 'http://abcorp.com']\n",
      "site_url_close[0] http://artcorp.com\n",
      "ii 708 self.companies[ii] Applied Rapid Technologies\n",
      "yielding item additive manufacturing\n",
      "out1 true iout1 572 url https://artcorp.com/\n",
      "companies[0] REGENT PROMOTIONS this url https://artcorp.com/\n"
     ]
    },
    {
     "name": "stderr",
     "output_type": "stream",
     "text": [
      "2021-11-30 16:42:25 [scrapy.core.scraper] DEBUG: Scraped from <200 https://aristo-cast.com/>\n",
      "{'Organization': 'Aristo Cast',\n",
      " 'fulltext': 'Aristo Cast is your award-winning investment casting source. In addition to a virtually unlimited selection of alloys, ferrous and non-ferrous, they now offer magnesium for your ultralight weight casting applications. They have the ability to provide same-day precision castings in all alloys, in both prototype and production quantities. Our original additive manufacturing methods for lost-wax casting includes 3D scanning and in-house tooling for the fastest delivery and highest quality. Their certifications are numerous and include ITAR.',\n",
      " 'searchterm': 'additive manufacturing',\n",
      " 'url': 'https://aristo-cast.com/'}\n",
      "2021-11-30 16:42:25 [scrapy.downloadermiddlewares.redirect] DEBUG: Redirecting (301) to <GET https://www.systemseals.com/> from <GET http://www.systemseals.com>\n",
      "2021-11-30 16:42:25 [scrapy.core.engine] DEBUG: Crawled (400) <GET https://www.dgicommunications.com/> (referer: None)\n",
      "2021-11-30 16:42:25 [scrapy.downloadermiddlewares.redirect] DEBUG: Redirecting (301) to <GET https://proformagraphicservices.com/> from <GET https://www.proformagraphicservices.com/>\n"
     ]
    },
    {
     "name": "stdout",
     "output_type": "stream",
     "text": [
      "site_url https://aristo-cast.com/ site_url_close ['http://aristo-cast.com/', 'https://instocklabels.com/', 'https://4carisma.com/']\n",
      "site_url_close[0] http://aristo-cast.com/\n",
      "ii 714 self.companies[ii] Aristo Cast\n",
      "yielding item additive manufacturing\n",
      "out1 true iout1 573 url https://aristo-cast.com/\n",
      "companies[0] Shadows Custom Apparel & Designs this url https://aristo-cast.com/\n"
     ]
    },
    {
     "name": "stderr",
     "output_type": "stream",
     "text": [
      "2021-11-30 16:42:25 [scrapy.spidermiddlewares.httperror] INFO: Ignoring response <400 https://www.dgicommunications.com/>: HTTP status code is not handled or not allowed\n",
      "2021-11-30 16:42:25 [scrapy.downloadermiddlewares.redirect] DEBUG: Redirecting (301) to <GET https://www.supercheapsigns.com:443/> from <GET http://www.supercheapsigns.com>\n",
      "2021-11-30 16:42:25 [scrapy.core.engine] DEBUG: Crawled (200) <GET https://www.3dsystems.com/3d-printers?utm_source=zcorp.com&utm_medium=301> (referer: None)\n",
      "2021-11-30 16:42:25 [scrapy.downloadermiddlewares.retry] DEBUG: Retrying <GET http://www.mypublisher.com> (failed 1 times): TCP connection timed out: 10060: A connection attempt failed because the connected party did not properly respond after a period of time, or established connection failed because connected host has failed to respond..\n",
      "2021-11-30 16:42:26 [scrapy.core.scraper] DEBUG: Scraped from <200 https://www.3dsystems.com/3d-printers?utm_source=zcorp.com&utm_medium=301>\n",
      "{'Organization': 'The Master’s Touch',\n",
      " 'fulltext': 'nan',\n",
      " 'searchterm': 'additive manufacturing',\n",
      " 'url': 'https://www.3dsystems.com/3d-printers?utm_source=zcorp.com&utm_medium=301'}\n",
      "2021-11-30 16:42:26 [scrapy.downloadermiddlewares.redirect] DEBUG: Redirecting (301) to <GET https://www.stencilsonline.com/> from <GET http://www.stencilsonline.com>\n",
      "2021-11-30 16:42:26 [scrapy.core.scraper] DEBUG: Scraped from <200 https://www.3dsystems.com/3d-printers?utm_source=zcorp.com&utm_medium=301>\n",
      "{'Organization': 'The Master’s Touch',\n",
      " 'fulltext': 'nan',\n",
      " 'searchterm': 'digital manufacturing',\n",
      " 'url': 'https://www.3dsystems.com/3d-printers?utm_source=zcorp.com&utm_medium=301'}\n"
     ]
    },
    {
     "name": "stdout",
     "output_type": "stream",
     "text": [
      "site_url https://www.3dsystems.com/3d-printers?utm_source=zcorp.com&utm_medium=301 site_url_close ['https://www.themasterstouch.com', 'https://www.completesource.com/', 'https://www.printerssoftware.com/']\n",
      "site_url_close[0] https://www.themasterstouch.com\n",
      "ii 1647 self.companies[ii] The Master’s Touch\n",
      "yielding item additive manufacturing\n",
      "yielding item digital manufacturing\n",
      "out1 true iout1 574 url https://www.3dsystems.com/3d-printers?utm_source=zcorp.com&utm_medium=301\n",
      "companies[0] Media Resources this url https://www.3dsystems.com/3d-printers?utm_source=zcorp.com&utm_medium=301\n"
     ]
    },
    {
     "name": "stderr",
     "output_type": "stream",
     "text": [
      "2021-11-30 16:42:26 [scrapy.downloadermiddlewares.redirect] DEBUG: Redirecting (301) to <GET https://printpps.com/> from <GET http://www.printpps.com>\n",
      "2021-11-30 16:42:26 [scrapy.core.engine] DEBUG: Crawled (200) <GET https://datacentersystems.com/> (referer: None)\n",
      "2021-11-30 16:42:27 [scrapy.core.engine] DEBUG: Crawled (200) <GET https://am.dnpribbons.com/> (referer: None)\n"
     ]
    },
    {
     "name": "stdout",
     "output_type": "stream",
     "text": [
      "site_url https://datacentersystems.com/ site_url_close ['http://www.datacentersys.com', 'https://duplicatingsystems.com/', 'https://www.datacenterusa.com']\n",
      "site_url_close[0] http://www.datacentersys.com\n",
      "ii 698 self.companies[ii] Data Center Systems\n",
      "out1 true iout1 575 url https://datacentersystems.com/\n",
      "companies[0] Team Pride Athletics this url https://datacentersystems.com/\n"
     ]
    },
    {
     "name": "stderr",
     "output_type": "stream",
     "text": [
      "2021-11-30 16:42:27 [scrapy.core.engine] DEBUG: Crawled (200) <GET https://dan.com/buy-domain/provendirect.com?redirected=true&tld=com> (referer: None)\n",
      "2021-11-30 16:42:27 [scrapy.core.engine] DEBUG: Crawled (200) <GET http://www.bastech.com/> (referer: None)\n"
     ]
    },
    {
     "name": "stdout",
     "output_type": "stream",
     "text": [
      "site_url https://am.dnpribbons.com/ site_url_close ['http://am.dnpribbons.com', 'https://4dprint.com/', 'https://janoprint.com']\n",
      "site_url_close[0] http://am.dnpribbons.com\n",
      "ii 709 self.companies[ii] DNP\n",
      "out1 true iout1 576 url https://am.dnpribbons.com/\n",
      "companies[0] Your Plan B Company this url https://am.dnpribbons.com/\n",
      "site_url https://dan.com/buy-domain/provendirect.com?redirected=true&tld=com site_url_close ['http://www.provendirect.com/', 'http://commercialcreditgroup.com', 'http://www.customartdirect.com']\n",
      "site_url_close[0] http://www.provendirect.com/\n",
      "ii 701 self.companies[ii] Proven Direct\n",
      "out1 true iout1 577 url https://dan.com/buy-domain/provendirect.com?redirected=true&tld=com\n",
      "companies[0] Mackey Printing Services this url https://dan.com/buy-domain/provendirect.com?redirected=true&tld=com\n"
     ]
    },
    {
     "name": "stderr",
     "output_type": "stream",
     "text": [
      "2021-11-30 16:42:28 [scrapy.core.scraper] DEBUG: Scraped from <200 http://www.bastech.com/>\n",
      "{'Organization': 'Bastech',\n",
      " 'fulltext': 'Bastech stays on top of all the latest and greatest in the rapid prototyping and 3d printing. industry.Bastech provides solutions for your in-house Additive Manufacturing (3D printing,) engineering, prototyping and manufacturing needs. Their staff is focused on matching your requirements, desires and constraints to the best available products. Bastech’s staff will also be there for support afterwards for machine service and technical support. Their service technicians are well trained and experienced in supplying your team with maintenance, repair, and training. Extensive knowledge of the equipment, software, and processes coupled with their locations in Dayton, Ohio and Chicago, Illinois, has made Bastech a leader in the Midwest for your prototyping, manufacturing and engineering solutions.',\n",
      " 'searchterm': 'additive manufacturing',\n",
      " 'url': 'http://www.bastech.com/'}\n",
      "2021-11-30 16:42:28 [scrapy.downloadermiddlewares.redirect] DEBUG: Redirecting (301) to <GET https://www.lrsoutputmanagement.com/products/capella-products> from <GET http://www.capellatech.com>\n",
      "2021-11-30 16:42:28 [scrapy.core.engine] DEBUG: Crawled (400) <GET https://www.lachancedesign.com/> (referer: None)\n",
      "2021-11-30 16:42:28 [scrapy.core.engine] DEBUG: Crawled (200) <GET https://www.sytechcorp.com/> (referer: None)\n",
      "2021-11-30 16:42:28 [scrapy.spidermiddlewares.httperror] INFO: Ignoring response <400 https://www.lachancedesign.com/>: HTTP status code is not handled or not allowed\n"
     ]
    },
    {
     "name": "stdout",
     "output_type": "stream",
     "text": [
      "site_url http://www.bastech.com/ site_url_close ['http://bastech.com/', 'http://www.twobtech.com/', 'http://www.briontech.com/']\n",
      "site_url_close[0] http://bastech.com/\n",
      "ii 711 self.companies[ii] Bastech\n",
      "yielding item additive manufacturing\n",
      "out1 true iout1 578 url http://www.bastech.com/\n",
      "companies[0] Grand Image this url http://www.bastech.com/\n"
     ]
    },
    {
     "name": "stderr",
     "output_type": "stream",
     "text": [
      "2021-11-30 16:42:29 [scrapy.downloadermiddlewares.redirect] DEBUG: Redirecting (301) to <GET https://planexpress.net/> from <GET http://www.planexpress.net>\n",
      "2021-11-30 16:42:29 [scrapy.core.engine] DEBUG: Crawled (200) <GET https://mrc360.com/> (referer: None)\n"
     ]
    },
    {
     "name": "stdout",
     "output_type": "stream",
     "text": [
      "site_url https://www.sytechcorp.com/ site_url_close ['http://sytechcorp.com/', 'https://www.brycecorp.com/', 'https://www.hixcorp.com/']\n",
      "site_url_close[0] http://sytechcorp.com/\n",
      "ii 717 self.companies[ii] Sytech Corporation\n",
      "out1 true iout1 579 url https://www.sytechcorp.com/\n",
      "companies[0] BDC this url https://www.sytechcorp.com/\n",
      "site_url https://mrc360.com/ site_url_close ['https://www.mrc360.com/', 'http://mc3t.com/', 'https://rchq.com/']\n",
      "site_url_close[0] https://www.mrc360.com/\n",
      "ii 716 self.companies[ii] MRC Smart Technology Solutions\n",
      "out1 true iout1 580 url https://mrc360.com/\n",
      "companies[0] Brochure Distribution Services this url https://mrc360.com/\n"
     ]
    },
    {
     "name": "stderr",
     "output_type": "stream",
     "text": [
      "2021-11-30 16:42:30 [scrapy.core.engine] DEBUG: Crawled (200) <GET https://www.sunprint.com/> (referer: None)\n",
      "2021-11-30 16:42:30 [scrapy.core.engine] DEBUG: Crawled (200) <GET https://abelectronicsllc.com/> (referer: None)\n",
      "2021-11-30 16:42:30 [scrapy.core.engine] DEBUG: Crawled (200) <GET https://www.polygraphics.com> (referer: None)\n",
      "2021-11-30 16:42:30 [scrapy.core.engine] DEBUG: Crawled (200) <GET https://www.pcisynthesis.com/> (referer: None)\n"
     ]
    },
    {
     "name": "stdout",
     "output_type": "stream",
     "text": [
      "site_url https://www.sunprint.com/ site_url_close ['https://www.sunprint.com/', 'https://www.psprint.com/', 'https://www.sunprinting.com']\n",
      "site_url_close[0] https://www.sunprint.com/\n",
      "ii 736 self.companies[ii] Sun Print Management\n",
      "out1 true iout1 581 url https://www.sunprint.com/\n",
      "companies[0] MTE Systems this url https://www.sunprint.com/\n"
     ]
    },
    {
     "name": "stderr",
     "output_type": "stream",
     "text": [
      "2021-11-30 16:42:31 [scrapy.core.engine] DEBUG: Crawled (200) <GET https://www.rpparts.com> (referer: None)\n"
     ]
    },
    {
     "name": "stdout",
     "output_type": "stream",
     "text": [
      "site_url https://abelectronicsllc.com/ site_url_close ['http://www.abelectronicsinc.com', 'http://nepelectronics.com', 'http://www.qcelectronics.com/']\n",
      "site_url_close[0] http://www.abelectronicsinc.com\n",
      "ii 715 self.companies[ii] AB Electronics\n",
      "out1 true iout1 582 url https://abelectronicsllc.com/\n",
      "companies[0] DPSBanners this url https://abelectronicsllc.com/\n",
      "site_url https://www.polygraphics.com site_url_close ['https://www.polygraphics.com', 'https://www.bpgraphics.com/', 'http://www.prographic.com']\n",
      "site_url_close[0] https://www.polygraphics.com\n",
      "ii 735 self.companies[ii] Poly Graphics\n",
      "out1 true iout1 583 url https://www.polygraphics.com\n",
      "companies[0] Quantum Ink Company this url https://www.polygraphics.com\n"
     ]
    },
    {
     "name": "stderr",
     "output_type": "stream",
     "text": [
      "2021-11-30 16:42:32 [scrapy.core.engine] DEBUG: Crawled (200) <GET https://brailleworks.com> (referer: None)\n"
     ]
    },
    {
     "name": "stdout",
     "output_type": "stream",
     "text": [
      "site_url https://www.pcisynthesis.com/ site_url_close ['http://pcisynthesis.com', 'https://www.jpinews.com/', 'https://www.pistildesigns.com']\n",
      "site_url_close[0] http://pcisynthesis.com\n",
      "ii 702 self.companies[ii] SEQENS North America (formerly PCI Synthesis)\n",
      "out1 true iout1 584 url https://www.pcisynthesis.com/\n",
      "companies[0] Printing Depot this url https://www.pcisynthesis.com/\n"
     ]
    },
    {
     "name": "stderr",
     "output_type": "stream",
     "text": [
      "2021-11-30 16:42:32 [scrapy.downloadermiddlewares.redirect] DEBUG: Redirecting (301) to <GET https://www.stowebridge.com/> from <GET http://www.stowebridge.com>\n",
      "2021-11-30 16:42:32 [scrapy.downloadermiddlewares.redirect] DEBUG: Redirecting (301) to <GET https://www.absolutescreenprinting.com/> from <GET http://www.absolutescreenprinting.com>\n"
     ]
    },
    {
     "name": "stdout",
     "output_type": "stream",
     "text": [
      "site_url https://www.rpparts.com site_url_close ['https://www.rpparts.com', 'https://www.rsalberts.com', 'http://www.rpiprint.com']\n",
      "site_url_close[0] https://www.rpparts.com\n",
      "ii 734 self.companies[ii] Rapid Prototype Company\n",
      "out1 true iout1 585 url https://www.rpparts.com\n",
      "companies[0] Graphic Imaging Services this url https://www.rpparts.com\n",
      "site_url https://brailleworks.com site_url_close ['https://brailleworks.com', 'http://trmiller.com', 'https://www.mailworksii.com']\n",
      "site_url_close[0] https://brailleworks.com\n",
      "ii 733 self.companies[ii] Braille Works\n",
      "out1 true iout1 586 url https://brailleworks.com\n",
      "companies[0] Sexton Advertising this url https://brailleworks.com\n"
     ]
    },
    {
     "name": "stderr",
     "output_type": "stream",
     "text": [
      "2021-11-30 16:42:33 [scrapy.core.engine] DEBUG: Crawled (200) <GET https://seatacpackaging.com/> (referer: None)\n",
      "2021-11-30 16:42:33 [scrapy.core.engine] DEBUG: Crawled (200) <GET https://doctech.com/> (referer: None)\n",
      "2021-11-30 16:42:33 [scrapy.core.engine] DEBUG: Crawled (200) <GET https://www.integdoes.com/> (referer: None)\n",
      "2021-11-30 16:42:33 [scrapy.downloadermiddlewares.redirect] DEBUG: Redirecting (301) to <GET https://cadsupplies.com/> from <GET https://www.cadsupplies.com/>\n",
      "2021-11-30 16:42:33 [scrapy.core.engine] DEBUG: Crawled (200) <GET http://www.cccomplete.com/> (referer: None) ['partial']\n",
      "2021-11-30 16:42:33 [scrapy.core.engine] DEBUG: Crawled (200) <GET https://www.chromaticlabels.com/> (referer: None)\n",
      "2021-11-30 16:42:33 [scrapy.core.engine] DEBUG: Crawled (200) <GET https://printpps.com/> (referer: None)\n"
     ]
    },
    {
     "name": "stdout",
     "output_type": "stream",
     "text": [
      "site_url https://seatacpackaging.com/ site_url_close ['https://seatacpackaging.com/', 'http://3cpackaging.com/', 'http://3cpackaging.com/']\n",
      "site_url_close[0] https://seatacpackaging.com/\n",
      "ii 741 self.companies[ii] SeaTac Packaging\n",
      "out1 true iout1 587 url https://seatacpackaging.com/\n",
      "companies[0] Publishers'​ Graphics this url https://seatacpackaging.com/\n",
      "site_url https://doctech.com/ site_url_close ['https://cad-techs.com/', 'http://www.doctech.com', 'https://buchertech.com/']\n",
      "site_url_close[0] https://cad-techs.com/\n",
      "ii 474 self.companies[ii] Cad-Techs\n",
      "out1 true iout1 588 url https://doctech.com/\n",
      "companies[0] Some Pig Information Design this url https://doctech.com/\n",
      "site_url https://www.integdoes.com/ site_url_close ['https://www.integdoes.com/', 'http://www.noteads.com/', 'https://www3.ids.com/']\n",
      "site_url_close[0] https://www.integdoes.com/\n",
      "ii 737 self.companies[ii] Integ\n",
      "out1 false iout2 76 url https://www.integdoes.com/\n",
      "companies[0] Direct Signs & Printing this url https://www.integdoes.com/\n",
      "site_url http://www.cccomplete.com/ site_url_close ['http://www.cccomplete.com/', 'http://www.complex.com/', 'https://www.completemail.com']\n",
      "site_url_close[0] http://www.cccomplete.com/\n",
      "ii 742 self.companies[ii] BallotPoint Election Services\n",
      "out1 true iout1 589 url http://www.cccomplete.com/\n",
      "companies[0] uslabel.net this url http://www.cccomplete.com/\n",
      "site_url https://www.chromaticlabels.com/ site_url_close ['https://www.chromaticlabels.com/', 'https://www.creativelabels.com', 'https://www.acrolabels.com']\n",
      "site_url_close[0] https://www.chromaticlabels.com/\n",
      "ii 739 self.companies[ii] Chromatic\n",
      "out1 true iout1 590 url https://www.chromaticlabels.com/\n",
      "companies[0] Ravin Printing this url https://www.chromaticlabels.com/\n"
     ]
    },
    {
     "name": "stderr",
     "output_type": "stream",
     "text": [
      "2021-11-30 16:42:35 [scrapy.core.engine] DEBUG: Crawled (403) <GET https://proformagraphicservices.com/> (referer: None) ['partial']\n",
      "2021-11-30 16:42:36 [scrapy.downloadermiddlewares.redirect] DEBUG: Redirecting (301) to <GET https://harvest-tech.com> from <GET http://www.harvest-tech.com>\n",
      "2021-11-30 16:42:36 [scrapy.spidermiddlewares.httperror] INFO: Ignoring response <403 https://proformagraphicservices.com/>: HTTP status code is not handled or not allowed\n",
      "2021-11-30 16:42:36 [scrapy.downloadermiddlewares.redirect] DEBUG: Redirecting (301) to <GET http://www.parker.com/portal/site/PARKER/menuitem.223a4a3cce02eb6315731910237ad1ca/?vgnextoid=29e9000b2875e210VgnVCM10000048021dacRCRD&vgnextfmt=EN> from <GET http://www.hargravesfluidics.com>\n"
     ]
    },
    {
     "name": "stdout",
     "output_type": "stream",
     "text": [
      "site_url https://printpps.com/ site_url_close ['https://priapps.com/', 'http://printsf.com/', 'https://printparts.com']\n",
      "site_url_close[0] https://priapps.com/\n",
      "ii 4061 self.companies[ii] PriApps\n",
      "out1 true iout1 591 url https://printpps.com/\n",
      "companies[0] The Print Connection this url https://printpps.com/\n"
     ]
    },
    {
     "name": "stderr",
     "output_type": "stream",
     "text": [
      "2021-11-30 16:42:36 [scrapy.downloadermiddlewares.redirect] DEBUG: Redirecting (301) to <GET http://3drholdings.com> from <GET http://mecklermedia.com>\n",
      "2021-11-30 16:42:36 [scrapy.core.engine] DEBUG: Crawled (200) <GET https://www.supercheapsigns.com:443/> (referer: None)\n",
      "2021-11-30 16:42:36 [scrapy.core.engine] DEBUG: Crawled (200) <GET https://redhen.org/> (referer: None)\n",
      "2021-11-30 16:42:36 [scrapy.core.engine] DEBUG: Crawled (200) <GET https://pacerprint.com/> (referer: None)\n",
      "2021-11-30 16:42:36 [scrapy.downloadermiddlewares.redirect] DEBUG: Redirecting (302) to <GET https://planexpress.net/Default.aspx?tabid=13652&returnurl=%2fdefault.aspx> from <GET https://planexpress.net/>\n"
     ]
    },
    {
     "name": "stdout",
     "output_type": "stream",
     "text": [
      "site_url https://www.supercheapsigns.com:443/ site_url_close ['http://www.supercheapsigns.com', 'https://www.keensigns.com/', 'https://www.masterstouchsigns.com/']\n",
      "site_url_close[0] http://www.supercheapsigns.com\n",
      "ii 727 self.companies[ii] Super Cheap Signs\n",
      "out1 true iout1 592 url https://www.supercheapsigns.com:443/\n",
      "companies[0] ROX United this url https://www.supercheapsigns.com:443/\n",
      "site_url https://redhen.org/ site_url_close ['https://redhen.org/', 'https://rednews.com/', 'http://efi.org/']\n",
      "site_url_close[0] https://redhen.org/\n",
      "ii 744 self.companies[ii] Red Hen Press\n",
      "out1 true iout1 593 url https://redhen.org/\n",
      "companies[0] Endless Edge this url https://redhen.org/\n"
     ]
    },
    {
     "name": "stderr",
     "output_type": "stream",
     "text": [
      "2021-11-30 16:42:37 [scrapy.downloadermiddlewares.retry] DEBUG: Retrying <GET https://docuserve.com/> (failed 1 times): [<twisted.python.failure.Failure OpenSSL.SSL.Error: [('SSL routines', 'ssl3_read_bytes', 'tlsv1 alert internal error')]>]\n",
      "2021-11-30 16:42:37 [scrapy.core.engine] DEBUG: Crawled (200) <GET https://www.systemseals.com/> (referer: None)\n"
     ]
    },
    {
     "name": "stdout",
     "output_type": "stream",
     "text": [
      "site_url https://pacerprint.com/ site_url_close ['https://pacerprint.com/', 'https://ameri-print.com/', 'https://fasprint.com/']\n",
      "site_url_close[0] https://pacerprint.com/\n",
      "ii 743 self.companies[ii] Pacer Print\n",
      "out1 true iout1 594 url https://pacerprint.com/\n",
      "companies[0] Notable Impressions this url https://pacerprint.com/\n"
     ]
    },
    {
     "name": "stderr",
     "output_type": "stream",
     "text": [
      "2021-11-30 16:42:37 [scrapy.core.engine] DEBUG: Crawled (200) <GET https://www.absolutescreenprinting.com/> (referer: None)\n",
      "2021-11-30 16:42:38 [scrapy.core.engine] DEBUG: Crawled (200) <GET https://www.desktopmiracles.com> (referer: None)\n",
      "2021-11-30 16:42:38 [scrapy.core.engine] DEBUG: Crawled (200) <GET https://www.stencilsonline.com/> (referer: None)\n",
      "2021-11-30 16:42:38 [scrapy.core.engine] DEBUG: Crawled (200) <GET https://www.berber.com/> (referer: None)\n",
      "2021-11-30 16:42:38 [scrapy.core.engine] DEBUG: Crawled (200) <GET https://usedcarnews.com/> (referer: None)\n",
      "2021-11-30 16:42:38 [scrapy.core.engine] DEBUG: Crawled (200) <GET https://www.ils-barcode.com/> (referer: None)\n"
     ]
    },
    {
     "name": "stdout",
     "output_type": "stream",
     "text": [
      "site_url https://www.systemseals.com/ site_url_close ['http://www.systemseals.com', 'http://www.x5systems.com/', 'https://www.systemsgraphics.com']\n",
      "site_url_close[0] http://www.systemseals.com\n",
      "ii 726 self.companies[ii] System Seals Inc\n",
      "out1 true iout1 595 url https://www.systemseals.com/\n",
      "companies[0] Hornet Signs this url https://www.systemseals.com/\n"
     ]
    },
    {
     "name": "stderr",
     "output_type": "stream",
     "text": [
      "2021-11-30 16:42:38 [scrapy.core.scraper] DEBUG: Scraped from <200 https://www.absolutescreenprinting.com/>\n",
      "{'Organization': 'Absolute Screen Printing',\n",
      " 'fulltext': 'nan',\n",
      " 'searchterm': 'screen printing',\n",
      " 'url': 'https://www.absolutescreenprinting.com/'}\n",
      "2021-11-30 16:42:38 [scrapy.core.engine] DEBUG: Crawled (200) <GET https://www.lrsoutputmanagement.com/products/capella-products> (referer: None)\n"
     ]
    },
    {
     "name": "stdout",
     "output_type": "stream",
     "text": [
      "site_url https://www.absolutescreenprinting.com/ site_url_close ['http://www.absolutescreenprinting.com', 'https://www.screenprinting.com/', 'https://www.dovescreenprinting.com']\n",
      "site_url_close[0] http://www.absolutescreenprinting.com\n",
      "ii 738 self.companies[ii] Absolute Screen Printing\n",
      "yielding item screen printing\n",
      "out1 true iout1 596 url https://www.absolutescreenprinting.com/\n",
      "companies[0] Color Depot this url https://www.absolutescreenprinting.com/\n"
     ]
    },
    {
     "name": "stderr",
     "output_type": "stream",
     "text": [
      "2021-11-30 16:42:39 [scrapy.core.scraper] ERROR: Spider error processing <GET https://www.desktopmiracles.com> (referer: None)\n",
      "Traceback (most recent call last):\n",
      "  File \"C:\\Users\\MStopa\\AppData\\Local\\Continuum\\anaconda3\\envs\\webscrape\\lib\\site-packages\\scrapy\\utils\\defer.py\", line 120, in iter_errback\n",
      "    yield next(it)\n",
      "  File \"C:\\Users\\MStopa\\AppData\\Local\\Continuum\\anaconda3\\envs\\webscrape\\lib\\site-packages\\scrapy\\utils\\python.py\", line 346, in __next__\n",
      "    return next(self.data)\n",
      "  File \"C:\\Users\\MStopa\\AppData\\Local\\Continuum\\anaconda3\\envs\\webscrape\\lib\\site-packages\\scrapy\\utils\\python.py\", line 346, in __next__\n",
      "    return next(self.data)\n",
      "  File \"C:\\Users\\MStopa\\AppData\\Local\\Continuum\\anaconda3\\envs\\webscrape\\lib\\site-packages\\scrapy\\core\\spidermw.py\", line 64, in _evaluate_iterable\n",
      "    for r in iterable:\n",
      "  File \"C:\\Users\\MStopa\\AppData\\Local\\Continuum\\anaconda3\\envs\\webscrape\\lib\\site-packages\\scrapy\\spidermiddlewares\\offsite.py\", line 29, in process_spider_output\n",
      "    for x in result:\n",
      "  File \"C:\\Users\\MStopa\\AppData\\Local\\Continuum\\anaconda3\\envs\\webscrape\\lib\\site-packages\\scrapy\\core\\spidermw.py\", line 64, in _evaluate_iterable\n",
      "    for r in iterable:\n",
      "  File \"C:\\Users\\MStopa\\AppData\\Local\\Continuum\\anaconda3\\envs\\webscrape\\lib\\site-packages\\scrapy\\spidermiddlewares\\referer.py\", line 340, in <genexpr>\n",
      "    return (_set_referer(r) for r in result or ())\n",
      "  File \"C:\\Users\\MStopa\\AppData\\Local\\Continuum\\anaconda3\\envs\\webscrape\\lib\\site-packages\\scrapy\\core\\spidermw.py\", line 64, in _evaluate_iterable\n",
      "    for r in iterable:\n",
      "  File \"C:\\Users\\MStopa\\AppData\\Local\\Continuum\\anaconda3\\envs\\webscrape\\lib\\site-packages\\scrapy\\spidermiddlewares\\urllength.py\", line 37, in <genexpr>\n",
      "    return (r for r in result or () if _filter(r))\n",
      "  File \"C:\\Users\\MStopa\\AppData\\Local\\Continuum\\anaconda3\\envs\\webscrape\\lib\\site-packages\\scrapy\\core\\spidermw.py\", line 64, in _evaluate_iterable\n",
      "    for r in iterable:\n",
      "  File \"C:\\Users\\MStopa\\AppData\\Local\\Continuum\\anaconda3\\envs\\webscrape\\lib\\site-packages\\scrapy\\spidermiddlewares\\depth.py\", line 58, in <genexpr>\n",
      "    return (r for r in result or () if _filter(r))\n",
      "  File \"C:\\Users\\MStopa\\AppData\\Local\\Continuum\\anaconda3\\envs\\webscrape\\lib\\site-packages\\scrapy\\core\\spidermw.py\", line 64, in _evaluate_iterable\n",
      "    for r in iterable:\n",
      "  File \"<ipython-input-9-10a30e00531c>\", line 132, in parse\n",
      "    file1.write(out2 + '\\n')\n",
      "  File \"C:\\Users\\MStopa\\AppData\\Local\\Continuum\\anaconda3\\envs\\webscrape\\lib\\encodings\\cp1252.py\", line 19, in encode\n",
      "    return codecs.charmap_encode(input,self.errors,encoding_table)[0]\n",
      "UnicodeEncodeError: 'charmap' codec can't encode character '\\u2008' in position 291: character maps to <undefined>\n"
     ]
    },
    {
     "name": "stdout",
     "output_type": "stream",
     "text": [
      "site_url https://www.desktopmiracles.com site_url_close ['https://www.desktopmiracles.com', 'https://www.dcscopiers.com', 'https://www.hpmile.com']\n",
      "site_url_close[0] https://www.desktopmiracles.com\n",
      "ii 750 self.companies[ii] Desktop Miracles\n",
      "out1 true iout1 597 url https://www.desktopmiracles.com\n",
      "site_url https://www.stencilsonline.com/ site_url_close ['http://www.stencilsonline.com', 'https://www.engleonline.com', 'https://www.trucoloronline.com/']\n",
      "site_url_close[0] http://www.stencilsonline.com\n",
      "ii 728 self.companies[ii] Stencils Online\n",
      "out1 true iout1 598 url https://www.stencilsonline.com/\n",
      "companies[0] Corporate Printing Resource this url https://www.stencilsonline.com/\n",
      "site_url https://www.berber.com/ site_url_close ['https://www.berber.com/', 'https://www.rrd.com/', 'https://www.merchbro.com/']\n",
      "site_url_close[0] https://www.berber.com/\n",
      "ii 746 self.companies[ii] Berber Corp / UltraTech\n",
      "out1 true iout1 599 url https://www.berber.com/\n",
      "companies[0] I.C. Ink this url https://www.berber.com/\n",
      "site_url https://usedcarnews.com/ site_url_close ['https://usedcarnews.com/', 'https://rednews.com/', 'https://elpopularnews.com/']\n",
      "site_url_close[0] https://usedcarnews.com/\n",
      "ii 749 self.companies[ii] Used Car News\n",
      "out1 true iout1 600 url https://usedcarnews.com/\n",
      "companies[0] Palette Communications this url https://usedcarnews.com/\n"
     ]
    },
    {
     "name": "stderr",
     "output_type": "stream",
     "text": [
      "2021-11-30 16:42:41 [scrapy.downloadermiddlewares.redirect] DEBUG: Redirecting (301) to <GET https://www.freshwatercreative.com/> from <GET http://www.freshwatercreative.com>\n",
      "2021-11-30 16:42:41 [scrapy.downloadermiddlewares.redirect] DEBUG: Redirecting (301) to <GET https://www.digitalmps.com/> from <GET http://www.digitalmps.com>\n"
     ]
    },
    {
     "name": "stdout",
     "output_type": "stream",
     "text": [
      "site_url https://www.ils-barcode.com/ site_url_close ['https://www.ils-barcode.com/', 'https://www.barcodestalk.com/', 'http://www.ais-co.com/']\n",
      "site_url_close[0] https://www.ils-barcode.com/\n",
      "ii 752 self.companies[ii] Industrial Labeling Systems Corp\n",
      "out1 true iout1 601 url https://www.ils-barcode.com/\n",
      "companies[0] Kenny T's this url https://www.ils-barcode.com/\n",
      "site_url https://www.lrsoutputmanagement.com/products/capella-products site_url_close ['https://fractureme.com/our-products/', 'http://www.roiprintmanager.com/', 'https://www.ingramcontent.com/publishers/print']\n",
      "site_url_close[0] https://fractureme.com/our-products/\n",
      "ii 3953 self.companies[ii] Fracture\n",
      "out1 true iout1 602 url https://www.lrsoutputmanagement.com/products/capella-products\n",
      "companies[0] Zubie Wear this url https://www.lrsoutputmanagement.com/products/capella-products\n"
     ]
    },
    {
     "name": "stderr",
     "output_type": "stream",
     "text": [
      "2021-11-30 16:42:42 [scrapy.core.engine] DEBUG: Crawled (200) <GET https://www.stowebridge.com/> (referer: None)\n",
      "2021-11-30 16:42:42 [scrapy.core.engine] DEBUG: Crawled (200) <GET https://www.suppliesguys.com> (referer: None)\n",
      "2021-11-30 16:42:42 [scrapy.core.engine] DEBUG: Crawled (200) <GET https://cadsupplies.com/> (referer: None)\n",
      "2021-11-30 16:42:43 [scrapy.core.scraper] DEBUG: Scraped from <200 https://www.stowebridge.com/>\n",
      "{'Organization': 'Stowebridge',\n",
      " 'fulltext': 'nan',\n",
      " 'searchterm': 'screen printing',\n",
      " 'url': 'https://www.stowebridge.com/'}\n",
      "2021-11-30 16:42:43 [scrapy.core.engine] DEBUG: Crawled (200) <GET https://post-press.com/> (referer: None)\n",
      "2021-11-30 16:42:43 [scrapy.core.engine] DEBUG: Crawled (200) <GET https://www.cdgi.com> (referer: None)\n",
      "2021-11-30 16:42:43 [scrapy.core.engine] DEBUG: Crawled (200) <GET https://abgi.com/> (referer: None)\n"
     ]
    },
    {
     "name": "stdout",
     "output_type": "stream",
     "text": [
      "site_url https://www.stowebridge.com/ site_url_close ['http://www.stowebridge.com', 'https://www.waterside.com/', 'https://www.tomedes.com/']\n",
      "site_url_close[0] http://www.stowebridge.com\n",
      "ii 740 self.companies[ii] Stowebridge\n",
      "yielding item screen printing\n",
      "out1 true iout1 603 url https://www.stowebridge.com/\n",
      "companies[0] Community Wellness and Safety of Arizona this url https://www.stowebridge.com/\n",
      "site_url https://www.suppliesguys.com site_url_close ['https://www.suppliesguys.com', 'https://www.sfsupplies.com', 'http://www.cadsupplies.com']\n",
      "site_url_close[0] https://www.suppliesguys.com\n",
      "ii 758 self.companies[ii] Supplies Guys\n",
      "out1 true iout1 604 url https://www.suppliesguys.com\n",
      "companies[0] Broadcast Communications this url https://www.suppliesguys.com\n"
     ]
    },
    {
     "name": "stderr",
     "output_type": "stream",
     "text": [
      "2021-11-30 16:42:44 [scrapy.core.engine] DEBUG: Crawled (200) <GET https://harvest-tech.com> (referer: None)\n",
      "2021-11-30 16:42:44 [scrapy.core.engine] DEBUG: Crawled (200) <GET https://www.msdallas.com> (referer: None)\n"
     ]
    },
    {
     "name": "stdout",
     "output_type": "stream",
     "text": [
      "site_url https://cadsupplies.com/ site_url_close ['http://www.cadsupplies.com', 'https://calsupply.com/', 'https://macasupply.com/']\n",
      "site_url_close[0] http://www.cadsupplies.com\n",
      "ii 723 self.companies[ii] CAD Supplies Specialty\n",
      "out1 true iout1 605 url https://cadsupplies.com/\n",
      "companies[0] Signs Etc. this url https://cadsupplies.com/\n",
      "site_url https://post-press.com/ site_url_close ['https://post-press.com/', 'https://westpress.com', 'https://j-cpress.com/']\n",
      "site_url_close[0] https://post-press.com/\n",
      "ii 756 self.companies[ii] Post Press Specialties\n",
      "out1 true iout1 606 url https://post-press.com/\n",
      "companies[0] On Press eDiscovery this url https://post-press.com/\n",
      "site_url https://www.cdgi.com site_url_close ['https://www.cdgi.com', 'https://www.cds.com/', 'https://www.dggink.com/']\n",
      "site_url_close[0] https://www.cdgi.com\n",
      "ii 757 self.companies[ii] Clockwork Design Group\n",
      "out1 true iout1 607 url https://www.cdgi.com\n",
      "companies[0] Creative Department Unlimited this url https://www.cdgi.com\n"
     ]
    },
    {
     "name": "stderr",
     "output_type": "stream",
     "text": [
      "2021-11-30 16:42:45 [scrapy.core.engine] DEBUG: Crawled (200) <GET http://innovisionhm.com/> (referer: None)\n",
      "2021-11-30 16:42:45 [scrapy.downloadermiddlewares.redirect] DEBUG: Redirecting (301) to <GET https://www.lenticularpromo.com/Default.asp> from <GET http://www.lenticularpromo.com>\n"
     ]
    },
    {
     "name": "stdout",
     "output_type": "stream",
     "text": [
      "site_url https://abgi.com/ site_url_close ['https://abgi.com/', 'https://absit.com/', 'https://wbf.com/']\n",
      "site_url_close[0] https://abgi.com/\n",
      "ii 755 self.companies[ii] ABGI\n",
      "out1 true iout1 608 url https://abgi.com/\n",
      "companies[0] TonerTiger this url https://abgi.com/\n",
      "site_url https://harvest-tech.com site_url_close ['http://www.harvest-tech.com', 'http://bastech.com/', 'https://cad-techs.com/']\n",
      "site_url_close[0] http://www.harvest-tech.com\n",
      "ii 747 self.companies[ii] Harvest Technologies\n",
      "out1 true iout1 609 url https://harvest-tech.com\n",
      "companies[0] Artworx this url https://harvest-tech.com\n"
     ]
    },
    {
     "name": "stderr",
     "output_type": "stream",
     "text": [
      "2021-11-30 16:42:46 [scrapy.core.engine] DEBUG: Crawled (200) <GET http://www.allpointsatl.com/> (referer: None)\n",
      "2021-11-30 16:42:46 [scrapy.core.engine] DEBUG: Crawled (200) <GET https://www.clubflyers.com> (referer: None)\n"
     ]
    },
    {
     "name": "stdout",
     "output_type": "stream",
     "text": [
      "site_url https://www.msdallas.com site_url_close ['https://www.msdallas.com', 'https://www.sandhills.com/', 'https://www.imagesales.com']\n",
      "site_url_close[0] https://www.msdallas.com\n",
      "ii 759 self.companies[ii] MS Dallas\n",
      "out1 true iout1 610 url https://www.msdallas.com\n",
      "companies[0] Millennium Signs & Display this url https://www.msdallas.com\n"
     ]
    },
    {
     "name": "stderr",
     "output_type": "stream",
     "text": [
      "2021-11-30 16:42:46 [scrapy.core.engine] DEBUG: Crawled (200) <GET https://planexpress.net/Default.aspx?tabid=13652&returnurl=%2fdefault.aspx> (referer: None)\n",
      "2021-11-30 16:42:46 [scrapy.downloadermiddlewares.redirect] DEBUG: Redirecting (301) to <GET https://www.hudson-yards.com/shootdigital/> from <GET http://www.shootdigital.com/>\n",
      "2021-11-30 16:42:46 [scrapy.downloadermiddlewares.retry] DEBUG: Retrying <GET http://www.mypublisher.com> (failed 2 times): TCP connection timed out: 10060: A connection attempt failed because the connected party did not properly respond after a period of time, or established connection failed because connected host has failed to respond..\n",
      "2021-11-30 16:42:46 [scrapy.downloadermiddlewares.retry] DEBUG: Retrying <GET https://docuserve.com/> (failed 2 times): [<twisted.python.failure.Failure OpenSSL.SSL.Error: [('SSL routines', 'ssl3_read_bytes', 'tlsv1 alert internal error')]>]\n"
     ]
    },
    {
     "name": "stdout",
     "output_type": "stream",
     "text": [
      "site_url http://innovisionhm.com/ site_url_close ['http://innovisionhm.com/', 'http://nvisionimaging.com/', 'http://innoprint.com/']\n",
      "site_url_close[0] http://innovisionhm.com/\n",
      "ii 762 self.companies[ii] InnoVision Health Media\n",
      "out1 true iout1 611 url http://innovisionhm.com/\n",
      "companies[0] Flash Card this url http://innovisionhm.com/\n",
      "site_url http://www.allpointsatl.com/ site_url_close ['http://www.allpointsatl.com/', 'http://www.albint.com/', 'https://www.rabpoint.com/']\n",
      "site_url_close[0] http://www.allpointsatl.com/\n",
      "ii 763 self.companies[ii] All Points\n",
      "out1 true iout1 612 url http://www.allpointsatl.com/\n",
      "companies[0] The MAD House this url http://www.allpointsatl.com/\n"
     ]
    },
    {
     "name": "stderr",
     "output_type": "stream",
     "text": [
      "2021-11-30 16:42:47 [scrapy.downloadermiddlewares.redirect] DEBUG: Redirecting (301) to <GET https://www.colorfxweb.com/> from <GET http://www.colorfxweb.com/>\n"
     ]
    },
    {
     "name": "stdout",
     "output_type": "stream",
     "text": [
      "site_url https://www.clubflyers.com site_url_close ['https://www.clubflyers.com', 'https://www.gpsflyers.com/', 'http://www.alertflyers.com']\n",
      "site_url_close[0] https://www.clubflyers.com\n",
      "ii 760 self.companies[ii] ClubFlyers.com\n",
      "out1 true iout1 613 url https://www.clubflyers.com\n",
      "companies[0] All-American Sports Posters this url https://www.clubflyers.com\n"
     ]
    },
    {
     "name": "stderr",
     "output_type": "stream",
     "text": [
      "2021-11-30 16:42:48 [scrapy.downloadermiddlewares.redirect] DEBUG: Redirecting (301) to <GET https://floorproductionsllc.com/> from <GET https://www.floorproductionsllc.com>\n",
      "2021-11-30 16:42:48 [scrapy.downloadermiddlewares.redirect] DEBUG: Redirecting (301) to <GET https://3drholdings.com/> from <GET http://3drholdings.com>\n",
      "2021-11-30 16:42:48 [scrapy.downloadermiddlewares.redirect] DEBUG: Redirecting (301) to <GET https://www.gigundagroup.com/> from <GET https://gigundagroup.com>\n"
     ]
    },
    {
     "name": "stdout",
     "output_type": "stream",
     "text": [
      "site_url https://planexpress.net/Default.aspx?tabid=13652&returnurl=%2fdefault.aspx site_url_close ['http://www.planexpress.net', 'https://www.osv.com/default.aspx', 'http://www.emjmetals.com/Default.aspx']\n",
      "site_url_close[0] http://www.planexpress.net\n",
      "ii 732 self.companies[ii] Plan Express\n",
      "out1 true iout1 614 url https://planexpress.net/Default.aspx?tabid=13652&returnurl=%2fdefault.aspx\n",
      "companies[0] Harvard Card Systems this url https://planexpress.net/Default.aspx?tabid=13652&returnurl=%2fdefault.aspx\n"
     ]
    },
    {
     "name": "stderr",
     "output_type": "stream",
     "text": [
      "2021-11-30 16:42:48 [scrapy.downloadermiddlewares.redirect] DEBUG: Redirecting (301) to <GET https://www.viapromos.com> from <GET http://www.viapromos.com>\n",
      "2021-11-30 16:42:49 [scrapy.core.engine] DEBUG: Crawled (200) <GET https://www.graphdim.com> (referer: None)\n",
      "2021-11-30 16:42:49 [scrapy.core.engine] DEBUG: Crawled (200) <GET https://www.allamericanlabel.net/> (referer: None)\n",
      "2021-11-30 16:42:49 [scrapy.core.engine] DEBUG: Crawled (200) <GET https://www.freshwatercreative.com/> (referer: None)\n",
      "2021-11-30 16:42:49 [scrapy.core.engine] DEBUG: Crawled (200) <GET https://www.lenticularpromo.com/Default.asp> (referer: None)\n",
      "2021-11-30 16:42:49 [scrapy.core.engine] DEBUG: Crawled (200) <GET https://www.digitalmps.com/> (referer: None)\n"
     ]
    },
    {
     "name": "stdout",
     "output_type": "stream",
     "text": [
      "site_url https://www.graphdim.com site_url_close ['https://www.graphdim.com', 'https://www.rapit.com', 'https://www.amgraph.com/']\n",
      "site_url_close[0] https://www.graphdim.com\n",
      "ii 769 self.companies[ii] Graphic Dimensions\n",
      "out1 true iout1 615 url https://www.graphdim.com\n",
      "companies[0] At Home in Arkansas this url https://www.graphdim.com\n",
      "site_url https://www.allamericanlabel.net/ site_url_close ['https://www.allamericanlabel.net/', 'https://www.alliancefm.net/', 'https://www.stellarink.net/']\n",
      "site_url_close[0] https://www.allamericanlabel.net/\n",
      "ii 768 self.companies[ii] All American Label\n",
      "out1 true iout1 616 url https://www.allamericanlabel.net/\n",
      "companies[0] GINGALLEY this url https://www.allamericanlabel.net/\n",
      "site_url https://www.freshwatercreative.com/ site_url_close ['http://www.freshwatercreative.com', 'https://www.freshwaterstudio.com/', 'https://www.mindsharecreative1.com/']\n",
      "site_url_close[0] http://www.freshwatercreative.com\n",
      "ii 753 self.companies[ii] Freshwater Creative\n",
      "out1 true iout1 617 url https://www.freshwatercreative.com/\n",
      "companies[0] Network Financial Printing this url https://www.freshwatercreative.com/\n",
      "site_url https://www.lenticularpromo.com/Default.asp site_url_close ['http://www.lenticularpromo.com', 'https://www.gogopak.com/Default.asp', 'https://www.osv.com/default.aspx']\n",
      "site_url_close[0] http://www.lenticularpromo.com\n",
      "ii 761 self.companies[ii] Lantor\n",
      "out1 true iout1 618 url https://www.lenticularpromo.com/Default.asp\n",
      "companies[0] Indy Painting and Logo Design this url https://www.lenticularpromo.com/Default.asp\n"
     ]
    },
    {
     "name": "stderr",
     "output_type": "stream",
     "text": [
      "2021-11-30 16:42:51 [scrapy.core.engine] DEBUG: Crawled (200) <GET http://www.postergarden.com> (referer: None)\n",
      "2021-11-30 16:42:51 [scrapy.downloadermiddlewares.redirect] DEBUG: Redirecting (301) to <GET https://www.socalbio.org/> from <GET http://www.socalbio.org/>\n",
      "2021-11-30 16:42:51 [scrapy.core.engine] DEBUG: Crawled (200) <GET https://www.manhmedia.com/> (referer: None)\n"
     ]
    },
    {
     "name": "stdout",
     "output_type": "stream",
     "text": [
      "site_url https://www.digitalmps.com/ site_url_close ['http://www.digitalmps.com', 'https://www.digitalprint.com/', 'https://www.ibedigital.com/']\n",
      "site_url_close[0] http://www.digitalmps.com\n",
      "ii 754 self.companies[ii] Digital MPS\n",
      "out1 true iout1 619 url https://www.digitalmps.com/\n",
      "companies[0] In Stitches Designs this url https://www.digitalmps.com/\n",
      "site_url http://www.postergarden.com site_url_close ['http://www.postergarden.com', 'http://www.permacard.com', 'http://www.apsture.com']\n",
      "site_url_close[0] http://www.postergarden.com\n",
      "ii 772 self.companies[ii] PosterGarden\n",
      "out1 true iout1 620 url http://www.postergarden.com\n",
      "companies[0] Usio Output Solutions this url http://www.postergarden.com\n"
     ]
    },
    {
     "name": "stderr",
     "output_type": "stream",
     "text": [
      "2021-11-30 16:42:52 [scrapy.downloadermiddlewares.redirect] DEBUG: Redirecting (301) to <GET https://bigvisualgroup.com/> from <GET https://www.bigvisualgroup.com>\n",
      "2021-11-30 16:42:52 [scrapy.downloadermiddlewares.redirect] DEBUG: Redirecting (302) to <GET http://grannystone.com/> from <GET http://www.grannystone.com>\n",
      "2021-11-30 16:42:52 [scrapy.core.engine] DEBUG: Crawled (404) <GET http://mkusa.com/> (referer: None)\n",
      "2021-11-30 16:42:52 [scrapy.spidermiddlewares.httperror] INFO: Ignoring response <404 http://mkusa.com/>: HTTP status code is not handled or not allowed\n"
     ]
    },
    {
     "name": "stdout",
     "output_type": "stream",
     "text": [
      "site_url https://www.manhmedia.com/ site_url_close ['https://www.manhmedia.com/', 'https://www.mgmedia.com', 'https://www.midnetmedia.com/']\n",
      "site_url_close[0] https://www.manhmedia.com/\n",
      "ii 770 self.companies[ii] Manhattan Media Services\n",
      "out1 true iout1 621 url https://www.manhmedia.com/\n",
      "companies[0] Parrot Digigraphic this url https://www.manhmedia.com/\n"
     ]
    },
    {
     "name": "stderr",
     "output_type": "stream",
     "text": [
      "2021-11-30 16:42:52 [scrapy.core.engine] DEBUG: Crawled (200) <GET https://www.hudson-yards.com/shootdigital/> (referer: None)\n",
      "2021-11-30 16:42:53 [scrapy.core.engine] DEBUG: Crawled (400) <GET https://highresolutions.com/> (referer: None)\n",
      "2021-11-30 16:42:53 [scrapy.spidermiddlewares.httperror] INFO: Ignoring response <400 https://highresolutions.com/>: HTTP status code is not handled or not allowed\n"
     ]
    },
    {
     "name": "stdout",
     "output_type": "stream",
     "text": [
      "site_url https://www.hudson-yards.com/shootdigital/ site_url_close ['http://www.shootdigital.com/', 'https://www.handgards.com/', 'https://www.bhpioneer.com/site']\n",
      "site_url_close[0] http://www.shootdigital.com/\n",
      "ii 765 self.companies[ii] Shootdigital\n",
      "out1 true iout1 622 url https://www.hudson-yards.com/shootdigital/\n",
      "companies[0] Myriad Media this url https://www.hudson-yards.com/shootdigital/\n"
     ]
    },
    {
     "name": "stderr",
     "output_type": "stream",
     "text": [
      "2021-11-30 16:42:54 [scrapy.downloadermiddlewares.redirect] DEBUG: Redirecting (301) to <GET https://promotionplusinc.com/> from <GET https://www.promotionplusinc.com>\n",
      "2021-11-30 16:42:54 [scrapy.downloadermiddlewares.retry] ERROR: Gave up retrying <GET https://docuserve.com/> (failed 3 times): [<twisted.python.failure.Failure OpenSSL.SSL.Error: [('SSL routines', 'ssl3_read_bytes', 'tlsv1 alert internal error')]>]\n",
      "2021-11-30 16:42:54 [scrapy.downloadermiddlewares.redirect] DEBUG: Redirecting (301) to <GET https://hunterhawk.com/> from <GET https://www.hunterhawk.com>\n",
      "2021-11-30 16:42:54 [scrapy.core.scraper] ERROR: Error downloading <GET https://docuserve.com/>\n",
      "Traceback (most recent call last):\n",
      "  File \"C:\\Users\\MStopa\\AppData\\Local\\Continuum\\anaconda3\\envs\\webscrape\\lib\\site-packages\\scrapy\\core\\downloader\\middleware.py\", line 44, in process_request\n",
      "    return (yield download_func(request=request, spider=spider))\n",
      "twisted.web._newclient.ResponseNeverReceived: [<twisted.python.failure.Failure OpenSSL.SSL.Error: [('SSL routines', 'ssl3_read_bytes', 'tlsv1 alert internal error')]>]\n",
      "2021-11-30 16:42:54 [scrapy.core.engine] DEBUG: Crawled (200) <GET https://www.envelopments.com> (referer: None)\n",
      "2021-11-30 16:42:54 [scrapy.core.engine] DEBUG: Crawled (200) <GET http://3ddigitalcorp.com> (referer: None)\n"
     ]
    },
    {
     "name": "stdout",
     "output_type": "stream",
     "text": [
      "site_url https://www.envelopments.com site_url_close ['https://www.envelopments.com', 'http://www.envelopes.com', 'https://www.huskyenvelope.com']\n",
      "site_url_close[0] https://www.envelopments.com\n",
      "ii 782 self.companies[ii] Envelopments\n",
      "out1 true iout1 623 url https://www.envelopments.com\n",
      "companies[0] Levers Advertising & Design this url https://www.envelopments.com\n"
     ]
    },
    {
     "name": "stderr",
     "output_type": "stream",
     "text": [
      "2021-11-30 16:42:55 [scrapy.core.engine] DEBUG: Crawled (200) <GET https://labels.desi.com/> (referer: None)\n"
     ]
    },
    {
     "name": "stdout",
     "output_type": "stream",
     "text": [
      "site_url http://3ddigitalcorp.com site_url_close ['http://3ddigitalcorp.com', 'https://digitalcolorinc.com', 'http://inxdigital.com']\n",
      "site_url_close[0] http://3ddigitalcorp.com\n",
      "ii 783 self.companies[ii] 3D Digital\n",
      "out1 false iout2 77 url http://3ddigitalcorp.com\n",
      "companies[0] CouponPages.Com this url http://3ddigitalcorp.com\n",
      "site_url https://labels.desi.com/ site_url_close ['https://labels.desi.com/', 'https://psglabels.com/', 'https://www.labelswest.com/']\n",
      "site_url_close[0] https://labels.desi.com/\n",
      "ii 781 self.companies[ii] Desi Telephone Labels\n",
      "out1 true iout1 624 url https://labels.desi.com/\n",
      "companies[0] PrinterStop this url https://labels.desi.com/\n"
     ]
    },
    {
     "name": "stderr",
     "output_type": "stream",
     "text": [
      "2021-11-30 16:42:55 [scrapy.core.engine] DEBUG: Crawled (200) <GET https://dotradeshow.com/> (referer: None)\n",
      "2021-11-30 16:42:56 [scrapy.downloadermiddlewares.redirect] DEBUG: Redirecting (302) to <GET https://www.hugedomains.com/domain_profile.cfm?d=infinitepkg&e=com> from <GET http://www.infinitepkg.com/>\n",
      "2021-11-30 16:42:56 [scrapy.core.engine] DEBUG: Crawled (200) <GET https://theprinterpro.com/> (referer: None)\n",
      "2021-11-30 16:42:56 [scrapy.core.engine] DEBUG: Crawled (200) <GET https://www.verifiedlabel.com> (referer: None)\n"
     ]
    },
    {
     "name": "stdout",
     "output_type": "stream",
     "text": [
      "site_url https://dotradeshow.com/ site_url_close ['https://dotradeshow.com/', 'https://www.tradeshowdirect.com/', 'https://post-press.com/']\n",
      "site_url_close[0] https://dotradeshow.com/\n",
      "ii 785 self.companies[ii] Trade Show Displays\n",
      "out1 true iout1 625 url https://dotradeshow.com/\n",
      "companies[0] Strategic Materials Inc this url https://dotradeshow.com/\n"
     ]
    },
    {
     "name": "stderr",
     "output_type": "stream",
     "text": [
      "2021-11-30 16:42:57 [scrapy.core.downloader.tls] WARNING: Remote certificate is not valid for hostname \"www.circ.biz\"; VerificationError(errors=[DNSMismatch(mismatched_id=DNS_ID(hostname=b'www.circ.biz'))])\n"
     ]
    },
    {
     "name": "stdout",
     "output_type": "stream",
     "text": [
      "site_url https://theprinterpro.com/ site_url_close ['https://theprinterpro.com/', 'http://the-printer.com', 'https://ceprinter.com']\n",
      "site_url_close[0] https://theprinterpro.com/\n",
      "ii 786 self.companies[ii] Printer Pro Solutions\n",
      "out1 false iout2 78 url https://theprinterpro.com/\n",
      "companies[0] House of Magnets this url https://theprinterpro.com/\n"
     ]
    },
    {
     "name": "stderr",
     "output_type": "stream",
     "text": [
      "2021-11-30 16:42:57 [scrapy.core.engine] DEBUG: Crawled (200) <GET https://www.circ.biz/> (referer: None)\n"
     ]
    },
    {
     "name": "stdout",
     "output_type": "stream",
     "text": [
      "site_url https://www.verifiedlabel.com site_url_close ['https://www.verifiedlabel.com', 'http://www.verifiber.com', 'https://www.overnightlabels.com']\n",
      "site_url_close[0] https://www.verifiedlabel.com\n",
      "ii 784 self.companies[ii] Verified Label, Print & Promotions\n",
      "out1 true iout1 626 url https://www.verifiedlabel.com\n",
      "companies[0] Acument Global Technologies this url https://www.verifiedlabel.com\n"
     ]
    },
    {
     "name": "stderr",
     "output_type": "stream",
     "text": [
      "2021-11-30 16:42:58 [scrapy.core.engine] DEBUG: Crawled (200) <GET https://www.gigundagroup.com/> (referer: None)\n",
      "2021-11-30 16:42:58 [scrapy.downloadermiddlewares.redirect] DEBUG: Redirecting (301) to <GET https://www.centurydisplays.com/> from <GET http://www.centurydisplays.com>\n"
     ]
    },
    {
     "name": "stdout",
     "output_type": "stream",
     "text": [
      "site_url https://www.circ.biz/ site_url_close ['https://www.circ.biz/', 'https://www.mdimail.biz/', 'https://www.documart.biz']\n",
      "site_url_close[0] https://www.circ.biz/\n",
      "ii 787 self.companies[ii] Circ Design\n",
      "out1 true iout1 627 url https://www.circ.biz/\n",
      "companies[0] Periscope Agency this url https://www.circ.biz/\n"
     ]
    },
    {
     "name": "stderr",
     "output_type": "stream",
     "text": [
      "2021-11-30 16:42:58 [scrapy.core.engine] DEBUG: Crawled (200) <GET https://floorproductionsllc.com/> (referer: None)\n",
      "2021-11-30 16:42:58 [scrapy.core.engine] DEBUG: Crawled (200) <GET https://www.brooksnet.com/> (referer: None)\n",
      "2021-11-30 16:42:58 [scrapy.core.engine] DEBUG: Crawled (200) <GET https://3drholdings.com/> (referer: None)\n",
      "2021-11-30 16:42:58 [scrapy.core.engine] DEBUG: Crawled (200) <GET https://www.colorfxweb.com/> (referer: None)\n"
     ]
    },
    {
     "name": "stdout",
     "output_type": "stream",
     "text": [
      "site_url https://www.gigundagroup.com/ site_url_close ['https://gigundagroup.com', 'https://www.ppigroup.com/', 'https://www.bigvisualgroup.com']\n",
      "site_url_close[0] https://gigundagroup.com\n",
      "ii 764 self.companies[ii] Gigunda Group\n",
      "out1 true iout1 628 url https://www.gigundagroup.com/\n",
      "companies[0] Premier Packaging, LLC this url https://www.gigundagroup.com/\n",
      "site_url https://floorproductionsllc.com/ site_url_close ['https://www.floorproductionsllc.com', 'https://dataproductions.com/', 'https://hiflowsolutions.com/']\n",
      "site_url_close[0] https://www.floorproductionsllc.com\n",
      "ii 766 self.companies[ii] Floor Productions\n",
      "out1 true iout1 629 url https://floorproductionsllc.com/\n",
      "companies[0] Ortho Development Corporation this url https://floorproductionsllc.com/\n",
      "site_url https://www.brooksnet.com/ site_url_close ['https://www.brooksnet.com/', 'https://www.bonset.com/', 'https://www.bcsinet.com/']\n",
      "site_url_close[0] https://www.brooksnet.com/\n",
      "ii 789 self.companies[ii] Brooks Internet Software\n",
      "out1 true iout1 630 url https://www.brooksnet.com/\n",
      "companies[0] FORECAST 3D this url https://www.brooksnet.com/\n",
      "site_url https://3drholdings.com/ site_url_close ['http://dwmholdings.com', 'https://sneedcoding.com/', 'http://3dprint.com/']\n",
      "site_url_close[0] http://dwmholdings.com\n",
      "ii 2965 self.companies[ii] DWM Holdings\n",
      "out1 true iout1 631 url https://3drholdings.com/\n",
      "companies[0] MyPublisher this url https://3drholdings.com/\n"
     ]
    },
    {
     "name": "stderr",
     "output_type": "stream",
     "text": [
      "2021-11-30 16:43:00 [scrapy.downloadermiddlewares.redirect] DEBUG: Redirecting (301) to <GET https://printpromotions.com/> from <GET https://www.printpromotions.com>\n"
     ]
    },
    {
     "name": "stdout",
     "output_type": "stream",
     "text": [
      "site_url https://www.colorfxweb.com/ site_url_close ['http://www.colorfxweb.com/', 'https://www.color-x.com', 'https://www.cetcolor.com/']\n",
      "site_url_close[0] http://www.colorfxweb.com/\n",
      "ii 767 self.companies[ii] Color FX Inc.\n",
      "out1 true iout1 632 url https://www.colorfxweb.com/\n",
      "companies[0] Data Center Systems this url https://www.colorfxweb.com/\n"
     ]
    },
    {
     "name": "stderr",
     "output_type": "stream",
     "text": [
      "2021-11-30 16:43:00 [scrapy.core.downloader.tls] WARNING: Remote certificate is not valid for hostname \"www.onlinepub.com\"; VerificationError(errors=[DNSMismatch(mismatched_id=DNS_ID(hostname=b'www.onlinepub.com'))])\n",
      "2021-11-30 16:43:00 [scrapy.downloadermiddlewares.redirect] DEBUG: Redirecting (301) to <GET http://socalbio.org/> from <GET https://www.socalbio.org/>\n",
      "2021-11-30 16:43:00 [scrapy.downloadermiddlewares.redirect] DEBUG: Redirecting (301) to <GET http://bigsys.com/main/> from <GET https://bigsys.com/>\n",
      "2021-11-30 16:43:00 [scrapy.core.engine] DEBUG: Crawled (200) <GET https://expresscolor.com/> (referer: None)\n",
      "2021-11-30 16:43:00 [scrapy.core.engine] DEBUG: Crawled (200) <GET https://www.onlinepub.com/> (referer: None)\n",
      "2021-11-30 16:43:00 [scrapy.core.engine] DEBUG: Crawled (200) <GET https://promotionplusinc.com/> (referer: None)\n",
      "2021-11-30 16:43:00 [scrapy.core.engine] DEBUG: Crawled (200) <GET https://bigvisualgroup.com/> (referer: None)\n",
      "2021-11-30 16:43:01 [scrapy.core.engine] DEBUG: Crawled (200) <GET https://idlabelinc.com> (referer: None)\n",
      "2021-11-30 16:43:01 [scrapy.core.engine] DEBUG: Crawled (200) <GET https://www.viapromos.com> (referer: None)\n"
     ]
    },
    {
     "name": "stdout",
     "output_type": "stream",
     "text": [
      "site_url https://expresscolor.com/ site_url_close ['https://expresscolor.com/', 'https://premiumcolor.com/', 'https://measurecolor.com/']\n",
      "site_url_close[0] https://expresscolor.com/\n",
      "ii 792 self.companies[ii] Express Color\n",
      "out1 true iout1 633 url https://expresscolor.com/\n",
      "companies[0] Direct Technologies this url https://expresscolor.com/\n",
      "site_url https://www.onlinepub.com/ site_url_close ['https://www.onlinepub.com/', 'https://www.online-turf.com/', 'https://www.fbponline.com/']\n",
      "site_url_close[0] https://www.onlinepub.com/\n",
      "ii 794 self.companies[ii] On-Line Publishers\n",
      "out1 true iout1 634 url https://www.onlinepub.com/\n",
      "companies[0] Proto Technologies this url https://www.onlinepub.com/\n",
      "site_url https://promotionplusinc.com/ site_url_close ['https://www.promotionplusinc.com', 'https://www.bestpromotionsinc.com/', 'https://timsonsinc.com/']\n",
      "site_url_close[0] https://www.promotionplusinc.com\n",
      "ii 775 self.companies[ii] Promotion Plus Sign\n",
      "out1 true iout1 635 url https://promotionplusinc.com/\n",
      "companies[0] Proven Direct this url https://promotionplusinc.com/\n",
      "site_url https://bigvisualgroup.com/ site_url_close ['https://www.bigvisualgroup.com', 'https://vistavisualgroup.com', 'https://gigundagroup.com']\n",
      "site_url_close[0] https://www.bigvisualgroup.com\n",
      "ii 773 self.companies[ii] Big Visual Group\n",
      "out1 true iout1 636 url https://bigvisualgroup.com/\n",
      "companies[0] SEQENS North America (formerly PCI Synthesis) this url https://bigvisualgroup.com/\n",
      "site_url https://idlabelinc.com site_url_close ['https://idlabelinc.com', 'https://iglabel.com/', 'https://thilabel.com/']\n",
      "site_url_close[0] https://idlabelinc.com\n",
      "ii 791 self.companies[ii] ID Label\n",
      "out1 true iout1 637 url https://idlabelinc.com\n",
      "companies[0] Imagination Publishing this url https://idlabelinc.com\n"
     ]
    },
    {
     "name": "stderr",
     "output_type": "stream",
     "text": [
      "2021-11-30 16:43:03 [scrapy.downloadermiddlewares.redirect] DEBUG: Redirecting (301) to <GET https://rapidpro.com/> from <GET http://rapidpro.com/>\n"
     ]
    },
    {
     "name": "stdout",
     "output_type": "stream",
     "text": [
      "site_url https://www.viapromos.com site_url_close ['http://www.viapromos.com', 'https://www.willpromo.com', 'https://www.promosuns.com']\n",
      "site_url_close[0] http://www.viapromos.com\n",
      "ii 771 self.companies[ii] Via Promotionals\n",
      "out1 true iout1 638 url https://www.viapromos.com\n",
      "companies[0] Intense this url https://www.viapromos.com\n"
     ]
    },
    {
     "name": "stderr",
     "output_type": "stream",
     "text": [
      "2021-11-30 16:43:04 [scrapy.core.engine] DEBUG: Crawled (200) <GET https://bardpress.com/> (referer: None)\n",
      "2021-11-30 16:43:04 [scrapy.core.engine] DEBUG: Crawled (200) <GET https://www.colorbytesoftware.com/> (referer: None)\n",
      "2021-11-30 16:43:04 [scrapy.core.engine] DEBUG: Crawled (200) <GET https://hunterhawk.com/> (referer: None)\n",
      "2021-11-30 16:43:04 [scrapy.downloadermiddlewares.redirect] DEBUG: Redirecting (301) to <GET https://grannystone.com/> from <GET http://grannystone.com/>\n"
     ]
    },
    {
     "name": "stdout",
     "output_type": "stream",
     "text": [
      "site_url https://bardpress.com/ site_url_close ['https://bardpress.com/', 'http://brimpress.com/', 'https://lanepress.com/']\n",
      "site_url_close[0] https://bardpress.com/\n",
      "ii 796 self.companies[ii] Bard Press\n",
      "out1 true iout1 639 url https://bardpress.com/\n",
      "companies[0] Silicon Light Machines,Inc. this url https://bardpress.com/\n"
     ]
    },
    {
     "name": "stderr",
     "output_type": "stream",
     "text": [
      "2021-11-30 16:43:05 [scrapy.core.scraper] DEBUG: Scraped from <200 https://www.colorbytesoftware.com/>\r\n",
      "{'Organization': 'Colorbyte Software',\n",
      " 'fulltext': 'nan',\n",
      " 'searchterm': 'inkjet',\n",
      " 'url': 'https://www.colorbytesoftware.com/'}\n"
     ]
    },
    {
     "name": "stdout",
     "output_type": "stream",
     "text": [
      "site_url https://www.colorbytesoftware.com/ site_url_close ['https://www.colorbytesoftware.com/', 'https://www.printerssoftware.com/', 'https://www.p3software.com/']\n",
      "site_url_close[0] https://www.colorbytesoftware.com/\n",
      "ii 798 self.companies[ii] Colorbyte Software\n",
      "yielding item inkjet\n"
     ]
    },
    {
     "name": "stderr",
     "output_type": "stream",
     "text": [
      "2021-11-30 16:43:06 [scrapy.core.engine] DEBUG: Crawled (200) <GET http://www.worksdesigngroup.com/> (referer: None)\n",
      "2021-11-30 16:43:06 [scrapy.core.engine] DEBUG: Crawled (200) <GET https://www.logowearcompany.com/> (referer: None)\n",
      "2021-11-30 16:43:06 [scrapy.core.engine] DEBUG: Crawled (200) <GET https://www.hugedomains.com/domain_profile.cfm?d=infinitepkg&e=com> (referer: None)\n"
     ]
    },
    {
     "name": "stdout",
     "output_type": "stream",
     "text": [
      "site_url https://hunterhawk.com/ site_url_close ['https://www.hunterhawk.com', 'https://rightertrack.com/', 'https://pahutch.com/']\n",
      "site_url_close[0] https://www.hunterhawk.com\n",
      "ii 778 self.companies[ii] Hunter Hawk\n",
      "out1 true iout1 640 url https://hunterhawk.com/\n",
      "companies[0] Norwex this url https://hunterhawk.com/\n",
      "out1 true iout1 641 url https://www.colorbytesoftware.com/\n",
      "companies[0] Tech Inc. this url https://www.colorbytesoftware.com/\n"
     ]
    },
    {
     "name": "stderr",
     "output_type": "stream",
     "text": [
      "2021-11-30 16:43:07 [scrapy.downloadermiddlewares.redirect] DEBUG: Redirecting (301) to <GET https://www.novacustomlabelprinting.com/> from <GET http://www.novacustomlabelprinting.com>\n"
     ]
    },
    {
     "name": "stdout",
     "output_type": "stream",
     "text": [
      "site_url http://www.worksdesigngroup.com/ site_url_close ['http://www.worksdesigngroup.com/', 'http://www.oksgroup.com', 'http://www.oryangroup.com/']\n",
      "site_url_close[0] http://www.worksdesigngroup.com/\n",
      "ii 801 self.companies[ii] Works Design Group\n",
      "out1 true iout1 642 url http://www.worksdesigngroup.com/\n",
      "companies[0] Applied Rapid Technologies this url http://www.worksdesigngroup.com/\n",
      "site_url https://www.logowearcompany.com/ site_url_close ['https://www.logowearcompany.com/', 'http://www.scorecard-company.com/', 'https://www.logicopy.com']\n",
      "site_url_close[0] https://www.logowearcompany.com/\n",
      "ii 799 self.companies[ii] Logo Wear Company\n",
      "out1 true iout1 643 url https://www.logowearcompany.com/\n",
      "companies[0] DNP this url https://www.logowearcompany.com/\n"
     ]
    },
    {
     "name": "stderr",
     "output_type": "stream",
     "text": [
      "2021-11-30 16:43:08 [scrapy.core.engine] DEBUG: Crawled (200) <GET http://docitxpress.com/> (referer: None)\n",
      "2021-11-30 16:43:08 [scrapy.core.downloader.tls] WARNING: Remote certificate is not valid for hostname \"www.sjprinting.com\"; VerificationError(errors=[DNSMismatch(mismatched_id=DNS_ID(hostname=b'www.sjprinting.com'))])\n"
     ]
    },
    {
     "name": "stdout",
     "output_type": "stream",
     "text": [
      "site_url https://www.hugedomains.com/domain_profile.cfm?d=infinitepkg&e=com site_url_close ['http://www.infinitepkg.com/', 'http://www.mebotics.com/microfactory.html', 'https://www.superiorpackagingandfinishing.com']\n",
      "site_url_close[0] http://www.infinitepkg.com/\n",
      "ii 780 self.companies[ii] Infinite Packaging Group\n",
      "out1 true iout1 644 url https://www.hugedomains.com/domain_profile.cfm?d=infinitepkg&e=com\n",
      "companies[0] Z Corporation this url https://www.hugedomains.com/domain_profile.cfm?d=infinitepkg&e=com\n"
     ]
    },
    {
     "name": "stderr",
     "output_type": "stream",
     "text": [
      "2021-11-30 16:43:08 [scrapy.core.engine] DEBUG: Crawled (200) <GET https://www.centurydisplays.com/> (referer: None)\n",
      "2021-11-30 16:43:08 [scrapy.core.engine] DEBUG: Crawled (200) <GET https://www.impressionsinprint.com> (referer: None)\n",
      "2021-11-30 16:43:08 [scrapy.core.engine] DEBUG: Crawled (200) <GET https://www.sjprinting.com/> (referer: None)\n",
      "2021-11-30 16:43:08 [scrapy.core.engine] DEBUG: Crawled (200) <GET https://greatlakeslabel.com> (referer: None)\n",
      "2021-11-30 16:43:08 [scrapy.downloadermiddlewares.retry] ERROR: Gave up retrying <GET http://www.mypublisher.com> (failed 3 times): TCP connection timed out: 10060: A connection attempt failed because the connected party did not properly respond after a period of time, or established connection failed because connected host has failed to respond..\n"
     ]
    },
    {
     "name": "stdout",
     "output_type": "stream",
     "text": [
      "site_url http://docitxpress.com/ site_url_close ['http://docitxpress.com/', 'https://post-press.com/', 'https://j-cpress.com/']\n",
      "site_url_close[0] http://docitxpress.com/\n",
      "ii 804 self.companies[ii] Doc-it XPress\n",
      "out1 false iout2 79 url http://docitxpress.com/\n",
      "companies[0] Bastech this url http://docitxpress.com/\n"
     ]
    },
    {
     "name": "stderr",
     "output_type": "stream",
     "text": [
      "2021-11-30 16:43:09 [scrapy.core.scraper] ERROR: Error downloading <GET http://www.mypublisher.com>\n",
      "Traceback (most recent call last):\n",
      "  File \"C:\\Users\\MStopa\\AppData\\Local\\Continuum\\anaconda3\\envs\\webscrape\\lib\\site-packages\\scrapy\\core\\downloader\\middleware.py\", line 44, in process_request\n",
      "    return (yield download_func(request=request, spider=spider))\n",
      "twisted.internet.error.TCPTimedOutError: TCP connection timed out: 10060: A connection attempt failed because the connected party did not properly respond after a period of time, or established connection failed because connected host has failed to respond..\n",
      "2021-11-30 16:43:09 [scrapy.core.engine] DEBUG: Crawled (200) <GET https://printpromotions.com/> (referer: None)\n"
     ]
    },
    {
     "name": "stdout",
     "output_type": "stream",
     "text": [
      "site_url https://www.centurydisplays.com/ site_url_close ['http://www.centurydisplays.com', 'https://www.icondisplay.com/', 'https://www.centuryks.com/']\n",
      "site_url_close[0] http://www.centurydisplays.com\n",
      "ii 790 self.companies[ii] Century Displays\n",
      "out1 true iout1 645 url https://www.centurydisplays.com/\n",
      "companies[0] Printex this url https://www.centurydisplays.com/\n",
      "site_url https://www.impressionsinprint.com site_url_close ['https://www.impressionsinprint.com', 'https://www.impressionprinting.com', 'http://www.impressionzprinting.com']\n",
      "site_url_close[0] https://www.impressionsinprint.com\n",
      "ii 802 self.companies[ii] Impressions In Print\n",
      "out1 true iout1 646 url https://www.impressionsinprint.com\n",
      "companies[0] Wipf and Stock Publishers this url https://www.impressionsinprint.com\n",
      "site_url https://www.sjprinting.com/ site_url_close ['https://www.sjprinting.com/', 'https://www.rsaprinting.com/', 'https://www.roseprinting.com/']\n",
      "site_url_close[0] https://www.sjprinting.com/\n",
      "ii 803 self.companies[ii] Shree Ji Printing\n",
      "out1 true iout1 647 url https://www.sjprinting.com/\n",
      "companies[0] Aristo Cast this url https://www.sjprinting.com/\n"
     ]
    },
    {
     "name": "stderr",
     "output_type": "stream",
     "text": [
      "2021-11-30 16:43:10 [scrapy.downloadermiddlewares.redirect] DEBUG: Redirecting (301) to <GET https://bigsys.com/main/> from <GET http://bigsys.com/main/>\n",
      "2021-11-30 16:43:10 [scrapy.core.engine] DEBUG: Crawled (200) <GET https://rapidpro.com/> (referer: None)\n",
      "2021-11-30 16:43:10 [scrapy.downloadermiddlewares.retry] DEBUG: Retrying <GET http://www.americansys.com> (failed 1 times): 500 Internal Server Error\n",
      "2021-11-30 16:43:10 [scrapy.downloadermiddlewares.redirect] DEBUG: Redirecting (301) to <GET https://integriprint.com/> from <GET https://www.integriprint.com>\n"
     ]
    },
    {
     "name": "stdout",
     "output_type": "stream",
     "text": [
      "site_url https://greatlakeslabel.com site_url_close ['https://greatlakeslabel.com', 'https://rethinklabel.com', 'https://www.gallaslabel.com']\n",
      "site_url_close[0] https://greatlakeslabel.com\n",
      "ii 806 self.companies[ii] Great Lakes Label\n",
      "out1 true iout1 648 url https://greatlakeslabel.com\n",
      "companies[0] AB Electronics this url https://greatlakeslabel.com\n"
     ]
    },
    {
     "name": "stderr",
     "output_type": "stream",
     "text": [
      "2021-11-30 16:43:11 [scrapy.downloadermiddlewares.redirect] DEBUG: Redirecting (301) to <GET https://www.peakdigital.com/> from <GET http://www.peakdigital.com/>\n",
      "2021-11-30 16:43:11 [scrapy.downloadermiddlewares.redirect] DEBUG: Redirecting (302) to <GET https://thumbprint.com/> from <GET http://thumbprint.is/>\n",
      "2021-11-30 16:43:11 [scrapy.core.engine] DEBUG: Crawled (200) <GET https://www.boonegraphics.net> (referer: None)\n"
     ]
    },
    {
     "name": "stdout",
     "output_type": "stream",
     "text": [
      "site_url https://printpromotions.com/ site_url_close ['https://www.printpromotions.com', 'https://regentpromotions.com', 'https://stirlingpromotions.com/']\n",
      "site_url_close[0] https://www.printpromotions.com\n",
      "ii 788 self.companies[ii] Print Promotions\n",
      "out1 false iout2 80 url https://printpromotions.com/\n",
      "companies[0] MRC Smart Technology Solutions this url https://printpromotions.com/\n"
     ]
    },
    {
     "name": "stderr",
     "output_type": "stream",
     "text": [
      "2021-11-30 16:43:11 [scrapy.core.engine] DEBUG: Crawled (403) <GET https://www.ultimaxinc.com> (referer: None)\n"
     ]
    },
    {
     "name": "stdout",
     "output_type": "stream",
     "text": [
      "site_url https://rapidpro.com/ site_url_close ['http://rapidpro.com/', 'https://www.rapidpress.com/', 'https://niedo.com/']\n",
      "site_url_close[0] http://rapidpro.com/\n",
      "ii 797 self.companies[ii] Rapid Pro Manufacturing\n",
      "out1 true iout1 649 url https://rapidpro.com/\n",
      "companies[0] Sytech Corporation this url https://rapidpro.com/\n"
     ]
    },
    {
     "name": "stderr",
     "output_type": "stream",
     "text": [
      "2021-11-30 16:43:12 [scrapy.core.engine] DEBUG: Crawled (200) <GET https://www.doctech.net/> (referer: None)\n",
      "2021-11-30 16:43:12 [scrapy.downloadermiddlewares.redirect] DEBUG: Redirecting (301) to <GET https://www.image420.com/> from <GET http://www.image420.com>\n",
      "2021-11-30 16:43:12 [scrapy.core.engine] DEBUG: Crawled (200) <GET https://grannystone.com/> (referer: None)\n",
      "2021-11-30 16:43:12 [scrapy.spidermiddlewares.httperror] INFO: Ignoring response <403 https://www.ultimaxinc.com>: HTTP status code is not handled or not allowed\n"
     ]
    },
    {
     "name": "stdout",
     "output_type": "stream",
     "text": [
      "site_url https://www.boonegraphics.net site_url_close ['https://www.boonegraphics.net', 'https://www.idgraphics.net', 'https://www.bradleygraphics.net']\n",
      "site_url_close[0] https://www.boonegraphics.net\n",
      "ii 805 self.companies[ii] Boone Graphics\n",
      "out1 true iout1 650 url https://www.boonegraphics.net\n",
      "companies[0] Xpress Data Inc this url https://www.boonegraphics.net\n",
      "site_url https://www.doctech.net/ site_url_close ['https://www.doctech.net/', 'https://www.ehg.net/', 'http://www.doctech.com']\n",
      "site_url_close[0] https://www.doctech.net/\n",
      "ii 813 self.companies[ii] Document Technologies\n",
      "out1 true iout1 651 url https://www.doctech.net/\n",
      "companies[0] Document Technologies this url https://www.doctech.net/\n"
     ]
    },
    {
     "name": "stderr",
     "output_type": "stream",
     "text": [
      "2021-11-30 16:43:13 [scrapy.downloadermiddlewares.redirect] DEBUG: Redirecting (301) to <GET https://socalbio.org/> from <GET http://socalbio.org/>\n",
      "2021-11-30 16:43:13 [scrapy.core.engine] DEBUG: Crawled (200) <GET https://printflexgraphics.com> (referer: None)\n",
      "2021-11-30 16:43:13 [scrapy.core.engine] DEBUG: Crawled (200) <GET http://imagenet.net> (referer: None)\n",
      "2021-11-30 16:43:13 [scrapy.downloadermiddlewares.retry] DEBUG: Retrying <GET http://www.trinitypromos.com> (failed 1 times): DNS lookup failed: no results for hostname lookup: www.trinitypromos.com.\n"
     ]
    },
    {
     "name": "stdout",
     "output_type": "stream",
     "text": [
      "site_url https://grannystone.com/ site_url_close ['http://www.grannystone.com', 'https://signstore.com/', 'http://egrandstand.com/']\n",
      "site_url_close[0] http://www.grannystone.com\n",
      "ii 777 self.companies[ii] Grannystone\n",
      "out1 true iout1 652 url https://grannystone.com/\n",
      "companies[0] Laser Print Plus this url https://grannystone.com/\n",
      "site_url https://printflexgraphics.com site_url_close ['https://printflexgraphics.com', 'https://printgraphics.com', 'https://marlingraphics.com/']\n",
      "site_url_close[0] https://printflexgraphics.com\n",
      "ii 815 self.companies[ii] PrintFlex Graphics\n",
      "out1 true iout1 653 url https://printflexgraphics.com\n",
      "companies[0] ProtoCAM this url https://printflexgraphics.com\n"
     ]
    },
    {
     "name": "stderr",
     "output_type": "stream",
     "text": [
      "2021-11-30 16:43:14 [scrapy.core.engine] DEBUG: Crawled (200) <GET http://farnhamassociates.com/> (referer: None)\n"
     ]
    },
    {
     "name": "stdout",
     "output_type": "stream",
     "text": [
      "site_url http://imagenet.net site_url_close ['http://imagenet.net', 'http://imageworx.net/', 'http://avg.net']\n",
      "site_url_close[0] http://imagenet.net\n",
      "ii 816 self.companies[ii] Image Net\n",
      "out1 true iout1 654 url http://imagenet.net\n",
      "companies[0] Modern Luxury this url http://imagenet.net\n"
     ]
    },
    {
     "name": "stderr",
     "output_type": "stream",
     "text": [
      "2021-11-30 16:43:15 [scrapy.core.engine] DEBUG: Crawled (200) <GET https://www.loumarcsigns.com> (referer: None)\n"
     ]
    },
    {
     "name": "stdout",
     "output_type": "stream",
     "text": [
      "site_url http://farnhamassociates.com/ site_url_close ['http://farnhamassociates.com/', 'http://voxassociates.com/', 'https://www.ataassociates.com/']\n",
      "site_url_close[0] http://farnhamassociates.com/\n",
      "ii 818 self.companies[ii] Farnham Associates Marketing Solutions\n",
      "out1 false iout2 81 url http://farnhamassociates.com/\n",
      "companies[0] CAD Supplies Specialty this url http://farnhamassociates.com/\n"
     ]
    },
    {
     "name": "stderr",
     "output_type": "stream",
     "text": [
      "2021-11-30 16:43:15 [scrapy.downloadermiddlewares.redirect] DEBUG: Redirecting (301) to <GET https://www.breenegraphics.com/> from <GET http://www.breenegraphics.com>\n",
      "2021-11-30 16:43:15 [scrapy.downloadermiddlewares.redirect] DEBUG: Redirecting (meta refresh) to <GET http://www.macgraf.com/Welcome.html> from <GET http://www.macgraf.com/>\n",
      "2021-11-30 16:43:15 [scrapy.core.engine] DEBUG: Crawled (200) <GET https://www.novacustomlabelprinting.com/> (referer: None)\n"
     ]
    },
    {
     "name": "stdout",
     "output_type": "stream",
     "text": [
      "site_url https://www.loumarcsigns.com site_url_close ['https://www.loumarcsigns.com', 'https://www.allmarksigns.com', 'http://www.pillarsigns.com']\n",
      "site_url_close[0] https://www.loumarcsigns.com\n",
      "ii 817 self.companies[ii] Loumarc Signs\n",
      "out1 true iout1 655 url https://www.loumarcsigns.com\n",
      "companies[0] DGI this url https://www.loumarcsigns.com\n"
     ]
    },
    {
     "name": "stderr",
     "output_type": "stream",
     "text": [
      "2021-11-30 16:43:16 [scrapy.extensions.logstats] INFO: Crawled 769 pages (at 108 pages/min), scraped 69 items (at 10 items/min)\n"
     ]
    },
    {
     "name": "stdout",
     "output_type": "stream",
     "text": [
      "site_url https://www.novacustomlabelprinting.com/ site_url_close ['http://www.novacustomlabelprinting.com', 'https://www.actionprinting.com/', 'https://www.roseprinting.com/']\n",
      "site_url_close[0] http://www.novacustomlabelprinting.com\n",
      "ii 800 self.companies[ii] Nova Custom Label Printing\n",
      "out1 true iout1 656 url https://www.novacustomlabelprinting.com/\n",
      "companies[0] Proforma Graphic Services this url https://www.novacustomlabelprinting.com/\n"
     ]
    },
    {
     "name": "stderr",
     "output_type": "stream",
     "text": [
      "2021-11-30 16:43:16 [scrapy.downloadermiddlewares.redirect] DEBUG: Redirecting (301) to <GET https://www.3dsystems.com?utm_source=stereolithography.com&utm_medium=301> from <GET http://www.stereolithography.com>\n",
      "2021-11-30 16:43:16 [scrapy.core.engine] DEBUG: Crawled (200) <GET https://isoscelesdesign.com/> (referer: None)\n",
      "2021-11-30 16:43:17 [scrapy.core.engine] DEBUG: Crawled (200) <GET http://aceelectrical.net/> (referer: None)\n"
     ]
    },
    {
     "name": "stdout",
     "output_type": "stream",
     "text": [
      "site_url https://isoscelesdesign.com/ site_url_close ['https://isoscelesdesign.com/', 'http://moellerdesign.com', 'https://lendesigns.com']\n",
      "site_url_close[0] https://isoscelesdesign.com/\n",
      "ii 824 self.companies[ii] Isosceles Design\n",
      "out1 false iout2 82 url https://isoscelesdesign.com/\n",
      "companies[0] System Seals Inc this url https://isoscelesdesign.com/\n"
     ]
    },
    {
     "name": "stderr",
     "output_type": "stream",
     "text": [
      "2021-11-30 16:43:18 [scrapy.downloadermiddlewares.redirect] DEBUG: Redirecting (301) to <GET http://www.jakcd.com/> from <GET http://www.jakgraphicdesign.com>\n"
     ]
    },
    {
     "name": "stdout",
     "output_type": "stream",
     "text": [
      "site_url http://aceelectrical.net/ site_url_close ['http://aceelectrical.net/', 'http://aciplastics.net', 'http://adlibinc.net/']\n",
      "site_url_close[0] http://aceelectrical.net/\n",
      "ii 820 self.companies[ii] Ace Electrical Contractors\n",
      "out1 true iout1 657 url http://aceelectrical.net/\n",
      "companies[0] Super Cheap Signs this url http://aceelectrical.net/\n"
     ]
    },
    {
     "name": "stderr",
     "output_type": "stream",
     "text": [
      "2021-11-30 16:43:18 [scrapy.downloadermiddlewares.retry] DEBUG: Retrying <GET http://www.americansys.com> (failed 2 times): 500 Internal Server Error\n",
      "2021-11-30 16:43:18 [scrapy.core.engine] DEBUG: Crawled (200) <GET https://www.lippmannprinting.com/> (referer: None)\n",
      "2021-11-30 16:43:18 [scrapy.core.engine] DEBUG: Crawled (200) <GET https://integriprint.com/> (referer: None)\n",
      "2021-11-30 16:43:19 [scrapy.core.engine] DEBUG: Crawled (200) <GET https://www.peakdigital.com/> (referer: None)\n"
     ]
    },
    {
     "name": "stdout",
     "output_type": "stream",
     "text": [
      "site_url https://www.lippmannprinting.com/ site_url_close ['https://www.lippmannprinting.com/', 'https://www.lawtonprinting.com/', 'https://www.eganprinting.com/']\n",
      "site_url_close[0] https://www.lippmannprinting.com/\n",
      "ii 825 self.companies[ii] Lippmann Printing\n",
      "out1 true iout1 658 url https://www.lippmannprinting.com/\n",
      "companies[0] Stencils Online this url https://www.lippmannprinting.com/\n",
      "site_url https://integriprint.com/ site_url_close ['https://www.integriprint.com', 'https://oneilprint.com/', 'https://santeeprint.com/']\n",
      "site_url_close[0] https://www.integriprint.com\n",
      "ii 807 self.companies[ii] Integriprint\n",
      "out1 true iout1 659 url https://integriprint.com/\n",
      "companies[0] Personalized Paper Manufacturing Group this url https://integriprint.com/\n",
      "site_url https://www.peakdigital.com/ site_url_close ['http://www.peakdigital.com/', 'https://www.ibedigital.com/', 'https://www.jpdigital.com']\n",
      "site_url_close[0] http://www.peakdigital.com/\n",
      "ii 812 self.companies[ii] Peak Performance Imaging Solutions\n",
      "out1 true iout1 660 url https://www.peakdigital.com/\n",
      "companies[0] Lachance Design this url https://www.peakdigital.com/\n"
     ]
    },
    {
     "name": "stderr",
     "output_type": "stream",
     "text": [
      "2021-11-30 16:43:20 [scrapy.downloadermiddlewares.redirect] DEBUG: Redirecting (301) to <GET http://treshombrescantina.net/> from <GET https://campromotions.net/>\n",
      "2021-11-30 16:43:20 [scrapy.core.engine] DEBUG: Crawled (200) <GET https://www.cloneprint.com/> (referer: None)\n",
      "2021-11-30 16:43:20 [scrapy.downloadermiddlewares.retry] DEBUG: Retrying <GET http://www.trinitypromos.com> (failed 2 times): DNS lookup failed: no results for hostname lookup: www.trinitypromos.com.\n",
      "2021-11-30 16:43:20 [scrapy.core.engine] DEBUG: Crawled (200) <GET https://thumbprint.com/> (referer: None)\n",
      "2021-11-30 16:43:21 [scrapy.core.engine] DEBUG: Crawled (200) <GET https://bigsys.com/main/> (referer: None)\n"
     ]
    },
    {
     "name": "stdout",
     "output_type": "stream",
     "text": [
      "site_url https://www.cloneprint.com/ site_url_close ['https://www.cloneprint.com/', 'https://www.sunprint.com/', 'https://www.rldprint.com/']\n",
      "site_url_close[0] https://www.cloneprint.com/\n",
      "ii 828 self.companies[ii] Clone Digital Print and Copy\n",
      "out1 true iout1 661 url https://www.cloneprint.com/\n",
      "companies[0] Capella Technologies this url https://www.cloneprint.com/\n"
     ]
    },
    {
     "name": "stderr",
     "output_type": "stream",
     "text": [
      "2021-11-30 16:43:21 [scrapy.core.engine] DEBUG: Crawled (200) <GET https://www.teamnisca.com> (referer: None)\n",
      "2021-11-30 16:43:21 [scrapy.core.engine] DEBUG: Crawled (200) <GET https://www.masterstouchsigns.com/> (referer: None)\n",
      "2021-11-30 16:43:21 [scrapy.downloadermiddlewares.retry] DEBUG: Retrying <GET http://www.incolordigital.com> (failed 1 times): TCP connection timed out: 10060: A connection attempt failed because the connected party did not properly respond after a period of time, or established connection failed because connected host has failed to respond..\n"
     ]
    },
    {
     "name": "stdout",
     "output_type": "stream",
     "text": [
      "site_url https://thumbprint.com/ site_url_close ['https://b2cprint.com/', 'http://thumbprint.is/', 'http://umcprint.com']\n",
      "site_url_close[0] https://b2cprint.com/\n",
      "ii 4402 self.companies[ii] B2CPrint\n",
      "out1 false iout2 83 url https://thumbprint.com/\n",
      "companies[0] Plan Express this url https://thumbprint.com/\n"
     ]
    },
    {
     "name": "stderr",
     "output_type": "stream",
     "text": [
      "2021-11-30 16:43:22 [scrapy.downloadermiddlewares.redirect] DEBUG: Redirecting (301) to <GET https://image420.com/> from <GET https://www.image420.com/>\n"
     ]
    },
    {
     "name": "stdout",
     "output_type": "stream",
     "text": [
      "site_url https://bigsys.com/main/ site_url_close ['https://bigsys.com/', 'https://syrlsp.com/', 'https://gosynq.com/']\n",
      "site_url_close[0] https://bigsys.com/\n",
      "ii 795 self.companies[ii] Big Systems\n",
      "out1 true iout1 662 url https://bigsys.com/main/\n",
      "companies[0] Braille Works this url https://bigsys.com/main/\n",
      "site_url https://www.teamnisca.com site_url_close ['https://www.teamnisca.com', 'http://www.mgsiscan.com', 'https://www.paxis.com']\n",
      "site_url_close[0] https://www.teamnisca.com\n",
      "ii 830 self.companies[ii] Team Nisca\n",
      "out1 true iout1 663 url https://www.teamnisca.com\n",
      "companies[0] Rapid Prototype Company this url https://www.teamnisca.com\n"
     ]
    },
    {
     "name": "stderr",
     "output_type": "stream",
     "text": [
      "2021-11-30 16:43:22 [scrapy.core.engine] DEBUG: Crawled (200) <GET http://www.macgraf.com/Welcome.html> (referer: None)\n"
     ]
    },
    {
     "name": "stdout",
     "output_type": "stream",
     "text": [
      "site_url https://www.masterstouchsigns.com/ site_url_close ['https://www.masterstouchsigns.com/', 'https://www.themasterstouch.com', 'https://www.fastsigns.com/']\n",
      "site_url_close[0] https://www.masterstouchsigns.com/\n",
      "ii 829 self.companies[ii] Master's Touch Designs\n",
      "out1 true iout1 664 url https://www.masterstouchsigns.com/\n",
      "companies[0] Poly Graphics this url https://www.masterstouchsigns.com/\n"
     ]
    },
    {
     "name": "stderr",
     "output_type": "stream",
     "text": [
      "2021-11-30 16:43:23 [scrapy.core.engine] DEBUG: Crawled (400) <GET https://www.3dsystems.com?utm_source=stereolithography.com&utm_medium=301> (referer: None)\n",
      "2021-11-30 16:43:23 [scrapy.core.engine] DEBUG: Crawled (200) <GET https://image-computer.com/> (referer: None)\n",
      "2021-11-30 16:43:23 [scrapy.spidermiddlewares.httperror] INFO: Ignoring response <400 https://www.3dsystems.com?utm_source=stereolithography.com&utm_medium=301>: HTTP status code is not handled or not allowed\n",
      "2021-11-30 16:43:23 [scrapy.downloadermiddlewares.redirect] DEBUG: Redirecting (301) to <GET https://www.yursgroup.com/> from <GET http://www.yursgroup.com/>\n"
     ]
    },
    {
     "name": "stdout",
     "output_type": "stream",
     "text": [
      "site_url http://www.macgraf.com/Welcome.html site_url_close ['http://www.macgraf.com/', 'http://www.slidemaster.com/home.html', 'http://www.sparksdynamics.com/home.html']\n",
      "site_url_close[0] http://www.macgraf.com/\n",
      "ii 821 self.companies[ii] MacGraf\n",
      "out1 true iout1 665 url http://www.macgraf.com/Welcome.html\n",
      "companies[0] Sun Print Management this url http://www.macgraf.com/Welcome.html\n"
     ]
    },
    {
     "name": "stderr",
     "output_type": "stream",
     "text": [
      "2021-11-30 16:43:24 [scrapy.core.engine] DEBUG: Crawled (200) <GET http://www.shamoonadvertising.com> (referer: None)\n",
      "2021-11-30 16:43:24 [scrapy.core.engine] DEBUG: Crawled (200) <GET https://www.perfectlogo.us/> (referer: None)\n"
     ]
    },
    {
     "name": "stdout",
     "output_type": "stream",
     "text": [
      "site_url https://image-computer.com/ site_url_close ['https://image-computer.com/', 'http://imagexpert.com/', 'https://thecotery.com/']\n",
      "site_url_close[0] https://image-computer.com/\n",
      "ii 832 self.companies[ii] Image Computer\n",
      "out1 true iout1 666 url https://image-computer.com/\n",
      "companies[0] Integ this url https://image-computer.com/\n",
      "site_url http://www.shamoonadvertising.com site_url_close ['http://www.shamoonadvertising.com', 'https://www.versoadvertising.com/', 'https://www.inkadvertising.com/']\n",
      "site_url_close[0] http://www.shamoonadvertising.com\n",
      "ii 833 self.companies[ii] Shamoon\n",
      "out1 false iout2 84 url http://www.shamoonadvertising.com\n",
      "companies[0] Absolute Screen Printing this url http://www.shamoonadvertising.com\n"
     ]
    },
    {
     "name": "stderr",
     "output_type": "stream",
     "text": [
      "2021-11-30 16:43:25 [scrapy.core.scraper] DEBUG: Scraped from <200 https://www.perfectlogo.us/>\n",
      "{'Organization': 'Perfect Logo Promotions',\n",
      " 'fulltext': 'nan',\n",
      " 'searchterm': 'screen printing',\n",
      " 'url': 'https://www.perfectlogo.us/'}\n",
      "2021-11-30 16:43:25 [scrapy.core.engine] DEBUG: Crawled (200) <GET http://www.shellmedia.com/> (referer: None)\n",
      "2021-11-30 16:43:25 [scrapy.core.engine] DEBUG: Crawled (200) <GET https://www.breenegraphics.com/> (referer: None)\n"
     ]
    },
    {
     "name": "stdout",
     "output_type": "stream",
     "text": [
      "site_url https://www.perfectlogo.us/ site_url_close ['https://www.perfectlogo.us/', 'http://www.fonon.us/', 'https://www.directresults.us/']\n",
      "site_url_close[0] https://www.perfectlogo.us/\n",
      "ii 831 self.companies[ii] Perfect Logo Promotions\n",
      "yielding item screen printing\n",
      "out1 true iout1 667 url https://www.perfectlogo.us/\n",
      "companies[0] Chromatic this url https://www.perfectlogo.us/\n"
     ]
    },
    {
     "name": "stderr",
     "output_type": "stream",
     "text": [
      "2021-11-30 16:43:25 [scrapy.core.engine] DEBUG: Crawled (200) <GET http://www.copynmore.com> (referer: None)\n",
      "2021-11-30 16:43:25 [scrapy.core.engine] DEBUG: Crawled (200) <GET https://socalbio.org/> (referer: None)\n",
      "2021-11-30 16:43:25 [scrapy.core.engine] DEBUG: Crawled (200) <GET http://sandscripts.com/> (referer: None)\n"
     ]
    },
    {
     "name": "stdout",
     "output_type": "stream",
     "text": [
      "site_url http://www.shellmedia.com/ site_url_close ['http://www.shellmedia.com/', 'https://www.sjdmedia.com/', 'https://www.quezmedia.com/']\n",
      "site_url_close[0] http://www.shellmedia.com/\n",
      "ii 837 self.companies[ii] ShellMedia\n",
      "out1 false iout2 85 url http://www.shellmedia.com/\n",
      "companies[0] Stowebridge this url http://www.shellmedia.com/\n",
      "site_url https://www.breenegraphics.com/ site_url_close ['http://www.breenegraphics.com', 'https://www.screen-graphics.com/', 'https://www.prngraphics.com/']\n",
      "site_url_close[0] http://www.breenegraphics.com\n",
      "ii 822 self.companies[ii] Breene Graphics Printing\n",
      "out1 true iout1 668 url https://www.breenegraphics.com/\n",
      "companies[0] SeaTac Packaging this url https://www.breenegraphics.com/\n"
     ]
    },
    {
     "name": "stderr",
     "output_type": "stream",
     "text": [
      "2021-11-30 16:43:26 [scrapy.core.scraper] DEBUG: Scraped from <200 http://www.copynmore.com>\r\n",
      "{'Organization': \"Copy N' More\",\n",
      " 'fulltext': 'nan',\n",
      " 'searchterm': 'digital printing',\n",
      " 'url': 'http://www.copynmore.com'}\n"
     ]
    },
    {
     "name": "stdout",
     "output_type": "stream",
     "text": [
      "site_url http://www.copynmore.com site_url_close ['http://www.copynmore.com', 'http://www.ecopy.com', 'http://www.dymo.com']\n",
      "site_url_close[0] http://www.copynmore.com\n",
      "ii 836 self.companies[ii] Copy N' More\n",
      "yielding item digital printing\n",
      "site_url https://socalbio.org/ site_url_close ['http://www.socalbio.org/', 'https://socialindoor.com/', 'https://snco.com/']\n",
      "site_url_close[0] http://www.socalbio.org/\n",
      "ii 774 self.companies[ii] Southern California Biomedical Council\n",
      "out1 true iout1 669 url https://socalbio.org/\n",
      "companies[0] BallotPoint Election Services this url https://socalbio.org/\n"
     ]
    },
    {
     "name": "stderr",
     "output_type": "stream",
     "text": [
      "2021-11-30 16:43:28 [scrapy.core.engine] DEBUG: Crawled (200) <GET http://www.keplingerdesigns.com> (referer: None)\n",
      "2021-11-30 16:43:28 [scrapy.core.engine] DEBUG: Crawled (200) <GET https://www.beauty-pr.com> (referer: None)\n",
      "2021-11-30 16:43:28 [scrapy.core.engine] DEBUG: Crawled (200) <GET https://www.promoworld.com/> (referer: None)\n"
     ]
    },
    {
     "name": "stdout",
     "output_type": "stream",
     "text": [
      "site_url http://sandscripts.com/ site_url_close ['http://sandscripts.com/', 'http://ancms.com/', 'http://townsandassociates.com/']\n",
      "site_url_close[0] http://sandscripts.com/\n",
      "ii 838 self.companies[ii] Sand Scripts\n",
      "out1 true iout1 670 url http://sandscripts.com/\n",
      "companies[0] Pacer Print this url http://sandscripts.com/\n",
      "out1 true iout1 671 url http://www.copynmore.com\n",
      "companies[0] Red Hen Press this url http://www.copynmore.com\n"
     ]
    },
    {
     "name": "stderr",
     "output_type": "stream",
     "text": [
      "2021-11-30 16:43:28 [scrapy.core.engine] DEBUG: Crawled (200) <GET https://www.npark.com/> (referer: None)\n"
     ]
    },
    {
     "name": "stdout",
     "output_type": "stream",
     "text": [
      "site_url http://www.keplingerdesigns.com site_url_close ['http://www.keplingerdesigns.com', 'https://www.palmersigns.com', 'https://www.apogeesigns.com']\n",
      "site_url_close[0] http://www.keplingerdesigns.com\n",
      "ii 841 self.companies[ii] Keplinger Designs\n",
      "out1 false iout2 86 url http://www.keplingerdesigns.com\n",
      "companies[0] Hargraves Technology this url http://www.keplingerdesigns.com\n",
      "site_url https://www.beauty-pr.com site_url_close ['https://www.beauty-pr.com', 'http://www.jdbeauty.com/', 'https://www.minkbeauty.com/']\n",
      "site_url_close[0] https://www.beauty-pr.com\n",
      "ii 835 self.companies[ii] Esche & Alexander\n",
      "out1 true iout1 672 url https://www.beauty-pr.com\n",
      "companies[0] Berber Corp / UltraTech this url https://www.beauty-pr.com\n"
     ]
    },
    {
     "name": "stderr",
     "output_type": "stream",
     "text": [
      "2021-11-30 16:43:29 [scrapy.core.engine] DEBUG: Crawled (200) <GET http://www.lambdesigns.com> (referer: None)\n",
      "2021-11-30 16:43:29 [scrapy.downloadermiddlewares.redirect] DEBUG: Redirecting (301) to <GET https://www.marketinggalore.com> from <GET http://www.marketinggalore.com>\n",
      "2021-11-30 16:43:29 [scrapy.downloadermiddlewares.redirect] DEBUG: Redirecting (302) to <GET https://printsolution.com/> from <GET http://www.printsolution.com/>\n",
      "2021-11-30 16:43:29 [scrapy.downloadermiddlewares.retry] ERROR: Gave up retrying <GET http://www.trinitypromos.com> (failed 3 times): DNS lookup failed: no results for hostname lookup: www.trinitypromos.com.\n"
     ]
    },
    {
     "name": "stdout",
     "output_type": "stream",
     "text": [
      "site_url https://www.promoworld.com/ site_url_close ['https://www.promoworld.com/', 'https://www.proworldinc.com/', 'https://www.fwpromo.com/']\n",
      "site_url_close[0] https://www.promoworld.com/\n",
      "ii 839 self.companies[ii] PromoWorld\n",
      "out1 true iout1 673 url https://www.promoworld.com/\n",
      "companies[0] Harvest Technologies this url https://www.promoworld.com/\n"
     ]
    },
    {
     "name": "stderr",
     "output_type": "stream",
     "text": [
      "2021-11-30 16:43:30 [scrapy.downloadermiddlewares.retry] ERROR: Gave up retrying <GET http://www.americansys.com> (failed 3 times): 500 Internal Server Error\n",
      "2021-11-30 16:43:30 [scrapy.core.engine] DEBUG: Crawled (500) <GET http://www.americansys.com> (referer: None)\n",
      "2021-11-30 16:43:30 [scrapy.core.scraper] ERROR: Error downloading <GET http://www.trinitypromos.com>\n",
      "Traceback (most recent call last):\n",
      "  File \"C:\\Users\\MStopa\\AppData\\Local\\Continuum\\anaconda3\\envs\\webscrape\\lib\\site-packages\\twisted\\internet\\defer.py\", line 1416, in _inlineCallbacks\n",
      "    result = result.throwExceptionIntoGenerator(g)\n",
      "  File \"C:\\Users\\MStopa\\AppData\\Local\\Continuum\\anaconda3\\envs\\webscrape\\lib\\site-packages\\twisted\\python\\failure.py\", line 512, in throwExceptionIntoGenerator\n",
      "    return g.throw(self.type, self.value, self.tb)\n",
      "  File \"C:\\Users\\MStopa\\AppData\\Local\\Continuum\\anaconda3\\envs\\webscrape\\lib\\site-packages\\scrapy\\core\\downloader\\middleware.py\", line 44, in process_request\n",
      "    return (yield download_func(request=request, spider=spider))\n",
      "  File \"C:\\Users\\MStopa\\AppData\\Local\\Continuum\\anaconda3\\envs\\webscrape\\lib\\site-packages\\twisted\\internet\\defer.py\", line 654, in _runCallbacks\n",
      "    current.result = callback(current.result, *args, **kw)\n",
      "  File \"C:\\Users\\MStopa\\AppData\\Local\\Continuum\\anaconda3\\envs\\webscrape\\lib\\site-packages\\twisted\\internet\\endpoints.py\", line 982, in startConnectionAttempts\n",
      "    \"no results for hostname lookup: {}\".format(self._hostStr)\n",
      "twisted.internet.error.DNSLookupError: DNS lookup failed: no results for hostname lookup: www.trinitypromos.com.\n"
     ]
    },
    {
     "name": "stdout",
     "output_type": "stream",
     "text": [
      "site_url https://www.npark.com/ site_url_close ['https://www.npark.com/', 'https://www.smark.com/', 'http://www.arka.com/']\n",
      "site_url_close[0] https://www.npark.com/\n",
      "ii 840 self.companies[ii] North Park Studios\n",
      "out1 false iout2 87 url https://www.npark.com/\n",
      "companies[0] Mecklermedia this url https://www.npark.com/\n"
     ]
    },
    {
     "name": "stderr",
     "output_type": "stream",
     "text": [
      "2021-11-30 16:43:30 [scrapy.downloadermiddlewares.redirect] DEBUG: Redirecting (301) to <GET https://www.jakcd.com/> from <GET http://www.jakcd.com/>\n",
      "2021-11-30 16:43:30 [scrapy.core.engine] DEBUG: Crawled (200) <GET http://www.scorecard-company.com/> (referer: None)\n",
      "2021-11-30 16:43:30 [scrapy.downloadermiddlewares.retry] DEBUG: Retrying <GET http://treshombrescantina.net/> (failed 1 times): DNS lookup failed: no results for hostname lookup: treshombrescantina.net.\n",
      "2021-11-30 16:43:30 [scrapy.spidermiddlewares.httperror] INFO: Ignoring response <500 http://www.americansys.com>: HTTP status code is not handled or not allowed\n"
     ]
    },
    {
     "name": "stdout",
     "output_type": "stream",
     "text": [
      "site_url http://www.lambdesigns.com site_url_close ['http://www.lambdesigns.com', 'https://www.killadesigns.com', 'http://www.mmldesign.com']\n",
      "site_url_close[0] http://www.lambdesigns.com\n",
      "ii 843 self.companies[ii] Lamb Designs\n",
      "out1 true iout1 674 url http://www.lambdesigns.com\n",
      "companies[0] Used Car News this url http://www.lambdesigns.com\n"
     ]
    },
    {
     "name": "stderr",
     "output_type": "stream",
     "text": [
      "2021-11-30 16:43:31 [scrapy.downloadermiddlewares.redirect] DEBUG: Redirecting (301) to <GET https://bullseye.graphics/> from <GET http://www.bullseye.graphics>\n",
      "2021-11-30 16:43:31 [scrapy.downloadermiddlewares.redirect] DEBUG: Redirecting (301) to <GET https://thepldgroup.com/> from <GET https://www.thepldgroup.com>\n",
      "2021-11-30 16:43:31 [scrapy.core.engine] DEBUG: Crawled (200) <GET http://www.ripdownloads.com> (referer: None)\n"
     ]
    },
    {
     "name": "stdout",
     "output_type": "stream",
     "text": [
      "site_url http://www.scorecard-company.com/ site_url_close ['http://www.scorecard-company.com/', 'https://www.logowearcompany.com/', 'http://www.cca-corp.com']\n",
      "site_url_close[0] http://www.scorecard-company.com/\n",
      "ii 846 self.companies[ii] The Scorecard Company\n",
      "out1 true iout1 675 url http://www.scorecard-company.com/\n",
      "companies[0] Desktop Miracles this url http://www.scorecard-company.com/\n"
     ]
    },
    {
     "name": "stderr",
     "output_type": "stream",
     "text": [
      "2021-11-30 16:43:32 [scrapy.core.engine] DEBUG: Crawled (200) <GET https://image420.com/> (referer: None)\n",
      "2021-11-30 16:43:32 [scrapy.downloadermiddlewares.redirect] DEBUG: Redirecting (301) to <GET https://ezhitech.com/> from <GET https://www.ezhitech.com>\n",
      "2021-11-30 16:43:32 [scrapy.core.engine] DEBUG: Crawled (200) <GET http://www.impressivesolutions.com> (referer: None) ['partial']\n"
     ]
    },
    {
     "name": "stdout",
     "output_type": "stream",
     "text": [
      "site_url http://www.ripdownloads.com site_url_close ['http://www.ripdownloads.com', 'http://www.cplad.com', 'https://www.curioos.com']\n",
      "site_url_close[0] http://www.ripdownloads.com\n",
      "ii 851 self.companies[ii] Ripmall Technologies\n",
      "out1 true iout1 676 url http://www.ripdownloads.com\n",
      "companies[0] DocuServe this url http://www.ripdownloads.com\n"
     ]
    },
    {
     "name": "stderr",
     "output_type": "stream",
     "text": [
      "2021-11-30 16:43:32 [scrapy.core.scraper] DEBUG: Scraped from <200 https://image420.com/>\n",
      "{'Organization': 'Image 420',\n",
      " 'fulltext': 'nan',\n",
      " 'searchterm': 'screen printing',\n",
      " 'url': 'https://image420.com/'}\n",
      "2021-11-30 16:43:32 [scrapy.downloadermiddlewares.retry] DEBUG: Retrying <GET https://www.tonertype.com> (failed 1 times): Connection was refused by other side: 10061: No connection could be made because the target machine actively refused it..\n",
      "2021-11-30 16:43:32 [scrapy.downloadermiddlewares.retry] DEBUG: Retrying <GET http://imaginationtrends.com/> (failed 1 times): DNS lookup failed: no results for hostname lookup: imaginationtrends.com.\n",
      "2021-11-30 16:43:32 [scrapy.core.engine] DEBUG: Crawled (200) <GET https://www.colorshackfabrication.com/> (referer: None)\n"
     ]
    },
    {
     "name": "stdout",
     "output_type": "stream",
     "text": [
      "site_url https://image420.com/ site_url_close ['http://www.image420.com', 'https://sciimage.com/', 'https://imageset.com']\n",
      "site_url_close[0] http://www.image420.com\n",
      "ii 814 self.companies[ii] Image 420\n",
      "yielding item screen printing\n",
      "out1 true iout1 677 url https://image420.com/\n",
      "companies[0] Industrial Labeling Systems Corp this url https://image420.com/\n"
     ]
    },
    {
     "name": "stderr",
     "output_type": "stream",
     "text": [
      "2021-11-30 16:43:33 [scrapy.core.engine] DEBUG: Crawled (200) <GET https://sun.turley.com/> (referer: None)\n"
     ]
    },
    {
     "name": "stdout",
     "output_type": "stream",
     "text": [
      "site_url http://www.impressivesolutions.com site_url_close ['http://www.impressivesolutions.com', 'https://www.simplygreensolutions.com', 'http://www.imageresolutions.com/']\n",
      "site_url_close[0] http://www.impressivesolutions.com\n",
      "ii 849 self.companies[ii] Impressive Solutions\n",
      "out1 true iout1 678 url http://www.impressivesolutions.com\n",
      "companies[0] Freshwater Creative this url http://www.impressivesolutions.com\n",
      "site_url https://www.colorshackfabrication.com/ site_url_close ['https://www.colorshackfabrication.com/', 'https://www.colorhubprint.com', 'https://www.coburncarton.com/']\n",
      "site_url_close[0] https://www.colorshackfabrication.com/\n",
      "ii 852 self.companies[ii] Color Shack\n",
      "out1 true iout1 679 url https://www.colorshackfabrication.com/\n",
      "companies[0] Digital MPS this url https://www.colorshackfabrication.com/\n"
     ]
    },
    {
     "name": "stderr",
     "output_type": "stream",
     "text": [
      "2021-11-30 16:43:35 [scrapy.downloadermiddlewares.redirect] DEBUG: Redirecting (301) to <GET https://www.bjscustomcreations.com/> from <GET https://www.bjsembroidery.com>\n"
     ]
    },
    {
     "name": "stdout",
     "output_type": "stream",
     "text": [
      "site_url https://sun.turley.com/ site_url_close ['https://sun.turley.com/', 'https://stolze.com/', 'https://signstore.com/']\n",
      "site_url_close[0] https://sun.turley.com/\n",
      "ii 847 self.companies[ii] The SUN\n",
      "out1 true iout1 680 url https://sun.turley.com/\n",
      "companies[0] ABGI this url https://sun.turley.com/\n"
     ]
    },
    {
     "name": "stderr",
     "output_type": "stream",
     "text": [
      "2021-11-30 16:43:35 [scrapy.core.engine] DEBUG: Crawled (200) <GET https://www.yursgroup.com/> (referer: None)\n",
      "2021-11-30 16:43:35 [scrapy.core.engine] DEBUG: Crawled (200) <GET http://copymatwalnutcreek.com/> (referer: None)\n"
     ]
    },
    {
     "name": "stdout",
     "output_type": "stream",
     "text": [
      "site_url https://www.yursgroup.com/ site_url_close ['http://www.yursgroup.com/', 'https://www.ppigroup.com/', 'http://www.massgroup.com/']\n",
      "site_url_close[0] http://www.yursgroup.com/\n",
      "ii 834 self.companies[ii] Yurs Group\n",
      "out1 false iout2 88 url https://www.yursgroup.com/\n",
      "companies[0] Post Press Specialties this url https://www.yursgroup.com/\n"
     ]
    },
    {
     "name": "stderr",
     "output_type": "stream",
     "text": [
      "2021-11-30 16:43:36 [scrapy.core.engine] DEBUG: Crawled (200) <GET https://www.kevinsww.com/> (referer: None)\n"
     ]
    },
    {
     "name": "stdout",
     "output_type": "stream",
     "text": [
      "site_url http://copymatwalnutcreek.com/ site_url_close ['http://copymatwalnutcreek.com/', 'http://catalant.co', 'https://compumailinc.com']\n",
      "site_url_close[0] http://copymatwalnutcreek.com/\n",
      "ii 857 self.companies[ii] Copymat\n",
      "out1 true iout1 681 url http://copymatwalnutcreek.com/\n",
      "companies[0] Clockwork Design Group this url http://copymatwalnutcreek.com/\n",
      "site_url https://www.kevinsww.com/ site_url_close ['https://www.kevinsww.com/', 'https://www.knc.com/', 'https://www.kip.com/']\n",
      "site_url_close[0] https://www.kevinsww.com/\n",
      "ii 853 self.companies[ii] Kevins Worldwide\n",
      "out1 true iout1 682 url https://www.kevinsww.com/\n",
      "companies[0] Supplies Guys this url https://www.kevinsww.com/\n"
     ]
    },
    {
     "name": "stderr",
     "output_type": "stream",
     "text": [
      "2021-11-30 16:43:37 [scrapy.core.engine] DEBUG: Crawled (200) <GET https://ezhitech.com/> (referer: None)\n",
      "2021-11-30 16:43:37 [scrapy.downloadermiddlewares.redirect] DEBUG: Redirecting (301) to <GET http://www.cmcondemand.com/> from <GET https://cmconline.net>\n",
      "2021-11-30 16:43:37 [scrapy.core.engine] DEBUG: Crawled (200) <GET https://www.pro-motion.ws> (referer: None)\n"
     ]
    },
    {
     "name": "stdout",
     "output_type": "stream",
     "text": [
      "site_url https://ezhitech.com/ site_url_close ['http://eezitec.com/', 'https://www.ezhitech.com', 'https://pahutch.com/']\n",
      "site_url_close[0] http://eezitec.com/\n",
      "ii 3002 self.companies[ii] eezitec\n",
      "out1 true iout1 683 url https://ezhitech.com/\n",
      "companies[0] MS Dallas this url https://ezhitech.com/\n"
     ]
    },
    {
     "name": "stderr",
     "output_type": "stream",
     "text": [
      "2021-11-30 16:43:38 [scrapy.core.engine] DEBUG: Crawled (200) <GET https://www.jakcd.com/> (referer: None)\n",
      "2021-11-30 16:43:38 [scrapy.core.engine] DEBUG: Crawled (200) <GET https://www.premiumcreativelabels.com/> (referer: None)\n",
      "2021-11-30 16:43:38 [scrapy.downloadermiddlewares.retry] DEBUG: Retrying <GET http://imaginationtrends.com/> (failed 2 times): DNS lookup failed: no results for hostname lookup: imaginationtrends.com.\n"
     ]
    },
    {
     "name": "stdout",
     "output_type": "stream",
     "text": [
      "site_url https://www.pro-motion.ws site_url_close ['https://www.pro-motion.ws', 'https://www.lexpromotions.com', 'https://www.purepromotions.co/']\n",
      "site_url_close[0] https://www.pro-motion.ws\n",
      "ii 858 self.companies[ii] Pro-Motion Industries\n",
      "out1 true iout1 684 url https://www.pro-motion.ws\n",
      "companies[0] ClubFlyers.com this url https://www.pro-motion.ws\n",
      "site_url https://www.jakcd.com/ site_url_close ['https://www.knc.com/', 'https://www.cds.com/', 'https://www.goakd.com']\n",
      "site_url_close[0] https://www.knc.com/\n",
      "ii 1644 self.companies[ii] KNC Marketing\n",
      "out1 true iout1 685 url https://www.jakcd.com/\n",
      "companies[0] Lantor this url https://www.jakcd.com/\n"
     ]
    },
    {
     "name": "stderr",
     "output_type": "stream",
     "text": [
      "2021-11-30 16:43:39 [scrapy.core.engine] DEBUG: Crawled (200) <GET https://printsolution.com/> (referer: None)\n"
     ]
    },
    {
     "name": "stdout",
     "output_type": "stream",
     "text": [
      "site_url https://www.premiumcreativelabels.com/ site_url_close ['https://www.premiumcreativelabels.com/', 'https://www.creativelabels.com', 'https://www.chromaticlabels.com/']\n",
      "site_url_close[0] https://www.premiumcreativelabels.com/\n",
      "ii 860 self.companies[ii] Premium Creative Labels\n",
      "out1 true iout1 686 url https://www.premiumcreativelabels.com/\n",
      "companies[0] InnoVision Health Media this url https://www.premiumcreativelabels.com/\n"
     ]
    },
    {
     "name": "stderr",
     "output_type": "stream",
     "text": [
      "2021-11-30 16:43:40 [scrapy.downloadermiddlewares.redirect] DEBUG: Redirecting (301) to <GET https://www.cenveo.com:443/> from <GET http://www.cenveo.com>\n",
      "2021-11-30 16:43:40 [scrapy.downloadermiddlewares.redirect] DEBUG: Redirecting (301) to <GET https://mmeftech.com/> from <GET https://www.mmeftech.com/>\n"
     ]
    },
    {
     "name": "stdout",
     "output_type": "stream",
     "text": [
      "site_url https://printsolution.com/ site_url_close ['https://sunprintsolutions.com/', 'http://www.printsolution.com/', 'https://cincyprintsolutions.com/']\n",
      "site_url_close[0] https://sunprintsolutions.com/\n",
      "ii 3380 self.companies[ii] Sun Print Solutions\n",
      "out1 true iout1 687 url https://printsolution.com/\n",
      "companies[0] All Points this url https://printsolution.com/\n"
     ]
    },
    {
     "name": "stderr",
     "output_type": "stream",
     "text": [
      "2021-11-30 16:43:40 [scrapy.core.engine] DEBUG: Crawled (200) <GET https://bullseye.graphics/> (referer: None)\n",
      "2021-11-30 16:43:40 [scrapy.core.engine] DEBUG: Crawled (200) <GET https://akronartmuseum.org/> (referer: None)\n",
      "2021-11-30 16:43:41 [scrapy.core.engine] DEBUG: Crawled (200) <GET https://thepldgroup.com/> (referer: None)\n",
      "2021-11-30 16:43:41 [scrapy.core.engine] DEBUG: Crawled (200) <GET https://www.advantageemblem.com/> (referer: None)\n",
      "2021-11-30 16:43:41 [scrapy.core.engine] DEBUG: Crawled (200) <GET https://www.adamsmcclure.com> (referer: None)\n"
     ]
    },
    {
     "name": "stdout",
     "output_type": "stream",
     "text": [
      "site_url https://bullseye.graphics/ site_url_close ['http://www.bullseye.graphics', 'https://skyline.graphics/', 'https://beyergraphics.com/']\n",
      "site_url_close[0] http://www.bullseye.graphics\n",
      "ii 850 self.companies[ii] Bullseye Visuals\n",
      "out1 false iout2 89 url https://bullseye.graphics/\n",
      "companies[0] Gigunda Group this url https://bullseye.graphics/\n"
     ]
    },
    {
     "name": "stderr",
     "output_type": "stream",
     "text": [
      "2021-11-30 16:43:41 [scrapy.core.engine] DEBUG: Crawled (200) <GET https://www.waterlogic.com/> (referer: None)\n",
      "2021-11-30 16:43:41 [scrapy.core.engine] DEBUG: Crawled (200) <GET https://www.marketinggalore.com> (referer: None)\n"
     ]
    },
    {
     "name": "stdout",
     "output_type": "stream",
     "text": [
      "site_url https://akronartmuseum.org/ site_url_close ['https://akronartmuseum.org/', 'https://ironmarkusa.com/', 'https://printarts.com/']\n",
      "site_url_close[0] https://akronartmuseum.org/\n",
      "ii 865 self.companies[ii] Akron Art Museum\n",
      "out1 false iout2 90 url https://akronartmuseum.org/\n",
      "companies[0] Shootdigital this url https://akronartmuseum.org/\n",
      "site_url https://thepldgroup.com/ site_url_close ['https://www.thepldgroup.com', 'https://thempxgroup.com', 'https://fruthgroup.com/']\n",
      "site_url_close[0] https://www.thepldgroup.com\n",
      "ii 845 self.companies[ii] The PLD Group\n",
      "out1 true iout1 688 url https://thepldgroup.com/\n",
      "companies[0] Floor Productions this url https://thepldgroup.com/\n",
      "site_url https://www.advantageemblem.com/ site_url_close ['https://www.advantageemblem.com/', 'https://www.advancelocal.com/', 'https://www.goadvanced.com/']\n",
      "site_url_close[0] https://www.advantageemblem.com/\n",
      "ii 861 self.companies[ii] Advantage Emblem & Screen Printing\n",
      "out1 true iout1 689 url https://www.advantageemblem.com/\n",
      "companies[0] Color FX Inc. this url https://www.advantageemblem.com/\n"
     ]
    },
    {
     "name": "stderr",
     "output_type": "stream",
     "text": [
      "2021-11-30 16:43:42 [scrapy.downloadermiddlewares.redirect] DEBUG: Redirecting (301) to <GET https://instantimprints.com/> from <GET http://instantimprints.com>\n",
      "2021-11-30 16:43:42 [scrapy.downloadermiddlewares.redirect] DEBUG: Redirecting (301) to <GET https://custom-profile.com/> from <GET http://custom-profile.com>\n",
      "2021-11-30 16:43:42 [scrapy.downloadermiddlewares.retry] DEBUG: Retrying <GET https://www.tonertype.com> (failed 2 times): Connection was refused by other side: 10061: No connection could be made because the target machine actively refused it..\n",
      "2021-11-30 16:43:42 [scrapy.downloadermiddlewares.retry] DEBUG: Retrying <GET http://treshombrescantina.net/> (failed 2 times): DNS lookup failed: no results for hostname lookup: treshombrescantina.net.\n"
     ]
    },
    {
     "name": "stdout",
     "output_type": "stream",
     "text": [
      "site_url https://www.adamsmcclure.com site_url_close ['https://www.adamsmcclure.com', 'https://www.adamsdms.com/', 'http://www.edmssecure.com']\n",
      "site_url_close[0] https://www.adamsmcclure.com\n",
      "ii 856 self.companies[ii] Adams McClure\n",
      "out1 true iout1 690 url https://www.adamsmcclure.com\n",
      "companies[0] All American Label this url https://www.adamsmcclure.com\n",
      "site_url https://www.waterlogic.com/ site_url_close ['https://www.waterlogic.com/', 'https://www.waterside.com/', 'http://www.freerlogic.com/']\n",
      "site_url_close[0] https://www.waterlogic.com/\n",
      "ii 863 self.companies[ii] Waterlogic\n",
      "out1 true iout1 691 url https://www.waterlogic.com/\n",
      "companies[0] Graphic Dimensions this url https://www.waterlogic.com/\n"
     ]
    },
    {
     "name": "stderr",
     "output_type": "stream",
     "text": [
      "2021-11-30 16:43:43 [scrapy.downloadermiddlewares.retry] DEBUG: Retrying <GET http://www.incolordigital.com> (failed 2 times): TCP connection timed out: 10060: A connection attempt failed because the connected party did not properly respond after a period of time, or established connection failed because connected host has failed to respond..\n",
      "2021-11-30 16:43:44 [scrapy.downloadermiddlewares.redirect] DEBUG: Redirecting (301) to <GET https://wired.com/> from <GET http://wired.com>\n",
      "2021-11-30 16:43:44 [scrapy.downloadermiddlewares.redirect] DEBUG: Redirecting (301) to <GET http://www.brprinters.com/> from <GET http://brprinters.com>\n"
     ]
    },
    {
     "name": "stdout",
     "output_type": "stream",
     "text": [
      "site_url https://www.marketinggalore.com site_url_close ['http://www.marketinggalore.com', 'https://www.api-marketing.com', 'https://www.828marketing.com/']\n",
      "site_url_close[0] http://www.marketinggalore.com\n",
      "ii 844 self.companies[ii] Marketing Galore\n",
      "out1 true iout1 692 url https://www.marketinggalore.com\n",
      "companies[0] Manhattan Media Services this url https://www.marketinggalore.com\n"
     ]
    },
    {
     "name": "stderr",
     "output_type": "stream",
     "text": [
      "2021-11-30 16:43:44 [scrapy.downloadermiddlewares.redirect] DEBUG: Redirecting (301) to <GET https://firespring.com/> from <GET http://firespring.com>\n",
      "2021-11-30 16:43:45 [scrapy.downloadermiddlewares.redirect] DEBUG: Redirecting (301) to <GET https://cmcondemand.com/> from <GET http://www.cmcondemand.com/>\n",
      "2021-11-30 16:43:45 [scrapy.core.engine] DEBUG: Crawled (200) <GET https://www.bjscustomcreations.com/> (referer: None)\n"
     ]
    },
    {
     "name": "stdout",
     "output_type": "stream",
     "text": [
      "site_url https://www.bjscustomcreations.com/ site_url_close ['https://www.customink.com/', 'https://www.mspcustomsolutions.com', 'https://www.bookautomation.com']\n",
      "site_url_close[0] https://www.customink.com/\n",
      "ii 187 self.companies[ii] Custom Ink\n",
      "out1 true iout1 693 url https://www.bjscustomcreations.com/\n",
      "companies[0] Via Promotionals this url https://www.bjscustomcreations.com/\n"
     ]
    },
    {
     "name": "stderr",
     "output_type": "stream",
     "text": [
      "2021-11-30 16:43:46 [scrapy.downloadermiddlewares.redirect] DEBUG: Redirecting (301) to <GET https://www.bkconnection.com/> from <GET http://www.bkconnection.com/>\n",
      "2021-11-30 16:43:47 [scrapy.core.engine] DEBUG: Crawled (200) <GET https://www.cenveo.com:443/> (referer: None)\n"
     ]
    },
    {
     "name": "stdout",
     "output_type": "stream",
     "text": [
      "site_url https://www.cenveo.com:443/ site_url_close ['http://www.cenveo.com', 'https://www.cranel.com/', 'https://www.ntwo.com/']\n",
      "site_url_close[0] http://www.cenveo.com\n",
      "ii 864 self.companies[ii] Cenveo\n",
      "out1 true iout1 694 url https://www.cenveo.com:443/\n",
      "companies[0] PosterGarden this url https://www.cenveo.com:443/\n"
     ]
    },
    {
     "name": "stderr",
     "output_type": "stream",
     "text": [
      "2021-11-30 16:43:47 [scrapy.core.engine] DEBUG: Crawled (200) <GET https://www.adamsmcclure.com/technology> (referer: https://www.adamsmcclure.com)\n",
      "2021-11-30 16:43:48 [scrapy.downloadermiddlewares.redirect] DEBUG: Redirecting (301) to <GET https://www.lacerta.com/> from <GET http://lacerta.com/>\n"
     ]
    },
    {
     "name": "stdout",
     "output_type": "stream",
     "text": [
      "site_url https://www.adamsmcclure.com/technology site_url_close ['https://www.adamsmcclure.com', 'https://www.adamsdms.com/', 'http://www.midamericatechnology.com']\n",
      "site_url_close[0] https://www.adamsmcclure.com\n",
      "ii 856 self.companies[ii] Adams McClure\n",
      "out1 true iout1 695 url https://www.adamsmcclure.com/technology\n",
      "companies[0] Big Visual Group this url https://www.adamsmcclure.com/technology\n"
     ]
    },
    {
     "name": "stderr",
     "output_type": "stream",
     "text": [
      "2021-11-30 16:43:48 [scrapy.downloadermiddlewares.redirect] DEBUG: Redirecting (301) to <GET https://www.kofax.com:443/Products/ecopy> from <GET http://www.ecopy.com>\n",
      "2021-11-30 16:43:50 [scrapy.downloadermiddlewares.retry] ERROR: Gave up retrying <GET http://imaginationtrends.com/> (failed 3 times): DNS lookup failed: no results for hostname lookup: imaginationtrends.com.\n",
      "2021-11-30 16:43:50 [scrapy.core.scraper] ERROR: Error downloading <GET http://imaginationtrends.com/>\n",
      "Traceback (most recent call last):\n",
      "  File \"C:\\Users\\MStopa\\AppData\\Local\\Continuum\\anaconda3\\envs\\webscrape\\lib\\site-packages\\twisted\\internet\\defer.py\", line 1416, in _inlineCallbacks\n",
      "    result = result.throwExceptionIntoGenerator(g)\n",
      "  File \"C:\\Users\\MStopa\\AppData\\Local\\Continuum\\anaconda3\\envs\\webscrape\\lib\\site-packages\\twisted\\python\\failure.py\", line 512, in throwExceptionIntoGenerator\n",
      "    return g.throw(self.type, self.value, self.tb)\n",
      "  File \"C:\\Users\\MStopa\\AppData\\Local\\Continuum\\anaconda3\\envs\\webscrape\\lib\\site-packages\\scrapy\\core\\downloader\\middleware.py\", line 44, in process_request\n",
      "    return (yield download_func(request=request, spider=spider))\n",
      "  File \"C:\\Users\\MStopa\\AppData\\Local\\Continuum\\anaconda3\\envs\\webscrape\\lib\\site-packages\\twisted\\internet\\defer.py\", line 654, in _runCallbacks\n",
      "    current.result = callback(current.result, *args, **kw)\n",
      "  File \"C:\\Users\\MStopa\\AppData\\Local\\Continuum\\anaconda3\\envs\\webscrape\\lib\\site-packages\\twisted\\internet\\endpoints.py\", line 982, in startConnectionAttempts\n",
      "    \"no results for hostname lookup: {}\".format(self._hostStr)\n",
      "twisted.internet.error.DNSLookupError: DNS lookup failed: no results for hostname lookup: imaginationtrends.com.\n",
      "2021-11-30 16:43:50 [scrapy.core.engine] DEBUG: Crawled (200) <GET https://mmeftech.com/> (referer: None)\n",
      "2021-11-30 16:43:50 [scrapy.downloadermiddlewares.retry] ERROR: Gave up retrying <GET https://www.tonertype.com> (failed 3 times): Connection was refused by other side: 10061: No connection could be made because the target machine actively refused it..\n",
      "2021-11-30 16:43:51 [scrapy.core.scraper] ERROR: Error downloading <GET https://www.tonertype.com>\n",
      "Traceback (most recent call last):\n",
      "  File \"C:\\Users\\MStopa\\AppData\\Local\\Continuum\\anaconda3\\envs\\webscrape\\lib\\site-packages\\scrapy\\core\\downloader\\middleware.py\", line 44, in process_request\n",
      "    return (yield download_func(request=request, spider=spider))\n",
      "twisted.internet.error.ConnectionRefusedError: Connection was refused by other side: 10061: No connection could be made because the target machine actively refused it..\n"
     ]
    },
    {
     "name": "stdout",
     "output_type": "stream",
     "text": [
      "site_url https://mmeftech.com/ site_url_close ['https://www.mmeftech.com/', 'http://ppmtech.com', 'https://perfectetch.com']\n",
      "site_url_close[0] https://www.mmeftech.com/\n",
      "ii 862 self.companies[ii] MM Electronics\n",
      "out1 true iout1 696 url https://mmeftech.com/\n",
      "companies[0] Southern California Biomedical Council this url https://mmeftech.com/\n"
     ]
    },
    {
     "name": "stderr",
     "output_type": "stream",
     "text": [
      "2021-11-30 16:43:51 [scrapy.core.engine] DEBUG: Crawled (200) <GET https://www.printmailsolutions.com/> (referer: None)\n",
      "2021-11-30 16:43:51 [scrapy.downloadermiddlewares.redirect] DEBUG: Redirecting (301) to <GET https://fisherunitech.com/> from <GET http://www.funtech.com/>\n",
      "2021-11-30 16:43:51 [scrapy.core.engine] DEBUG: Crawled (200) <GET https://www.quantumgroup.com/> (referer: None)\n"
     ]
    },
    {
     "name": "stdout",
     "output_type": "stream",
     "text": [
      "site_url https://www.printmailsolutions.com/ site_url_close ['https://www.printmailsolutions.com/', 'http://www.printsolution.com/', 'https://www.doveprintsolutions.com/']\n",
      "site_url_close[0] https://www.printmailsolutions.com/\n",
      "ii 875 self.companies[ii] PrintMail Solutions\n",
      "out1 true iout1 697 url https://www.printmailsolutions.com/\n",
      "companies[0] Promotion Plus Sign this url https://www.printmailsolutions.com/\n"
     ]
    },
    {
     "name": "stderr",
     "output_type": "stream",
     "text": [
      "2021-11-30 16:43:52 [scrapy.downloadermiddlewares.retry] ERROR: Gave up retrying <GET http://treshombrescantina.net/> (failed 3 times): DNS lookup failed: no results for hostname lookup: treshombrescantina.net.\n",
      "2021-11-30 16:43:52 [scrapy.downloadermiddlewares.redirect] DEBUG: Redirecting (301) to <GET https://pinnacledatasystems.com/> from <GET http://pinnacledatasystems.com>\n",
      "2021-11-30 16:43:52 [scrapy.core.scraper] ERROR: Error downloading <GET http://treshombrescantina.net/>\n",
      "Traceback (most recent call last):\n",
      "  File \"C:\\Users\\MStopa\\AppData\\Local\\Continuum\\anaconda3\\envs\\webscrape\\lib\\site-packages\\twisted\\internet\\defer.py\", line 1416, in _inlineCallbacks\n",
      "    result = result.throwExceptionIntoGenerator(g)\n",
      "  File \"C:\\Users\\MStopa\\AppData\\Local\\Continuum\\anaconda3\\envs\\webscrape\\lib\\site-packages\\twisted\\python\\failure.py\", line 512, in throwExceptionIntoGenerator\n",
      "    return g.throw(self.type, self.value, self.tb)\n",
      "  File \"C:\\Users\\MStopa\\AppData\\Local\\Continuum\\anaconda3\\envs\\webscrape\\lib\\site-packages\\scrapy\\core\\downloader\\middleware.py\", line 44, in process_request\n",
      "    return (yield download_func(request=request, spider=spider))\n",
      "  File \"C:\\Users\\MStopa\\AppData\\Local\\Continuum\\anaconda3\\envs\\webscrape\\lib\\site-packages\\twisted\\internet\\defer.py\", line 654, in _runCallbacks\n",
      "    current.result = callback(current.result, *args, **kw)\n",
      "  File \"C:\\Users\\MStopa\\AppData\\Local\\Continuum\\anaconda3\\envs\\webscrape\\lib\\site-packages\\twisted\\internet\\endpoints.py\", line 982, in startConnectionAttempts\n",
      "    \"no results for hostname lookup: {}\".format(self._hostStr)\n",
      "twisted.internet.error.DNSLookupError: DNS lookup failed: no results for hostname lookup: treshombrescantina.net.\n"
     ]
    },
    {
     "name": "stdout",
     "output_type": "stream",
     "text": [
      "site_url https://www.quantumgroup.com/ site_url_close ['https://www.quantumgroup.com/', 'https://www.quantumco.com/', 'http://www.ntmediagroup.com/']\n",
      "site_url_close[0] https://www.quantumgroup.com/\n",
      "ii 876 self.companies[ii] Quantum\n",
      "out1 true iout1 698 url https://www.quantumgroup.com/\n",
      "companies[0] MK MasterWork USA Inc this url https://www.quantumgroup.com/\n"
     ]
    },
    {
     "name": "stderr",
     "output_type": "stream",
     "text": [
      "2021-11-30 16:43:52 [scrapy.downloadermiddlewares.redirect] DEBUG: Redirecting (301) to <GET https://www.syneoco.com/> from <GET http://www.syneoco.com/>\n",
      "2021-11-30 16:43:53 [scrapy.downloadermiddlewares.redirect] DEBUG: Redirecting (301) to <GET https://www.custom-profile.com/> from <GET https://custom-profile.com/>\n",
      "2021-11-30 16:43:53 [scrapy.core.engine] DEBUG: Crawled (200) <GET https://instantimprints.com/> (referer: None)\n",
      "2021-11-30 16:43:54 [scrapy.downloadermiddlewares.redirect] DEBUG: Redirecting (301) to <GET https://www.wired.com/> from <GET https://wired.com/>\n",
      "2021-11-30 16:43:54 [scrapy.downloadermiddlewares.redirect] DEBUG: Redirecting (301) to <GET https://www.google.com/> from <GET https://www.bkconnection.com/>\n",
      "2021-11-30 16:43:54 [scrapy.core.engine] DEBUG: Crawled (200) <GET https://cmcondemand.com/> (referer: None)\n"
     ]
    },
    {
     "name": "stdout",
     "output_type": "stream",
     "text": [
      "site_url https://instantimprints.com/ site_url_close ['http://instantimprints.com', 'https://santeeprint.com/', 'http://innoprint.com/']\n",
      "site_url_close[0] http://instantimprints.com\n",
      "ii 867 self.companies[ii] Instant Imprints\n",
      "out1 true iout1 699 url https://instantimprints.com/\n",
      "companies[0] Grannystone this url https://instantimprints.com/\n"
     ]
    },
    {
     "name": "stderr",
     "output_type": "stream",
     "text": [
      "2021-11-30 16:43:54 [scrapy.core.engine] DEBUG: Crawled (200) <GET https://firespring.com/> (referer: None)\n"
     ]
    },
    {
     "name": "stdout",
     "output_type": "stream",
     "text": [
      "site_url https://cmcondemand.com/ site_url_close ['http://moolean.com/', 'https://concorddt.com/', 'https://ocdm.com/']\n",
      "site_url_close[0] http://moolean.com/\n",
      "ii 3073 self.companies[ii] Moolean\n",
      "out1 true iout1 700 url https://cmcondemand.com/\n",
      "companies[0] Hunter Hawk this url https://cmcondemand.com/\n"
     ]
    },
    {
     "name": "stderr",
     "output_type": "stream",
     "text": [
      "2021-11-30 16:43:55 [scrapy.downloadermiddlewares.redirect] DEBUG: Redirecting (301) to <GET https://www.brprinters.com/> from <GET http://www.brprinters.com/>\n",
      "2021-11-30 16:43:55 [scrapy.downloadermiddlewares.redirect] DEBUG: Redirecting (301) to <GET http://www.digitalfirstmedia.com/> from <GET http://www.journalregister.com>\n"
     ]
    },
    {
     "name": "stdout",
     "output_type": "stream",
     "text": [
      "site_url https://firespring.com/ site_url_close ['http://firespring.com', 'https://fasprint.com/', 'https://www.firesprint.com']\n",
      "site_url_close[0] http://firespring.com\n",
      "ii 871 self.companies[ii] Firespring\n",
      "out1 true iout1 701 url https://firespring.com/\n",
      "companies[0] High Resolutions this url https://firespring.com/\n"
     ]
    },
    {
     "name": "stderr",
     "output_type": "stream",
     "text": [
      "2021-11-30 16:43:55 [scrapy.downloadermiddlewares.redirect] DEBUG: Redirecting (301) to <GET https://meetingsigns.com/> from <GET http://meetingsigns.com>\n",
      "2021-11-30 16:43:56 [scrapy.core.engine] DEBUG: Crawled (200) <GET https://www.lacerta.com/> (referer: None)\n",
      "2021-11-30 16:43:56 [scrapy.downloadermiddlewares.redirect] DEBUG: Redirecting (301) to <GET https://www.kofax.com/products/ecopy> from <GET https://www.kofax.com:443/Products/ecopy>\n",
      "2021-11-30 16:43:56 [scrapy.core.engine] DEBUG: Crawled (200) <GET https://sourceone.nazdar.com/> (referer: None)\n"
     ]
    },
    {
     "name": "stdout",
     "output_type": "stream",
     "text": [
      "site_url https://www.lacerta.com/ site_url_close ['http://lacerta.com/', 'https://www.latpal.com', 'https://www.qea.com/']\n",
      "site_url_close[0] http://lacerta.com/\n",
      "ii 873 self.companies[ii] Lacerta Group\n",
      "out1 true iout1 702 url https://www.lacerta.com/\n",
      "companies[0] Infinite Packaging Group this url https://www.lacerta.com/\n"
     ]
    },
    {
     "name": "stderr",
     "output_type": "stream",
     "text": [
      "2021-11-30 16:43:57 [scrapy.downloadermiddlewares.redirect] DEBUG: Redirecting (301) to <GET http://www.americanspiritcorp.com/> from <GET http://americanspiritcorp.com>\n"
     ]
    },
    {
     "name": "stdout",
     "output_type": "stream",
     "text": [
      "site_url https://sourceone.nazdar.com/ site_url_close ['https://sourceone.nazdar.com/', 'http://sourceonedigital.com', 'https://resourcewizards.com/']\n",
      "site_url_close[0] https://sourceone.nazdar.com/\n",
      "ii 881 self.companies[ii] Nazdar SourceOne\n",
      "out1 true iout1 703 url https://sourceone.nazdar.com/\n",
      "companies[0] Desi Telephone Labels this url https://sourceone.nazdar.com/\n"
     ]
    },
    {
     "name": "stderr",
     "output_type": "stream",
     "text": [
      "2021-11-30 16:43:59 [scrapy.core.engine] DEBUG: Crawled (200) <GET https://pinnacledatasystems.com/> (referer: None)\n",
      "2021-11-30 16:44:00 [scrapy.core.engine] DEBUG: Crawled (200) <GET https://www.altiumhealthcare.com/> (referer: None)\n"
     ]
    },
    {
     "name": "stdout",
     "output_type": "stream",
     "text": [
      "site_url https://pinnacledatasystems.com/ site_url_close ['http://pinnacledatasystems.com', 'https://allbarcodesystems.com/', 'http://www.calendarsystems.com']\n",
      "site_url_close[0] http://pinnacledatasystems.com\n",
      "ii 878 self.companies[ii] Pinnacle Data Systems, LLC\n",
      "out1 true iout1 704 url https://pinnacledatasystems.com/\n",
      "companies[0] Envelopments this url https://pinnacledatasystems.com/\n"
     ]
    },
    {
     "name": "stderr",
     "output_type": "stream",
     "text": [
      "2021-11-30 16:44:00 [scrapy.downloadermiddlewares.redirect] DEBUG: Redirecting (301) to <GET https://fusionpro.com/> from <GET http://www.printable.com>\n"
     ]
    },
    {
     "name": "stdout",
     "output_type": "stream",
     "text": [
      "site_url https://www.altiumhealthcare.com/ site_url_close ['https://www.altiumhealthcare.com/', 'https://www.wheatmark.com/', 'https://www.hallstarz.com/']\n",
      "site_url_close[0] https://www.altiumhealthcare.com/\n",
      "ii 885 self.companies[ii] Altium Healthcare\n",
      "out1 true iout1 705 url https://www.altiumhealthcare.com/\n",
      "companies[0] 3D Digital this url https://www.altiumhealthcare.com/\n"
     ]
    },
    {
     "name": "stderr",
     "output_type": "stream",
     "text": [
      "2021-11-30 16:44:01 [scrapy.core.engine] DEBUG: Crawled (200) <GET https://www.afterdarkgrafx.com/> (referer: None)\n",
      "2021-11-30 16:44:01 [scrapy.core.engine] DEBUG: Crawled (200) <GET https://www.poly-med.com/> (referer: None)\n"
     ]
    },
    {
     "name": "stdout",
     "output_type": "stream",
     "text": [
      "site_url https://www.afterdarkgrafx.com/ site_url_close ['https://www.afterdarkgrafx.com/', 'http://www.stellagrafx.com/', 'https://www.admarkusa.com/']\n",
      "site_url_close[0] https://www.afterdarkgrafx.com/\n",
      "ii 887 self.companies[ii] After Dark Grafx\n",
      "out1 true iout1 706 url https://www.afterdarkgrafx.com/\n",
      "companies[0] Verified Label, Print & Promotions this url https://www.afterdarkgrafx.com/\n"
     ]
    },
    {
     "name": "stderr",
     "output_type": "stream",
     "text": [
      "2021-11-30 16:44:02 [scrapy.core.engine] DEBUG: Crawled (200) <GET https://www.syneoco.com/> (referer: None)\n",
      "2021-11-30 16:44:02 [scrapy.downloadermiddlewares.redirect] DEBUG: Redirecting (301) to <GET http://www.fisherunitech.com/> from <GET https://fisherunitech.com/>\n"
     ]
    },
    {
     "name": "stdout",
     "output_type": "stream",
     "text": [
      "site_url https://www.poly-med.com/ site_url_close ['https://www.poly-med.com/', 'https://www.polid.com/', 'https://www.tomedes.com/']\n",
      "site_url_close[0] https://www.poly-med.com/\n",
      "ii 880 self.companies[ii] Poly-Med\n",
      "out1 true iout1 707 url https://www.poly-med.com/\n",
      "companies[0] Trade Show Displays this url https://www.poly-med.com/\n"
     ]
    },
    {
     "name": "stderr",
     "output_type": "stream",
     "text": [
      "2021-11-30 16:44:03 [scrapy.core.engine] DEBUG: Crawled (200) <GET https://www.custom-profile.com/> (referer: None)\n"
     ]
    },
    {
     "name": "stdout",
     "output_type": "stream",
     "text": [
      "site_url https://www.syneoco.com/ site_url_close ['http://www.syneoco.com/', 'https://www.spcoc.com/', 'https://www.skyou.com/']\n",
      "site_url_close[0] http://www.syneoco.com/\n",
      "ii 879 self.companies[ii] SYNEO\n",
      "out1 true iout1 708 url https://www.syneoco.com/\n",
      "companies[0] Printer Pro Solutions this url https://www.syneoco.com/\n"
     ]
    },
    {
     "name": "stderr",
     "output_type": "stream",
     "text": [
      "2021-11-30 16:44:04 [scrapy.core.engine] DEBUG: Crawled (200) <GET https://www.tapplabel.com> (referer: None)\n"
     ]
    },
    {
     "name": "stdout",
     "output_type": "stream",
     "text": [
      "site_url https://www.custom-profile.com/ site_url_close ['http://custom-profile.com', 'http://www.custompoly.com/', 'https://www.customcolor.com/']\n",
      "site_url_close[0] http://custom-profile.com\n",
      "ii 866 self.companies[ii] Custom Profile\n",
      "out1 true iout1 709 url https://www.custom-profile.com/\n",
      "companies[0] Circ Design this url https://www.custom-profile.com/\n"
     ]
    },
    {
     "name": "stderr",
     "output_type": "stream",
     "text": [
      "2021-11-30 16:44:04 [scrapy.downloadermiddlewares.redirect] DEBUG: Redirecting (301) to <GET https://www.medianewsgroup.com/> from <GET http://www.digitalfirstmedia.com/>\n",
      "2021-11-30 16:44:04 [scrapy.core.engine] DEBUG: Crawled (200) <GET https://eps-doublet.com/> (referer: None)\n",
      "2021-11-30 16:44:04 [scrapy.downloadermiddlewares.redirect] DEBUG: Redirecting (301) to <GET https://www.cowboysindians.com/> from <GET http://www.cowboysindians.com>\n",
      "2021-11-30 16:44:04 [scrapy.core.engine] DEBUG: Crawled (200) <GET https://www.brprinters.com/> (referer: None)\n"
     ]
    },
    {
     "name": "stdout",
     "output_type": "stream",
     "text": [
      "site_url https://www.tapplabel.com site_url_close ['https://www.tapplabel.com', 'https://www.data-label.com', 'https://www.bestlabel.com']\n",
      "site_url_close[0] https://www.tapplabel.com\n",
      "ii 889 self.companies[ii] Tapp Label\n",
      "out1 true iout1 710 url https://www.tapplabel.com\n",
      "companies[0] Print Promotions this url https://www.tapplabel.com\n"
     ]
    },
    {
     "name": "stderr",
     "output_type": "stream",
     "text": [
      "2021-11-30 16:44:05 [scrapy.downloadermiddlewares.redirect] DEBUG: Redirecting (301) to <GET https://www.cryotech.com/> from <GET http://cryotech.com>\n",
      "2021-11-30 16:44:05 [scrapy.core.engine] DEBUG: Crawled (200) <GET https://www.google.com/> (referer: None)\n",
      "2021-11-30 16:44:05 [scrapy.downloadermiddlewares.retry] ERROR: Gave up retrying <GET http://www.incolordigital.com> (failed 3 times): TCP connection timed out: 10060: A connection attempt failed because the connected party did not properly respond after a period of time, or established connection failed because connected host has failed to respond..\n",
      "2021-11-30 16:44:05 [scrapy.downloadermiddlewares.retry] DEBUG: Retrying <GET https://www.formfast.com> (failed 1 times): TCP connection timed out: 10060: A connection attempt failed because the connected party did not properly respond after a period of time, or established connection failed because connected host has failed to respond..\n",
      "2021-11-30 16:44:05 [scrapy.downloadermiddlewares.retry] DEBUG: Retrying <GET https://www.suncrafttechnologies.com/> (failed 1 times): DNS lookup failed: no results for hostname lookup: www.suncrafttechnologies.com.\n"
     ]
    },
    {
     "name": "stdout",
     "output_type": "stream",
     "text": [
      "site_url https://eps-doublet.com/ site_url_close ['https://eps-doublet.com/', 'https://edt.com/', 'https://mecsoft.com/']\n",
      "site_url_close[0] https://eps-doublet.com/\n",
      "ii 888 self.companies[ii] EPS-Doublet\n",
      "out1 true iout1 711 url https://eps-doublet.com/\n",
      "companies[0] Brooks Internet Software this url https://eps-doublet.com/\n"
     ]
    },
    {
     "name": "stderr",
     "output_type": "stream",
     "text": [
      "2021-11-30 16:44:06 [scrapy.downloadermiddlewares.redirect] DEBUG: Redirecting (301) to <GET https://www.americanspiritcorp.com/> from <GET http://www.americanspiritcorp.com/>\n",
      "2021-11-30 16:44:06 [scrapy.downloadermiddlewares.redirect] DEBUG: Redirecting (301) to <GET https://www.primeadvertising.com/> from <GET http://www.primeadvertising.com>\n",
      "2021-11-30 16:44:06 [scrapy.core.scraper] ERROR: Error downloading <GET http://www.incolordigital.com>\n",
      "Traceback (most recent call last):\n",
      "  File \"C:\\Users\\MStopa\\AppData\\Local\\Continuum\\anaconda3\\envs\\webscrape\\lib\\site-packages\\scrapy\\core\\downloader\\middleware.py\", line 44, in process_request\n",
      "    return (yield download_func(request=request, spider=spider))\n",
      "twisted.internet.error.TCPTimedOutError: TCP connection timed out: 10060: A connection attempt failed because the connected party did not properly respond after a period of time, or established connection failed because connected host has failed to respond..\n"
     ]
    },
    {
     "name": "stdout",
     "output_type": "stream",
     "text": [
      "site_url https://www.brprinters.com/ site_url_close ['https://www.bfsprinters.com/', 'https://www.printergy.com/', 'https://www.folderprinters.com/']\n",
      "site_url_close[0] https://www.bfsprinters.com/\n",
      "ii 2862 self.companies[ii] BFS Business Printing\n",
      "out1 true iout1 712 url https://www.brprinters.com/\n",
      "companies[0] Century Displays this url https://www.brprinters.com/\n"
     ]
    },
    {
     "name": "stderr",
     "output_type": "stream",
     "text": [
      "2021-11-30 16:44:06 [scrapy.core.engine] DEBUG: Crawled (200) <GET https://www.kofax.com/products/ecopy> (referer: None)\n",
      "2021-11-30 16:44:06 [scrapy.core.engine] DEBUG: Crawled (200) <GET https://www.wired.com/> (referer: None)\n"
     ]
    },
    {
     "name": "stdout",
     "output_type": "stream",
     "text": [
      "site_url https://www.google.com/ site_url_close ['https://www.goex.com/', 'https://www.gogsg.com/', 'https://www.goodsalt.com/']\n",
      "site_url_close[0] https://www.goex.com/\n",
      "ii 1037 self.companies[ii] GOEX\n",
      "out1 true iout1 713 url https://www.google.com/\n",
      "companies[0] ID Label this url https://www.google.com/\n"
     ]
    },
    {
     "name": "stderr",
     "output_type": "stream",
     "text": [
      "2021-11-30 16:44:07 [scrapy.downloadermiddlewares.redirect] DEBUG: Redirecting (301) to <GET https://www.itwlabels.com/> from <GET http://itwlabels.com>\n",
      "2021-11-30 16:44:07 [scrapy.core.engine] DEBUG: Crawled (200) <GET https://www.directmailing.com/> (referer: None)\n"
     ]
    },
    {
     "name": "stdout",
     "output_type": "stream",
     "text": [
      "site_url https://www.kofax.com/products/ecopy site_url_close ['http://www.icmproducts.com', 'https://www.q2products.com/', 'https://www.labelproducts.com/']\n",
      "site_url_close[0] http://www.icmproducts.com\n",
      "ii 1193 self.companies[ii] ICM Products\n",
      "out1 true iout1 714 url https://www.kofax.com/products/ecopy\n",
      "companies[0] Express Color this url https://www.kofax.com/products/ecopy\n"
     ]
    },
    {
     "name": "stderr",
     "output_type": "stream",
     "text": [
      "2021-11-30 16:44:07 [scrapy.core.engine] DEBUG: Crawled (200) <GET https://mcspro.com> (referer: None)\n",
      "2021-11-30 16:44:07 [scrapy.downloadermiddlewares.redirect] DEBUG: Redirecting (301) to <GET https://www.cati.com/?r=funtech> from <GET http://www.fisherunitech.com/>\n",
      "2021-11-30 16:44:07 [scrapy.core.engine] DEBUG: Crawled (200) <GET https://meetingsigns.com/> (referer: None)\n"
     ]
    },
    {
     "name": "stdout",
     "output_type": "stream",
     "text": [
      "site_url https://www.wired.com/ site_url_close ['https://www.rrd.com/', 'https://www.ewizer.com/', 'https://www3.ids.com/']\n",
      "site_url_close[0] https://www.rrd.com/\n",
      "ii 3090 self.companies[ii] RR Donnelley & Sons\n",
      "out1 true iout1 715 url https://www.wired.com/\n",
      "companies[0] Incolor this url https://www.wired.com/\n",
      "site_url https://www.directmailing.com/ site_url_close ['https://www.directmailing.com/', 'https://www.mailing.com/', 'https://www.dmmailing.com']\n",
      "site_url_close[0] https://www.directmailing.com/\n",
      "ii 893 self.companies[ii] Direct Marketing Solutions\n",
      "out1 true iout1 716 url https://www.directmailing.com/\n",
      "companies[0] On-Line Publishers this url https://www.directmailing.com/\n",
      "site_url https://mcspro.com site_url_close ['https://mcspro.com', 'https://mecsoft.com/', 'https://macrodo.com/']\n",
      "site_url_close[0] https://mcspro.com\n",
      "ii 895 self.companies[ii] MCS\n",
      "out1 true iout1 717 url https://mcspro.com\n",
      "companies[0] Big Systems this url https://mcspro.com\n"
     ]
    },
    {
     "name": "stderr",
     "output_type": "stream",
     "text": [
      "2021-11-30 16:44:09 [scrapy.core.engine] DEBUG: Crawled (200) <GET https://www.chax.com/> (referer: None)\n",
      "2021-11-30 16:44:09 [scrapy.downloadermiddlewares.redirect] DEBUG: Redirecting (301) to <GET https://3dimensional.com/> from <GET http://3dimensional.com>\n"
     ]
    },
    {
     "name": "stdout",
     "output_type": "stream",
     "text": [
      "site_url https://meetingsigns.com/ site_url_close ['http://meetingsigns.com', 'https://www.keensigns.com/', 'https://martinsignco.com']\n",
      "site_url_close[0] http://meetingsigns.com\n",
      "ii 883 self.companies[ii] Madison Avenue Incorporated\n",
      "out1 true iout1 718 url https://meetingsigns.com/\n",
      "companies[0] Bard Press this url https://meetingsigns.com/\n"
     ]
    },
    {
     "name": "stderr",
     "output_type": "stream",
     "text": [
      "2021-11-30 16:44:10 [scrapy.downloadermiddlewares.redirect] DEBUG: Redirecting (301) to <GET https://inxinternational.com/triangle> from <GET http://inxdigital.com>\n",
      "2021-11-30 16:44:10 [scrapy.downloadermiddlewares.redirect] DEBUG: Redirecting (302) to <GET https://www.hugedomains.com/domain_profile.cfm?d=datserv&e=com> from <GET http://datserv.com>\n"
     ]
    },
    {
     "name": "stdout",
     "output_type": "stream",
     "text": [
      "site_url https://www.chax.com/ site_url_close ['https://www.chax.com/', 'https://www.ccga.com/', 'https://www.hazen.com/']\n",
      "site_url_close[0] https://www.chax.com/\n",
      "ii 898 self.companies[ii] Chax\n",
      "out1 true iout1 719 url https://www.chax.com/\n",
      "companies[0] Rapid Pro Manufacturing this url https://www.chax.com/\n"
     ]
    },
    {
     "name": "stderr",
     "output_type": "stream",
     "text": [
      "2021-11-30 16:44:10 [scrapy.core.engine] DEBUG: Crawled (200) <GET https://fusionpro.com/> (referer: None)\n",
      "2021-11-30 16:44:11 [scrapy.core.engine] DEBUG: Crawled (200) <GET https://www.theswensongroup.com/> (referer: None)\n"
     ]
    },
    {
     "name": "stdout",
     "output_type": "stream",
     "text": [
      "site_url https://fusionpro.com/ site_url_close ['https://snco.com/', 'https://goproto.com/', 'https://mcspro.com']\n",
      "site_url_close[0] https://snco.com/\n",
      "ii 2708 self.companies[ii] Scientific Notebook Company\n",
      "out1 true iout1 720 url https://fusionpro.com/\n",
      "companies[0] Colorbyte Software this url https://fusionpro.com/\n"
     ]
    },
    {
     "name": "stderr",
     "output_type": "stream",
     "text": [
      "2021-11-30 16:44:12 [scrapy.downloadermiddlewares.redirect] DEBUG: Redirecting (301) to <GET https://www.compumailinc.com/> from <GET https://compumailinc.com>\n",
      "2021-11-30 16:44:12 [scrapy.core.engine] DEBUG: Crawled (200) <GET http://qpsiusa.com> (referer: None)\n"
     ]
    },
    {
     "name": "stdout",
     "output_type": "stream",
     "text": [
      "site_url https://www.theswensongroup.com/ site_url_close ['https://www.theswensongroup.com/', 'https://www.thenuvogroup.com', 'https://www.thesourcinggroup.com/']\n",
      "site_url_close[0] https://www.theswensongroup.com/\n",
      "ii 897 self.companies[ii] The Swenson Group\n",
      "out1 true iout1 721 url https://www.theswensongroup.com/\n",
      "companies[0] Logo Wear Company this url https://www.theswensongroup.com/\n",
      "site_url http://qpsiusa.com site_url_close ['http://qpsiusa.com', 'http://psusainc.com/', 'http://dds-usa.com']\n",
      "site_url_close[0] http://qpsiusa.com\n",
      "ii 903 self.companies[ii] QPSI\n",
      "out1 true iout1 722 url http://qpsiusa.com\n",
      "companies[0] Nova Custom Label Printing this url http://qpsiusa.com\n"
     ]
    },
    {
     "name": "stderr",
     "output_type": "stream",
     "text": [
      "2021-11-30 16:44:13 [scrapy.core.engine] DEBUG: Crawled (200) <GET https://www.mcr-inc.com/> (referer: None)\n",
      "2021-11-30 16:44:13 [scrapy.core.engine] DEBUG: Crawled (200) <GET https://www.cowboysindians.com/> (referer: None)\n",
      "2021-11-30 16:44:13 [scrapy.core.engine] DEBUG: Crawled (200) <GET https://www.bigrhino.com/> (referer: None)\n"
     ]
    },
    {
     "name": "stdout",
     "output_type": "stream",
     "text": [
      "site_url https://www.mcr-inc.com/ site_url_close ['https://www.mcr-inc.com/', 'https://www.amacker-inc.com', 'https://www.coda-inc.com/']\n",
      "site_url_close[0] https://www.mcr-inc.com/\n",
      "ii 905 self.companies[ii] MCR\n",
      "out1 true iout1 723 url https://www.mcr-inc.com/\n",
      "companies[0] Works Design Group this url https://www.mcr-inc.com/\n",
      "site_url https://www.cowboysindians.com/ site_url_close ['http://www.cowboysindians.com', 'https://www.cosomedia.com/', 'https://www.lbsbind.com/']\n",
      "site_url_close[0] http://www.cowboysindians.com\n",
      "ii 890 self.companies[ii] Cowboys & Indians\n",
      "out1 true iout1 724 url https://www.cowboysindians.com/\n",
      "companies[0] Impressions In Print this url https://www.cowboysindians.com/\n"
     ]
    },
    {
     "name": "stderr",
     "output_type": "stream",
     "text": [
      "2021-11-30 16:44:14 [scrapy.core.scraper] DEBUG: Scraped from <200 https://www.bigrhino.com/>\n",
      "{'Organization': 'Big Rhino',\n",
      " 'fulltext': 'nan',\n",
      " 'searchterm': 'screen printing',\n",
      " 'url': 'https://www.bigrhino.com/'}\n",
      "2021-11-30 16:44:14 [scrapy.core.engine] DEBUG: Crawled (200) <GET http://www.printmgt.com/> (referer: None)\n",
      "2021-11-30 16:44:15 [scrapy.core.engine] DEBUG: Crawled (200) <GET https://www.americanspiritcorp.com/> (referer: None)\n"
     ]
    },
    {
     "name": "stdout",
     "output_type": "stream",
     "text": [
      "site_url https://www.bigrhino.com/ site_url_close ['https://www.bigrhino.com/', 'https://www.b2sign.com/', 'https://www.tginc.com/']\n",
      "site_url_close[0] https://www.bigrhino.com/\n",
      "ii 904 self.companies[ii] Big Rhino\n",
      "yielding item screen printing\n",
      "out1 true iout1 725 url https://www.bigrhino.com/\n",
      "companies[0] Shree Ji Printing this url https://www.bigrhino.com/\n"
     ]
    },
    {
     "name": "stderr",
     "output_type": "stream",
     "text": [
      "2021-11-30 16:44:15 [scrapy.core.engine] DEBUG: Crawled (200) <GET https://www.cigaraficionado.com/> (referer: None)\n"
     ]
    },
    {
     "name": "stdout",
     "output_type": "stream",
     "text": [
      "site_url http://www.printmgt.com/ site_url_close ['http://www.printmgt.com/', 'http://www.printkg.com/', 'http://www.printegra.com/']\n",
      "site_url_close[0] http://www.printmgt.com/\n",
      "ii 907 self.companies[ii] Printing Management Associates\n",
      "out1 false iout2 91 url http://www.printmgt.com/\n",
      "companies[0] Doc-it XPress this url http://www.printmgt.com/\n",
      "site_url https://www.americanspiritcorp.com/ site_url_close ['http://americanspiritcorp.com', 'https://www.americanprintingco.com/', 'https://www.americasprinter.com']\n",
      "site_url_close[0] http://americanspiritcorp.com\n",
      "ii 884 self.companies[ii] American Spirit Corporation\n",
      "out1 false iout2 92 url https://www.americanspiritcorp.com/\n",
      "companies[0] Boone Graphics this url https://www.americanspiritcorp.com/\n"
     ]
    },
    {
     "name": "stderr",
     "output_type": "stream",
     "text": [
      "2021-11-30 16:44:16 [scrapy.core.engine] DEBUG: Crawled (200) <GET https://www.designerchecks.com/> (referer: None)\n",
      "2021-11-30 16:44:16 [scrapy.core.engine] DEBUG: Crawled (200) <GET http://uspsports.com/> (referer: None)\n",
      "2021-11-30 16:44:16 [scrapy.core.engine] DEBUG: Crawled (200) <GET https://www.cryotech.com/> (referer: None)\n",
      "2021-11-30 16:44:16 [scrapy.extensions.logstats] INFO: Crawled 855 pages (at 86 pages/min), scraped 73 items (at 4 items/min)\n"
     ]
    },
    {
     "name": "stdout",
     "output_type": "stream",
     "text": [
      "site_url https://www.cigaraficionado.com/ site_url_close ['https://www.cigaraficionado.com/', 'https://www.grafico.com', 'https://www.graphicinfo.com']\n",
      "site_url_close[0] https://www.cigaraficionado.com/\n",
      "ii 906 self.companies[ii] Cigar Aficionado\n",
      "out1 true iout1 726 url https://www.cigaraficionado.com/\n",
      "companies[0] Great Lakes Label this url https://www.cigaraficionado.com/\n"
     ]
    },
    {
     "name": "stderr",
     "output_type": "stream",
     "text": [
      "2021-11-30 16:44:17 [scrapy.core.engine] DEBUG: Crawled (200) <GET https://www.medianewsgroup.com/> (referer: None)\n",
      "2021-11-30 16:44:17 [scrapy.downloadermiddlewares.retry] DEBUG: Retrying <GET https://www.suncrafttechnologies.com/> (failed 2 times): DNS lookup failed: no results for hostname lookup: www.suncrafttechnologies.com.\n"
     ]
    },
    {
     "name": "stdout",
     "output_type": "stream",
     "text": [
      "site_url https://www.designerchecks.com/ site_url_close ['https://www.designerchecks.com/', 'https://www.safechecks.com/', 'https://www.designlaunchers.com/']\n",
      "site_url_close[0] https://www.designerchecks.com/\n",
      "ii 908 self.companies[ii] Designer Checks\n",
      "out1 true iout1 727 url https://www.designerchecks.com/\n",
      "companies[0] Integriprint this url https://www.designerchecks.com/\n",
      "site_url http://uspsports.com/ site_url_close ['http://uspsports.com/', 'http://printsf.com/', 'http://spep.com']\n",
      "site_url_close[0] http://uspsports.com/\n",
      "ii 910 self.companies[ii] University Sports Publications\n",
      "out1 false iout2 93 url http://uspsports.com/\n",
      "companies[0] American Systems this url http://uspsports.com/\n"
     ]
    },
    {
     "name": "stderr",
     "output_type": "stream",
     "text": [
      "2021-11-30 16:44:18 [scrapy.core.engine] DEBUG: Crawled (404) <GET http://www.printsouth.com/> (referer: None)\n",
      "2021-11-30 16:44:18 [scrapy.core.engine] DEBUG: Crawled (200) <GET https://www.hugedomains.com/domain_profile.cfm?d=datserv&e=com> (referer: None)\n"
     ]
    },
    {
     "name": "stdout",
     "output_type": "stream",
     "text": [
      "site_url https://www.cryotech.com/ site_url_close ['https://www.drgtech.com/', 'https://www.convertech.com/', 'https://www.rnd-tech.com/']\n",
      "site_url_close[0] https://www.drgtech.com/\n",
      "ii 1855 self.companies[ii] DRG Technologies\n",
      "out1 true iout1 728 url https://www.cryotech.com/\n",
      "companies[0] thumbprint this url https://www.cryotech.com/\n"
     ]
    },
    {
     "name": "stderr",
     "output_type": "stream",
     "text": [
      "2021-11-30 16:44:18 [scrapy.spidermiddlewares.httperror] INFO: Ignoring response <404 http://www.printsouth.com/>: HTTP status code is not handled or not allowed\n"
     ]
    },
    {
     "name": "stdout",
     "output_type": "stream",
     "text": [
      "site_url https://www.medianewsgroup.com/ site_url_close ['https://www.mediagrump.com/', 'https://www.bscmediagroup.com/', 'http://www.ntmediagroup.com/']\n",
      "site_url_close[0] https://www.mediagrump.com/\n",
      "ii 4261 self.companies[ii] Media Grump\n",
      "out1 false iout2 94 url https://www.medianewsgroup.com/\n",
      "companies[0] Ultimax this url https://www.medianewsgroup.com/\n"
     ]
    },
    {
     "name": "stderr",
     "output_type": "stream",
     "text": [
      "2021-11-30 16:44:19 [scrapy.core.engine] DEBUG: Crawled (200) <GET https://www.xchangeus.com/> (referer: None)\n",
      "2021-11-30 16:44:19 [scrapy.core.engine] DEBUG: Crawled (200) <GET https://www.itwlabels.com/> (referer: None)\n",
      "2021-11-30 16:44:19 [scrapy.downloadermiddlewares.redirect] DEBUG: Redirecting (301) to <GET https://inxinternational.com/triangle/> from <GET https://inxinternational.com/triangle>\n"
     ]
    },
    {
     "name": "stdout",
     "output_type": "stream",
     "text": [
      "site_url https://www.hugedomains.com/domain_profile.cfm?d=datserv&e=com site_url_close ['http://www.houstonembroideryservice.com', 'http://www.mebotics.com/microfactory.html', 'https://www.zebra.com/ap/en.html']\n",
      "site_url_close[0] http://www.houstonembroideryservice.com\n",
      "ii 2978 self.companies[ii] Houston Embroidery Service\n",
      "out1 true iout1 729 url https://www.hugedomains.com/domain_profile.cfm?d=datserv&e=com\n",
      "companies[0] EZ Hi Tech International this url https://www.hugedomains.com/domain_profile.cfm?d=datserv&e=com\n"
     ]
    },
    {
     "name": "stderr",
     "output_type": "stream",
     "text": [
      "2021-11-30 16:44:19 [scrapy.core.engine] DEBUG: Crawled (200) <GET https://3dimensional.com/> (referer: None)\n",
      "2021-11-30 16:44:19 [scrapy.core.engine] DEBUG: Crawled (200) <GET https://customteesnow.com/> (referer: None)\n",
      "2021-11-30 16:44:19 [scrapy.core.engine] DEBUG: Crawled (200) <GET https://www.cds.com/> (referer: None)\n",
      "2021-11-30 16:44:19 [scrapy.core.engine] DEBUG: Crawled (200) <GET https://www.corwindesign.com/> (referer: None)\n"
     ]
    },
    {
     "name": "stdout",
     "output_type": "stream",
     "text": [
      "site_url https://www.xchangeus.com/ site_url_close ['https://www.xchangeus.com/', 'https://www.cranel.com/', 'https://www.nebs.com/']\n",
      "site_url_close[0] https://www.xchangeus.com/\n",
      "ii 912 self.companies[ii] XChange\n",
      "out1 true iout1 730 url https://www.xchangeus.com/\n",
      "companies[0] Peak Performance Imaging Solutions this url https://www.xchangeus.com/\n",
      "site_url https://www.itwlabels.com/ site_url_close ['https://www.grlabel.com/', 'http://itwlabels.com', 'https://www.labelswest.com/']\n",
      "site_url_close[0] https://www.grlabel.com/\n",
      "ii 3219 self.companies[ii] Grand Rapids Label\n",
      "out1 true iout1 731 url https://www.itwlabels.com/\n",
      "companies[0] Document Technologies this url https://www.itwlabels.com/\n",
      "site_url https://3dimensional.com/ site_url_close ['http://3dimensional.com', 'https://dimensionalgroup.com/', 'https://hdesign.com/']\n",
      "site_url_close[0] http://3dimensional.com\n",
      "ii 899 self.companies[ii] 3-Dimensional Services Group\n",
      "out1 true iout1 732 url https://3dimensional.com/\n",
      "companies[0] Image 420 this url https://3dimensional.com/\n"
     ]
    },
    {
     "name": "stderr",
     "output_type": "stream",
     "text": [
      "2021-11-30 16:44:21 [scrapy.core.engine] DEBUG: Crawled (200) <GET https://www.primeadvertising.com/> (referer: None)\n",
      "2021-11-30 16:44:21 [scrapy.core.engine] DEBUG: Crawled (200) <GET https://stickerguy.com/> (referer: None)\n"
     ]
    },
    {
     "name": "stdout",
     "output_type": "stream",
     "text": [
      "site_url https://customteesnow.com/ site_url_close ['https://customteesnow.com/', 'https://customtel.com/', 'https://customerscanvas.com/']\n",
      "site_url_close[0] https://customteesnow.com/\n",
      "ii 913 self.companies[ii] Custom Tees Now\n",
      "out1 true iout1 733 url https://customteesnow.com/\n",
      "companies[0] PrintFlex Graphics this url https://customteesnow.com/\n",
      "site_url https://www.cds.com/ site_url_close ['https://www.cds.com/', 'https://www3.ids.com/', 'https://www.idsnm.com/']\n",
      "site_url_close[0] https://www.cds.com/\n",
      "ii 917 self.companies[ii] CD Solutions\n",
      "out1 true iout1 734 url https://www.cds.com/\n",
      "companies[0] Image Net this url https://www.cds.com/\n"
     ]
    },
    {
     "name": "stderr",
     "output_type": "stream",
     "text": [
      "2021-11-30 16:44:21 [scrapy.core.scraper] DEBUG: Scraped from <200 https://www.corwindesign.com/>\n",
      "{'Organization': 'Corwin Design & Graphics',\n",
      " 'fulltext': 'nan',\n",
      " 'searchterm': 'inkjet',\n",
      " 'url': 'https://www.corwindesign.com/'}\n",
      "2021-11-30 16:44:21 [scrapy.core.engine] DEBUG: Crawled (200) <GET https://www.cati.com/?r=funtech> (referer: None)\n",
      "2021-11-30 16:44:21 [scrapy.downloadermiddlewares.redirect] DEBUG: Redirecting (301) to <GET https://www.fluorotherm.com/> from <GET http://www.fluorotherm.com>\n",
      "2021-11-30 16:44:21 [scrapy.downloadermiddlewares.redirect] DEBUG: Redirecting (301) to <GET https://www.qualitysupport.biz/index.html> from <GET http://www.qualitysupport.biz/index.html>\n"
     ]
    },
    {
     "name": "stdout",
     "output_type": "stream",
     "text": [
      "site_url https://www.corwindesign.com/ site_url_close ['https://www.corwindesign.com/', 'https://www.trendesign.com/', 'https://www.deesign.com/']\n",
      "site_url_close[0] https://www.corwindesign.com/\n",
      "ii 915 self.companies[ii] Corwin Design & Graphics\n",
      "yielding item inkjet\n",
      "out1 true iout1 735 url https://www.corwindesign.com/\n",
      "companies[0] Loumarc Signs this url https://www.corwindesign.com/\n",
      "site_url https://www.primeadvertising.com/ site_url_close ['http://www.primeadvertising.com', 'https://www.mprintadvertising.com/', 'https://www.bigtimeadvertising.com/']\n",
      "site_url_close[0] http://www.primeadvertising.com\n",
      "ii 892 self.companies[ii] Prime Advertising & Design\n",
      "out1 true iout1 736 url https://www.primeadvertising.com/\n",
      "companies[0] Farnham Associates Marketing Solutions this url https://www.primeadvertising.com/\n"
     ]
    },
    {
     "name": "stderr",
     "output_type": "stream",
     "text": [
      "2021-11-30 16:44:22 [scrapy.core.engine] DEBUG: Crawled (200) <GET https://www.padprint.com/> (referer: None)\n",
      "2021-11-30 16:44:22 [scrapy.core.engine] DEBUG: Crawled (200) <GET https://abidigitalsolutions.com/> (referer: None)\n"
     ]
    },
    {
     "name": "stdout",
     "output_type": "stream",
     "text": [
      "site_url https://stickerguy.com/ site_url_close ['https://stickerguy.com/', 'https://stickerjunkie.com/', 'https://stickerobot.com/']\n",
      "site_url_close[0] https://stickerguy.com/\n",
      "ii 916 self.companies[ii] Sticker Guy\n",
      "out1 true iout1 737 url https://stickerguy.com/\n",
      "companies[0] TRINITY Promotional this url https://stickerguy.com/\n"
     ]
    },
    {
     "name": "stderr",
     "output_type": "stream",
     "text": [
      "2021-11-30 16:44:23 [scrapy.core.engine] DEBUG: Crawled (200) <GET https://www.greenfieldpaper.com/> (referer: None)\n"
     ]
    },
    {
     "name": "stdout",
     "output_type": "stream",
     "text": [
      "site_url https://www.cati.com/?r=funtech site_url_close ['https://www.fictiv.com/', 'https://www.carrotink.com/', 'https://www.lcni.com/']\n",
      "site_url_close[0] https://www.fictiv.com/\n",
      "ii 3524 self.companies[ii] Fictiv\n",
      "out1 true iout1 738 url https://www.cati.com/?r=funtech\n",
      "companies[0] Ace Electrical Contractors this url https://www.cati.com/?r=funtech\n",
      "site_url https://www.padprint.com/ site_url_close ['https://www.padprint.com/', 'https://www.psprint.com/', 'https://www.adiprint.com']\n",
      "site_url_close[0] https://www.padprint.com/\n",
      "ii 920 self.companies[ii] TouchMark\n",
      "out1 true iout1 739 url https://www.padprint.com/\n",
      "companies[0] MacGraf this url https://www.padprint.com/\n"
     ]
    },
    {
     "name": "stderr",
     "output_type": "stream",
     "text": [
      "2021-11-30 16:44:24 [scrapy.downloadermiddlewares.redirect] DEBUG: Redirecting (301) to <GET https://www.cdsprint.com/> from <GET http://www.cdsprint.com>\n"
     ]
    },
    {
     "name": "stdout",
     "output_type": "stream",
     "text": [
      "site_url https://abidigitalsolutions.com/ site_url_close ['https://abidigitalsolutions.com/', 'https://agmsolutions.com', 'http://www.digitalartsolutions.com']\n",
      "site_url_close[0] https://abidigitalsolutions.com/\n",
      "ii 909 self.companies[ii] ABI Digital Solutions\n",
      "out1 true iout1 740 url https://abidigitalsolutions.com/\n",
      "companies[0] Breene Graphics Printing this url https://abidigitalsolutions.com/\n"
     ]
    },
    {
     "name": "stderr",
     "output_type": "stream",
     "text": [
      "2021-11-30 16:44:25 [scrapy.core.engine] DEBUG: Crawled (200) <GET https://www.binderyonics.com> (referer: None)\n",
      "2021-11-30 16:44:25 [scrapy.core.engine] DEBUG: Crawled (200) <GET http://www.gazetteprinters.com> (referer: None)\n",
      "2021-11-30 16:44:25 [scrapy.core.engine] DEBUG: Crawled (200) <GET https://www.amsolutionswi.com/> (referer: None)\n",
      "2021-11-30 16:44:25 [scrapy.core.engine] DEBUG: Crawled (200) <GET https://scantechgraphics.com/> (referer: None)\n",
      "2021-11-30 16:44:25 [scrapy.core.engine] DEBUG: Crawled (200) <GET https://premiumcolor.com/> (referer: None)\n"
     ]
    },
    {
     "name": "stdout",
     "output_type": "stream",
     "text": [
      "site_url https://www.greenfieldpaper.com/ site_url_close ['https://www.greenfieldpaper.com/', 'https://www.freedompaper.com', 'http://www.frenchpaper.com/']\n",
      "site_url_close[0] https://www.greenfieldpaper.com/\n",
      "ii 921 self.companies[ii] Green Field Paper\n",
      "out1 true iout1 741 url https://www.greenfieldpaper.com/\n",
      "companies[0] Stereolithography this url https://www.greenfieldpaper.com/\n"
     ]
    },
    {
     "name": "stderr",
     "output_type": "stream",
     "text": [
      "2021-11-30 16:44:25 [scrapy.downloadermiddlewares.redirect] DEBUG: Redirecting (301) to <GET https://iascorp.net/> from <GET http://iascorp.net>\n"
     ]
    },
    {
     "name": "stdout",
     "output_type": "stream",
     "text": [
      "site_url https://www.binderyonics.com site_url_close ['https://www.binderyonics.com', 'https://www.bnbindery.com', 'https://www.ikonics.com/']\n",
      "site_url_close[0] https://www.binderyonics.com\n",
      "ii 922 self.companies[ii] BINDERYONICS\n",
      "out1 true iout1 742 url https://www.binderyonics.com\n",
      "companies[0] Isosceles Design this url https://www.binderyonics.com\n",
      "site_url http://www.gazetteprinters.com site_url_close ['http://www.gazetteprinters.com', 'https://www.wetheprinters.com/', 'https://www.fastprinters.com/']\n",
      "site_url_close[0] http://www.gazetteprinters.com\n",
      "ii 926 self.companies[ii] Gazette Printers\n",
      "out1 false iout2 95 url http://www.gazetteprinters.com\n",
      "companies[0] Lippmann Printing this url http://www.gazetteprinters.com\n",
      "site_url https://www.amsolutionswi.com/ site_url_close ['https://www.amsolutionswi.com/', 'https://www.mm4solutions.com/', 'https://www.tryadsolutions.com/']\n",
      "site_url_close[0] https://www.amsolutionswi.com/\n",
      "ii 925 self.companies[ii] AM Solutions\n",
      "out1 true iout1 743 url https://www.amsolutionswi.com/\n",
      "companies[0] Jak this url https://www.amsolutionswi.com/\n",
      "site_url https://scantechgraphics.com/ site_url_close ['https://scantechgraphics.com/', 'https://atigraphics.com/', 'https://countygraphics.com/']\n",
      "site_url_close[0] https://scantechgraphics.com/\n",
      "ii 924 self.companies[ii] Scantech Graphics\n",
      "out1 true iout1 744 url https://scantechgraphics.com/\n",
      "companies[0] Chicago Advertising & Marketing this url https://scantechgraphics.com/\n"
     ]
    },
    {
     "name": "stderr",
     "output_type": "stream",
     "text": [
      "2021-11-30 16:44:27 [scrapy.core.engine] DEBUG: Crawled (200) <GET https://www.compumailinc.com/> (referer: None)\n",
      "2021-11-30 16:44:27 [scrapy.downloadermiddlewares.retry] DEBUG: Retrying <GET https://www.formfast.com> (failed 2 times): TCP connection timed out: 10060: A connection attempt failed because the connected party did not properly respond after a period of time, or established connection failed because connected host has failed to respond..\n"
     ]
    },
    {
     "name": "stdout",
     "output_type": "stream",
     "text": [
      "site_url https://premiumcolor.com/ site_url_close ['https://premiumcolor.com/', 'https://expresscolor.com/', 'http://rgucolor.com']\n",
      "site_url_close[0] https://premiumcolor.com/\n",
      "ii 914 self.companies[ii] Premium Color Group\n",
      "out1 true iout1 745 url https://premiumcolor.com/\n",
      "companies[0] Clone Digital Print and Copy this url https://premiumcolor.com/\n"
     ]
    },
    {
     "name": "stderr",
     "output_type": "stream",
     "text": [
      "2021-11-30 16:44:27 [scrapy.core.engine] DEBUG: Crawled (200) <GET http://www.acmproductions.net> (referer: None)\n",
      "2021-11-30 16:44:27 [scrapy.core.engine] DEBUG: Crawled (520) <GET https://sqone.net> (referer: None)\n",
      "2021-11-30 16:44:28 [scrapy.downloadermiddlewares.retry] ERROR: Gave up retrying <GET https://www.suncrafttechnologies.com/> (failed 3 times): DNS lookup failed: no results for hostname lookup: www.suncrafttechnologies.com.\n"
     ]
    },
    {
     "name": "stdout",
     "output_type": "stream",
     "text": [
      "site_url https://www.compumailinc.com/ site_url_close ['https://compumailinc.com', 'https://www.mailing.com/', 'https://www.dmmailing.com']\n",
      "site_url_close[0] https://compumailinc.com\n",
      "ii 901 self.companies[ii] CompuMail\n",
      "out1 true iout1 746 url https://www.compumailinc.com/\n",
      "companies[0] Master's Touch Designs this url https://www.compumailinc.com/\n"
     ]
    },
    {
     "name": "stderr",
     "output_type": "stream",
     "text": [
      "2021-11-30 16:44:28 [scrapy.core.engine] DEBUG: Crawled (200) <GET https://usbus.com> (referer: None)\n",
      "2021-11-30 16:44:28 [scrapy.spidermiddlewares.httperror] INFO: Ignoring response <520 https://sqone.net>: HTTP status code is not handled or not allowed\n",
      "2021-11-30 16:44:28 [scrapy.core.scraper] ERROR: Error downloading <GET https://www.suncrafttechnologies.com/>\n",
      "Traceback (most recent call last):\n",
      "  File \"C:\\Users\\MStopa\\AppData\\Local\\Continuum\\anaconda3\\envs\\webscrape\\lib\\site-packages\\twisted\\internet\\defer.py\", line 1416, in _inlineCallbacks\n",
      "    result = result.throwExceptionIntoGenerator(g)\n",
      "  File \"C:\\Users\\MStopa\\AppData\\Local\\Continuum\\anaconda3\\envs\\webscrape\\lib\\site-packages\\twisted\\python\\failure.py\", line 512, in throwExceptionIntoGenerator\n",
      "    return g.throw(self.type, self.value, self.tb)\n",
      "  File \"C:\\Users\\MStopa\\AppData\\Local\\Continuum\\anaconda3\\envs\\webscrape\\lib\\site-packages\\scrapy\\core\\downloader\\middleware.py\", line 44, in process_request\n",
      "    return (yield download_func(request=request, spider=spider))\n",
      "  File \"C:\\Users\\MStopa\\AppData\\Local\\Continuum\\anaconda3\\envs\\webscrape\\lib\\site-packages\\twisted\\internet\\defer.py\", line 654, in _runCallbacks\n",
      "    current.result = callback(current.result, *args, **kw)\n",
      "  File \"C:\\Users\\MStopa\\AppData\\Local\\Continuum\\anaconda3\\envs\\webscrape\\lib\\site-packages\\twisted\\internet\\endpoints.py\", line 982, in startConnectionAttempts\n",
      "    \"no results for hostname lookup: {}\".format(self._hostStr)\n",
      "twisted.internet.error.DNSLookupError: DNS lookup failed: no results for hostname lookup: www.suncrafttechnologies.com.\n"
     ]
    },
    {
     "name": "stdout",
     "output_type": "stream",
     "text": [
      "site_url http://www.acmproductions.net site_url_close ['http://www.acmproductions.net', 'https://www.lawpublications.net', 'http://www.icmproducts.com']\n",
      "site_url_close[0] http://www.acmproductions.net\n",
      "ii 931 self.companies[ii] ACM Productions\n",
      "out1 true iout1 747 url http://www.acmproductions.net\n",
      "companies[0] Team Nisca this url http://www.acmproductions.net\n"
     ]
    },
    {
     "name": "stderr",
     "output_type": "stream",
     "text": [
      "2021-11-30 16:44:29 [scrapy.core.engine] DEBUG: Crawled (200) <GET https://focuscss.com> (referer: None)\n",
      "2021-11-30 16:44:29 [scrapy.downloadermiddlewares.redirect] DEBUG: Redirecting (301) to <GET http://prototypingtech.com> from <GET http://nuhill.com/>\n",
      "2021-11-30 16:44:29 [scrapy.downloadermiddlewares.redirect] DEBUG: Redirecting (301) to <GET https://www.greydon.com/> from <GET http://www.greydon.com>\n"
     ]
    },
    {
     "name": "stdout",
     "output_type": "stream",
     "text": [
      "site_url https://usbus.com site_url_close ['https://usbus.com', 'http://durstus.com', 'https://jlsms.com']\n",
      "site_url_close[0] https://usbus.com\n",
      "ii 930 self.companies[ii] U.S. Business Systems\n",
      "out1 true iout1 748 url https://usbus.com\n",
      "companies[0] Perfect Logo Promotions this url https://usbus.com\n"
     ]
    },
    {
     "name": "stderr",
     "output_type": "stream",
     "text": [
      "2021-11-30 16:44:29 [scrapy.downloadermiddlewares.redirect] DEBUG: Redirecting (301) to <GET https://www.qualitysupport.biz/> from <GET https://www.qualitysupport.biz/index.html>\n",
      "2021-11-30 16:44:29 [scrapy.downloadermiddlewares.retry] DEBUG: Retrying <GET https://eastondisplay.com/> (failed 1 times): [<twisted.python.failure.Failure twisted.internet.error.ConnectionLost: Connection to the other side was lost in a non-clean fashion: Connection lost.>]\n",
      "2021-11-30 16:44:29 [scrapy.core.engine] DEBUG: Crawled (200) <GET https://cracustom.com/> (referer: None)\n"
     ]
    },
    {
     "name": "stdout",
     "output_type": "stream",
     "text": [
      "site_url https://focuscss.com site_url_close ['https://focuscss.com', 'https://usbus.com', 'https://fastfocus.co']\n",
      "site_url_close[0] https://focuscss.com\n",
      "ii 935 self.companies[ii] Focus Custom Sourcing Solutions\n",
      "out1 true iout1 749 url https://focuscss.com\n",
      "companies[0] Image Computer this url https://focuscss.com\n"
     ]
    },
    {
     "name": "stderr",
     "output_type": "stream",
     "text": [
      "2021-11-30 16:44:29 [scrapy.core.engine] DEBUG: Crawled (200) <GET http://personaltouchmailing.com/> (referer: None)\n",
      "2021-11-30 16:44:30 [scrapy.downloadermiddlewares.redirect] DEBUG: Redirecting (301) to <GET https://www.impatto.com/> from <GET http://www.impatto.com>\n",
      "2021-11-30 16:44:30 [scrapy.core.engine] DEBUG: Crawled (200) <GET https://inxinternational.com/triangle/> (referer: None)\n",
      "2021-11-30 16:44:30 [scrapy.core.engine] DEBUG: Crawled (200) <GET https://www.imagingspectrum.com/> (referer: None)\n",
      "2021-11-30 16:44:30 [scrapy.core.engine] DEBUG: Crawled (200) <GET https://cgspremier.com> (referer: None)\n"
     ]
    },
    {
     "name": "stdout",
     "output_type": "stream",
     "text": [
      "site_url https://cracustom.com/ site_url_close ['https://cracustom.com/', 'https://customtel.com/', 'https://customlabel.com/']\n",
      "site_url_close[0] https://cracustom.com/\n",
      "ii 934 self.companies[ii] CR+A Custom\n",
      "out1 true iout1 750 url https://cracustom.com/\n",
      "companies[0] Shamoon this url https://cracustom.com/\n",
      "site_url http://personaltouchmailing.com/ site_url_close ['http://personaltouchmailing.com/', 'http://tecmailing.com', 'https://allstatesmailing.com/']\n",
      "site_url_close[0] http://personaltouchmailing.com/\n",
      "ii 927 self.companies[ii] Personal Touch Mailing Service\n",
      "out1 true iout1 751 url http://personaltouchmailing.com/\n",
      "companies[0] Yurs Group this url http://personaltouchmailing.com/\n"
     ]
    },
    {
     "name": "stderr",
     "output_type": "stream",
     "text": [
      "2021-11-30 16:44:31 [scrapy.core.scraper] DEBUG: Scraped from <200 https://inxinternational.com/triangle/>\r\n",
      "{'Organization': 'Trends International',\n",
      " 'fulltext': 'nan',\n",
      " 'searchterm': 'inkjet',\n",
      " 'url': 'https://inxinternational.com/triangle/'}\n"
     ]
    },
    {
     "name": "stdout",
     "output_type": "stream",
     "text": [
      "site_url https://inxinternational.com/triangle/ site_url_close ['https://www.trendsinternational.com/', 'http://www.okinternational.com/', 'http://www.gossinternational.com/']\n",
      "site_url_close[0] https://www.trendsinternational.com/\n",
      "ii 1408 self.companies[ii] Trends International\n",
      "yielding item inkjet\n",
      "site_url https://www.imagingspectrum.com/ site_url_close ['https://www.imagingspectrum.com/', 'https://www.imagingzone.com/', 'http://www.imaginepub.com/']\n",
      "site_url_close[0] https://www.imagingspectrum.com/\n",
      "ii 939 self.companies[ii] Imaging Spectrum\n",
      "out1 true iout1 752 url https://www.imagingspectrum.com/\n",
      "companies[0] Esche & Alexander this url https://www.imagingspectrum.com/\n"
     ]
    },
    {
     "name": "stderr",
     "output_type": "stream",
     "text": [
      "2021-11-30 16:44:32 [scrapy.downloadermiddlewares.redirect] DEBUG: Redirecting (301) to <GET https://www.pro-label.com/> from <GET http://www.pro-label.com/>\n",
      "2021-11-30 16:44:32 [scrapy.downloadermiddlewares.redirect] DEBUG: Redirecting (301) to <GET https://www.nemadesign.com/> from <GET http://www.nemadesign.com>\n",
      "2021-11-30 16:44:32 [scrapy.downloadermiddlewares.redirect] DEBUG: Redirecting (301) to <GET https://adgraphics.us/> from <GET http://adgraphics.us/>\n"
     ]
    },
    {
     "name": "stdout",
     "output_type": "stream",
     "text": [
      "site_url https://cgspremier.com site_url_close ['https://cgspremier.com', 'https://ceprinter.com', 'https://mcspro.com']\n",
      "site_url_close[0] https://cgspremier.com\n",
      "ii 932 self.companies[ii] CGS Premier\n",
      "out1 true iout1 753 url https://cgspremier.com\n",
      "companies[0] Copy N' More this url https://cgspremier.com\n",
      "out1 true iout1 754 url https://inxinternational.com/triangle/\n",
      "companies[0] ShellMedia this url https://inxinternational.com/triangle/\n"
     ]
    },
    {
     "name": "stderr",
     "output_type": "stream",
     "text": [
      "2021-11-30 16:44:33 [scrapy.core.engine] DEBUG: Crawled (200) <GET https://iascorp.net/> (referer: None)\n",
      "2021-11-30 16:44:33 [scrapy.core.engine] DEBUG: Crawled (200) <GET https://www.directresults.us/> (referer: None)\n"
     ]
    },
    {
     "name": "stdout",
     "output_type": "stream",
     "text": [
      "site_url https://iascorp.net/ site_url_close ['http://iascorp.net', 'https://www.akcopy.net/', 'https://nano-ops.net/']\n",
      "site_url_close[0] http://iascorp.net\n",
      "ii 928 self.companies[ii] IAS Corp.\n",
      "out1 true iout1 755 url https://iascorp.net/\n",
      "companies[0] Sand Scripts this url https://iascorp.net/\n"
     ]
    },
    {
     "name": "stderr",
     "output_type": "stream",
     "text": [
      "2021-11-30 16:44:34 [scrapy.downloadermiddlewares.redirect] DEBUG: Redirecting (301) to <GET https://pro-copy.com/> from <GET https://www.pro-copy.com>\n",
      "2021-11-30 16:44:34 [scrapy.core.engine] DEBUG: Crawled (200) <GET https://www.cdsprint.com/> (referer: None)\n"
     ]
    },
    {
     "name": "stdout",
     "output_type": "stream",
     "text": [
      "site_url https://www.directresults.us/ site_url_close ['https://www.directresults.us/', 'https://www.perfectlogo.us/', 'http://www.directsigns.com/']\n",
      "site_url_close[0] https://www.directresults.us/\n",
      "ii 933 self.companies[ii] DIRECT RESULTS\n",
      "out1 false iout2 96 url https://www.directresults.us/\n",
      "companies[0] PromoWorld this url https://www.directresults.us/\n"
     ]
    },
    {
     "name": "stderr",
     "output_type": "stream",
     "text": [
      "2021-11-30 16:44:34 [scrapy.core.engine] DEBUG: Crawled (200) <GET https://www.fluorotherm.com/> (referer: None)\n",
      "2021-11-30 16:44:35 [scrapy.downloadermiddlewares.redirect] DEBUG: Redirecting (301) to <GET https://www.questmark.net/> from <GET http://www.questmark.net>\n",
      "2021-11-30 16:44:35 [scrapy.core.engine] DEBUG: Crawled (200) <GET https://russellsignco.com/> (referer: None)\n",
      "2021-11-30 16:44:35 [scrapy.core.engine] DEBUG: Crawled (200) <GET http://modelvisioninc.com/> (referer: None)\n"
     ]
    },
    {
     "name": "stdout",
     "output_type": "stream",
     "text": [
      "site_url https://www.cdsprint.com/ site_url_close ['http://www.cdsprint.com', 'https://www.psprint.com/', 'https://www.sunprint.com/']\n",
      "site_url_close[0] http://www.cdsprint.com\n",
      "ii 923 self.companies[ii] Corporate Document Solutions\n",
      "out1 true iout1 756 url https://www.cdsprint.com/\n",
      "companies[0] North Park Studios this url https://www.cdsprint.com/\n"
     ]
    },
    {
     "name": "stderr",
     "output_type": "stream",
     "text": [
      "2021-11-30 16:44:35 [scrapy.core.engine] DEBUG: Crawled (200) <GET https://www.qualitysupport.biz/> (referer: None)\n"
     ]
    },
    {
     "name": "stdout",
     "output_type": "stream",
     "text": [
      "site_url https://www.fluorotherm.com/ site_url_close ['http://www.fluorotherm.com', 'http://www.fluorostore.com', 'https://www.othr.com']\n",
      "site_url_close[0] http://www.fluorotherm.com\n",
      "ii 919 self.companies[ii] Fluorotherm Polymers\n",
      "out1 true iout1 757 url https://www.fluorotherm.com/\n",
      "companies[0] Keplinger Designs this url https://www.fluorotherm.com/\n"
     ]
    },
    {
     "name": "stderr",
     "output_type": "stream",
     "text": [
      "2021-11-30 16:44:36 [scrapy.core.scraper] ERROR: Spider error processing <GET https://russellsignco.com/> (referer: None)\n",
      "Traceback (most recent call last):\n",
      "  File \"C:\\Users\\MStopa\\AppData\\Local\\Continuum\\anaconda3\\envs\\webscrape\\lib\\site-packages\\scrapy\\utils\\defer.py\", line 120, in iter_errback\n",
      "    yield next(it)\n",
      "  File \"C:\\Users\\MStopa\\AppData\\Local\\Continuum\\anaconda3\\envs\\webscrape\\lib\\site-packages\\scrapy\\utils\\python.py\", line 346, in __next__\n",
      "    return next(self.data)\n",
      "  File \"C:\\Users\\MStopa\\AppData\\Local\\Continuum\\anaconda3\\envs\\webscrape\\lib\\site-packages\\scrapy\\utils\\python.py\", line 346, in __next__\n",
      "    return next(self.data)\n",
      "  File \"C:\\Users\\MStopa\\AppData\\Local\\Continuum\\anaconda3\\envs\\webscrape\\lib\\site-packages\\scrapy\\core\\spidermw.py\", line 64, in _evaluate_iterable\n",
      "    for r in iterable:\n",
      "  File \"C:\\Users\\MStopa\\AppData\\Local\\Continuum\\anaconda3\\envs\\webscrape\\lib\\site-packages\\scrapy\\spidermiddlewares\\offsite.py\", line 29, in process_spider_output\n",
      "    for x in result:\n",
      "  File \"C:\\Users\\MStopa\\AppData\\Local\\Continuum\\anaconda3\\envs\\webscrape\\lib\\site-packages\\scrapy\\core\\spidermw.py\", line 64, in _evaluate_iterable\n",
      "    for r in iterable:\n",
      "  File \"C:\\Users\\MStopa\\AppData\\Local\\Continuum\\anaconda3\\envs\\webscrape\\lib\\site-packages\\scrapy\\spidermiddlewares\\referer.py\", line 340, in <genexpr>\n",
      "    return (_set_referer(r) for r in result or ())\n",
      "  File \"C:\\Users\\MStopa\\AppData\\Local\\Continuum\\anaconda3\\envs\\webscrape\\lib\\site-packages\\scrapy\\core\\spidermw.py\", line 64, in _evaluate_iterable\n",
      "    for r in iterable:\n",
      "  File \"C:\\Users\\MStopa\\AppData\\Local\\Continuum\\anaconda3\\envs\\webscrape\\lib\\site-packages\\scrapy\\spidermiddlewares\\urllength.py\", line 37, in <genexpr>\n",
      "    return (r for r in result or () if _filter(r))\n",
      "  File \"C:\\Users\\MStopa\\AppData\\Local\\Continuum\\anaconda3\\envs\\webscrape\\lib\\site-packages\\scrapy\\core\\spidermw.py\", line 64, in _evaluate_iterable\n",
      "    for r in iterable:\n",
      "  File \"C:\\Users\\MStopa\\AppData\\Local\\Continuum\\anaconda3\\envs\\webscrape\\lib\\site-packages\\scrapy\\spidermiddlewares\\depth.py\", line 58, in <genexpr>\n",
      "    return (r for r in result or () if _filter(r))\n",
      "  File \"C:\\Users\\MStopa\\AppData\\Local\\Continuum\\anaconda3\\envs\\webscrape\\lib\\site-packages\\scrapy\\core\\spidermw.py\", line 64, in _evaluate_iterable\n",
      "    for r in iterable:\n",
      "  File \"<ipython-input-9-10a30e00531c>\", line 132, in parse\n",
      "    file1.write(out2 + '\\n')\n",
      "  File \"C:\\Users\\MStopa\\AppData\\Local\\Continuum\\anaconda3\\envs\\webscrape\\lib\\encodings\\cp1252.py\", line 19, in encode\n",
      "    return codecs.charmap_encode(input,self.errors,encoding_table)[0]\n",
      "UnicodeEncodeError: 'charmap' codec can't encode character '\\u2032' in position 317: character maps to <undefined>\n"
     ]
    },
    {
     "name": "stdout",
     "output_type": "stream",
     "text": [
      "site_url https://russellsignco.com/ site_url_close ['https://russellsignco.com/', 'https://relyco.com/', 'https://regalline.com/']\n",
      "site_url_close[0] https://russellsignco.com/\n",
      "ii 946 self.companies[ii] Russell Sign Company\n",
      "out1 true iout1 758 url https://russellsignco.com/\n"
     ]
    },
    {
     "name": "stderr",
     "output_type": "stream",
     "text": [
      "2021-11-30 16:44:36 [scrapy.core.engine] DEBUG: Crawled (200) <GET http://laserconnection.com/> (referer: None)\n"
     ]
    },
    {
     "name": "stdout",
     "output_type": "stream",
     "text": [
      "site_url http://modelvisioninc.com/ site_url_close ['http://modelvisioninc.com/', 'http://envisiontec.com', 'http://design-ink.com/']\n",
      "site_url_close[0] http://modelvisioninc.com/\n",
      "ii 947 self.companies[ii] Modelvision\n",
      "out1 true iout1 759 url http://modelvisioninc.com/\n",
      "companies[0] Print Solution this url http://modelvisioninc.com/\n"
     ]
    },
    {
     "name": "stderr",
     "output_type": "stream",
     "text": [
      "2021-11-30 16:44:37 [scrapy.core.engine] DEBUG: Crawled (200) <GET https://www.actionplusideas.com/> (referer: None)\n"
     ]
    },
    {
     "name": "stdout",
     "output_type": "stream",
     "text": [
      "site_url https://www.qualitysupport.biz/ site_url_close ['http://www.qualitysupport.biz/index.html', 'https://www.qualityedgar.com/', 'https://www.circ.biz/']\n",
      "site_url_close[0] http://www.qualitysupport.biz/index.html\n",
      "ii 918 self.companies[ii] Quality Support\n",
      "out1 true iout1 760 url https://www.qualitysupport.biz/\n",
      "companies[0] Lamb Designs this url https://www.qualitysupport.biz/\n"
     ]
    },
    {
     "name": "stderr",
     "output_type": "stream",
     "text": [
      "2021-11-30 16:44:37 [scrapy.core.scraper] DEBUG: Scraped from <200 http://laserconnection.com/>\r\n",
      "{'Organization': 'Laser Connection',\n",
      " 'fulltext': 'Laser Connection is a printing and copying sales service supplies and distributor. They offer a wide selection of toner and ink supplies for printers, copiers, and fax machines. They carry original as well as new compatible and high-quality remanufactured products from hundreds of manufacturers.',\n",
      " 'searchterm': 'inkjet',\n",
      " 'url': 'http://laserconnection.com/'}\n"
     ]
    },
    {
     "name": "stdout",
     "output_type": "stream",
     "text": [
      "site_url http://laserconnection.com/ site_url_close ['http://laserconnection.com/', 'http://blackriverconnect.com/', 'http://www.bkconnection.com/']\n",
      "site_url_close[0] http://laserconnection.com/\n",
      "ii 948 self.companies[ii] Laser Connection\n",
      "yielding item inkjet\n",
      "out1 true iout1 761 url http://laserconnection.com/\n",
      "companies[0] Marketing Galore this url http://laserconnection.com/\n"
     ]
    },
    {
     "name": "stderr",
     "output_type": "stream",
     "text": [
      "2021-11-30 16:44:38 [scrapy.core.engine] DEBUG: Crawled (200) <GET https://thelincolnlibrary.com/> (referer: None)\n"
     ]
    },
    {
     "name": "stdout",
     "output_type": "stream",
     "text": [
      "site_url https://www.actionplusideas.com/ site_url_close ['https://www.actionplusideas.com/', 'https://www.actionletter.com/', 'https://www.actionsignsinc.com']\n",
      "site_url_close[0] https://www.actionplusideas.com/\n",
      "ii 949 self.companies[ii] Action Plus Ideas\n",
      "out1 true iout1 762 url https://www.actionplusideas.com/\n",
      "companies[0] The PLD Group this url https://www.actionplusideas.com/\n"
     ]
    },
    {
     "name": "stderr",
     "output_type": "stream",
     "text": [
      "2021-11-30 16:44:39 [scrapy.core.downloader.tls] WARNING: Remote certificate is not valid for hostname \"www.ataassociates.com\"; VerificationError(errors=[DNSMismatch(mismatched_id=DNS_ID(hostname=b'www.ataassociates.com'))])\n",
      "2021-11-30 16:44:39 [scrapy.downloadermiddlewares.redirect] DEBUG: Redirecting (301) to <GET https://www.graphixcontrolcorp.com/> from <GET http://graphixcontrolcorp.com>\n"
     ]
    },
    {
     "name": "stdout",
     "output_type": "stream",
     "text": [
      "site_url https://thelincolnlibrary.com/ site_url_close ['https://thelincolnlibrary.com/', 'https://thefalconlab.com/', 'https://thecotery.com/']\n",
      "site_url_close[0] https://thelincolnlibrary.com/\n",
      "ii 951 self.companies[ii] Lincoln Library Press\n",
      "out1 true iout1 763 url https://thelincolnlibrary.com/\n",
      "companies[0] The Scorecard Company this url https://thelincolnlibrary.com/\n"
     ]
    },
    {
     "name": "stderr",
     "output_type": "stream",
     "text": [
      "2021-11-30 16:44:39 [scrapy.core.engine] DEBUG: Crawled (200) <GET https://www.undergroundgraphics.us/> (referer: None)\n",
      "2021-11-30 16:44:39 [scrapy.core.engine] DEBUG: Crawled (200) <GET https://www.ataassociates.com/> (referer: None)\n",
      "2021-11-30 16:44:39 [scrapy.downloadermiddlewares.redirect] DEBUG: Redirecting (301) to <GET https://prototypingtech.com/> from <GET http://prototypingtech.com>\n",
      "2021-11-30 16:44:39 [scrapy.core.engine] DEBUG: Crawled (200) <GET https://www.greydon.com/> (referer: None)\n",
      "2021-11-30 16:44:39 [scrapy.core.engine] DEBUG: Crawled (200) <GET https://www.ediwise.com/> (referer: None)\n"
     ]
    },
    {
     "name": "stdout",
     "output_type": "stream",
     "text": [
      "site_url https://www.undergroundgraphics.us/ site_url_close ['https://www.undergroundgraphics.us/', 'https://www.tieronegraphics.com/', 'https://www.sunprographics.com']\n",
      "site_url_close[0] https://www.undergroundgraphics.us/\n",
      "ii 950 self.companies[ii] Underground Graphics\n",
      "out1 true iout1 764 url https://www.undergroundgraphics.us/\n",
      "companies[0] The SUN this url https://www.undergroundgraphics.us/\n"
     ]
    },
    {
     "name": "stderr",
     "output_type": "stream",
     "text": [
      "2021-11-30 16:44:40 [scrapy.core.engine] DEBUG: Crawled (200) <GET https://deltawebprinting.com/> (referer: None)\n",
      "2021-11-30 16:44:40 [scrapy.downloadermiddlewares.redirect] DEBUG: Redirecting (301) to <GET https://impatto.com/> from <GET https://www.impatto.com/>\n",
      "2021-11-30 16:44:40 [scrapy.downloadermiddlewares.redirect] DEBUG: Redirecting (301) to <GET https://questmark.net/> from <GET https://www.questmark.net/>\n"
     ]
    },
    {
     "name": "stdout",
     "output_type": "stream",
     "text": [
      "site_url https://www.ataassociates.com/ site_url_close ['https://www.ataassociates.com/', 'https://www.graphicassociates.com/', 'https://www.tierneyandassociates.com/']\n",
      "site_url_close[0] https://www.ataassociates.com/\n",
      "ii 953 self.companies[ii] AAA Box\n",
      "out1 true iout1 765 url https://www.ataassociates.com/\n",
      "companies[0] Tonertype of Florida, LLC this url https://www.ataassociates.com/\n"
     ]
    },
    {
     "name": "stderr",
     "output_type": "stream",
     "text": [
      "2021-11-30 16:44:40 [scrapy.core.scraper] DEBUG: Scraped from <200 https://www.greydon.com/>\r\n",
      "{'Organization': 'Greydon',\n",
      " 'fulltext': 'nan',\n",
      " 'searchterm': 'inkjet',\n",
      " 'url': 'https://www.greydon.com/'}\n"
     ]
    },
    {
     "name": "stdout",
     "output_type": "stream",
     "text": [
      "site_url https://www.greydon.com/ site_url_close ['http://www.greydon.com', 'https://www.rydin.com/', 'https://www.rkdixon.com/']\n",
      "site_url_close[0] http://www.greydon.com\n",
      "ii 937 self.companies[ii] Greydon\n",
      "yielding item inkjet\n"
     ]
    },
    {
     "name": "stderr",
     "output_type": "stream",
     "text": [
      "2021-11-30 16:44:41 [scrapy.core.engine] DEBUG: Crawled (200) <GET http://www.winmarketing.net/index1.html> (referer: None)\n",
      "2021-11-30 16:44:41 [scrapy.downloadermiddlewares.redirect] DEBUG: Redirecting (301) to <GET https://www.petersonpublications.com/> from <GET http://www.petersonpublications.com>\n"
     ]
    },
    {
     "name": "stdout",
     "output_type": "stream",
     "text": [
      "site_url https://www.ediwise.com/ site_url_close ['https://www.ediwise.com/', 'https://www.ewizer.com/', 'https://www.edigitize.com/']\n",
      "site_url_close[0] https://www.ediwise.com/\n",
      "ii 952 self.companies[ii] Ediwise\n",
      "out1 true iout1 766 url https://www.ediwise.com/\n",
      "companies[0] Impressive Solutions this url https://www.ediwise.com/\n",
      "out1 true iout1 767 url https://www.greydon.com/\n",
      "companies[0] Bullseye Visuals this url https://www.greydon.com/\n"
     ]
    },
    {
     "name": "stderr",
     "output_type": "stream",
     "text": [
      "2021-11-30 16:44:41 [scrapy.downloadermiddlewares.retry] DEBUG: Retrying <GET https://eastondisplay.com/> (failed 2 times): [<twisted.python.failure.Failure twisted.internet.error.ConnectionLost: Connection to the other side was lost in a non-clean fashion: Connection lost.>]\n"
     ]
    },
    {
     "name": "stdout",
     "output_type": "stream",
     "text": [
      "site_url https://deltawebprinting.com/ site_url_close ['https://deltawebprinting.com/', 'https://heritageprinting.com/', 'https://dolanprinting.com']\n",
      "site_url_close[0] https://deltawebprinting.com/\n",
      "ii 955 self.companies[ii] Delta Web Printing\n",
      "out1 true iout1 768 url https://deltawebprinting.com/\n",
      "companies[0] Ripmall Technologies this url https://deltawebprinting.com/\n"
     ]
    },
    {
     "name": "stderr",
     "output_type": "stream",
     "text": [
      "2021-11-30 16:44:42 [scrapy.core.engine] DEBUG: Crawled (200) <GET http://progressinc.com/> (referer: None)\n"
     ]
    },
    {
     "name": "stdout",
     "output_type": "stream",
     "text": [
      "site_url http://www.winmarketing.net/index1.html site_url_close ['http://www.winmarketing.net/index1.html', 'http://www.adwerx.net/index.html', 'https://www.rogersprinting.net/index.htmL']\n",
      "site_url_close[0] http://www.winmarketing.net/index1.html\n",
      "ii 956 self.companies[ii] Win Marketing\n",
      "out1 false iout2 97 url http://www.winmarketing.net/index1.html\n",
      "companies[0] Color Shack this url http://www.winmarketing.net/index1.html\n"
     ]
    },
    {
     "name": "stderr",
     "output_type": "stream",
     "text": [
      "2021-11-30 16:44:42 [scrapy.core.engine] DEBUG: Crawled (200) <GET http://www.createamarkernyc.com> (referer: None)\n",
      "2021-11-30 16:44:42 [scrapy.core.engine] DEBUG: Crawled (200) <GET https://www.nemadesign.com/> (referer: None)\n"
     ]
    },
    {
     "name": "stdout",
     "output_type": "stream",
     "text": [
      "site_url http://progressinc.com/ site_url_close ['http://progressinc.com/', 'http://www.promessinc.com/', 'http://psusainc.com/']\n",
      "site_url_close[0] http://progressinc.com/\n",
      "ii 958 self.companies[ii] Progress\n",
      "out1 true iout1 769 url http://progressinc.com/\n",
      "companies[0] Kevins Worldwide this url http://progressinc.com/\n"
     ]
    },
    {
     "name": "stderr",
     "output_type": "stream",
     "text": [
      "2021-11-30 16:44:43 [scrapy.core.engine] DEBUG: Crawled (200) <GET https://www.tradeshow-stuff.com> (referer: None)\n",
      "2021-11-30 16:44:43 [scrapy.core.engine] DEBUG: Crawled (200) <GET https://www.pro-label.com/> (referer: None)\n"
     ]
    },
    {
     "name": "stdout",
     "output_type": "stream",
     "text": [
      "site_url http://www.createamarkernyc.com site_url_close ['http://www.createamarkernyc.com', 'https://www.amacker-inc.com', 'http://www.orangemaker.com/']\n",
      "site_url_close[0] http://www.createamarkernyc.com\n",
      "ii 959 self.companies[ii] Create A Marker\n",
      "out1 true iout1 770 url http://www.createamarkernyc.com\n",
      "companies[0] Imagination Trends this url http://www.createamarkernyc.com\n",
      "site_url https://www.nemadesign.com/ site_url_close ['http://www.nemadesign.com', 'https://www.deesign.com/', 'https://www.matchadesign.com/']\n",
      "site_url_close[0] http://www.nemadesign.com\n",
      "ii 942 self.companies[ii] NEMA ASSOCIATES\n",
      "out1 true iout1 771 url https://www.nemadesign.com/\n",
      "companies[0] Bj's Custom Creations this url https://www.nemadesign.com/\n",
      "site_url https://www.tradeshow-stuff.com site_url_close ['https://www.tradeshow-stuff.com', 'https://www.tradeshowdirect.com/', 'https://www.planettradeshow.com']\n",
      "site_url_close[0] https://www.tradeshow-stuff.com\n",
      "ii 960 self.companies[ii] tradeshow-stuff\n",
      "out1 true iout1 772 url https://www.tradeshow-stuff.com\n",
      "companies[0] Adams McClure this url https://www.tradeshow-stuff.com\n"
     ]
    },
    {
     "name": "stderr",
     "output_type": "stream",
     "text": [
      "2021-11-30 16:44:45 [scrapy.core.engine] DEBUG: Crawled (200) <GET https://adgraphics.us/> (referer: None)\n",
      "2021-11-30 16:44:45 [scrapy.downloadermiddlewares.redirect] DEBUG: Redirecting (301) to <GET https://offthewalladvertising.com/> from <GET https://www.offthewalladvertising.com/>\n",
      "2021-11-30 16:44:45 [scrapy.downloadermiddlewares.redirect] DEBUG: Redirecting (301) to <GET http://www.sklaadvertising.com/> from <GET http://sklaadvertising.com>\n"
     ]
    },
    {
     "name": "stdout",
     "output_type": "stream",
     "text": [
      "site_url https://www.pro-label.com/ site_url_close ['http://www.pro-label.com/', 'https://www.grlabel.com/', 'https://www.trio-labs.com/']\n",
      "site_url_close[0] http://www.pro-label.com/\n",
      "ii 941 self.companies[ii] Pro Label\n",
      "out1 true iout1 773 url https://www.pro-label.com/\n",
      "companies[0] Copymat this url https://www.pro-label.com/\n"
     ]
    },
    {
     "name": "stderr",
     "output_type": "stream",
     "text": [
      "2021-11-30 16:44:45 [scrapy.core.scraper] DEBUG: Scraped from <200 https://adgraphics.us/>\n",
      "{'Organization': 'AdGraphics',\n",
      " 'fulltext': 'AdGraphics was founded in 1992 when 3M’s original breakthrough—large format printing technology was introduced. They pioneered this new form of printing right alongside 3M company to help evolve it into this exciting digital signage they see everywhere today. 3M performed much of their testing right in theirSince then, clients and competitors alike have respected AdGraphics as the leader and ground-breaker in innovation, and for setting the high quality standards for this fast growing industry. South Florida facility.',\n",
      " 'searchterm': 'digital printing',\n",
      " 'url': 'https://adgraphics.us/'}\n",
      "2021-11-30 16:44:45 [scrapy.core.engine] DEBUG: Crawled (200) <GET https://pro-copy.com/> (referer: None)\n",
      "2021-11-30 16:44:45 [scrapy.core.engine] DEBUG: Crawled (200) <GET http://www.sovmedia.sovhomestead.com/> (referer: None)\n"
     ]
    },
    {
     "name": "stdout",
     "output_type": "stream",
     "text": [
      "site_url https://adgraphics.us/ site_url_close ['http://adgraphics.us/', 'https://atigraphics.com/', 'https://ajfgraphics.com/']\n",
      "site_url_close[0] http://adgraphics.us/\n",
      "ii 944 self.companies[ii] AdGraphics\n",
      "yielding item digital printing\n",
      "out1 true iout1 774 url https://adgraphics.us/\n",
      "companies[0] Pro-Motion Industries this url https://adgraphics.us/\n",
      "site_url https://pro-copy.com/ site_url_close ['https://www.pro-copy.com', 'https://ccpcopy.com/', 'https://ocip.com/']\n",
      "site_url_close[0] https://www.pro-copy.com\n",
      "ii 943 self.companies[ii] PRO-COPY, INC.\n",
      "out1 true iout1 775 url https://pro-copy.com/\n",
      "companies[0] CMC this url https://pro-copy.com/\n",
      "site_url http://www.sovmedia.sovhomestead.com/ site_url_close ['http://www.sovmedia.sovhomestead.com/', 'http://www.mymediahead.com/', 'https://www.cosomedia.com/']\n",
      "site_url_close[0] http://www.sovmedia.sovhomestead.com/\n",
      "ii 966 self.companies[ii] Sovereign/Homestead\n",
      "out1 true iout1 776 url http://www.sovmedia.sovhomestead.com/\n",
      "companies[0] Premium Creative Labels this url http://www.sovmedia.sovhomestead.com/\n"
     ]
    },
    {
     "name": "stderr",
     "output_type": "stream",
     "text": [
      "2021-11-30 16:44:47 [scrapy.downloadermiddlewares.redirect] DEBUG: Redirecting (301) to <GET https://www.kaseprinting.com/> from <GET http://www.kaseprinting.com/>\n",
      "2021-11-30 16:44:47 [scrapy.core.engine] DEBUG: Crawled (200) <GET https://www.aztecprintinganddesign.com/> (referer: None)\n",
      "2021-11-30 16:44:47 [scrapy.core.engine] DEBUG: Crawled (200) <GET https://printresource.com/> (referer: None)\n"
     ]
    },
    {
     "name": "stdout",
     "output_type": "stream",
     "text": [
      "site_url https://www.aztecprintinganddesign.com/ site_url_close ['https://www.aztecprintinganddesign.com/', 'https://www.printingnews.com', 'https://www.prenticedesign.com/']\n",
      "site_url_close[0] https://www.aztecprintinganddesign.com/\n",
      "ii 967 self.companies[ii] Aztec Printing & Design\n",
      "out1 true iout1 777 url https://www.aztecprintinganddesign.com/\n",
      "companies[0] Advantage Emblem & Screen Printing this url https://www.aztecprintinganddesign.com/\n"
     ]
    },
    {
     "name": "stderr",
     "output_type": "stream",
     "text": [
      "2021-11-30 16:44:48 [scrapy.downloadermiddlewares.retry] ERROR: Gave up retrying <GET https://www.formfast.com> (failed 3 times): TCP connection timed out: 10060: A connection attempt failed because the connected party did not properly respond after a period of time, or established connection failed because connected host has failed to respond..\n",
      "2021-11-30 16:44:48 [scrapy.core.scraper] ERROR: Error downloading <GET https://www.formfast.com>\n",
      "Traceback (most recent call last):\n",
      "  File \"C:\\Users\\MStopa\\AppData\\Local\\Continuum\\anaconda3\\envs\\webscrape\\lib\\site-packages\\scrapy\\core\\downloader\\middleware.py\", line 44, in process_request\n",
      "    return (yield download_func(request=request, spider=spider))\n",
      "twisted.internet.error.TCPTimedOutError: TCP connection timed out: 10060: A connection attempt failed because the connected party did not properly respond after a period of time, or established connection failed because connected host has failed to respond..\n",
      "2021-11-30 16:44:48 [scrapy.core.engine] DEBUG: Crawled (200) <GET http://www.adwerx.net/index.html> (referer: None)\n"
     ]
    },
    {
     "name": "stdout",
     "output_type": "stream",
     "text": [
      "site_url https://printresource.com/ site_url_close ['https://printresource.com/', 'http://printingresources.com/', 'https://printsource360.com/']\n",
      "site_url_close[0] https://printresource.com/\n",
      "ii 968 self.companies[ii] Print Resource\n",
      "out1 true iout1 778 url https://printresource.com/\n",
      "companies[0] MM Electronics this url https://printresource.com/\n"
     ]
    },
    {
     "name": "stderr",
     "output_type": "stream",
     "text": [
      "2021-11-30 16:44:49 [scrapy.core.engine] DEBUG: Crawled (200) <GET https://panthergraphics.net> (referer: None)\n",
      "2021-11-30 16:44:49 [scrapy.core.engine] DEBUG: Crawled (200) <GET https://www.petersonpublications.com/> (referer: None)\n"
     ]
    },
    {
     "name": "stdout",
     "output_type": "stream",
     "text": [
      "site_url http://www.adwerx.net/index.html site_url_close ['http://www.adwerx.net/index.html', 'http://www.winmarketing.net/index1.html', 'https://www.qal.com/index.html']\n",
      "site_url_close[0] http://www.adwerx.net/index.html\n",
      "ii 971 self.companies[ii] Adwerx Communications\n",
      "out1 false iout2 98 url http://www.adwerx.net/index.html\n",
      "companies[0] Waterlogic this url http://www.adwerx.net/index.html\n"
     ]
    },
    {
     "name": "stderr",
     "output_type": "stream",
     "text": [
      "2021-11-30 16:44:50 [scrapy.core.scraper] DEBUG: Scraped from <200 https://panthergraphics.net>\n",
      "{'Organization': 'Panther Graphics',\n",
      " 'fulltext': 'nan',\n",
      " 'searchterm': 'digital printing',\n",
      " 'url': 'https://panthergraphics.net'}\n",
      "2021-11-30 16:44:50 [scrapy.core.engine] DEBUG: Crawled (200) <GET https://giantprinting.com> (referer: None)\n",
      "2021-11-30 16:44:50 [scrapy.core.engine] DEBUG: Crawled (200) <GET https://prototypingtech.com/> (referer: None)\n"
     ]
    },
    {
     "name": "stdout",
     "output_type": "stream",
     "text": [
      "site_url https://panthergraphics.net site_url_close ['https://panthergraphics.net', 'https://www.boonegraphics.net', 'http://decographic.net']\n",
      "site_url_close[0] https://panthergraphics.net\n",
      "ii 965 self.companies[ii] Panther Graphics\n",
      "yielding item digital printing\n",
      "out1 true iout1 779 url https://panthergraphics.net\n",
      "companies[0] Cenveo this url https://panthergraphics.net\n"
     ]
    },
    {
     "name": "stderr",
     "output_type": "stream",
     "text": [
      "2021-11-30 16:44:50 [scrapy.core.engine] DEBUG: Crawled (200) <GET https://impatto.com/> (referer: None)\n"
     ]
    },
    {
     "name": "stdout",
     "output_type": "stream",
     "text": [
      "site_url https://www.petersonpublications.com/ site_url_close ['http://www.petersonpublications.com', 'https://www.granitepublications.com/', 'http://www.oahupublications.com/']\n",
      "site_url_close[0] http://www.petersonpublications.com\n",
      "ii 957 self.companies[ii] Peterson Publications\n",
      "out1 true iout1 780 url https://www.petersonpublications.com/\n",
      "companies[0] Akron Art Museum this url https://www.petersonpublications.com/\n"
     ]
    },
    {
     "name": "stderr",
     "output_type": "stream",
     "text": [
      "2021-11-30 16:44:51 [scrapy.core.scraper] ERROR: Spider error processing <GET https://giantprinting.com> (referer: None)\n",
      "Traceback (most recent call last):\n",
      "  File \"C:\\Users\\MStopa\\AppData\\Local\\Continuum\\anaconda3\\envs\\webscrape\\lib\\site-packages\\scrapy\\utils\\defer.py\", line 120, in iter_errback\n",
      "    yield next(it)\n",
      "  File \"C:\\Users\\MStopa\\AppData\\Local\\Continuum\\anaconda3\\envs\\webscrape\\lib\\site-packages\\scrapy\\utils\\python.py\", line 346, in __next__\n",
      "    return next(self.data)\n",
      "  File \"C:\\Users\\MStopa\\AppData\\Local\\Continuum\\anaconda3\\envs\\webscrape\\lib\\site-packages\\scrapy\\utils\\python.py\", line 346, in __next__\n",
      "    return next(self.data)\n",
      "  File \"C:\\Users\\MStopa\\AppData\\Local\\Continuum\\anaconda3\\envs\\webscrape\\lib\\site-packages\\scrapy\\core\\spidermw.py\", line 64, in _evaluate_iterable\n",
      "    for r in iterable:\n",
      "  File \"C:\\Users\\MStopa\\AppData\\Local\\Continuum\\anaconda3\\envs\\webscrape\\lib\\site-packages\\scrapy\\spidermiddlewares\\offsite.py\", line 29, in process_spider_output\n",
      "    for x in result:\n",
      "  File \"C:\\Users\\MStopa\\AppData\\Local\\Continuum\\anaconda3\\envs\\webscrape\\lib\\site-packages\\scrapy\\core\\spidermw.py\", line 64, in _evaluate_iterable\n",
      "    for r in iterable:\n",
      "  File \"C:\\Users\\MStopa\\AppData\\Local\\Continuum\\anaconda3\\envs\\webscrape\\lib\\site-packages\\scrapy\\spidermiddlewares\\referer.py\", line 340, in <genexpr>\n",
      "    return (_set_referer(r) for r in result or ())\n",
      "  File \"C:\\Users\\MStopa\\AppData\\Local\\Continuum\\anaconda3\\envs\\webscrape\\lib\\site-packages\\scrapy\\core\\spidermw.py\", line 64, in _evaluate_iterable\n",
      "    for r in iterable:\n",
      "  File \"C:\\Users\\MStopa\\AppData\\Local\\Continuum\\anaconda3\\envs\\webscrape\\lib\\site-packages\\scrapy\\spidermiddlewares\\urllength.py\", line 37, in <genexpr>\n",
      "    return (r for r in result or () if _filter(r))\n",
      "  File \"C:\\Users\\MStopa\\AppData\\Local\\Continuum\\anaconda3\\envs\\webscrape\\lib\\site-packages\\scrapy\\core\\spidermw.py\", line 64, in _evaluate_iterable\n",
      "    for r in iterable:\n",
      "  File \"C:\\Users\\MStopa\\AppData\\Local\\Continuum\\anaconda3\\envs\\webscrape\\lib\\site-packages\\scrapy\\spidermiddlewares\\depth.py\", line 58, in <genexpr>\n",
      "    return (r for r in result or () if _filter(r))\n",
      "  File \"C:\\Users\\MStopa\\AppData\\Local\\Continuum\\anaconda3\\envs\\webscrape\\lib\\site-packages\\scrapy\\core\\spidermw.py\", line 64, in _evaluate_iterable\n",
      "    for r in iterable:\n",
      "  File \"<ipython-input-9-10a30e00531c>\", line 132, in parse\n",
      "    file1.write(out2 + '\\n')\n",
      "  File \"C:\\Users\\MStopa\\AppData\\Local\\Continuum\\anaconda3\\envs\\webscrape\\lib\\encodings\\cp1252.py\", line 19, in encode\n",
      "    return codecs.charmap_encode(input,self.errors,encoding_table)[0]\n",
      "UnicodeEncodeError: 'charmap' codec can't encode character '\\u2032' in position 6606: character maps to <undefined>\n"
     ]
    },
    {
     "name": "stdout",
     "output_type": "stream",
     "text": [
      "site_url https://giantprinting.com site_url_close ['https://giantprinting.com', 'https://japrinting.com', 'https://kingprinting.com/']\n",
      "site_url_close[0] https://giantprinting.com\n",
      "ii 970 self.companies[ii] Giant Printing\n",
      "out1 true iout1 781 url https://giantprinting.com\n"
     ]
    },
    {
     "name": "stderr",
     "output_type": "stream",
     "text": [
      "2021-11-30 16:44:51 [scrapy.downloadermiddlewares.redirect] DEBUG: Redirecting (301) to <GET https://dmwdesign.com/> from <GET http://dmwdesign.com/>\n",
      "2021-11-30 16:44:51 [scrapy.core.engine] DEBUG: Crawled (200) <GET https://www.graphixcontrolcorp.com/> (referer: None)\n",
      "2021-11-30 16:44:51 [scrapy.core.engine] DEBUG: Crawled (200) <GET https://laserexcel.com> (referer: None)\n"
     ]
    },
    {
     "name": "stdout",
     "output_type": "stream",
     "text": [
      "site_url https://prototypingtech.com/ site_url_close ['https://printreach.com/', 'https://www.prototech.com', 'http://theprototyper.com/']\n",
      "site_url_close[0] https://printreach.com/\n",
      "ii 60 self.companies[ii] Print Reach\n",
      "out1 true iout1 782 url https://prototypingtech.com/\n",
      "companies[0] Custom Profile this url https://prototypingtech.com/\n",
      "site_url https://impatto.com/ site_url_close ['http://www.impatto.com', 'https://litpac.com/', 'https://www.pratt.com/']\n",
      "site_url_close[0] http://www.impatto.com\n",
      "ii 940 self.companies[ii] Impatto\n",
      "out1 true iout1 783 url https://impatto.com/\n",
      "companies[0] Instant Imprints this url https://impatto.com/\n",
      "site_url https://www.graphixcontrolcorp.com/ site_url_close ['http://graphixcontrolcorp.com', 'https://www.hixcorp.com/', 'https://www.graphicinnovators.com/']\n",
      "site_url_close[0] http://graphixcontrolcorp.com\n",
      "ii 954 self.companies[ii] Graphix Control Corp - Intercopy Brand Toner Cartridges\n",
      "out1 true iout1 784 url https://www.graphixcontrolcorp.com/\n",
      "companies[0] Wired Magazine this url https://www.graphixcontrolcorp.com/\n"
     ]
    },
    {
     "name": "stderr",
     "output_type": "stream",
     "text": [
      "2021-11-30 16:44:53 [scrapy.core.scraper] DEBUG: Scraped from <200 https://laserexcel.com>\n",
      "{'Organization': 'Laser Excel',\n",
      " 'fulltext': 'nan',\n",
      " 'searchterm': 'screen printing',\n",
      " 'url': 'https://laserexcel.com'}\n",
      "2021-11-30 16:44:53 [scrapy.downloadermiddlewares.retry] ERROR: Gave up retrying <GET https://eastondisplay.com/> (failed 3 times): [<twisted.python.failure.Failure twisted.internet.error.ConnectionLost: Connection to the other side was lost in a non-clean fashion: Connection lost.>]\n",
      "2021-11-30 16:44:53 [scrapy.core.engine] DEBUG: Crawled (200) <GET https://questmark.net/> (referer: None)\n",
      "2021-11-30 16:44:53 [scrapy.downloadermiddlewares.redirect] DEBUG: Redirecting (301) to <GET https://businessreviewservices.com/> from <GET https://www.businessreviewservices.com/>\n",
      "2021-11-30 16:44:53 [scrapy.downloadermiddlewares.retry] DEBUG: Retrying <GET https://selecteng.com> (failed 1 times): Connection was refused by other side: 10061: No connection could be made because the target machine actively refused it..\n",
      "2021-11-30 16:44:53 [scrapy.core.scraper] ERROR: Error downloading <GET https://eastondisplay.com/>\n",
      "Traceback (most recent call last):\n",
      "  File \"C:\\Users\\MStopa\\AppData\\Local\\Continuum\\anaconda3\\envs\\webscrape\\lib\\site-packages\\scrapy\\core\\downloader\\middleware.py\", line 44, in process_request\n",
      "    return (yield download_func(request=request, spider=spider))\n",
      "twisted.web._newclient.ResponseNeverReceived: [<twisted.python.failure.Failure twisted.internet.error.ConnectionLost: Connection to the other side was lost in a non-clean fashion: Connection lost.>]\n"
     ]
    },
    {
     "name": "stdout",
     "output_type": "stream",
     "text": [
      "site_url https://laserexcel.com site_url_close ['https://laserexcel.com', 'https://laserresources.com', 'https://saberex.com/']\n",
      "site_url_close[0] https://laserexcel.com\n",
      "ii 973 self.companies[ii] Laser Excel\n",
      "yielding item screen printing\n",
      "out1 true iout1 785 url https://laserexcel.com\n",
      "companies[0] BR Printers this url https://laserexcel.com\n"
     ]
    },
    {
     "name": "stderr",
     "output_type": "stream",
     "text": [
      "2021-11-30 16:44:53 [scrapy.downloadermiddlewares.retry] DEBUG: Retrying <GET http://www.accurateprinting.com> (failed 1 times): [<twisted.python.failure.Failure twisted.internet.error.ConnectionLost: Connection to the other side was lost in a non-clean fashion.>]\n",
      "2021-11-30 16:44:53 [scrapy.downloadermiddlewares.retry] DEBUG: Retrying <GET https://www.printheadquarters.com> (failed 1 times): [<twisted.python.failure.Failure twisted.internet.error.ConnectionLost: Connection to the other side was lost in a non-clean fashion: Connection lost.>]\n"
     ]
    },
    {
     "name": "stdout",
     "output_type": "stream",
     "text": [
      "site_url https://questmark.net/ site_url_close ['http://www.questmark.net', 'https://benchemark.net/', 'http://markvii.net']\n",
      "site_url_close[0] http://www.questmark.net\n",
      "ii 945 self.companies[ii] QuestMark\n",
      "out1 true iout1 786 url https://questmark.net/\n",
      "companies[0] FormFast this url https://questmark.net/\n"
     ]
    },
    {
     "name": "stderr",
     "output_type": "stream",
     "text": [
      "2021-11-30 16:44:54 [scrapy.core.engine] DEBUG: Crawled (200) <GET http://fortcollinsdigitalprinting.com/> (referer: None)\n",
      "2021-11-30 16:44:54 [scrapy.core.engine] DEBUG: Crawled (200) <GET http://www.sklaadvertising.com/> (referer: None)\n",
      "2021-11-30 16:44:54 [scrapy.core.engine] DEBUG: Crawled (200) <GET https://qtods.com/> (referer: None)\n",
      "2021-11-30 16:44:54 [scrapy.core.engine] DEBUG: Crawled (200) <GET https://offthewalladvertising.com/> (referer: None)\n",
      "2021-11-30 16:44:54 [scrapy.core.engine] DEBUG: Crawled (200) <GET https://www.signaturebeverage.net/> (referer: None)\n",
      "2021-11-30 16:44:54 [scrapy.core.engine] DEBUG: Crawled (200) <GET https://www.bbgraphics.com/> (referer: None)\n"
     ]
    },
    {
     "name": "stdout",
     "output_type": "stream",
     "text": [
      "site_url http://fortcollinsdigitalprinting.com/ site_url_close ['http://fortcollinsdigitalprinting.com/', 'https://freedomdigitalprinting.com', 'http://blueskydigitalprinting.com/']\n",
      "site_url_close[0] http://fortcollinsdigitalprinting.com/\n",
      "ii 981 self.companies[ii] MME\n",
      "out1 true iout1 787 url http://fortcollinsdigitalprinting.com/\n",
      "companies[0] Firespring this url http://fortcollinsdigitalprinting.com/\n",
      "site_url http://www.sklaadvertising.com/ site_url_close ['http://sklaadvertising.com', 'http://sklaadvertising.com', 'https://www.inkadvertising.com/']\n",
      "site_url_close[0] http://sklaadvertising.com\n",
      "ii 963 self.companies[ii] Skla\n",
      "out1 true iout1 788 url http://www.sklaadvertising.com/\n",
      "companies[0] Berrett-Koehler Publishers this url http://www.sklaadvertising.com/\n",
      "site_url https://qtods.com/ site_url_close ['https://qtods.com/', 'https://twodudes.com/', 'https://ocdm.com/']\n",
      "site_url_close[0] https://qtods.com/\n",
      "ii 979 self.companies[ii] Quantum Technologies\n",
      "out1 true iout1 789 url https://qtods.com/\n",
      "companies[0] Lacerta Group this url https://qtods.com/\n",
      "site_url https://offthewalladvertising.com/ site_url_close ['https://www.offthewalladvertising.com/', 'https://sireadvertising.com/', 'https://58advertising.com/']\n",
      "site_url_close[0] https://www.offthewalladvertising.com/\n",
      "ii 961 self.companies[ii] Off The Wall Advertising\n",
      "out1 true iout1 790 url https://offthewalladvertising.com/\n",
      "companies[0] eCopy this url https://offthewalladvertising.com/\n",
      "site_url https://www.signaturebeverage.net/ site_url_close ['https://www.signaturebeverage.net/', 'http://www.signaturemarketing.net', 'https://www.designadvertising.net/']\n",
      "site_url_close[0] https://www.signaturebeverage.net/\n",
      "ii 982 self.companies[ii] Signature Beverage\n",
      "out1 true iout1 791 url https://www.signaturebeverage.net/\n",
      "companies[0] PrintMail Solutions this url https://www.signaturebeverage.net/\n"
     ]
    },
    {
     "name": "stderr",
     "output_type": "stream",
     "text": [
      "2021-11-30 16:44:57 [scrapy.core.scraper] ERROR: Spider error processing <GET https://www.bbgraphics.com/> (referer: None)\n",
      "Traceback (most recent call last):\n",
      "  File \"C:\\Users\\MStopa\\AppData\\Local\\Continuum\\anaconda3\\envs\\webscrape\\lib\\site-packages\\scrapy\\utils\\defer.py\", line 120, in iter_errback\n",
      "    yield next(it)\n",
      "  File \"C:\\Users\\MStopa\\AppData\\Local\\Continuum\\anaconda3\\envs\\webscrape\\lib\\site-packages\\scrapy\\utils\\python.py\", line 346, in __next__\n",
      "    return next(self.data)\n",
      "  File \"C:\\Users\\MStopa\\AppData\\Local\\Continuum\\anaconda3\\envs\\webscrape\\lib\\site-packages\\scrapy\\utils\\python.py\", line 346, in __next__\n",
      "    return next(self.data)\n",
      "  File \"C:\\Users\\MStopa\\AppData\\Local\\Continuum\\anaconda3\\envs\\webscrape\\lib\\site-packages\\scrapy\\core\\spidermw.py\", line 64, in _evaluate_iterable\n",
      "    for r in iterable:\n",
      "  File \"C:\\Users\\MStopa\\AppData\\Local\\Continuum\\anaconda3\\envs\\webscrape\\lib\\site-packages\\scrapy\\spidermiddlewares\\offsite.py\", line 29, in process_spider_output\n",
      "    for x in result:\n",
      "  File \"C:\\Users\\MStopa\\AppData\\Local\\Continuum\\anaconda3\\envs\\webscrape\\lib\\site-packages\\scrapy\\core\\spidermw.py\", line 64, in _evaluate_iterable\n",
      "    for r in iterable:\n",
      "  File \"C:\\Users\\MStopa\\AppData\\Local\\Continuum\\anaconda3\\envs\\webscrape\\lib\\site-packages\\scrapy\\spidermiddlewares\\referer.py\", line 340, in <genexpr>\n",
      "    return (_set_referer(r) for r in result or ())\n",
      "  File \"C:\\Users\\MStopa\\AppData\\Local\\Continuum\\anaconda3\\envs\\webscrape\\lib\\site-packages\\scrapy\\core\\spidermw.py\", line 64, in _evaluate_iterable\n",
      "    for r in iterable:\n",
      "  File \"C:\\Users\\MStopa\\AppData\\Local\\Continuum\\anaconda3\\envs\\webscrape\\lib\\site-packages\\scrapy\\spidermiddlewares\\urllength.py\", line 37, in <genexpr>\n",
      "    return (r for r in result or () if _filter(r))\n",
      "  File \"C:\\Users\\MStopa\\AppData\\Local\\Continuum\\anaconda3\\envs\\webscrape\\lib\\site-packages\\scrapy\\core\\spidermw.py\", line 64, in _evaluate_iterable\n",
      "    for r in iterable:\n",
      "  File \"C:\\Users\\MStopa\\AppData\\Local\\Continuum\\anaconda3\\envs\\webscrape\\lib\\site-packages\\scrapy\\spidermiddlewares\\depth.py\", line 58, in <genexpr>\n",
      "    return (r for r in result or () if _filter(r))\n",
      "  File \"C:\\Users\\MStopa\\AppData\\Local\\Continuum\\anaconda3\\envs\\webscrape\\lib\\site-packages\\scrapy\\core\\spidermw.py\", line 64, in _evaluate_iterable\n",
      "    for r in iterable:\n",
      "  File \"<ipython-input-9-10a30e00531c>\", line 132, in parse\n",
      "    file1.write(out2 + '\\n')\n",
      "  File \"C:\\Users\\MStopa\\AppData\\Local\\Continuum\\anaconda3\\envs\\webscrape\\lib\\encodings\\cp1252.py\", line 19, in encode\n",
      "    return codecs.charmap_encode(input,self.errors,encoding_table)[0]\n",
      "UnicodeEncodeError: 'charmap' codec can't encode character '\\u2665' in position 1865: character maps to <undefined>\n",
      "2021-11-30 16:44:57 [scrapy.core.engine] DEBUG: Crawled (200) <GET https://www.optimizon.com> (referer: None)\n"
     ]
    },
    {
     "name": "stdout",
     "output_type": "stream",
     "text": [
      "site_url https://www.bbgraphics.com/ site_url_close ['https://www.bbgraphics.com/', 'https://www.bpgraphics.com/', 'https://www.mjbgraphic.com/']\n",
      "site_url_close[0] https://www.bbgraphics.com/\n",
      "ii 978 self.companies[ii] BB Graphics\n",
      "out1 true iout1 792 url https://www.bbgraphics.com/\n"
     ]
    },
    {
     "name": "stderr",
     "output_type": "stream",
     "text": [
      "2021-11-30 16:44:57 [scrapy.core.engine] DEBUG: Crawled (200) <GET https://www.datacenterusa.com> (referer: None)\n"
     ]
    },
    {
     "name": "stdout",
     "output_type": "stream",
     "text": [
      "site_url https://www.optimizon.com site_url_close ['https://www.optimizon.com', 'https://www.popmount.com', 'https://www.moon.com']\n",
      "site_url_close[0] https://www.optimizon.com\n",
      "ii 977 self.companies[ii] Optimizon\n",
      "out1 true iout1 793 url https://www.optimizon.com\n",
      "companies[0] Quantum this url https://www.optimizon.com\n"
     ]
    },
    {
     "name": "stderr",
     "output_type": "stream",
     "text": [
      "2021-11-30 16:44:58 [scrapy.core.engine] DEBUG: Crawled (200) <GET https://www.buyersexpress.com/> (referer: None)\n"
     ]
    },
    {
     "name": "stdout",
     "output_type": "stream",
     "text": [
      "site_url https://www.datacenterusa.com site_url_close ['https://www.datacenterusa.com', 'http://www.datacentersys.com', 'https://www.freenters.com']\n",
      "site_url_close[0] https://www.datacenterusa.com\n",
      "ii 984 self.companies[ii] The Data Center\n",
      "out1 true iout1 794 url https://www.datacenterusa.com\n",
      "companies[0] Fisher Unitech this url https://www.datacenterusa.com\n"
     ]
    },
    {
     "name": "stderr",
     "output_type": "stream",
     "text": [
      "2021-11-30 16:44:58 [scrapy.downloadermiddlewares.redirect] DEBUG: Redirecting (301) to <GET https://centralcarolinaproducts.com/> from <GET https://www.centralcarolinaproducts.com>\n"
     ]
    },
    {
     "name": "stdout",
     "output_type": "stream",
     "text": [
      "site_url https://www.buyersexpress.com/ site_url_close ['https://www.buyersexpress.com/', 'https://www.etsexpress.com', 'https://www.jessenpress.com/']\n",
      "site_url_close[0] https://www.buyersexpress.com/\n",
      "ii 985 self.companies[ii] Buyers Express\n",
      "out1 true iout1 795 url https://www.buyersexpress.com/\n",
      "companies[0] Pinnacle Data Systems, LLC this url https://www.buyersexpress.com/\n"
     ]
    },
    {
     "name": "stderr",
     "output_type": "stream",
     "text": [
      "2021-11-30 16:44:59 [scrapy.core.engine] DEBUG: Crawled (200) <GET https://www.morecopies.com/> (referer: None)\n",
      "2021-11-30 16:44:59 [scrapy.core.engine] DEBUG: Crawled (200) <GET https://www.kaseprinting.com/> (referer: None)\n",
      "2021-11-30 16:44:59 [scrapy.downloadermiddlewares.retry] DEBUG: Retrying <GET http://www.accurateprinting.com> (failed 2 times): [<twisted.python.failure.Failure twisted.internet.error.ConnectionLost: Connection to the other side was lost in a non-clean fashion.>]\n"
     ]
    },
    {
     "name": "stdout",
     "output_type": "stream",
     "text": [
      "site_url https://www.morecopies.com/ site_url_close ['https://www.morecopies.com/', 'https://www.ecopaper.com/', 'http://www.suncopies.com/']\n",
      "site_url_close[0] https://www.morecopies.com/\n",
      "ii 983 self.companies[ii] Kopy King\n",
      "out1 true iout1 796 url https://www.morecopies.com/\n",
      "companies[0] SYNEO this url https://www.morecopies.com/\n",
      "site_url https://www.kaseprinting.com/ site_url_close ['http://www.kaseprinting.com/', 'https://www.roseprinting.com/', 'https://www.caseyprinting.com']\n",
      "site_url_close[0] http://www.kaseprinting.com/\n",
      "ii 969 self.companies[ii] Kase Printing\n",
      "out1 true iout1 797 url https://www.kaseprinting.com/\n",
      "companies[0] Poly-Med this url https://www.kaseprinting.com/\n"
     ]
    },
    {
     "name": "stderr",
     "output_type": "stream",
     "text": [
      "2021-11-30 16:45:01 [scrapy.core.engine] DEBUG: Crawled (200) <GET https://dmwdesign.com/> (referer: None)\n",
      "2021-11-30 16:45:01 [scrapy.downloadermiddlewares.retry] DEBUG: Retrying <GET https://selecteng.com> (failed 2 times): Connection was refused by other side: 10061: No connection could be made because the target machine actively refused it..\n",
      "2021-11-30 16:45:01 [scrapy.downloadermiddlewares.retry] DEBUG: Retrying <GET https://www.printheadquarters.com> (failed 2 times): [<twisted.python.failure.Failure twisted.internet.error.ConnectionLost: Connection to the other side was lost in a non-clean fashion: Connection lost.>]\n"
     ]
    },
    {
     "name": "stdout",
     "output_type": "stream",
     "text": [
      "site_url https://dmwdesign.com/ site_url_close ['http://dmwdesign.com/', 'https://hdesign.com/', 'https://www.deesign.com/']\n",
      "site_url_close[0] http://dmwdesign.com/\n",
      "ii 975 self.companies[ii] DMW Design\n",
      "out1 true iout1 798 url https://dmwdesign.com/\n",
      "companies[0] Nazdar SourceOne this url https://dmwdesign.com/\n"
     ]
    },
    {
     "name": "stderr",
     "output_type": "stream",
     "text": [
      "2021-11-30 16:45:03 [scrapy.core.engine] DEBUG: Crawled (200) <GET https://divcompanies.com> (referer: None)\n",
      "2021-11-30 16:45:03 [scrapy.downloadermiddlewares.retry] DEBUG: Retrying <GET https://www.orthgraphics.com/> (failed 1 times): TCP connection timed out: 10060: A connection attempt failed because the connected party did not properly respond after a period of time, or established connection failed because connected host has failed to respond..\n"
     ]
    },
    {
     "name": "stdout",
     "output_type": "stream",
     "text": [
      "site_url https://divcompanies.com site_url_close ['https://divcompanies.com', 'https://commandcompanies.com/', 'https://ricoma.com']\n",
      "site_url_close[0] https://divcompanies.com\n",
      "ii 964 self.companies[ii] Diversified Companies\n",
      "out1 true iout1 799 url https://divcompanies.com\n",
      "companies[0] Journal Register Company this url https://divcompanies.com\n"
     ]
    },
    {
     "name": "stderr",
     "output_type": "stream",
     "text": [
      "2021-11-30 16:45:04 [scrapy.core.engine] DEBUG: Crawled (200) <GET http://www.mmldesign.com> (referer: None)\n",
      "2021-11-30 16:45:04 [scrapy.core.engine] DEBUG: Crawled (200) <GET http://www.jmdmfg.com/> (referer: None)\n",
      "2021-11-30 16:45:04 [scrapy.core.engine] DEBUG: Crawled (200) <GET http://megaart.us/> (referer: None)\n",
      "2021-11-30 16:45:04 [scrapy.core.engine] DEBUG: Crawled (200) <GET https://www.crpromos.com/> (referer: None)\n",
      "2021-11-30 16:45:04 [scrapy.downloadermiddlewares.redirect] DEBUG: Redirecting (302) to <GET https://integrity.net/> from <GET http://www.integrity.net>\n"
     ]
    },
    {
     "name": "stdout",
     "output_type": "stream",
     "text": [
      "site_url http://www.mmldesign.com site_url_close ['http://www.mmldesign.com', 'http://www.nemadesign.com', 'http://www.firmdesign.com']\n",
      "site_url_close[0] http://www.mmldesign.com\n",
      "ii 990 self.companies[ii] Mml Design\n",
      "out1 false iout2 99 url http://www.mmldesign.com\n",
      "companies[0] Madison Avenue Incorporated this url http://www.mmldesign.com\n",
      "site_url http://www.jmdmfg.com/ site_url_close ['http://www.jmdmfg.com/', 'http://www.dg3.com/', 'http://www.mdgpop.com/']\n",
      "site_url_close[0] http://www.jmdmfg.com/\n",
      "ii 988 self.companies[ii] JMD Manufacturing\n",
      "out1 false iout2 100 url http://www.jmdmfg.com/\n",
      "companies[0] American Spirit Corporation this url http://www.jmdmfg.com/\n",
      "site_url http://megaart.us/ site_url_close ['http://megaart.us/', 'https://mediprint.us/', 'http://bpsg.us/']\n",
      "site_url_close[0] http://megaart.us/\n",
      "ii 989 self.companies[ii] MegaArt\n",
      "out1 true iout1 800 url http://megaart.us/\n",
      "companies[0] Altium Healthcare this url http://megaart.us/\n"
     ]
    },
    {
     "name": "stderr",
     "output_type": "stream",
     "text": [
      "2021-11-30 16:45:06 [scrapy.core.engine] DEBUG: Crawled (200) <GET https://businessreviewservices.com/> (referer: None)\n"
     ]
    },
    {
     "name": "stdout",
     "output_type": "stream",
     "text": [
      "site_url https://www.crpromos.com/ site_url_close ['https://www.crpromos.com/', 'https://www.fwpromo.com/', 'https://www.promosuns.com']\n",
      "site_url_close[0] https://www.crpromos.com/\n",
      "ii 987 self.companies[ii] Marketing Innovations\n",
      "out1 true iout1 801 url https://www.crpromos.com/\n",
      "companies[0] Printable.com this url https://www.crpromos.com/\n"
     ]
    },
    {
     "name": "stderr",
     "output_type": "stream",
     "text": [
      "2021-11-30 16:45:07 [scrapy.core.engine] DEBUG: Crawled (403) <GET http://viewahead.com/> (referer: None)\n",
      "2021-11-30 16:45:07 [scrapy.core.engine] DEBUG: Crawled (200) <GET http://www.tmcmarketing.com/> (referer: None)\n",
      "2021-11-30 16:45:07 [scrapy.downloadermiddlewares.redirect] DEBUG: Redirecting (302) to <GET https://www.cloudninedesign.com/> from <GET http://www.cloudninedesign.com>\n",
      "2021-11-30 16:45:07 [scrapy.core.engine] DEBUG: Crawled (200) <GET https://marmakdesigns.com/> (referer: None)\n",
      "2021-11-30 16:45:07 [scrapy.spidermiddlewares.httperror] INFO: Ignoring response <403 http://viewahead.com/>: HTTP status code is not handled or not allowed\n"
     ]
    },
    {
     "name": "stdout",
     "output_type": "stream",
     "text": [
      "site_url https://businessreviewservices.com/ site_url_close ['https://www.businessreviewservices.com/', 'https://risebusinessservices.com/', 'http://cesservice.com']\n",
      "site_url_close[0] https://www.businessreviewservices.com/\n",
      "ii 974 self.companies[ii] Business Review Services\n",
      "out1 true iout1 802 url https://businessreviewservices.com/\n",
      "companies[0] After Dark Grafx this url https://businessreviewservices.com/\n"
     ]
    },
    {
     "name": "stderr",
     "output_type": "stream",
     "text": [
      "2021-11-30 16:45:07 [scrapy.core.engine] DEBUG: Crawled (200) <GET https://www.pettitnetwork.com/index.html> (referer: None)\n",
      "2021-11-30 16:45:07 [scrapy.core.engine] DEBUG: Crawled (200) <GET https://rethinklabel.com> (referer: None)\n"
     ]
    },
    {
     "name": "stdout",
     "output_type": "stream",
     "text": [
      "site_url http://www.tmcmarketing.com/ site_url_close ['http://www.tmcmarketing.com/', 'http://www.ctlmarketing.com', 'http://www.gttsmarketing.com']\n",
      "site_url_close[0] http://www.tmcmarketing.com/\n",
      "ii 998 self.companies[ii] TMC Marketing Communications\n",
      "out1 true iout1 803 url http://www.tmcmarketing.com/\n",
      "companies[0] EPS-Doublet this url http://www.tmcmarketing.com/\n",
      "site_url https://marmakdesigns.com/ site_url_close ['https://marmakdesigns.com/', 'https://acedesigns.com', 'http://afaqdesigns.com']\n",
      "site_url_close[0] https://marmakdesigns.com/\n",
      "ii 992 self.companies[ii] Marmak Designs\n",
      "out1 true iout1 804 url https://marmakdesigns.com/\n",
      "companies[0] Tapp Label this url https://marmakdesigns.com/\n",
      "site_url https://www.pettitnetwork.com/index.html site_url_close ['https://www.pettitnetwork.com/index.html', 'https://www.packnetwork.com/index.html', 'https://www.qal.com/index.html']\n",
      "site_url_close[0] https://www.pettitnetwork.com/index.html\n",
      "ii 997 self.companies[ii] Pettit Network\n",
      "out1 true iout1 805 url https://www.pettitnetwork.com/index.html\n",
      "companies[0] Cowboys & Indians this url https://www.pettitnetwork.com/index.html\n"
     ]
    },
    {
     "name": "stderr",
     "output_type": "stream",
     "text": [
      "2021-11-30 16:45:09 [scrapy.core.engine] DEBUG: Crawled (200) <GET https://centralcarolinaproducts.com/> (referer: None)\n",
      "2021-11-30 16:45:09 [scrapy.core.engine] DEBUG: Crawled (200) <GET https://eggdesign.com> (referer: None)\n",
      "2021-11-30 16:45:09 [scrapy.downloadermiddlewares.retry] DEBUG: Retrying <GET https://www.expresslabel.net> (failed 1 times): Connection was refused by other side: 10061: No connection could be made because the target machine actively refused it..\n"
     ]
    },
    {
     "name": "stdout",
     "output_type": "stream",
     "text": [
      "site_url https://rethinklabel.com site_url_close ['https://rethinklabel.com', 'https://thilabel.com/', 'https://greatlakeslabel.com']\n",
      "site_url_close[0] https://rethinklabel.com\n",
      "ii 994 self.companies[ii] ReThink Labeling\n",
      "out1 true iout1 806 url https://rethinklabel.com\n",
      "companies[0] Cryotech Deicing Technology this url https://rethinklabel.com\n"
     ]
    },
    {
     "name": "stderr",
     "output_type": "stream",
     "text": [
      "2021-11-30 16:45:09 [scrapy.core.engine] DEBUG: Crawled (200) <GET https://onesourcetec.com> (referer: None)\n",
      "2021-11-30 16:45:09 [scrapy.core.engine] DEBUG: Crawled (200) <GET https://www.rotcsolutions.com> (referer: None)\n"
     ]
    },
    {
     "name": "stdout",
     "output_type": "stream",
     "text": [
      "site_url https://centralcarolinaproducts.com/ site_url_close ['https://www.centralcarolinaproducts.com', 'https://universal-products.com/', 'http://efcoproducts.com']\n",
      "site_url_close[0] https://www.centralcarolinaproducts.com\n",
      "ii 986 self.companies[ii] Central Carolina Products\n",
      "out1 true iout1 807 url https://centralcarolinaproducts.com/\n",
      "companies[0] Prime Advertising & Design this url https://centralcarolinaproducts.com/\n"
     ]
    },
    {
     "name": "stderr",
     "output_type": "stream",
     "text": [
      "2021-11-30 16:45:10 [scrapy.core.engine] DEBUG: Crawled (200) <GET http://www.theartofcom.com/> (referer: None)\n",
      "2021-11-30 16:45:10 [scrapy.core.engine] DEBUG: Crawled (200) <GET https://identitysource.com/> (referer: None)\n"
     ]
    },
    {
     "name": "stdout",
     "output_type": "stream",
     "text": [
      "site_url https://eggdesign.com site_url_close ['https://eggdesign.com', 'https://lendesigns.com', 'https://acedesigns.com']\n",
      "site_url_close[0] https://eggdesign.com\n",
      "ii 995 self.companies[ii] Egg Design Partners\n",
      "out1 true iout1 808 url https://eggdesign.com\n",
      "companies[0] Direct Marketing Solutions this url https://eggdesign.com\n",
      "site_url https://onesourcetec.com site_url_close ['https://onesourcetec.com', 'http://sourceot.com', 'http://www.sourcetech.com']\n",
      "site_url_close[0] https://onesourcetec.com\n",
      "ii 1002 self.companies[ii] One Source Tec\n",
      "out1 false iout2 101 url https://onesourcetec.com\n",
      "companies[0] Suncraft Technologies this url https://onesourcetec.com\n"
     ]
    },
    {
     "name": "stderr",
     "output_type": "stream",
     "text": [
      "2021-11-30 16:45:11 [scrapy.core.engine] DEBUG: Crawled (200) <GET https://www.clarkandriggs.com/> (referer: None)\n",
      "2021-11-30 16:45:11 [scrapy.core.engine] DEBUG: Crawled (200) <GET https://integrity.net/> (referer: None)\n",
      "2021-11-30 16:45:11 [scrapy.core.engine] DEBUG: Crawled (200) <GET http://www.five-starprintwear.com> (referer: None)\n"
     ]
    },
    {
     "name": "stdout",
     "output_type": "stream",
     "text": [
      "site_url https://www.rotcsolutions.com site_url_close ['https://www.rotcsolutions.com', 'https://www.ctpsolutions.com/', 'https://www.evolvsolutions.com']\n",
      "site_url_close[0] https://www.rotcsolutions.com\n",
      "ii 1001 self.companies[ii] Reliable Office Technologies\n",
      "out1 true iout1 809 url https://www.rotcsolutions.com\n",
      "companies[0] MCS this url https://www.rotcsolutions.com\n",
      "site_url http://www.theartofcom.com/ site_url_close ['http://www.theartofcom.com/', 'http://www.teraco.com', 'http://www.thefabricator.com/']\n",
      "site_url_close[0] http://www.theartofcom.com/\n",
      "ii 1005 self.companies[ii] The ART of Communications\n",
      "out1 true iout1 810 url http://www.theartofcom.com/\n",
      "companies[0] ITW Labels this url http://www.theartofcom.com/\n"
     ]
    },
    {
     "name": "stderr",
     "output_type": "stream",
     "text": [
      "2021-11-30 16:45:12 [scrapy.downloadermiddlewares.retry] ERROR: Gave up retrying <GET http://www.accurateprinting.com> (failed 3 times): [<twisted.python.failure.Failure twisted.internet.error.ConnectionLost: Connection to the other side was lost in a non-clean fashion.>]\n",
      "2021-11-30 16:45:12 [scrapy.downloadermiddlewares.retry] ERROR: Gave up retrying <GET https://selecteng.com> (failed 3 times): Connection was refused by other side: 10061: No connection could be made because the target machine actively refused it..\n"
     ]
    },
    {
     "name": "stdout",
     "output_type": "stream",
     "text": [
      "site_url https://identitysource.com/ site_url_close ['https://identitysource.com/', 'https://printresource.com/', 'https://printsource360.com/']\n",
      "site_url_close[0] https://identitysource.com/\n",
      "ii 1000 self.companies[ii] The Identity Source\n",
      "out1 true iout1 811 url https://identitysource.com/\n",
      "companies[0] The Swenson Group this url https://identitysource.com/\n"
     ]
    },
    {
     "name": "stderr",
     "output_type": "stream",
     "text": [
      "2021-11-30 16:45:12 [scrapy.core.scraper] DEBUG: Scraped from <200 https://www.clarkandriggs.com/>\r\n",
      "{'Organization': 'Clark and Riggs',\n",
      " 'fulltext': 'nan',\n",
      " 'searchterm': 'digital printing',\n",
      " 'url': 'https://www.clarkandriggs.com/'}\n"
     ]
    },
    {
     "name": "stdout",
     "output_type": "stream",
     "text": [
      "site_url https://www.clarkandriggs.com/ site_url_close ['https://www.clarkandriggs.com/', 'https://www.fastradius.com/', 'https://www.cds.com/']\n",
      "site_url_close[0] https://www.clarkandriggs.com/\n",
      "ii 1003 self.companies[ii] Clark and Riggs\n",
      "yielding item digital printing\n",
      "site_url https://integrity.net/ site_url_close ['http://www.integrity.net', 'http://infinitegs.net/', 'https://sigprint.net/']\n",
      "site_url_close[0] http://www.integrity.net\n",
      "ii 991 self.companies[ii] Data Integrity\n",
      "out1 true iout1 812 url https://integrity.net/\n",
      "companies[0] Chax this url https://integrity.net/\n"
     ]
    },
    {
     "name": "stderr",
     "output_type": "stream",
     "text": [
      "2021-11-30 16:45:13 [scrapy.core.engine] DEBUG: Crawled (200) <GET https://www.typehaus.com> (referer: None)\n",
      "2021-11-30 16:45:13 [scrapy.core.scraper] ERROR: Error downloading <GET http://www.accurateprinting.com>\n",
      "Traceback (most recent call last):\n",
      "  File \"C:\\Users\\MStopa\\AppData\\Local\\Continuum\\anaconda3\\envs\\webscrape\\lib\\site-packages\\scrapy\\core\\downloader\\middleware.py\", line 44, in process_request\n",
      "    return (yield download_func(request=request, spider=spider))\n",
      "twisted.web._newclient.ResponseNeverReceived: [<twisted.python.failure.Failure twisted.internet.error.ConnectionLost: Connection to the other side was lost in a non-clean fashion.>]\n",
      "2021-11-30 16:45:13 [scrapy.core.scraper] ERROR: Error downloading <GET https://selecteng.com>\n",
      "Traceback (most recent call last):\n",
      "  File \"C:\\Users\\MStopa\\AppData\\Local\\Continuum\\anaconda3\\envs\\webscrape\\lib\\site-packages\\scrapy\\core\\downloader\\middleware.py\", line 44, in process_request\n",
      "    return (yield download_func(request=request, spider=spider))\n",
      "twisted.internet.error.ConnectionRefusedError: Connection was refused by other side: 10061: No connection could be made because the target machine actively refused it..\n"
     ]
    },
    {
     "name": "stdout",
     "output_type": "stream",
     "text": [
      "site_url http://www.five-starprintwear.com site_url_close ['http://www.five-starprintwear.com', 'https://www.fastprinters.com/', 'https://www.fineprint.com']\n",
      "site_url_close[0] http://www.five-starprintwear.com\n",
      "ii 1006 self.companies[ii] Five-Star Printwear\n",
      "out1 true iout1 813 url http://www.five-starprintwear.com\n",
      "companies[0] 3-Dimensional Services Group this url http://www.five-starprintwear.com\n",
      "out1 true iout1 814 url https://www.clarkandriggs.com/\n",
      "companies[0] INX Digital this url https://www.clarkandriggs.com/\n"
     ]
    },
    {
     "name": "stderr",
     "output_type": "stream",
     "text": [
      "2021-11-30 16:45:14 [scrapy.core.engine] DEBUG: Crawled (200) <GET https://www.cloudninedesign.com/> (referer: None)\n"
     ]
    },
    {
     "name": "stdout",
     "output_type": "stream",
     "text": [
      "site_url https://www.typehaus.com site_url_close ['https://www.typehaus.com', 'https://www.stpress.com', 'https://www.paxis.com']\n",
      "site_url_close[0] https://www.typehaus.com\n",
      "ii 1004 self.companies[ii] TypeHaus\n",
      "out1 true iout1 815 url https://www.typehaus.com\n",
      "companies[0] CompuMail this url https://www.typehaus.com\n"
     ]
    },
    {
     "name": "stderr",
     "output_type": "stream",
     "text": [
      "2021-11-30 16:45:14 [scrapy.downloadermiddlewares.retry] ERROR: Gave up retrying <GET https://www.printheadquarters.com> (failed 3 times): [<twisted.python.failure.Failure twisted.internet.error.ConnectionLost: Connection to the other side was lost in a non-clean fashion: Connection lost.>]\n"
     ]
    },
    {
     "name": "stdout",
     "output_type": "stream",
     "text": [
      "site_url https://www.cloudninedesign.com/ site_url_close ['http://www.cloudninedesign.com', 'https://www.corwindesign.com/', 'https://www.lookintodesign.com/']\n",
      "site_url_close[0] http://www.cloudninedesign.com\n",
      "ii 993 self.companies[ii] Cloud Nine Design\n",
      "out1 true iout1 816 url https://www.cloudninedesign.com/\n",
      "companies[0] Data Service Solutions this url https://www.cloudninedesign.com/\n"
     ]
    },
    {
     "name": "stderr",
     "output_type": "stream",
     "text": [
      "2021-11-30 16:45:14 [scrapy.core.scraper] ERROR: Error downloading <GET https://www.printheadquarters.com>\n",
      "Traceback (most recent call last):\n",
      "  File \"C:\\Users\\MStopa\\AppData\\Local\\Continuum\\anaconda3\\envs\\webscrape\\lib\\site-packages\\scrapy\\core\\downloader\\middleware.py\", line 44, in process_request\n",
      "    return (yield download_func(request=request, spider=spider))\n",
      "twisted.web._newclient.ResponseNeverReceived: [<twisted.python.failure.Failure twisted.internet.error.ConnectionLost: Connection to the other side was lost in a non-clean fashion: Connection lost.>]\n",
      "2021-11-30 16:45:16 [scrapy.extensions.logstats] INFO: Crawled 954 pages (at 99 pages/min), scraped 81 items (at 8 items/min)\n",
      "2021-11-30 16:45:17 [scrapy.downloadermiddlewares.retry] DEBUG: Retrying <GET https://www.expresslabel.net> (failed 2 times): Connection was refused by other side: 10061: No connection could be made because the target machine actively refused it..\n",
      "2021-11-30 16:45:20 [scrapy.downloadermiddlewares.retry] DEBUG: Retrying <GET http://www.findrefined.com> (failed 1 times): DNS lookup failed: no results for hostname lookup: www.findrefined.com.\n",
      "2021-11-30 16:45:21 [scrapy.core.engine] DEBUG: Crawled (200) <GET https://www.paragonpubs.com/> (referer: None)\n",
      "2021-11-30 16:45:21 [scrapy.downloadermiddlewares.redirect] DEBUG: Redirecting (301) to <GET https://www.lexmark.com/> from <GET http://www.lexmark.com>\n",
      "2021-11-30 16:45:21 [scrapy.core.engine] DEBUG: Crawled (200) <GET https://www.zebra.com/ap/en.html> (referer: None)\n"
     ]
    },
    {
     "name": "stdout",
     "output_type": "stream",
     "text": [
      "site_url https://www.paragonpubs.com/ site_url_close ['https://www.paragonpubs.com/', 'https://www.paynepub.com/', 'https://www.gagepub.com/']\n",
      "site_url_close[0] https://www.paragonpubs.com/\n",
      "ii 1008 self.companies[ii] Paragon Publications\n",
      "out1 true iout1 817 url https://www.paragonpubs.com/\n",
      "companies[0] QPSI this url https://www.paragonpubs.com/\n"
     ]
    },
    {
     "name": "stderr",
     "output_type": "stream",
     "text": [
      "2021-11-30 16:45:22 [scrapy.downloadermiddlewares.redirect] DEBUG: Redirecting (301) to <GET https://www.resourcelabel.com/> from <GET http://www.resourcelabel.com>\n",
      "2021-11-30 16:45:22 [scrapy.downloadermiddlewares.redirect] DEBUG: Redirecting (301) to <GET https://www.markimicrowave.com/> from <GET http://www.markimicrowave.com>\n",
      "2021-11-30 16:45:22 [scrapy.downloadermiddlewares.redirect] DEBUG: Redirecting (301) to <GET https://www.rcbi.org/> from <GET http://www.rcbi.org/>\n"
     ]
    },
    {
     "name": "stdout",
     "output_type": "stream",
     "text": [
      "site_url https://www.zebra.com/ap/en.html site_url_close ['https://www.zebra.com/ap/en.html', 'https://www.qal.com/index.html', 'http://www.bay-graphics.com/print.html']\n",
      "site_url_close[0] https://www.zebra.com/ap/en.html\n",
      "ii 1010 self.companies[ii] Zebra Technologies\n",
      "out1 true iout1 818 url https://www.zebra.com/ap/en.html\n",
      "companies[0] Big Rhino this url https://www.zebra.com/ap/en.html\n"
     ]
    },
    {
     "name": "stderr",
     "output_type": "stream",
     "text": [
      "2021-11-30 16:45:22 [scrapy.downloadermiddlewares.redirect] DEBUG: Redirecting (301) to <GET https://www.quadmedical.com/> from <GET http://www.quadmedical.com>\n",
      "2021-11-30 16:45:22 [scrapy.core.engine] DEBUG: Crawled (200) <GET https://www.arrowheadcorp.com> (referer: None)\n",
      "2021-11-30 16:45:22 [scrapy.core.engine] DEBUG: Crawled (200) <GET https://www.archetypalgallery.com/> (referer: None)\n",
      "2021-11-30 16:45:22 [scrapy.downloadermiddlewares.redirect] DEBUG: Redirecting (301) to <GET https://www.lexmark.com/en_us.html> from <GET https://www.lexmark.com/>\n",
      "2021-11-30 16:45:22 [scrapy.core.engine] DEBUG: Crawled (200) <GET https://www.arrowmailservice.com/> (referer: None)\n",
      "2021-11-30 16:45:22 [scrapy.downloadermiddlewares.redirect] DEBUG: Redirecting (301) to <GET https://www.worldwise.com/> from <GET http://www.worldwise.com>\n"
     ]
    },
    {
     "name": "stdout",
     "output_type": "stream",
     "text": [
      "site_url https://www.arrowheadcorp.com site_url_close ['https://www.arrowheadcorp.com', 'https://www.farheap.com', 'https://www.thedotcorp.com']\n",
      "site_url_close[0] https://www.arrowheadcorp.com\n",
      "ii 1017 self.companies[ii] Arrowhead\n",
      "out1 false iout2 102 url https://www.arrowheadcorp.com\n",
      "companies[0] MCR this url https://www.arrowheadcorp.com\n"
     ]
    },
    {
     "name": "stderr",
     "output_type": "stream",
     "text": [
      "2021-11-30 16:45:23 [scrapy.downloadermiddlewares.retry] DEBUG: Retrying <GET https://www.stratasysdirect.com/> (failed 1 times): [<twisted.python.failure.Failure twisted.internet.error.ConnectionLost: Connection to the other side was lost in a non-clean fashion: Connection lost.>]\n"
     ]
    },
    {
     "name": "stdout",
     "output_type": "stream",
     "text": [
      "site_url https://www.archetypalgallery.com/ site_url_close ['https://www.archetypalgallery.com/', 'https://www.archetype360.com/', 'https://www.mhanksgallery.com/']\n",
      "site_url_close[0] https://www.archetypalgallery.com/\n",
      "ii 1009 self.companies[ii] ARCHETYPAL GALLERY\n",
      "out1 true iout1 819 url https://www.archetypalgallery.com/\n",
      "companies[0] Cigar Aficionado this url https://www.archetypalgallery.com/\n",
      "site_url https://www.arrowmailservice.com/ site_url_close ['https://www.arrowmailservice.com/', 'https://www.townemailer.com/', 'http://www.mojaservices.com/']\n",
      "site_url_close[0] https://www.arrowmailservice.com/\n",
      "ii 1019 self.companies[ii] Arrowmail\n",
      "out1 true iout1 820 url https://www.arrowmailservice.com/\n",
      "companies[0] Printing Management Associates this url https://www.arrowmailservice.com/\n"
     ]
    },
    {
     "name": "stderr",
     "output_type": "stream",
     "text": [
      "2021-11-30 16:45:24 [scrapy.core.engine] DEBUG: Crawled (200) <GET https://www.resourcelabel.com/> (referer: None)\n",
      "2021-11-30 16:45:24 [scrapy.core.engine] DEBUG: Crawled (200) <GET https://www.worldwise.com/> (referer: None)\n",
      "2021-11-30 16:45:24 [scrapy.core.engine] DEBUG: Crawled (200) <GET https://www.quadmedical.com/> (referer: None)\n",
      "2021-11-30 16:45:24 [scrapy.downloadermiddlewares.retry] DEBUG: Retrying <GET https://www.orthgraphics.com/> (failed 2 times): TCP connection timed out: 10060: A connection attempt failed because the connected party did not properly respond after a period of time, or established connection failed because connected host has failed to respond..\n"
     ]
    },
    {
     "name": "stdout",
     "output_type": "stream",
     "text": [
      "site_url https://www.resourcelabel.com/ site_url_close ['http://www.resourcelabel.com', 'https://www.reliancelabel.com/', 'https://www.source4.com/']\n",
      "site_url_close[0] http://www.resourcelabel.com\n",
      "ii 1013 self.companies[ii] Resource Label Group\n",
      "out1 true iout1 821 url https://www.resourcelabel.com/\n",
      "companies[0] Designer Checks this url https://www.resourcelabel.com/\n",
      "site_url https://www.worldwise.com/ site_url_close ['http://www.worldwise.com', 'https://www.ediwise.com/', 'https://www.worlddivision.com/']\n",
      "site_url_close[0] http://www.worldwise.com\n",
      "ii 1011 self.companies[ii] Worldwise\n",
      "out1 true iout1 822 url https://www.worldwise.com/\n",
      "companies[0] ABI Digital Solutions this url https://www.worldwise.com/\n",
      "site_url https://www.quadmedical.com/ site_url_close ['http://www.quadmedical.com', 'https://www.quezmedia.com/', 'http://www.handimedical.com']\n",
      "site_url_close[0] http://www.quadmedical.com\n",
      "ii 1016 self.companies[ii] QuadMed\n",
      "out1 true iout1 823 url https://www.quadmedical.com/\n",
      "companies[0] University Sports Publications this url https://www.quadmedical.com/\n"
     ]
    },
    {
     "name": "stderr",
     "output_type": "stream",
     "text": [
      "2021-11-30 16:45:25 [scrapy.downloadermiddlewares.redirect] DEBUG: Redirecting (301) to <GET https://www.markimicrowave.com/home/> from <GET https://www.markimicrowave.com/>\n",
      "2021-11-30 16:45:26 [scrapy.core.engine] DEBUG: Crawled (200) <GET https://www.rcbi.org/> (referer: None)\n",
      "2021-11-30 16:45:26 [scrapy.downloadermiddlewares.retry] DEBUG: Retrying <GET https://www.stratasysdirect.com/> (failed 2 times): [<twisted.python.failure.Failure twisted.internet.error.ConnectionLost: Connection to the other side was lost in a non-clean fashion: Connection lost.>]\n"
     ]
    },
    {
     "name": "stdout",
     "output_type": "stream",
     "text": [
      "site_url https://www.rcbi.org/ site_url_close ['http://www.rcbi.org/', 'http://www.socalbio.org/', 'http://www.watbiz.org/']\n",
      "site_url_close[0] http://www.rcbi.org/\n",
      "ii 1014 self.companies[ii] RCBI\n",
      "out1 true iout1 824 url https://www.rcbi.org/\n",
      "companies[0] PRINTSouth this url https://www.rcbi.org/\n"
     ]
    },
    {
     "name": "stderr",
     "output_type": "stream",
     "text": [
      "2021-11-30 16:45:27 [scrapy.core.engine] DEBUG: Crawled (200) <GET https://www.lexmark.com/en_us.html> (referer: None)\n",
      "2021-11-30 16:45:28 [scrapy.downloadermiddlewares.retry] ERROR: Gave up retrying <GET https://www.expresslabel.net> (failed 3 times): Connection was refused by other side: 10061: No connection could be made because the target machine actively refused it..\n",
      "2021-11-30 16:45:28 [scrapy.core.scraper] ERROR: Error downloading <GET https://www.expresslabel.net>\n",
      "Traceback (most recent call last):\n",
      "  File \"C:\\Users\\MStopa\\AppData\\Local\\Continuum\\anaconda3\\envs\\webscrape\\lib\\site-packages\\scrapy\\core\\downloader\\middleware.py\", line 44, in process_request\n",
      "    return (yield download_func(request=request, spider=spider))\n",
      "twisted.internet.error.ConnectionRefusedError: Connection was refused by other side: 10061: No connection could be made because the target machine actively refused it..\n"
     ]
    },
    {
     "name": "stdout",
     "output_type": "stream",
     "text": [
      "site_url https://www.lexmark.com/en_us.html site_url_close ['https://www.zebra.com/ap/en.html', 'http://www.lexmark.com', 'http://www.slidemaster.com/home.html']\n",
      "site_url_close[0] https://www.zebra.com/ap/en.html\n",
      "ii 1010 self.companies[ii] Zebra Technologies\n",
      "out1 true iout1 825 url https://www.lexmark.com/en_us.html\n",
      "companies[0] XChange this url https://www.lexmark.com/en_us.html\n"
     ]
    },
    {
     "name": "stderr",
     "output_type": "stream",
     "text": [
      "2021-11-30 16:45:33 [scrapy.core.engine] DEBUG: Crawled (200) <GET https://www.markimicrowave.com/home/> (referer: None)\n",
      "2021-11-30 16:45:33 [scrapy.downloadermiddlewares.retry] DEBUG: Retrying <GET http://www.findrefined.com> (failed 2 times): DNS lookup failed: no results for hostname lookup: www.findrefined.com.\n"
     ]
    },
    {
     "name": "stdout",
     "output_type": "stream",
     "text": [
      "site_url https://www.markimicrowave.com/home/ site_url_close ['http://www.markimicrowave.com', 'https://www.glfipower.com/home/', 'https://www.marshmicrosystems.com/']\n",
      "site_url_close[0] http://www.markimicrowave.com\n",
      "ii 1015 self.companies[ii] Marki Microwave\n",
      "out1 true iout1 826 url https://www.markimicrowave.com/home/\n",
      "companies[0] Custom Tees Now this url https://www.markimicrowave.com/home/\n"
     ]
    },
    {
     "name": "stderr",
     "output_type": "stream",
     "text": [
      "2021-11-30 16:45:33 [scrapy.downloadermiddlewares.redirect] DEBUG: Redirecting (301) to <GET https://www.magnetstreet.com/> from <GET http://www.magnetstreet.com>\n",
      "2021-11-30 16:45:33 [scrapy.downloadermiddlewares.redirect] DEBUG: Redirecting (301) to <GET https://www.transferexpress.com/> from <GET http://transferexpress.com>\n",
      "2021-11-30 16:45:33 [scrapy.downloadermiddlewares.redirect] DEBUG: Redirecting (302) to <GET http://www.adamsgolf.com/AGTL/6.0000/Index.dtm?otsid=25237> from <GET http://www.adamsgolf.com>\n",
      "2021-11-30 16:45:34 [scrapy.downloadermiddlewares.redirect] DEBUG: Redirecting (302) to <GET https://www.adamsgolf.com/AGTL/6.0000/Index.dtm?otsid=25237> from <GET http://www.adamsgolf.com/AGTL/6.0000/Index.dtm?otsid=25237>\n",
      "2021-11-30 16:45:34 [scrapy.core.engine] DEBUG: Crawled (200) <GET https://www.media-brokers.com/> (referer: None)\n",
      "2021-11-30 16:45:34 [scrapy.downloadermiddlewares.redirect] DEBUG: Redirecting (301) to <GET https://cimquest-inc.com/> from <GET http://www.cimquest-inc.com/>\n",
      "2021-11-30 16:45:34 [scrapy.downloadermiddlewares.retry] ERROR: Gave up retrying <GET https://www.stratasysdirect.com/> (failed 3 times): [<twisted.python.failure.Failure twisted.internet.error.ConnectionLost: Connection to the other side was lost in a non-clean fashion: Connection lost.>]\n",
      "2021-11-30 16:45:34 [scrapy.core.scraper] ERROR: Spider error processing <GET https://www.media-brokers.com/> (referer: None)\n",
      "Traceback (most recent call last):\n",
      "  File \"C:\\Users\\MStopa\\AppData\\Local\\Continuum\\anaconda3\\envs\\webscrape\\lib\\site-packages\\scrapy\\utils\\defer.py\", line 120, in iter_errback\n",
      "    yield next(it)\n",
      "  File \"C:\\Users\\MStopa\\AppData\\Local\\Continuum\\anaconda3\\envs\\webscrape\\lib\\site-packages\\scrapy\\utils\\python.py\", line 346, in __next__\n",
      "    return next(self.data)\n",
      "  File \"C:\\Users\\MStopa\\AppData\\Local\\Continuum\\anaconda3\\envs\\webscrape\\lib\\site-packages\\scrapy\\utils\\python.py\", line 346, in __next__\n",
      "    return next(self.data)\n",
      "  File \"C:\\Users\\MStopa\\AppData\\Local\\Continuum\\anaconda3\\envs\\webscrape\\lib\\site-packages\\scrapy\\core\\spidermw.py\", line 64, in _evaluate_iterable\n",
      "    for r in iterable:\n",
      "  File \"C:\\Users\\MStopa\\AppData\\Local\\Continuum\\anaconda3\\envs\\webscrape\\lib\\site-packages\\scrapy\\spidermiddlewares\\offsite.py\", line 29, in process_spider_output\n",
      "    for x in result:\n",
      "  File \"C:\\Users\\MStopa\\AppData\\Local\\Continuum\\anaconda3\\envs\\webscrape\\lib\\site-packages\\scrapy\\core\\spidermw.py\", line 64, in _evaluate_iterable\n",
      "    for r in iterable:\n",
      "  File \"C:\\Users\\MStopa\\AppData\\Local\\Continuum\\anaconda3\\envs\\webscrape\\lib\\site-packages\\scrapy\\spidermiddlewares\\referer.py\", line 340, in <genexpr>\n",
      "    return (_set_referer(r) for r in result or ())\n",
      "  File \"C:\\Users\\MStopa\\AppData\\Local\\Continuum\\anaconda3\\envs\\webscrape\\lib\\site-packages\\scrapy\\core\\spidermw.py\", line 64, in _evaluate_iterable\n",
      "    for r in iterable:\n",
      "  File \"C:\\Users\\MStopa\\AppData\\Local\\Continuum\\anaconda3\\envs\\webscrape\\lib\\site-packages\\scrapy\\spidermiddlewares\\urllength.py\", line 37, in <genexpr>\n",
      "    return (r for r in result or () if _filter(r))\n",
      "  File \"C:\\Users\\MStopa\\AppData\\Local\\Continuum\\anaconda3\\envs\\webscrape\\lib\\site-packages\\scrapy\\core\\spidermw.py\", line 64, in _evaluate_iterable\n",
      "    for r in iterable:\n",
      "  File \"C:\\Users\\MStopa\\AppData\\Local\\Continuum\\anaconda3\\envs\\webscrape\\lib\\site-packages\\scrapy\\spidermiddlewares\\depth.py\", line 58, in <genexpr>\n",
      "    return (r for r in result or () if _filter(r))\n",
      "  File \"C:\\Users\\MStopa\\AppData\\Local\\Continuum\\anaconda3\\envs\\webscrape\\lib\\site-packages\\scrapy\\core\\spidermw.py\", line 64, in _evaluate_iterable\n",
      "    for r in iterable:\n",
      "  File \"<ipython-input-9-10a30e00531c>\", line 132, in parse\n",
      "    file1.write(out2 + '\\n')\n",
      "  File \"C:\\Users\\MStopa\\AppData\\Local\\Continuum\\anaconda3\\envs\\webscrape\\lib\\encodings\\cp1252.py\", line 19, in encode\n",
      "    return codecs.charmap_encode(input,self.errors,encoding_table)[0]\n",
      "UnicodeEncodeError: 'charmap' codec can't encode characters in position 6885-6886: character maps to <undefined>\n",
      "2021-11-30 16:45:34 [scrapy.core.engine] DEBUG: Crawled (200) <GET https://www.doveprintsolutions.com/> (referer: None)\n",
      "2021-11-30 16:45:34 [scrapy.downloadermiddlewares.retry] ERROR: Gave up retrying <GET http://www.findrefined.com> (failed 3 times): DNS lookup failed: no results for hostname lookup: www.findrefined.com.\n",
      "2021-11-30 16:45:34 [scrapy.core.scraper] ERROR: Error downloading <GET https://www.stratasysdirect.com/>\n",
      "Traceback (most recent call last):\n",
      "  File \"C:\\Users\\MStopa\\AppData\\Local\\Continuum\\anaconda3\\envs\\webscrape\\lib\\site-packages\\scrapy\\core\\downloader\\middleware.py\", line 44, in process_request\n",
      "    return (yield download_func(request=request, spider=spider))\n",
      "twisted.web._newclient.ResponseNeverReceived: [<twisted.python.failure.Failure twisted.internet.error.ConnectionLost: Connection to the other side was lost in a non-clean fashion: Connection lost.>]\n"
     ]
    },
    {
     "name": "stdout",
     "output_type": "stream",
     "text": [
      "site_url https://www.media-brokers.com/ site_url_close ['https://www.media-brokers.com/', 'https://www.tomedes.com/', 'https://www.artbrokersinc.com']\n",
      "site_url_close[0] https://www.media-brokers.com/\n",
      "ii 1023 self.companies[ii] MBI\n",
      "out1 true iout1 827 url https://www.media-brokers.com/\n"
     ]
    },
    {
     "name": "stderr",
     "output_type": "stream",
     "text": [
      "2021-11-30 16:45:35 [scrapy.core.scraper] ERROR: Error downloading <GET http://www.findrefined.com>\n",
      "Traceback (most recent call last):\n",
      "  File \"C:\\Users\\MStopa\\AppData\\Local\\Continuum\\anaconda3\\envs\\webscrape\\lib\\site-packages\\twisted\\internet\\defer.py\", line 1416, in _inlineCallbacks\n",
      "    result = result.throwExceptionIntoGenerator(g)\n",
      "  File \"C:\\Users\\MStopa\\AppData\\Local\\Continuum\\anaconda3\\envs\\webscrape\\lib\\site-packages\\twisted\\python\\failure.py\", line 512, in throwExceptionIntoGenerator\n",
      "    return g.throw(self.type, self.value, self.tb)\n",
      "  File \"C:\\Users\\MStopa\\AppData\\Local\\Continuum\\anaconda3\\envs\\webscrape\\lib\\site-packages\\scrapy\\core\\downloader\\middleware.py\", line 44, in process_request\n",
      "    return (yield download_func(request=request, spider=spider))\n",
      "  File \"C:\\Users\\MStopa\\AppData\\Local\\Continuum\\anaconda3\\envs\\webscrape\\lib\\site-packages\\twisted\\internet\\defer.py\", line 654, in _runCallbacks\n",
      "    current.result = callback(current.result, *args, **kw)\n",
      "  File \"C:\\Users\\MStopa\\AppData\\Local\\Continuum\\anaconda3\\envs\\webscrape\\lib\\site-packages\\twisted\\internet\\endpoints.py\", line 982, in startConnectionAttempts\n",
      "    \"no results for hostname lookup: {}\".format(self._hostStr)\n",
      "twisted.internet.error.DNSLookupError: DNS lookup failed: no results for hostname lookup: www.findrefined.com.\n",
      "2021-11-30 16:45:35 [scrapy.downloadermiddlewares.redirect] DEBUG: Redirecting (301) to <GET https://jvisusallc.com/> from <GET http://jvisusallc.com>\n",
      "2021-11-30 16:45:35 [scrapy.core.engine] DEBUG: Crawled (400) <GET https://coastalbusiness.com> (referer: None)\n"
     ]
    },
    {
     "name": "stdout",
     "output_type": "stream",
     "text": [
      "site_url https://www.doveprintsolutions.com/ site_url_close ['https://www.doveprintsolutions.com/', 'http://www.printsolution.com/', 'https://www.onlineprintsolutions.com']\n",
      "site_url_close[0] https://www.doveprintsolutions.com/\n",
      "ii 1024 self.companies[ii] Dove Print Solutions\n",
      "out1 true iout1 828 url https://www.doveprintsolutions.com/\n",
      "companies[0] Premium Color Group this url https://www.doveprintsolutions.com/\n"
     ]
    },
    {
     "name": "stderr",
     "output_type": "stream",
     "text": [
      "2021-11-30 16:45:35 [scrapy.downloadermiddlewares.redirect] DEBUG: Redirecting (301) to <GET https://www.textcontrol.com/> from <GET http://www.textcontrol.com>\n",
      "2021-11-30 16:45:35 [scrapy.spidermiddlewares.httperror] INFO: Ignoring response <400 https://coastalbusiness.com>: HTTP status code is not handled or not allowed\n",
      "2021-11-30 16:45:35 [scrapy.downloadermiddlewares.redirect] DEBUG: Redirecting (302) to <GET https://sourceot.com/> from <GET http://sourceot.com>\n",
      "2021-11-30 16:45:35 [scrapy.core.engine] DEBUG: Crawled (200) <GET https://www.psprint.com/> (referer: None)\n",
      "2021-11-30 16:45:35 [scrapy.core.engine] DEBUG: Crawled (200) <GET https://www.transferexpress.com/> (referer: None)\n",
      "2021-11-30 16:45:35 [scrapy.core.engine] DEBUG: Crawled (200) <GET https://oasis.tech/> (referer: None)\n",
      "2021-11-30 16:45:36 [scrapy.core.engine] DEBUG: Crawled (200) <GET https://www.mm4solutions.com/> (referer: None)\n",
      "2021-11-30 16:45:36 [scrapy.core.engine] DEBUG: Crawled (200) <GET https://www.magnetstreet.com/> (referer: None)\n"
     ]
    },
    {
     "name": "stdout",
     "output_type": "stream",
     "text": [
      "site_url https://www.psprint.com/ site_url_close ['https://www.psprint.com/', 'https://www.sunprint.com/', 'https://www.padprint.com/']\n",
      "site_url_close[0] https://www.psprint.com/\n",
      "ii 1031 self.companies[ii] PsPrint\n",
      "out1 true iout1 829 url https://www.psprint.com/\n",
      "companies[0] Corwin Design & Graphics this url https://www.psprint.com/\n",
      "site_url https://www.transferexpress.com/ site_url_close ['http://transferexpress.com', 'https://www.artifexpress.com/', 'https://www.tigerpress.com/']\n",
      "site_url_close[0] http://transferexpress.com\n",
      "ii 1022 self.companies[ii] Stahls' Transfer Express\n",
      "out1 true iout1 830 url https://www.transferexpress.com/\n",
      "companies[0] Sticker Guy this url https://www.transferexpress.com/\n"
     ]
    },
    {
     "name": "stderr",
     "output_type": "stream",
     "text": [
      "2021-11-30 16:45:37 [scrapy.core.engine] DEBUG: Crawled (200) <GET https://www.plasticprinters.com> (referer: None)\n",
      "2021-11-30 16:45:37 [scrapy.downloadermiddlewares.redirect] DEBUG: Redirecting (301) to <GET https://www.mkmjewelry.com/> from <GET http://www.mkmjewelry.com/>\n"
     ]
    },
    {
     "name": "stdout",
     "output_type": "stream",
     "text": [
      "site_url https://oasis.tech/ site_url_close ['https://oasis.tech/', 'https://skyphos.tech', 'https://absit.com/']\n",
      "site_url_close[0] https://oasis.tech/\n",
      "ii 1029 self.companies[ii] Oasis Technologies\n",
      "out1 true iout1 831 url https://oasis.tech/\n",
      "companies[0] CD Solutions this url https://oasis.tech/\n",
      "site_url https://www.mm4solutions.com/ site_url_close ['https://www.mm4solutions.com/', 'https://www.amsolutionswi.com/', 'https://www.ctpsolutions.com/']\n",
      "site_url_close[0] https://www.mm4solutions.com/\n",
      "ii 1028 self.companies[ii] Millennium Marketing Solutions\n",
      "out1 true iout1 832 url https://www.mm4solutions.com/\n",
      "companies[0] Quality Support this url https://www.mm4solutions.com/\n"
     ]
    },
    {
     "name": "stderr",
     "output_type": "stream",
     "text": [
      "2021-11-30 16:45:38 [scrapy.core.downloader.tls] WARNING: Remote certificate is not valid for hostname \"www.2gms.com\"; VerificationError(errors=[DNSMismatch(mismatched_id=DNS_ID(hostname=b'www.2gms.com'))])\n"
     ]
    },
    {
     "name": "stdout",
     "output_type": "stream",
     "text": [
      "site_url https://www.magnetstreet.com/ site_url_close ['http://www.magnetstreet.com', 'https://www.imagecutoutstore.com/', 'https://www.marktrece.com/']\n",
      "site_url_close[0] http://www.magnetstreet.com\n",
      "ii 1020 self.companies[ii] MagnetStreet\n",
      "out1 true iout1 833 url https://www.magnetstreet.com/\n",
      "companies[0] Fluorotherm Polymers this url https://www.magnetstreet.com/\n"
     ]
    },
    {
     "name": "stderr",
     "output_type": "stream",
     "text": [
      "2021-11-30 16:45:38 [scrapy.core.engine] DEBUG: Crawled (200) <GET https://cimquest-inc.com/> (referer: None)\n",
      "2021-11-30 16:45:38 [scrapy.core.engine] DEBUG: Crawled (200) <GET https://www.goex.com/> (referer: None)\n",
      "2021-11-30 16:45:38 [scrapy.core.engine] DEBUG: Crawled (404) <GET https://www.2gms.com> (referer: None)\n",
      "2021-11-30 16:45:38 [scrapy.core.engine] DEBUG: Crawled (200) <GET https://psglabels.com/> (referer: None)\n"
     ]
    },
    {
     "name": "stdout",
     "output_type": "stream",
     "text": [
      "site_url https://www.plasticprinters.com site_url_close ['https://www.plasticprinters.com', 'https://www.fastprinters.com/', 'https://www.positiveprinters.com']\n",
      "site_url_close[0] https://www.plasticprinters.com\n",
      "ii 1032 self.companies[ii] Plastic Printers\n",
      "out1 true iout1 834 url https://www.plasticprinters.com\n",
      "companies[0] TouchMark this url https://www.plasticprinters.com\n"
     ]
    },
    {
     "name": "stderr",
     "output_type": "stream",
     "text": [
      "2021-11-30 16:45:39 [scrapy.spidermiddlewares.httperror] INFO: Ignoring response <404 https://www.2gms.com>: HTTP status code is not handled or not allowed\n"
     ]
    },
    {
     "name": "stdout",
     "output_type": "stream",
     "text": [
      "site_url https://cimquest-inc.com/ site_url_close ['http://www.cimquest-inc.com/', 'https://crt-inc.com/', 'http://reset-inc.com']\n",
      "site_url_close[0] http://www.cimquest-inc.com/\n",
      "ii 1025 self.companies[ii] Cimquest Manufacturing Solutions\n",
      "out1 true iout1 835 url https://cimquest-inc.com/\n",
      "companies[0] Green Field Paper this url https://cimquest-inc.com/\n",
      "site_url https://www.goex.com/ site_url_close ['https://www.goex.com/', 'https://www.gsghome.com/', 'https://www.xerox.com/']\n",
      "site_url_close[0] https://www.goex.com/\n",
      "ii 1037 self.companies[ii] GOEX\n",
      "out1 true iout1 836 url https://www.goex.com/\n",
      "companies[0] BINDERYONICS this url https://www.goex.com/\n"
     ]
    },
    {
     "name": "stderr",
     "output_type": "stream",
     "text": [
      "2021-11-30 16:45:40 [scrapy.downloadermiddlewares.redirect] DEBUG: Redirecting (301) to <GET https://jvis.us/> from <GET https://jvisusallc.com/>\n",
      "2021-11-30 16:45:40 [scrapy.core.engine] DEBUG: Crawled (200) <GET https://www.neuralog.com/> (referer: None)\n"
     ]
    },
    {
     "name": "stdout",
     "output_type": "stream",
     "text": [
      "site_url https://psglabels.com/ site_url_close ['https://psglabels.com/', 'https://iglabel.com/', 'http://ilslabels.com']\n",
      "site_url_close[0] https://psglabels.com/\n",
      "ii 1033 self.companies[ii] Prairie State Group\n",
      "out1 true iout1 837 url https://psglabels.com/\n",
      "companies[0] Corporate Document Solutions this url https://psglabels.com/\n"
     ]
    },
    {
     "name": "stderr",
     "output_type": "stream",
     "text": [
      "2021-11-30 16:45:40 [scrapy.core.engine] DEBUG: Crawled (200) <GET https://ocdm.com/> (referer: None)\n"
     ]
    },
    {
     "name": "stdout",
     "output_type": "stream",
     "text": [
      "site_url https://www.neuralog.com/ site_url_close ['https://www.neuralog.com/', 'https://www.ndeg.com/', 'https://www.emeraldcg.com/']\n",
      "site_url_close[0] https://www.neuralog.com/\n",
      "ii 1038 self.companies[ii] Neuralog\n",
      "out1 true iout1 838 url https://www.neuralog.com/\n",
      "companies[0] Scantech Graphics this url https://www.neuralog.com/\n"
     ]
    },
    {
     "name": "stderr",
     "output_type": "stream",
     "text": [
      "2021-11-30 16:45:41 [scrapy.core.scraper] DEBUG: Scraped from <200 https://ocdm.com/>\n",
      "{'Organization': 'Orange County Direct Marketing',\n",
      " 'fulltext': 'OCDM is a full-service direct mail marketing company, offers a one-stop shop and can deliver a full-service direct mail marketing experience. They do database management, offset and digital printing, variable data printing, lettershop services, fulfillment services using the latest printing equipment and technology. They have access to a comprehensive mailing list to reall all demographics through EDDM strategies.',\n",
      " 'searchterm': 'digital printing',\n",
      " 'url': 'https://ocdm.com/'}\n",
      "2021-11-30 16:45:41 [scrapy.core.engine] DEBUG: Crawled (200) <GET https://www.mkmjewelry.com/> (referer: None)\n"
     ]
    },
    {
     "name": "stdout",
     "output_type": "stream",
     "text": [
      "site_url https://ocdm.com/ site_url_close ['https://ocdm.com/', 'https://ocip.com/', 'https://qtods.com/']\n",
      "site_url_close[0] https://ocdm.com/\n",
      "ii 1036 self.companies[ii] Orange County Direct Marketing\n",
      "yielding item digital printing\n",
      "out1 true iout1 839 url https://ocdm.com/\n",
      "companies[0] AM Solutions this url https://ocdm.com/\n"
     ]
    },
    {
     "name": "stderr",
     "output_type": "stream",
     "text": [
      "2021-11-30 16:45:42 [scrapy.downloadermiddlewares.redirect] DEBUG: Redirecting (301) to <GET http://www.sourceot.com/> from <GET https://sourceot.com/>\n",
      "2021-11-30 16:45:42 [scrapy.downloadermiddlewares.redirect] DEBUG: Redirecting (301) to <GET https://www.takasic.com/> from <GET http://www.takasic.com/>\n",
      "2021-11-30 16:45:42 [scrapy.downloadermiddlewares.redirect] DEBUG: Redirecting (301) to <GET https://www.qls.com/> from <GET http://www.qls.com/>\n",
      "2021-11-30 16:45:42 [scrapy.downloadermiddlewares.redirect] DEBUG: Redirecting (301) to <GET https://www.unicep.com/> from <GET http://unicep.com>\n"
     ]
    },
    {
     "name": "stdout",
     "output_type": "stream",
     "text": [
      "site_url https://www.mkmjewelry.com/ site_url_close ['http://www.mkmjewelry.com/', 'https://www.ewizer.com/', 'https://www.kepner.com']\n",
      "site_url_close[0] http://www.mkmjewelry.com/\n",
      "ii 1026 self.companies[ii] MKM Jewelry\n",
      "out1 true iout1 840 url https://www.mkmjewelry.com/\n",
      "companies[0] Gazette Printers this url https://www.mkmjewelry.com/\n"
     ]
    },
    {
     "name": "stderr",
     "output_type": "stream",
     "text": [
      "2021-11-30 16:45:42 [scrapy.downloadermiddlewares.redirect] DEBUG: Redirecting (301) to <GET http://www.sicam.com/> from <GET http://sicam.com>\n",
      "2021-11-30 16:45:42 [scrapy.downloadermiddlewares.redirect] DEBUG: Redirecting (301) to <GET https://www.demmelearning.com/> from <GET http://www.demmelearning.com>\n",
      "2021-11-30 16:45:42 [scrapy.core.engine] DEBUG: Crawled (200) <GET https://laserresources.com> (referer: None)\n",
      "2021-11-30 16:45:42 [scrapy.core.engine] DEBUG: Crawled (200) <GET https://currentofficesolutions.com/> (referer: None)\n"
     ]
    },
    {
     "name": "stdout",
     "output_type": "stream",
     "text": [
      "site_url https://laserresources.com site_url_close ['https://laserresources.com', 'https://laserexcel.com', 'https://adresourcesinc.com/']\n",
      "site_url_close[0] https://laserresources.com\n",
      "ii 1047 self.companies[ii] Laser Resources\n",
      "out1 true iout1 841 url https://laserresources.com\n",
      "companies[0] Personal Touch Mailing Service this url https://laserresources.com\n"
     ]
    },
    {
     "name": "stderr",
     "output_type": "stream",
     "text": [
      "2021-11-30 16:45:43 [scrapy.downloadermiddlewares.redirect] DEBUG: Redirecting (301) to <GET https://www.metlflo.com/> from <GET http://www.metlflo.com/>\n",
      "2021-11-30 16:45:43 [scrapy.core.downloader.tls] WARNING: Remote certificate is not valid for hostname \"www.guidebookpublishing.com\"; VerificationError(errors=[DNSMismatch(mismatched_id=DNS_ID(hostname=b'www.guidebookpublishing.com'))])\n"
     ]
    },
    {
     "name": "stdout",
     "output_type": "stream",
     "text": [
      "site_url https://currentofficesolutions.com/ site_url_close ['https://currentofficesolutions.com/', 'https://sunprintsolutions.com/', 'https://cincyprintsolutions.com/']\n",
      "site_url_close[0] https://currentofficesolutions.com/\n",
      "ii 1048 self.companies[ii] Current Office Solutions\n",
      "out1 true iout1 842 url https://currentofficesolutions.com/\n",
      "companies[0] IAS Corp. this url https://currentofficesolutions.com/\n"
     ]
    },
    {
     "name": "stderr",
     "output_type": "stream",
     "text": [
      "2021-11-30 16:45:44 [scrapy.core.engine] DEBUG: Crawled (200) <GET http://naso.com> (referer: None)\n",
      "2021-11-30 16:45:44 [scrapy.downloadermiddlewares.redirect] DEBUG: Redirecting (301) to <GET https://guidebookpublishing.com/> from <GET https://www.guidebookpublishing.com>\n",
      "2021-11-30 16:45:44 [scrapy.downloadermiddlewares.redirect] DEBUG: Redirecting (301) to <GET https://superiorpackagingandfinishing.com/> from <GET https://www.superiorpackagingandfinishing.com>\n"
     ]
    },
    {
     "name": "stdout",
     "output_type": "stream",
     "text": [
      "site_url http://naso.com site_url_close ['http://naso.com', 'http://zinus.com', 'http://ncore.com']\n",
      "site_url_close[0] http://naso.com\n",
      "ii 1045 self.companies[ii] Naso Corporation\n",
      "out1 true iout1 843 url http://naso.com\n",
      "companies[0] Square One this url http://naso.com\n"
     ]
    },
    {
     "name": "stderr",
     "output_type": "stream",
     "text": [
      "2021-11-30 16:45:45 [scrapy.core.engine] DEBUG: Crawled (200) <GET https://www.adamsgolf.com/AGTL/6.0000/Index.dtm?otsid=25237> (referer: None)\n",
      "2021-11-30 16:45:45 [scrapy.downloadermiddlewares.redirect] DEBUG: Redirecting (301) to <GET https://americasprinter.com:443/> from <GET https://www.americasprinter.com>\n"
     ]
    },
    {
     "name": "stdout",
     "output_type": "stream",
     "text": [
      "site_url https://www.adamsgolf.com/AGTL/6.0000/Index.dtm?otsid=25237 site_url_close ['https://www.qal.com/index.html', 'http://www.adamsgolf.com', 'https://www.ubcgroup.com/index.html#']\n",
      "site_url_close[0] https://www.qal.com/index.html\n",
      "ii 1439 self.companies[ii] Quality Assured Enterprises\n",
      "out1 true iout1 844 url https://www.adamsgolf.com/AGTL/6.0000/Index.dtm?otsid=25237\n",
      "companies[0] U.S. Business Systems this url https://www.adamsgolf.com/AGTL/6.0000/Index.dtm?otsid=25237\n"
     ]
    },
    {
     "name": "stderr",
     "output_type": "stream",
     "text": [
      "2021-11-30 16:45:46 [scrapy.downloadermiddlewares.retry] ERROR: Gave up retrying <GET https://www.orthgraphics.com/> (failed 3 times): TCP connection timed out: 10060: A connection attempt failed because the connected party did not properly respond after a period of time, or established connection failed because connected host has failed to respond..\n",
      "2021-11-30 16:45:46 [scrapy.downloadermiddlewares.retry] DEBUG: Retrying <GET http://www.parker.com/portal/site/PARKER/menuitem.223a4a3cce02eb6315731910237ad1ca/?vgnextoid=29e9000b2875e210VgnVCM10000048021dacRCRD&vgnextfmt=EN> (failed 1 times): User timeout caused connection failure: Getting http://www.parker.com/portal/site/PARKER/menuitem.223a4a3cce02eb6315731910237ad1ca/?vgnextoid=29e9000b2875e210VgnVCM10000048021dacRCRD&vgnextfmt=EN took longer than 180.0 seconds..\n",
      "2021-11-30 16:45:46 [scrapy.core.scraper] ERROR: Error downloading <GET https://www.orthgraphics.com/>\n",
      "Traceback (most recent call last):\n",
      "  File \"C:\\Users\\MStopa\\AppData\\Local\\Continuum\\anaconda3\\envs\\webscrape\\lib\\site-packages\\scrapy\\core\\downloader\\middleware.py\", line 44, in process_request\n",
      "    return (yield download_func(request=request, spider=spider))\n",
      "twisted.internet.error.TCPTimedOutError: TCP connection timed out: 10060: A connection attempt failed because the connected party did not properly respond after a period of time, or established connection failed because connected host has failed to respond..\n",
      "2021-11-30 16:45:46 [scrapy.downloadermiddlewares.redirect] DEBUG: Redirecting (301) to <GET https://demmelearning.com/> from <GET https://www.demmelearning.com/>\n",
      "2021-11-30 16:45:46 [scrapy.downloadermiddlewares.redirect] DEBUG: Redirecting (301) to <GET https://www.docunetworks.com/> from <GET http://www.docunetworks.com>\n",
      "2021-11-30 16:45:46 [scrapy.core.engine] DEBUG: Crawled (200) <GET https://www.takasic.com/> (referer: None)\n",
      "2021-11-30 16:45:46 [scrapy.core.engine] DEBUG: Crawled (200) <GET https://tbsit360.com> (referer: None)\n",
      "2021-11-30 16:45:47 [scrapy.core.engine] DEBUG: Crawled (200) <GET https://www.textcontrol.com/> (referer: None)\n"
     ]
    },
    {
     "name": "stdout",
     "output_type": "stream",
     "text": [
      "site_url https://www.takasic.com/ site_url_close ['http://www.takasic.com/', 'https://www.iksinc.com/', 'https://www.tginc.com/']\n",
      "site_url_close[0] http://www.takasic.com/\n",
      "ii 1041 self.companies[ii] Tak Imaging\n",
      "out1 true iout1 845 url https://www.takasic.com/\n",
      "companies[0] ACM Productions this url https://www.takasic.com/\n"
     ]
    },
    {
     "name": "stderr",
     "output_type": "stream",
     "text": [
      "2021-11-30 16:45:47 [scrapy.downloadermiddlewares.redirect] DEBUG: Redirecting (301) to <GET https://www.iwantmytvmagazine.com/> from <GET http://www.iwantmytvmagazine.com/>\n"
     ]
    },
    {
     "name": "stdout",
     "output_type": "stream",
     "text": [
      "site_url https://tbsit360.com site_url_close ['https://tbsit360.com', 'https://absit.com/', 'https://tsidm.com']\n",
      "site_url_close[0] https://tbsit360.com\n",
      "ii 1053 self.companies[ii] Today's Business Solutions\n",
      "out1 true iout1 846 url https://tbsit360.com\n",
      "companies[0] CGS Premier this url https://tbsit360.com\n"
     ]
    },
    {
     "name": "stderr",
     "output_type": "stream",
     "text": [
      "2021-11-30 16:45:48 [scrapy.downloadermiddlewares.redirect] DEBUG: Redirecting (301) to <GET https://www.apagoinc.com/> from <GET http://www.apagoinc.com>\n"
     ]
    },
    {
     "name": "stdout",
     "output_type": "stream",
     "text": [
      "site_url https://www.textcontrol.com/ site_url_close ['http://www.textcontrol.com', 'https://www.thetintpros.com/', 'https://www.xcentricmold.com/']\n",
      "site_url_close[0] http://www.textcontrol.com\n",
      "ii 1035 self.companies[ii] Text Control\n",
      "out1 true iout1 847 url https://www.textcontrol.com/\n",
      "companies[0] DIRECT RESULTS this url https://www.textcontrol.com/\n"
     ]
    },
    {
     "name": "stderr",
     "output_type": "stream",
     "text": [
      "2021-11-30 16:45:48 [scrapy.core.engine] DEBUG: Crawled (200) <GET https://www.metlflo.com/> (referer: None)\n",
      "2021-11-30 16:45:48 [scrapy.core.engine] DEBUG: Crawled (200) <GET https://guidebookpublishing.com/> (referer: None)\n",
      "2021-11-30 16:45:48 [scrapy.core.engine] DEBUG: Crawled (200) <GET https://www.byoglogo.com> (referer: None)\n",
      "2021-11-30 16:45:49 [scrapy.core.scraper] ERROR: Spider error processing <GET https://www.metlflo.com/> (referer: None)\n",
      "Traceback (most recent call last):\n",
      "  File \"C:\\Users\\MStopa\\AppData\\Local\\Continuum\\anaconda3\\envs\\webscrape\\lib\\site-packages\\scrapy\\utils\\defer.py\", line 120, in iter_errback\n",
      "    yield next(it)\n",
      "  File \"C:\\Users\\MStopa\\AppData\\Local\\Continuum\\anaconda3\\envs\\webscrape\\lib\\site-packages\\scrapy\\utils\\python.py\", line 346, in __next__\n",
      "    return next(self.data)\n",
      "  File \"C:\\Users\\MStopa\\AppData\\Local\\Continuum\\anaconda3\\envs\\webscrape\\lib\\site-packages\\scrapy\\utils\\python.py\", line 346, in __next__\n",
      "    return next(self.data)\n",
      "  File \"C:\\Users\\MStopa\\AppData\\Local\\Continuum\\anaconda3\\envs\\webscrape\\lib\\site-packages\\scrapy\\core\\spidermw.py\", line 64, in _evaluate_iterable\n",
      "    for r in iterable:\n",
      "  File \"C:\\Users\\MStopa\\AppData\\Local\\Continuum\\anaconda3\\envs\\webscrape\\lib\\site-packages\\scrapy\\spidermiddlewares\\offsite.py\", line 29, in process_spider_output\n",
      "    for x in result:\n",
      "  File \"C:\\Users\\MStopa\\AppData\\Local\\Continuum\\anaconda3\\envs\\webscrape\\lib\\site-packages\\scrapy\\core\\spidermw.py\", line 64, in _evaluate_iterable\n",
      "    for r in iterable:\n",
      "  File \"C:\\Users\\MStopa\\AppData\\Local\\Continuum\\anaconda3\\envs\\webscrape\\lib\\site-packages\\scrapy\\spidermiddlewares\\referer.py\", line 340, in <genexpr>\n",
      "    return (_set_referer(r) for r in result or ())\n",
      "  File \"C:\\Users\\MStopa\\AppData\\Local\\Continuum\\anaconda3\\envs\\webscrape\\lib\\site-packages\\scrapy\\core\\spidermw.py\", line 64, in _evaluate_iterable\n",
      "    for r in iterable:\n",
      "  File \"C:\\Users\\MStopa\\AppData\\Local\\Continuum\\anaconda3\\envs\\webscrape\\lib\\site-packages\\scrapy\\spidermiddlewares\\urllength.py\", line 37, in <genexpr>\n",
      "    return (r for r in result or () if _filter(r))\n",
      "  File \"C:\\Users\\MStopa\\AppData\\Local\\Continuum\\anaconda3\\envs\\webscrape\\lib\\site-packages\\scrapy\\core\\spidermw.py\", line 64, in _evaluate_iterable\n",
      "    for r in iterable:\n",
      "  File \"C:\\Users\\MStopa\\AppData\\Local\\Continuum\\anaconda3\\envs\\webscrape\\lib\\site-packages\\scrapy\\spidermiddlewares\\depth.py\", line 58, in <genexpr>\n",
      "    return (r for r in result or () if _filter(r))\n",
      "  File \"C:\\Users\\MStopa\\AppData\\Local\\Continuum\\anaconda3\\envs\\webscrape\\lib\\site-packages\\scrapy\\core\\spidermw.py\", line 64, in _evaluate_iterable\n",
      "    for r in iterable:\n",
      "  File \"<ipython-input-9-10a30e00531c>\", line 132, in parse\n",
      "    file1.write(out2 + '\\n')\n",
      "  File \"C:\\Users\\MStopa\\AppData\\Local\\Continuum\\anaconda3\\envs\\webscrape\\lib\\encodings\\cp1252.py\", line 19, in encode\n",
      "    return codecs.charmap_encode(input,self.errors,encoding_table)[0]\n",
      "UnicodeEncodeError: 'charmap' codec can't encode characters in position 572-573: character maps to <undefined>\n",
      "2021-11-30 16:45:49 [scrapy.core.engine] DEBUG: Crawled (200) <GET https://jvis.us/> (referer: None)\n",
      "2021-11-30 16:45:49 [scrapy.core.engine] DEBUG: Crawled (200) <GET https://www.unicep.com/> (referer: None)\n"
     ]
    },
    {
     "name": "stdout",
     "output_type": "stream",
     "text": [
      "site_url https://www.metlflo.com/ site_url_close ['http://www.metlflo.com/', 'https://www.cetcolor.com/', 'https://www.vomela.com/']\n",
      "site_url_close[0] http://www.metlflo.com/\n",
      "ii 1046 self.companies[ii] Met-L-Flo\n",
      "out1 true iout1 848 url https://www.metlflo.com/\n",
      "site_url https://guidebookpublishing.com/ site_url_close ['https://www.guidebookpublishing.com', 'https://bookstandpublishing.com', 'https://tuttlepublishing.com/']\n",
      "site_url_close[0] https://www.guidebookpublishing.com\n",
      "ii 1051 self.companies[ii] Guide Book Publishing\n",
      "out1 true iout1 849 url https://guidebookpublishing.com/\n",
      "companies[0] CR+A Custom this url https://guidebookpublishing.com/\n"
     ]
    },
    {
     "name": "stderr",
     "output_type": "stream",
     "text": [
      "2021-11-30 16:45:50 [scrapy.core.scraper] DEBUG: Scraped from <200 https://www.byoglogo.com>\n",
      "{'Organization': 'BYOG Build Your Own Garment',\n",
      " 'fulltext': 'THE TOP CHOICE FOR CUSTOM APPAREL, ACCESSORIES AND PROMOTIONAL PRODUCTS. Our state of the art in-house production facility and 25+ years of expert experience in screen printing, embroidery, and graphic design & branding ensures that we provide you the highest quality results with superior order processing, reliable customer service, and exceptional turnaround time. Build your own garment online with our easy to use design studio or create a group order GO store to make group purchases easy.',\n",
      " 'searchterm': 'screen printing',\n",
      " 'url': 'https://www.byoglogo.com'}\n",
      "2021-11-30 16:45:50 [scrapy.core.scraper] ERROR: Spider error processing <GET https://www.byoglogo.com> (referer: None)\n",
      "Traceback (most recent call last):\n",
      "  File \"C:\\Users\\MStopa\\AppData\\Local\\Continuum\\anaconda3\\envs\\webscrape\\lib\\site-packages\\scrapy\\utils\\defer.py\", line 120, in iter_errback\n",
      "    yield next(it)\n",
      "  File \"C:\\Users\\MStopa\\AppData\\Local\\Continuum\\anaconda3\\envs\\webscrape\\lib\\site-packages\\scrapy\\utils\\python.py\", line 346, in __next__\n",
      "    return next(self.data)\n",
      "  File \"C:\\Users\\MStopa\\AppData\\Local\\Continuum\\anaconda3\\envs\\webscrape\\lib\\site-packages\\scrapy\\utils\\python.py\", line 346, in __next__\n",
      "    return next(self.data)\n",
      "  File \"C:\\Users\\MStopa\\AppData\\Local\\Continuum\\anaconda3\\envs\\webscrape\\lib\\site-packages\\scrapy\\core\\spidermw.py\", line 64, in _evaluate_iterable\n",
      "    for r in iterable:\n",
      "  File \"C:\\Users\\MStopa\\AppData\\Local\\Continuum\\anaconda3\\envs\\webscrape\\lib\\site-packages\\scrapy\\spidermiddlewares\\offsite.py\", line 29, in process_spider_output\n",
      "    for x in result:\n",
      "  File \"C:\\Users\\MStopa\\AppData\\Local\\Continuum\\anaconda3\\envs\\webscrape\\lib\\site-packages\\scrapy\\core\\spidermw.py\", line 64, in _evaluate_iterable\n",
      "    for r in iterable:\n",
      "  File \"C:\\Users\\MStopa\\AppData\\Local\\Continuum\\anaconda3\\envs\\webscrape\\lib\\site-packages\\scrapy\\spidermiddlewares\\referer.py\", line 340, in <genexpr>\n",
      "    return (_set_referer(r) for r in result or ())\n",
      "  File \"C:\\Users\\MStopa\\AppData\\Local\\Continuum\\anaconda3\\envs\\webscrape\\lib\\site-packages\\scrapy\\core\\spidermw.py\", line 64, in _evaluate_iterable\n",
      "    for r in iterable:\n",
      "  File \"C:\\Users\\MStopa\\AppData\\Local\\Continuum\\anaconda3\\envs\\webscrape\\lib\\site-packages\\scrapy\\spidermiddlewares\\urllength.py\", line 37, in <genexpr>\n",
      "    return (r for r in result or () if _filter(r))\n",
      "  File \"C:\\Users\\MStopa\\AppData\\Local\\Continuum\\anaconda3\\envs\\webscrape\\lib\\site-packages\\scrapy\\core\\spidermw.py\", line 64, in _evaluate_iterable\n",
      "    for r in iterable:\n",
      "  File \"C:\\Users\\MStopa\\AppData\\Local\\Continuum\\anaconda3\\envs\\webscrape\\lib\\site-packages\\scrapy\\spidermiddlewares\\depth.py\", line 58, in <genexpr>\n",
      "    return (r for r in result or () if _filter(r))\n",
      "  File \"C:\\Users\\MStopa\\AppData\\Local\\Continuum\\anaconda3\\envs\\webscrape\\lib\\site-packages\\scrapy\\core\\spidermw.py\", line 64, in _evaluate_iterable\n",
      "    for r in iterable:\n",
      "  File \"<ipython-input-9-10a30e00531c>\", line 132, in parse\n",
      "    file1.write(out2 + '\\n')\n",
      "  File \"C:\\Users\\MStopa\\AppData\\Local\\Continuum\\anaconda3\\envs\\webscrape\\lib\\encodings\\cp1252.py\", line 19, in encode\n",
      "    return codecs.charmap_encode(input,self.errors,encoding_table)[0]\n",
      "UnicodeEncodeError: 'charmap' codec can't encode character '\\U0001f642' in position 8188: character maps to <undefined>\n"
     ]
    },
    {
     "name": "stdout",
     "output_type": "stream",
     "text": [
      "site_url https://www.byoglogo.com site_url_close ['https://www.byoglogo.com', 'https://www.logicopy.com', 'https://www.boring.com']\n",
      "site_url_close[0] https://www.byoglogo.com\n",
      "ii 1057 self.companies[ii] BYOG Build Your Own Garment\n",
      "yielding item screen printing\n",
      "out1 true iout1 850 url https://www.byoglogo.com\n",
      "site_url https://jvis.us/ site_url_close ['http://bpsg.us/', 'https://vgvisuals.com/', 'https://dmsink.us']\n",
      "site_url_close[0] http://bpsg.us/\n",
      "ii 3488 self.companies[ii] Biltmore Pressorporated\n",
      "out1 true iout1 851 url https://jvis.us/\n",
      "companies[0] Focus Custom Sourcing Solutions this url https://jvis.us/\n"
     ]
    },
    {
     "name": "stderr",
     "output_type": "stream",
     "text": [
      "2021-11-30 16:45:51 [scrapy.core.engine] DEBUG: Crawled (403) <GET http://www.mgsiscan.com> (referer: None)\n",
      "2021-11-30 16:45:51 [scrapy.core.downloader.tls] WARNING: Remote certificate is not valid for hostname \"www.kolibriartstudio.com\"; VerificationError(errors=[DNSMismatch(mismatched_id=DNS_ID(hostname=b'www.kolibriartstudio.com'))])\n",
      "2021-11-30 16:45:51 [scrapy.downloadermiddlewares.redirect] DEBUG: Redirecting (301) to <GET https://qls.com/> from <GET https://www.qls.com/>\n",
      "2021-11-30 16:45:51 [scrapy.spidermiddlewares.httperror] INFO: Ignoring response <403 http://www.mgsiscan.com>: HTTP status code is not handled or not allowed\n"
     ]
    },
    {
     "name": "stdout",
     "output_type": "stream",
     "text": [
      "site_url https://www.unicep.com/ site_url_close ['https://www.pip.com/', 'https://www.knc.com/', 'https://www.kip.com/']\n",
      "site_url_close[0] https://www.pip.com/\n",
      "ii 2594 self.companies[ii] PIP\n",
      "out1 true iout1 852 url https://www.unicep.com/\n",
      "companies[0] Easton Associates this url https://www.unicep.com/\n"
     ]
    },
    {
     "name": "stderr",
     "output_type": "stream",
     "text": [
      "2021-11-30 16:45:51 [scrapy.downloadermiddlewares.redirect] DEBUG: Redirecting (301) to <GET https://www.sicam.com/> from <GET http://www.sicam.com/>\n",
      "2021-11-30 16:45:51 [scrapy.downloadermiddlewares.redirect] DEBUG: Redirecting (302) to <GET https://www.sourceot.com/> from <GET http://www.sourceot.com/>\n",
      "2021-11-30 16:45:51 [scrapy.core.engine] DEBUG: Crawled (200) <GET http://www.bradshawgroup.com> (referer: None)\n",
      "2021-11-30 16:45:51 [scrapy.core.engine] DEBUG: Crawled (200) <GET https://www.itwgraphics.com/> (referer: None)\n",
      "2021-11-30 16:45:52 [scrapy.core.engine] DEBUG: Crawled (200) <GET https://www.kolibriartstudio.com> (referer: None)\n",
      "2021-11-30 16:45:52 [scrapy.core.engine] DEBUG: Crawled (200) <GET https://www.docunetworks.com/> (referer: None)\n",
      "2021-11-30 16:45:52 [scrapy.core.engine] DEBUG: Crawled (200) <GET https://www.hixcorp.com/> (referer: None)\n"
     ]
    },
    {
     "name": "stdout",
     "output_type": "stream",
     "text": [
      "site_url http://www.bradshawgroup.com site_url_close ['http://www.bradshawgroup.com', 'http://www.redsharkgroup.com/', 'http://www.cordantgroup.com']\n",
      "site_url_close[0] http://www.bradshawgroup.com\n",
      "ii 1063 self.companies[ii] The Bradshaw Group\n",
      "out1 false iout2 103 url http://www.bradshawgroup.com\n",
      "companies[0] Greydon this url http://www.bradshawgroup.com\n"
     ]
    },
    {
     "name": "stderr",
     "output_type": "stream",
     "text": [
      "2021-11-30 16:45:52 [scrapy.core.engine] DEBUG: Crawled (200) <GET https://myfavoriteartplace.com> (referer: None)\n",
      "2021-11-30 16:45:52 [scrapy.core.engine] DEBUG: Crawled (200) <GET https://superiorpackagingandfinishing.com/> (referer: None)\n"
     ]
    },
    {
     "name": "stdout",
     "output_type": "stream",
     "text": [
      "site_url https://www.itwgraphics.com/ site_url_close ['https://www.itwgraphics.com/', 'https://www.lrtgraphics.com/', 'https://www.isggraphics.com/']\n",
      "site_url_close[0] https://www.itwgraphics.com/\n",
      "ii 1061 self.companies[ii] ITW Graphics\n",
      "out1 true iout1 853 url https://www.itwgraphics.com/\n",
      "companies[0] Nuhill Technologies this url https://www.itwgraphics.com/\n",
      "site_url https://www.kolibriartstudio.com site_url_close ['https://www.kolibriartstudio.com', 'https://www.artbeatstudios.com', 'http://www.barnstormstudio.com']\n",
      "site_url_close[0] https://www.kolibriartstudio.com\n",
      "ii 1060 self.companies[ii] Kolibri Art Studio\n",
      "out1 false iout2 104 url https://www.kolibriartstudio.com\n",
      "companies[0] Imaging Spectrum this url https://www.kolibriartstudio.com\n",
      "site_url https://www.docunetworks.com/ site_url_close ['http://www.docunetworks.com', 'http://www.dotworks.com', 'http://www.lpbnetworks.com/']\n",
      "site_url_close[0] http://www.docunetworks.com\n",
      "ii 1054 self.companies[ii] Docunet\n",
      "out1 true iout1 854 url https://www.docunetworks.com/\n",
      "companies[0] Impatto this url https://www.docunetworks.com/\n",
      "site_url https://www.hixcorp.com/ site_url_close ['https://www.hixcorp.com/', 'https://www.dittcorp.com/', 'https://www.pip.com/']\n",
      "site_url_close[0] https://www.hixcorp.com/\n",
      "ii 1062 self.companies[ii] HIX Corporation\n",
      "out1 true iout1 855 url https://www.hixcorp.com/\n",
      "companies[0] Pro Label this url https://www.hixcorp.com/\n",
      "site_url https://myfavoriteartplace.com site_url_close ['https://myfavoriteartplace.com', 'https://rightertrack.com/', 'http://filtertek.com']\n",
      "site_url_close[0] https://myfavoriteartplace.com\n",
      "ii 1058 self.companies[ii] My Favorite Art Place\n",
      "out1 true iout1 856 url https://myfavoriteartplace.com\n",
      "companies[0] NEMA ASSOCIATES this url https://myfavoriteartplace.com\n"
     ]
    },
    {
     "name": "stderr",
     "output_type": "stream",
     "text": [
      "2021-11-30 16:45:55 [scrapy.core.engine] DEBUG: Crawled (403) <GET https://www.scanningamerica.com> (referer: None)\n",
      "2021-11-30 16:45:55 [scrapy.spidermiddlewares.httperror] INFO: Ignoring response <403 https://www.scanningamerica.com>: HTTP status code is not handled or not allowed\n"
     ]
    },
    {
     "name": "stdout",
     "output_type": "stream",
     "text": [
      "site_url https://superiorpackagingandfinishing.com/ site_url_close ['https://www.superiorpackagingandfinishing.com', 'https://shipritepackaging.com/', 'https://inovarpackaging.com/']\n",
      "site_url_close[0] https://www.superiorpackagingandfinishing.com\n",
      "ii 1050 self.companies[ii] Superior Packaging and Finishing\n",
      "out1 true iout1 857 url https://superiorpackagingandfinishing.com/\n",
      "companies[0] PRO-COPY, INC. this url https://superiorpackagingandfinishing.com/\n"
     ]
    },
    {
     "name": "stderr",
     "output_type": "stream",
     "text": [
      "2021-11-30 16:45:55 [scrapy.downloadermiddlewares.redirect] DEBUG: Redirecting (301) to <GET http://www.scngprinting.com> from <GET http://freedomprinting.net/>\n",
      "2021-11-30 16:45:55 [scrapy.core.engine] DEBUG: Crawled (200) <GET https://www.sdicgm.com/> (referer: None)\n"
     ]
    }
   ],
   "source": [
    "outVar='outside_class'\n",
    "IMAGES_STORE='C://MStopa/WebScraping/images'\n",
    "items=[]\n",
    "process = CrawlerProcess({\n",
    "    'ITEM_PIPELINES':{'MyNewPipeline':2},\n",
    "    \"DOWNLOAD_DELAY\":8,\n",
    "    \"DOWNLOAD_MAXSIZE\":0\n",
    "})\n",
    "\n",
    "\n",
    "process.crawl(MySpider)\n",
    "# process.crawl(ImgSpider)\n",
    "process.start() # the script will block here until the crawling is finished\n",
    "\n",
    "for item in items:\n",
    "    print('item',item)"
   ]
  },
  {
   "cell_type": "code",
   "execution_count": null,
   "metadata": {},
   "outputs": [],
   "source": []
  },
  {
   "cell_type": "code",
   "execution_count": null,
   "metadata": {},
   "outputs": [],
   "source": []
  }
 ],
 "metadata": {
  "kernelspec": {
   "display_name": "Python 3",
   "language": "python",
   "name": "python3"
  },
  "language_info": {
   "codemirror_mode": {
    "name": "ipython",
    "version": 3
   },
   "file_extension": ".py",
   "mimetype": "text/x-python",
   "name": "python",
   "nbconvert_exporter": "python",
   "pygments_lexer": "ipython3",
   "version": "3.6.10"
  }
 },
 "nbformat": 4,
 "nbformat_minor": 4
}
